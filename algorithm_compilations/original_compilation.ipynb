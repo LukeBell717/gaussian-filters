{
 "cells": [
  {
   "cell_type": "code",
   "execution_count": 6,
   "id": "f8b786b0-35ea-48ed-8b05-52ebde2023c8",
   "metadata": {},
   "outputs": [],
   "source": [
    "from qutip import *\n",
    "import numpy as np"
   ]
  },
  {
   "cell_type": "code",
   "execution_count": 20,
   "id": "f2a60c1b-8121-4ca2-a451-131ec43d6999",
   "metadata": {},
   "outputs": [],
   "source": [
    "cutoff = 20\n",
    "\n",
    "a = destroy(cutoff)\n",
    "I2 = identity(2)\n",
    "Ib = identity(cutoff)\n",
    "\n",
    "def BS(theta,phi):\n",
    "    term = tensor([a.dag(),identity(2),a,identity(2)])\n",
    "    phase = np.exp(1j*phi)\n",
    "    return (-1j*(theta/2)*(phase*term + np.conj(phase)*term.dag())).expm()\n",
    "\n",
    "def D(alpha):\n",
    "    return (alpha*a.dag() - np.conj(alpha)*a).expm()\n",
    "\n",
    "def Dc(alpha, beta):\n",
    "    return tensor(D(alpha), basis(2,0)*basis(2,0).dag()) + tensor(D(beta), basis(2,1)*basis(2,1).dag())\n",
    "    \n",
    "def CP():\n",
    "    return (-1j*(np.pi/2)*tensor(a.dag()*a,sigmaz())).expm()\n",
    "\n",
    "def DCX(alpha):\n",
    "    return tensor(alpha*a.dag() - np.conj(alpha)*a, (I2 - sigmax())/2).expm()\n",
    "\n",
    "def DCZ(alpha):\n",
    "    return tensor(alpha*a.dag() - np.conj(alpha)*a, (I2 - sigmaz())/2).expm()\n",
    "    "
   ]
  },
  {
   "cell_type": "code",
   "execution_count": 24,
   "id": "6997c677",
   "metadata": {},
   "outputs": [
    {
     "data": {
      "text/plain": [
       "True"
      ]
     },
     "execution_count": 24,
     "metadata": {},
     "output_type": "execute_result"
    }
   ],
   "source": [
    "DCZ(α) == Dc(0, α)"
   ]
  },
  {
   "cell_type": "code",
   "execution_count": 21,
   "id": "d333c56f-a37f-4764-ac81-d348003bef5c",
   "metadata": {},
   "outputs": [
    {
     "data": {
      "text/plain": [
       "True"
      ]
     },
     "execution_count": 21,
     "metadata": {},
     "output_type": "execute_result"
    }
   ],
   "source": [
    "### ZZ gate\n",
    "\n",
    "theta = np.random.rand()\n",
    "alpha = np.sqrt(theta/4)\n",
    "U1 = tensor(Dc(-alpha,alpha),I2)\n",
    "U2 = tensor(Dc(1j*alpha,-1j*alpha),I2).permute([0,2,1])\n",
    "\n",
    "U = U2.dag()*U1.dag()*U2*U1\n",
    "\n",
    "P = tensor(basis(cutoff,0).dag(),I2,I2)\n",
    "P*U*P.dag() == (-1j*theta*tensor(sigmaz(),sigmaz())/2).expm()"
   ]
  },
  {
   "cell_type": "code",
   "execution_count": 25,
   "id": "ccbbd699-a90e-40cb-b40e-8cced69b5369",
   "metadata": {},
   "outputs": [],
   "source": [
    "### CNOT\n",
    "alpha = np.sqrt(np.pi/2)\n",
    "U1 = tensor([DCZ(alpha),I2])\n",
    "U2 = tensor([DCX(1j*alpha),I2]).permute([0,2,1])\n",
    "\n",
    "U = (U2.dag()*U1.dag()*U2*U1)"
   ]
  },
  {
   "cell_type": "code",
   "execution_count": 26,
   "id": "6c4dd9b6-890d-4993-932f-23ef3451f519",
   "metadata": {},
   "outputs": [
    {
     "data": {
      "text/latex": [
       "Quantum object: dims = [[2, 2], [2, 2]], shape = (4, 4), type = oper, isherm = False $ \\\\ \\left(\\begin{matrix}1.0 & 0.0 & 0.0 & 0.0\\\\0.0 & 1.000 & 0.0 & 0.0\\\\0.0 & 0.0 & (2.285\\times10^{-11}+8.341\\times10^{-11}j) & (1.000-8.341\\times10^{-11}j)\\\\0.0 & 0.0 & (1.000-8.341\\times10^{-11}j) & (2.285\\times10^{-11}+8.341\\times10^{-11}j)\\\\\\end{matrix}\\right)$"
      ],
      "text/plain": [
       "Quantum object: dims = [[2, 2], [2, 2]], shape = (4, 4), type = oper, isherm = False\n",
       "Qobj data =\n",
       "[[1.00000000e+00+0.00000000e+00j 0.00000000e+00+0.00000000e+00j\n",
       "  0.00000000e+00+0.00000000e+00j 0.00000000e+00+0.00000000e+00j]\n",
       " [0.00000000e+00+0.00000000e+00j 1.00000000e+00+0.00000000e+00j\n",
       "  0.00000000e+00+0.00000000e+00j 0.00000000e+00+0.00000000e+00j]\n",
       " [0.00000000e+00+0.00000000e+00j 0.00000000e+00+0.00000000e+00j\n",
       "  2.28456259e-11+8.34121713e-11j 1.00000000e+00-8.34120941e-11j]\n",
       " [0.00000000e+00+0.00000000e+00j 0.00000000e+00+0.00000000e+00j\n",
       "  1.00000000e+00-8.34121242e-11j 2.28454823e-11+8.34121092e-11j]]"
      ]
     },
     "execution_count": 26,
     "metadata": {},
     "output_type": "execute_result"
    }
   ],
   "source": [
    "P = tensor(basis(cutoff,0).dag(),I2,I2)\n",
    "P*U*P.dag()"
   ]
  },
  {
   "cell_type": "code",
   "execution_count": 11,
   "id": "1b479728-1d81-45f5-954d-61d7812a194b",
   "metadata": {},
   "outputs": [],
   "source": [
    "### Toffoli\n",
    "alpha = np.sqrt(np.pi/2)\n",
    "cp = tensor(CP(),I2).permute([0,2,1])\n",
    "d1 = tensor([Dc(0,-1j*alpha/2),I2])\n",
    "d2 = tensor([Dc(0,alpha/2),I2])\n",
    "\n",
    "U12 = tensor([d2*cp*d1*cp.dag(),I2])\n",
    "\n",
    "U3 = tensor([DCX(1j*alpha),I2,I2]).permute([0,3,2,1])\n",
    "\n",
    "Utoff = U3.dag()*U12.dag()*U3*U12"
   ]
  },
  {
   "cell_type": "code",
   "execution_count": 12,
   "id": "84afadfe-4a75-42ff-8fab-7f1a3cb86678",
   "metadata": {},
   "outputs": [
    {
     "data": {
      "text/latex": [
       "Quantum object: dims = [[2, 2, 2], [2, 2, 2]], shape = (8, 8), type = oper, isherm = False $ \\\\ \\left(\\begin{matrix}1.0 & 0.0 & 0.0 & 0.0 & 0.0 & 0.0 & 0.0 & 0.0\\\\0.0 & 1.0 & 0.0 & 0.0 & 0.0 & 0.0 & 0.0 & 0.0\\\\0.0 & 0.0 & 1.0 & 0.0 & 0.0 & 0.0 & 0.0 & 0.0\\\\0.0 & 0.0 & 0.0 & 1.0 & 0.0 & 0.0 & 0.0 & 0.0\\\\0.0 & 0.0 & 0.0 & 0.0 & 1.0 & 0.0 & 0.0 & 0.0\\\\0.0 & 0.0 & 0.0 & 0.0 & 0.0 & 1.0 & 0.0 & 0.0\\\\0.0 & 0.0 & 0.0 & 0.0 & 0.0 & 0.0 & (2.285\\times10^{-11}+8.341\\times10^{-11}j) & (1.000-8.341\\times10^{-11}j)\\\\0.0 & 0.0 & 0.0 & 0.0 & 0.0 & 0.0 & (1.000-8.341\\times10^{-11}j) & (2.285\\times10^{-11}+8.341\\times10^{-11}j)\\\\\\end{matrix}\\right)$"
      ],
      "text/plain": [
       "Quantum object: dims = [[2, 2, 2], [2, 2, 2]], shape = (8, 8), type = oper, isherm = False\n",
       "Qobj data =\n",
       "[[1.00000000e+00+0.00000000e+00j 0.00000000e+00+0.00000000e+00j\n",
       "  0.00000000e+00+0.00000000e+00j 0.00000000e+00+0.00000000e+00j\n",
       "  0.00000000e+00+0.00000000e+00j 0.00000000e+00+0.00000000e+00j\n",
       "  0.00000000e+00+0.00000000e+00j 0.00000000e+00+0.00000000e+00j]\n",
       " [0.00000000e+00+0.00000000e+00j 1.00000000e+00+0.00000000e+00j\n",
       "  0.00000000e+00+0.00000000e+00j 0.00000000e+00+0.00000000e+00j\n",
       "  0.00000000e+00+0.00000000e+00j 0.00000000e+00+0.00000000e+00j\n",
       "  0.00000000e+00+0.00000000e+00j 0.00000000e+00+0.00000000e+00j]\n",
       " [0.00000000e+00+0.00000000e+00j 0.00000000e+00+0.00000000e+00j\n",
       "  1.00000000e+00+0.00000000e+00j 0.00000000e+00+0.00000000e+00j\n",
       "  0.00000000e+00+0.00000000e+00j 0.00000000e+00+0.00000000e+00j\n",
       "  0.00000000e+00+0.00000000e+00j 0.00000000e+00+0.00000000e+00j]\n",
       " [0.00000000e+00+0.00000000e+00j 0.00000000e+00+0.00000000e+00j\n",
       "  0.00000000e+00+0.00000000e+00j 1.00000000e+00+0.00000000e+00j\n",
       "  0.00000000e+00+0.00000000e+00j 0.00000000e+00+0.00000000e+00j\n",
       "  0.00000000e+00+0.00000000e+00j 0.00000000e+00+0.00000000e+00j]\n",
       " [0.00000000e+00+0.00000000e+00j 0.00000000e+00+0.00000000e+00j\n",
       "  0.00000000e+00+0.00000000e+00j 0.00000000e+00+0.00000000e+00j\n",
       "  1.00000000e+00+0.00000000e+00j 0.00000000e+00+0.00000000e+00j\n",
       "  0.00000000e+00+0.00000000e+00j 0.00000000e+00+0.00000000e+00j]\n",
       " [0.00000000e+00+0.00000000e+00j 0.00000000e+00+0.00000000e+00j\n",
       "  0.00000000e+00+0.00000000e+00j 0.00000000e+00+0.00000000e+00j\n",
       "  0.00000000e+00+0.00000000e+00j 1.00000000e+00+0.00000000e+00j\n",
       "  0.00000000e+00+0.00000000e+00j 0.00000000e+00+0.00000000e+00j]\n",
       " [0.00000000e+00+0.00000000e+00j 0.00000000e+00+0.00000000e+00j\n",
       "  0.00000000e+00+0.00000000e+00j 0.00000000e+00+0.00000000e+00j\n",
       "  0.00000000e+00+0.00000000e+00j 0.00000000e+00+0.00000000e+00j\n",
       "  2.28457026e-11+8.34120973e-11j 1.00000000e+00-8.34120016e-11j]\n",
       " [0.00000000e+00+0.00000000e+00j 0.00000000e+00+0.00000000e+00j\n",
       "  0.00000000e+00+0.00000000e+00j 0.00000000e+00+0.00000000e+00j\n",
       "  0.00000000e+00+0.00000000e+00j 0.00000000e+00+0.00000000e+00j\n",
       "  1.00000000e+00-8.34120724e-11j 2.28455830e-11+8.34120543e-11j]]"
      ]
     },
     "execution_count": 12,
     "metadata": {},
     "output_type": "execute_result"
    }
   ],
   "source": [
    "P = tensor(basis(cutoff,0).dag(),I2,I2,I2)\n",
    "P*Utoff*P.dag()"
   ]
  },
  {
   "cell_type": "code",
   "execution_count": 13,
   "id": "10a03559-b2e6-4c0d-82c8-f6cda89197f3",
   "metadata": {},
   "outputs": [],
   "source": [
    "## ZZ parallel\n",
    "\n",
    "theta = np.random.rand()\n",
    "alpha = np.sqrt(theta/4)/np.sqrt(2)\n",
    "\n",
    "term1  = tensor(Dc(-alpha,alpha),Dc(-alpha,alpha))\n",
    "term2 = BS(np.pi,-np.pi/2).dag()*tensor(Dc(-1j*alpha,1j*alpha),Dc(1j*alpha,-1j*alpha))*BS(np.pi,-np.pi/2)\n",
    "\n",
    "# term1  = tensor([Dc(-alpha,alpha),Ib,I2])\n",
    "# term2 = BS(np.pi,-np.pi/2).dag()*tensor([Ib,I2,Dc(1j*alpha,-1j*alpha)])*BS(np.pi,-np.pi/2)\n",
    "\n",
    "U = term2.dag()*term1.dag()*term2*term1"
   ]
  },
  {
   "cell_type": "code",
   "execution_count": 14,
   "id": "e75b5e29-f7dd-44b8-910b-3b5adf5cd9f8",
   "metadata": {},
   "outputs": [
    {
     "data": {
      "text/latex": [
       "Quantum object: dims = [[2, 2], [2, 2]], shape = (4, 4), type = oper, isherm = False $ \\\\ \\left(\\begin{matrix}(0.881-0.473j) & 0.0 & 0.0 & 0.0\\\\0.0 & (0.881+0.473j) & 0.0 & 0.0\\\\0.0 & 0.0 & (0.881+0.473j) & 0.0\\\\0.0 & 0.0 & 0.0 & (0.881-0.473j)\\\\\\end{matrix}\\right)$"
      ],
      "text/plain": [
       "Quantum object: dims = [[2, 2], [2, 2]], shape = (4, 4), type = oper, isherm = False\n",
       "Qobj data =\n",
       "[[0.88126827-0.47261636j 0.        +0.j         0.        +0.j\n",
       "  0.        +0.j        ]\n",
       " [0.        +0.j         0.88126827+0.47261636j 0.        +0.j\n",
       "  0.        +0.j        ]\n",
       " [0.        +0.j         0.        +0.j         0.88126827+0.47261636j\n",
       "  0.        +0.j        ]\n",
       " [0.        +0.j         0.        +0.j         0.        +0.j\n",
       "  0.88126827-0.47261636j]]"
      ]
     },
     "execution_count": 14,
     "metadata": {},
     "output_type": "execute_result"
    }
   ],
   "source": [
    "P = tensor(basis(cutoff,0).dag(),I2,basis(cutoff,0).dag(),I2)\n",
    "P*U*P.dag()"
   ]
  },
  {
   "cell_type": "code",
   "execution_count": 15,
   "id": "42f0dfd5-850f-4536-b4dc-7ec9c32ddfc8",
   "metadata": {},
   "outputs": [
    {
     "data": {
      "text/plain": [
       "True"
      ]
     },
     "execution_count": 15,
     "metadata": {},
     "output_type": "execute_result"
    }
   ],
   "source": [
    "P*U*P.dag() == (-1j*theta*tensor(sigmaz(),sigmaz())/2).expm()"
   ]
  },
  {
   "cell_type": "code",
   "execution_count": 17,
   "id": "9a855f52-6a99-42c2-8935-b9c33d21c6e1",
   "metadata": {},
   "outputs": [
    {
     "data": {
      "text/latex": [
       "Quantum object: dims = [[2, 2], [2, 2]], shape = (4, 4), type = oper, isherm = True $ \\\\ \\left(\\begin{matrix}1.000 & 0.0 & 0.0 & 0.0\\\\0.0 & 1.000 & 0.0 & 0.0\\\\0.0 & 0.0 & 1.166\\times10^{-10} & 1.000\\\\0.0 & 0.0 & 1.000 & 1.166\\times10^{-10}\\\\\\end{matrix}\\right)$"
      ],
      "text/plain": [
       "Quantum object: dims = [[2, 2], [2, 2]], shape = (4, 4), type = oper, isherm = True\n",
       "Qobj data =\n",
       "[[1.00000000e+00 0.00000000e+00 0.00000000e+00 0.00000000e+00]\n",
       " [0.00000000e+00 1.00000000e+00 0.00000000e+00 0.00000000e+00]\n",
       " [0.00000000e+00 0.00000000e+00 1.16613996e-10 1.00000000e+00]\n",
       " [0.00000000e+00 0.00000000e+00 1.00000000e+00 1.16613996e-10]]"
      ]
     },
     "execution_count": 17,
     "metadata": {},
     "output_type": "execute_result"
    }
   ],
   "source": [
    "## CNOT parallel\n",
    "π = np.pi\n",
    "α = np.sqrt(π/4)#/np.sqrt(2)\n",
    "\n",
    "H = Qobj([[1,1],[1,-1]],dims=[[2],[2]])/np.sqrt(2)\n",
    "\n",
    "term1  = tensor(Dc(0,α),Dc(0,α))\n",
    "term2 = BS(π,π/2)*tensor(Dc(0,1j*α),Dc(0,-1j*α))*BS(π,-π/2)\n",
    "term3  = tensor(Dc(0,-α),Dc(0,-α))\n",
    "term4 = BS(π,π/2)*tensor(Dc(0,-1j*α),Dc(0,1j*α))*BS(π,-π/2)\n",
    "\n",
    "# α = np.sqrt(theta/2)\n",
    "# term1  = tensor([Dc(0,α),Ib,I2])\n",
    "# term2 = BS(π,π/2)*tensor([Ib,I2,Dc(0,-1j*α)])*BS(π,-π/2)\n",
    "# term3  = tensor([Dc(0,-α),Ib,I2])\n",
    "# term4 = BS(π,π/2)*tensor([Ib,I2,Dc(0,1j*α)])*BS(π,-π/2)\n",
    "\n",
    "# U = tensor(Ib,I2,Ib,H)*term2.dag()*term1.dag()*term2*term1*tensor(Ib,I2,Ib,H)\n",
    "U = tensor(Ib,I2,Ib,H)*term4*term3*term2*term1*tensor(Ib,I2,Ib,H)\n",
    "\n",
    "P = tensor(basis(cutoff,0),I2,basis(cutoff,0),I2)\n",
    "P.dag()*U*P"
   ]
  },
  {
   "cell_type": "code",
   "execution_count": null,
   "id": "76749864",
   "metadata": {},
   "outputs": [],
   "source": []
  },
  {
   "cell_type": "code",
   "execution_count": null,
   "id": "0c3b5da9",
   "metadata": {},
   "outputs": [],
   "source": []
  },
  {
   "cell_type": "code",
   "execution_count": 69,
   "id": "826d4933-a6db-48de-b2e2-eb94ad6775d3",
   "metadata": {},
   "outputs": [
    {
     "data": {
      "text/latex": [
       "Quantum object: dims = [[2, 2], [2, 2]], shape = (4, 4), type = oper, isherm = False $ \\\\ \\left(\\begin{matrix}1.0 & 0.0 & 0.0 & 0.0\\\\0.0 & 1.0 & 0.0 & 0.0\\\\0.0 & 0.0 & (0.500+0.500j) & (0.500-0.500j)\\\\0.0 & 0.0 & (0.500-0.500j) & (0.500+0.500j)\\\\\\end{matrix}\\right)$"
      ],
      "text/plain": [
       "Quantum object: dims = [[2, 2], [2, 2]], shape = (4, 4), type = oper, isherm = False\n",
       "Qobj data =\n",
       "[[1. +0.j  0. +0.j  0. +0.j  0. +0.j ]\n",
       " [0. +0.j  1. +0.j  0. +0.j  0. +0.j ]\n",
       " [0. +0.j  0. +0.j  0.5+0.5j 0.5-0.5j]\n",
       " [0. +0.j  0. +0.j  0.5-0.5j 0.5+0.5j]]"
      ]
     },
     "execution_count": 69,
     "metadata": {},
     "output_type": "execute_result"
    }
   ],
   "source": [
    "(1j*(np.pi/2)*tensor((I2-sigmaz())/2,(I2-sigmax())/2)).expm()\n"
   ]
  },
  {
   "cell_type": "code",
   "execution_count": 70,
   "id": "31ee42fd-031b-4127-918e-9dd959ff4939",
   "metadata": {},
   "outputs": [
    {
     "ename": "TypeError",
     "evalue": "Incompatible Qobj shapes",
     "output_type": "error",
     "traceback": [
      "\u001b[1;31m---------------------------------------------------------------------------\u001b[0m",
      "\u001b[1;31mTypeError\u001b[0m                                 Traceback (most recent call last)",
      "Input \u001b[1;32mIn [70]\u001b[0m, in \u001b[0;36m<cell line: 1>\u001b[1;34m()\u001b[0m\n\u001b[1;32m----> 1\u001b[0m \u001b[43mU\u001b[49m\u001b[38;5;241;43m.\u001b[39;49m\u001b[43mdag\u001b[49m\u001b[43m(\u001b[49m\u001b[43m)\u001b[49m\u001b[38;5;241;43m*\u001b[39;49m\u001b[43mtensor\u001b[49m\u001b[43m(\u001b[49m\u001b[43msigmax\u001b[49m\u001b[43m(\u001b[49m\u001b[43m)\u001b[49m\u001b[43m,\u001b[49m\u001b[43mI2\u001b[49m\u001b[43m)\u001b[49m\u001b[38;5;241m*\u001b[39mU\n",
      "File \u001b[1;32m~\\anaconda3\\lib\\site-packages\\qutip\\qobj.py:555\u001b[0m, in \u001b[0;36mQobj.__mul__\u001b[1;34m(self, other)\u001b[0m\n\u001b[0;32m    552\u001b[0m         \u001b[38;5;28;01mreturn\u001b[39;00m out\u001b[38;5;241m.\u001b[39mtidyup() \u001b[38;5;28;01mif\u001b[39;00m settings\u001b[38;5;241m.\u001b[39mauto_tidyup \u001b[38;5;28;01melse\u001b[39;00m out\n\u001b[0;32m    554\u001b[0m     \u001b[38;5;28;01melse\u001b[39;00m:\n\u001b[1;32m--> 555\u001b[0m         \u001b[38;5;28;01mraise\u001b[39;00m \u001b[38;5;167;01mTypeError\u001b[39;00m(\u001b[38;5;124m\"\u001b[39m\u001b[38;5;124mIncompatible Qobj shapes\u001b[39m\u001b[38;5;124m\"\u001b[39m)\n\u001b[0;32m    557\u001b[0m \u001b[38;5;28;01melif\u001b[39;00m \u001b[38;5;28misinstance\u001b[39m(other, np\u001b[38;5;241m.\u001b[39mndarray):\n\u001b[0;32m    558\u001b[0m     \u001b[38;5;28;01mif\u001b[39;00m other\u001b[38;5;241m.\u001b[39mdtype \u001b[38;5;241m==\u001b[39m \u001b[38;5;124m'\u001b[39m\u001b[38;5;124mobject\u001b[39m\u001b[38;5;124m'\u001b[39m:\n",
      "\u001b[1;31mTypeError\u001b[0m: Incompatible Qobj shapes"
     ]
    }
   ],
   "source": [
    "U.dag()*tensor(sigmax(),I2)*U"
   ]
  },
  {
   "cell_type": "code",
   "execution_count": null,
   "id": "0d475bb9-5287-4176-b48e-b7ea702a4950",
   "metadata": {},
   "outputs": [],
   "source": [
    "tensor(sigmax(),sigmax())"
   ]
  },
  {
   "cell_type": "code",
   "execution_count": null,
   "id": "41c63c07-225e-4696-8729-6f43620d8b0d",
   "metadata": {},
   "outputs": [],
   "source": [
    "BS(np.pi,-np.pi/2).dag() == BS(np.pi,np.pi/2)"
   ]
  },
  {
   "cell_type": "code",
   "execution_count": 71,
   "id": "48a41f6f-bc6d-4af0-a000-e1a3c8cfdaac",
   "metadata": {},
   "outputs": [],
   "source": [
    "## XX+ZZ parallel\n",
    "\n",
    "theta = np.pi/2\n",
    "alpha = np.sqrt(theta/4)/np.sqrt(2)\n",
    "\n",
    "H = Qobj([[1,1],[1,-1]],dims=[[2],[2]])/np.sqrt(2)\n",
    "\n",
    "term1  = tensor(Ib,I2,Ib,H)*tensor(Dc(-alpha,alpha),Dc(-alpha,alpha))*tensor(Ib,I2,Ib,H)\n",
    "term2 = tensor(Ib,I2,Ib,H)*BS(np.pi,np.pi/2)*tensor(Dc(-1j*alpha,1j*alpha),Dc(1j*alpha,-1j*alpha))*BS(np.pi,-np.pi/2)*tensor(Ib,I2,Ib,H)\n",
    "# term3  = tensor(Ib,I2,Ib,H)*tensor(Dc(alpha,-alpha),Dc(alpha,-alpha))*tensor(Ib,I2,Ib,H)\n",
    "# term4 = tensor(Ib,H,Ib,I2)*BS(np.pi,np.pi/2)*tensor(Dc(1j*alpha,-1j*alpha),Dc(-1j*alpha,1j*alpha))*BS(np.pi,-np.pi/2)*tensor(Ib,H,Ib,I2)\n",
    "\n",
    "# term1  = tensor(Dc(-alpha,alpha),Dc(-alpha,alpha))\n",
    "# term2 = BS(np.pi,np.pi/2)*tensor(Dc(-1j*alpha,1j*alpha),Dc(1j*alpha,-1j*alpha))*BS(np.pi,-np.pi/2)\n",
    "# term3  = tensor(Dc(alpha,-alpha),Dc(alpha,-alpha))\n",
    "# term4 = BS(np.pi,np.pi/2)*tensor(Dc(1j*alpha,-1j*alpha),Dc(-1j*alpha,1j*alpha))*BS(np.pi,-np.pi/2)\n",
    "\n",
    "# U = tensor(Ib,I2,Ib,H)*term2.dag()*term1.dag()*term2*term1*tensor(Ib,I2,Ib,H)\n",
    "U = term2.dag()*term1.dag()*term2*term1"
   ]
  },
  {
   "cell_type": "code",
   "execution_count": 72,
   "id": "ddc1116f-3419-4586-a0e1-717c43ee4d73",
   "metadata": {},
   "outputs": [
    {
     "data": {
      "text/latex": [
       "Quantum object: dims = [[2, 2], [2, 2]], shape = (4, 4), type = oper, isherm = False $ \\\\ \\left(\\begin{matrix}0.707 & -0.707j & 0.0 & 0.0\\\\-0.707j & 0.707 & 0.0 & 0.0\\\\0.0 & 0.0 & 0.707 & 0.707j\\\\0.0 & 0.0 & 0.707j & 0.707\\\\\\end{matrix}\\right)$"
      ],
      "text/plain": [
       "Quantum object: dims = [[2, 2], [2, 2]], shape = (4, 4), type = oper, isherm = False\n",
       "Qobj data =\n",
       "[[0.70710678+0.j         0.        -0.70710678j 0.        +0.j\n",
       "  0.        +0.j        ]\n",
       " [0.        -0.70710678j 0.70710678+0.j         0.        +0.j\n",
       "  0.        +0.j        ]\n",
       " [0.        +0.j         0.        +0.j         0.70710678+0.j\n",
       "  0.        +0.70710678j]\n",
       " [0.        +0.j         0.        +0.j         0.        +0.70710678j\n",
       "  0.70710678+0.j        ]]"
      ]
     },
     "execution_count": 72,
     "metadata": {},
     "output_type": "execute_result"
    }
   ],
   "source": [
    "P = tensor(basis(cutoff,0).dag(),I2,basis(cutoff,0).dag(),I2)\n",
    "P*U*P.dag()"
   ]
  },
  {
   "cell_type": "code",
   "execution_count": 73,
   "id": "88820a71-50ee-4edd-86f6-373a8ea7ff7a",
   "metadata": {},
   "outputs": [
    {
     "data": {
      "text/latex": [
       "Quantum object: dims = [[2, 2], [2, 2]], shape = (4, 4), type = oper, isherm = False $ \\\\ \\left(\\begin{matrix}(0.500-0.500j) & 0.0 & 0.0 & (-0.500-0.500j)\\\\0.0 & (0.500+0.500j) & (0.500-0.500j) & 0.0\\\\0.0 & (0.500-0.500j) & (0.500+0.500j) & 0.0\\\\(-0.500-0.500j) & 0.0 & 0.0 & (0.500-0.500j)\\\\\\end{matrix}\\right)$"
      ],
      "text/plain": [
       "Quantum object: dims = [[2, 2], [2, 2]], shape = (4, 4), type = oper, isherm = False\n",
       "Qobj data =\n",
       "[[ 0.5-0.5j  0. +0.j   0. +0.j  -0.5-0.5j]\n",
       " [ 0. +0.j   0.5+0.5j  0.5-0.5j  0. +0.j ]\n",
       " [ 0. +0.j   0.5-0.5j  0.5+0.5j  0. +0.j ]\n",
       " [-0.5-0.5j  0. +0.j   0. +0.j   0.5-0.5j]]"
      ]
     },
     "execution_count": 73,
     "metadata": {},
     "output_type": "execute_result"
    }
   ],
   "source": [
    "(-1j*(theta/2)*(tensor(sigmaz(),sigmaz()) + tensor(sigmax(),sigmax()))).expm()"
   ]
  },
  {
   "cell_type": "code",
   "execution_count": 74,
   "id": "63927007-19d9-4108-acfa-e149e9f969dd",
   "metadata": {},
   "outputs": [
    {
     "data": {
      "text/plain": [
       "0.04478465148727872"
      ]
     },
     "execution_count": 74,
     "metadata": {},
     "output_type": "execute_result"
    }
   ],
   "source": [
    "np.arctan(0.132/0.932)/np.pi"
   ]
  },
  {
   "cell_type": "code",
   "execution_count": 75,
   "id": "692f2a03-3809-4a07-9222-c5484ce79360",
   "metadata": {},
   "outputs": [
    {
     "data": {
      "text/plain": [
       "0.4472135954999579"
      ]
     },
     "execution_count": 75,
     "metadata": {},
     "output_type": "execute_result"
    }
   ],
   "source": [
    "np.sqrt(1/5)"
   ]
  },
  {
   "cell_type": "code",
   "execution_count": 76,
   "id": "aa4e7083-ee9d-4f86-ae8f-a691a97f0b0a",
   "metadata": {},
   "outputs": [],
   "source": [
    "Util = P*U*P.dag()"
   ]
  },
  {
   "cell_type": "code",
   "execution_count": 77,
   "id": "674b2044-0b09-43fd-ab1a-7d66022145db",
   "metadata": {},
   "outputs": [
    {
     "data": {
      "text/latex": [
       "Quantum object: dims = [[2, 2], [2, 2]], shape = (4, 4), type = oper, isherm = True $ \\\\ \\left(\\begin{matrix}1.000 & 0.0 & 0.0 & 0.0\\\\0.0 & 1.000 & 0.0 & 0.0\\\\0.0 & 0.0 & 1.000 & 0.0\\\\0.0 & 0.0 & 0.0 & 1.000\\\\\\end{matrix}\\right)$"
      ],
      "text/plain": [
       "Quantum object: dims = [[2, 2], [2, 2]], shape = (4, 4), type = oper, isherm = True\n",
       "Qobj data =\n",
       "[[1. 0. 0. 0.]\n",
       " [0. 1. 0. 0.]\n",
       " [0. 0. 1. 0.]\n",
       " [0. 0. 0. 1.]]"
      ]
     },
     "execution_count": 77,
     "metadata": {},
     "output_type": "execute_result"
    }
   ],
   "source": [
    "Util.dag()*Util"
   ]
  },
  {
   "cell_type": "code",
   "execution_count": null,
   "id": "5c3f98cb-66a3-4642-84fa-2b5a344a3dde",
   "metadata": {},
   "outputs": [],
   "source": []
  }
 ],
 "metadata": {
  "kernelspec": {
   "display_name": "Python 3 (ipykernel)",
   "language": "python",
   "name": "python3"
  },
  "language_info": {
   "codemirror_mode": {
    "name": "ipython",
    "version": 3
   },
   "file_extension": ".py",
   "mimetype": "text/x-python",
   "name": "python",
   "nbconvert_exporter": "python",
   "pygments_lexer": "ipython3",
   "version": "3.9.12"
  },
  "varInspector": {
   "cols": {
    "lenName": 16,
    "lenType": 16,
    "lenVar": 40
   },
   "kernels_config": {
    "python": {
     "delete_cmd_postfix": "",
     "delete_cmd_prefix": "del ",
     "library": "var_list.py",
     "varRefreshCmd": "print(var_dic_list())"
    },
    "r": {
     "delete_cmd_postfix": ") ",
     "delete_cmd_prefix": "rm(",
     "library": "var_list.r",
     "varRefreshCmd": "cat(var_dic_list()) "
    }
   },
   "types_to_exclude": [
    "module",
    "function",
    "builtin_function_or_method",
    "instance",
    "_Feature"
   ],
   "window_display": false
  }
 },
 "nbformat": 4,
 "nbformat_minor": 5
}
