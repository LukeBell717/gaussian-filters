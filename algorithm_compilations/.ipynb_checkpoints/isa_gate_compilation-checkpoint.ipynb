{
 "cells": [
  {
   "cell_type": "code",
   "execution_count": 1,
   "id": "f8b786b0-35ea-48ed-8b05-52ebde2023c8",
   "metadata": {},
   "outputs": [],
   "source": [
    "from qutip import *\n",
    "from qutip.qip.operations import rx, ry, rz\n",
    "from qutip.metrics import fidelity\n",
    "import numpy as np\n",
    "import matplotlib as mpl\n",
    "from matplotlib import cm\n",
    "import matplotlib.pyplot as plt\n",
    "from functools import reduce"
   ]
  },
  {
   "cell_type": "code",
   "execution_count": 2,
   "id": "0cff2ce5",
   "metadata": {},
   "outputs": [],
   "source": [
    "# dimension of our Fock Space\n",
    "cutoff = 5\n",
    "\n",
    "# identity operator for one qubit \n",
    "I2 = identity(2)\n",
    "\n",
    "# annihilation and identity operator in Fock Space\n",
    "a = destroy(cutoff)\n",
    "Ib = identity(cutoff)\n",
    "\n",
    "# define Pauli matrices and constants\n",
    "σ_x = sigmax()\n",
    "σ_y = sigmay()\n",
    "σ_z = sigmaz()\n",
    "π = np.pi"
   ]
  },
  {
   "cell_type": "markdown",
   "id": "9244f9f7",
   "metadata": {},
   "source": [
    "# ISA Gates"
   ]
  },
  {
   "cell_type": "markdown",
   "id": "6216c836",
   "metadata": {},
   "source": [
    "## Native Gates"
   ]
  },
  {
   "cell_type": "markdown",
   "id": "b10e1e79",
   "metadata": {},
   "source": [
    "$$ \\huge D(\\alpha) = e^{\\alpha a^{\\dagger} - \\alpha^{*} a}$$"
   ]
  },
  {
   "cell_type": "code",
   "execution_count": 20,
   "id": "9cc77187",
   "metadata": {},
   "outputs": [],
   "source": [
    "A1 = tensor([α*a.dag() - np.conj(α)*a, Ib, Ib, Ib])\n",
    "A2 = tensor([Ib, α*a.dag() - np.conj(α)*a, Ib, Ib])\n",
    "A3 = tensor([Ib, Ib, α*a.dag() - np.conj(α)*a, Ib])\n",
    "A4 = tensor([Ib, Ib, Ib, α*a.dag() - np.conj(α)*a])"
   ]
  },
  {
   "cell_type": "code",
   "execution_count": 21,
   "id": "64b2d37e",
   "metadata": {},
   "outputs": [
    {
     "data": {
      "text/plain": [
       "0.0"
      ]
     },
     "execution_count": 21,
     "metadata": {},
     "output_type": "execute_result"
    }
   ],
   "source": [
    "commutator(A1, A3).norm()"
   ]
  },
  {
   "cell_type": "code",
   "execution_count": 23,
   "id": "a4102c7a",
   "metadata": {},
   "outputs": [
    {
     "data": {
      "text/plain": [
       "True"
      ]
     },
     "execution_count": 23,
     "metadata": {},
     "output_type": "execute_result"
    }
   ],
   "source": [
    "(A1 + A2 + A3 + A4).expm() == A1.expm()*A2.expm()*A3.expm()*A4.expm()"
   ]
  },
  {
   "cell_type": "code",
   "execution_count": null,
   "id": "0e0039d4",
   "metadata": {},
   "outputs": [],
   "source": []
  },
  {
   "cell_type": "code",
   "execution_count": null,
   "id": "ffe08718",
   "metadata": {},
   "outputs": [],
   "source": []
  },
  {
   "cell_type": "code",
   "execution_count": 3,
   "id": "43d49aca",
   "metadata": {
    "code_folding": []
   },
   "outputs": [],
   "source": [
    "# displacement operator \n",
    "def D(α):\n",
    "    return (α*a.dag() - np.conj(α)*a).expm()"
   ]
  },
  {
   "cell_type": "markdown",
   "id": "845197c6",
   "metadata": {},
   "source": [
    "$$ \\huge D_{c}(\\alpha, \\beta) = D(\\alpha) \\otimes |0 \\rangle \\langle 0 | + D(\\beta) \\otimes |1 \\rangle \\langle 1 | $$"
   ]
  },
  {
   "cell_type": "code",
   "execution_count": 4,
   "id": "ce3e6ecd",
   "metadata": {
    "code_folding": []
   },
   "outputs": [],
   "source": [
    "def Dc(α, β): \n",
    "    return tensor(D(α), basis(2,0)*basis(2,0).dag()) + tensor(D(β), basis(2,1)*basis(2,1).dag())"
   ]
  },
  {
   "cell_type": "markdown",
   "id": "f77f0ba3",
   "metadata": {},
   "source": [
    "$$ \\huge \\text{CP} = e^{-i \\frac{\\pi}{2} a^{\\dagger} a \\otimes Z } $$"
   ]
  },
  {
   "cell_type": "code",
   "execution_count": 5,
   "id": "b68fdf94",
   "metadata": {
    "code_folding": []
   },
   "outputs": [],
   "source": [
    "def CP():\n",
    "    return (-1j*(π/2)*tensor(a.dag()*a,sigmaz())).expm()"
   ]
  },
  {
   "cell_type": "markdown",
   "id": "e32ddce8",
   "metadata": {},
   "source": [
    "$$ \\huge \\text{BS}^{(i,j)}(\\theta, \\varphi) = e^{-i \\frac{\\theta}{2} \\left[e^{i \\varphi}a^{\\dagger}_i \\otimes \\mathbb{1} a_j \\otimes \\mathbb{1} + e^{-i \\varphi} a_i \\otimes \\mathbb{1} \\otimes a^{\\dagger}_j \\otimes \\mathbb{1} \\right]}$$"
   ]
  },
  {
   "cell_type": "code",
   "execution_count": 7,
   "id": "7ad1ecf8",
   "metadata": {},
   "outputs": [],
   "source": [
    "# beamsplitter gate\n",
    "def BS(θ,ϕ): \n",
    "    # cavity_1 ⊗ qubit_1 ⊗ cavity_2 ⊗ qubit_2\n",
    "    term = tensor([a.dag(), I2, a, I2])\n",
    "    phase = np.exp(1j*ϕ) \n",
    "    return (-1j*(θ/2)*(phase*term + np.conj(phase)*term.dag())).expm()"
   ]
  },
  {
   "cell_type": "markdown",
   "id": "83a74bb6",
   "metadata": {},
   "source": [
    "## Native-Like Gates and Special Cases"
   ]
  },
  {
   "cell_type": "code",
   "execution_count": 7,
   "id": "ccba7651",
   "metadata": {},
   "outputs": [],
   "source": [
    "# generate θ (random float between 0 and 1) and define α as function of θ\n",
    "θ_list = [np.random.rand() for i in range(2)]\n",
    "α = np.sqrt(θ_list[0]/4)\n",
    "β = np.sqrt(θ_list[1]/4)\n",
    "\n",
    "# define Hadamard gate\n",
    "H = Qobj([[1,1],[1,-1]],dims=[[2],[2]])/np.sqrt(2)\n",
    "\n",
    "# define |+><+| and |-><-|\n",
    "plus = H*basis(2, 0)\n",
    "minus = H*basis(2, 1)\n",
    "plus_projector = plus*plus.dag()\n",
    "minus_projector = minus*minus.dag()\n",
    "\n",
    "# define |+i><+i| and |-i><-i| \n",
    "plus_i = (basis(2, 0) + 1j*basis(2, 1))/np.sqrt(2)\n",
    "minus_i = (basis(2, 0) - 1j*basis(2, 1))/np.sqrt(2)\n",
    "plus_i_projector = plus_i * plus_i.dag()\n",
    "minus_i_projector = minus_i * minus_i.dag()"
   ]
  },
  {
   "cell_type": "markdown",
   "id": "d7dd736a",
   "metadata": {},
   "source": [
    "$$ \\LARGE \\text{CP}_Z = e^{-i \\frac{\\pi}{2} a^{\\dagger} a \\otimes Z} $$"
   ]
  },
  {
   "cell_type": "code",
   "execution_count": 8,
   "id": "c0cfaab2",
   "metadata": {},
   "outputs": [
    {
     "data": {
      "text/plain": [
       "True"
      ]
     },
     "metadata": {},
     "output_type": "display_data"
    }
   ],
   "source": [
    "display(CP() == (-1j*π/2*tensor(a.dag()*a, σ_z)).expm())\n",
    "CPZ = CP()"
   ]
  },
  {
   "cell_type": "markdown",
   "id": "d3dcc5af",
   "metadata": {},
   "source": [
    "$$ \\LARGE \\text{CP}_X = H \\text{CP}_Z H = e^{-i \\frac{\\pi}{2} a^{\\dagger} a \\otimes X} $$"
   ]
  },
  {
   "cell_type": "code",
   "execution_count": 9,
   "id": "478f88a5",
   "metadata": {},
   "outputs": [
    {
     "data": {
      "text/plain": [
       "True"
      ]
     },
     "metadata": {},
     "output_type": "display_data"
    }
   ],
   "source": [
    "display(tensor(Ib, H)*CPZ*tensor(Ib, H) == (-1j*π/2*tensor(a.dag()*a, σ_x)).expm())\n",
    "CPX = (-1j*π/2*tensor(a.dag()*a, σ_x)).expm()"
   ]
  },
  {
   "cell_type": "markdown",
   "id": "6885db66",
   "metadata": {},
   "source": [
    "$$ \\LARGE \\text{CP}_Y = R_X \\left(-\\frac{\\pi}{2} \\right) \\text{CP}_Z R_X \\left(\\frac{\\pi}{2} \\right) =  e^{-i \\frac{\\pi}{2} a^{\\dagger} a \\otimes Y} $$"
   ]
  },
  {
   "cell_type": "code",
   "execution_count": 10,
   "id": "946c567e",
   "metadata": {},
   "outputs": [
    {
     "data": {
      "text/plain": [
       "True"
      ]
     },
     "metadata": {},
     "output_type": "display_data"
    }
   ],
   "source": [
    "display(tensor(Ib, rx(-π/2))*CPZ*tensor(Ib, rx(π/2)) == (-1j*π/2*tensor(a.dag()*a, σ_y)).expm())\n",
    "CPY = (-1j*π/2*tensor(a.dag()*a, σ_y)).expm()"
   ]
  },
  {
   "cell_type": "markdown",
   "id": "43c51b4e",
   "metadata": {},
   "source": [
    "$$ \\Large \\mathcal{D}^{(1,1)}_{cZ}(\\alpha, \\beta) = \\mathcal{D}^{(1)}(\\alpha) \\otimes |0 \\rangle \\langle 0 |_1 + D(\\beta)^{(1)} \\otimes |1 \\rangle \\langle 1 |_1 $$"
   ]
  },
  {
   "cell_type": "code",
   "execution_count": 11,
   "id": "dcbd2ce9",
   "metadata": {
    "code_folding": []
   },
   "outputs": [
    {
     "data": {
      "text/plain": [
       "True"
      ]
     },
     "metadata": {},
     "output_type": "display_data"
    }
   ],
   "source": [
    "display(Dc(α, β) == tensor(D(α), basis(2,0)*basis(2,0).dag()) + tensor(D(β), basis(2,1)*basis(2,1).dag()))\n",
    "DcZ = lambda α,β: Dc(α, β)"
   ]
  },
  {
   "cell_type": "markdown",
   "id": "265a2d4f",
   "metadata": {},
   "source": [
    "$$ \\Large D_{cX}(\\alpha, \\beta) = D(\\alpha) \\otimes |+ \\rangle \\langle + | + D(\\beta) \\otimes |- \\rangle \\langle - |$$"
   ]
  },
  {
   "cell_type": "code",
   "execution_count": 12,
   "id": "c53282c6",
   "metadata": {
    "code_folding": []
   },
   "outputs": [
    {
     "data": {
      "text/plain": [
       "True"
      ]
     },
     "metadata": {},
     "output_type": "display_data"
    }
   ],
   "source": [
    "display(tensor(Ib,H)*Dc(α,β)*tensor(Ib,H) == tensor(D(α), plus_projector) + tensor(D(β), minus_projector))\n",
    "DcX = lambda α,β: tensor(Ib,H)*Dc(α,β)*tensor(Ib,H)"
   ]
  },
  {
   "cell_type": "markdown",
   "id": "65e3ac92",
   "metadata": {},
   "source": [
    "$$ \\Large D_{cY}(\\alpha, \\beta) = D(\\alpha) \\otimes |+i\\rangle \\langle+i| + D(\\beta) \\otimes |-i\\rangle \\langle-i| $$"
   ]
  },
  {
   "cell_type": "code",
   "execution_count": 13,
   "id": "d6d45942",
   "metadata": {
    "code_folding": []
   },
   "outputs": [
    {
     "data": {
      "text/plain": [
       "True"
      ]
     },
     "metadata": {},
     "output_type": "display_data"
    }
   ],
   "source": [
    "display(tensor(Ib,rx(-π/2))*Dc(α,β)*tensor(Ib,rx(π/2)) == tensor(D(α), plus_i_projector) + tensor(D(β), minus_i_projector))\n",
    "DcY = lambda α,β: tensor(Ib,rx(-π/2))*Dc(α,β)*tensor(Ib,rx(π/2))"
   ]
  },
  {
   "cell_type": "markdown",
   "id": "d2c3fca3",
   "metadata": {},
   "source": [
    "$$ \\Large D_{Z}(\\alpha, -\\alpha) = \\text{CP}_{Z}^{\\dagger} D(-i \\alpha) \\text{CP}_{Z} = e^{\\left(\\alpha a^{\\dagger} - \\alpha^{*} a \\right) \\otimes Z} \\\\\n",
    "\\Large D_{Z}(\\alpha, -\\alpha) = H D_{cZ}(\\alpha, -\\alpha) H = e^{\\left(\\alpha a^{\\dagger} - \\alpha^{*} a \\right) \\otimes Z}\n",
    "$$"
   ]
  },
  {
   "cell_type": "code",
   "execution_count": 14,
   "id": "f591c091",
   "metadata": {},
   "outputs": [
    {
     "data": {
      "text/plain": [
       "True"
      ]
     },
     "metadata": {},
     "output_type": "display_data"
    },
    {
     "data": {
      "text/plain": [
       "True"
      ]
     },
     "metadata": {},
     "output_type": "display_data"
    }
   ],
   "source": [
    "display(CPZ.dag() * tensor(D(-1j*α), I2) * CPZ == (tensor(α*a.dag() - α*a, σ_z)).expm())\n",
    "display(tensor(Dc(α, -α)) == (tensor(α*a.dag() - α*a, σ_z)).expm())\n",
    "DsZ = lambda α: (tensor(α*a.dag() - α*a, σ_z)).expm()"
   ]
  },
  {
   "cell_type": "markdown",
   "id": "9f818e29",
   "metadata": {},
   "source": [
    "$$ \\Large D_{X}(\\alpha, -\\alpha) =\\text{CP}_{X}^{\\dagger} D(-i \\alpha) \\text{CP}_{X} = e^{\\left(\\alpha a^{\\dagger} - \\alpha^{*} a \\right) \\otimes X} \\\\\n",
    "\\Large D_{X}(\\alpha, -\\alpha) = H D_{cZ}(\\alpha, -\\alpha) H = e^{\\left(\\alpha a^{\\dagger} - \\alpha^{*} a \\right) \\otimes X} $$"
   ]
  },
  {
   "cell_type": "code",
   "execution_count": 15,
   "id": "2de7ce11",
   "metadata": {},
   "outputs": [
    {
     "data": {
      "text/plain": [
       "True"
      ]
     },
     "metadata": {},
     "output_type": "display_data"
    },
    {
     "data": {
      "text/plain": [
       "True"
      ]
     },
     "metadata": {},
     "output_type": "display_data"
    }
   ],
   "source": [
    "display(CPX.dag()*tensor(D(-1j*α), I2)*CPX == (tensor(α*a.dag() - α*a, σ_x)).expm())\n",
    "display(tensor(Ib, H)*Dc(α, -α)*tensor(Ib, H)== (tensor(α*a.dag() - α*a, σ_x)).expm())\n",
    "# DX = lambda α: (tensor(α*a.dag() - α*a, σ_x)).expm()"
   ]
  },
  {
   "cell_type": "markdown",
   "id": "53c248f4",
   "metadata": {},
   "source": [
    "$$ \\Large D_{Y}(\\alpha, -\\alpha) =\\text{CP}_{Y}^{\\dagger} D(-i \\alpha) \\text{CP}_{Y} = e^{\\left(\\alpha a^{\\dagger} - \\alpha^{*} a \\right) \\otimes Y} \\\\\n",
    "\\Large D_{Y}(\\alpha, -\\alpha) = R_X \\left(- \\frac{\\pi}{2} \\right) D_{cZ}(\\alpha, -\\alpha) R_X \\left(\\frac{\\pi}{2} \\right) = e^{\\left(\\alpha a^{\\dagger} - \\alpha^{*} a \\right) \\otimes Y} $$"
   ]
  },
  {
   "cell_type": "code",
   "execution_count": 16,
   "id": "ccfcfd5b",
   "metadata": {},
   "outputs": [
    {
     "data": {
      "text/plain": [
       "True"
      ]
     },
     "metadata": {},
     "output_type": "display_data"
    },
    {
     "data": {
      "text/plain": [
       "True"
      ]
     },
     "metadata": {},
     "output_type": "display_data"
    }
   ],
   "source": [
    "display(CPY.dag() * tensor(D(-1j*α), I2)*CPY == (tensor(α*a.dag() - α*a, σ_y)).expm())\n",
    "display(tensor(Ib, rx(-π/2))*Dc(α, -α)*tensor(Ib, rx(π/2))== (tensor(α*a.dag() - α*a, σ_y)).expm())\n",
    "DY = lambda α: (tensor(α*a.dag() - α*a, σ_y)).expm()"
   ]
  },
  {
   "cell_type": "markdown",
   "id": "55e06f1c",
   "metadata": {
    "heading_collapsed": true
   },
   "source": [
    "# $$ R_{XYZ}(\\theta) = e^{- i \\frac{\\theta}{2} \\left(X_1 X_2 + Y_1 Y_2 + Z_1 Z_2\\right)} $$"
   ]
  },
  {
   "cell_type": "markdown",
   "id": "84a3b8ef",
   "metadata": {
    "hidden": true
   },
   "source": [
    "$$ \\Large R_{ZZ}(\\theta) = e^{- i \\frac{\\theta}{2} Z_1 Z_2} $$"
   ]
  },
  {
   "cell_type": "code",
   "execution_count": null,
   "id": "5072bc0f",
   "metadata": {
    "hidden": true
   },
   "outputs": [],
   "source": [
    "# define random θ and α as a function of θ\n",
    "θ = np.random.rand()\n",
    "α = np.sqrt(θ/4)\n",
    "\n",
    "# enclose area in cavity phase space according to Rzz conditions\n",
    "U1zz = tensor(Dc(-α,α),Ib,I2)\n",
    "U2zz = BS(π,π/2)*tensor(Ib,I2,Dc(1j*α,-1j*α))*BS(π,-π/2)\n",
    "Uzz = U2zz.dag()*U1zz.dag()*U2zz*U1zz\n",
    "\n",
    "# check to ensure phase space trajectory agrees with Rzz gate\n",
    "P = tensor(basis(cutoff,0),I2,basis(cutoff,0),I2)\n",
    "display(P.dag()*Uzz*P == (-1j*θ*tensor(σ_z,σ_z)/2).expm())\n",
    "\n",
    "# define Rzz gate\n",
    "Rzz = lambda θ: (-1j*θ*tensor(Ib,σ_z,Ib,σ_z)/2).expm()"
   ]
  },
  {
   "cell_type": "markdown",
   "id": "b05b218f",
   "metadata": {
    "hidden": true
   },
   "source": [
    "$$ \\Large R_{XX}(\\theta) = e^{- i \\frac{\\theta}{2} X_1 X_2} $$"
   ]
  },
  {
   "cell_type": "code",
   "execution_count": null,
   "id": "a794ba66",
   "metadata": {
    "hidden": true
   },
   "outputs": [],
   "source": [
    "# enclose area in cavity phase space according to Rxx conditions\n",
    "U1xx = tensor(DcX(-α,α),Ib,I2)\n",
    "U2xx = BS(π,π/2)*tensor(Ib,I2,DcX(1j*α,-1j*α))*BS(π,-π/2)\n",
    "Uxx = U2xx.dag()*U1xx.dag()*U2xx*U1xx\n",
    "\n",
    "# check to ensure phase space trajectory agrees with Rxx gate\n",
    "P = tensor(basis(cutoff,0),I2,basis(cutoff,0),I2)\n",
    "display(P.dag()*Uxx*P == (-1j*θ*tensor(σ_x,σ_x)/2).expm())\n",
    "\n",
    "# define Rxx gate\n",
    "Rxx = lambda θ: (-1j*θ*tensor(Ib,σ_x,Ib,σ_x)/2).expm()"
   ]
  },
  {
   "cell_type": "markdown",
   "id": "cb94ba06",
   "metadata": {
    "hidden": true
   },
   "source": [
    "$$ \\Large R_{YY}(\\theta) = e^{- i \\frac{\\theta}{2} Y_1 Y_2} $$"
   ]
  },
  {
   "cell_type": "code",
   "execution_count": null,
   "id": "0fe85cbe",
   "metadata": {
    "hidden": true
   },
   "outputs": [],
   "source": [
    "# enclose area in cavity phase space according to Ryy conditions\n",
    "U1yy = tensor(DcY(-α,α),Ib,I2)\n",
    "U2yy = BS(π,π/2)*tensor(Ib,I2,DcY(1j*α,-1j*α))*BS(π,-π/2)\n",
    "Uyy = U2yy.dag()*U1yy.dag()*U2yy*U1yy\n",
    "\n",
    "# check to ensure phase space trajectory agrees with Rxx gate\n",
    "P = tensor(basis(cutoff,0),I2,basis(cutoff,0),I2)\n",
    "display(P.dag()*Uyy*P == (-1j*θ*tensor(σ_y,σ_y)/2).expm())\n",
    "\n",
    "# define Ryy gate\n",
    "Ryy = lambda θ: (-1j*θ*tensor(Ib,σ_y,Ib,σ_y)/2).expm()"
   ]
  },
  {
   "cell_type": "markdown",
   "id": "cebf9abf",
   "metadata": {
    "hidden": true
   },
   "source": [
    "$$ \\Large R_{XYZ}(\\theta) = R_{XX}(\\theta) R_{YY}(\\theta) R_{ZZ}(\\theta) = e^{- i \\frac{\\theta}{2} \\left(X_1 X_2 + Y_1 Y_2 + Z_1 Z_2\\right)} $$"
   ]
  },
  {
   "cell_type": "code",
   "execution_count": null,
   "id": "fe9bb6b4",
   "metadata": {
    "hidden": true
   },
   "outputs": [],
   "source": [
    "# define XX + YY + ZZ \n",
    "sum_XYZ_4 = tensor(Ib, σ_x, Ib, σ_x) + tensor(Ib, σ_y, Ib, σ_y) + tensor(Ib, σ_z, Ib, σ_z)\n",
    "display(Rxx(θ)*Ryy(θ)*Rzz(θ) == (-1j*θ*sum_XYZ_4/2).expm())\n",
    "\n",
    "# define Rxyz gate\n",
    "Rxyz = lambda θ: (-1j*θ*sum_XYZ_4/2).expm()"
   ]
  },
  {
   "cell_type": "code",
   "execution_count": null,
   "id": "cdb1409c",
   "metadata": {
    "hidden": true
   },
   "outputs": [],
   "source": [
    "# trace out both oscillators \n",
    "display(P.dag()*Rxyz(θ)*P == (-1j*(θ/2)*(tensor(σ_x,σ_x) + tensor(σ_y, σ_y) + tensor(σ_z, σ_z))).expm())\n",
    "Rxyz_traced = lambda θ: (-1j*(θ/2)*(tensor(σ_x,σ_x) + tensor(σ_y, σ_y) + tensor(σ_z, σ_z))).expm()"
   ]
  },
  {
   "cell_type": "markdown",
   "id": "35440387",
   "metadata": {
    "hidden": true
   },
   "source": [
    "For a chain of N spins, let us define $R_{XX}(\\theta), R_{YY}(\\theta), \\text{ and } R_{ZZ}(\\theta)$ acting on the jth and (j+1)th sites as \n",
    "\n",
    "$$ \\Large R_{XX}^{ \\left(j \\right)}\\left(\\theta \\right) = \\mathbb{1}^{\\otimes j -1} \\otimes e^{\\frac{-i \\theta}{2} X_j \\otimes X_{j+1}} \\otimes \\mathbb{1}^{\\otimes N - j -1} $$\n",
    "$$ \\Large R_{YY}^{ \\left(j \\right)}\\left(\\theta \\right) = \\mathbb{1}^{\\otimes j -1} \\otimes e^{\\frac{-i \\theta}{2} Y_j \\otimes Y_{j+1}} \\otimes \\mathbb{1}^{\\otimes N - j -1} $$\n",
    "$$ \\Large R_{ZZ}^{ \\left(j \\right)}\\left(\\lambda \\theta \\right) = \\mathbb{1}^{\\otimes j -1} \\otimes e^{\\frac{-i \\lambda \\theta}{2} Z_j \\otimes Z_{j+1}} \\otimes \\mathbb{1}^{\\otimes N - j -1} $$\n",
    "\n",
    "so that \n",
    "\n",
    "$$ \\Large R_{XYZ}^{ \\left(j \\right)}\\left(\\theta, \\lambda \\right) = R_{XX}^{ \\left(j \\right)}\\left(\\theta \\right) R_{YY}^{ \\left(j \\right)}\\left(\\theta \\right) R_{ZZ}^{ \\left(j \\right)}\\left(\\lambda \\theta \\right) $$\n",
    "\n",
    "We now define \n",
    "\n",
    "$$ \\Large R_B(\\theta, \\lambda) =  \\prod_{j=1}^{\\lceil \\frac{N - 1}{2} \\rceil} R_{XYZ}^{ \\left(2j - 1 \\right)}\\left(\\theta, \\lambda \\right) $$\n",
    "$$ \\Large R_R(\\theta, \\lambda) =  \\prod_{j=1}^{\\lfloor \\frac{N - 1}{2} \\rfloor} R_{XYZ}^{ \\left(2j \\right)}\\left(\\theta, \\lambda \\right) $$\n",
    "\n",
    "where $ R_B(\\theta)$ acts on all blue bonds and $ R_R(\\theta) $ acts on all sites connected by red bonds. Since $ R_B(\\theta) $ and $ R_R(\\theta) $ act simultaneously on their respective bonds, we approximate the unitary evolution of the system by \n",
    "\n",
    "$$ \\Large U_N \\approx \\left( R_B(\\theta, \\lambda)  R_R(\\theta, \\lambda) \\right)^m $$"
   ]
  },
  {
   "cell_type": "code",
   "execution_count": null,
   "id": "886106e7",
   "metadata": {
    "code_folding": [],
    "hidden": true
   },
   "outputs": [],
   "source": [
    "# function to generate H_blue and H_red for a lattice of N_sites\n",
    "def trotterize_alternate_bonds(N, M, θ, λ):\n",
    "\n",
    "    # define emtpy list \n",
    "    Rxyz_list = []\n",
    "\n",
    "    for i in range(N):\n",
    "        \n",
    "        # define iterator that begins at 1 and ends at N\n",
    "        j = i + 1\n",
    "        \n",
    "        # create Rxyz_list such that Rxyz_list[j] is applies Rxyz to the bond\n",
    "        # connecting jth and (j+1)th site\n",
    "        if j < N:\n",
    "            operator_list = [qeye(2)]*(N-1)\n",
    "            operator_list[i] = (-1j*(2*α**2)*(tensor(σ_x,σ_x) + tensor(σ_y,σ_y) + λ*tensor(σ_z,σ_z))).expm()\n",
    "            Rxyz_list.append(tensor(operator_list))\n",
    "              \n",
    "    if N == 2: \n",
    "        \n",
    "        # yield an operator that applies Rxx(θ)*Ryy(θ)*Rzz(θ) to the blue bond in a 1D spin chain\n",
    "        Rxyz_odd_sites = Rxyz_list[0]\n",
    "        return Rxyz_odd_sites\n",
    "    \n",
    "    else: \n",
    "    \n",
    "        # multiply all Rxyz operators acting on all odd lattice sites; this is an operator that applies\n",
    "        # Rxx(θ)*Ryy(θ)*Rzz(θ) to all \"blue bonds\" in a 1D spin chain\n",
    "        Rxyz_odd_sites = reduce(lambda x, y: x*y, [matrix for index, matrix in enumerate(Rxyz_list) if index % 2 == 0])\n",
    "\n",
    "        # multiply all Rxyz operators acting on all even lattice sites; this is an operator that applies\n",
    "        # Rxx(θ)*Ryy(θ)*Rzz(θ) to all \"red bonds\" in a 1D spin chain \n",
    "        Rxyz_even_sites = reduce(lambda x, y: x*y, [matrix for index, matrix in enumerate(Rxyz_list) if index % 2 != 0])\n",
    "    \n",
    "    # trotterize according to U ~ (R_blue *R_red)**M\n",
    "    return (Rxyz_odd_sites*Rxyz_even_sites)**M"
   ]
  },
  {
   "cell_type": "code",
   "execution_count": null,
   "id": "2894830d",
   "metadata": {
    "hidden": true
   },
   "outputs": [],
   "source": [
    "U_trotter = trotterize_alternate_bonds(N=2, M=10, θ=π/3, λ=1)\n",
    "U_trotter"
   ]
  },
  {
   "cell_type": "code",
   "execution_count": null,
   "id": "8ed847ff",
   "metadata": {
    "hidden": true
   },
   "outputs": [],
   "source": []
  },
  {
   "cell_type": "markdown",
   "id": "496483b6",
   "metadata": {},
   "source": [
    "# $$ D_{XYZ}^{(1, \\{1, 2\\})}(\\alpha, \\lambda, E_n) = e^{ \\left(\\alpha a^{\\dagger} - \\alpha^{*} a \\right) \\otimes \\left( X_1 X_2 + Y_1 Y_2 + \\lambda Z_1 Z_2 - E_n \\right)} $$"
   ]
  },
  {
   "cell_type": "markdown",
   "id": "ef6b7157",
   "metadata": {},
   "source": [
    "$$ \\Large D^{(1, \\{1,2\\})}_{ZZ}(\\alpha) = \\text{CP}^{(1, 2)^{\\dagger}}_Z D^{(1,1)}_{cZ}(-i\\alpha, +i \\alpha) \\text{CP}^{(1, 2)}_Z = e^{\\left( \\alpha a^{\\dagger}_1 - \\alpha^{*} a_1  \\right) \\otimes Z_1 Z_2} \\\\\n",
    "\\Large D^{(1, \\{1,2\\})}_{ZZ}(\\alpha) = \\text{CP}^{(1, 2)}_Z D^{(1,1)}_{cZ}(+i\\alpha, -i \\alpha) \\text{CP}^{(1, 2)^{\\dagger}}_Z = e^{\\left( \\alpha a^{\\dagger}_1 - \\alpha^{*} a_1  \\right) \\otimes Z_1 Z_2} \\\\\n",
    "\\Large D^{(2, \\{1,2\\})}_{ZZ}(\\alpha) = \\text{CP}^{(2, 1)^{\\dagger}}_Z D^{(2,2)}_{cZ}(-i\\alpha, +i \\alpha) \\text{CP}^{(2, 1)}_Z = e^{\\left( \\alpha a^{\\dagger}_2 - \\alpha^{*} a_2  \\right) \\otimes Z_1 Z_2} \\\\\n",
    "\\Large D^{(2, \\{1,2\\})}_{ZZ}(\\alpha) = \\text{CP}^{(2, 1)}_Z D^{(2,2)}_{cZ}(+i\\alpha, -i \\alpha) \\text{CP}^{(2, 1)^{\\dagger}}_Z = e^{\\left( \\alpha a^{\\dagger}_2 - \\alpha^{*} a_2  \\right) \\otimes Z_1 Z_2} \n",
    "$$"
   ]
  },
  {
   "cell_type": "code",
   "execution_count": 17,
   "id": "4631706e",
   "metadata": {},
   "outputs": [
    {
     "data": {
      "text/plain": [
       "True"
      ]
     },
     "metadata": {},
     "output_type": "display_data"
    },
    {
     "data": {
      "text/plain": [
       "True"
      ]
     },
     "metadata": {},
     "output_type": "display_data"
    },
    {
     "data": {
      "text/plain": [
       "True"
      ]
     },
     "metadata": {},
     "output_type": "display_data"
    },
    {
     "data": {
      "text/plain": [
       "True"
      ]
     },
     "metadata": {},
     "output_type": "display_data"
    }
   ],
   "source": [
    "CPZ12 = (-1j*(np.pi/2)*tensor(a.dag()*a, I2, Ib, σ_z)).expm()\n",
    "CPZ21 = (-1j*(np.pi/2)*tensor(Ib, σ_z, a.dag()*a, I2)).expm()\n",
    "display(CPZ12.dag()*tensor(DcZ(-1j*α, 1j*α),Ib,I2)*CPZ12 == (tensor(α*a.dag() - np.conj(α)*a, σ_z, Ib, σ_z)).expm())\n",
    "display(CPZ12*tensor(DcZ(1j*α, -1j*α),Ib,I2)*CPZ12.dag() == (tensor(α*a.dag() - np.conj(α)*a, σ_z, Ib, σ_z)).expm())\n",
    "display(CPZ21.dag()*tensor(Ib,I2,DcZ(-1j*α, 1j*α))*CPZ21 == (tensor(Ib, σ_z, α*a.dag() - np.conj(α)*a, σ_z)).expm())\n",
    "display(CPZ21*tensor(Ib,I2,DcZ(1j*α, -1j*α))*CPZ21.dag() == (tensor(Ib, σ_z, α*a.dag() - np.conj(α)*a, σ_z)).expm())"
   ]
  },
  {
   "cell_type": "markdown",
   "id": "712ffb74",
   "metadata": {},
   "source": [
    "$$ \\Large D^{(1, \\{1, 2\\})}_{ZZ}(\\alpha) = \\text{CP}^{{(1, 1)}^{\\dagger}}_{Z} D^{(1, 2)}_{cZ}(- i\\alpha, +i\\alpha) \\text{CP}^{(1, 1)}_{Z} = e^{\\left( \\alpha a^{\\dagger}_1 - \\alpha^{*} a_1  \\right) \\otimes Z_1 Z_2} \\\\\n",
    " \\Large D^{(2, \\{1, 2\\})}_{ZZ}(\\alpha) = \\text{CP}^{{(2, 2)}^{\\dagger}}_{Z} D^{(2, 1)}_{cZ}(- i\\alpha, +i\\alpha) \\text{CP}^{(2, 2)}_{Z} = e^{\\left( \\alpha a^{\\dagger}_2 - \\alpha^{*} a_2  \\right) \\otimes Z_1 Z_2}\n",
    "$$"
   ]
  },
  {
   "cell_type": "code",
   "execution_count": 18,
   "id": "bf6afffd",
   "metadata": {},
   "outputs": [
    {
     "data": {
      "text/plain": [
       "True"
      ]
     },
     "metadata": {},
     "output_type": "display_data"
    },
    {
     "data": {
      "text/plain": [
       "True"
      ]
     },
     "metadata": {},
     "output_type": "display_data"
    }
   ],
   "source": [
    "#tensor(DcZ(α,-α),Ib,I2).permute([0, 3, 2, 1]) == (tensor(α*a.dag() - np.conj(α)*a, I2, Ib, σ_z)).expm()\n",
    "CPZ11 = tensor(CPZ, Ib, I2)\n",
    "CPZ22 = tensor(Ib, I2, CPZ)\n",
    "DZ12 = lambda α:(tensor(α*a.dag() - np.conj(α)*a, I2, Ib, σ_z)).expm()\n",
    "DZ21 = lambda α:(tensor(Ib, σ_z, α*a.dag() - np.conj(α)*a, I2)).expm()\n",
    "display(CPZ11.dag()*DZ12(-1j*α)*CPZ11 == (tensor(α*a.dag() - np.conj(α)*a, σ_z, Ib, σ_z)).expm())\n",
    "display(CPZ22.dag()*DZ21(-1j*α)*CPZ22 == (tensor(Ib, σ_z, α*a.dag() - np.conj(α)*a, σ_z)).expm())\n",
    "D1ZZ = lambda α: (tensor(α*a.dag() - np.conj(α)*a, σ_z, Ib, σ_z)).expm()\n",
    "D2ZZ = lambda α: (tensor(Ib, σ_z, α*a.dag() - np.conj(α)*a, σ_z)).expm()"
   ]
  },
  {
   "cell_type": "markdown",
   "id": "2878d8e4",
   "metadata": {},
   "source": [
    "$$\n",
    "\\begin{align}\n",
    "\\Large D^{(\\{1, 2\\}, \\{1, 2\\})}_{ZZ}(\\alpha) &= \\Large \\text{CP}^{{(2, 2)}^{\\dagger}}_{Z} \\text{CP}^{{(1, 1)}^{\\dagger}}_{Z} D^{(2, 1)}_{cZ}(- i\\alpha, +i\\alpha) D^{(1, 2)}_{cZ}(- i\\alpha, +i\\alpha) \\text{CP}^{(2, 2)}_{Z} \\text{CP}^{(1, 1)}_{Z} \\\\\n",
    "&= \\Large e^{\\left( \\alpha a^{\\dagger}_1 - \\alpha^{*} a_1  \\right) \\otimes Z_1 Z_2} e^{\\left( \\alpha a^{\\dagger}_2 - \\alpha^{*} a_2  \\right) \\otimes Z_1 Z_2}\n",
    "\\end{align}\n",
    "$$"
   ]
  },
  {
   "cell_type": "code",
   "execution_count": 19,
   "id": "4d1a1962",
   "metadata": {},
   "outputs": [
    {
     "data": {
      "text/plain": [
       "True"
      ]
     },
     "metadata": {},
     "output_type": "display_data"
    }
   ],
   "source": [
    "display(CPZ11.dag()*CPZ22.dag()*DZ12(-1j*α)*DZ21(-1j*α)*CPZ11*CPZ22 == \\\n",
    "(tensor(α*a.dag() - np.conj(α)*a, σ_z, Ib, σ_z)).expm()*(tensor(Ib, σ_z, α*a.dag() - np.conj(α)*a, σ_z)).expm())\n",
    "D12ZZ = lambda α: (tensor(α*a.dag() - np.conj(α)*a, σ_z, Ib, σ_z)).expm()\\\n",
    "        *(tensor(Ib, σ_z, α*a.dag() - np.conj(α)*a, σ_z)).expm()"
   ]
  },
  {
   "cell_type": "markdown",
   "id": "9493cf8b",
   "metadata": {},
   "source": [
    "$$ \\Large D^{(1, \\{1,2\\})}_{XX}(\\alpha) = \\text{CP}^{(1, 2)^{\\dagger}}_{X} D^{(1,1)}_{cX}(-i\\alpha, +i \\alpha) \\text{CP}^{(1, 2)}_X = e^{\\left( \\alpha a^{\\dagger}_1 - \\alpha^{*} a_1  \\right) \\otimes X_1 X_2} \\\\\n",
    "\\Large D^{(1, \\{1,2\\})}_{XX}(\\alpha) = \\text{CP}^{(1, 2)}_X D^{(1,1)}_{cX}(+i\\alpha, -i \\alpha) \\text{CP}^{(1, 2)^{\\dagger}}_X = e^{\\left( \\alpha a^{\\dagger}_1 - \\alpha^{*} a_1  \\right) \\otimes X_1 X_2} \\\\\n",
    "\\Large D^{(2, \\{1,2\\})}_{XX}(\\alpha) = \\text{CP}^{(2, 1)^{\\dagger}}_X D^{(2,2)}_{cX}(-i\\alpha, +i \\alpha) \\text{CP}^{(2, 1)}_X = e^{\\left( \\alpha a^{\\dagger}_2 - \\alpha^{*} a_2  \\right) \\otimes X_1 X_2} \\\\\n",
    "\\Large D^{(2, \\{1,2\\})}_{XX}(\\alpha) = \\text{CP}^{(2, 1)}_X D^{(2,2)}_{cX}(+i\\alpha, -i \\alpha) \\text{CP}^{(2, 1)^{\\dagger}}_X = e^{\\left( \\alpha a^{\\dagger}_2 - \\alpha^{*} a_2  \\right) \\otimes X_1 X_2}\n",
    "$$"
   ]
  },
  {
   "cell_type": "code",
   "execution_count": 20,
   "id": "b9e66100",
   "metadata": {},
   "outputs": [
    {
     "data": {
      "text/plain": [
       "True"
      ]
     },
     "metadata": {},
     "output_type": "display_data"
    },
    {
     "data": {
      "text/plain": [
       "True"
      ]
     },
     "metadata": {},
     "output_type": "display_data"
    },
    {
     "data": {
      "text/plain": [
       "True"
      ]
     },
     "metadata": {},
     "output_type": "display_data"
    },
    {
     "data": {
      "text/plain": [
       "True"
      ]
     },
     "metadata": {},
     "output_type": "display_data"
    }
   ],
   "source": [
    "CPX12 = (-1j*(np.pi/2)*tensor(a.dag()*a, I2, Ib, σ_x)).expm()\n",
    "CPX21 = (-1j*(np.pi/2)*tensor(Ib, σ_x, a.dag()*a, I2)).expm()\n",
    "display(CPX12.dag()*tensor(DcX(-1j*α, 1j*α),Ib,I2)*CPX12 == (tensor(α*a.dag() - np.conj(α)*a, σ_x, Ib, σ_x)).expm())\n",
    "display(CPX12*tensor(DcX(1j*α, -1j*α),Ib,I2)*CPX12.dag() == (tensor(α*a.dag() - np.conj(α)*a, σ_x, Ib, σ_x)).expm())\n",
    "display(CPX21.dag()*tensor(Ib,I2,DcX(-1j*α, 1j*α))*CPX21 == (tensor(Ib, σ_x, α*a.dag() - np.conj(α)*a, σ_x)).expm())\n",
    "display(CPX21*tensor(Ib,I2,DcX(1j*α, -1j*α))*CPX21.dag() == (tensor(Ib, σ_x, α*a.dag() - np.conj(α)*a, σ_x)).expm())"
   ]
  },
  {
   "cell_type": "markdown",
   "id": "c5d74355",
   "metadata": {},
   "source": [
    "$$ \\Large D^{(1, \\{1, 2\\})}_{XX}(\\alpha) = \\text{CP}^{{(1, 1)}^{\\dagger}}_{X} D^{(1, 2)}_{cX}(- i\\alpha, +i\\alpha) \\text{CP}^{(1, 1)}_{X} \\\\\n",
    "   \\Large D^{(2, \\{1, 2\\})}_{XX}(\\alpha) = \\text{CP}^{{(2, 2)}^{\\dagger}}_{X} D^{(2, 1)}_{cX}(- i\\alpha, +i\\alpha) \\text{CP}^{(2, 2)}_{X}\n",
    "$$"
   ]
  },
  {
   "cell_type": "code",
   "execution_count": 21,
   "id": "3d8d64a5",
   "metadata": {},
   "outputs": [
    {
     "data": {
      "text/plain": [
       "True"
      ]
     },
     "metadata": {},
     "output_type": "display_data"
    },
    {
     "data": {
      "text/plain": [
       "True"
      ]
     },
     "metadata": {},
     "output_type": "display_data"
    }
   ],
   "source": [
    "CPX11 = tensor(CPX, Ib, I2)\n",
    "CPX22 = tensor(Ib, I2, CPX)\n",
    "DX12 = lambda α:(tensor(α*a.dag() - np.conj(α)*a, I2, Ib, σ_x)).expm()\n",
    "DX21 = lambda α:(tensor(Ib, σ_x, α*a.dag() - np.conj(α)*a, I2)).expm()\n",
    "display(CPX11.dag()*DX12(-1j*α)*CPX11 == (tensor(α*a.dag() - np.conj(α)*a, σ_x, Ib, σ_x)).expm())\n",
    "display(CPX22.dag()*DX21(-1j*α)*CPX22 == (tensor(Ib, σ_x, α*a.dag() - np.conj(α)*a, σ_x)).expm())\n",
    "D1XX = lambda α: (tensor(α*a.dag() - np.conj(α)*a, σ_x, Ib, σ_x)).expm()\n",
    "D2XX = lambda α: (tensor(Ib, σ_x, α*a.dag() - np.conj(α)*a, σ_x)).expm()\n",
    "D12XX = lambda α: (tensor(α*a.dag() - np.conj(α)*a, σ_x, α*a.dag() - np.conj(α)*a, σ_x)).expm()"
   ]
  },
  {
   "cell_type": "markdown",
   "id": "9f61b064",
   "metadata": {},
   "source": [
    "$$ \n",
    "\\begin{align}\n",
    "        \\Large D^{(\\{1, 2\\} , \\{1, 2\\})}_{XX}(\\alpha) &= \\Large \\text{CP}^{{(2, 2)}^{\\dagger}}_{X} \\text{CP}^{{(1, 1)}^{\\dagger}}_{X} D^{(2, 1)}_{cX}(- i\\alpha, +i\\alpha) D^{(1, 2)}_{cX}(- i\\alpha, +i\\alpha) \\text{CP}^{(2, 2)}_{X} \\text{CP}^{(1, 1)}_{X} \\\\\n",
    "        &= \\Large e^{\\left( \\alpha a^{\\dagger}_1 - \\alpha^{*} a_1  \\right) \\otimes X_1 X_2} e^{\\left( \\alpha a^{\\dagger}_2 - \\alpha^{*} a_2  \\right) \\otimes X_1 X_2}\n",
    "\\end{align}\n",
    "$$"
   ]
  },
  {
   "cell_type": "code",
   "execution_count": 22,
   "id": "31420300",
   "metadata": {},
   "outputs": [
    {
     "data": {
      "text/plain": [
       "True"
      ]
     },
     "metadata": {},
     "output_type": "display_data"
    }
   ],
   "source": [
    "display(CPX11.dag()*CPX22.dag()*DX12(-1j*α)*DX21(-1j*α)*CPX11*CPX22 == \\\n",
    "(tensor(α*a.dag() - np.conj(α)*a, σ_x, Ib, σ_x)).expm()*(tensor(Ib, σ_x, α*a.dag() - np.conj(α)*a, σ_x)).expm())\n",
    "D12XX = lambda α: (tensor(α*a.dag() - np.conj(α)*a, σ_x, Ib, σ_x)).expm()\\\n",
    "        *(tensor(Ib, σ_x, α*a.dag() - np.conj(α)*a, σ_x)).expm()"
   ]
  },
  {
   "cell_type": "markdown",
   "id": "56390f12",
   "metadata": {},
   "source": [
    "$$ \\Large D^{(1, \\{1,2\\})}_{YY}(\\alpha) = \\text{CP}^{(1, 2)^{\\dagger}}_{Y} D^{(1,1)}_{cY}(-i\\alpha, +i \\alpha) \\text{CP}^{(1, 2)}_Y = e^{\\left( \\alpha a^{\\dagger}_1 - \\alpha^{*} a_1  \\right) \\otimes Y_1 Y_2} \\\\\n",
    "\\Large D^{(1, \\{1,2\\})}_{YY}(\\alpha) = \\text{CP}^{(1, 2)}_Y D^{(1,1)}_{cY}(+i\\alpha, -i \\alpha) \\text{CP}^{(1, 2)^{\\dagger}}_Y = e^{\\left( \\alpha a^{\\dagger}_1 - \\alpha^{*} a_1  \\right) \\otimes Y_1 Y_2} \\\\\n",
    "\\Large D^{(2, \\{1,2\\})}_{YY}(\\alpha) = \\text{CP}^{(2, 1)^{\\dagger}}_Y D^{(2,2)}_{cY}(-i\\alpha, +i \\alpha) \\text{CP}^{(2, 1)}_Y = e^{\\left( \\alpha a^{\\dagger}_2 - \\alpha^{*} a_2  \\right) \\otimes Y_1 Y_2} \\\\\n",
    "\\Large D^{(2, \\{1,2\\})}_{YY}(\\alpha) = \\text{CP}^{(2, 1)}_Y D^{(2,2)}_{cY}(+i\\alpha, -i \\alpha) \\text{CP}^{(2, 1)^{\\dagger}}_Y = e^{\\left( \\alpha a^{\\dagger}_2 - \\alpha^{*} a_2  \\right) \\otimes Y_1 Y_2}\n",
    "$$"
   ]
  },
  {
   "cell_type": "code",
   "execution_count": 23,
   "id": "e6287a20",
   "metadata": {},
   "outputs": [
    {
     "data": {
      "text/plain": [
       "True"
      ]
     },
     "metadata": {},
     "output_type": "display_data"
    },
    {
     "data": {
      "text/plain": [
       "True"
      ]
     },
     "metadata": {},
     "output_type": "display_data"
    },
    {
     "data": {
      "text/plain": [
       "True"
      ]
     },
     "metadata": {},
     "output_type": "display_data"
    },
    {
     "data": {
      "text/plain": [
       "True"
      ]
     },
     "metadata": {},
     "output_type": "display_data"
    }
   ],
   "source": [
    "CPY12 = (-1j*(np.pi/2)*tensor(a.dag()*a, I2, Ib, σ_y)).expm()\n",
    "CPY21 = (-1j*(np.pi/2)*tensor(Ib, σ_y, a.dag()*a, I2)).expm()\n",
    "display(CPY12.dag()*tensor(DcY(-1j*α, 1j*α),Ib,I2)*CPY12 == (tensor(α*a.dag() - np.conj(α)*a, σ_y, Ib, σ_y)).expm())\n",
    "display(CPY12*tensor(DcY(1j*α, -1j*α),Ib,I2)*CPY12.dag() == (tensor(α*a.dag() - np.conj(α)*a, σ_y, Ib, σ_y)).expm())\n",
    "display(CPY21.dag()*tensor(Ib,I2,DcY(-1j*α, 1j*α))*CPY21 == (tensor(Ib, σ_y, α*a.dag() - np.conj(α)*a, σ_y)).expm())\n",
    "display(CPY21*tensor(Ib,I2,DcY(1j*α, -1j*α))*CPY21.dag() == (tensor(Ib, σ_y, α*a.dag() - np.conj(α)*a, σ_y)).expm())"
   ]
  },
  {
   "cell_type": "markdown",
   "id": "654c3559",
   "metadata": {},
   "source": [
    "$$ \\Large D^{(1, \\{1, 2\\})}_{YY}(\\alpha) = \\text{CP}^{{(1, 1)}^{\\dagger}}_{Y} D^{(1, 2)}_{cY}(- i\\alpha, +i\\alpha) \\text{CP}^{(1, 1)}_{Y} \\\\\n",
    "   \\Large D^{(2, \\{1, 2\\})}_{YY}(\\alpha) = \\text{CP}^{{(2, 2)}^{\\dagger}}_{Y} D^{(2, 1)}_{cY}(- i\\alpha, +i\\alpha) \\text{CP}^{(2, 2)}_{Y}\n",
    "$$"
   ]
  },
  {
   "cell_type": "code",
   "execution_count": 24,
   "id": "2f07195d",
   "metadata": {},
   "outputs": [
    {
     "data": {
      "text/plain": [
       "True"
      ]
     },
     "metadata": {},
     "output_type": "display_data"
    },
    {
     "data": {
      "text/plain": [
       "True"
      ]
     },
     "metadata": {},
     "output_type": "display_data"
    }
   ],
   "source": [
    "CPY11 = tensor(CPY, Ib, I2)\n",
    "CPY22 = tensor(Ib, I2, CPY)\n",
    "DY12 = lambda α:(tensor(α*a.dag() - np.conj(α)*a, I2, Ib, σ_y)).expm()\n",
    "DY21 = lambda α:(tensor(Ib, σ_y, α*a.dag() - np.conj(α)*a, I2)).expm()\n",
    "display(CPY11.dag()*DY12(-1j*α)*CPY11 == (tensor(α*a.dag() - np.conj(α)*a, σ_y, Ib, σ_y)).expm())\n",
    "display(CPY22.dag()*DY21(-1j*α)*CPY22 == (tensor(Ib, σ_y, α*a.dag() - np.conj(α)*a, σ_y)).expm())\n",
    "D1YY = lambda α: (tensor(α*a.dag() - np.conj(α)*a, σ_y, Ib, σ_y)).expm()\n",
    "D2YY = lambda α: (tensor(Ib, σ_y, α*a.dag() - np.conj(α)*a, σ_y)).expm()\n",
    "D12YY = lambda α: (tensor(α*a.dag() - np.conj(α)*a, σ_y, α*a.dag() - np.conj(α)*a, σ_y)).expm()"
   ]
  },
  {
   "cell_type": "markdown",
   "id": "830e15a5",
   "metadata": {},
   "source": [
    "$$ \n",
    "\\begin{align}\n",
    "    \\Large D^{(\\{1, 2\\}, \\{1, 2\\})}_{YY}(\\alpha) &= \\Large \\text{CP}^{{(2, 2)}^{\\dagger}}_{Y} \\text{CP}^{{(1, 1)}^{\\dagger}}_{Y} D^{(2, 1)}_{cY}(- i\\alpha, +i\\alpha) D^{(1, 2)}_{cY}(- i\\alpha, +i\\alpha) \\text{CP}^{(2, 2)}_{Y} \\text{CP}^{(1, 1)}_{Y} \\\\\n",
    "    &= \\Large e^{\\left( \\alpha a^{\\dagger}_1 - \\alpha^{*} a_1  \\right) \\otimes Y_1 Y_2} e^{\\left( \\alpha a^{\\dagger}_2 - \\alpha^{*} a_2  \\right) \\otimes Y_1 Y_2}\n",
    "\\end{align}\n",
    "$$"
   ]
  },
  {
   "cell_type": "code",
   "execution_count": 25,
   "id": "bf8bddd0",
   "metadata": {},
   "outputs": [
    {
     "data": {
      "text/plain": [
       "True"
      ]
     },
     "metadata": {},
     "output_type": "display_data"
    }
   ],
   "source": [
    "display(CPY11.dag()*CPY22.dag()*DY12(-1j*α)*DY21(-1j*α)*CPY11*CPY22 == \\\n",
    "(tensor(α*a.dag() - np.conj(α)*a, σ_y, Ib, σ_y)).expm()*(tensor(Ib, σ_y, α*a.dag() - np.conj(α)*a, σ_y)).expm())\n",
    "D12YY = lambda α: (tensor(α*a.dag() - np.conj(α)*a, σ_y, Ib, σ_y)).expm()\\\n",
    "        *(tensor(Ib, σ_y, α*a.dag() - np.conj(α)*a, σ_y)).expm()"
   ]
  },
  {
   "cell_type": "markdown",
   "id": "c4a5948c",
   "metadata": {},
   "source": [
    "$$ \\Large D^{(1, \\{1,2 \\})}_{XYZ}(\\alpha, \\lambda, E_n) = D^{(1, \\{1,2 \\})}_{XX}(\\alpha) D^{(1, \\{1,2 \\})}_{YY} \n",
    "(\\alpha) D^{(1, \\{1,2 \\})}_{ZZ}(\\lambda \\alpha)D^{(1)}(-E_n \\alpha) = e^{\\left(\\alpha a^{\\dagger}_1 - \\alpha^{*} a_1  \\right) \\otimes \\left( X_1 X_2 + Y_1 Y_2 + \\lambda Z_1 Z_2 - E_n\\right)} \\\\\n",
    "\\Large D^{(2, \\{1,2 \\})}_{XYZ}(\\alpha, \\lambda, E_n) = D^{(2, \\{1,2 \\})}_{XX}(\\alpha) D^{(2, \\{1,2 \\})}_{YY} \n",
    "(\\alpha) D^{(2, \\{1,2 \\})}_{ZZ}(\\lambda \\alpha)D^{(2)}(-E_n \\alpha) = e^{\\left(\\alpha a^{\\dagger}_2 - \\alpha^{*} a_2  \\right) \\otimes \\left( X_1 X_2 + Y_1 Y_2 + \\lambda Z_1 Z_2 - E_n\\right)}\n",
    "$$"
   ]
  },
  {
   "cell_type": "code",
   "execution_count": 27,
   "id": "bd050c38",
   "metadata": {
    "code_folding": []
   },
   "outputs": [
    {
     "data": {
      "text/plain": [
       "True"
      ]
     },
     "metadata": {},
     "output_type": "display_data"
    },
    {
     "data": {
      "text/plain": [
       "True"
      ]
     },
     "metadata": {},
     "output_type": "display_data"
    }
   ],
   "source": [
    "# define XX + YY + ZZ \n",
    "λ = np.random.rand()\n",
    "E_n = np.random.rand()\n",
    "XXZ_offset_sum = tensor(σ_x, Ib, σ_x) + tensor(σ_y, Ib, σ_y) + λ*tensor(σ_z, Ib, σ_z) - E_n*tensor(I2, Ib, I2)\n",
    "display(D1XX(α)*D1YY(α)*D1ZZ(λ*α)*tensor(D(-E_n*α),I2,Ib,I2) == \\\n",
    "        (tensor(α*a.dag() - np.conj(α)*a, XXZ_offset_sum)).expm())\n",
    "display(D2XX(α)*D2YY(α)*D2ZZ(λ*α)*tensor(Ib,I2,D(-E_n*α),I2) == \\\n",
    "        (tensor(α*a.dag() - np.conj(α)*a, XXZ_offset_sum)).expm().permute([2,1,0,3]))"
   ]
  },
  {
   "cell_type": "markdown",
   "id": "a85c19d7",
   "metadata": {},
   "source": [
    "$$\n",
    "\\begin{align}\n",
    "    \\Large D^{(\\{1,2\\} , \\{1,2 \\})}_{XYZ}(\\alpha, \\lambda, E_n) &= \\Large D^{(\\{1, 2\\}, \\{1, 2\\})}_{XX}(\\alpha) (\\alpha) D^{(\\{1, 2\\}, \\{1, 2\\})}_{YY}(\\alpha) D^{(\\{1, 2\\}, \\{1, 2\\})}_{ZZ}(\\alpha) \\\\ \n",
    "    & \\Large \\times D^{(1)}(-E_n \\alpha) D^{(2)}(-E_n \\alpha)\\\\\n",
    "    &= \\Large e^{\\left(\\alpha a^{\\dagger}_1 - \\alpha^{*} a_1  \\right) \\otimes \\left( X_1 X_2 + Y_1 Y_2 + \\lambda Z_1 Z_2 - E_n\\right)} e^{\\left(\\alpha a^{\\dagger}_2 - \\alpha^{*} a_2  \\right) \\otimes \\left( X_1 X_2 + Y_1 Y_2 + \\lambda Z_1 Z_2 - E_n\\right)} \\\\\n",
    "    &= \\Large e^{\\left(\\alpha a^{\\dagger}_1 - \\alpha^{*} a_1  \\right) \\otimes \\left( \\hat{H}_{12} - E_n\\right)} e^{\\left(\\alpha a^{\\dagger}_2 - \\alpha^{*} a_2  \\right) \\otimes \\left( \\hat{H}_{12} - E_n\\right)}\n",
    "\\end{align}\n",
    "$$"
   ]
  },
  {
   "cell_type": "code",
   "execution_count": 28,
   "id": "8bac32dc",
   "metadata": {},
   "outputs": [
    {
     "data": {
      "text/plain": [
       "True"
      ]
     },
     "execution_count": 28,
     "metadata": {},
     "output_type": "execute_result"
    }
   ],
   "source": [
    "D12XX(α)*D12YY(α)*D12ZZ(λ*α)*tensor(D(-E_n*α),I2,D(-E_n*α),I2) == \\\n",
    "(tensor(α*a.dag() - np.conj(α)*a, XXZ_offset_sum)).expm()\\\n",
    "*(tensor(α*a.dag() - np.conj(α)*a, XXZ_offset_sum)).expm().permute([2,1,0,3])"
   ]
  },
  {
   "cell_type": "code",
   "execution_count": null,
   "id": "456c0cff",
   "metadata": {},
   "outputs": [],
   "source": []
  },
  {
   "cell_type": "markdown",
   "id": "15edfd5d",
   "metadata": {},
   "source": [
    "$$ \\Large D_{XYZ}(\\alpha, \\lambda, E_n) = D_{XX}(\\alpha) D_{YY} (\\alpha) D_{ZZ}(\\lambda \\alpha)D(-E_n \\alpha) = e^{\\left(\\alpha a^{\\dagger} - \\alpha^{*} a  \\right) \\otimes \\left( X_1 X_2 + Y_1 Y_2 + \\lambda Z_1 Z_2 - E_n\\right)} $$"
   ]
  },
  {
   "cell_type": "code",
   "execution_count": null,
   "id": "a59cc263",
   "metadata": {
    "code_folding": []
   },
   "outputs": [],
   "source": [
    "# define XX + YY + ZZ - E_n\n",
    "λ = np.random.rand()\n",
    "E_n = np.random.rand()\n",
    "XXZ_offset_sum = tensor(σ_x, Ib, σ_x) + tensor(σ_y, Ib, σ_y) + λ*tensor(σ_z, Ib, σ_z) - E_n*tensor(I2, Ib, I2)\n",
    "display(DXX(α)*DYY(α)*DZZ(λ*α)*tensor(D(-E_n*α),I2,Ib,I2) == (tensor(α*a.dag() - np.conj(α)*a, XXZ_offset_sum)).expm())"
   ]
  },
  {
   "cell_type": "code",
   "execution_count": null,
   "id": "aa5d3d26",
   "metadata": {
    "code_folding": []
   },
   "outputs": [],
   "source": [
    "# define DXYZ, a conditional displacement by α and scaled by XX + YY + ZZ - E_n \n",
    "def DXYZ(α, λ, E_n, cutoff):\n",
    "    \n",
    "    # define annihilation operator according to Fock space\n",
    "    a = destroy(cutoff)\n",
    "    \n",
    "    XXZ_offset_sum = tensor(σ_x, σ_x) + tensor(σ_y, σ_y) + λ*tensor(σ_z, σ_z) - E_n*tensor(I2, I2)\n",
    "    return (tensor(α*a.dag() - np.conj(α)*a, XXZ_offset_sum)).expm()"
   ]
  },
  {
   "cell_type": "markdown",
   "id": "703897da",
   "metadata": {},
   "source": [
    "# Ground State Projection for N = 2"
   ]
  },
  {
   "cell_type": "code",
   "execution_count": null,
   "id": "519dc5cd",
   "metadata": {
    "code_folding": [
     0
    ]
   },
   "outputs": [],
   "source": [
    "def ground_state_projection(cutoff, num_states, λ, E_n, α_start, α_end, steps, singlet):\n",
    "\n",
    "    # define operators for bosonic modes \n",
    "    a = destroy(cutoff)\n",
    "    Ib = identity(cutoff)\n",
    "\n",
    "    # define vacuum state for a cavity, and spin up and spin down states for qubits\n",
    "    vacuum = basis(cutoff, 0)\n",
    "    up = basis(2,0)\n",
    "    down = basis(2,1)\n",
    "\n",
    "    # define array over which we will sweep α\n",
    "    α_array = np.linspace(α_start, α_end, steps)\n",
    "\n",
    "    # with both cavities in vacuum, define initial state that is a random two-qubit state;\n",
    "    # for sanity check, also define singlet state with both cavities in vacuum\n",
    "    # initial_state = (tensor(vacuum, rand_ket(2), rand_ket(2))).unit()\n",
    "    initial_state_list = [(tensor(vacuum, rand_ket(2), rand_ket(2))).unit() for state in range(num_states)]\n",
    "\n",
    "    # define a singlet state and a density matrix for a singlet state\n",
    "    singlet_state = (tensor(up, down) - tensor(down, up)).unit()\n",
    "    ρ_singlet_state = singlet_state*singlet_state.dag()\n",
    "\n",
    "    # define projection operator that projects the first cavity onto the vacuum\n",
    "    P = tensor(vacuum*vacuum.dag(), I2, I2)\n",
    "\n",
    "    projection_fidelity_list = [[fidelity(ρ_singlet_state, ((P*DXYZ(α, λ, E_n, cutoff)*initial_state).unit()).ptrace([1,2])) \\\n",
    "                                 for α in α_array] for initial_state in initial_state_list]\n",
    "\n",
    "    # create plot \n",
    "    fig, ax = plt.subplots(figsize=(8, 6))\n",
    "\n",
    "    # # graph the projection of all initial states onto the singlet \n",
    "    for i, projection in enumerate(projection_fidelity_list): \n",
    "        ax.plot(α_array, projection, label=f'Inital Fidelity {projection[0] : .3f}')\n",
    "        \n",
    "    # plot ground state projection overlap with singlet as initial state\n",
    "    if singlet == True:\n",
    "        initial_state_singlet = (tensor(vacuum, up, down) - tensor(vacuum, down, up)).unit()\n",
    "        \n",
    "        singlet_projection = [fidelity(ρ_singlet_state, ((P*DXYZ(α, λ, E_n, cutoff)*initial_state_singlet).unit()).ptrace([1,2])) \\\n",
    "                                 for α in α_array]\n",
    "        \n",
    "        # plot projection onto singlet with singlet as initial state\n",
    "        ax.plot(α_array, singlet_projection, label = 'Singlet')\n",
    "\n",
    "    ax.set_xlabel(r'$\\alpha$')\n",
    "    ax.set_ylabel('Fidelity')\n",
    "    ax.set_title('Singlet Projection Fidelity')\n",
    "    ax.legend()\n",
    "    ax.grid(True)"
   ]
  },
  {
   "cell_type": "code",
   "execution_count": null,
   "id": "3f96d5d6",
   "metadata": {},
   "outputs": [],
   "source": [
    "# define parameters for ground state projection\n",
    "cutoff = 30\n",
    "num_states = 5\n",
    "λ = 1\n",
    "E_n = -3\n",
    "α_start = 0\n",
    "α_end = 2\n",
    "steps = 50\n",
    "\n",
    "ground_state_projection(cutoff, num_states, λ, E_n, α_start, α_end, steps, singlet = False)"
   ]
  },
  {
   "cell_type": "code",
   "execution_count": null,
   "id": "7381678f",
   "metadata": {
    "code_folding": [
     0,
     3
    ]
   },
   "outputs": [],
   "source": [
    "def DS(α, cutoff):\n",
    "    a = destroy(cutoff)\n",
    "    return (α*a.dag() - np.conj(α)*a).expm()\n",
    "def displace_vacuum(cutoff, α, xlim, ylim, steps):\n",
    "    \n",
    "    # define density matrix of displaced coherent state \n",
    "    a = destroy(cutoff)\n",
    "    vacuum = basis(cutoff)\n",
    "    ρ_coherent = (DS(α, cutoff)*vacuum)*(DS(α, cutoff)*vacuum).dag()\n",
    "    \n",
    "    # create Wigner data\n",
    "    x = np.linspace(-xlim, xlim, steps)\n",
    "    y = np.linspace(-ylim, ylim, steps)\n",
    "    W = wigner(ρ_coherent, x, y)\n",
    "    wmap = wigner_cmap(W)  # Generate Wigner colormap\n",
    "    nrm = mpl.colors.Normalize(-W.max(), W.max())\n",
    "\n",
    "    # generate plot\n",
    "    fig, ax = plt.subplots(figsize=(8, 6))\n",
    "    plot = ax.contourf(x, y, W, 100, cmap=cm.RdBu, norm=nrm)\n",
    "    cb1 = fig.colorbar(plot, ax = ax)\n",
    "    ax.set_title(f'α = {α}'); "
   ]
  },
  {
   "cell_type": "code",
   "execution_count": null,
   "id": "66ff9604",
   "metadata": {},
   "outputs": [],
   "source": [
    "# define parameters \n",
    "cutoff = 20\n",
    "α = 1\n",
    "xlim = 5\n",
    "ylim = 5\n",
    "steps = 100\n",
    "displace_vacuum(cutoff, α, xlim, ylim, steps)"
   ]
  },
  {
   "cell_type": "code",
   "execution_count": null,
   "id": "02adeda2",
   "metadata": {},
   "outputs": [],
   "source": []
  },
  {
   "cell_type": "markdown",
   "id": "96afe1cc",
   "metadata": {},
   "source": [
    "# Ground State Projection for N = 3"
   ]
  },
  {
   "cell_type": "code",
   "execution_count": null,
   "id": "b35f1828",
   "metadata": {},
   "outputs": [],
   "source": [
    "# define parameters for ground state projection\n",
    "cutoff = 10\n",
    "num_states = 5\n",
    "λ = 1\n",
    "E_n = -3\n",
    "α_start = 0\n",
    "α_end = 2\n",
    "steps = 50"
   ]
  },
  {
   "cell_type": "code",
   "execution_count": null,
   "id": "235ee91a",
   "metadata": {},
   "outputs": [],
   "source": [
    "# define DXYZ, a conditional displacement by α and scaled by XX + YY + ZZ - E_n \n",
    "def Dxyz(cavity, α, λ, E_n, cutoff):\n",
    "    \n",
    "    # define annihilation operator according to Fock space\n",
    "    a = destroy(cutoff)\n",
    "    \n",
    "    # specificy tensor products for qubits \n",
    "    XXZ_offset_sum = tensor(σ_x, σ_x) + tensor(σ_y, σ_y) + λ*tensor(σ_z, σ_z) - E_n*tensor(I2, I2)\n",
    "    \n",
    "    if cavity == 1: \n",
    "        return (tensor(α*a.dag() - np.conj(α)*a, XXZ_offset_sum)).expm()\n",
    "    elif cavity == 2: \n",
    "        "
   ]
  },
  {
   "cell_type": "code",
   "execution_count": null,
   "id": "f5b68302",
   "metadata": {},
   "outputs": [],
   "source": []
  },
  {
   "cell_type": "code",
   "execution_count": null,
   "id": "be20576c",
   "metadata": {},
   "outputs": [],
   "source": []
  },
  {
   "cell_type": "markdown",
   "id": "91671714",
   "metadata": {
    "heading_collapsed": true
   },
   "source": [
    "# Additional Gates"
   ]
  },
  {
   "cell_type": "markdown",
   "id": "8593e0a7",
   "metadata": {
    "hidden": true
   },
   "source": [
    "$$ \\Large U_{\\text{CNOT}} = e^{i \\frac{\\pi}{4} \\left[I_1 - Z_1 \\right] \\otimes \\left[I_2 - X_2 \\right]} $$"
   ]
  },
  {
   "cell_type": "code",
   "execution_count": null,
   "id": "209565b8",
   "metadata": {
    "hidden": true
   },
   "outputs": [],
   "source": [
    "cutoff= 10\n",
    "# define horizontal and vertical displacements for CNOT\n",
    "α = np.sqrt(π/2)\n",
    "U1_cnot = tensor([Dc(0, α),Ib, I2])\n",
    "U2_cnot = BS(π,π/2)*tensor([Ib, I2, DcX(0, 1j*α)])*BS(π,-π/2)\n",
    "\n",
    "# carve out area in phase space according to CNOT conditions\n",
    "U_cnot = (U2_cnot.dag()*U1_cnot.dag()*U2_cnot*U1_cnot)\n",
    "\n",
    "# define projection operator that projects both cavities onto the vacuum\n",
    "P = tensor(basis(cutoff,0),I2,basis(cutoff,0),I2)\n",
    "P.dag()*U_cnot*P"
   ]
  },
  {
   "cell_type": "markdown",
   "id": "a754faff",
   "metadata": {
    "hidden": true
   },
   "source": [
    "$$ \\Large U_{\\text{TOFF}} = e^{i \\frac{\\pi}{8} \\left[I_1 - Z_1 \\right] \\otimes \\left[I_2 - Z_2 \\right] \\otimes \\left[I_3 - X_3 \\right]} $$"
   ]
  },
  {
   "cell_type": "code",
   "execution_count": null,
   "id": "43deec3a",
   "metadata": {
    "hidden": true
   },
   "outputs": [],
   "source": [
    "α = np.sqrt(π/2)"
   ]
  },
  {
   "cell_type": "code",
   "execution_count": null,
   "id": "cab8c861",
   "metadata": {
    "hidden": true
   },
   "outputs": [],
   "source": [
    "# define horizontal and vertical displacements \n",
    "α = np.sqrt(π/2)\n",
    "cp = tensor(CP(),I2).permute([0,2,1])\n",
    "d1 = tensor([Dc(0,-1j*α/2),I2])\n",
    "d2 = tensor([Dc(0, α/2),I2])\n",
    "U12 = tensor([d2*cp*d1*cp.dag(),I2])\n",
    "U3 = tensor([DcX(0, 1j*α),I2,I2]).permute([0,3,2,1])\n",
    "\n",
    "# carve out area in phase space according to Toffoli conditions\n",
    "Utoff = U3.dag()*U12.dag()*U3*U12\n",
    "\n",
    "# trace out both cavities by projecting them onto vacuum\n",
    "P = tensor(basis(cutoff,0),I2,I2,I2)\n",
    "P.dag()*Utoff*P"
   ]
  },
  {
   "cell_type": "code",
   "execution_count": null,
   "id": "ce39a717",
   "metadata": {
    "hidden": true
   },
   "outputs": [],
   "source": []
  },
  {
   "cell_type": "code",
   "execution_count": null,
   "id": "13bbdf70",
   "metadata": {
    "hidden": true
   },
   "outputs": [],
   "source": []
  },
  {
   "cell_type": "markdown",
   "id": "d7dd5cba",
   "metadata": {},
   "source": [
    "# Parallelized Gates"
   ]
  },
  {
   "cell_type": "markdown",
   "id": "1a9b70bd",
   "metadata": {},
   "source": [
    "$$ \\Large \\text{CNOT}^{(||)} = e^{i \\frac{\\pi}{4} \\left[I_1 - Z_1 \\right] \\otimes \\left[I_2 - X_2 \\right]} $$"
   ]
  },
  {
   "cell_type": "code",
   "execution_count": null,
   "id": "9a855f52-6a99-42c2-8935-b9c33d21c6e1",
   "metadata": {},
   "outputs": [],
   "source": [
    "# describe horiztonal and vertical displacements in phase space according to CNOT conditions\n",
    "α = np.sqrt(π)/2\n",
    "term1  = tensor([DcZ(0, α), DcZ(0, α)])\n",
    "term2 = BS(π,π/2)*tensor([DcZ(0, -1j*α), DcZ(0, 1j*α)])*BS(π,-π/2)\n",
    "term3  = tensor([DcZ(0, -α), DcZ(0, -α)])\n",
    "term4 = BS(π,π/2)*tensor([DcZ(0, 1j*α), DcZ(0, -1j*α)])*BS(π,-π/2)\n",
    "\n",
    "# U = tensor(Ib,I2,Ib,H)*term2.dag()*term1.dag()*term2*term1*tensor(Ib,I2,Ib,H)\n",
    "U = tensor(Ib,I2,Ib,H)*term4*term3*term2*term1*tensor(Ib,I2,Ib,H)\n",
    "\n",
    "P = tensor(basis(cutoff,0),I2,basis(cutoff,0),I2)\n",
    "P.dag()*U*P"
   ]
  },
  {
   "cell_type": "markdown",
   "id": "c30597e4",
   "metadata": {},
   "source": [
    "$$ \\Large R_{ZZ}^{(||)}(\\theta) = e^{- i \\frac{\\theta}{2} Z_1 \\otimes Z_2} $$"
   ]
  },
  {
   "cell_type": "code",
   "execution_count": null,
   "id": "02584dc4",
   "metadata": {},
   "outputs": [],
   "source": [
    "# define random θ and α as a function of θ\n",
    "# two different phase space diagrams, each of which have 4 panels which individually enclose α/2\n",
    "θ = np.random.rand()\n",
    "α = np.sqrt(θ/4)/np.sqrt(2)\n",
    "\n",
    "# note that the tensor space of the beamsplitter is cavity_1 ⊗ qubit_1 ⊗ cavity_2 ⊗ qubit_2\n",
    "# the tensor space of term1 is cavity_1 ⊗ qubit_1 ⊗ cavity_2 ⊗ qubit_2\n",
    "term1  = tensor(DcZ(-α,α), DcZ(-α,α))\n",
    "\n",
    "# swap mode 1 and 2 before applying two conditional displacements in parallel. \n",
    "term2 = BS(π,-π/2).dag()*tensor(DcZ(-1j*α,1j*α),DcZ(1j*α,-1j*α))*BS(π,-π/2)\n",
    "\n",
    "# gate sequence that carves out area in phase space according to RZZ conditions\n",
    "U = term2.dag()*term1.dag()*term2*term1\n",
    "\n",
    "# projection operator that begins in the ground state\n",
    "P = tensor(basis(cutoff,0),I2,basis(cutoff,0),I2)\n",
    "\n",
    "# trace out oscillator by assuming we start and end in the ground state\n",
    "RZZ_parallel_synthesized = P.dag()*U*P \n",
    "\n",
    "# explicitly define RZZ gate\n",
    "RZZ_direct = (-1j*θ*tensor(σ_z, σ_z/2)).expm()\n",
    "\n",
    "# check whether RZZ_direct and RZZ_parallel_sythesized are equal \n",
    "RZZ_parallel_synthesized == RZZ_direct "
   ]
  },
  {
   "cell_type": "markdown",
   "id": "d2e4a8b7",
   "metadata": {},
   "source": [
    "$$ \\Large R_{XX}^{(||)}(\\theta) = e^{- i \\frac{\\theta}{2} X_1 \\otimes X_2} $$"
   ]
  },
  {
   "cell_type": "code",
   "execution_count": null,
   "id": "cfa85d41",
   "metadata": {},
   "outputs": [],
   "source": [
    "# define random θ and α as a function of θ\n",
    "# two different phase space diagrams, each of which have 4 panels which individually enclose α/2\n",
    "θ = np.random.rand()\n",
    "α = np.sqrt(θ/4)/np.sqrt(2)\n",
    "\n",
    "# note that the tensor space of the beamsplitter is cavity_1 ⊗ qubit_1 ⊗ cavity_2 ⊗ qubit_2\n",
    "# the tensor space of term1 is cavity_1 ⊗ qubit_1 ⊗ cavity_2 ⊗ qubit_2\n",
    "term1  = tensor(DcX(-α,α), DcX(-α,α))\n",
    "\n",
    "# swap mode 1 and 2 before applying two conditional displacements in parallel. \n",
    "term2 = BS(π,-π/2).dag()*tensor(DcX(-1j*α,1j*α),DcX(1j*α,-1j*α))*BS(π,-π/2)\n",
    "\n",
    "# gate sequence that carves out area in phase space according to RZZ conditions\n",
    "U = term2.dag()*term1.dag()*term2*term1\n",
    "\n",
    "# projection operator that begins in the ground state\n",
    "P = tensor(basis(cutoff,0),I2,basis(cutoff,0),I2)\n",
    "\n",
    "# trace out oscillator by assuming we start and end in the ground state\n",
    "RXX_parallel_synthesized = P.dag()*U*P \n",
    "\n",
    "# explicitly define RZZ gate\n",
    "RXX_direct = (-1j*θ*tensor(σ_x, σ_x/2)).expm()\n",
    "\n",
    "# check whether RZZ_direct and RZZ_parallel_sythesized are equal \n",
    "RXX_parallel_synthesized == RXX_direct "
   ]
  },
  {
   "cell_type": "markdown",
   "id": "96b5d703",
   "metadata": {},
   "source": [
    "$$ \\Large R_{YY}^{(||)}(\\theta) = e^{- i \\frac{\\theta}{2} Y_1 \\otimes Y_2} $$"
   ]
  },
  {
   "cell_type": "code",
   "execution_count": null,
   "id": "d4061259",
   "metadata": {},
   "outputs": [],
   "source": [
    "# define random θ and α as a function of θ\n",
    "# two different phase space diagrams, each of which have 4 panels which individually enclose α/2\n",
    "θ = np.random.rand()\n",
    "α = np.sqrt(θ/4)/np.sqrt(2)\n",
    "\n",
    "# note that the tensor space of the beamsplitter is cavity_1 ⊗ qubit_1 ⊗ cavity_2 ⊗ qubit_2\n",
    "# the tensor space of term1 is cavity_1 ⊗ qubit_1 ⊗ cavity_2 ⊗ qubit_2\n",
    "term1  = tensor(DcY(-α,α), DcY(-α,α))\n",
    "\n",
    "# swap mode 1 and 2 before applying two conditional displacements in parallel. \n",
    "term2 = BS(π,-π/2).dag()*tensor(DcY(-1j*α,1j*α), DcY(1j*α,-1j*α))*BS(π,-π/2)\n",
    "\n",
    "# gate sequence that carves out area in phase space according to RZZ conditions\n",
    "U = term2.dag()*term1.dag()*term2*term1\n",
    "\n",
    "# projection operator that begins in the ground state\n",
    "P = tensor(basis(cutoff,0),I2,basis(cutoff,0),I2)\n",
    "\n",
    "# trace out oscillator by assuming we start and end in the ground state\n",
    "RYY_parallel_synthesized = P.dag()*U*P \n",
    "\n",
    "# explicitly define RZZ gate\n",
    "RYY_direct = (-1j*θ*tensor(σ_y, σ_y/2)).expm()\n",
    "\n",
    "# check whether RZZ_direct and RZZ_parallel_sythesized are equal \n",
    "RYY_parallel_synthesized == RYY_direct "
   ]
  },
  {
   "cell_type": "markdown",
   "id": "5a433fcb",
   "metadata": {},
   "source": [
    "$$ \\Large \\text{CNOT}^{(||)} = e^{i \\frac{\\pi}{4} \\left[I_1 - Z_1 \\right] \\otimes \\left[I_2 - X_2 \\right]} $$"
   ]
  },
  {
   "cell_type": "code",
   "execution_count": null,
   "id": "a371ddf7",
   "metadata": {},
   "outputs": [],
   "source": [
    "# describe horiztonal and vertical displacements in phase space according to CNOT conditions\n",
    "α = np.sqrt(π)/2\n",
    "term1  = tensor([DcZ(0, α), DcZ(0, α)])\n",
    "term2 = BS(π,π/2)*tensor([DcZ(0, -1j*α), DcZ(0, 1j*α)])*BS(π,-π/2)\n",
    "term3  = tensor([DcZ(0, -α), DcZ(0, -α)])\n",
    "term4 = BS(π,π/2)*tensor([DcZ(0, 1j*α), DcZ(0, -1j*α)])*BS(π,-π/2)\n",
    "\n",
    "# U = tensor(Ib,I2,Ib,H)*term2.dag()*term1.dag()*term2*term1*tensor(Ib,I2,Ib,H)\n",
    "U = tensor(Ib,I2,Ib,H)*term4*term3*term2*term1*tensor(Ib,I2,Ib,H)\n",
    "\n",
    "P = tensor(basis(cutoff,0),I2,basis(cutoff,0),I2)\n",
    "P.dag()*U*P"
   ]
  },
  {
   "cell_type": "markdown",
   "id": "400cfbec",
   "metadata": {},
   "source": [
    "$$ \\Large R_{xz}^{(||)} \\left( \\theta \\right) = e^{- i \\frac{\\theta}{2} \\left(X_1 \\otimes X_2 + Z_1 \\otimes Z_2 \\right ) }$$"
   ]
  },
  {
   "cell_type": "code",
   "execution_count": null,
   "id": "de149811",
   "metadata": {},
   "outputs": [],
   "source": [
    "# define random θ and α as a function of θ\n",
    "θ = 0.5\n",
    "α = np.sqrt(θ/4)/np.sqrt(2)\n",
    "\n",
    "# note that the tensor space of the beamsplitter is cavity_1 ⊗ qubit_1 ⊗ cavity_2 ⊗ qubit_2\n",
    "# the tensor space of term1 is cavity_1 ⊗ qubit_1 ⊗ cavity_2 ⊗ qubit_2\n",
    "term1  = tensor(DcX(-α,α), DcZ(-α,α))\n",
    "\n",
    "# swap mode 1 and 2 before applying two conditional displacements in parallel. \n",
    "term2 = BS(π,-π/2).dag()*tensor(DcZ(-1j*α,1j*α), DcX(1j*α,-1j*α))*BS(π,-π/2)\n",
    "\n",
    "# gate sequence that carves out area in phase space according to RZZ conditions\n",
    "U = term2.dag()*term1.dag()*term2*term1\n",
    "\n",
    "# projection operator that begins in the ground state\n",
    "P = tensor(basis(cutoff,0),I2,basis(cutoff,0),I2)\n",
    "\n",
    "# trace out oscillator by assuming we start and end in the ground state\n",
    "RXZ_parallel_synthesized = P.dag()*U*P \n",
    "\n",
    "# explicitly define RZZ gate\n",
    "RXZ_direct = (-1j*θ/2*(tensor(σ_x, σ_x)+ tensor(σ_z, σ_z))).expm()\n",
    "\n",
    "# check whether RZZ_direct and RZZ_parallel_sythesized are equal \n",
    "RXZ_parallel_synthesized == RXZ_direct "
   ]
  },
  {
   "cell_type": "code",
   "execution_count": null,
   "id": "bbbc638f",
   "metadata": {},
   "outputs": [],
   "source": [
    "RXZ_parallel_synthesized"
   ]
  },
  {
   "cell_type": "code",
   "execution_count": null,
   "id": "4cfbd4f0",
   "metadata": {},
   "outputs": [],
   "source": [
    "RXZ_direct"
   ]
  },
  {
   "cell_type": "code",
   "execution_count": null,
   "id": "8944e976",
   "metadata": {},
   "outputs": [],
   "source": [
    "abs(np.linalg.det((RXZ_parallel_synthesized - RXZ_direct).full()))"
   ]
  },
  {
   "cell_type": "code",
   "execution_count": null,
   "id": "4ffbc1ee",
   "metadata": {},
   "outputs": [],
   "source": []
  },
  {
   "cell_type": "code",
   "execution_count": null,
   "id": "30921b4b",
   "metadata": {},
   "outputs": [],
   "source": []
  },
  {
   "cell_type": "code",
   "execution_count": null,
   "id": "43cf7268",
   "metadata": {},
   "outputs": [],
   "source": []
  },
  {
   "cell_type": "code",
   "execution_count": null,
   "id": "dee985fb",
   "metadata": {},
   "outputs": [],
   "source": []
  },
  {
   "cell_type": "code",
   "execution_count": null,
   "id": "48a41f6f-bc6d-4af0-a000-e1a3c8cfdaac",
   "metadata": {},
   "outputs": [],
   "source": [
    "## XX+ZZ parallel\n",
    "\n",
    "theta = np.pi/2\n",
    "alpha = np.sqrt(theta/4)/np.sqrt(2)\n",
    "\n",
    "H = Qobj([[1,1],[1,-1]],dims=[[2],[2]])/np.sqrt(2)\n",
    "\n",
    "term1  = tensor(Ib,I2,Ib,H)*tensor(Dc(-alpha,alpha),Dc(-alpha,alpha))*tensor(Ib,I2,Ib,H)\n",
    "term2 = tensor(Ib,I2,Ib,H)*BS(np.pi,np.pi/2)*tensor(Dc(-1j*alpha,1j*alpha),Dc(1j*alpha,-1j*alpha))*BS(np.pi,-np.pi/2)*tensor(Ib,I2,Ib,H)\n",
    "# term3  = tensor(Ib,I2,Ib,H)*tensor(Dc(alpha,-alpha),Dc(alpha,-alpha))*tensor(Ib,I2,Ib,H)\n",
    "# term4 = tensor(Ib,H,Ib,I2)*BS(np.pi,np.pi/2)*tensor(Dc(1j*alpha,-1j*alpha),Dc(-1j*alpha,1j*alpha))*BS(np.pi,-np.pi/2)*tensor(Ib,H,Ib,I2)\n",
    "\n",
    "# term1  = tensor(Dc(-alpha,alpha),Dc(-alpha,alpha))\n",
    "# term2 = BS(np.pi,np.pi/2)*tensor(Dc(-1j*alpha,1j*alpha),Dc(1j*alpha,-1j*alpha))*BS(np.pi,-np.pi/2)\n",
    "# term3  = tensor(Dc(alpha,-alpha),Dc(alpha,-alpha))\n",
    "# term4 = BS(np.pi,np.pi/2)*tensor(Dc(1j*alpha,-1j*alpha),Dc(-1j*alpha,1j*alpha))*BS(np.pi,-np.pi/2)\n",
    "\n",
    "# U = tensor(Ib,I2,Ib,H)*term2.dag()*term1.dag()*term2*term1*tensor(Ib,I2,Ib,H)\n",
    "U = term2.dag()*term1.dag()*term2*term1"
   ]
  },
  {
   "cell_type": "code",
   "execution_count": null,
   "id": "ddc1116f-3419-4586-a0e1-717c43ee4d73",
   "metadata": {},
   "outputs": [],
   "source": [
    "P = tensor(basis(cutoff,0).dag(),I2,basis(cutoff,0).dag(),I2)\n",
    "P*U*P.dag()"
   ]
  },
  {
   "cell_type": "code",
   "execution_count": null,
   "id": "88820a71-50ee-4edd-86f6-373a8ea7ff7a",
   "metadata": {},
   "outputs": [],
   "source": [
    "(-1j*(theta/2)*(tensor(sigmaz(),sigmaz()) + tensor(sigmax(),sigmax()))).expm()"
   ]
  },
  {
   "cell_type": "code",
   "execution_count": null,
   "id": "2ce882c3",
   "metadata": {},
   "outputs": [],
   "source": [
    "# describe horiztonal and vertical displacements in phase space according to CNOT conditions\n",
    "α = np.sqrt(π)/2\n",
    "term1  = tensor([DcZ(0, α), DcZ(0, α)])\n",
    "term2 = BS(π,π/2)*tensor([DcZ(0, -1j*α), DcZ(0, 1j*α)])*BS(π,-π/2)\n",
    "term3  = tensor([DcZ(0, -α), DcZ(0, -α)])\n",
    "term4 = BS(π,π/2)*tensor([DcZ(0, 1j*α), DcZ(0, -1j*α)])*BS(π,-π/2)\n",
    "\n",
    "# U = tensor(Ib,I2,Ib,H)*term2.dag()*term1.dag()*term2*term1*tensor(Ib,I2,Ib,H)\n",
    "U = tensor(Ib,I2,Ib,H)*term4*term3*term2*term1*tensor(Ib,I2,Ib,H)\n",
    "\n",
    "P = tensor(basis(cutoff,0),I2,basis(cutoff,0),I2)\n",
    "P.dag()*U*P"
   ]
  },
  {
   "cell_type": "code",
   "execution_count": null,
   "id": "63927007-19d9-4108-acfa-e149e9f969dd",
   "metadata": {},
   "outputs": [],
   "source": [
    "np.arctan(0.132/0.932)/np.pi"
   ]
  },
  {
   "cell_type": "code",
   "execution_count": null,
   "id": "692f2a03-3809-4a07-9222-c5484ce79360",
   "metadata": {},
   "outputs": [],
   "source": [
    "np.sqrt(1/5)"
   ]
  },
  {
   "cell_type": "code",
   "execution_count": null,
   "id": "bc9ee8b5",
   "metadata": {},
   "outputs": [],
   "source": []
  },
  {
   "cell_type": "code",
   "execution_count": null,
   "id": "aa4e7083-ee9d-4f86-ae8f-a691a97f0b0a",
   "metadata": {},
   "outputs": [],
   "source": [
    "Util = P*U*P.dag()"
   ]
  },
  {
   "cell_type": "code",
   "execution_count": null,
   "id": "674b2044-0b09-43fd-ab1a-7d66022145db",
   "metadata": {},
   "outputs": [],
   "source": [
    "Util.dag()*Util"
   ]
  }
 ],
 "metadata": {
  "kernelspec": {
   "display_name": "Python 3 (ipykernel)",
   "language": "python",
   "name": "python3"
  },
  "language_info": {
   "codemirror_mode": {
    "name": "ipython",
    "version": 3
   },
   "file_extension": ".py",
   "mimetype": "text/x-python",
   "name": "python",
   "nbconvert_exporter": "python",
   "pygments_lexer": "ipython3",
   "version": "3.11.7"
  },
  "varInspector": {
   "cols": {
    "lenName": 16,
    "lenType": 16,
    "lenVar": 40
   },
   "kernels_config": {
    "python": {
     "delete_cmd_postfix": "",
     "delete_cmd_prefix": "del ",
     "library": "var_list.py",
     "varRefreshCmd": "print(var_dic_list())"
    },
    "r": {
     "delete_cmd_postfix": ") ",
     "delete_cmd_prefix": "rm(",
     "library": "var_list.r",
     "varRefreshCmd": "cat(var_dic_list()) "
    }
   },
   "types_to_exclude": [
    "module",
    "function",
    "builtin_function_or_method",
    "instance",
    "_Feature"
   ],
   "window_display": false
  }
 },
 "nbformat": 4,
 "nbformat_minor": 5
}
