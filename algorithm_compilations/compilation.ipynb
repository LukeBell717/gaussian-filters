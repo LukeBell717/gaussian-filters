{
 "cells": [
  {
   "cell_type": "code",
   "execution_count": 3,
   "id": "f8b786b0-35ea-48ed-8b05-52ebde2023c8",
   "metadata": {},
   "outputs": [],
   "source": [
    "from qutip import *\n",
    "import numpy as np"
   ]
  },
  {
   "cell_type": "code",
   "execution_count": 4,
   "id": "f2f01d0e",
   "metadata": {},
   "outputs": [
    {
     "data": {
      "text/latex": [
       "Quantum object: dims = [[5], [5]], shape = (5, 5), type = oper, isherm = False $ \\\\ \\left(\\begin{matrix}0.0 & 0.0 & 0.0 & 0.0 & 0.0\\\\1.0 & 0.0 & 0.0 & 0.0 & 0.0\\\\0.0 & 1.414 & 0.0 & 0.0 & 0.0\\\\0.0 & 0.0 & 1.732 & 0.0 & 0.0\\\\0.0 & 0.0 & 0.0 & 2.0 & 0.0\\\\\\end{matrix}\\right)$"
      ],
      "text/plain": [
       "Quantum object: dims = [[5], [5]], shape = (5, 5), type = oper, isherm = False\n",
       "Qobj data =\n",
       "[[0.         0.         0.         0.         0.        ]\n",
       " [1.         0.         0.         0.         0.        ]\n",
       " [0.         1.41421356 0.         0.         0.        ]\n",
       " [0.         0.         1.73205081 0.         0.        ]\n",
       " [0.         0.         0.         2.         0.        ]]"
      ]
     },
     "execution_count": 4,
     "metadata": {},
     "output_type": "execute_result"
    }
   ],
   "source": [
    "a = create(5)\n",
    "a"
   ]
  },
  {
   "cell_type": "code",
   "execution_count": 5,
   "id": "86ede837",
   "metadata": {},
   "outputs": [
    {
     "data": {
      "text/latex": [
       "Quantum object: dims = [[2, 2], [2, 2]], shape = (4, 4), type = oper, isherm = True $ \\\\ \\left(\\begin{matrix}0.0 & 0.0 & 1.0 & 0.0\\\\0.0 & 0.0 & 0.0 & 1.0\\\\1.0 & 0.0 & 0.0 & 0.0\\\\0.0 & 1.0 & 0.0 & 0.0\\\\\\end{matrix}\\right)$"
      ],
      "text/plain": [
       "Quantum object: dims = [[2, 2], [2, 2]], shape = (4, 4), type = oper, isherm = True\n",
       "Qobj data =\n",
       "[[0. 0. 1. 0.]\n",
       " [0. 0. 0. 1.]\n",
       " [1. 0. 0. 0.]\n",
       " [0. 1. 0. 0.]]"
      ]
     },
     "execution_count": 5,
     "metadata": {},
     "output_type": "execute_result"
    }
   ],
   "source": [
    "tensor(sigmax(), identity(2))"
   ]
  },
  {
   "cell_type": "code",
   "execution_count": 6,
   "id": "7243a583",
   "metadata": {},
   "outputs": [
    {
     "data": {
      "text/latex": [
       "Quantum object: dims = [[5, 2, 5, 2], [5, 2, 5, 2]], shape = (100, 100), type = oper, isherm = False $ \\\\ \\left(\\begin{matrix}0.0 & 0.0 & 0.0 & 0.0 & 0.0 & \\cdots & 0.0 & 0.0 & 0.0 & 0.0 & 0.0\\\\0.0 & 0.0 & 0.0 & 0.0 & 0.0 & \\cdots & 0.0 & 0.0 & 0.0 & 0.0 & 0.0\\\\0.0 & 0.0 & 0.0 & 0.0 & 0.0 & \\cdots & 0.0 & 0.0 & 0.0 & 0.0 & 0.0\\\\0.0 & 0.0 & 0.0 & 0.0 & 0.0 & \\cdots & 0.0 & 0.0 & 0.0 & 0.0 & 0.0\\\\0.0 & 0.0 & 0.0 & 0.0 & 0.0 & \\cdots & 0.0 & 0.0 & 0.0 & 0.0 & 0.0\\\\\\vdots & \\vdots & \\vdots & \\vdots & \\vdots & \\ddots & \\vdots & \\vdots & \\vdots & \\vdots & \\vdots\\\\0.0 & 0.0 & 0.0 & 0.0 & 0.0 & \\cdots & 0.0 & 0.0 & 0.0 & 0.0 & 0.0\\\\0.0 & 0.0 & 0.0 & 0.0 & 0.0 & \\cdots & 0.0 & 0.0 & 0.0 & 0.0 & 0.0\\\\0.0 & 0.0 & 0.0 & 0.0 & 0.0 & \\cdots & 0.0 & 0.0 & 0.0 & 0.0 & 0.0\\\\0.0 & 0.0 & 0.0 & 0.0 & 0.0 & \\cdots & 0.0 & 0.0 & 0.0 & 0.0 & 0.0\\\\0.0 & 0.0 & 0.0 & 0.0 & 0.0 & \\cdots & 0.0 & 0.0 & 0.0 & 0.0 & 0.0\\\\\\end{matrix}\\right)$"
      ],
      "text/plain": [
       "Quantum object: dims = [[5, 2, 5, 2], [5, 2, 5, 2]], shape = (100, 100), type = oper, isherm = False\n",
       "Qobj data =\n",
       "[[0. 0. 0. ... 0. 0. 0.]\n",
       " [0. 0. 0. ... 0. 0. 0.]\n",
       " [0. 0. 0. ... 0. 0. 0.]\n",
       " ...\n",
       " [0. 0. 0. ... 0. 0. 0.]\n",
       " [0. 0. 0. ... 0. 0. 0.]\n",
       " [0. 0. 0. ... 0. 0. 0.]]"
      ]
     },
     "execution_count": 6,
     "metadata": {},
     "output_type": "execute_result"
    }
   ],
   "source": [
    "tensor([a.dag(),identity(2),a,identity(2)])"
   ]
  },
  {
   "cell_type": "code",
   "execution_count": 7,
   "id": "d333c56f-a37f-4764-ac81-d348003bef5c",
   "metadata": {},
   "outputs": [
    {
     "ename": "NameError",
     "evalue": "name 'Dc' is not defined",
     "output_type": "error",
     "traceback": [
      "\u001b[1;31m---------------------------------------------------------------------------\u001b[0m",
      "\u001b[1;31mNameError\u001b[0m                                 Traceback (most recent call last)",
      "Input \u001b[1;32mIn [7]\u001b[0m, in \u001b[0;36m<cell line: 5>\u001b[1;34m()\u001b[0m\n\u001b[0;32m      3\u001b[0m theta \u001b[38;5;241m=\u001b[39m np\u001b[38;5;241m.\u001b[39mrandom\u001b[38;5;241m.\u001b[39mrand()\n\u001b[0;32m      4\u001b[0m alpha \u001b[38;5;241m=\u001b[39m np\u001b[38;5;241m.\u001b[39msqrt(theta\u001b[38;5;241m/\u001b[39m\u001b[38;5;241m4\u001b[39m)\n\u001b[1;32m----> 5\u001b[0m U1 \u001b[38;5;241m=\u001b[39m tensor(\u001b[43mDc\u001b[49m(\u001b[38;5;241m-\u001b[39malpha,alpha),I2)\n\u001b[0;32m      6\u001b[0m U2 \u001b[38;5;241m=\u001b[39m tensor(Dc(\u001b[38;5;241m1\u001b[39mj\u001b[38;5;241m*\u001b[39malpha,\u001b[38;5;241m-\u001b[39m\u001b[38;5;241m1\u001b[39mj\u001b[38;5;241m*\u001b[39malpha),I2)\u001b[38;5;241m.\u001b[39mpermute([\u001b[38;5;241m0\u001b[39m,\u001b[38;5;241m2\u001b[39m,\u001b[38;5;241m1\u001b[39m])\n\u001b[0;32m      8\u001b[0m U \u001b[38;5;241m=\u001b[39m U2\u001b[38;5;241m.\u001b[39mdag()\u001b[38;5;241m*\u001b[39mU1\u001b[38;5;241m.\u001b[39mdag()\u001b[38;5;241m*\u001b[39mU2\u001b[38;5;241m*\u001b[39mU1\n",
      "\u001b[1;31mNameError\u001b[0m: name 'Dc' is not defined"
     ]
    }
   ],
   "source": [
    "### ZZ gate\n",
    "\n",
    "theta = np.random.rand()\n",
    "alpha = np.sqrt(theta/4)\n",
    "U1 = tensor(Dc(-alpha,alpha),I2)\n",
    "U2 = tensor(Dc(1j*alpha,-1j*alpha),I2).permute([0,2,1])\n",
    "\n",
    "U = U2.dag()*U1.dag()*U2*U1\n",
    "\n",
    "P = tensor(basis(cutoff,0).dag(),I2,I2)\n",
    "P*U*P.dag() == (-1j*theta*tensor(sigmaz(),sigmaz())/2).expm()"
   ]
  },
  {
   "cell_type": "code",
   "execution_count": 228,
   "id": "ccbbd699-a90e-40cb-b40e-8cced69b5369",
   "metadata": {},
   "outputs": [],
   "source": [
    "### CNOT\n",
    "alpha = np.sqrt(np.pi/2)\n",
    "U1 = tensor([DCZ(alpha),I2])\n",
    "U2 = tensor([DCX(1j*alpha),I2]).permute([0,2,1])\n",
    "\n",
    "U = (U2.dag()*U1.dag()*U2*U1)"
   ]
  },
  {
   "cell_type": "code",
   "execution_count": 229,
   "id": "6c4dd9b6-890d-4993-932f-23ef3451f519",
   "metadata": {},
   "outputs": [
    {
     "data": {
      "text/latex": [
       "Quantum object: dims = [[2, 2], [2, 2]], shape = (4, 4), type = oper, isherm = False\\begin{equation*}\\left(\\begin{array}{*{11}c}1.000 & 0.0 & 0.0 & 0.0\\\\0.0 & 1.000 & 0.0 & 0.0\\\\0.0 & 0.0 & (2.285\\times10^{-11}+8.341\\times10^{-11}j) & (1.000-8.341\\times10^{-11}j)\\\\0.0 & 0.0 & (1.000-8.341\\times10^{-11}j) & (2.285\\times10^{-11}+8.341\\times10^{-11}j)\\\\\\end{array}\\right)\\end{equation*}"
      ],
      "text/plain": [
       "Quantum object: dims = [[2, 2], [2, 2]], shape = (4, 4), type = oper, isherm = False\n",
       "Qobj data =\n",
       "[[1.00000000e+00+0.00000000e+00j 0.00000000e+00+0.00000000e+00j\n",
       "  0.00000000e+00+0.00000000e+00j 0.00000000e+00+0.00000000e+00j]\n",
       " [0.00000000e+00+0.00000000e+00j 1.00000000e+00+0.00000000e+00j\n",
       "  0.00000000e+00+0.00000000e+00j 0.00000000e+00+0.00000000e+00j]\n",
       " [0.00000000e+00+0.00000000e+00j 0.00000000e+00+0.00000000e+00j\n",
       "  2.28454914e-11+8.34122905e-11j 1.00000000e+00-8.34121794e-11j]\n",
       " [0.00000000e+00+0.00000000e+00j 0.00000000e+00+0.00000000e+00j\n",
       "  1.00000000e+00-8.34121683e-11j 2.28453919e-11+8.34121564e-11j]]"
      ]
     },
     "execution_count": 229,
     "metadata": {},
     "output_type": "execute_result"
    }
   ],
   "source": [
    "P = tensor(basis(cutoff,0).dag(),I2,I2)\n",
    "P*U*P.dag()"
   ]
  },
  {
   "cell_type": "code",
   "execution_count": 230,
   "id": "1b479728-1d81-45f5-954d-61d7812a194b",
   "metadata": {},
   "outputs": [],
   "source": [
    "### Toffoli\n",
    "alpha = np.sqrt(np.pi/2)\n",
    "cp = tensor(CP(),I2).permute([0,2,1])\n",
    "d1 = tensor([Dc(0,-1j*alpha/2),I2])\n",
    "d2 = tensor([Dc(0,alpha/2),I2])\n",
    "\n",
    "U12 = tensor([d2*cp*d1*cp.dag(),I2])\n",
    "\n",
    "U3 = tensor([DCX(1j*alpha),I2,I2]).permute([0,3,2,1])\n",
    "\n",
    "Utoff = U3.dag()*U12.dag()*U3*U12"
   ]
  },
  {
   "cell_type": "code",
   "execution_count": 231,
   "id": "84afadfe-4a75-42ff-8fab-7f1a3cb86678",
   "metadata": {},
   "outputs": [
    {
     "data": {
      "text/latex": [
       "Quantum object: dims = [[2, 2, 2], [2, 2, 2]], shape = (8, 8), type = oper, isherm = False\\begin{equation*}\\left(\\begin{array}{*{11}c}1.0 & 0.0 & 0.0 & 0.0 & 0.0 & 0.0 & 0.0 & 0.0\\\\0.0 & 1.0 & 0.0 & 0.0 & 0.0 & 0.0 & 0.0 & 0.0\\\\0.0 & 0.0 & 1.0 & 0.0 & 0.0 & 0.0 & 0.0 & 0.0\\\\0.0 & 0.0 & 0.0 & 1.0 & 0.0 & 0.0 & 0.0 & 0.0\\\\0.0 & 0.0 & 0.0 & 0.0 & 1.000 & 0.0 & 0.0 & 0.0\\\\0.0 & 0.0 & 0.0 & 0.0 & 0.0 & 1.000 & 0.0 & 0.0\\\\0.0 & 0.0 & 0.0 & 0.0 & 0.0 & 0.0 & (2.285\\times10^{-11}+8.341\\times10^{-11}j) & (1.000-8.341\\times10^{-11}j)\\\\0.0 & 0.0 & 0.0 & 0.0 & 0.0 & 0.0 & (1.000-8.341\\times10^{-11}j) & (2.285\\times10^{-11}+8.341\\times10^{-11}j)\\\\\\end{array}\\right)\\end{equation*}"
      ],
      "text/plain": [
       "Quantum object: dims = [[2, 2, 2], [2, 2, 2]], shape = (8, 8), type = oper, isherm = False\n",
       "Qobj data =\n",
       "[[1.00000000e+00+0.00000000e+00j 0.00000000e+00+0.00000000e+00j\n",
       "  0.00000000e+00+0.00000000e+00j 0.00000000e+00+0.00000000e+00j\n",
       "  0.00000000e+00+0.00000000e+00j 0.00000000e+00+0.00000000e+00j\n",
       "  0.00000000e+00+0.00000000e+00j 0.00000000e+00+0.00000000e+00j]\n",
       " [0.00000000e+00+0.00000000e+00j 1.00000000e+00+0.00000000e+00j\n",
       "  0.00000000e+00+0.00000000e+00j 0.00000000e+00+0.00000000e+00j\n",
       "  0.00000000e+00+0.00000000e+00j 0.00000000e+00+0.00000000e+00j\n",
       "  0.00000000e+00+0.00000000e+00j 0.00000000e+00+0.00000000e+00j]\n",
       " [0.00000000e+00+0.00000000e+00j 0.00000000e+00+0.00000000e+00j\n",
       "  1.00000000e+00+0.00000000e+00j 0.00000000e+00+0.00000000e+00j\n",
       "  0.00000000e+00+0.00000000e+00j 0.00000000e+00+0.00000000e+00j\n",
       "  0.00000000e+00+0.00000000e+00j 0.00000000e+00+0.00000000e+00j]\n",
       " [0.00000000e+00+0.00000000e+00j 0.00000000e+00+0.00000000e+00j\n",
       "  0.00000000e+00+0.00000000e+00j 1.00000000e+00+0.00000000e+00j\n",
       "  0.00000000e+00+0.00000000e+00j 0.00000000e+00+0.00000000e+00j\n",
       "  0.00000000e+00+0.00000000e+00j 0.00000000e+00+0.00000000e+00j]\n",
       " [0.00000000e+00+0.00000000e+00j 0.00000000e+00+0.00000000e+00j\n",
       "  0.00000000e+00+0.00000000e+00j 0.00000000e+00+0.00000000e+00j\n",
       "  1.00000000e+00+0.00000000e+00j 0.00000000e+00+0.00000000e+00j\n",
       "  0.00000000e+00+0.00000000e+00j 0.00000000e+00+0.00000000e+00j]\n",
       " [0.00000000e+00+0.00000000e+00j 0.00000000e+00+0.00000000e+00j\n",
       "  0.00000000e+00+0.00000000e+00j 0.00000000e+00+0.00000000e+00j\n",
       "  0.00000000e+00+0.00000000e+00j 1.00000000e+00+0.00000000e+00j\n",
       "  0.00000000e+00+0.00000000e+00j 0.00000000e+00+0.00000000e+00j]\n",
       " [0.00000000e+00+0.00000000e+00j 0.00000000e+00+0.00000000e+00j\n",
       "  0.00000000e+00+0.00000000e+00j 0.00000000e+00+0.00000000e+00j\n",
       "  0.00000000e+00+0.00000000e+00j 0.00000000e+00+0.00000000e+00j\n",
       "  2.28455133e-11+8.34122933e-11j 1.00000000e+00-8.34121999e-11j]\n",
       " [0.00000000e+00+0.00000000e+00j 0.00000000e+00+0.00000000e+00j\n",
       "  0.00000000e+00+0.00000000e+00j 0.00000000e+00+0.00000000e+00j\n",
       "  0.00000000e+00+0.00000000e+00j 0.00000000e+00+0.00000000e+00j\n",
       "  1.00000000e+00-8.34121836e-11j 2.28453431e-11+8.34121779e-11j]]"
      ]
     },
     "execution_count": 231,
     "metadata": {},
     "output_type": "execute_result"
    }
   ],
   "source": [
    "P = tensor(basis(cutoff,0).dag(),I2,I2,I2)\n",
    "P*Utoff*P.dag()"
   ]
  },
  {
   "cell_type": "code",
   "execution_count": 282,
   "id": "10a03559-b2e6-4c0d-82c8-f6cda89197f3",
   "metadata": {},
   "outputs": [],
   "source": [
    "## ZZ parallel\n",
    "\n",
    "theta = np.random.rand()\n",
    "alpha = np.sqrt(theta/4)/np.sqrt(2)\n",
    "\n",
    "term1  = tensor(Dc(-alpha,alpha),Dc(-alpha,alpha))\n",
    "term2 = BS(np.pi,-np.pi/2).dag()*tensor(Dc(-1j*alpha,1j*alpha),Dc(1j*alpha,-1j*alpha))*BS(np.pi,-np.pi/2)\n",
    "\n",
    "# term1  = tensor([Dc(-alpha,alpha),Ib,I2])\n",
    "# term2 = BS(np.pi,-np.pi/2).dag()*tensor([Ib,I2,Dc(1j*alpha,-1j*alpha)])*BS(np.pi,-np.pi/2)\n",
    "\n",
    "U = term2.dag()*term1.dag()*term2*term1"
   ]
  },
  {
   "cell_type": "code",
   "execution_count": 283,
   "id": "e75b5e29-f7dd-44b8-910b-3b5adf5cd9f8",
   "metadata": {},
   "outputs": [
    {
     "data": {
      "text/latex": [
       "Quantum object: dims = [[2, 2], [2, 2]], shape = (4, 4), type = oper, isherm = False\\begin{equation*}\\left(\\begin{array}{*{11}c}(0.994-0.113j) & 0.0 & 0.0 & 0.0\\\\0.0 & (0.994+0.113j) & 0.0 & 0.0\\\\0.0 & 0.0 & (0.994+0.113j) & 0.0\\\\0.0 & 0.0 & 0.0 & (0.994-0.113j)\\\\\\end{array}\\right)\\end{equation*}"
      ],
      "text/plain": [
       "Quantum object: dims = [[2, 2], [2, 2]], shape = (4, 4), type = oper, isherm = False\n",
       "Qobj data =\n",
       "[[0.99360344-0.11292565j 0.        +0.j         0.        +0.j\n",
       "  0.        +0.j        ]\n",
       " [0.        +0.j         0.99360344+0.11292565j 0.        +0.j\n",
       "  0.        +0.j        ]\n",
       " [0.        +0.j         0.        +0.j         0.99360344+0.11292565j\n",
       "  0.        +0.j        ]\n",
       " [0.        +0.j         0.        +0.j         0.        +0.j\n",
       "  0.99360344-0.11292565j]]"
      ]
     },
     "execution_count": 283,
     "metadata": {},
     "output_type": "execute_result"
    }
   ],
   "source": [
    "P = tensor(basis(cutoff,0).dag(),I2,basis(cutoff,0).dag(),I2)\n",
    "P*U*P.dag()"
   ]
  },
  {
   "cell_type": "code",
   "execution_count": 285,
   "id": "42f0dfd5-850f-4536-b4dc-7ec9c32ddfc8",
   "metadata": {},
   "outputs": [
    {
     "data": {
      "text/plain": [
       "True"
      ]
     },
     "execution_count": 285,
     "metadata": {},
     "output_type": "execute_result"
    }
   ],
   "source": [
    "P*U*P.dag() == (-1j*theta*tensor(sigmaz(),sigmaz())/2).expm()"
   ]
  },
  {
   "cell_type": "code",
   "execution_count": null,
   "id": "9a855f52-6a99-42c2-8935-b9c33d21c6e1",
   "metadata": {},
   "outputs": [],
   "source": []
  }
 ],
 "metadata": {
  "kernelspec": {
   "display_name": "Python 3 (ipykernel)",
   "language": "python",
   "name": "python3"
  },
  "language_info": {
   "codemirror_mode": {
    "name": "ipython",
    "version": 3
   },
   "file_extension": ".py",
   "mimetype": "text/x-python",
   "name": "python",
   "nbconvert_exporter": "python",
   "pygments_lexer": "ipython3",
   "version": "3.9.12"
  },
  "varInspector": {
   "cols": {
    "lenName": 16,
    "lenType": 16,
    "lenVar": 40
   },
   "kernels_config": {
    "python": {
     "delete_cmd_postfix": "",
     "delete_cmd_prefix": "del ",
     "library": "var_list.py",
     "varRefreshCmd": "print(var_dic_list())"
    },
    "r": {
     "delete_cmd_postfix": ") ",
     "delete_cmd_prefix": "rm(",
     "library": "var_list.r",
     "varRefreshCmd": "cat(var_dic_list()) "
    }
   },
   "types_to_exclude": [
    "module",
    "function",
    "builtin_function_or_method",
    "instance",
    "_Feature"
   ],
   "window_display": false
  }
 },
 "nbformat": 4,
 "nbformat_minor": 5
}
