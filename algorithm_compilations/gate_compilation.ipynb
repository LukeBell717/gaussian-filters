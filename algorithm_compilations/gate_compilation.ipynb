{
 "cells": [
  {
   "cell_type": "code",
   "execution_count": 2,
   "id": "f8b786b0-35ea-48ed-8b05-52ebde2023c8",
   "metadata": {},
   "outputs": [],
   "source": [
    "from qutip import *\n",
    "from qutip.qip.operations import rx, ry, rz\n",
    "import numpy as np"
   ]
  },
  {
   "cell_type": "code",
   "execution_count": 3,
   "id": "0cff2ce5",
   "metadata": {},
   "outputs": [],
   "source": [
    "# dimension of our Fock Space\n",
    "cutoff = 10\n",
    "\n",
    "# identity operator for one qubit \n",
    "I2 = identity(2)\n",
    "\n",
    "# annihilation and identity operator in Fock Space\n",
    "a = destroy(cutoff)\n",
    "Ib = identity(cutoff)\n",
    "\n",
    "# define Pauli matrices and constants\n",
    "σ_x = sigmax()\n",
    "σ_y = sigmay()\n",
    "σ_z = sigmaz()\n",
    "π = np.pi"
   ]
  },
  {
   "cell_type": "markdown",
   "id": "9244f9f7",
   "metadata": {},
   "source": [
    "# Gates"
   ]
  },
  {
   "cell_type": "markdown",
   "id": "6216c836",
   "metadata": {},
   "source": [
    "## Native Gates"
   ]
  },
  {
   "cell_type": "markdown",
   "id": "b10e1e79",
   "metadata": {},
   "source": [
    "$$ \\huge D(\\alpha) = e^{\\alpha a^{\\dagger} - \\alpha^{*} a}$$"
   ]
  },
  {
   "cell_type": "code",
   "execution_count": 4,
   "id": "43d49aca",
   "metadata": {
    "code_folding": []
   },
   "outputs": [],
   "source": [
    "# displacement operator \n",
    "def D(α):\n",
    "    return (α*a.dag() - np.conj(α)*a).expm()"
   ]
  },
  {
   "cell_type": "markdown",
   "id": "845197c6",
   "metadata": {},
   "source": [
    "$$ \\huge D_{c}(\\alpha, \\beta) = D(\\alpha) \\otimes |0 \\rangle \\langle 0 | + D(\\beta) \\otimes |1 \\rangle \\langle 1 | $$"
   ]
  },
  {
   "cell_type": "code",
   "execution_count": 5,
   "id": "ce3e6ecd",
   "metadata": {
    "code_folding": []
   },
   "outputs": [],
   "source": [
    "def Dc(α, β): \n",
    "    return tensor(D(α), basis(2,0)*basis(2,0).dag()) + tensor(D(β), basis(2,1)*basis(2,1).dag())"
   ]
  },
  {
   "cell_type": "markdown",
   "id": "f77f0ba3",
   "metadata": {},
   "source": [
    "$$ \\huge \\text{CP} = e^{-i \\frac{\\pi}{2} a^{\\dagger} a \\otimes Z } $$"
   ]
  },
  {
   "cell_type": "code",
   "execution_count": 6,
   "id": "b68fdf94",
   "metadata": {
    "code_folding": []
   },
   "outputs": [],
   "source": [
    "def CP():\n",
    "    return (-1j*(np.pi/2)*tensor(a.dag()*a,sigmaz())).expm()"
   ]
  },
  {
   "cell_type": "markdown",
   "id": "e32ddce8",
   "metadata": {},
   "source": [
    "$$ \\huge \\text{BS}^{(i,j)}(\\theta, \\varphi) = e^{-i \\frac{\\theta}{2} \\left[e^{i \\varphi}a^{\\dagger}_i \\otimes \\mathbb{1} a_j \\otimes \\mathbb{1} + e^{-i \\varphi} a_i \\otimes \\mathbb{1} \\otimes a^{\\dagger}_j \\otimes \\mathbb{1} \\right]}$$"
   ]
  },
  {
   "cell_type": "code",
   "execution_count": 7,
   "id": "7ad1ecf8",
   "metadata": {},
   "outputs": [],
   "source": [
    "# beamsplitter gate\n",
    "def BS(θ,ϕ): \n",
    "    # cavity_1 ⊗ qubit_1 ⊗ cavity_2 ⊗ qubit_2\n",
    "    term = tensor([a.dag(), I2, a, I2])\n",
    "    phase = np.exp(1j*ϕ) \n",
    "    return (-1j*(θ/2)*(phase*term + np.conj(phase)*term.dag())).expm()"
   ]
  },
  {
   "cell_type": "markdown",
   "id": "83a74bb6",
   "metadata": {},
   "source": [
    "## Native-Like Gates and Special Cases"
   ]
  },
  {
   "cell_type": "code",
   "execution_count": 8,
   "id": "ccba7651",
   "metadata": {},
   "outputs": [],
   "source": [
    "# generate θ (random float between 0 and 1) and define α as function of θ\n",
    "θ_list = [np.random.rand() for i in range(2)]\n",
    "α = np.sqrt(θ_list[0]/4)\n",
    "β = np.sqrt(θ_list[1]/4)\n",
    "\n",
    "# define Hadamard gate\n",
    "H = Qobj([[1,1],[1,-1]],dims=[[2],[2]])/np.sqrt(2)\n",
    "\n",
    "# define |+><+| and |-><-|\n",
    "plus = H*basis(2, 0)\n",
    "minus = H*basis(2, 1)\n",
    "plus_projector = plus*plus.dag()\n",
    "minus_projector = minus*minus.dag()\n",
    "\n",
    "# define |+i><+i| and |-i><-i| \n",
    "plus_i = (basis(2, 0) + 1j*basis(2, 1))/np.sqrt(2)\n",
    "minus_i = (basis(2, 0) - 1j*basis(2, 1))/np.sqrt(2)\n",
    "plus_i_projector = plus_i * plus_i.dag()\n",
    "minus_i_projector = minus_i * minus_i.dag()"
   ]
  },
  {
   "cell_type": "markdown",
   "id": "d7dd736a",
   "metadata": {},
   "source": [
    "$$ \\LARGE \\text{CP}_Z = e^{-i \\frac{\\pi}{2} a^{\\dagger} a \\otimes Z} $$"
   ]
  },
  {
   "cell_type": "code",
   "execution_count": 9,
   "id": "c0cfaab2",
   "metadata": {},
   "outputs": [
    {
     "data": {
      "text/plain": [
       "True"
      ]
     },
     "metadata": {},
     "output_type": "display_data"
    }
   ],
   "source": [
    "display(CP() == (-1j*π/2*tensor(a.dag()*a, σ_z)).expm())\n",
    "CPZ = CP()"
   ]
  },
  {
   "cell_type": "markdown",
   "id": "d3dcc5af",
   "metadata": {},
   "source": [
    "$$ \\LARGE \\text{CP}_X = H \\text{CP}_Z H = e^{-i \\frac{\\pi}{2} a^{\\dagger} a \\otimes X} $$"
   ]
  },
  {
   "cell_type": "code",
   "execution_count": 10,
   "id": "478f88a5",
   "metadata": {},
   "outputs": [
    {
     "data": {
      "text/plain": [
       "True"
      ]
     },
     "metadata": {},
     "output_type": "display_data"
    }
   ],
   "source": [
    "display(tensor(Ib, H)*CP()*tensor(Ib, H) == (-1j*π/2*tensor(a.dag()*a, σ_x)).expm())\n",
    "CPX = (-1j*π/2*tensor(a.dag()*a, σ_x)).expm()"
   ]
  },
  {
   "cell_type": "markdown",
   "id": "6885db66",
   "metadata": {},
   "source": [
    "$$ \\LARGE \\text{CP}_Y = R_X \\left(-\\frac{\\pi}{2} \\right) \\text{CP}_Z R_X \\left(\\frac{\\pi}{2} \\right) =  e^{-i \\frac{\\pi}{2} a^{\\dagger} a \\otimes Y} $$"
   ]
  },
  {
   "cell_type": "code",
   "execution_count": 11,
   "id": "946c567e",
   "metadata": {},
   "outputs": [
    {
     "data": {
      "text/plain": [
       "True"
      ]
     },
     "metadata": {},
     "output_type": "display_data"
    }
   ],
   "source": [
    "display(tensor(Ib, rx(-π/2))*CP()*tensor(Ib, rx(π/2)) == (-1j*π/2*tensor(a.dag()*a, σ_y)).expm())\n",
    "CPY = (-1j*π/2*tensor(a.dag()*a, σ_y)).expm()"
   ]
  },
  {
   "cell_type": "markdown",
   "id": "43c51b4e",
   "metadata": {},
   "source": [
    "$$ \\Large D_{cZ}(\\alpha, \\beta) = D(\\alpha) \\otimes |0 \\rangle \\langle 0 | + D(\\beta) \\otimes |1 \\rangle \\langle 1 |$$"
   ]
  },
  {
   "cell_type": "code",
   "execution_count": 12,
   "id": "dcbd2ce9",
   "metadata": {
    "code_folding": []
   },
   "outputs": [
    {
     "data": {
      "text/plain": [
       "True"
      ]
     },
     "metadata": {},
     "output_type": "display_data"
    }
   ],
   "source": [
    "display(Dc(α, β) == tensor(D(α), basis(2,0)*basis(2,0).dag()) + tensor(D(β), basis(2,1)*basis(2,1).dag()))\n",
    "DcZ = lambda α,β: Dc(α, β)"
   ]
  },
  {
   "cell_type": "markdown",
   "id": "265a2d4f",
   "metadata": {},
   "source": [
    "$$ \\Large D_{cX}(\\alpha, \\beta) = D(\\alpha) \\otimes |+ \\rangle \\langle + | + D(\\beta) \\otimes |- \\rangle \\langle - |$$"
   ]
  },
  {
   "cell_type": "code",
   "execution_count": 13,
   "id": "c53282c6",
   "metadata": {
    "code_folding": []
   },
   "outputs": [
    {
     "data": {
      "text/plain": [
       "True"
      ]
     },
     "metadata": {},
     "output_type": "display_data"
    }
   ],
   "source": [
    "display(tensor(Ib,H)*Dc(α,β)*tensor(Ib,H) == tensor(D(α), plus_projector) + tensor(D(β), minus_projector))\n",
    "DcX = lambda α,β: tensor(Ib,H)*Dc(α,β)*tensor(Ib,H)"
   ]
  },
  {
   "cell_type": "markdown",
   "id": "65e3ac92",
   "metadata": {},
   "source": [
    "$$ \\Large D_{cY}(\\alpha, \\beta) = D(\\alpha) \\otimes |+i\\rangle \\langle+i| + D(\\beta) \\otimes |-i\\rangle \\langle-i|$$"
   ]
  },
  {
   "cell_type": "code",
   "execution_count": 14,
   "id": "d6d45942",
   "metadata": {
    "code_folding": []
   },
   "outputs": [
    {
     "data": {
      "text/plain": [
       "True"
      ]
     },
     "metadata": {},
     "output_type": "display_data"
    }
   ],
   "source": [
    "display(tensor(Ib,rx(-π/2))*Dc(α,β)*tensor(Ib,rx(π/2)) == tensor(D(α), plus_i_projector) + tensor(D(β), minus_i_projector))\n",
    "DcY = lambda α,β: tensor(Ib,rx(-π/2))*Dc(α,β)*tensor(Ib,rx(π/2))"
   ]
  },
  {
   "cell_type": "markdown",
   "id": "d2c3fca3",
   "metadata": {},
   "source": [
    "$$ \\Large D_{Z}(\\alpha, -\\alpha) = \\text{CP}_{Z}^{\\dagger} D(-i \\alpha) \\text{CP}_{Z} = e^{\\left(\\alpha a^{\\dagger} - \\alpha^{*} a \\right) \\otimes Z} $$"
   ]
  },
  {
   "cell_type": "code",
   "execution_count": 15,
   "id": "f591c091",
   "metadata": {},
   "outputs": [
    {
     "data": {
      "text/plain": [
       "True"
      ]
     },
     "metadata": {},
     "output_type": "display_data"
    }
   ],
   "source": [
    "display(CPZ.dag() * tensor(D(-1j*α), I2) * CPZ == (tensor(α*a.dag() - α*a, σ_z)).expm())\n",
    "DsZ = lambda α: (tensor(α*a.dag() - α*a, σ_z)).expm()"
   ]
  },
  {
   "cell_type": "markdown",
   "id": "9f818e29",
   "metadata": {},
   "source": [
    "$$ \\Large D_{X}(\\alpha, -\\alpha) =\\text{CP}_{X}^{\\dagger} D(-i \\alpha) \\text{CP}_{X} = e^{\\left(\\alpha a^{\\dagger} - \\alpha^{*} a \\right) \\otimes X} $$"
   ]
  },
  {
   "cell_type": "code",
   "execution_count": 16,
   "id": "2de7ce11",
   "metadata": {},
   "outputs": [
    {
     "data": {
      "text/plain": [
       "True"
      ]
     },
     "metadata": {},
     "output_type": "display_data"
    }
   ],
   "source": [
    "display(CPX.dag()*tensor(D(-1j*α), I2)*CPX == (tensor(α*a.dag() - α*a, σ_x)).expm())\n",
    "DX = lambda α: (tensor(α*a.dag() - α*a, σ_x)).expm()"
   ]
  },
  {
   "cell_type": "markdown",
   "id": "53c248f4",
   "metadata": {},
   "source": [
    "$$ \\Large D_{Y}(\\alpha, -\\alpha) =\\text{CP}_{Y}^{\\dagger} D(-i \\alpha) \\text{CP}_{Y} = e^{\\left(\\alpha a^{\\dagger} - \\alpha^{*} a \\right) \\otimes Y} $$"
   ]
  },
  {
   "cell_type": "code",
   "execution_count": 17,
   "id": "ccfcfd5b",
   "metadata": {},
   "outputs": [
    {
     "data": {
      "text/plain": [
       "True"
      ]
     },
     "metadata": {},
     "output_type": "display_data"
    }
   ],
   "source": [
    "display(CPY.dag() * tensor(D(-1j*α), I2)*CPY == (tensor(α*a.dag() - α*a, σ_y)).expm())\n",
    "DY = lambda α: (tensor(α*a.dag() - α*a, σ_y)).expm()"
   ]
  },
  {
   "cell_type": "markdown",
   "id": "496483b6",
   "metadata": {},
   "source": [
    "# $$ D_{XYZ} = e^{ \\left(\\alpha a^{\\dagger} - \\alpha^{*} a \\right) \\otimes \\left( X_1 X_2 + Y_1 Y_2 + Z_1 Z_2 \\right)} $$"
   ]
  },
  {
   "cell_type": "markdown",
   "id": "ef6b7157",
   "metadata": {},
   "source": [
    "$$ \\Large D_{ZZ}(\\alpha) = \\text{CP}^{\\dagger}_Z D_{cZ}(-i\\alpha, +i \\alpha) \\text{CP}_Z = e^{\\left(\\alpha a^{\\dagger} - \\alpha^{*} a  \\right) \\otimes Z_1 Z_2} $$"
   ]
  },
  {
   "cell_type": "code",
   "execution_count": 38,
   "id": "4631706e",
   "metadata": {},
   "outputs": [
    {
     "data": {
      "text/plain": [
       "True"
      ]
     },
     "metadata": {},
     "output_type": "display_data"
    }
   ],
   "source": [
    "CPZ12 = (-1j*(np.pi/2)*tensor(a.dag()*a, I2, Ib, σ_z)).expm()\n",
    "display(CPZ12.dag()*tensor(DcZ(-1j*α, 1j*α),Ib,I2)*CPZ12 == (tensor(α*a.dag() - np.conj(α)*a, σ_z, Ib, σ_z)).expm())\n",
    "DZZ = lambda α: (tensor(α*a.dag() - np.conj(α)*a, σ_z, Ib, σ_z)).expm()"
   ]
  },
  {
   "cell_type": "markdown",
   "id": "773c8ab6",
   "metadata": {},
   "source": [
    "$$ \\Large D_{XX}(\\alpha) = \\text{CP}^{\\dagger}_X D_{cX}(-i\\alpha, +i \\alpha) \\text{CP}_X = e^{\\left(\\alpha a^{\\dagger} - \\alpha^{*} a  \\right) \\otimes X_1 X_2}$$"
   ]
  },
  {
   "cell_type": "code",
   "execution_count": 39,
   "id": "0b37b2d0",
   "metadata": {},
   "outputs": [
    {
     "data": {
      "text/plain": [
       "True"
      ]
     },
     "metadata": {},
     "output_type": "display_data"
    }
   ],
   "source": [
    "CPX12 = (-1j*(np.pi/2)*tensor(a.dag()*a, I2, Ib, σ_x)).expm()\n",
    "display(CPX12.dag()*tensor(DcX(-1j*α, 1j*α),Ib,I2)*CPX12 == (tensor(α*a.dag() - np.conj(α)*a, σ_x, Ib, σ_x)).expm())\n",
    "DXX = lambda α: (tensor(α*a.dag() - np.conj(α)*a, σ_x, Ib, σ_x)).expm()"
   ]
  },
  {
   "cell_type": "markdown",
   "id": "5b30bff7",
   "metadata": {},
   "source": [
    "$$ \\Large D_{YY}(\\alpha) = \\text{CP}^{\\dagger}_Y D_{cY}(-i\\alpha, +i \\alpha) \\text{CP}_Y = e^{\\left(\\alpha a^{\\dagger} - \\alpha^{*} a  \\right) \\otimes Y_1 Y_2}$$"
   ]
  },
  {
   "cell_type": "code",
   "execution_count": 41,
   "id": "650c7d26",
   "metadata": {},
   "outputs": [
    {
     "data": {
      "text/plain": [
       "True"
      ]
     },
     "metadata": {},
     "output_type": "display_data"
    }
   ],
   "source": [
    "CPY12 = (-1j*(np.pi/2)*tensor(a.dag()*a, I2, Ib, σ_y)).expm()\n",
    "display(CPY12.dag()*tensor(DcY(-1j*α, 1j*α),Ib,I2)*CPY12 == (tensor(α*a.dag() - np.conj(α)*a, σ_y, Ib, σ_y)).expm())\n",
    "DYY = lambda α: (tensor(α*a.dag() - np.conj(α)*a, σ_y, Ib, σ_y)).expm()"
   ]
  },
  {
   "cell_type": "markdown",
   "id": "3a5719dc",
   "metadata": {},
   "source": [
    "$$ \\Large D_{XYZ}(\\alpha) = D_{XX}(\\alpha) D_{YY} (\\alpha) D_{ZZ}(\\alpha) = e^{\\left(\\alpha a^{\\dagger} - \\alpha^{*} a  \\right) \\otimes \\left( X_1 X_2 + Y_1 Y_2 + Z_1 Z_2 \\right)}$$"
   ]
  },
  {
   "cell_type": "code",
   "execution_count": 42,
   "id": "bd050c38",
   "metadata": {},
   "outputs": [
    {
     "data": {
      "text/plain": [
       "True"
      ]
     },
     "metadata": {},
     "output_type": "display_data"
    }
   ],
   "source": [
    "# define XX + YY + ZZ \n",
    "sum_XYZ = tensor(σ_x, Ib, σ_x) + tensor(σ_y, Ib, σ_y) + tensor(σ_z, Ib, σ_z)\n",
    "display(DXX(α)*DYY(α)*DZZ(α) == (tensor(α*a.dag() - np.conj(α)*a, sum_XYZ)).expm())\n",
    "DXYZ = lambda α: (tensor(α*a.dag() - np.conj(α)*a, sum_XYZ)).expm()"
   ]
  },
  {
   "cell_type": "markdown",
   "id": "55e06f1c",
   "metadata": {},
   "source": [
    "# Synthesized Gates"
   ]
  },
  {
   "cell_type": "markdown",
   "id": "84a3b8ef",
   "metadata": {},
   "source": [
    "$$ \\Large R_{ZZ}(\\theta) = e^{- i \\frac{\\theta}{2} Z_1 \\otimes Z_2} $$"
   ]
  },
  {
   "cell_type": "code",
   "execution_count": null,
   "id": "5072bc0f",
   "metadata": {},
   "outputs": [],
   "source": [
    "θ = np.random.rand()\n",
    "α = np.sqrt(θ/4)\n",
    "\n",
    "U1zz = tensor(Dc(-α,α),Ib,I2)\n",
    "U2zz = BS(π,π/2)*tensor(Ib,I2,Dc(1j*α,-1j*α))*BS(π,-π/2)#.permute([0,3,2,1])\n",
    "\n",
    "Uzz = U2zz.dag()*U1zz.dag()*U2zz*U1zz\n",
    "\n",
    "P = tensor(basis(cutoff,0),I2,basis(cutoff,0),I2)\n",
    "P.dag()*Uzz*P == (-1j*θ*tensor(sigmaz(),sigmaz())/2).expm()"
   ]
  },
  {
   "cell_type": "markdown",
   "id": "8593e0a7",
   "metadata": {},
   "source": [
    "$$ \\Large \\text{CNOT} = e^{i \\frac{\\pi}{4} \\left[I_1 - Z_1 \\right] \\otimes \\left[I_2 - X_2 \\right]} $$"
   ]
  },
  {
   "cell_type": "code",
   "execution_count": null,
   "id": "209565b8",
   "metadata": {},
   "outputs": [],
   "source": [
    "### CNOT\n",
    "α = np.sqrt(π/2)\n",
    "U1_cnot = tensor([Dc(0, α),Ib, I2])\n",
    "U2_cnot = BS(π,π/2)*tensor([Ib, I2, DcX(0, 1j*α)])*BS(π,-π/2)\n",
    "\n",
    "U_cnot = (U2_cnot.dag()*U1_cnot.dag()*U2_cnot*U1_cnot)\n",
    "\n",
    "P = tensor(basis(cutoff,0).dag(),I2,basis(cutoff,0).dag(),I2)\n",
    "P*U_cnot*P.dag()"
   ]
  },
  {
   "cell_type": "markdown",
   "id": "a754faff",
   "metadata": {},
   "source": [
    "$$ \\Large \\text{TOFFOLI} = e^{i \\frac{\\pi}{8} \\left[I_1 - Z_1 \\right] \\otimes \\left[I_2 - Z_2 \\right] \\otimes \\left[I_3 - X_3 \\right]} $$"
   ]
  },
  {
   "cell_type": "code",
   "execution_count": null,
   "id": "b9b63561",
   "metadata": {},
   "outputs": [],
   "source": [
    "# distance by which we displace oscillator in phase space\n",
    "α = np.sqrt(π/2)\n",
    "\n",
    "cp = tensor(CPZ,Ib,I2)\n",
    "\n",
    "d1 = tensor([Ib,I2,Dc(0,1j*α)])\n",
    "d2 = tensor([Ib,I2,CD(0,α)])"
   ]
  },
  {
   "cell_type": "code",
   "execution_count": null,
   "id": "310e8855",
   "metadata": {},
   "outputs": [],
   "source": [
    "tensor([Ib,I2, Dc(0, α)]) == (tensor(Ib, I2, α*a.dag() - np.conj(α)*a, (I2-σ_z)/2)).expm()"
   ]
  },
  {
   "cell_type": "code",
   "execution_count": null,
   "id": "6a9e0146",
   "metadata": {},
   "outputs": [],
   "source": [
    "BS(π, π/2)*tensor([Ib,I2, Dc(0, α)])*BS(π,-π/2) == (tensor(α*a.dag() - np.conj(α)*a, I2, Ib, (I2-σ_z)/2)).expm()"
   ]
  },
  {
   "cell_type": "code",
   "execution_count": null,
   "id": "68b814e9",
   "metadata": {},
   "outputs": [],
   "source": []
  },
  {
   "cell_type": "code",
   "execution_count": null,
   "id": "349c7c68",
   "metadata": {},
   "outputs": [],
   "source": [
    "# define a controlled-parity opeartor that flips qubit_1 depending on parity of photons in cavity\n",
    "# (flip if odd and no flip if even) conditioned upon \n",
    "cp = tensor(CP(),I2)\n",
    "\n",
    "# asymmetric diplacement operators that applies D(0) (D(0)) if qubit_2 is in |0> and D(-iα/2) (D(α/2)) if qubit_2 is in |1>\n",
    "d1 = tensor([Dc(0,-1j*α/2),Ib, I2]).permute([0,2,1])\n",
    "d2 = tensor([Dc(0, α/2),I2]).permute([0,2,1])\n",
    "\n",
    "# conditional-conditional displacement \n",
    "U12 = tensor([d2*cp*d1*cp.dag(),I2])\n",
    "\n",
    "# apply D(0) if qubit_3 is in |+> and D(+iα) if qubit_3 is in |->\n",
    "U3 = tensor([DCX(1j*α),I2,I2]).permute([0,3,2,1])\n",
    "\n",
    "# gate sequence that carves out area in phase space according to CNOT conditions\n",
    "Utoff = U3.dag()*U12.dag()*U3*U12\n",
    "\n",
    "# trace out oscillator by assuming we start and end in the ground state\n",
    "P = tensor(basis(cutoff,0),I2,I2,I2)\n",
    "P.dag()*Utoff*P "
   ]
  },
  {
   "cell_type": "markdown",
   "id": "d7dd5cba",
   "metadata": {},
   "source": [
    "# Parallelized Gates"
   ]
  },
  {
   "cell_type": "markdown",
   "id": "c30597e4",
   "metadata": {},
   "source": [
    "$$ \\Large R_{ZZ}^{(||)}(\\theta) = e^{- i \\frac{\\theta}{2} Z_1 \\otimes Z_2} $$"
   ]
  },
  {
   "cell_type": "code",
   "execution_count": null,
   "id": "02584dc4",
   "metadata": {},
   "outputs": [],
   "source": [
    "# define random θ and α as a function of θ\n",
    "# two different phase space diagrams, each of which have 4 panels which individually enclose α/2\n",
    "θ = np.random.rand()\n",
    "α = np.sqrt(θ/4)/np.sqrt(2)\n",
    "\n",
    "# note that the tensor space of the beamsplitter is cavity_1 ⊗ qubit_1 ⊗ cavity_2 ⊗ qubit_2\n",
    "# the tensor space of term1 is cavity_1 ⊗ qubit_1 ⊗ cavity_2 ⊗ qubit_2\n",
    "term1  = tensor(Dc(-α,α), Dc(-α,α))\n",
    "\n",
    "# swap mode 1 and 2 before applying two conditional displacements in parallel. \n",
    "term2 = BS(π,-π/2).dag()*tensor(Dc(-1j*α,1j*α),Dc(1j*α,-1j*α))*BS(π,-π/2)\n",
    "\n",
    "# gate sequence that carves out area in phase space according to RZZ conditions\n",
    "U = term2.dag()*term1.dag()*term2*term1\n",
    "\n",
    "# projection operator that begins in the ground state\n",
    "P = tensor(basis(cutoff,0),I2,basis(cutoff,0),I2)\n",
    "\n",
    "# trace out oscillator by assuming we start and end in the ground state\n",
    "RZZ_parallel_synthesized = P.dag()*U*P \n",
    "\n",
    "# explicitly define RZZ gate\n",
    "RZZ_direct = (-1j*θ*tensor(sigmaz(),sigmaz())/2).expm()\n",
    "\n",
    "# check whether RZZ_direct and RZZ_parallel_sythesized are equal \n",
    "RZZ_parallel_synthesized # == RZZ_direct "
   ]
  },
  {
   "cell_type": "markdown",
   "id": "1a9b70bd",
   "metadata": {},
   "source": [
    "$$ \\Large \\text{CNOT}^{(||)} = e^{i \\frac{\\pi}{4} \\left[I_1 - Z_1 \\right] \\otimes \\left[I_2 - X_2 \\right]} $$"
   ]
  },
  {
   "cell_type": "code",
   "execution_count": null,
   "id": "9a855f52-6a99-42c2-8935-b9c33d21c6e1",
   "metadata": {},
   "outputs": [],
   "source": [
    "α = np.sqrt(π)/2\n",
    "term1  = tensor([DCZ(α), DCZ(α)])\n",
    "term2 = BS(π,π/2)*tensor([DCZ(-1j*α),DCZ(1j*α)])*BS(π,-π/2)\n",
    "term3  = tensor([DCZ(-α), DCZ(-α)])\n",
    "term4 = BS(π,π/2)*tensor([DCZ(1j*α), DCZ(-1j*α)])*BS(π,-π/2)\n",
    "\n",
    "H = Qobj([[1,1],[1,-1]],dims=[[2],[2]])/np.sqrt(2)\n",
    "\n",
    "# U = tensor(Ib,I2,Ib,H)*term2.dag()*term1.dag()*term2*term1*tensor(Ib,I2,Ib,H)\n",
    "U = tensor(Ib,I2,Ib,H)*term4*term3*term2*term1*tensor(Ib,I2,Ib,H)\n",
    "\n",
    "P = tensor(basis(cutoff,0).dag(),I2,basis(cutoff,0).dag(),I2)\n",
    "P*U*P.dag()"
   ]
  },
  {
   "cell_type": "markdown",
   "id": "400cfbec",
   "metadata": {},
   "source": [
    "$$ \\Large R_{xz}^{(||)} \\left( \\theta \\right) = e^{- i \\frac{\\theta}{2} \\left(X_1 \\otimes X_2 + Y_1 \\otimes Y_2 \\right ) }$$"
   ]
  },
  {
   "cell_type": "code",
   "execution_count": null,
   "id": "48a41f6f-bc6d-4af0-a000-e1a3c8cfdaac",
   "metadata": {},
   "outputs": [],
   "source": [
    "## XX+ZZ parallel\n",
    "\n",
    "theta = np.pi/2\n",
    "alpha = np.sqrt(theta/4)/np.sqrt(2)\n",
    "\n",
    "H = Qobj([[1,1],[1,-1]],dims=[[2],[2]])/np.sqrt(2)\n",
    "\n",
    "term1  = tensor(Ib,I2,Ib,H)*tensor(Dc(-alpha,alpha),Dc(-alpha,alpha))*tensor(Ib,I2,Ib,H)\n",
    "term2 = tensor(Ib,I2,Ib,H)*BS(np.pi,np.pi/2)*tensor(Dc(-1j*alpha,1j*alpha),Dc(1j*alpha,-1j*alpha))*BS(np.pi,-np.pi/2)*tensor(Ib,I2,Ib,H)\n",
    "# term3  = tensor(Ib,I2,Ib,H)*tensor(Dc(alpha,-alpha),Dc(alpha,-alpha))*tensor(Ib,I2,Ib,H)\n",
    "# term4 = tensor(Ib,H,Ib,I2)*BS(np.pi,np.pi/2)*tensor(Dc(1j*alpha,-1j*alpha),Dc(-1j*alpha,1j*alpha))*BS(np.pi,-np.pi/2)*tensor(Ib,H,Ib,I2)\n",
    "\n",
    "# term1  = tensor(Dc(-alpha,alpha),Dc(-alpha,alpha))\n",
    "# term2 = BS(np.pi,np.pi/2)*tensor(Dc(-1j*alpha,1j*alpha),Dc(1j*alpha,-1j*alpha))*BS(np.pi,-np.pi/2)\n",
    "# term3  = tensor(Dc(alpha,-alpha),Dc(alpha,-alpha))\n",
    "# term4 = BS(np.pi,np.pi/2)*tensor(Dc(1j*alpha,-1j*alpha),Dc(-1j*alpha,1j*alpha))*BS(np.pi,-np.pi/2)\n",
    "\n",
    "# U = tensor(Ib,I2,Ib,H)*term2.dag()*term1.dag()*term2*term1*tensor(Ib,I2,Ib,H)\n",
    "U = term2.dag()*term1.dag()*term2*term1"
   ]
  },
  {
   "cell_type": "code",
   "execution_count": null,
   "id": "ddc1116f-3419-4586-a0e1-717c43ee4d73",
   "metadata": {},
   "outputs": [],
   "source": [
    "P = tensor(basis(cutoff,0).dag(),I2,basis(cutoff,0).dag(),I2)\n",
    "P*U*P.dag()"
   ]
  },
  {
   "cell_type": "code",
   "execution_count": null,
   "id": "88820a71-50ee-4edd-86f6-373a8ea7ff7a",
   "metadata": {},
   "outputs": [],
   "source": [
    "(-1j*(theta/2)*(tensor(sigmaz(),sigmaz()) + tensor(sigmax(),sigmax()))).expm()"
   ]
  },
  {
   "cell_type": "code",
   "execution_count": null,
   "id": "63927007-19d9-4108-acfa-e149e9f969dd",
   "metadata": {},
   "outputs": [],
   "source": [
    "np.arctan(0.132/0.932)/np.pi"
   ]
  },
  {
   "cell_type": "code",
   "execution_count": null,
   "id": "692f2a03-3809-4a07-9222-c5484ce79360",
   "metadata": {},
   "outputs": [],
   "source": [
    "np.sqrt(1/5)"
   ]
  },
  {
   "cell_type": "code",
   "execution_count": null,
   "id": "aa4e7083-ee9d-4f86-ae8f-a691a97f0b0a",
   "metadata": {},
   "outputs": [],
   "source": [
    "Util = P*U*P.dag()"
   ]
  },
  {
   "cell_type": "code",
   "execution_count": null,
   "id": "674b2044-0b09-43fd-ab1a-7d66022145db",
   "metadata": {},
   "outputs": [],
   "source": [
    "Util.dag()*Util"
   ]
  },
  {
   "cell_type": "markdown",
   "id": "757d0db3",
   "metadata": {},
   "source": [
    "# $ D_{XYZ} = e^{ \\left(\\alpha a^{\\dagger} - \\alpha^{*} a \\right) \\otimes \\left( X_1 X_2 + Y_1 Y_2 + Z_1 Z_2 \\right)} $"
   ]
  },
  {
   "cell_type": "markdown",
   "id": "73ac1498",
   "metadata": {},
   "source": [
    "$$ \\Large CP^{(1, 1)} = e^{-i \\frac{\\pi}{2} a^{\\dagger} a \\otimes \\sigma_z \\otimes \\mathbb{1}}$$"
   ]
  },
  {
   "cell_type": "code",
   "execution_count": null,
   "id": "10f5d38e",
   "metadata": {},
   "outputs": [],
   "source": [
    "CPX_3(1) == tensor(Ib, H, I2) * CP3(1, 'Z') * tensor(Ib, H, I2) and \\\n",
    "CP3(1, 'Z') == CP3(2, 'Z').permute([0, 2, 1]) and \\\n",
    "CPX_3(1) == CPX_3(2).permute([0, 2, 1]) and \\\n",
    "CP3(2, 'X') == CPX_3(2) and \\\n",
    "CP3(1, 'Y') == CPY_3(2).permute([0, 2, 1]) and \\\n",
    "CP3(2, 'X') == CPX_3(2) and \\\n",
    "CP3(2, 'Y') == CPY_3(2)"
   ]
  },
  {
   "cell_type": "code",
   "execution_count": null,
   "id": "113de6d3",
   "metadata": {
    "code_folding": []
   },
   "outputs": [],
   "source": [
    "# controlled parity gate for a Hilbert space of three subsystems \n",
    "def CP3(qubit, pauli_operator):\n",
    "    \"\"\"\n",
    "    cavity_1 ⊗ qubit_1 ⊗ qubit_2\n",
    "    \"\"\"\n",
    "    # specify Pauli operator\n",
    "    if pauli_operator == 'X':\n",
    "        σ_i = sigmax()\n",
    "    elif pauli_operator == 'Y':\n",
    "        σ_i = sigmay()\n",
    "    elif pauli_operator == 'Z':\n",
    "        σ_i = sigmaz()\n",
    "    \n",
    "    # specify control qubit \n",
    "    if qubit == 1: \n",
    "        return (-1j*(np.pi/2)*tensor(a.dag()*a, σ_i, I2)).expm()\n",
    "    elif qubit == 2: \n",
    "        return (-1j*(np.pi/2)*tensor(a.dag()*a, I2, σ_i)).expm()\n",
    "    else:\n",
    "        print(\"Please enter valid target qubit\")"
   ]
  },
  {
   "cell_type": "code",
   "execution_count": null,
   "id": "57fba6a8",
   "metadata": {},
   "outputs": [],
   "source": []
  },
  {
   "cell_type": "code",
   "execution_count": null,
   "id": "dbd78da6",
   "metadata": {},
   "outputs": [],
   "source": []
  },
  {
   "cell_type": "markdown",
   "id": "8d1fb458",
   "metadata": {},
   "source": [
    "$$ \\Large D_c^{(1, 1)}(\\alpha, \\beta) = D(\\alpha) \\otimes |0 \\rangle \\langle 0 | \\otimes \\mathbb{1} + D(\\beta) \\otimes |1 \\rangle \\langle 1 | \\otimes \\mathbb{1} $$"
   ]
  },
  {
   "cell_type": "code",
   "execution_count": null,
   "id": "13b613c7",
   "metadata": {},
   "outputs": [],
   "source": [
    "def Dc_3(α, β):\n",
    "    \n",
    "    \"\"\" \n",
    "    cavity_1 ⊗ qubit_1 ⊗ qubit_2\n",
    "    controlled-displacement conditioned on the 1st qubit\n",
    "    \"\"\"\n",
    "    return tensor(D(α), basis(2,0)*basis(2,0).dag(), I2) + tensor(D(β), basis(2,1)*basis(2,1).dag(), I2)"
   ]
  },
  {
   "cell_type": "code",
   "execution_count": null,
   "id": "9b523de3",
   "metadata": {},
   "outputs": [],
   "source": [
    "def Dc4(α, β):\n",
    "    \"\"\" \n",
    "    cavity_1 ⊗ qubit_1 ⊗ cavity_2 ⊗ qubit_2\n",
    "    controlled-displacement conditioned on the 1st qubit\n",
    "    \"\"\"\n",
    "    return tensor(D(α), basis(2,0)*basis(2,0).dag(), Ib, I2) + tensor(D(β), basis(2,1)*basis(2,1).dag(), Ib, I2)"
   ]
  },
  {
   "cell_type": "code",
   "execution_count": null,
   "id": "956bae3a",
   "metadata": {},
   "outputs": [],
   "source": []
  },
  {
   "cell_type": "markdown",
   "id": "096f9260",
   "metadata": {},
   "source": [
    "$$ \\Large D_{c}(\\alpha, - \\alpha) = \\text{CP}^{\\dagger} D(-i \\alpha) \\text{CP} $$"
   ]
  },
  {
   "cell_type": "code",
   "execution_count": null,
   "id": "6c09cbb5",
   "metadata": {},
   "outputs": [],
   "source": [
    "Dc(α, -α) == CP('Z').dag() * tensor(D(-1j*α), I2) * CP('Z')"
   ]
  },
  {
   "cell_type": "markdown",
   "id": "610262f3",
   "metadata": {},
   "source": [
    "$$ \\Large D_{ZZ}(\\alpha) = \\text{CP}^{\\dagger} D_{c}(-i\\alpha, +i \\alpha) \\text{CP} $$"
   ]
  },
  {
   "cell_type": "code",
   "execution_count": null,
   "id": "598d2d57",
   "metadata": {},
   "outputs": [],
   "source": [
    "DZZ(α) == CP3(2, 'Z').dag() * Dc_3(-1j*α, 1j*α) * CP3(2, 'Z')"
   ]
  },
  {
   "cell_type": "markdown",
   "id": "023bf439",
   "metadata": {},
   "source": [
    "$$ \\Large D_{XX}(\\alpha) = \\text{CP}^{\\dagger} D_{c}(-i\\alpha, +i \\alpha) \\text{CP} $$"
   ]
  },
  {
   "cell_type": "code",
   "execution_count": null,
   "id": "1f583df0",
   "metadata": {},
   "outputs": [],
   "source": [
    "DXX(α) == CP3(2, 'X').dag() * tensor(Ib, H, I2) * Dc_3(-1j*α, 1j*α) * tensor(Ib, H, I2) * CP3(2, 'X')"
   ]
  },
  {
   "cell_type": "code",
   "execution_count": null,
   "id": "eceac013",
   "metadata": {},
   "outputs": [],
   "source": [
    "DYY(α) == CP3(2, 'Y').dag() * tensor(Ib, rx(-π/2), I2) * Dc_3(-1j*α, 1j*α) * tensor(Ib, rx(π/2), I2) * CP3(2, 'Y')"
   ]
  },
  {
   "cell_type": "code",
   "execution_count": null,
   "id": "afb68399",
   "metadata": {},
   "outputs": [],
   "source": [
    "DXYZ(α) == DXX(α) * DYY(α) * DZZ(α)"
   ]
  },
  {
   "cell_type": "markdown",
   "id": "f81f0dd2",
   "metadata": {},
   "source": [
    "$$ \\Large D_{YY}(\\alpha) = \\text{CP}^{\\dagger} D_{c}(-i\\alpha, +i \\alpha) \\text{CP} $$"
   ]
  },
  {
   "cell_type": "code",
   "execution_count": null,
   "id": "54b7432f",
   "metadata": {},
   "outputs": [],
   "source": []
  },
  {
   "cell_type": "code",
   "execution_count": null,
   "id": "e44b8632",
   "metadata": {},
   "outputs": [],
   "source": []
  },
  {
   "cell_type": "code",
   "execution_count": null,
   "id": "cf9d9f75",
   "metadata": {},
   "outputs": [],
   "source": []
  },
  {
   "cell_type": "code",
   "execution_count": null,
   "id": "ec91723a",
   "metadata": {},
   "outputs": [],
   "source": []
  }
 ],
 "metadata": {
  "kernelspec": {
   "display_name": "Python 3 (ipykernel)",
   "language": "python",
   "name": "python3"
  },
  "language_info": {
   "codemirror_mode": {
    "name": "ipython",
    "version": 3
   },
   "file_extension": ".py",
   "mimetype": "text/x-python",
   "name": "python",
   "nbconvert_exporter": "python",
   "pygments_lexer": "ipython3",
   "version": "3.9.12"
  },
  "varInspector": {
   "cols": {
    "lenName": 16,
    "lenType": 16,
    "lenVar": 40
   },
   "kernels_config": {
    "python": {
     "delete_cmd_postfix": "",
     "delete_cmd_prefix": "del ",
     "library": "var_list.py",
     "varRefreshCmd": "print(var_dic_list())"
    },
    "r": {
     "delete_cmd_postfix": ") ",
     "delete_cmd_prefix": "rm(",
     "library": "var_list.r",
     "varRefreshCmd": "cat(var_dic_list()) "
    }
   },
   "types_to_exclude": [
    "module",
    "function",
    "builtin_function_or_method",
    "instance",
    "_Feature"
   ],
   "window_display": false
  }
 },
 "nbformat": 4,
 "nbformat_minor": 5
}
