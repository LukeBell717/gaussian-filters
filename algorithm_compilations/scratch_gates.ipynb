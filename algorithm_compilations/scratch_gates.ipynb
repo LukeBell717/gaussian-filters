{
 "cells": [
  {
   "cell_type": "code",
   "execution_count": 94,
   "id": "0a052cb2",
   "metadata": {},
   "outputs": [],
   "source": [
    "from qutip import *\n",
    "import numpy as np\n",
    "π = np.pi"
   ]
  },
  {
   "cell_type": "code",
   "execution_count": 95,
   "id": "7a5ecf85",
   "metadata": {},
   "outputs": [],
   "source": [
    "cutoff = 20\n",
    "\n",
    "a = destroy(cutoff)\n",
    "I2 = identity(2)\n",
    "Ib = identity(cutoff)\n",
    "\n",
    "def BS(theta,phi):\n",
    "    term = tensor([a.dag(),identity(2),a,identity(2)])\n",
    "    phase = np.exp(1j*phi)\n",
    "    return (-1j*(theta/2)*(phase*term + np.conj(phase)*term.dag())).expm()\n",
    "\n",
    "def D(alpha):\n",
    "    return (alpha*a.dag() - np.conj(alpha)*a).expm()\n",
    "\n",
    "def Dc(alpha, beta):\n",
    "    return tensor(D(alpha), basis(2,0)*basis(2,0).dag()) + tensor(D(beta), basis(2,1)*basis(2,1).dag())\n",
    "    \n",
    "def CP():\n",
    "    return (-1j*(np.pi/2)*tensor(a.dag()*a,sigmaz())).expm()\n",
    "\n",
    "def DCX(alpha):\n",
    "    return tensor(alpha*a.dag() - np.conj(alpha)*a, (I2 - sigmax())/2).expm()\n",
    "\n",
    "def DCZ(alpha):\n",
    "    return tensor(alpha*a.dag() - np.conj(alpha)*a, (I2 - sigmaz())/2).expm()\n",
    "    "
   ]
  },
  {
   "cell_type": "markdown",
   "id": "aa5fd3f7",
   "metadata": {},
   "source": [
    "# Previous Gates"
   ]
  },
  {
   "cell_type": "code",
   "execution_count": 1,
   "id": "9cd5a974",
   "metadata": {
    "code_folding": [
     1
    ]
   },
   "outputs": [],
   "source": [
    "# conditional displacement operator \n",
    "def Dc(α, β, eigenbasis, qubit, subsystems):\n",
    "    \n",
    "    # define Hadamard gate\n",
    "    H = Qobj([[1,1],[1,-1]],dims=[[2],[2]])/np.sqrt(2)\n",
    "    \n",
    "    # cavity_1 ⊗ qubit_1 + cavity_1 ⊗ qubit_1\n",
    "    # returns D(α)⊗ |0><0| + D(β)⊗ |1><1|, D(α)⊗ |+><+| + D(β)⊗ |-><-|\n",
    "    # or D(α)⊗ |+i><+i| + D(β)⊗ |-i><-i| depending on basis \n",
    "    \n",
    "    # define X, Y, or Z basis projectors\n",
    "    if eigenbasis == 'X':\n",
    "        plus = H*basis(2, 0)\n",
    "        minus = H*basis(2, 1)\n",
    "        plus_projector = plus*plus.dag()\n",
    "        minus_projector = minus*minus.dag()\n",
    "        projector_α = plus_projector\n",
    "        projector_β = minus_projector\n",
    "    elif eigenbasis == 'Y':\n",
    "        plus_i = (basis(2, 0) + 1j*basis(2, 1))/np.sqrt(2)\n",
    "        minus_i = (basis(2, 0) - 1j*basis(2, 1))/np.sqrt(2)\n",
    "        plus_i_projector = plus_i * plus_i.dag()\n",
    "        minus_i_projector = minus_i * minus_i.dag()\n",
    "        projector_α = plus_i_projector\n",
    "        projector_β = minus_i_projector\n",
    "    elif eigenbasis == 'Z':\n",
    "        projector_α = basis(2,0)*basis(2,0).dag()\n",
    "        projector_β = basis(2,1)*basis(2,1).dag()\n",
    "    else:\n",
    "        print('Please enter a valid eigenbasis')\n",
    "    \n",
    "    # return displacement operator\n",
    "    if subsystems == 2: \n",
    "        return tensor(D(α), projector_α) + tensor(D(β), projector_β)\n",
    "    elif subsystems == 4: \n",
    "        if qubit == 1:\n",
    "            return tensor(D(α), projector_α, Ib, I2) + tensor(D(β), projector_β, Ib, I2)\n",
    "        if qubit == 2:\n",
    "            return tensor(Ib, I2, D(α), projector_α) + tensor(Ib, I2, D(β), projector_β)\n",
    "    else: \n",
    "        print('Please enter an even number')"
   ]
  },
  {
   "cell_type": "code",
   "execution_count": 2,
   "id": "aaa2a88b",
   "metadata": {
    "code_folding": [
     2
    ]
   },
   "outputs": [],
   "source": [
    "# controlled parity gate\n",
    "# make it so that you specify mode # and target qubit #\n",
    "def CP(pauli_operator, qubit, subsystems):\n",
    "    \"\"\"\n",
    "    Returns control-parity gate that imparts σ_x, σ_y, or σ_z \n",
    "    to the qubit\n",
    "    \n",
    "    Args: \n",
    "        pauli_operator: 'X', 'Y', or 'Z' represents \n",
    "            σ_x, σ_y, or σ_z which will be applied\n",
    "            to the qubit \n",
    "        subsystems: the total number of modes in qubits we consider \n",
    "                        \n",
    "    Returns: \n",
    "        returns e^{-i π/2 a†a ⊗ σ_x (σ_y, σ_z)} depending on \n",
    "        value of Pauli operator \n",
    "    \"\"\"\n",
    "    \n",
    "    # determine pauli_operator\n",
    "    if pauli_operator == 'X':\n",
    "        σ_i = σ_x\n",
    "    elif pauli_operator == 'Y':\n",
    "        σ_i = σ_y\n",
    "    elif pauli_operator == 'Z':\n",
    "        σ_i = σ_z\n",
    "    else:\n",
    "        print('Please enter valid Pauli operator, either \\'X\\', \\'Y\\', or \\'Z\\'')\n",
    "        \n",
    "    # returns e^{-i π/2 a†a ⊗ σ_i} where σ_i ∈ {σ_x, σ_y, σ_z}\n",
    "    if subsystems == 2:\n",
    "        return (-1j*(np.pi/2)*tensor(a.dag()*a, σ_i)).expm()\n",
    "    elif subsystems == 4: \n",
    "        if qubit == 1:\n",
    "            return (-1j*(np.pi/2)*tensor(a.dag()*a, σ_i, Ib, I2)).expm()\n",
    "        elif qubit == 2: \n",
    "            return (-1j*(np.pi/2)*tensor(a.dag()*a, I2, Ib, σ_i)).expm()\n",
    "        print(\"Please enter valid target qubit\")\n",
    "    else: \n",
    "        print('Please enter a valid number of subsystems ')\n",
    "    \n",
    "    # note that e^{-i π/2 a†a ⊗ σ_x} = tensor(Ib, H)* e^{-i π/2 a†a ⊗ σ_z}*tensor(Ib, H)\n",
    "    # and e^{-i π/2 a†a ⊗ σ_y} = tensor(Ib, rx(-π/2))* e^{-i π/2 a†a ⊗ σ_z} *tensor(Ib, rx(π/2))"
   ]
  },
  {
   "cell_type": "code",
   "execution_count": null,
   "id": "60229a70",
   "metadata": {},
   "outputs": [],
   "source": [
    "display(CP('Z', 2, 4).dag()*Dc(-1j*α, 1j*α, 'Z', 1, 4)*CP('Z', 2, 4) == \n",
    "       (tensor(α*a.dag() - np.conj(α)*a, sigmaz(), Ib, sigmaz())).expm())\n",
    "DZZ = lambda α: (tensor(α*a.dag() - np.conj(α)*a, sigmaz(), Ib, sigmaz())).expm()"
   ]
  },
  {
   "cell_type": "code",
   "execution_count": null,
   "id": "52a691d3",
   "metadata": {},
   "outputs": [],
   "source": [
    "display(CP('X', 2, 4).dag()*Dc(-1j*α, 1j*α, 'X', 1, 4)*CP('X', 2, 4) == \n",
    "       (tensor(α*a.dag() - np.conj(α)*a, sigmax(), Ib, sigmax())).expm())\n",
    "DXX = lambda α: (tensor(α*a.dag() - np.conj(α)*a, sigmax(), Ib, sigmax())).expm()"
   ]
  },
  {
   "cell_type": "markdown",
   "id": "2c78a6b4",
   "metadata": {
    "heading_collapsed": true
   },
   "source": [
    "# $ R_{ZZ}(\\theta) $"
   ]
  },
  {
   "cell_type": "code",
   "execution_count": 61,
   "id": "ffe86a5f",
   "metadata": {
    "hidden": true
   },
   "outputs": [],
   "source": [
    "### ZZ gate\n",
    "\n",
    "θ = np.random.rand()\n",
    "α = np.sqrt(θ/4)"
   ]
  },
  {
   "cell_type": "code",
   "execution_count": 64,
   "id": "5a753d03",
   "metadata": {
    "hidden": true
   },
   "outputs": [
    {
     "data": {
      "text/plain": [
       "True"
      ]
     },
     "execution_count": 64,
     "metadata": {},
     "output_type": "execute_result"
    }
   ],
   "source": [
    "U1 = tensor(CD(-α,α),Ib,I2)\n",
    "U2 = tensor(CD(1j*α,-1j*α),Ib,I2).permute([0,3,2,1])\n",
    "\n",
    "U = U2.dag()*U1.dag()*U2*U1\n",
    "\n",
    "P = tensor(basis(cutoff,0),I2,basis(cutoff,0),I2)\n",
    "P.dag()*U*P == (-1j*θ*tensor(sigmaz(),sigmaz())/2).expm()"
   ]
  },
  {
   "cell_type": "code",
   "execution_count": 65,
   "id": "2bfa1ea9",
   "metadata": {
    "hidden": true
   },
   "outputs": [
    {
     "data": {
      "text/plain": [
       "True"
      ]
     },
     "execution_count": 65,
     "metadata": {},
     "output_type": "execute_result"
    }
   ],
   "source": [
    "U1 = tensor(CD(-α,α),Ib,I2)\n",
    "U2 = BS(π,π/2)*tensor(Ib,I2,CD(1j*α,-1j*α))*BS(π,-π/2)#.permute([0,3,2,1])\n",
    "\n",
    "U = U2.dag()*U1.dag()*U2*U1\n",
    "\n",
    "P = tensor(basis(cutoff,0),I2,basis(cutoff,0),I2)\n",
    "P.dag()*U*P == (-1j*θ*tensor(sigmaz(),sigmaz())/2).expm()"
   ]
  },
  {
   "cell_type": "code",
   "execution_count": null,
   "id": "842c3e6d",
   "metadata": {
    "hidden": true
   },
   "outputs": [],
   "source": [
    "# DZ1(α, β) is a controlled displacement  that \n",
    "# applies D(α) if qubit 1 is |0> and D(β) if qubit is |1>\n",
    "DZ1 = lambda α, β: Dc(α, β, 'Z', 1, 4)\n",
    "DZ2 = lambda α, β: Dc(α, β, 'Z', 2, 4)\n",
    "\n",
    "# # generates θ (random float between 0 and 1)\n",
    "# and defines α as function of θ\n",
    "θ = np.random.rand()\n",
    "α = np.sqrt(θ/4)\n",
    "\n",
    "# note that DZ1(-α,α) == (tensor(α*a.dag() - np.conj(α)*a, -σ_z, Ib, I2)).expm()\n",
    "U1 = \n",
    "\n",
    "# note that DZ2(-α, α) == (tensor(Ib, I2, α*a.dag() - np.conj(α)*a, -σ_z)).expm()\n",
    "# and DZ2(-α, α).permute([2,1,0,3]) == (tensor(α*a.dag() - np.conj(α)*a, I2, Ib, -σ_z)).expm()\n",
    "U2 = DZ2(-α, α).permute([0,3,2,1])\n",
    "\n",
    "# sequence of unitaries that carve out area in phase space \n",
    "U = U2.dag()*U1.dag()*U2*U1"
   ]
  },
  {
   "cell_type": "markdown",
   "id": "06ac3a19",
   "metadata": {},
   "source": [
    "# CNOT"
   ]
  },
  {
   "cell_type": "code",
   "execution_count": 113,
   "id": "f1a13e79",
   "metadata": {},
   "outputs": [],
   "source": [
    "### CNOT\n",
    "α = np.sqrt(π/2)\n",
    "U1 = tensor([Dc(0, α),I2])\n",
    "U2 = tensor([DCX(1j*α),I2]).permute([0,2,1])\n",
    "\n",
    "U = (U2.dag()*U1.dag()*U2*U1)"
   ]
  },
  {
   "cell_type": "code",
   "execution_count": 114,
   "id": "972b1ff9",
   "metadata": {},
   "outputs": [
    {
     "data": {
      "text/latex": [
       "Quantum object: dims = [[2, 2], [2, 2]], shape = (4, 4), type = oper, isherm = False $ \\\\ \\left(\\begin{matrix}1.0 & 0.0 & 0.0 & 0.0\\\\0.0 & 1.0 & 0.0 & 0.0\\\\0.0 & 0.0 & (2.285\\times10^{-11}+8.341\\times10^{-11}j) & (1.000-8.341\\times10^{-11}j)\\\\0.0 & 0.0 & (1.000-8.341\\times10^{-11}j) & (2.285\\times10^{-11}+8.341\\times10^{-11}j)\\\\\\end{matrix}\\right)$"
      ],
      "text/plain": [
       "Quantum object: dims = [[2, 2], [2, 2]], shape = (4, 4), type = oper, isherm = False\n",
       "Qobj data =\n",
       "[[1.0000000e+00+0.00000000e+00j 0.0000000e+00+0.00000000e+00j\n",
       "  0.0000000e+00+0.00000000e+00j 0.0000000e+00+0.00000000e+00j]\n",
       " [0.0000000e+00+0.00000000e+00j 1.0000000e+00+0.00000000e+00j\n",
       "  0.0000000e+00+0.00000000e+00j 0.0000000e+00+0.00000000e+00j]\n",
       " [0.0000000e+00+0.00000000e+00j 0.0000000e+00+0.00000000e+00j\n",
       "  2.2845649e-11+8.34120823e-11j 1.0000000e+00-8.34120042e-11j]\n",
       " [0.0000000e+00+0.00000000e+00j 0.0000000e+00+0.00000000e+00j\n",
       "  1.0000000e+00-8.34120370e-11j 2.2845553e-11+8.34120187e-11j]]"
      ]
     },
     "execution_count": 114,
     "metadata": {},
     "output_type": "execute_result"
    }
   ],
   "source": [
    "P = tensor(basis(cutoff,0).dag(),I2,I2)\n",
    "P*U*P.dag()"
   ]
  },
  {
   "cell_type": "code",
   "execution_count": null,
   "id": "e0ef4cf6",
   "metadata": {},
   "outputs": [],
   "source": [
    "# distance by which we displace oscillator in phase space\n",
    "α = np.sqrt(π/2)\n",
    "\n",
    "# DaZ(-α) is an asymmetric controlled displacement \n",
    "# and applies D(0) if qubit is |0> and D(α) if qubit is |1>\n",
    "DaZ = lambda α: Dc(0, α, 'Z', 1, 2)\n",
    "\n",
    "# DaX(-α) is an asymmetric controlled displacement \n",
    "# and applies D(0) if qubit is |+> and D(α) if qubit is |->\n",
    "DaX = lambda α: Dc(0, α, 'X', 1, 2)\n",
    "\n",
    "# asymmetric horizontal displacement (D(0) if qubit_1 is |o> and D(+α) if qubit_1 is |1>)\n",
    "U1_cnot = tensor([DaZ(α), Ib, I2])\n",
    "\n",
    "# this is the same as (tensor([DCX(1j*α), Ib, I2]).permute([0,3,2,1]))\n",
    "U2_cnot = BS(π, π/2)*tensor(Ib, I2, DaX(1j*α))*BS(π, -π/2)\n",
    "\n",
    "# manually define U2.dag() and U1.dag()\n",
    "# U3 = tensor([DCZ(-α), Ib, I2])\n",
    "# U4 = BS(π, π/2)*tensor(Ib, I2, DCX(-1j*α))*BS(π, -π/2)\n",
    "\n",
    "# gate sequence that carves out area in phase space according to CNOT conditions\n",
    "U_cnot = U2_cnot.dag()*U1_cnot.dag()*U2_cnot*U1_cnot\n",
    "# U = U4 * U3 * U2 * U1\n",
    "\n",
    "# projection operator that begins in the ground state\n",
    "P = tensor(basis(cutoff,0),I2, basis(cutoff,0), I2)\n",
    "\n",
    "# for CNOT gate sequence, trace out oscillator by assuming \n",
    "# we start and end in the ground state\n",
    "CNOT_synthesized = P.dag()*U_cnot*P \n",
    "CNOT_synthesized"
   ]
  },
  {
   "cell_type": "markdown",
   "id": "45cece36",
   "metadata": {},
   "source": [
    "# TOFFOLI"
   ]
  },
  {
   "cell_type": "code",
   "execution_count": null,
   "id": "dc0128e5",
   "metadata": {},
   "outputs": [],
   "source": [
    "# distance by which we displace oscillator in phase space\n",
    "α = np.sqrt(np.pi/2)\n",
    "\n",
    "# define a controlled-parity opeartor that flips qubit_1 depending on parity of photons in cavity\n",
    "# (flip if odd and no flip if even) conditioned upon \n",
    "cp = tensor(CP(),Ib,I2)\n",
    "\n",
    "# asymmetric diplacement operators that applies D(0) (D(0)) if qubit_2 is in |0> and D(-iα/2) (D(α/2)) if qubit_2 is in |1>\n",
    "d1 = tensor([Dc(0,-1j*α/2),Ib,I2]).permute([0,3,2,1])\n",
    "d2 = tensor([Dc(0, α/2),Ib,I2]).permute([0,3,2,1])\n",
    "\n",
    "# conditional-conditional displacement \n",
    "U12 = tensor([d2*cp*d1*cp.dag(),I2])\n",
    "\n",
    "# apply D(0) if qubit_3 is in |+> and D(+iα) if qubit_3 is in |->\n",
    "U3 = tensor([DCX(1j*α),I2,Ib,I2]).permute([0,3,2,1])\n",
    "\n",
    "# gate sequence that carves out area in phase space according to CNOT conditions\n",
    "Utoff = U3.dag()*U12.dag()*U3*U12\n",
    "\n",
    "# trace out oscillator by assuming we start and end in the ground state\n",
    "P = tensor(basis(cutoff,0),I2,basis(cutoff,0),I2)\n",
    "P.dag()*Utoff*P "
   ]
  },
  {
   "cell_type": "code",
   "execution_count": null,
   "id": "41c5a19e",
   "metadata": {},
   "outputs": [],
   "source": []
  }
 ],
 "metadata": {
  "kernelspec": {
   "display_name": "Python 3 (ipykernel)",
   "language": "python",
   "name": "python3"
  },
  "language_info": {
   "codemirror_mode": {
    "name": "ipython",
    "version": 3
   },
   "file_extension": ".py",
   "mimetype": "text/x-python",
   "name": "python",
   "nbconvert_exporter": "python",
   "pygments_lexer": "ipython3",
   "version": "3.9.12"
  },
  "varInspector": {
   "cols": {
    "lenName": 16,
    "lenType": 16,
    "lenVar": 40
   },
   "kernels_config": {
    "python": {
     "delete_cmd_postfix": "",
     "delete_cmd_prefix": "del ",
     "library": "var_list.py",
     "varRefreshCmd": "print(var_dic_list())"
    },
    "r": {
     "delete_cmd_postfix": ") ",
     "delete_cmd_prefix": "rm(",
     "library": "var_list.r",
     "varRefreshCmd": "cat(var_dic_list()) "
    }
   },
   "types_to_exclude": [
    "module",
    "function",
    "builtin_function_or_method",
    "instance",
    "_Feature"
   ],
   "window_display": false
  }
 },
 "nbformat": 4,
 "nbformat_minor": 5
}
