{
 "cells": [
  {
   "cell_type": "code",
   "execution_count": 14,
   "id": "9367d6dc",
   "metadata": {},
   "outputs": [],
   "source": [
    "# import relevant modules \n",
    "import os\n",
    "import sys\n",
    "from importlib import reload\n",
    "import numpy as np\n",
    "from sympy import Matrix\n",
    "from math import isclose\n",
    "import matplotlib.pyplot as plt\n",
    "\n",
    "# locate directory containing scripts \n",
    "current_directory = os.getcwd() \n",
    "src_directory = os.path.dirname(current_directory) + '/src'\n",
    "sys.path.append(src_directory)\n",
    "\n",
    "# import custom modules\n",
    "import spin_chain, blue_red_bonds, generate_VTA_list, VTA_numerics, VTA_analytics, simulate_algorithm\n",
    "reload(spin_chain)\n",
    "reload(blue_red_bonds)\n",
    "reload(generate_VTA_list)\n",
    "reload(VTA_numerics)\n",
    "reload(VTA_analytics)\n",
    "reload(simulate_algorithm); "
   ]
  },
  {
   "cell_type": "code",
   "execution_count": 3,
   "id": "84a15436",
   "metadata": {},
   "outputs": [],
   "source": [
    "# specify parameters for spin chain (number of sites, coupling constants, \n",
    "# periodic or nonperiodic boundary conditions,  and tolerance \n",
    "# with which to determine orthonormality of eigenstates\n",
    "N = 6\n",
    "Jx = 1\n",
    "Jy = 1\n",
    "Jz = 1\n",
    "periodic_bc = True\n",
    "tolerance = 1e-12\n",
    "\n",
    "# collect properties of spin chain\n",
    "H6, H6_list, eigenstates6, eigenvalues6, E0, ρ_ground_state6 = \\\n",
    "    spin_chain.properties(N, Jx, Jy, Jz, periodic_bc, tolerance)"
   ]
  },
  {
   "cell_type": "code",
   "execution_count": 4,
   "id": "ea06f23c",
   "metadata": {},
   "outputs": [],
   "source": [
    "sp_H6 = Matrix(H6.full())"
   ]
  },
  {
   "cell_type": "code",
   "execution_count": 5,
   "id": "834a1c24",
   "metadata": {},
   "outputs": [],
   "source": [
    "spectrum_list = [-2*np.sqrt(13) - 4] + \\\n",
    "                [-2*np.sqrt(5) - 4]*3 + \\\n",
    "                [-6] + [-np.sqrt(17) - 1]*6 + \\\n",
    "                [-4]*6 + [-2]*7 + [0]*10 + \\\n",
    "                [-4 + 2*np.sqrt(5)]*3 + [2]*3 + \\\n",
    "                [-1 + np.sqrt(17)]*6 + \\\n",
    "                [-4 + 2*np.sqrt(13)] + \\\n",
    "                [4]*10 + [6]*7"
   ]
  },
  {
   "cell_type": "code",
   "execution_count": 6,
   "id": "9370006a",
   "metadata": {},
   "outputs": [
    {
     "data": {
      "text/plain": [
       "True"
      ]
     },
     "execution_count": 6,
     "metadata": {},
     "output_type": "execute_result"
    }
   ],
   "source": [
    "λ_bool_list = []\n",
    "for λ1, λ2 in zip(eigenvalues6, spectrum_list): \n",
    "    λ_bool_list.append(isclose(λ1, λ2, abs_tol = 1e-3))\n",
    "all(λ_bool_list)"
   ]
  },
  {
   "cell_type": "code",
   "execution_count": 7,
   "id": "45ad5c62",
   "metadata": {},
   "outputs": [
    {
     "data": {
      "text/plain": [
       "{-11.21110255092798,\n",
       " -8.47213595499958,\n",
       " -6,\n",
       " -5.123105625617661,\n",
       " -4,\n",
       " -2,\n",
       " 0,\n",
       " 0.4721359549995796,\n",
       " 2,\n",
       " 3.1231056256176606,\n",
       " 3.2111025509279782,\n",
       " 4,\n",
       " 6}"
      ]
     },
     "execution_count": 7,
     "metadata": {},
     "output_type": "execute_result"
    }
   ],
   "source": [
    "set(spectrum_list)"
   ]
  },
  {
   "cell_type": "code",
   "execution_count": 8,
   "id": "43e8f3d0",
   "metadata": {},
   "outputs": [
    {
     "data": {
      "text/latex": [
       "Quantum object: dims=[[2, 2, 2, 2, 2, 2], [2, 2, 2, 2, 2, 2]], shape=(64, 64), type='oper', dtype=CSR, isherm=True$$\\left(\\begin{array}{cc}6 & 0 & 0 & 0 & 0 & \\cdots & 0 & 0 & 0 & 0 & 0\\\\0 & 2 & 2 & 0 & 0 & \\cdots & 0 & 0 & 0 & 0 & 0\\\\0 & 2 & 2 & 0 & 2 & \\cdots & 0 & 0 & 0 & 0 & 0\\\\0 & 0 & 0 & 2 & 0 & \\cdots & 0 & 0 & 0 & 0 & 0\\\\0 & 0 & 2 & 0 & 2 & \\cdots & 0 & 0 & 0 & 0 & 0\\\\\\vdots & \\vdots & \\vdots & \\vdots & \\vdots & \\ddots & \\vdots & \\vdots & \\vdots & \\vdots & \\vdots\\\\0 & 0 & 0 & 0 & 0 & \\cdots & 2 & 0 & 2 & 0 & 0\\\\0 & 0 & 0 & 0 & 0 & \\cdots & 0 & 2 & 0 & 0 & 0\\\\0 & 0 & 0 & 0 & 0 & \\cdots & 2 & 0 & 2 & 2 & 0\\\\0 & 0 & 0 & 0 & 0 & \\cdots & 0 & 0 & 2 & 2 & 0\\\\0 & 0 & 0 & 0 & 0 & \\cdots & 0 & 0 & 0 & 0 & 6\\end{array}\\right)$$"
      ],
      "text/plain": [
       "Quantum object: dims=[[2, 2, 2, 2, 2, 2], [2, 2, 2, 2, 2, 2]], shape=(64, 64), type='oper', dtype=CSR, isherm=True\n",
       "Qobj data =\n",
       "[[6. 0. 0. ... 0. 0. 0.]\n",
       " [0. 2. 2. ... 0. 0. 0.]\n",
       " [0. 2. 2. ... 0. 0. 0.]\n",
       " ...\n",
       " [0. 0. 0. ... 2. 2. 0.]\n",
       " [0. 0. 0. ... 2. 2. 0.]\n",
       " [0. 0. 0. ... 0. 0. 6.]]"
      ]
     },
     "execution_count": 8,
     "metadata": {},
     "output_type": "execute_result"
    }
   ],
   "source": [
    "H6"
   ]
  },
  {
   "cell_type": "code",
   "execution_count": null,
   "id": "519215d8",
   "metadata": {},
   "outputs": [],
   "source": []
  },
  {
   "cell_type": "code",
   "execution_count": 9,
   "id": "d6ee78e0",
   "metadata": {},
   "outputs": [],
   "source": [
    "# compute simulatenous eigenvectors H4, S2, Sz, and σ24\n",
    "H6, S2, Sz, σ36 = spin_chain.collect_spin_ops(N, Jx, Jy, Jz, periodic_bc)"
   ]
  },
  {
   "cell_type": "code",
   "execution_count": null,
   "id": "3d85938e",
   "metadata": {},
   "outputs": [],
   "source": []
  },
  {
   "cell_type": "code",
   "execution_count": 12,
   "id": "09c24f59",
   "metadata": {},
   "outputs": [
    {
     "data": {
      "text/plain": [
       "26214400"
      ]
     },
     "execution_count": 12,
     "metadata": {},
     "output_type": "execute_result"
    }
   ],
   "source": [
    "(2**18)*100"
   ]
  },
  {
   "cell_type": "code",
   "execution_count": 13,
   "id": "f86a6884",
   "metadata": {},
   "outputs": [
    {
     "data": {
      "text/plain": [
       "481"
      ]
     },
     "execution_count": 13,
     "metadata": {},
     "output_type": "execute_result"
    }
   ],
   "source": [
    "412+61+8"
   ]
  },
  {
   "cell_type": "code",
   "execution_count": null,
   "id": "2a386713",
   "metadata": {},
   "outputs": [],
   "source": []
  },
  {
   "cell_type": "code",
   "execution_count": null,
   "id": "99dcd5e8",
   "metadata": {},
   "outputs": [],
   "source": []
  },
  {
   "cell_type": "code",
   "execution_count": null,
   "id": "66e941dd",
   "metadata": {},
   "outputs": [],
   "source": []
  },
  {
   "cell_type": "code",
   "execution_count": null,
   "id": "2a5fb5ff",
   "metadata": {},
   "outputs": [],
   "source": []
  },
  {
   "cell_type": "code",
   "execution_count": 29,
   "id": "0dec7908",
   "metadata": {},
   "outputs": [],
   "source": [
    "from qutip import qzero, qeye, sigmax, sigmay, sigmaz, tensor"
   ]
  },
  {
   "cell_type": "code",
   "execution_count": 20,
   "id": "dc39f8cb",
   "metadata": {
    "code_folding": [
     0
    ]
   },
   "outputs": [],
   "source": [
    "def generate_SWAP_operators(N, Jx, Jy, Jz):\n",
    "    \n",
    "    '''\n",
    "    generate list of SWAP operators that needed to compute VTA \n",
    "    using the SU(2) expansion method\n",
    "    '''\n",
    "    \n",
    "    if N % 2 != 0: \n",
    "        raise ValueError(\"Please enter an even number of sites.\")\n",
    "        \n",
    "    # define zero and identity matrices corresponding to dimensions of VTA\n",
    "    zeros_N = qzero([2]*N)\n",
    "    I_N = qeye([2]*N)\n",
    "    \n",
    "    # define Pauli matrices and constants\n",
    "    σ_x = sigmax()\n",
    "    σ_y = sigmay()\n",
    "    σ_z = sigmaz()\n",
    "    \n",
    "    # Interaction coefficients, which we assume are uniform throughout the lattice\n",
    "    Jx_list = Jx*np.ones(N)\n",
    "    Jy_list = Jy*np.ones(N)\n",
    "    Jz_list = Jz*np.ones(N)\n",
    "\n",
    "    # Setup operators for individual qubits; \n",
    "    # here σ_x_list[j] = X_j, σ_y_list[j] = Y_j, and σ_z_list[j] = Z_j\n",
    "    # since the Pauli matrix occupies the jth location in the tensor product of N terms\n",
    "    # for which (N-1) terms are the identity\n",
    "    σ_x_list, σ_y_list, σ_z_list = [], [], []\n",
    "\n",
    "    for i in range(N):\n",
    "        op_list = [qeye(2)]*N\n",
    "        op_list[i] = σ_x\n",
    "        σ_x_list.append(tensor(op_list))\n",
    "        op_list[i] = σ_y\n",
    "        σ_y_list.append(tensor(op_list))\n",
    "        op_list[i] = σ_z\n",
    "        σ_z_list.append(tensor(op_list))\n",
    "\n",
    "    # define empty lists for + and - projection operators\n",
    "    π_list = []\n",
    "    \n",
    "    # collect list of all tuples corresponding to π_p and π_m \n",
    "    # SWAP operators\n",
    "    for k in range(N):\n",
    "\n",
    "        # find H_ij, the Hamiltonian between the ith and jth sites \n",
    "        H_kl = Jx_list[k] * σ_x_list[k] * σ_x_list[(k + 1) % N] + \\\n",
    "               Jy_list[k] * σ_y_list[k] * σ_y_list[(k + 1) % N] + \\\n",
    "               Jz_list[k] * σ_z_list[k] * σ_z_list[(k + 1) % N]\n",
    "        \n",
    "        # add π_p to π_m to π_p_list and π_m_list, respectively\n",
    "        π_p = (3 + H_kl)/4\n",
    "        π_m = (1 - H_kl)/4\n",
    "        π_list.append((π_p, π_m))\n",
    "    \n",
    "    # check to ensure projectors obey established summation and orthogonality relations\n",
    "    π_kl_bool_list = []\n",
    "    for π_kl in π_list: \n",
    "        π_kl_bool_list.append(π_kl[0] * π_kl[1] == zeros_N and \\\n",
    "                              π_kl[0] + π_kl[1] == I_N)\n",
    "\n",
    "    if all(π_kl_bool_list):\n",
    "#         display(Latex(r'$ \\pi^{+}_{kl} \\pi^{-}_{kl} = 0 \\text{ and } $'\n",
    "#                       r'$\\pi^{+}_{kl} + \\pi^{-}_{kl} = \\mathbb{1}$' \n",
    "#                      rf'$ \\ \\forall \\ k,l \\in \\{{1, \\dots, {N} \\}}$'))\n",
    "        return π_list\n",
    "    else: \n",
    "        display(Latex(r'$ \\pi^{+}_{kl} \\pi^{-}_{kl} \\neq 0 \\text{ of } $'\n",
    "                      r'$\\pi^{+}_{kl} + \\pi^{-}_{kl} \\neq \\mathbb{1}$' \n",
    "                     rf'$ \\ \\forall \\ k,l \\in \\{{1, \\dots, {N} \\}}$'))\n",
    "        raise ValueError(f'SWAP operators do not obey the desired summation and' + \\\n",
    "                          ' orthogonality conditions')"
   ]
  },
  {
   "cell_type": "code",
   "execution_count": 21,
   "id": "c9b3d04c",
   "metadata": {
    "code_folding": [
     0
    ]
   },
   "outputs": [],
   "source": [
    "def MPO(π_list, α, E_0, b7, b6, b5, b4, b3, b2, b1, b0):\n",
    "    \n",
    "    '''\n",
    "    generate matrix product operator corresponding to a unique α \n",
    "    and set of eight indices\n",
    "    '''\n",
    "    \n",
    "    # define projection operators where π_kl is a tuple \n",
    "    # such that π_kl[0] = π^{+}_{kl} and π_kl[1] = π^{-}_{kl}\n",
    "    π12 = π_list[0]\n",
    "    π23 = π_list[1]\n",
    "    π34 = π_list[2]\n",
    "    π41 = π_list[3]\n",
    "\n",
    "    # define constant q\n",
    "    q = 2 + E_0/2\n",
    "    \n",
    "    # return matrix product operator for a given α and set of indices\n",
    "    return np.exp((-2*α**2) * (\n",
    "           (q - 4 + 2*(b0 + b3 + b5 + b6))**2 + \\\n",
    "           (q - 4 + 2*(b0 + b2 + b5 + b7))**2 + \\\n",
    "           (q - 4 + 2*(b1 + b2 + b4 + b7))**2 + \\\n",
    "           (q - 4 + 2*(b1 + b3 + b4 + b6))**2)) * \\\n",
    "            π41[b7]*π23[b6]*π34[b5]*π12[b4] * \\\n",
    "            π41[b3]*π23[b2]*π34[b1]*π12[b0]"
   ]
  },
  {
   "cell_type": "code",
   "execution_count": 22,
   "id": "89f948ee",
   "metadata": {
    "code_folding": [
     0
    ]
   },
   "outputs": [],
   "source": [
    "def SU2_automated(N, α_start, α_end, α_steps, Jx, Jy, Jz, E_0): \n",
    "    \n",
    "    '''\n",
    "    compute list of VTAs using an efficient, automated approach\n",
    "    '''\n",
    "    \n",
    "    # define array over which we will sweep α\n",
    "    α_array = np.linspace(α_start, α_end, α_steps)\n",
    "    \n",
    "    # collect list of SWAP operators\n",
    "    π_list = generate_SWAP_operators(N, Jx, Jy, Jz)\n",
    "\n",
    "    # generate all possible combinations of tuples \n",
    "    combination_tuples = list(product([0, 1], repeat=int(N*(N/2))))\n",
    "    \n",
    "    # return the sum of all VTA\n",
    "    return [sum(MPO(π_list, α, E_0, *combination) \\\n",
    "                for combination in combination_tuples) \\\n",
    "                for α in α_array]"
   ]
  },
  {
   "cell_type": "code",
   "execution_count": 31,
   "id": "772f8a2c",
   "metadata": {},
   "outputs": [],
   "source": [
    "N = 4\n",
    "π_list = generate_SWAP_operators(N, Jx, Jy, Jz)"
   ]
  },
  {
   "cell_type": "code",
   "execution_count": 36,
   "id": "54ec5ec6",
   "metadata": {},
   "outputs": [
    {
     "ename": "NameError",
     "evalue": "name 'E_0' is not defined",
     "output_type": "error",
     "traceback": [
      "\u001b[0;31m---------------------------------------------------------------------------\u001b[0m",
      "\u001b[0;31mNameError\u001b[0m                                 Traceback (most recent call last)",
      "Cell \u001b[0;32mIn[36], line 2\u001b[0m\n\u001b[1;32m      1\u001b[0m α \u001b[38;5;241m=\u001b[39m \u001b[38;5;241m1\u001b[39m\n\u001b[0;32m----> 2\u001b[0m MPO(π_list, α, E_0, b7, b6, b5, b4, b3, b2, b1, b0)\n",
      "\u001b[0;31mNameError\u001b[0m: name 'E_0' is not defined"
     ]
    }
   ],
   "source": [
    "α = 1\n",
    "MPO(π_list, α, E_0, b7, b6, b5, b4, b3, b2, b1, b0)"
   ]
  },
  {
   "cell_type": "code",
   "execution_count": null,
   "id": "af0e1a66",
   "metadata": {},
   "outputs": [],
   "source": []
  },
  {
   "cell_type": "code",
   "execution_count": null,
   "id": "4e86ee0f",
   "metadata": {},
   "outputs": [],
   "source": []
  },
  {
   "cell_type": "code",
   "execution_count": null,
   "id": "ef5d5e63",
   "metadata": {},
   "outputs": [],
   "source": []
  },
  {
   "cell_type": "code",
   "execution_count": null,
   "id": "32eb5b79",
   "metadata": {},
   "outputs": [],
   "source": []
  },
  {
   "cell_type": "code",
   "execution_count": null,
   "id": "22333575",
   "metadata": {},
   "outputs": [],
   "source": []
  },
  {
   "cell_type": "code",
   "execution_count": null,
   "id": "8f4b54d2",
   "metadata": {},
   "outputs": [],
   "source": []
  },
  {
   "cell_type": "code",
   "execution_count": null,
   "id": "fb4a33ad",
   "metadata": {},
   "outputs": [],
   "source": []
  },
  {
   "cell_type": "code",
   "execution_count": null,
   "id": "b963bcae",
   "metadata": {},
   "outputs": [],
   "source": []
  },
  {
   "cell_type": "code",
   "execution_count": null,
   "id": "f1d08608",
   "metadata": {},
   "outputs": [],
   "source": []
  },
  {
   "cell_type": "code",
   "execution_count": null,
   "id": "850960ee",
   "metadata": {},
   "outputs": [],
   "source": []
  },
  {
   "cell_type": "code",
   "execution_count": null,
   "id": "1eff319b",
   "metadata": {},
   "outputs": [],
   "source": []
  },
  {
   "cell_type": "code",
   "execution_count": null,
   "id": "91107811",
   "metadata": {},
   "outputs": [],
   "source": []
  }
 ],
 "metadata": {
  "kernelspec": {
   "display_name": "Python 3 (ipykernel)",
   "language": "python",
   "name": "python3"
  },
  "language_info": {
   "codemirror_mode": {
    "name": "ipython",
    "version": 3
   },
   "file_extension": ".py",
   "mimetype": "text/x-python",
   "name": "python",
   "nbconvert_exporter": "python",
   "pygments_lexer": "ipython3",
   "version": "3.11.7"
  }
 },
 "nbformat": 4,
 "nbformat_minor": 5
}
