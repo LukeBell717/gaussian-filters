{
 "cells": [
  {
   "cell_type": "code",
   "execution_count": 1,
   "id": "dba070a4",
   "metadata": {},
   "outputs": [],
   "source": [
    "import numpy as np"
   ]
  },
  {
   "cell_type": "code",
   "execution_count": 22,
   "id": "70d34559",
   "metadata": {
    "code_folding": [
     0,
     14,
     63,
     75
    ]
   },
   "outputs": [],
   "source": [
    "def σ(N, t, i): \n",
    "    \n",
    "    '''\n",
    "    define permutation function to determine \n",
    "    time-ordering of oeprators\n",
    "    '''\n",
    "    \n",
    "    # calculate index\n",
    "    indx = (i + 2*t) % N\n",
    "    \n",
    "    if indx != 0: \n",
    "        return indx\n",
    "    elif indx == 0:  \n",
    "        return N \n",
    "def time_ordering(Hjk_list):\n",
    "\n",
    "    '''\n",
    "    determine the sequence of time-ordered \n",
    "    operators for each mode\n",
    "    '''\n",
    "    \n",
    "    # determine number of sites\n",
    "    N = len(Hjk_list)\n",
    "    \n",
    "    # define dictionary for operator names and indices \n",
    "    # where time is the key and the operator is the value\n",
    "    Hjk_dict_TO = {(j+1): O for j, O in enumerate(Hjk_list)}\n",
    "\n",
    "    # initialize empty list with which to fill \n",
    "    # with sequences of operators\n",
    "    sequence_list = []\n",
    "\n",
    "    for i in range(1, N+1): \n",
    "\n",
    "        if i % 2 == 1: \n",
    "\n",
    "            # initialize list to store permutation \n",
    "            # sequence for the ith mode\n",
    "            pi_sequence = []\n",
    "\n",
    "            # compute time-ordered operators that will \n",
    "            # act on mode i\n",
    "            for t in range(int(N/2)): \n",
    "                pi_sequence.append(Hjk_dict_TO[σ(N, t, i)])\n",
    "                pi_sequence.append(Hjk_dict_TO[σ(N, t, i-1)])\n",
    "\n",
    "            sequence_list.append(pi_sequence)\n",
    "\n",
    "        elif i % 2 == 0: \n",
    "\n",
    "            # initialize list to store permutation \n",
    "            # sequence for the ith mode\n",
    "            pi_sequence = []\n",
    "\n",
    "            # compute time-ordered operators that will \n",
    "            # act on mode i\n",
    "            for t in range(int(N/2)): \n",
    "                pi_sequence.append(Hjk_dict_TO[σ(N, -t, i-1)])\n",
    "                pi_sequence.append(Hjk_dict_TO[σ(N, -t, i)])\n",
    "\n",
    "            sequence_list.append(pi_sequence)\n",
    "            \n",
    "    return sequence_list\n",
    "def find_b(N, t, j): \n",
    "    \n",
    "    if j % 2 == 1:\n",
    "        bt = N*(t/2) + (j-1)/2\n",
    "        \n",
    "        if bt == int(bt):\n",
    "            return int(bt)\n",
    "    elif j % 2 == 0: \n",
    "        bt = N*(t/2) + j/2 -1 \n",
    "        \n",
    "        if bt == int(bt): \n",
    "            return int(bt)\n",
    "def compute_bk_list(sequence_array):\n",
    "\n",
    "    '''\n",
    "    compute list of binary variables \n",
    "    corresponding to each mode to compute VTA\n",
    "    '''\n",
    "    \n",
    "    # define dictionary for operator names and indices \n",
    "    # where the operator is the key and time is the value\n",
    "    Hjk_dict_OT = {O: (j+1) for j, O in enumerate(Hjk_list)}\n",
    "\n",
    "    # initialize empty list in which to store \n",
    "    # lists of binary variables\n",
    "    bk_list = []\n",
    "\n",
    "    for sequence in sequence_array: \n",
    "\n",
    "        # find the time ordering of operators that the ith mode; \n",
    "        # list of tuples (t, j) here t ∈ {0,..., N-1} is the timestep \n",
    "        # in the algorithm and j ∈ {1,..., N} corresponding to H_{j, j+1}\n",
    "        # specifies the local Hamiltonian acting that timestep\n",
    "        pi_TO = [(t, Hjk_dict_OT[O]) for t, O in enumerate(sequence)]\n",
    "\n",
    "        # for each tuple (t,j) find the b_k corresponding to this operator\n",
    "        bk_sequence = [(find_b(6, t, j)) for t, j in pi_TO]\n",
    "        bk_list.append(bk_sequence)\n",
    "        \n",
    "    return bk_list"
   ]
  },
  {
   "cell_type": "code",
   "execution_count": 32,
   "id": "2f088ded",
   "metadata": {
    "code_folding": []
   },
   "outputs": [
    {
     "data": {
      "text/plain": [
       "[['A', 'D', 'C', 'B'],\n",
       " ['A', 'B', 'C', 'D'],\n",
       " ['C', 'B', 'A', 'D'],\n",
       " ['C', 'D', 'A', 'B']]"
      ]
     },
     "metadata": {},
     "output_type": "display_data"
    },
    {
     "data": {
      "text/plain": [
       "[[0, 4, 7, 9], [0, 3, 7, 10], [1, 3, 6, 10], [1, 4, 6, 9]]"
      ]
     },
     "metadata": {},
     "output_type": "display_data"
    }
   ],
   "source": [
    "# define operators for 4 sites\n",
    "Hjk_list = ['A', 'B', 'C', 'D']\n",
    "\n",
    "# compute operator sequences for each mode\n",
    "sequence_list = time_ordering(Hjk_list)\n",
    "display(sequence_list)\n",
    "\n",
    "bk_list = compute_bk_list(sequence_list)\n",
    "display(bk_list)"
   ]
  },
  {
   "cell_type": "code",
   "execution_count": 34,
   "id": "3d010047",
   "metadata": {},
   "outputs": [
    {
     "data": {
      "text/plain": [
       "[['A', 'F', 'C', 'B', 'E', 'D'],\n",
       " ['A', 'B', 'E', 'F', 'C', 'D'],\n",
       " ['C', 'B', 'E', 'D', 'A', 'F'],\n",
       " ['C', 'D', 'A', 'B', 'E', 'F'],\n",
       " ['E', 'D', 'A', 'F', 'C', 'B'],\n",
       " ['E', 'F', 'C', 'D', 'A', 'B']]"
      ]
     },
     "metadata": {},
     "output_type": "display_data"
    },
    {
     "data": {
      "text/plain": [
       "[[0, 5, 7, 9, 14, 16],\n",
       " [0, 3, 8, 11, 13, 16],\n",
       " [1, 3, 8, 10, 12, 17],\n",
       " [1, 4, 6, 9, 14, 17],\n",
       " [2, 4, 6, 11, 13, 15],\n",
       " [2, 5, 7, 10, 12, 15]]"
      ]
     },
     "metadata": {},
     "output_type": "display_data"
    }
   ],
   "source": [
    "# define operators for 6 sites\n",
    "Hjk_list = ['A', 'B', 'C', 'D', 'E', 'F']\n",
    "\n",
    "# compute operator sequences for each mode\n",
    "sequence_list = time_ordering(Hjk_list)\n",
    "display(sequence_list)\n",
    "\n",
    "bk_list = compute_bk_list(sequence_list)\n",
    "display(bk_list)"
   ]
  },
  {
   "cell_type": "code",
   "execution_count": null,
   "id": "f47d44e7",
   "metadata": {},
   "outputs": [],
   "source": []
  }
 ],
 "metadata": {
  "kernelspec": {
   "display_name": "Python 3 (ipykernel)",
   "language": "python",
   "name": "python3"
  },
  "language_info": {
   "codemirror_mode": {
    "name": "ipython",
    "version": 3
   },
   "file_extension": ".py",
   "mimetype": "text/x-python",
   "name": "python",
   "nbconvert_exporter": "python",
   "pygments_lexer": "ipython3",
   "version": "3.11.7"
  }
 },
 "nbformat": 4,
 "nbformat_minor": 5
}
