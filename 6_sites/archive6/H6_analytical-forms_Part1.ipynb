{
 "cells": [
  {
   "cell_type": "markdown",
   "id": "d452898e",
   "metadata": {},
   "source": [
    "# Heisenberg 6 Sites &mdash; Analytical Forms"
   ]
  },
  {
   "cell_type": "markdown",
   "id": "dc6c10c5",
   "metadata": {},
   "source": [
    "## Import packages"
   ]
  },
  {
   "cell_type": "code",
   "execution_count": 1,
   "id": "67ad8430",
   "metadata": {},
   "outputs": [],
   "source": [
    "import time, os\n",
    "\n",
    "import numpy as np\n",
    "import sympy as sp\n",
    "from scipy import linalg, sparse\n",
    "\n",
    "from openfermion.ops import FermionOperator as FO, QubitOperator as QO\n",
    "from openfermion.linalg import get_sparse_operator, get_ground_state\n",
    "from openfermion.utils import anticommutator, commutator, save_operator, count_qubits, is_hermitian, hermitian_conjugated\n",
    "\n",
    "from IPython.display import display, Math, Markdown, Latex, HTML\n",
    "\n",
    "import matplotlib as mpl\n",
    "from matplotlib import pyplot as plt\n",
    "%config InlineBackend.figure_format = 'retina'\n",
    "plt.rcParams.update({\n",
    "    #\"text.usetex\": True,\n",
    "    #\"font.family\": \"serif\",\n",
    "    #\"font.serif\": [\"Computer Modern Roman\", \"Times\", \"Palatino\"],\n",
    "    #\"font.size\": 16,\n",
    "})\n",
    "#mpl.rcParams['font.family'] = ['serif', 'sans-serif']\n",
    "##mpl.rcParams['text.latex.preamble'] = r'\\usepackage{amsmath} \\usepackage[T1]{fontenc}'\n",
    "#mpl.rcParams['text.latex.unicode'] = True\n",
    "from mpl_toolkits.axes_grid1 import Grid\n",
    "\n",
    "from qiskit.quantum_info import Statevector\n",
    "\n",
    "from qutip import Qobj, about, basis, simdiag"
   ]
  },
  {
   "cell_type": "code",
   "execution_count": 2,
   "id": "22ba1a2f",
   "metadata": {},
   "outputs": [
    {
     "name": "stdout",
     "output_type": "stream",
     "text": [
      "\n",
      "6-site chain\n",
      "site index (qubit index)\n",
      "  6(5)______5(4)\n",
      "     /      \\\n",
      "1(0)/        \\4(3) \n",
      "    \\        /\n",
      "     \\______?\n",
      "    2(1)   3(2)\n",
      "\n"
     ]
    }
   ],
   "source": [
    "diagram_6site = r'''\n",
    "6-site chain\n",
    "site index (qubit index)\n",
    "  6(5)______5(4)\n",
    "     /      \\\n",
    "1(0)/        \\4(3) \n",
    "    \\        /\n",
    "     \\______?\n",
    "    2(1)   3(2)\n",
    "'''\n",
    "print(diagram_6site)"
   ]
  },
  {
   "cell_type": "code",
   "execution_count": null,
   "id": "e4a2d23a",
   "metadata": {},
   "outputs": [],
   "source": []
  },
  {
   "cell_type": "code",
   "execution_count": null,
   "id": "04c34199",
   "metadata": {},
   "outputs": [],
   "source": []
  },
  {
   "cell_type": "code",
   "execution_count": null,
   "id": "08bce3e5",
   "metadata": {},
   "outputs": [],
   "source": []
  },
  {
   "cell_type": "markdown",
   "id": "e3cdb1d3",
   "metadata": {},
   "source": [
    "## Define Hamiltonian and SWAP operators"
   ]
  },
  {
   "cell_type": "code",
   "execution_count": 3,
   "id": "f5ff49c7",
   "metadata": {},
   "outputs": [
    {
     "name": "stdout",
     "output_type": "stream",
     "text": [
      "6-site Heisenberg Hamiltonian eigenenergy:\n",
      "[-11.2111  -8.4721  -8.4721  -8.4721  -6.      -5.1231  -5.1231  -5.1231\n",
      "  -5.1231  -5.1231  -5.1231  -4.      -4.      -4.      -4.      -4.\n",
      "  -4.      -2.      -2.      -2.      -2.      -2.      -2.      -2.\n",
      "  -0.      -0.      -0.      -0.      -0.       0.       0.       0.\n",
      "   0.       0.       0.4721   0.4721   0.4721   2.       2.       2.\n",
      "   3.1231   3.1231   3.1231   3.1231   3.1231   3.1231   3.2111   4.\n",
      "   4.       4.       4.       4.       4.       4.       4.       4.\n",
      "   4.       6.       6.       6.       6.       6.       6.       6.    ]\n"
     ]
    }
   ],
   "source": [
    "# Heisenberg 6-site Hamiltonian terms in OpenFermion qubit operator form\n",
    "Lsite = 6\n",
    "Ham = {}\n",
    "edges = [(1,2), (2,3), (3,4), (4,5), (5,6), (6,1)]  #site index 1--6, but OpenFermion index 0--5\n",
    "for ii,jj in edges:\n",
    "    Ham[(ii,jj)] = QO(f'X{ii-1} X{jj-1}') + QO(f'Y{ii-1} Y{jj-1}') + QO(f'Z{ii-1} Z{jj-1}')\n",
    "\n",
    "# Full Hamiltonian in qubit operator\n",
    "HQ = QO()  #initialize with zero operator\n",
    "for k,v in Ham.items():\n",
    "    HQ += v\n",
    "# Convert to sparse numerical matrix, then to numpy array (.A), then to real part (XX, YY, ZZ are purely real)\n",
    "HM = get_sparse_operator(HQ, n_qubits=Lsite).A.real\n",
    "eigE_H6, eigV_H6 = np.linalg.eigh(HM)\n",
    "print('6-site Heisenberg Hamiltonian eigenenergy:',eigE_H6.round(4), sep='\\n')\n",
    "#print([sp.nsimplify(E.round(16)) for E in eigE_H6], sep='\\n')"
   ]
  },
  {
   "cell_type": "code",
   "execution_count": 4,
   "id": "e476206e",
   "metadata": {},
   "outputs": [],
   "source": [
    "HMM = sp.Matrix(HM).applyfunc(sp.nsimplify)"
   ]
  },
  {
   "cell_type": "code",
   "execution_count": 5,
   "id": "404caaee",
   "metadata": {},
   "outputs": [
    {
     "data": {
      "text/latex": [
       "$\\displaystyle \\lambda^{10} \\left(\\lambda - 6\\right)^{7} \\left(\\lambda - 4\\right)^{10} \\left(\\lambda - 2\\right)^{3} \\left(\\lambda + 2\\right)^{7} \\left(\\lambda + 4\\right)^{6} \\left(\\lambda + 6\\right) \\left(\\lambda^{2} + 2 \\lambda - 16\\right)^{6} \\left(\\lambda^{2} + 8 \\lambda - 36\\right) \\left(\\lambda^{2} + 8 \\lambda - 4\\right)^{3}$"
      ],
      "text/plain": [
       "lambda**10*(lambda - 6)**7*(lambda - 4)**10*(lambda - 2)**3*(lambda + 2)**7*(lambda + 4)**6*(lambda + 6)*(lambda**2 + 2*lambda - 16)**6*(lambda**2 + 8*lambda - 36)*(lambda**2 + 8*lambda - 4)**3"
      ]
     },
     "execution_count": 5,
     "metadata": {},
     "output_type": "execute_result"
    }
   ],
   "source": [
    "sp.factor(HMM.charpoly().as_expr())"
   ]
  },
  {
   "cell_type": "code",
   "execution_count": 6,
   "id": "91d53c6c",
   "metadata": {},
   "outputs": [],
   "source": [
    "symbs = sp.symbols(' '.join(f'|{np.binary_repr(n,width=6)}⟩' for n in range(2**Lsite)))"
   ]
  },
  {
   "cell_type": "code",
   "execution_count": 7,
   "id": "e4ad374e",
   "metadata": {},
   "outputs": [
    {
     "name": "stdout",
     "output_type": "stream",
     "text": [
      "[-11.21110255  -8.47213595  -6.          -5.12310563  -4.\n",
      "  -2.           0.           0.47213595   2.           3.12310563\n",
      "   3.21110255   4.           6.        ]\n",
      "{-2⋅√13 - 4: dim=1}\n",
      "{-2⋅√5 - 4: dim=3}\n",
      "{-6: dim=1}\n",
      "{-√17 - 1: dim=6}\n",
      "{-4: dim=6}\n",
      "{-2: dim=7}\n",
      "{0: dim=10}\n",
      "{-4 + 2⋅√5: dim=3}\n",
      "{2: dim=3}\n",
      "{-1 + √17: dim=6}\n",
      "{-4 + 2⋅√13: dim=1}\n",
      "{4: dim=10}\n",
      "{6: dim=7}\n",
      "64\n"
     ]
    }
   ],
   "source": [
    "# faster to only compute eigenvalues\n",
    "eigs = HMM.eigenvals()\n",
    "Eskey = list(eigs.keys())\n",
    "Es = np.array([sp.N(k) for k in Eskey],dtype=float)\n",
    "idxs = np.argsort(Es)\n",
    "print(Es[idxs])\n",
    "d = 0\n",
    "for n,ii in enumerate(idxs):\n",
    "    k = Eskey[ii]\n",
    "    #print(n)\n",
    "    sp.pprint({k:f'dim={eigs[k]}'})\n",
    "    d += eigs[k]\n",
    "print(d)"
   ]
  },
  {
   "cell_type": "code",
   "execution_count": 8,
   "id": "df59d516",
   "metadata": {},
   "outputs": [
    {
     "name": "stdout",
     "output_type": "stream",
     "text": [
      "[-11.21110255  -8.47213595  -6.          -5.12310563  -4.\n",
      "  -2.           0.           0.47213595   2.           3.12310563\n",
      "   3.21110255   4.           6.        ]\n",
      "{-2⋅√13 - 4: dim=1}\n",
      "Ground State (un-normalized):"
     ]
    },
    {
     "data": {
      "text/latex": [
       "$\\displaystyle - |000111⟩ + |001011⟩ \\left(\\frac{3}{2} + \\frac{\\sqrt{13}}{2}\\right) + |001101⟩ \\left(- \\frac{\\sqrt{13}}{2} - \\frac{3}{2}\\right) + |001110⟩ + |010011⟩ \\left(- \\frac{\\sqrt{13}}{2} - \\frac{3}{2}\\right) + |010101⟩ \\left(\\sqrt{13} + 4\\right) + |010110⟩ \\left(- \\frac{\\sqrt{13}}{2} - \\frac{3}{2}\\right) + |011001⟩ \\left(- \\frac{\\sqrt{13}}{2} - \\frac{3}{2}\\right) + |011010⟩ \\left(\\frac{3}{2} + \\frac{\\sqrt{13}}{2}\\right) - |011100⟩ + |100011⟩ + |100101⟩ \\left(- \\frac{\\sqrt{13}}{2} - \\frac{3}{2}\\right) + |100110⟩ \\left(\\frac{3}{2} + \\frac{\\sqrt{13}}{2}\\right) + |101001⟩ \\left(\\frac{3}{2} + \\frac{\\sqrt{13}}{2}\\right) + |101010⟩ \\left(-4 - \\sqrt{13}\\right) + |101100⟩ \\left(\\frac{3}{2} + \\frac{\\sqrt{13}}{2}\\right) - |110001⟩ + |110010⟩ \\left(\\frac{3}{2} + \\frac{\\sqrt{13}}{2}\\right) + |110100⟩ \\left(- \\frac{\\sqrt{13}}{2} - \\frac{3}{2}\\right) + |111000⟩$"
      ],
      "text/plain": [
       "-|000111⟩ + |001011⟩*(3/2 + sqrt(13)/2) + |001101⟩*(-sqrt(13)/2 - 3/2) + |001110⟩ + |010011⟩*(-sqrt(13)/2 - 3/2) + |010101⟩*(sqrt(13) + 4) + |010110⟩*(-sqrt(13)/2 - 3/2) + |011001⟩*(-sqrt(13)/2 - 3/2) + |011010⟩*(3/2 + sqrt(13)/2) - |011100⟩ + |100011⟩ + |100101⟩*(-sqrt(13)/2 - 3/2) + |100110⟩*(3/2 + sqrt(13)/2) + |101001⟩*(3/2 + sqrt(13)/2) + |101010⟩*(-4 - sqrt(13)) + |101100⟩*(3/2 + sqrt(13)/2) - |110001⟩ + |110010⟩*(3/2 + sqrt(13)/2) + |110100⟩*(-sqrt(13)/2 - 3/2) + |111000⟩"
      ]
     },
     "metadata": {},
     "output_type": "display_data"
    },
    {
     "name": "stdout",
     "output_type": "stream",
     "text": [
      "Norm:"
     ]
    },
    {
     "data": {
      "text/latex": [
       "$\\displaystyle \\sqrt{34 \\sqrt{13} + 130}$"
      ],
      "text/plain": [
       "sqrt(34*sqrt(13) + 130)"
      ]
     },
     "metadata": {},
     "output_type": "display_data"
    },
    {
     "name": "stdout",
     "output_type": "stream",
     "text": [
      "{-2⋅√5 - 4: dim=3}\n",
      "{-6: dim=1}\n",
      "{-√17 - 1: dim=6}\n",
      "{-4: dim=6}\n",
      "{-2: dim=7}\n",
      "{0: dim=10}\n",
      "{-4 + 2⋅√5: dim=3}\n",
      "{2: dim=3}\n",
      "{-1 + √17: dim=6}\n",
      "{-4 + 2⋅√13: dim=1}\n",
      "{4: dim=10}\n",
      "{6: dim=7}\n",
      "64\n"
     ]
    }
   ],
   "source": [
    "# slower to compute both eigenvalues and eigenvectors\n",
    "eigs = HMM.eigenvects()\n",
    "Es = np.array([sp.N(eigs[ii][0]) for ii in range(len(eigs))],dtype=float)\n",
    "idxs = np.argsort(Es)\n",
    "print(Es[idxs])\n",
    "d = 0\n",
    "for n,ii in enumerate(idxs):\n",
    "    sp.pprint({eigs[ii][0]:f'dim={eigs[ii][1]}'})\n",
    "    if n == 0:  #ground state\n",
    "        print('Ground State (un-normalized):',end='')\n",
    "        display(np.dot(symbs,eigs[ii][2][0][:]))\n",
    "        print('Norm:',end='')\n",
    "        display(sp.simplify(eigs[ii][2][0].norm()))        \n",
    "    d += eigs[ii][1]\n",
    "print(d)"
   ]
  },
  {
   "cell_type": "code",
   "execution_count": 9,
   "id": "46cf977a",
   "metadata": {},
   "outputs": [
    {
     "name": "stdout",
     "output_type": "stream",
     "text": [
      "(1, 3)\n",
      "(2, 4)\n",
      "(3, 5)\n",
      "(4, 6)\n",
      "(5, 1)\n",
      "(6, 2)\n",
      "(1, 4)\n",
      "(2, 5)\n",
      "(3, 6)\n"
     ]
    }
   ],
   "source": [
    "# SWAP operators s_ij\n",
    "Swaps = {}\n",
    "for k,v in Ham.items():\n",
    "    Swaps[k] = 0.5*(v + QO(()))\n",
    "\n",
    "#nnn swaps (next-nearest neighbors)\n",
    "for ii in range(6):\n",
    "    jj = (ii+2)%6\n",
    "    print((ii+1,jj+1))\n",
    "    Swaps[(ii+1,jj+1)] = 0.5*(QO(f'X{ii} X{jj}') + QO(f'Y{ii} Y{jj}') + QO(f'Z{ii} Z{jj}') + QO(()))\n",
    "#nnnn swaps (next-next-nearest neighbors)\n",
    "for ii in range(3):\n",
    "    jj = (ii+3)%6\n",
    "    print((ii+1,jj+1))\n",
    "    Swaps[(ii+1,jj+1)] = 0.5*(QO(f'X{ii} X{jj}') + QO(f'Y{ii} Y{jj}') + QO(f'Z{ii} Z{jj}') + QO(()))"
   ]
  },
  {
   "cell_type": "markdown",
   "id": "246489d0",
   "metadata": {},
   "source": [
    "## Diagonalization in $(\\mathbf{S}^2,S_z)$ symmetry basis"
   ]
  },
  {
   "cell_type": "code",
   "execution_count": 11,
   "id": "ded5bb9c",
   "metadata": {},
   "outputs": [
    {
     "name": "stdout",
     "output_type": "stream",
     "text": [
      "0, 0, 0, 0, 0, 0\n",
      "[[  0.      0.    -11.211   1.   ]\n",
      " [  0.      0.     -6.     -1.   ]\n",
      " [ -0.      0.     -2.     -1.   ]\n",
      " [  0.      0.     -2.      1.   ]\n",
      " [  0.      0.      3.211   1.   ]\n",
      " [  2.     -1.     -3.899   0.552]\n",
      " [  2.     -1.     -6.869   0.541]\n",
      " [  2.     -1.     -5.119  -0.862]\n",
      " [  2.     -1.     -4.311   0.448]\n",
      " [  2.     -1.     -5.028   0.148]\n",
      " [  2.     -1.     -0.315   0.75 ]\n",
      " [  2.     -1.      1.427  -0.609]\n",
      " [  2.     -1.      2.99   -0.93 ]\n",
      " [  2.     -1.      3.123   0.963]\n",
      " [  2.     -0.     -8.472   1.   ]\n",
      " [  2.      0.     -5.123  -0.874]\n",
      " [  2.      0.     -5.123   0.874]\n",
      " [  2.     -0.     -4.     -1.   ]\n",
      " [  2.     -0.     -4.      1.   ]\n",
      " [  2.      0.      0.472   1.   ]\n",
      " [  2.     -0.      2.     -1.   ]\n",
      " [  2.      0.      3.123  -1.   ]\n",
      " [  2.      0.      3.123   1.   ]\n",
      " [  2.      1.     -6.787   0.699]\n",
      " [  2.      1.     -6.267   0.577]\n",
      " [  2.      1.     -5.03   -0.369]\n",
      " [  2.      1.     -4.081   0.18 ]\n",
      " [  2.      1.     -1.451   0.252]\n",
      " [  2.      1.      1.11    0.247]\n",
      " [  2.      1.      2.471  -0.08 ]\n",
      " [  2.      1.     -1.016   0.17 ]\n",
      " [  2.      1.      3.05   -0.677]\n",
      " [  6.     -2.     -2.      1.   ]\n",
      " [  6.     -2.      0.     -1.   ]\n",
      " [  6.     -2.      0.      1.   ]\n",
      " [  6.     -2.      4.     -1.   ]\n",
      " [  6.     -2.      4.      1.   ]\n",
      " [  6.     -1.     -2.      1.   ]\n",
      " [  6.     -1.     -0.     -1.   ]\n",
      " [  6.     -1.      0.      1.   ]\n",
      " [  6.     -1.      4.     -1.   ]\n",
      " [  6.     -1.      4.      1.   ]\n",
      " [  6.     -0.     -2.      1.   ]\n",
      " [  6.     -0.     -0.     -1.   ]\n",
      " [  6.      0.     -0.      1.   ]\n",
      " [  6.      0.      4.     -1.   ]\n",
      " [  6.      0.      4.      1.   ]\n",
      " [  6.      1.     -2.      1.   ]\n",
      " [  6.      1.      0.     -1.   ]\n",
      " [  6.      1.     -0.      1.   ]\n",
      " [  6.      1.      4.     -1.   ]\n",
      " [  6.      1.      4.      1.   ]\n",
      " [  6.      2.     -2.      1.   ]\n",
      " [  6.      2.      0.     -1.   ]\n",
      " [  6.      2.     -0.      1.   ]\n",
      " [  6.      2.      4.     -1.   ]\n",
      " [  6.      2.      4.      1.   ]\n",
      " [ 12.     -3.      6.      1.   ]\n",
      " [ 12.     -2.      6.      1.   ]\n",
      " [ 12.     -1.      6.      1.   ]\n",
      " [ 12.      0.      6.      1.   ]\n",
      " [ 12.      1.      6.      1.   ]\n",
      " [ 12.      2.      6.      1.   ]\n",
      " [ 12.      3.      6.      1.   ]]\n"
     ]
    }
   ],
   "source": [
    "# Define symmetry operators in OpenFermion qubit operator form\n",
    "S2, Sz, Sx, Sy = QO(), QO(), QO(), QO()  #(S^2, Sz, Sx, Sy) qubit operators\n",
    "for ii in range(Lsite):\n",
    "    Sz += QO(f'Z{ii}', 0.5)\n",
    "    Sx += QO(f'X{ii}', 0.5)\n",
    "    Sy += QO(f'Y{ii}', 0.5)\n",
    "S2 = Sx*Sx + Sy*Sy + Sz*Sz\n",
    "#symmetry operators must commute with the full Hamiltonian\n",
    "\n",
    "\n",
    "#mirror symmetry along 14\n",
    "m14 = Swaps[(6,2)]*Swaps[(3,5)]\n",
    "#mirror symmetry perpendicular to 14\n",
    "# p14 = Swaps[(1,4)]*Swaps[(2,3)]*Swaps[(5,6)]\n",
    "#inversion or C2\n",
    "# C2 = Swaps[(1,4)]*Swaps[(2,5)]*Swaps[(3,6)]\n",
    "\n",
    "print(commutator(S2, HQ), commutator(Sz, HQ), commutator(S2, Sz),\n",
    "      commutator(HQ, m14), commutator(Sz, m14), commutator(S2, m14), sep=', ')\n",
    "\n",
    "# Convert to numpy array\n",
    "SzM = get_sparse_operator(Sz,n_qubits=Lsite).A.real\n",
    "S2M = get_sparse_operator(S2,n_qubits=Lsite).A.real\n",
    "m14M = get_sparse_operator(m14,n_qubits=Lsite).A.real\n",
    "# p14 = get_sparse_operator(p14,n_qubits=Lsite).A.real\n",
    "# C2 = get_sparse_operator(C2,n_qubits=Lsite).A.real\n",
    "\n",
    "# Find simultaneous eigenvectors using QuTiP\n",
    "eigEsym, eigVsym = simdiag([Qobj(S2M), Qobj(SzM), Qobj(HM), Qobj(m14M)])  #<- QuTiP has bugs!!\n",
    "#^QuTiP bug: with the above ordering for the mutually commuting operators, some computed eigenvalues of m14\n",
    "#  are not integers (mirror symmetry is involution, so eigenvalues=+/-1). This is similar to the bug here:\n",
    "#  https://github.com/qutip/qutip/issues/756\n",
    "#  It's a closed issue but the fix apparently still fails in our case.\n",
    "#  The follow ordering works (cyclic shift of S2 to the last term).\n",
    "# eigEsym, eigVsym = simdiag([Qobj(SzM), Qobj(HM), Qobj(m14M), Qobj(S2M)])\n",
    "#good quantum numbers are all integers here (except for eigen-energies), so round off numerical noise\n",
    "eigEsym = eigEsym.round(12).T\n",
    "print(eigEsym.round(3))\n",
    "#print(np.hstack([np.arange(2**Lsite).reshape((-1,1)), eigEsym]).round(3))"
   ]
  },
  {
   "cell_type": "code",
   "execution_count": 10,
   "id": "6e27b25d",
   "metadata": {},
   "outputs": [
    {
     "name": "stdout",
     "output_type": "stream",
     "text": [
      "0, 0, 0, 0, 0, 0\n",
      "   En     s(s+1)  sz     m14\n",
      "-11.21     0.0    0.0    1.0\n",
      " -8.47     2.0   -1.0    1.0\n",
      " -8.47     2.0    0.0    1.0\n",
      " -8.47     2.0    1.0    1.0\n",
      " -6.00     0.0    0.0   -1.0\n",
      " -5.12     2.0   -1.0   -1.0\n",
      " -5.12     2.0   -1.0    1.0\n",
      " -5.12     2.0    0.0   -1.0\n",
      " -5.12     2.0    0.0    1.0\n",
      " -5.12     2.0    1.0   -1.0\n",
      " -5.12     2.0    1.0    1.0\n",
      " -4.00     2.0   -1.0   -1.0\n",
      " -4.00     2.0   -1.0    1.0\n",
      " -4.00     2.0    0.0   -1.0\n",
      " -4.00     2.0    0.0    1.0\n",
      " -4.00     2.0    1.0   -1.0\n",
      " -4.00     2.0    1.0    1.0\n",
      " -2.00     0.0    0.0   -1.0\n",
      " -2.00     0.0    0.0    1.0\n",
      " -2.00     6.0   -2.0    1.0\n",
      " -2.00     6.0   -1.0    1.0\n",
      " -2.00     6.0    0.0    1.0\n",
      " -2.00     6.0    1.0    1.0\n",
      " -2.00     6.0    2.0    1.0\n",
      "  0.00     6.0   -2.0   -1.0\n",
      "  0.00     6.0   -2.0    1.0\n",
      " -0.00     6.0   -1.0   -1.0\n",
      "  0.00     6.0   -1.0    1.0\n",
      " -0.00     6.0    0.0   -1.0\n",
      " -0.00     6.0    0.0    1.0\n",
      "  0.00     6.0    1.0   -1.0\n",
      "  0.00     6.0    1.0    1.0\n",
      " -0.00     6.0    2.0   -1.0\n",
      "  0.00     6.0    2.0    1.0\n",
      "  0.47     2.0   -1.0    1.0\n",
      "  0.47     2.0    0.0    1.0\n",
      "  0.47     2.0    1.0    1.0\n",
      "  2.00     2.0   -1.0   -1.0\n",
      "  2.00     2.0    0.0   -1.0\n",
      "  2.00     2.0    1.0   -1.0\n",
      "  3.12     2.0   -1.0   -1.0\n",
      "  3.12     2.0   -1.0    1.0\n",
      "  3.12     2.0    0.0   -1.0\n",
      "  3.12     2.0    0.0    1.0\n",
      "  3.12     2.0    1.0   -1.0\n",
      "  3.12     2.0    1.0    1.0\n",
      "  3.21    -0.0    0.0    1.0\n",
      "  4.00     6.0   -2.0   -1.0\n",
      "  4.00     6.0   -2.0    1.0\n",
      "  4.00     6.0   -1.0   -1.0\n",
      "  4.00     6.0   -1.0    1.0\n",
      "  4.00     6.0    0.0   -1.0\n",
      "  4.00     6.0    0.0    1.0\n",
      "  4.00     6.0    1.0   -1.0\n",
      "  4.00     6.0    1.0    1.0\n",
      "  4.00     6.0    2.0   -1.0\n",
      "  4.00     6.0    2.0    1.0\n",
      "  6.00    12.0   -3.0    1.0\n",
      "  6.00    12.0   -2.0    1.0\n",
      "  6.00    12.0   -1.0    1.0\n",
      "  6.00    12.0    0.0    1.0\n",
      "  6.00    12.0    1.0    1.0\n",
      "  6.00    12.0    2.0    1.0\n",
      "  6.00    12.0    3.0    1.0\n"
     ]
    }
   ],
   "source": [
    "eigEsym = eigEsym[:,[1,3,0,2]]  #re-arrange order: En, S2, Sz, m14\n",
    "#idx = np.argsort(eigEsym[:,0])\n",
    "idx = np.lexsort((eigEsym[:,3],eigEsym[:,2],eigEsym[:,1],eigEsym[:,0])) #sort by En, then S2, then Sz, then m14\n",
    "# idx = np.lexsort((eigEsym[:,3],eigEsym[:,0],eigEsym[:,2],eigEsym[:,1])) #sort (S2,Sz) first\n",
    "eigEsym = eigEsym[idx,:]\n",
    "eigVsym = [eigVsym[ii] for ii in idx]\n",
    "#print(eigEsym.round(3))\n",
    "\n",
    "#eigenvectors here should be real (imaginary parts are numerical noise); and transpose (.T) to column-vector notation\n",
    "#eigVsym = np.hstack([vobj.data_as() for vobj in eigVsym]).real #np.array(eigVsym)[:,:,0].T.real ##QuTiP old version\n",
    "print('   En     s(s+1)  sz     m14')\n",
    "for ii in range(2**Lsite):\n",
    "    print('{:6.2f}    {:4.1f}   {:4.1f}   {:4.1f}'.format(*eigEsym[ii,:]))"
   ]
  },
  {
   "cell_type": "code",
   "execution_count": null,
   "id": "e33588e3",
   "metadata": {},
   "outputs": [],
   "source": [
    "E_eigvals_Luke = \\\n",
    "np.array([-11.21110255,  -8.47213595,  -8.47213595,  -8.47213595,\n",
    "        -6.        ,  -5.12310563,  -5.12310563,  -5.12310563,\n",
    "        -5.12310563,  -5.12310563,  -5.12310563,  -4.        ,\n",
    "        -4.        ,  -4.        ,  -4.        ,  -4.        ,\n",
    "        -4.        ,  -2.        ,  -2.        ,  -2.        ,\n",
    "        -2.        ,  -2.        ,  -2.        ,  -2.        ,\n",
    "         0.        ,   0.        ,   0.        ,   0.        ,\n",
    "         0.        ,   0.        ,   0.        ,   0.        ,\n",
    "         0.        ,   0.        ,   0.47213595,   0.47213595,\n",
    "         0.47213595,   2.        ,   2.        ,   2.        ,\n",
    "         3.12310563,   3.12310563,   3.12310563,   3.12310563,\n",
    "         3.12310563,   3.12310563,   3.21110255,   4.        ,\n",
    "         4.        ,   4.        ,   4.        ,   4.        ,\n",
    "         4.        ,   4.        ,   4.        ,   4.        ,\n",
    "         4.        ,   6.        ,   6.        ,   6.        ,\n",
    "         6.        ,   6.        ,   6.        ,   6.])\n",
    "\n",
    "E_eigvals_Yan = eigEsym[:, 0]\n",
    "np.allclose(E_eigvals_Luke, E_eigvals_Yan, rtol = 0, atol = 1e-8)"
   ]
  },
  {
   "cell_type": "code",
   "execution_count": null,
   "id": "7ac5d1ef",
   "metadata": {},
   "outputs": [],
   "source": [
    "s_Luke = \\\n",
    "np.array([0.,  2.,  2.,  2.,  0.,  2.,  2.,  2.,  2.,  2.,  2.,  2.,  2.,\n",
    "          2.,  2.,  2.,  2.,  0.,  0.,  6.,  6.,  6.,  6.,  6.,  6.,  6.,\n",
    "          6.,  6.,  6.,  6.,  6.,  6.,  6.,  6.,  2.,  2.,  2.,  2.,  2.,\n",
    "          2.,  2.,  2.,  2.,  2.,  2.,  2.,  0.,  6.,  6.,  6.,  6.,  6.,\n",
    "          6.,  6.,  6.,  6.,  6., 12., 12., 12., 12., 12., 12., 12])\n",
    "\n",
    "s_Yan = eigEsym[:, 1]\n",
    "\n",
    "np.all(s_Luke == s_Yan)"
   ]
  },
  {
   "cell_type": "code",
   "execution_count": null,
   "id": "7c9b2239",
   "metadata": {},
   "outputs": [],
   "source": [
    "sz_eigvals_Yan = eigEsym[:, 2]\n",
    "\n",
    "sz_eigvals_Luke = \\\n",
    "np.array([ 0., -1.,  0.,  1.,  0., -1., -1.,  0.,  0.,  1.,  1., -1., -1.,\n",
    "        0.,  0.,  1.,  1.,  0.,  0., -2., -1.,  0.,  1.,  2., -2., -2.,\n",
    "       -1., -1.,  0.,  0.,  1.,  1.,  2.,  2., -1.,  0.,  1., -1.,  0.,\n",
    "        1., -1., -1.,  0.,  0.,  1.,  1.,  0., -2., -2., -1., -1.,  0.,\n",
    "        0.,  1.,  1.,  2.,  2., -3., -2., -1.,  0.,  1.,  2.,  3.])\n",
    "\n",
    "np.all(sz_eigvals_Luke == sz_eigvals_Yan)"
   ]
  },
  {
   "cell_type": "code",
   "execution_count": null,
   "id": "9d582e4f",
   "metadata": {},
   "outputs": [],
   "source": [
    "σ36_eigvals_Luke = \\\n",
    "np.array([ 1.,  1.,  1.,  1., -1., -1.,  1., -1.,  1., -1.,  1., -1.,  1.,\n",
    "       -1.,  1., -1.,  1., -1.,  1.,  1.,  1.,  1.,  1.,  1., -1.,  1.,\n",
    "       -1.,  1., -1.,  1., -1.,  1., -1.,  1.,  1.,  1.,  1., -1., -1.,\n",
    "       -1., -1.,  1., -1.,  1., -1.,  1.,  1., -1.,  1., -1.,  1., -1.,\n",
    "        1., -1.,  1., -1.,  1.,  1.,  1.,  1.,  1.,  1.,  1.,  1.])\n",
    "\n",
    "σ36_eigvals_Yan = eigEsym[:, 3]\n",
    "\n",
    "np.all(σ36_eigvals_Luke == σ36_eigvals_Yan)"
   ]
  },
  {
   "cell_type": "code",
   "execution_count": null,
   "id": "a067b246",
   "metadata": {},
   "outputs": [],
   "source": []
  },
  {
   "cell_type": "code",
   "execution_count": null,
   "id": "b2bdfbb9",
   "metadata": {},
   "outputs": [],
   "source": []
  }
 ],
 "metadata": {
  "kernelspec": {
   "display_name": "Python 3 (ipykernel)",
   "language": "python",
   "name": "python3"
  },
  "language_info": {
   "codemirror_mode": {
    "name": "ipython",
    "version": 3
   },
   "file_extension": ".py",
   "mimetype": "text/x-python",
   "name": "python",
   "nbconvert_exporter": "python",
   "pygments_lexer": "ipython3",
   "version": "3.11.7"
  },
  "toc": {
   "base_numbering": 1,
   "nav_menu": {},
   "number_sections": false,
   "sideBar": true,
   "skip_h1_title": false,
   "title_cell": "Table of Contents",
   "title_sidebar": "Contents",
   "toc_cell": false,
   "toc_position": {},
   "toc_section_display": true,
   "toc_window_display": false
  }
 },
 "nbformat": 4,
 "nbformat_minor": 5
}
