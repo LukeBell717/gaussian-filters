{
 "cells": [
  {
   "cell_type": "code",
   "execution_count": 37,
   "id": "3305b9a5",
   "metadata": {},
   "outputs": [],
   "source": [
    "import os\n",
    "import sys\n",
    "from sympy import symbols, series, exp, log, Matrix\n",
    "\n",
    "# locate directory containing scripts \n",
    "current_directory = os.getcwd() \n",
    "src_directory = os.path.dirname(current_directory) + '/src'\n",
    "sys.path.append(src_directory)\n",
    "\n",
    "# import custom module\n",
    "import spin_chain"
   ]
  },
  {
   "cell_type": "code",
   "execution_count": 2,
   "id": "d1f02032",
   "metadata": {},
   "outputs": [],
   "source": [
    "# specify parameters for spin chain (number of sites, coupling constants, \n",
    "# periodic or nonperiodic boundary conditions,  and tolerance \n",
    "# with which to determine orthonormality of eigenstates\n",
    "N = 4\n",
    "Jx = 1\n",
    "Jy = 1\n",
    "Jz = 1\n",
    "periodic_bc = True\n",
    "tolerance4 = 1e-12\n",
    "\n",
    "# collect properties of spin chain\n",
    "H4, H4_list, eigenstates4, eigenvalues4, E_0, ρ_ground_state4 = \\\n",
    "    spin_chain.properties(N, Jx, Jy, Jz, periodic_bc, tolerance4)"
   ]
  },
  {
   "cell_type": "code",
   "execution_count": 39,
   "id": "c034a55f",
   "metadata": {},
   "outputs": [],
   "source": [
    "# define local Hamiltonians\n",
    "A = Matrix(H4_list[0])\n",
    "B = Matrix(H4_list[1])\n",
    "C = Matrix(H4_list[2])\n",
    "D = Matrix(H4_list[3])"
   ]
  },
  {
   "cell_type": "markdown",
   "id": "ec1d2699",
   "metadata": {},
   "source": [
    "$$ \\Large \\begin{align} \\text{GSP}(\\alpha, \\lambda, E_\\text{s})\n",
    "= e^{-2i\\alpha (\\hat{p}_2 + \\hat{p}_3)D}\n",
    "  e^{-2i\\alpha (\\hat{p}_4 + \\hat{p}_1)B}\n",
    "  e^{-2i\\alpha (\\hat{p}_1 + \\hat{p}_2)C}\n",
    "  e^{-2i\\alpha (\\hat{p}_3 + \\hat{p}_4)A} \\\\ \n",
    "  e^{-2i\\alpha (\\hat{p}_4 + \\hat{p}_1)D}\n",
    "  e^{-2i\\alpha (\\hat{p}_2 + \\hat{p}_3)B}\n",
    "  e^{-2i\\alpha (\\hat{p}_3 + \\hat{p}_4)C}\n",
    "  e^{-2i\\alpha (\\hat{p}_1 + \\hat{p}_2)A}\n",
    "  \\end{align}\n",
    "$$"
   ]
  },
  {
   "cell_type": "code",
   "execution_count": 7,
   "id": "11f26eb5",
   "metadata": {},
   "outputs": [],
   "source": [
    "# define symbols\n",
    "H = symbols('A C B D', commutative=False)\n",
    "p = symbols('p_1 p_2 p_3 p_4', real=True)\n",
    "β = symbols('β') #β=-2iα\n",
    "q = symbols('q_1 q_2 q_3', real=True)"
   ]
  },
  {
   "cell_type": "code",
   "execution_count": 9,
   "id": "d2c8d28f",
   "metadata": {},
   "outputs": [
    {
     "data": {
      "text/latex": [
       "$\\displaystyle e^{β \\left(p_{2} + p_{3}\\right) D} e^{β \\left(p_{1} + p_{4}\\right) B} e^{β \\left(p_{1} + p_{2}\\right) C} e^{β \\left(p_{3} + p_{4}\\right) A} e^{β \\left(p_{1} + p_{4}\\right) D} e^{β \\left(p_{2} + p_{3}\\right) B} e^{β \\left(p_{3} + p_{4}\\right) C} e^{β \\left(p_{1} + p_{2}\\right) A}$"
      ],
      "text/plain": [
       "exp(β*(p_2 + p_3)*D)*exp(β*(p_1 + p_4)*B)*exp(β*(p_1 + p_2)*C)*exp(β*(p_3 + p_4)*A)*exp(β*(p_1 + p_4)*D)*exp(β*(p_2 + p_3)*B)*exp(β*(p_3 + p_4)*C)*exp(β*(p_1 + p_2)*A)"
      ]
     },
     "metadata": {},
     "output_type": "display_data"
    },
    {
     "data": {
      "text/latex": [
       "$\\displaystyle e^{q_{3} β D} e^{β \\left(q_{1} + q_{2} - q_{3}\\right) B} e^{q_{1} β C} e^{q_{2} β A} e^{β \\left(q_{1} + q_{2} - q_{3}\\right) D} e^{q_{3} β B} e^{q_{2} β C} e^{q_{1} β A}$"
      ],
      "text/plain": [
       "exp(q_3*β*D)*exp(β*(q_1 + q_2 - q_3)*B)*exp(q_1*β*C)*exp(q_2*β*A)*exp(β*(q_1 + q_2 - q_3)*D)*exp(q_3*β*B)*exp(q_2*β*C)*exp(q_1*β*A)"
      ]
     },
     "metadata": {},
     "output_type": "display_data"
    }
   ],
   "source": [
    "# list of indices corresponding to indices of quomdes in GSP\n",
    "idx = [[(1,2), (3,4), (2,3), (4,1)],\n",
    "       [(3,4), (1,2), (4,1), (2,3)]]\n",
    "\n",
    "# construct GSP\n",
    "GSP = 1\n",
    "for n in range(2):\n",
    "    for m,h in enumerate(H):\n",
    "        #print(n,m)\n",
    "        GSP = exp(β*(p[idx[n][m][0]-1]+p[idx[n][m][1]-1])*h)*GSP\n",
    "display(GSP)\n",
    "GSP = GSP.subs([(p[0]+p[1],q[0]),(p[2]+p[3],q[1]),(p[1]+p[2],q[2]),(p[0]+p[3],q[0]+q[1]-q[2])])\n",
    "display(GSP)"
   ]
  },
  {
   "cell_type": "code",
   "execution_count": 14,
   "id": "12f55e30",
   "metadata": {},
   "outputs": [
    {
     "data": {
      "text/latex": [
       "$\\displaystyle 1 + β \\left(q_{1} A + q_{1} B + q_{1} C + q_{1} D + q_{2} A + q_{2} B + q_{2} C + q_{2} D\\right) + O\\left(β^{2}\\right)$"
      ],
      "text/plain": [
       "1 + β*(q_1*A + q_1*B + q_1*C + q_1*D + q_2*A + q_2*B + q_2*C + q_2*D) + O(β**2)"
      ]
     },
     "execution_count": 14,
     "metadata": {},
     "output_type": "execute_result"
    }
   ],
   "source": [
    "GSP_1 = series(GSP, x=β, n=2)\n",
    "GSP_1"
   ]
  },
  {
   "cell_type": "code",
   "execution_count": 15,
   "id": "1ba35374",
   "metadata": {},
   "outputs": [
    {
     "data": {
      "text/latex": [
       "$\\displaystyle 1 + β \\left(q_{1} A + q_{1} B + q_{1} C + q_{1} D + q_{2} A + q_{2} B + q_{2} C + q_{2} D\\right) + β^{2} \\left(\\frac{q_{1}^{2} A^{2}}{2} + q_{1}^{2} B A + q_{1}^{2} B C + q_{1}^{2} B D + \\frac{q_{1}^{2} B^{2}}{2} + q_{1}^{2} C A + q_{1}^{2} C D + \\frac{q_{1}^{2} C^{2}}{2} + q_{1}^{2} D A + \\frac{q_{1}^{2} D^{2}}{2} + q_{1} q_{2} A D + q_{1} q_{2} A^{2} + 2 q_{1} q_{2} B A + 2 q_{1} q_{2} B C + 2 q_{1} q_{2} B D + q_{1} q_{2} B^{2} + 2 q_{1} q_{2} C A + q_{1} q_{2} C D + q_{1} q_{2} C^{2} + q_{1} q_{2} D A + q_{1} q_{2} D C + q_{1} q_{2} D^{2} - q_{1} q_{3} B C - 2 q_{1} q_{3} B D + q_{1} q_{3} C B - q_{1} q_{3} C D + 2 q_{1} q_{3} D B + q_{1} q_{3} D C + q_{2}^{2} A C + q_{2}^{2} A D + \\frac{q_{2}^{2} A^{2}}{2} + q_{2}^{2} B A + q_{2}^{2} B C + q_{2}^{2} B D + \\frac{q_{2}^{2} B^{2}}{2} + \\frac{q_{2}^{2} C^{2}}{2} + q_{2}^{2} D C + \\frac{q_{2}^{2} D^{2}}{2} + q_{2} q_{3} A B - q_{2} q_{3} A D - q_{2} q_{3} B A - 2 q_{2} q_{3} B D + q_{2} q_{3} D A + 2 q_{2} q_{3} D B + q_{3}^{2} B D - q_{3}^{2} D B\\right) + O\\left(β^{3}\\right)$"
      ],
      "text/plain": [
       "1 + β*(q_1*A + q_1*B + q_1*C + q_1*D + q_2*A + q_2*B + q_2*C + q_2*D) + β**2*(q_1**2*A**2/2 + q_1**2*B*A + q_1**2*B*C + q_1**2*B*D + q_1**2*B**2/2 + q_1**2*C*A + q_1**2*C*D + q_1**2*C**2/2 + q_1**2*D*A + q_1**2*D**2/2 + q_1*q_2*A*D + q_1*q_2*A**2 + 2*q_1*q_2*B*A + 2*q_1*q_2*B*C + 2*q_1*q_2*B*D + q_1*q_2*B**2 + 2*q_1*q_2*C*A + q_1*q_2*C*D + q_1*q_2*C**2 + q_1*q_2*D*A + q_1*q_2*D*C + q_1*q_2*D**2 - q_1*q_3*B*C - 2*q_1*q_3*B*D + q_1*q_3*C*B - q_1*q_3*C*D + 2*q_1*q_3*D*B + q_1*q_3*D*C + q_2**2*A*C + q_2**2*A*D + q_2**2*A**2/2 + q_2**2*B*A + q_2**2*B*C + q_2**2*B*D + q_2**2*B**2/2 + q_2**2*C**2/2 + q_2**2*D*C + q_2**2*D**2/2 + q_2*q_3*A*B - q_2*q_3*A*D - q_2*q_3*B*A - 2*q_2*q_3*B*D + q_2*q_3*D*A + 2*q_2*q_3*D*B + q_3**2*B*D - q_3**2*D*B) + O(β**3)"
      ]
     },
     "execution_count": 15,
     "metadata": {},
     "output_type": "execute_result"
    }
   ],
   "source": [
    "GSP_2 = series(GSP, x=β, n=3)\n",
    "GSP_2"
   ]
  },
  {
   "cell_type": "code",
   "execution_count": 19,
   "id": "771b9961",
   "metadata": {},
   "outputs": [
    {
     "data": {
      "text/latex": [
       "$\\displaystyle β \\left(q_{1} A + q_{1} B + q_{1} C + q_{1} D + q_{2} A + q_{2} B + q_{2} C + q_{2} D\\right) + O\\left(β^{2}\\right)$"
      ],
      "text/plain": [
       "β*(q_1*A + q_1*B + q_1*C + q_1*D + q_2*A + q_2*B + q_2*C + q_2*D) + O(β**2)"
      ]
     },
     "execution_count": 19,
     "metadata": {},
     "output_type": "execute_result"
    }
   ],
   "source": [
    "gen_1 = series(log(GSP), x=β, n=2)\n",
    "gen_1"
   ]
  },
  {
   "cell_type": "code",
   "execution_count": 21,
   "id": "2056db20",
   "metadata": {},
   "outputs": [
    {
     "data": {
      "text/latex": [
       "$\\displaystyle β \\left(q_{1} A + q_{1} B + q_{1} C + q_{1} D + q_{2} A + q_{2} B + q_{2} C + q_{2} D\\right) + β^{2} \\left(\\frac{q_{1}^{2} A^{2}}{2} + q_{1}^{2} B A + q_{1}^{2} B C + q_{1}^{2} B D + \\frac{q_{1}^{2} B^{2}}{2} + q_{1}^{2} C A + q_{1}^{2} C D + \\frac{q_{1}^{2} C^{2}}{2} + q_{1}^{2} D A + \\frac{q_{1}^{2} D^{2}}{2} + q_{1} q_{2} A D + q_{1} q_{2} A^{2} + 2 q_{1} q_{2} B A + 2 q_{1} q_{2} B C + 2 q_{1} q_{2} B D + q_{1} q_{2} B^{2} + 2 q_{1} q_{2} C A + q_{1} q_{2} C D + q_{1} q_{2} C^{2} + q_{1} q_{2} D A + q_{1} q_{2} D C + q_{1} q_{2} D^{2} - q_{1} q_{3} B C - 2 q_{1} q_{3} B D + q_{1} q_{3} C B - q_{1} q_{3} C D + 2 q_{1} q_{3} D B + q_{1} q_{3} D C + q_{2}^{2} A C + q_{2}^{2} A D + \\frac{q_{2}^{2} A^{2}}{2} + q_{2}^{2} B A + q_{2}^{2} B C + q_{2}^{2} B D + \\frac{q_{2}^{2} B^{2}}{2} + \\frac{q_{2}^{2} C^{2}}{2} + q_{2}^{2} D C + \\frac{q_{2}^{2} D^{2}}{2} + q_{2} q_{3} A B - q_{2} q_{3} A D - q_{2} q_{3} B A - 2 q_{2} q_{3} B D + q_{2} q_{3} D A + 2 q_{2} q_{3} D B + q_{3}^{2} B D - q_{3}^{2} D B - \\frac{\\left(q_{1} A + q_{1} B + q_{1} C + q_{1} D + q_{2} A + q_{2} B + q_{2} C + q_{2} D\\right)^{2}}{2}\\right) + O\\left(β^{3}\\right)$"
      ],
      "text/plain": [
       "β*(q_1*A + q_1*B + q_1*C + q_1*D + q_2*A + q_2*B + q_2*C + q_2*D) + β**2*(q_1**2*A**2/2 + q_1**2*B*A + q_1**2*B*C + q_1**2*B*D + q_1**2*B**2/2 + q_1**2*C*A + q_1**2*C*D + q_1**2*C**2/2 + q_1**2*D*A + q_1**2*D**2/2 + q_1*q_2*A*D + q_1*q_2*A**2 + 2*q_1*q_2*B*A + 2*q_1*q_2*B*C + 2*q_1*q_2*B*D + q_1*q_2*B**2 + 2*q_1*q_2*C*A + q_1*q_2*C*D + q_1*q_2*C**2 + q_1*q_2*D*A + q_1*q_2*D*C + q_1*q_2*D**2 - q_1*q_3*B*C - 2*q_1*q_3*B*D + q_1*q_3*C*B - q_1*q_3*C*D + 2*q_1*q_3*D*B + q_1*q_3*D*C + q_2**2*A*C + q_2**2*A*D + q_2**2*A**2/2 + q_2**2*B*A + q_2**2*B*C + q_2**2*B*D + q_2**2*B**2/2 + q_2**2*C**2/2 + q_2**2*D*C + q_2**2*D**2/2 + q_2*q_3*A*B - q_2*q_3*A*D - q_2*q_3*B*A - 2*q_2*q_3*B*D + q_2*q_3*D*A + 2*q_2*q_3*D*B + q_3**2*B*D - q_3**2*D*B - (q_1*A + q_1*B + q_1*C + q_1*D + q_2*A + q_2*B + q_2*C + q_2*D)**2/2) + O(β**3)"
      ]
     },
     "execution_count": 21,
     "metadata": {},
     "output_type": "execute_result"
    }
   ],
   "source": [
    "gen_2 = series(log(GSP), x=β, n=3)\n",
    "gen_2"
   ]
  },
  {
   "cell_type": "code",
   "execution_count": null,
   "id": "460b0338",
   "metadata": {},
   "outputs": [],
   "source": []
  },
  {
   "cell_type": "code",
   "execution_count": null,
   "id": "62514ecb",
   "metadata": {},
   "outputs": [],
   "source": []
  },
  {
   "cell_type": "code",
   "execution_count": null,
   "id": "604af063",
   "metadata": {},
   "outputs": [],
   "source": []
  },
  {
   "cell_type": "code",
   "execution_count": null,
   "id": "3003c65c",
   "metadata": {},
   "outputs": [],
   "source": []
  },
  {
   "cell_type": "code",
   "execution_count": 48,
   "id": "5ee4b62b",
   "metadata": {},
   "outputs": [],
   "source": [
    "import numpy as np"
   ]
  },
  {
   "cell_type": "code",
   "execution_count": 57,
   "id": "19ff6f88",
   "metadata": {},
   "outputs": [
    {
     "data": {
      "text/latex": [
       "$\\displaystyle \\left[\\begin{array}{cccccccccccccccc}β \\left(4.0 q_{1} + 4.0 q_{2}\\right) & 0 & 0 & 0 & 0 & 0 & 0 & 0 & 0 & 0 & 0 & 0 & 0 & 0 & 0 & 0\\\\0 & 0 & β \\left(2.0 q_{1} + 2.0 q_{2}\\right) & 0 & 0 & 0 & 0 & 0 & β \\left(2.0 q_{1} + 2.0 q_{2}\\right) & 0 & 0 & 0 & 0 & 0 & 0 & 0\\\\0 & β \\left(2.0 q_{1} + 2.0 q_{2}\\right) & 0 & 0 & β \\left(2.0 q_{1} + 2.0 q_{2}\\right) & 0 & 0 & 0 & 0 & 0 & 0 & 0 & 0 & 0 & 0 & 0\\\\0 & 0 & 0 & 0 & 0 & β \\left(2.0 q_{1} + 2.0 q_{2}\\right) & 0 & 0 & 0 & 0 & β \\left(2.0 q_{1} + 2.0 q_{2}\\right) & 0 & 0 & 0 & 0 & 0\\\\0 & 0 & β \\left(2.0 q_{1} + 2.0 q_{2}\\right) & 0 & 0 & 0 & 0 & 0 & β \\left(2.0 q_{1} + 2.0 q_{2}\\right) & 0 & 0 & 0 & 0 & 0 & 0 & 0\\\\0 & 0 & 0 & β \\left(2.0 q_{1} + 2.0 q_{2}\\right) & 0 & β \\left(- 4.0 q_{1} - 4.0 q_{2}\\right) & β \\left(2.0 q_{1} + 2.0 q_{2}\\right) & 0 & 0 & β \\left(2.0 q_{1} + 2.0 q_{2}\\right) & 0 & 0 & β \\left(2.0 q_{1} + 2.0 q_{2}\\right) & 0 & 0 & 0\\\\0 & 0 & 0 & 0 & 0 & β \\left(2.0 q_{1} + 2.0 q_{2}\\right) & 0 & 0 & 0 & 0 & β \\left(2.0 q_{1} + 2.0 q_{2}\\right) & 0 & 0 & 0 & 0 & 0\\\\0 & 0 & 0 & 0 & 0 & 0 & 0 & 0 & 0 & 0 & 0 & β \\left(2.0 q_{1} + 2.0 q_{2}\\right) & 0 & 0 & β \\left(2.0 q_{1} + 2.0 q_{2}\\right) & 0\\\\0 & β \\left(2.0 q_{1} + 2.0 q_{2}\\right) & 0 & 0 & β \\left(2.0 q_{1} + 2.0 q_{2}\\right) & 0 & 0 & 0 & 0 & 0 & 0 & 0 & 0 & 0 & 0 & 0\\\\0 & 0 & 0 & 0 & 0 & β \\left(2.0 q_{1} + 2.0 q_{2}\\right) & 0 & 0 & 0 & 0 & β \\left(2.0 q_{1} + 2.0 q_{2}\\right) & 0 & 0 & 0 & 0 & 0\\\\0 & 0 & 0 & β \\left(2.0 q_{1} + 2.0 q_{2}\\right) & 0 & 0 & β \\left(2.0 q_{1} + 2.0 q_{2}\\right) & 0 & 0 & β \\left(2.0 q_{1} + 2.0 q_{2}\\right) & β \\left(- 4.0 q_{1} - 4.0 q_{2}\\right) & 0 & β \\left(2.0 q_{1} + 2.0 q_{2}\\right) & 0 & 0 & 0\\\\0 & 0 & 0 & 0 & 0 & 0 & 0 & β \\left(2.0 q_{1} + 2.0 q_{2}\\right) & 0 & 0 & 0 & 0 & 0 & β \\left(2.0 q_{1} + 2.0 q_{2}\\right) & 0 & 0\\\\0 & 0 & 0 & 0 & 0 & β \\left(2.0 q_{1} + 2.0 q_{2}\\right) & 0 & 0 & 0 & 0 & β \\left(2.0 q_{1} + 2.0 q_{2}\\right) & 0 & 0 & 0 & 0 & 0\\\\0 & 0 & 0 & 0 & 0 & 0 & 0 & 0 & 0 & 0 & 0 & β \\left(2.0 q_{1} + 2.0 q_{2}\\right) & 0 & 0 & β \\left(2.0 q_{1} + 2.0 q_{2}\\right) & 0\\\\0 & 0 & 0 & 0 & 0 & 0 & 0 & β \\left(2.0 q_{1} + 2.0 q_{2}\\right) & 0 & 0 & 0 & 0 & 0 & β \\left(2.0 q_{1} + 2.0 q_{2}\\right) & 0 & 0\\\\0 & 0 & 0 & 0 & 0 & 0 & 0 & 0 & 0 & 0 & 0 & 0 & 0 & 0 & 0 & β \\left(4.0 q_{1} + 4.0 q_{2}\\right)\\end{array}\\right] + 1 + O\\left(β^{2}\\right)$"
      ],
      "text/plain": [
       "Matrix([\n",
       "[β*(4.0*q_1 + 4.0*q_2),                     0,                     0,                     0,                     0,                      0,                     0,                     0,                     0,                     0,                      0,                     0,                     0,                     0,                     0,                     0],\n",
       "[                    0,                     0, β*(2.0*q_1 + 2.0*q_2),                     0,                     0,                      0,                     0,                     0, β*(2.0*q_1 + 2.0*q_2),                     0,                      0,                     0,                     0,                     0,                     0,                     0],\n",
       "[                    0, β*(2.0*q_1 + 2.0*q_2),                     0,                     0, β*(2.0*q_1 + 2.0*q_2),                      0,                     0,                     0,                     0,                     0,                      0,                     0,                     0,                     0,                     0,                     0],\n",
       "[                    0,                     0,                     0,                     0,                     0,  β*(2.0*q_1 + 2.0*q_2),                     0,                     0,                     0,                     0,  β*(2.0*q_1 + 2.0*q_2),                     0,                     0,                     0,                     0,                     0],\n",
       "[                    0,                     0, β*(2.0*q_1 + 2.0*q_2),                     0,                     0,                      0,                     0,                     0, β*(2.0*q_1 + 2.0*q_2),                     0,                      0,                     0,                     0,                     0,                     0,                     0],\n",
       "[                    0,                     0,                     0, β*(2.0*q_1 + 2.0*q_2),                     0, β*(-4.0*q_1 - 4.0*q_2), β*(2.0*q_1 + 2.0*q_2),                     0,                     0, β*(2.0*q_1 + 2.0*q_2),                      0,                     0, β*(2.0*q_1 + 2.0*q_2),                     0,                     0,                     0],\n",
       "[                    0,                     0,                     0,                     0,                     0,  β*(2.0*q_1 + 2.0*q_2),                     0,                     0,                     0,                     0,  β*(2.0*q_1 + 2.0*q_2),                     0,                     0,                     0,                     0,                     0],\n",
       "[                    0,                     0,                     0,                     0,                     0,                      0,                     0,                     0,                     0,                     0,                      0, β*(2.0*q_1 + 2.0*q_2),                     0,                     0, β*(2.0*q_1 + 2.0*q_2),                     0],\n",
       "[                    0, β*(2.0*q_1 + 2.0*q_2),                     0,                     0, β*(2.0*q_1 + 2.0*q_2),                      0,                     0,                     0,                     0,                     0,                      0,                     0,                     0,                     0,                     0,                     0],\n",
       "[                    0,                     0,                     0,                     0,                     0,  β*(2.0*q_1 + 2.0*q_2),                     0,                     0,                     0,                     0,  β*(2.0*q_1 + 2.0*q_2),                     0,                     0,                     0,                     0,                     0],\n",
       "[                    0,                     0,                     0, β*(2.0*q_1 + 2.0*q_2),                     0,                      0, β*(2.0*q_1 + 2.0*q_2),                     0,                     0, β*(2.0*q_1 + 2.0*q_2), β*(-4.0*q_1 - 4.0*q_2),                     0, β*(2.0*q_1 + 2.0*q_2),                     0,                     0,                     0],\n",
       "[                    0,                     0,                     0,                     0,                     0,                      0,                     0, β*(2.0*q_1 + 2.0*q_2),                     0,                     0,                      0,                     0,                     0, β*(2.0*q_1 + 2.0*q_2),                     0,                     0],\n",
       "[                    0,                     0,                     0,                     0,                     0,  β*(2.0*q_1 + 2.0*q_2),                     0,                     0,                     0,                     0,  β*(2.0*q_1 + 2.0*q_2),                     0,                     0,                     0,                     0,                     0],\n",
       "[                    0,                     0,                     0,                     0,                     0,                      0,                     0,                     0,                     0,                     0,                      0, β*(2.0*q_1 + 2.0*q_2),                     0,                     0, β*(2.0*q_1 + 2.0*q_2),                     0],\n",
       "[                    0,                     0,                     0,                     0,                     0,                      0,                     0, β*(2.0*q_1 + 2.0*q_2),                     0,                     0,                      0,                     0,                     0, β*(2.0*q_1 + 2.0*q_2),                     0,                     0],\n",
       "[                    0,                     0,                     0,                     0,                     0,                      0,                     0,                     0,                     0,                     0,                      0,                     0,                     0,                     0,                     0, β*(4.0*q_1 + 4.0*q_2)]]) + 1 + O(β**2)"
      ]
     },
     "execution_count": 57,
     "metadata": {},
     "output_type": "execute_result"
    }
   ],
   "source": [
    "GSP_1.subs([(H[0], A), (H[1], C), (H[2], B), (H[3], D)])"
   ]
  },
  {
   "cell_type": "code",
   "execution_count": 34,
   "id": "a577ebe8",
   "metadata": {},
   "outputs": [],
   "source": [
    "from qutip import sigmax\n",
    "from sympy import Matrix"
   ]
  },
  {
   "cell_type": "code",
   "execution_count": 35,
   "id": "ef196aa5",
   "metadata": {},
   "outputs": [
    {
     "data": {
      "text/latex": [
       "$\\displaystyle \\left[\\begin{matrix}0 & 1.0\\\\1.0 & 0\\end{matrix}\\right]$"
      ],
      "text/plain": [
       "Matrix([\n",
       "[  0, 1.0],\n",
       "[1.0,   0]])"
      ]
     },
     "execution_count": 35,
     "metadata": {},
     "output_type": "execute_result"
    }
   ],
   "source": [
    "X = sigmax().full()\n",
    "Matrix(X)"
   ]
  },
  {
   "cell_type": "code",
   "execution_count": 40,
   "id": "6df091a1",
   "metadata": {},
   "outputs": [
    {
     "data": {
      "text/latex": [
       "$\\displaystyle \\left[\\begin{array}{cccccccccccccccc}1.0 & 0 & 0 & 0 & 0 & 0 & 0 & 0 & 0 & 0 & 0 & 0 & 0 & 0 & 0 & 0\\\\0 & 1.0 & 0 & 0 & 0 & 0 & 0 & 0 & 0 & 0 & 0 & 0 & 0 & 0 & 0 & 0\\\\0 & 0 & 1.0 & 0 & 0 & 0 & 0 & 0 & 0 & 0 & 0 & 0 & 0 & 0 & 0 & 0\\\\0 & 0 & 0 & 1.0 & 0 & 0 & 0 & 0 & 0 & 0 & 0 & 0 & 0 & 0 & 0 & 0\\\\0 & 0 & 0 & 0 & -1.0 & 0 & 0 & 0 & 2.0 & 0 & 0 & 0 & 0 & 0 & 0 & 0\\\\0 & 0 & 0 & 0 & 0 & -1.0 & 0 & 0 & 0 & 2.0 & 0 & 0 & 0 & 0 & 0 & 0\\\\0 & 0 & 0 & 0 & 0 & 0 & -1.0 & 0 & 0 & 0 & 2.0 & 0 & 0 & 0 & 0 & 0\\\\0 & 0 & 0 & 0 & 0 & 0 & 0 & -1.0 & 0 & 0 & 0 & 2.0 & 0 & 0 & 0 & 0\\\\0 & 0 & 0 & 0 & 2.0 & 0 & 0 & 0 & -1.0 & 0 & 0 & 0 & 0 & 0 & 0 & 0\\\\0 & 0 & 0 & 0 & 0 & 2.0 & 0 & 0 & 0 & -1.0 & 0 & 0 & 0 & 0 & 0 & 0\\\\0 & 0 & 0 & 0 & 0 & 0 & 2.0 & 0 & 0 & 0 & -1.0 & 0 & 0 & 0 & 0 & 0\\\\0 & 0 & 0 & 0 & 0 & 0 & 0 & 2.0 & 0 & 0 & 0 & -1.0 & 0 & 0 & 0 & 0\\\\0 & 0 & 0 & 0 & 0 & 0 & 0 & 0 & 0 & 0 & 0 & 0 & 1.0 & 0 & 0 & 0\\\\0 & 0 & 0 & 0 & 0 & 0 & 0 & 0 & 0 & 0 & 0 & 0 & 0 & 1.0 & 0 & 0\\\\0 & 0 & 0 & 0 & 0 & 0 & 0 & 0 & 0 & 0 & 0 & 0 & 0 & 0 & 1.0 & 0\\\\0 & 0 & 0 & 0 & 0 & 0 & 0 & 0 & 0 & 0 & 0 & 0 & 0 & 0 & 0 & 1.0\\end{array}\\right]$"
      ],
      "text/plain": [
       "Matrix([\n",
       "[1.0,   0,   0,   0,    0,    0,    0,    0,    0,    0,    0,    0,   0,   0,   0,   0],\n",
       "[  0, 1.0,   0,   0,    0,    0,    0,    0,    0,    0,    0,    0,   0,   0,   0,   0],\n",
       "[  0,   0, 1.0,   0,    0,    0,    0,    0,    0,    0,    0,    0,   0,   0,   0,   0],\n",
       "[  0,   0,   0, 1.0,    0,    0,    0,    0,    0,    0,    0,    0,   0,   0,   0,   0],\n",
       "[  0,   0,   0,   0, -1.0,    0,    0,    0,  2.0,    0,    0,    0,   0,   0,   0,   0],\n",
       "[  0,   0,   0,   0,    0, -1.0,    0,    0,    0,  2.0,    0,    0,   0,   0,   0,   0],\n",
       "[  0,   0,   0,   0,    0,    0, -1.0,    0,    0,    0,  2.0,    0,   0,   0,   0,   0],\n",
       "[  0,   0,   0,   0,    0,    0,    0, -1.0,    0,    0,    0,  2.0,   0,   0,   0,   0],\n",
       "[  0,   0,   0,   0,  2.0,    0,    0,    0, -1.0,    0,    0,    0,   0,   0,   0,   0],\n",
       "[  0,   0,   0,   0,    0,  2.0,    0,    0,    0, -1.0,    0,    0,   0,   0,   0,   0],\n",
       "[  0,   0,   0,   0,    0,    0,  2.0,    0,    0,    0, -1.0,    0,   0,   0,   0,   0],\n",
       "[  0,   0,   0,   0,    0,    0,    0,  2.0,    0,    0,    0, -1.0,   0,   0,   0,   0],\n",
       "[  0,   0,   0,   0,    0,    0,    0,    0,    0,    0,    0,    0, 1.0,   0,   0,   0],\n",
       "[  0,   0,   0,   0,    0,    0,    0,    0,    0,    0,    0,    0,   0, 1.0,   0,   0],\n",
       "[  0,   0,   0,   0,    0,    0,    0,    0,    0,    0,    0,    0,   0,   0, 1.0,   0],\n",
       "[  0,   0,   0,   0,    0,    0,    0,    0,    0,    0,    0,    0,   0,   0,   0, 1.0]])"
      ]
     },
     "execution_count": 40,
     "metadata": {},
     "output_type": "execute_result"
    }
   ],
   "source": [
    "A"
   ]
  },
  {
   "cell_type": "code",
   "execution_count": null,
   "id": "0517c01b",
   "metadata": {},
   "outputs": [],
   "source": []
  },
  {
   "cell_type": "code",
   "execution_count": null,
   "id": "4bb35f42",
   "metadata": {},
   "outputs": [],
   "source": []
  },
  {
   "cell_type": "code",
   "execution_count": null,
   "id": "817ee754",
   "metadata": {},
   "outputs": [],
   "source": []
  },
  {
   "cell_type": "code",
   "execution_count": null,
   "id": "511e5bc6",
   "metadata": {},
   "outputs": [],
   "source": []
  },
  {
   "cell_type": "code",
   "execution_count": null,
   "id": "e8e2da15",
   "metadata": {},
   "outputs": [],
   "source": []
  }
 ],
 "metadata": {
  "kernelspec": {
   "display_name": "Python 3 (ipykernel)",
   "language": "python",
   "name": "python3"
  },
  "language_info": {
   "codemirror_mode": {
    "name": "ipython",
    "version": 3
   },
   "file_extension": ".py",
   "mimetype": "text/x-python",
   "name": "python",
   "nbconvert_exporter": "python",
   "pygments_lexer": "ipython3",
   "version": "3.11.7"
  },
  "toc": {
   "base_numbering": 1,
   "nav_menu": {},
   "number_sections": true,
   "sideBar": true,
   "skip_h1_title": false,
   "title_cell": "Table of Contents",
   "title_sidebar": "Contents",
   "toc_cell": false,
   "toc_position": {},
   "toc_section_display": true,
   "toc_window_display": false
  }
 },
 "nbformat": 4,
 "nbformat_minor": 5
}
