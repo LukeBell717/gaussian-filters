{
 "cells": [
  {
   "cell_type": "code",
   "execution_count": 1,
   "id": "94157ace",
   "metadata": {},
   "outputs": [],
   "source": [
    "import numpy as np\n",
    "from itertools import product\n",
    "from qiskit.quantum_info import Statevector\n",
    "from qutip import sigmax, sigmay, sigmaz, qeye, tensor, qzero, Qobj, simdiag, about\n",
    "import qutip as qt\n",
    "from scipy.linalg import logm\n",
    "from sympy import Matrix\n",
    "\n",
    "from IPython.display import display\n",
    "import matplotlib as mpl\n",
    "from matplotlib import pyplot as plt\n",
    "%config InlineBackend.figure_format = 'retina'"
   ]
  },
  {
   "cell_type": "markdown",
   "id": "e0076077",
   "metadata": {},
   "source": [
    "# $\\text{Generate } \\text{VTA} $"
   ]
  },
  {
   "cell_type": "code",
   "execution_count": 2,
   "id": "b6c24ec0",
   "metadata": {
    "code_folding": [
     1,
     74,
     99
    ]
   },
   "outputs": [],
   "source": [
    "# functions necessary to generate VTA through SU(2) expansion \n",
    "def generate_SWAP_operators(N, Jx, Jy, Jz):\n",
    "    \n",
    "    '''\n",
    "    generate list of SWAP operators that needed to compute VTA \n",
    "    using the SU(2) expansion method\n",
    "    '''\n",
    "    \n",
    "    if N % 2 != 0: \n",
    "        raise ValueError(\"Please enter an even number of sites.\")\n",
    "        \n",
    "    # define zero and identity matrices corresponding to dimensions of VTA\n",
    "    zeros_N = qzero([2]*N)\n",
    "    I_N = qeye([2]*N)\n",
    "    \n",
    "    # define Pauli matrices and constants\n",
    "    σ_x = sigmax()\n",
    "    σ_y = sigmay()\n",
    "    σ_z = sigmaz()\n",
    "    \n",
    "    # Interaction coefficients, which we assume are uniform throughout the lattice\n",
    "    Jx_list = Jx*np.ones(N)\n",
    "    Jy_list = Jy*np.ones(N)\n",
    "    Jz_list = Jz*np.ones(N)\n",
    "\n",
    "    # Setup operators for individual qubits; \n",
    "    # here σ_x_list[j] = X_j, σ_y_list[j] = Y_j, and σ_z_list[j] = Z_j\n",
    "    # since the Pauli matrix occupies the jth location in the tensor product of N terms\n",
    "    # for which (N-1) terms are the identity\n",
    "    σ_x_list, σ_y_list, σ_z_list = [], [], []\n",
    "\n",
    "    for i in range(N):\n",
    "        op_list = [qeye(2)]*N\n",
    "        op_list[i] = σ_x\n",
    "        σ_x_list.append(tensor(op_list))\n",
    "        op_list[i] = σ_y\n",
    "        σ_y_list.append(tensor(op_list))\n",
    "        op_list[i] = σ_z\n",
    "        σ_z_list.append(tensor(op_list))\n",
    "\n",
    "    # define empty lists for + and - projection operators\n",
    "    π_list = []\n",
    "    \n",
    "    # collect list of all tuples corresponding to π_p and π_m \n",
    "    # SWAP operators\n",
    "    for k in range(N):\n",
    "\n",
    "        # find H_ij, the Hamiltonian between the ith and jth sites \n",
    "        H_kl = Jx_list[k] * σ_x_list[k] * σ_x_list[(k + 1) % N] + \\\n",
    "               Jy_list[k] * σ_y_list[k] * σ_y_list[(k + 1) % N] + \\\n",
    "               Jz_list[k] * σ_z_list[k] * σ_z_list[(k + 1) % N]\n",
    "        \n",
    "        # add π_p to π_m to π_p_list and π_m_list, respectively\n",
    "        π_p = (3 + H_kl)/4\n",
    "        π_m = (1 - H_kl)/4\n",
    "        π_list.append((π_p, π_m))\n",
    "    \n",
    "    # check to ensure projectors obey established summation and orthogonality relations\n",
    "    π_kl_bool_list = []\n",
    "    for π_kl in π_list: \n",
    "        π_kl_bool_list.append(π_kl[0] * π_kl[1] == zeros_N and \\\n",
    "                              π_kl[0] + π_kl[1] == I_N)\n",
    "\n",
    "    if all(π_kl_bool_list):\n",
    "#         display(Latex(r'$ \\pi^{+}_{kl} \\pi^{-}_{kl} = 0 \\text{ and } $'\n",
    "#                       r'$\\pi^{+}_{kl} + \\pi^{-}_{kl} = \\mathbb{1}$' \n",
    "#                      rf'$ \\ \\forall \\ k,l \\in \\{{1, \\dots, {N} \\}}$'))\n",
    "        return π_list\n",
    "    else: \n",
    "        display(Latex(r'$ \\pi^{+}_{kl} \\pi^{-}_{kl} \\neq 0 \\text{ of } $'\n",
    "                      r'$\\pi^{+}_{kl} + \\pi^{-}_{kl} \\neq \\mathbb{1}$' \n",
    "                     rf'$ \\ \\forall \\ k,l \\in \\{{1, \\dots, {N} \\}}$'))\n",
    "        raise ValueError(f'SWAP operators do not obey the desired summation and' + \\\n",
    "                          ' orthogonality conditions')\n",
    "def MPO(π_list, α, E_0, b7, b6, b5, b4, b3, b2, b1, b0):\n",
    "    \n",
    "    '''\n",
    "    generate matrix product operator corresponding to a unique α \n",
    "    and set of eight indices\n",
    "    '''\n",
    "    \n",
    "    # define projection operators where π_kl is a tuple \n",
    "    # such that π_kl[0] = π^{+}_{kl} and π_kl[1] = π^{-}_{kl}\n",
    "    π12 = π_list[0]\n",
    "    π23 = π_list[1]\n",
    "    π34 = π_list[2]\n",
    "    π41 = π_list[3]\n",
    "\n",
    "    # define constant q\n",
    "    q = 2 + E_0/2\n",
    "    \n",
    "    # return matrix product operator for a given α and set of indices\n",
    "    return np.exp((-2*α**2) * (\n",
    "           (q - 4 + 2*(b0 + b3 + b5 + b6))**2 + \\\n",
    "           (q - 4 + 2*(b0 + b2 + b5 + b7))**2 + \\\n",
    "           (q - 4 + 2*(b1 + b2 + b4 + b7))**2 + \\\n",
    "           (q - 4 + 2*(b1 + b3 + b4 + b6))**2)) * \\\n",
    "            π41[b7]*π23[b6]*π34[b5]*π12[b4] * \\\n",
    "            π41[b3]*π23[b2]*π34[b1]*π12[b0]\n",
    "def SU2_expansion(N, α_start, α_end, α_steps, Jx, Jy, Jz, E_0): \n",
    "    \n",
    "    '''\n",
    "    compute list of VTAs using an efficient, automated approach\n",
    "    '''\n",
    "    \n",
    "    # define array over which we will sweep α\n",
    "    α_array = np.linspace(α_start, α_end, α_steps)\n",
    "    \n",
    "    # collect list of SWAP operators\n",
    "    π_list = generate_SWAP_operators(N, Jx, Jy, Jz)\n",
    "\n",
    "    # generate all possible combinations of tuples \n",
    "    combination_tuples = list(product([0, 1], repeat=int(N*(N/2))))\n",
    "    \n",
    "    # return the sum of all VTA\n",
    "    return [sum(MPO(π_list, α, E_0, *combination) \\\n",
    "                for combination in combination_tuples) \\\n",
    "                for α in α_array]"
   ]
  },
  {
   "cell_type": "code",
   "execution_count": 3,
   "id": "7fb3dbb5",
   "metadata": {},
   "outputs": [],
   "source": [
    "N = 4\n",
    "α_start = 0\n",
    "α_end = 1\n",
    "α_steps = 101\n",
    "Jx = 1\n",
    "Jy = 1\n",
    "Jz = 1\n",
    "E_0 = -8\n",
    "\n",
    "# find VTA for α = 1\n",
    "VTA_list = SU2_expansion(N, α_start, α_end, α_steps, Jx, Jy, Jz, E_0)"
   ]
  },
  {
   "cell_type": "code",
   "execution_count": 4,
   "id": "5b687f85",
   "metadata": {},
   "outputs": [],
   "source": [
    "# generate array over which we swept α in SU2_expansion\n",
    "α_array = np.linspace(α_start, α_end, α_steps)"
   ]
  },
  {
   "cell_type": "markdown",
   "id": "05180025",
   "metadata": {},
   "source": [
    "# $\\text{Generate } \\mathcal{G} $"
   ]
  },
  {
   "cell_type": "code",
   "execution_count": 5,
   "id": "ea333538",
   "metadata": {
    "code_folding": [
     0
    ]
   },
   "outputs": [],
   "source": [
    "def spin_chain(N, Jx, Jy, Jz, periodic_bc):\n",
    "\n",
    "    \n",
    "    if N % 2 != 0: \n",
    "        raise ValueError(\"Please enter an even number of sites\")\n",
    "    \n",
    "    # define Pauli matrices and constants\n",
    "    σ_x = sigmax()\n",
    "    σ_y = sigmay()\n",
    "    σ_z = sigmaz()\n",
    "    π = np.pi\n",
    "\n",
    "    # Interaction coefficients, which we assume are uniform throughout the lattice\n",
    "    Jx_list = Jx*np.ones(N)\n",
    "    Jy_list = Jy*np.ones(N)\n",
    "    Jz_list = Jz*np.ones(N)\n",
    "\n",
    "    # Setup operators for individual qubits; \n",
    "    # here sx_list[j] = X_j, sy_list[j] = Y_j, and sz_list[j] = Z_j\n",
    "    # since the Pauli matrix occupies the jth location in the tensor product of N terms\n",
    "    # of which N-1 terms are the identity\n",
    "    sx_list, sy_list, sz_list = [], [], []\n",
    "\n",
    "    for i in range(N):\n",
    "        op_list = [qeye(2)]*N\n",
    "        op_list[i] = σ_x\n",
    "        sx_list.append(tensor(op_list))\n",
    "        op_list[i] = σ_y\n",
    "        sy_list.append(tensor(op_list))\n",
    "        op_list[i] = σ_z\n",
    "        sz_list.append(tensor(op_list))\n",
    "\n",
    "    # define variable for total Hamiltonian H_N and the list of all local \n",
    "    # Hamiltonians H_list\n",
    "    HN = 0 \n",
    "    H_list = []\n",
    "    \n",
    "    # collect \n",
    "    for j in range(N - 1):\n",
    "\n",
    "        # find H_ij, the Hamiltonian between the ith and jth sites \n",
    "        H_ij = Jx_list[j] * sx_list[j] * sx_list[j + 1] + \\\n",
    "               Jy_list[j] * sy_list[j] * sy_list[j + 1] + \\\n",
    "               Jz_list[j] * sz_list[j] * sz_list[j + 1]\n",
    "        \n",
    "        # add H_ij to H_N and append H_ij to H_list\n",
    "        HN += H_ij\n",
    "\n",
    "    # execute if periodic boundary conditions are specified\n",
    "    if periodic_bc: \n",
    "        \n",
    "        # find H_N1, the Hamiltonian between the Nth and first site\n",
    "        H_N1 = Jx_list[N-1] * sx_list[N - 1] * sx_list[0] + \\\n",
    "               Jy_list[N-1] * sy_list[N - 1] * sy_list[0] + \\\n",
    "               Jz_list[N-1] * sz_list[N - 1] * sz_list[0]\n",
    "\n",
    "        # add H_N1 to H_N and append H_N1 to H_list\n",
    "        HN += H_N1\n",
    "        \n",
    "    # compute ground state energy of HN\n",
    "    # E0 = HN.groundstate()[0]\n",
    "    \n",
    "    # compute HN eigenstates\n",
    "    eigenstates = HN.eigenstates()[1]\n",
    "    \n",
    "    # compute density matrix of groundstate\n",
    "    ρ_list = [eigvec*eigvec.dag() for eigvec in eigenstates]\n",
    "        \n",
    "    return eigenstates, ρ_list, HN, (sx_list, sy_list, sz_list)"
   ]
  },
  {
   "cell_type": "code",
   "execution_count": 6,
   "id": "362f9e5c",
   "metadata": {},
   "outputs": [],
   "source": [
    "# define a spin chain with four sites, equal coupling constants\n",
    "# and periodic boundary conditions\n",
    "N = 4\n",
    "Jx = 1\n",
    "Jy = 1\n",
    "Jz = 1\n",
    "periodic_bc = True\n",
    "\n",
    "eigvecs, ρ_list, HN, vS = spin_chain(N, Jx, Jy, Jz, periodic_bc)\n",
    "\n",
    "swap24 = 0.5*sum(vS[n][2-1]*vS[n][4-1] for n in [0,1,2]) + 0.5*qeye([2]*N)\n",
    "S2 = sum(sum(vS[n])**2 for n in [0,1,2])/4  #1/4 factor: pauli to spin\n",
    "Sz = sum(vS[2])/2\n",
    "eigEsym, eigVsym = simdiag([HN, S2, Sz, swap24])\n",
    "eigEsym = eigEsym.T\n",
    "\n",
    "eigvecs = eigVsym  #replace with symmetry eigenvecs\n",
    "ρ_list = [eigvec*eigvec.dag() for eigvec in eigvecs]"
   ]
  },
  {
   "cell_type": "code",
   "execution_count": 7,
   "id": "88cb165a",
   "metadata": {
    "scrolled": false
   },
   "outputs": [
    {
     "name": "stdout",
     "output_type": "stream",
     "text": [
      "0\n"
     ]
    },
    {
     "data": {
      "text/latex": [
       "$$- \\frac{\\sqrt{3}}{6} |0011\\rangle+\\frac{\\sqrt{3}}{3} |0101\\rangle- \\frac{\\sqrt{3}}{6} |0110\\rangle- \\frac{\\sqrt{3}}{6} |1001\\rangle+\\frac{\\sqrt{3}}{3} |1010\\rangle- \\frac{\\sqrt{3}}{6} |1100\\rangle$$"
      ],
      "text/plain": [
       "<IPython.core.display.Latex object>"
      ]
     },
     "metadata": {},
     "output_type": "display_data"
    },
    {
     "name": "stdout",
     "output_type": "stream",
     "text": [
      "1\n",
      "2\n",
      "3\n",
      "4\n"
     ]
    },
    {
     "data": {
      "text/latex": [
       "$$\\frac{1}{2} |0011\\rangle- \\frac{1}{2} |0110\\rangle- \\frac{1}{2} |1001\\rangle+\\frac{1}{2} |1100\\rangle$$"
      ],
      "text/plain": [
       "<IPython.core.display.Latex object>"
      ]
     },
     "metadata": {},
     "output_type": "display_data"
    },
    {
     "name": "stdout",
     "output_type": "stream",
     "text": [
      "5\n",
      "6\n",
      "7\n",
      "8\n",
      "9\n",
      "10\n",
      "11\n",
      "12\n",
      "13\n",
      "14\n",
      "15\n"
     ]
    }
   ],
   "source": [
    "eigVsym_fp = eigVsym.copy()  #new obj. to hold the fixed phase eigenvectors\n",
    "for ii in range(2**4):\n",
    "    print(ii)\n",
    "    if np.sqrt((eigEsym[ii,0]-(-8))**2 + (eigEsym[ii,1]-0)**2) < 1e-10:  #|λ0>: E=-8, s(s+1)=0\n",
    "        vec = eigVsym_fp[ii].data_as()\n",
    "        c0011 = vec[3] #int('0011',base=2)==3\n",
    "        eigVsym_fp[ii] *= -np.exp(-1j*np.angle(c0011))  #make c0011<0, see Eq. (513) in the notes\n",
    "        vec = eigVsym_fp[ii].data_as()\n",
    "        display(Statevector(vec).draw('latex'))\n",
    "    elif np.sqrt((eigEsym[ii,0]-0)**2 + (eigEsym[ii,1]-0)**2) < 1e-10:  #|λ1>: E=0, s(s+1)=0\n",
    "        vec = eigVsym_fp[ii].data_as()\n",
    "        c0011 = vec[3] #int('0011',base=2)==3\n",
    "        eigVsym_fp[ii] *= np.exp(-1j*np.angle(c0011)) #make c0011>0, see Eq. (514) in the notes\n",
    "        vec = eigVsym_fp[ii].data_as()\n",
    "        display(Statevector(vec).draw('latex'))        \n",
    "    else:\n",
    "        continue\n",
    "        #continue  #uncomment this line to skip the code below that fixes other phases (optional, because phases cancel in |E_k><E_k|)\n",
    "#         vec = eigVsym_fp[ii].data_as()\n",
    "#         c_idx = np.where(abs(vec)>1e-10)[0][0]  #first nonzero element\n",
    "#         c = vec[c_idx]\n",
    "#         eigVsym_fp[ii] *= np.exp(-1j*np.angle(c))\n",
    "#         vec = eigVsym_fp[ii].data_as()\n",
    "#         display(Statevector(vec).draw('latex'))\n",
    "        \n",
    "\n",
    "eigvecs = eigVsym_fp\n",
    "ρ_list = [eigvec*eigvec.dag() for eigvec in eigvecs]"
   ]
  },
  {
   "cell_type": "code",
   "execution_count": 8,
   "id": "faf36266",
   "metadata": {},
   "outputs": [],
   "source": [
    "# G(α, Es) basis functions\n",
    "e0 = lambda α, Es: np.exp(-2*(α**2)*((Es + 12)**2)) \n",
    "e1 = lambda α, Es: np.exp(-2*(α**2)*((Es + 8)**2)) \n",
    "e2 = lambda α, Es: np.exp(-2*(α**2)*((Es + 4)**2)) \n",
    "e3 = lambda α, Es: np.exp(-2*(α**2)*(Es**2)) \n",
    "e4 = lambda α, Es: np.exp(-2*(α**2)*((Es - 4)**2))\n",
    "e5 = lambda α, Es: np.exp(-2*(α**2)*((Es + 2)**2 + 4))\n",
    "e6 = lambda α, Es: np.exp(-2*(α**2)*((Es + 2)**2 + 20))\n",
    "e7 = lambda α, Es: np.exp(-2*(α**2)*(Es**2 + 8))\n",
    "e8 = lambda α, Es: np.exp(-2*(α**2)*((Es + 4)**2 + 16))\n",
    "e9 = lambda α, Es: np.exp(-2*(α**2)*(Es**2 + 16))\n",
    "e10= lambda α, Es: np.exp(-2*(α**2)*((Es + 4)**2 + 32))\n",
    "\n",
    "# G(α, Es) coefficients\n",
    "g00 = lambda α, Es: (3*e0(α, Es) + 24*e1(α, Es) \\\n",
    "                     + 6*e2(α, Es) - e4(α, Es))/32\n",
    "g44 = lambda α, Es: -(e0(α, Es) - 6*e2(α, Es) \\\n",
    "                      - 24*e3(α, Es) - 3*e4(α, Es))/32\n",
    "g04 = lambda α, Es: (np.sqrt(3)*(e0(α, Es) + 4*e1(α, Es) - \\\n",
    "                     10*e2(α, Es) + 4*e3(α, Es) + e4(α, Es)))/32\n",
    "g40 = lambda α, Es: - g04(α, Es)\n",
    "gt = lambda α, Es: (e10(α, Es) + e2(α, Es) + 4*e5(α, Es) - 4*e6(α, Es) + \\\n",
    "                    2*e8(α, Es))/4\n",
    "gs = lambda α, Es: (e3(α, Es) + e5(α, Es) - e6(α, Es) + e9(α, Es))/2\n",
    "gq = lambda α, Es: e4(α, Es)"
   ]
  },
  {
   "cell_type": "code",
   "execution_count": 9,
   "id": "e0d6272e",
   "metadata": {},
   "outputs": [],
   "source": [
    "# define G as a function of α and Es\n",
    "G = lambda α, Es: \\\n",
    "    g00(α, Es)*ρ_list[0] + \\\n",
    "    g04(α, Es)*eigvecs[0]*eigvecs[4].dag() + \\\n",
    "    g40(α, Es)*eigvecs[4]*eigvecs[0].dag() + \\\n",
    "    g44(α, Es)*ρ_list[4] + \\\n",
    "    gt(α, Es)*sum(ρ_list[1:4]) + \\\n",
    "    gs(α, Es)*sum(ρ_list[5:11]) + \\\n",
    "    gq(α, Es)*sum(ρ_list[11:16])"
   ]
  },
  {
   "cell_type": "code",
   "execution_count": 10,
   "id": "71a7768f",
   "metadata": {},
   "outputs": [],
   "source": [
    "# compute log(G) for α = 1\n",
    "Es = E_0 #-8\n",
    "G_list = [G(α, Es).tidyup() for α in α_array]"
   ]
  },
  {
   "cell_type": "code",
   "execution_count": 11,
   "id": "f7b7e0b5",
   "metadata": {},
   "outputs": [
    {
     "data": {
      "text/plain": [
       "True"
      ]
     },
     "execution_count": 11,
     "metadata": {},
     "output_type": "execute_result"
    }
   ],
   "source": [
    "VTA_list[-1] ==  G_list[-1]"
   ]
  },
  {
   "cell_type": "code",
   "execution_count": 12,
   "id": "bd34e0a7",
   "metadata": {},
   "outputs": [
    {
     "data": {
      "text/plain": [
       "True"
      ]
     },
     "execution_count": 12,
     "metadata": {},
     "output_type": "execute_result"
    }
   ],
   "source": [
    "VTA_list[1] == G_list[1]"
   ]
  },
  {
   "cell_type": "code",
   "execution_count": 15,
   "id": "96683ac8",
   "metadata": {},
   "outputs": [
    {
     "data": {
      "text/plain": [
       "True"
      ]
     },
     "execution_count": 15,
     "metadata": {},
     "output_type": "execute_result"
    }
   ],
   "source": [
    "VTA_list == G_list"
   ]
  },
  {
   "cell_type": "code",
   "execution_count": 17,
   "id": "24fea2ba",
   "metadata": {},
   "outputs": [
    {
     "data": {
      "text/latex": [
       "Quantum object: dims=[[2, 2, 2, 2], [2, 2, 2, 2]], shape=(16, 16), type='oper', dtype=Dense, isherm=False$$\\left(\\begin{array}{cc}0.772 & 0 & 0 & 0 & 0 & \\cdots & 0 & 0 & 0 & 0 & 0\\\\0 & 0.881 & -0.050 & 0 & -0.010 & \\cdots & 0 & 0 & 0 & 0 & 0\\\\0 & -0.050 & 0.881 & 0 & -0.050 & \\cdots & 0 & 0 & 0 & 0 & 0\\\\0 & 0 & 0 & 0.881 & 0 & \\cdots & 0 & -0.011 & 0 & 0 & 0\\\\0 & -0.010 & -0.050 & 0 & 0.881 & \\cdots & 0 & 0 & 0 & 0 & 0\\\\\\vdots & \\vdots & \\vdots & \\vdots & \\vdots & \\ddots & \\vdots & \\vdots & \\vdots & \\vdots & \\vdots\\\\0 & 0 & 0 & 0 & 0 & \\cdots & 0.881 & 0 & -0.050 & -0.010 & 0\\\\0 & 0 & 0 & -0.011 & 0 & \\cdots & 0 & 0.881 & 0 & 0 & 0\\\\0 & 0 & 0 & 0 & 0 & \\cdots & -0.050 & 0 & 0.881 & -0.050 & 0\\\\0 & 0 & 0 & 0 & 0 & \\cdots & -0.010 & 0 & -0.050 & 0.881 & 0\\\\0 & 0 & 0 & 0 & 0 & \\cdots & 0 & 0 & 0 & 0 & 0.772\\end{array}\\right)$$"
      ],
      "text/plain": [
       "Quantum object: dims=[[2, 2, 2, 2], [2, 2, 2, 2]], shape=(16, 16), type='oper', dtype=Dense, isherm=False\n",
       "Qobj data =\n",
       "[[ 0.77166867  0.          0.          0.          0.          0.\n",
       "   0.          0.          0.          0.          0.          0.\n",
       "   0.          0.          0.          0.        ]\n",
       " [ 0.          0.88145042 -0.04974291  0.         -0.01029593  0.\n",
       "   0.          0.         -0.04974291  0.          0.          0.\n",
       "   0.          0.          0.          0.        ]\n",
       " [ 0.         -0.04974291  0.88145042  0.         -0.04974291  0.\n",
       "   0.          0.         -0.01029593  0.          0.          0.\n",
       "   0.          0.          0.          0.        ]\n",
       " [ 0.          0.          0.          0.88088445  0.         -0.0315375\n",
       "  -0.01763944  0.          0.         -0.01763944 -0.0315375   0.\n",
       "  -0.0108619   0.          0.          0.        ]\n",
       " [ 0.         -0.01029593 -0.04974291  0.          0.88145042  0.\n",
       "   0.          0.         -0.04974291  0.          0.          0.\n",
       "   0.          0.          0.          0.        ]\n",
       " [ 0.          0.          0.         -0.0442899   0.          0.94698189\n",
       "  -0.0315375   0.          0.         -0.0315375  -0.02365841  0.\n",
       "  -0.0442899   0.          0.          0.        ]\n",
       " [ 0.          0.          0.         -0.00488704  0.         -0.0442899\n",
       "   0.88088445  0.          0.         -0.0108619  -0.0442899   0.\n",
       "  -0.00488704  0.          0.          0.        ]\n",
       " [ 0.          0.          0.          0.          0.          0.\n",
       "   0.          0.88145042  0.          0.          0.         -0.04974291\n",
       "   0.         -0.01029593 -0.04974291  0.        ]\n",
       " [ 0.         -0.04974291 -0.01029593  0.         -0.04974291  0.\n",
       "   0.          0.          0.88145042  0.          0.          0.\n",
       "   0.          0.          0.          0.        ]\n",
       " [ 0.          0.          0.         -0.00488704  0.         -0.0442899\n",
       "  -0.0108619   0.          0.          0.88088445 -0.0442899   0.\n",
       "  -0.00488704  0.          0.          0.        ]\n",
       " [ 0.          0.          0.         -0.0442899   0.         -0.02365841\n",
       "  -0.0315375   0.          0.         -0.0315375   0.94698189  0.\n",
       "  -0.0442899   0.          0.          0.        ]\n",
       " [ 0.          0.          0.          0.          0.          0.\n",
       "   0.         -0.04974291  0.          0.          0.          0.88145042\n",
       "   0.         -0.04974291 -0.01029593  0.        ]\n",
       " [ 0.          0.          0.         -0.0108619   0.         -0.0315375\n",
       "  -0.01763944  0.          0.         -0.01763944 -0.0315375   0.\n",
       "   0.88088445  0.          0.          0.        ]\n",
       " [ 0.          0.          0.          0.          0.          0.\n",
       "   0.         -0.01029593  0.          0.          0.         -0.04974291\n",
       "   0.          0.88145042 -0.04974291  0.        ]\n",
       " [ 0.          0.          0.          0.          0.          0.\n",
       "   0.         -0.04974291  0.          0.          0.         -0.01029593\n",
       "   0.         -0.04974291  0.88145042  0.        ]\n",
       " [ 0.          0.          0.          0.          0.          0.\n",
       "   0.          0.          0.          0.          0.          0.\n",
       "   0.          0.          0.          0.77166867]]"
      ]
     },
     "execution_count": 17,
     "metadata": {},
     "output_type": "execute_result"
    }
   ],
   "source": [
    "G_list[3]"
   ]
  },
  {
   "cell_type": "code",
   "execution_count": 18,
   "id": "8ac1def4",
   "metadata": {},
   "outputs": [
    {
     "data": {
      "text/latex": [
       "Quantum object: dims=[[2, 2, 2, 2], [2, 2, 2, 2]], shape=(16, 16), type='oper', dtype=CSR, isherm=False$$\\left(\\begin{array}{cc}0.772 & 0 & 0 & 0 & 0 & \\cdots & 0 & 0 & 0 & 0 & 0\\\\0 & 0.881 & -0.050 & 0 & -0.010 & \\cdots & 0 & 0 & 0 & 0 & 0\\\\0 & -0.050 & 0.881 & 0 & -0.050 & \\cdots & 0 & 0 & 0 & 0 & 0\\\\0 & 0 & 0 & 0.881 & 0 & \\cdots & 0 & -0.011 & 0 & 0 & 0\\\\0 & -0.010 & -0.050 & 0 & 0.881 & \\cdots & 0 & 0 & 0 & 0 & 0\\\\\\vdots & \\vdots & \\vdots & \\vdots & \\vdots & \\ddots & \\vdots & \\vdots & \\vdots & \\vdots & \\vdots\\\\0 & 0 & 0 & 0 & 0 & \\cdots & 0.881 & 0 & -0.050 & -0.010 & 0\\\\0 & 0 & 0 & -0.011 & 0 & \\cdots & 0 & 0.881 & 0 & 0 & 0\\\\0 & 0 & 0 & 0 & 0 & \\cdots & -0.050 & 0 & 0.881 & -0.050 & 0\\\\0 & 0 & 0 & 0 & 0 & \\cdots & -0.010 & 0 & -0.050 & 0.881 & 0\\\\0 & 0 & 0 & 0 & 0 & \\cdots & 0 & 0 & 0 & 0 & 0.772\\end{array}\\right)$$"
      ],
      "text/plain": [
       "Quantum object: dims=[[2, 2, 2, 2], [2, 2, 2, 2]], shape=(16, 16), type='oper', dtype=CSR, isherm=False\n",
       "Qobj data =\n",
       "[[ 0.77166867  0.          0.          0.          0.          0.\n",
       "   0.          0.          0.          0.          0.          0.\n",
       "   0.          0.          0.          0.        ]\n",
       " [ 0.          0.88145042 -0.04974291  0.         -0.01029593  0.\n",
       "   0.          0.         -0.04974291  0.          0.          0.\n",
       "   0.          0.          0.          0.        ]\n",
       " [ 0.         -0.04974291  0.88145042  0.         -0.04974291  0.\n",
       "   0.          0.         -0.01029593  0.          0.          0.\n",
       "   0.          0.          0.          0.        ]\n",
       " [ 0.          0.          0.          0.88088445  0.         -0.0315375\n",
       "  -0.01763944  0.          0.         -0.01763944 -0.0315375   0.\n",
       "  -0.0108619   0.          0.          0.        ]\n",
       " [ 0.         -0.01029593 -0.04974291  0.          0.88145042  0.\n",
       "   0.          0.         -0.04974291  0.          0.          0.\n",
       "   0.          0.          0.          0.        ]\n",
       " [ 0.          0.          0.         -0.0442899   0.          0.94698189\n",
       "  -0.0315375   0.          0.         -0.0315375  -0.02365841  0.\n",
       "  -0.0442899   0.          0.          0.        ]\n",
       " [ 0.          0.          0.         -0.00488704  0.         -0.0442899\n",
       "   0.88088445  0.          0.         -0.0108619  -0.0442899   0.\n",
       "  -0.00488704  0.          0.          0.        ]\n",
       " [ 0.          0.          0.          0.          0.          0.\n",
       "   0.          0.88145042  0.          0.          0.         -0.04974291\n",
       "   0.         -0.01029593 -0.04974291  0.        ]\n",
       " [ 0.         -0.04974291 -0.01029593  0.         -0.04974291  0.\n",
       "   0.          0.          0.88145042  0.          0.          0.\n",
       "   0.          0.          0.          0.        ]\n",
       " [ 0.          0.          0.         -0.00488704  0.         -0.0442899\n",
       "  -0.0108619   0.          0.          0.88088445 -0.0442899   0.\n",
       "  -0.00488704  0.          0.          0.        ]\n",
       " [ 0.          0.          0.         -0.0442899   0.         -0.02365841\n",
       "  -0.0315375   0.          0.         -0.0315375   0.94698189  0.\n",
       "  -0.0442899   0.          0.          0.        ]\n",
       " [ 0.          0.          0.          0.          0.          0.\n",
       "   0.         -0.04974291  0.          0.          0.          0.88145042\n",
       "   0.         -0.04974291 -0.01029593  0.        ]\n",
       " [ 0.          0.          0.         -0.0108619   0.         -0.0315375\n",
       "  -0.01763944  0.          0.         -0.01763944 -0.0315375   0.\n",
       "   0.88088445  0.          0.          0.        ]\n",
       " [ 0.          0.          0.          0.          0.          0.\n",
       "   0.         -0.01029593  0.          0.          0.         -0.04974291\n",
       "   0.          0.88145042 -0.04974291  0.        ]\n",
       " [ 0.          0.          0.          0.          0.          0.\n",
       "   0.         -0.04974291  0.          0.          0.         -0.01029593\n",
       "   0.         -0.04974291  0.88145042  0.        ]\n",
       " [ 0.          0.          0.          0.          0.          0.\n",
       "   0.          0.          0.          0.          0.          0.\n",
       "   0.          0.          0.          0.77166867]]"
      ]
     },
     "execution_count": 18,
     "metadata": {},
     "output_type": "execute_result"
    }
   ],
   "source": [
    "VTA_list[3]"
   ]
  },
  {
   "cell_type": "code",
   "execution_count": null,
   "id": "b1e2af10",
   "metadata": {},
   "outputs": [],
   "source": []
  },
  {
   "cell_type": "code",
   "execution_count": 13,
   "id": "7c5a7a95",
   "metadata": {},
   "outputs": [
    {
     "data": {
      "image/png": "[encoded data removed]",
      "text/plain": [
       "<Figure size 640x480 with 1 Axes>"
      ]
     },
     "metadata": {
      "image/png": {
       "height": 428,
       "width": 556
      }
     },
     "output_type": "display_data"
    }
   ],
   "source": [
    "Npt = len(VTA_list)\n",
    "norm_list = [np.linalg.norm((VTA_list[n] - G_list[n]).data_as(),ord='fro') for n in range(Npt)]\n",
    "plt.plot(α_array,norm_list,'.-')\n",
    "plt.show()"
   ]
  },
  {
   "cell_type": "code",
   "execution_count": 14,
   "id": "7dabd094",
   "metadata": {
    "scrolled": true
   },
   "outputs": [
    {
     "name": "stdout",
     "output_type": "stream",
     "text": [
      "61\n",
      "1e-12 True\n",
      "1e-14 False\n"
     ]
    }
   ],
   "source": [
    "idx_maxErr = np.argmax(norm_list)\n",
    "print(idx_maxErr)\n",
    "print(qt.settings.core['atol'], VTA_list[idx_maxErr] == G_list[idx_maxErr])\n",
    "qt.settings.core['atol'] = 1e-14\n",
    "print(qt.settings.core['atol'], VTA_list[idx_maxErr] == G_list[idx_maxErr])\n",
    "qt.settings.core['atol'] = 1e-12  #change back to default"
   ]
  },
  {
   "cell_type": "markdown",
   "id": "7935a39c",
   "metadata": {},
   "source": [
    "## Transform from computational basis to eigenbasis\n",
    "\n",
    "The bug and corrections (cell `In [8]:`) related to the analytical formula $\\mathcal{G}$ were first looked into in the eigenbasis below: only (1,1),  (2,2), and (3,3) elements (triple-rank projector space) are different between VTA and $\\mathcal{G}$ in the original code without corrections."
   ]
  },
  {
   "cell_type": "code",
   "execution_count": 15,
   "id": "9d694f28",
   "metadata": {},
   "outputs": [],
   "source": [
    "U = Qobj(np.hstack([vobj.data_as() for vobj in eigvecs]),dims=VTA_list[0].dims)\n",
    "diagVTA_list = [(U.dag()*M*U).tidyup() for M in VTA_list]\n",
    "diagG_list = [(U.dag()*M*U).tidyup() for M in G_list]"
   ]
  },
  {
   "cell_type": "code",
   "execution_count": 16,
   "id": "0bb0636e",
   "metadata": {},
   "outputs": [
    {
     "data": {
      "text/latex": [
       "Quantum object: dims=[[2, 2, 2, 2], [2, 2, 2, 2]], shape=(16, 16), type='oper', dtype=Dense, isherm=False$$\\left(\\begin{array}{cc}0.750 & 0 & 0 & 0 & 0.217 & \\cdots & 0 & 0 & 0 & 0 & 0\\\\0 & 1.685\\times10^{ -6 } & 0 & 0 & 0 & \\cdots & 0 & 0 & 0 & 0 & 0\\\\0 & 0 & 1.685\\times10^{ -6 } & 0 & 0 & \\cdots & 0 & 0 & 0 & 0 & 0\\\\0 & 0 & 0 & 1.685\\times10^{ -6 } & 0 & \\cdots & 0 & 0 & 0 & 0 & 0\\\\-0.217 & 0 & 0 & 0 & 1.053\\times10^{ -6 } & \\cdots & 0 & 0 & 0 & 0 & 0\\\\\\vdots & \\vdots & \\vdots & \\vdots & \\vdots & \\ddots & \\vdots & \\vdots & \\vdots & \\vdots & \\vdots\\\\0 & 0 & 0 & 0 & 0 & \\cdots & 0 & 0 & 0 & 0 & 0\\\\0 & 0 & 0 & 0 & 0 & \\cdots & 0 & 0 & 0 & 0 & 0\\\\0 & 0 & 0 & 0 & 0 & \\cdots & 0 & 0 & 0 & 0 & 0\\\\0 & 0 & 0 & 0 & 0 & \\cdots & 0 & 0 & 0 & 0 & 0\\\\0 & 0 & 0 & 0 & 0 & \\cdots & 0 & 0 & 0 & 0 & 0\\end{array}\\right)$$"
      ],
      "text/plain": [
       "Quantum object: dims=[[2, 2, 2, 2], [2, 2, 2, 2]], shape=(16, 16), type='oper', dtype=Dense, isherm=False\n",
       "Qobj data =\n",
       "[[ 7.50001896e-01  0.00000000e+00  0.00000000e+00  0.00000000e+00\n",
       "   2.16503067e-01  0.00000000e+00  0.00000000e+00  0.00000000e+00\n",
       "   0.00000000e+00  0.00000000e+00  0.00000000e+00  0.00000000e+00\n",
       "   0.00000000e+00  0.00000000e+00  0.00000000e+00  0.00000000e+00]\n",
       " [ 0.00000000e+00  1.68544521e-06  0.00000000e+00  0.00000000e+00\n",
       "   0.00000000e+00  0.00000000e+00  0.00000000e+00  0.00000000e+00\n",
       "   0.00000000e+00  0.00000000e+00  0.00000000e+00  0.00000000e+00\n",
       "   0.00000000e+00  0.00000000e+00  0.00000000e+00  0.00000000e+00]\n",
       " [ 0.00000000e+00  0.00000000e+00  1.68544509e-06  0.00000000e+00\n",
       "   0.00000000e+00  0.00000000e+00  0.00000000e+00  0.00000000e+00\n",
       "   0.00000000e+00  0.00000000e+00  0.00000000e+00  0.00000000e+00\n",
       "   0.00000000e+00  0.00000000e+00  0.00000000e+00  0.00000000e+00]\n",
       " [ 0.00000000e+00  0.00000000e+00  0.00000000e+00  1.68544521e-06\n",
       "   0.00000000e+00  0.00000000e+00  0.00000000e+00  0.00000000e+00\n",
       "   0.00000000e+00  0.00000000e+00  0.00000000e+00  0.00000000e+00\n",
       "   0.00000000e+00  0.00000000e+00  0.00000000e+00  0.00000000e+00]\n",
       " [-2.16503067e-01  0.00000000e+00  0.00000000e+00  0.00000000e+00\n",
       "   1.05338898e-06  0.00000000e+00  0.00000000e+00  0.00000000e+00\n",
       "   0.00000000e+00  0.00000000e+00  0.00000000e+00  0.00000000e+00\n",
       "   0.00000000e+00  0.00000000e+00  0.00000000e+00  0.00000000e+00]\n",
       " [ 0.00000000e+00  0.00000000e+00  0.00000000e+00  0.00000000e+00\n",
       "   0.00000000e+00  0.00000000e+00  0.00000000e+00  0.00000000e+00\n",
       "   0.00000000e+00  0.00000000e+00  0.00000000e+00  0.00000000e+00\n",
       "   0.00000000e+00  0.00000000e+00  0.00000000e+00  0.00000000e+00]\n",
       " [ 0.00000000e+00  0.00000000e+00  0.00000000e+00  0.00000000e+00\n",
       "   0.00000000e+00  0.00000000e+00  0.00000000e+00  0.00000000e+00\n",
       "   0.00000000e+00  0.00000000e+00  0.00000000e+00  0.00000000e+00\n",
       "   0.00000000e+00  0.00000000e+00  0.00000000e+00  0.00000000e+00]\n",
       " [ 0.00000000e+00  0.00000000e+00  0.00000000e+00  0.00000000e+00\n",
       "   0.00000000e+00  0.00000000e+00  0.00000000e+00  0.00000000e+00\n",
       "   0.00000000e+00  0.00000000e+00  0.00000000e+00  0.00000000e+00\n",
       "   0.00000000e+00  0.00000000e+00  0.00000000e+00  0.00000000e+00]\n",
       " [ 0.00000000e+00  0.00000000e+00  0.00000000e+00  0.00000000e+00\n",
       "   0.00000000e+00  0.00000000e+00  0.00000000e+00  0.00000000e+00\n",
       "   0.00000000e+00  0.00000000e+00  0.00000000e+00  0.00000000e+00\n",
       "   0.00000000e+00  0.00000000e+00  0.00000000e+00  0.00000000e+00]\n",
       " [ 0.00000000e+00  0.00000000e+00  0.00000000e+00  0.00000000e+00\n",
       "   0.00000000e+00  0.00000000e+00  0.00000000e+00  0.00000000e+00\n",
       "   0.00000000e+00  0.00000000e+00  0.00000000e+00  0.00000000e+00\n",
       "   0.00000000e+00  0.00000000e+00  0.00000000e+00  0.00000000e+00]\n",
       " [ 0.00000000e+00  0.00000000e+00  0.00000000e+00  0.00000000e+00\n",
       "   0.00000000e+00  0.00000000e+00  0.00000000e+00  0.00000000e+00\n",
       "   0.00000000e+00  0.00000000e+00  0.00000000e+00  0.00000000e+00\n",
       "   0.00000000e+00  0.00000000e+00  0.00000000e+00  0.00000000e+00]\n",
       " [ 0.00000000e+00  0.00000000e+00  0.00000000e+00  0.00000000e+00\n",
       "   0.00000000e+00  0.00000000e+00  0.00000000e+00  0.00000000e+00\n",
       "   0.00000000e+00  0.00000000e+00  0.00000000e+00  0.00000000e+00\n",
       "   0.00000000e+00  0.00000000e+00  0.00000000e+00  0.00000000e+00]\n",
       " [ 0.00000000e+00  0.00000000e+00  0.00000000e+00  0.00000000e+00\n",
       "   0.00000000e+00  0.00000000e+00  0.00000000e+00  0.00000000e+00\n",
       "   0.00000000e+00  0.00000000e+00  0.00000000e+00  0.00000000e+00\n",
       "   0.00000000e+00  0.00000000e+00  0.00000000e+00  0.00000000e+00]\n",
       " [ 0.00000000e+00  0.00000000e+00  0.00000000e+00  0.00000000e+00\n",
       "   0.00000000e+00  0.00000000e+00  0.00000000e+00  0.00000000e+00\n",
       "   0.00000000e+00  0.00000000e+00  0.00000000e+00  0.00000000e+00\n",
       "   0.00000000e+00  0.00000000e+00  0.00000000e+00  0.00000000e+00]\n",
       " [ 0.00000000e+00  0.00000000e+00  0.00000000e+00  0.00000000e+00\n",
       "   0.00000000e+00  0.00000000e+00  0.00000000e+00  0.00000000e+00\n",
       "   0.00000000e+00  0.00000000e+00  0.00000000e+00  0.00000000e+00\n",
       "   0.00000000e+00  0.00000000e+00  0.00000000e+00  0.00000000e+00]\n",
       " [ 0.00000000e+00  0.00000000e+00  0.00000000e+00  0.00000000e+00\n",
       "   0.00000000e+00  0.00000000e+00  0.00000000e+00  0.00000000e+00\n",
       "   0.00000000e+00  0.00000000e+00  0.00000000e+00  0.00000000e+00\n",
       "   0.00000000e+00  0.00000000e+00  0.00000000e+00  0.00000000e+00]]"
      ]
     },
     "execution_count": 16,
     "metadata": {},
     "output_type": "execute_result"
    }
   ],
   "source": [
    "diagVTA_list[idx_maxErr]"
   ]
  },
  {
   "cell_type": "code",
   "execution_count": 17,
   "id": "227a6a73",
   "metadata": {},
   "outputs": [
    {
     "data": {
      "text/latex": [
       "Quantum object: dims=[[2, 2, 2, 2], [2, 2, 2, 2]], shape=(16, 16), type='oper', dtype=Dense, isherm=False$$\\left(\\begin{array}{cc}0.750 & 0 & 0 & 0 & 0.217 & \\cdots & 0 & 0 & 0 & 0 & 0\\\\0 & 1.685\\times10^{ -6 } & 0 & 0 & 0 & \\cdots & 0 & 0 & 0 & 0 & 0\\\\0 & 0 & 1.685\\times10^{ -6 } & 0 & 0 & \\cdots & 0 & 0 & 0 & 0 & 0\\\\0 & 0 & 0 & 1.685\\times10^{ -6 } & 0 & \\cdots & 0 & 0 & 0 & 0 & 0\\\\-0.217 & 0 & 0 & 0 & 1.053\\times10^{ -6 } & \\cdots & 0 & 0 & 0 & 0 & 0\\\\\\vdots & \\vdots & \\vdots & \\vdots & \\vdots & \\ddots & \\vdots & \\vdots & \\vdots & \\vdots & \\vdots\\\\0 & 0 & 0 & 0 & 0 & \\cdots & 0 & 0 & 0 & 0 & 0\\\\0 & 0 & 0 & 0 & 0 & \\cdots & 0 & 0 & 0 & 0 & 0\\\\0 & 0 & 0 & 0 & 0 & \\cdots & 0 & 0 & 0 & 0 & 0\\\\0 & 0 & 0 & 0 & 0 & \\cdots & 0 & 0 & 0 & 0 & 0\\\\0 & 0 & 0 & 0 & 0 & \\cdots & 0 & 0 & 0 & 0 & 0\\end{array}\\right)$$"
      ],
      "text/plain": [
       "Quantum object: dims=[[2, 2, 2, 2], [2, 2, 2, 2]], shape=(16, 16), type='oper', dtype=Dense, isherm=False\n",
       "Qobj data =\n",
       "[[ 7.50001896e-01  0.00000000e+00  0.00000000e+00  0.00000000e+00\n",
       "   2.16503067e-01  0.00000000e+00  0.00000000e+00  0.00000000e+00\n",
       "   0.00000000e+00  0.00000000e+00  0.00000000e+00  0.00000000e+00\n",
       "   0.00000000e+00  0.00000000e+00  0.00000000e+00  0.00000000e+00]\n",
       " [ 0.00000000e+00  1.68544521e-06  0.00000000e+00  0.00000000e+00\n",
       "   0.00000000e+00  0.00000000e+00  0.00000000e+00  0.00000000e+00\n",
       "   0.00000000e+00  0.00000000e+00  0.00000000e+00  0.00000000e+00\n",
       "   0.00000000e+00  0.00000000e+00  0.00000000e+00  0.00000000e+00]\n",
       " [ 0.00000000e+00  0.00000000e+00  1.68544521e-06  0.00000000e+00\n",
       "   0.00000000e+00  0.00000000e+00  0.00000000e+00  0.00000000e+00\n",
       "   0.00000000e+00  0.00000000e+00  0.00000000e+00  0.00000000e+00\n",
       "   0.00000000e+00  0.00000000e+00  0.00000000e+00  0.00000000e+00]\n",
       " [ 0.00000000e+00  0.00000000e+00  0.00000000e+00  1.68544521e-06\n",
       "   0.00000000e+00  0.00000000e+00  0.00000000e+00  0.00000000e+00\n",
       "   0.00000000e+00  0.00000000e+00  0.00000000e+00  0.00000000e+00\n",
       "   0.00000000e+00  0.00000000e+00  0.00000000e+00  0.00000000e+00]\n",
       " [-2.16503067e-01  0.00000000e+00  0.00000000e+00  0.00000000e+00\n",
       "   1.05338898e-06  0.00000000e+00  0.00000000e+00  0.00000000e+00\n",
       "   0.00000000e+00  0.00000000e+00  0.00000000e+00  0.00000000e+00\n",
       "   0.00000000e+00  0.00000000e+00  0.00000000e+00  0.00000000e+00]\n",
       " [ 0.00000000e+00  0.00000000e+00  0.00000000e+00  0.00000000e+00\n",
       "   0.00000000e+00  5.90050179e-14  0.00000000e+00  0.00000000e+00\n",
       "   0.00000000e+00  0.00000000e+00  0.00000000e+00  0.00000000e+00\n",
       "   0.00000000e+00  0.00000000e+00  0.00000000e+00  0.00000000e+00]\n",
       " [ 0.00000000e+00  0.00000000e+00  0.00000000e+00  0.00000000e+00\n",
       "   0.00000000e+00  0.00000000e+00  5.90050179e-14  0.00000000e+00\n",
       "   0.00000000e+00  0.00000000e+00  0.00000000e+00  0.00000000e+00\n",
       "   0.00000000e+00  0.00000000e+00  0.00000000e+00  0.00000000e+00]\n",
       " [ 0.00000000e+00  0.00000000e+00  0.00000000e+00  0.00000000e+00\n",
       "   0.00000000e+00  0.00000000e+00  0.00000000e+00  5.90138445e-14\n",
       "   0.00000000e+00  0.00000000e+00  0.00000000e+00  0.00000000e+00\n",
       "   0.00000000e+00  0.00000000e+00  0.00000000e+00  0.00000000e+00]\n",
       " [ 0.00000000e+00  0.00000000e+00  0.00000000e+00  0.00000000e+00\n",
       "   0.00000000e+00  0.00000000e+00  0.00000000e+00  0.00000000e+00\n",
       "   5.90039182e-14  0.00000000e+00  0.00000000e+00  0.00000000e+00\n",
       "   0.00000000e+00  0.00000000e+00  0.00000000e+00  0.00000000e+00]\n",
       " [ 0.00000000e+00  0.00000000e+00  0.00000000e+00  0.00000000e+00\n",
       "   0.00000000e+00  0.00000000e+00  0.00000000e+00  0.00000000e+00\n",
       "   0.00000000e+00  5.90050180e-14  0.00000000e+00  0.00000000e+00\n",
       "   0.00000000e+00  0.00000000e+00  0.00000000e+00  0.00000000e+00]\n",
       " [ 0.00000000e+00  0.00000000e+00  0.00000000e+00  0.00000000e+00\n",
       "   0.00000000e+00  0.00000000e+00  0.00000000e+00  0.00000000e+00\n",
       "   0.00000000e+00  0.00000000e+00  5.90050179e-14  0.00000000e+00\n",
       "   0.00000000e+00  0.00000000e+00  0.00000000e+00  0.00000000e+00]\n",
       " [ 0.00000000e+00  0.00000000e+00  0.00000000e+00  0.00000000e+00\n",
       "   0.00000000e+00  0.00000000e+00  0.00000000e+00  0.00000000e+00\n",
       "   0.00000000e+00  0.00000000e+00  0.00000000e+00  0.00000000e+00\n",
       "   0.00000000e+00  0.00000000e+00  0.00000000e+00  0.00000000e+00]\n",
       " [ 0.00000000e+00  0.00000000e+00  0.00000000e+00  0.00000000e+00\n",
       "   0.00000000e+00  0.00000000e+00  0.00000000e+00  0.00000000e+00\n",
       "   0.00000000e+00  0.00000000e+00  0.00000000e+00  0.00000000e+00\n",
       "   0.00000000e+00  0.00000000e+00  0.00000000e+00  0.00000000e+00]\n",
       " [ 0.00000000e+00  0.00000000e+00  0.00000000e+00  0.00000000e+00\n",
       "   0.00000000e+00  0.00000000e+00  0.00000000e+00  0.00000000e+00\n",
       "   0.00000000e+00  0.00000000e+00  0.00000000e+00  0.00000000e+00\n",
       "   0.00000000e+00  0.00000000e+00  0.00000000e+00  0.00000000e+00]\n",
       " [ 0.00000000e+00  0.00000000e+00  0.00000000e+00  0.00000000e+00\n",
       "   0.00000000e+00  0.00000000e+00  0.00000000e+00  0.00000000e+00\n",
       "   0.00000000e+00  0.00000000e+00  0.00000000e+00  0.00000000e+00\n",
       "   0.00000000e+00  0.00000000e+00  0.00000000e+00  0.00000000e+00]\n",
       " [ 0.00000000e+00  0.00000000e+00  0.00000000e+00  0.00000000e+00\n",
       "   0.00000000e+00  0.00000000e+00  0.00000000e+00  0.00000000e+00\n",
       "   0.00000000e+00  0.00000000e+00  0.00000000e+00  0.00000000e+00\n",
       "   0.00000000e+00  0.00000000e+00  0.00000000e+00  0.00000000e+00]]"
      ]
     },
     "execution_count": 17,
     "metadata": {},
     "output_type": "execute_result"
    }
   ],
   "source": [
    "diagG_list[idx_maxErr]"
   ]
  },
  {
   "cell_type": "code",
   "execution_count": null,
   "id": "fa60871f",
   "metadata": {},
   "outputs": [],
   "source": []
  }
 ],
 "metadata": {
  "kernelspec": {
   "display_name": "Python 3 (ipykernel)",
   "language": "python",
   "name": "python3"
  },
  "language_info": {
   "codemirror_mode": {
    "name": "ipython",
    "version": 3
   },
   "file_extension": ".py",
   "mimetype": "text/x-python",
   "name": "python",
   "nbconvert_exporter": "python",
   "pygments_lexer": "ipython3",
   "version": "3.11.7"
  },
  "toc": {
   "base_numbering": 1,
   "nav_menu": {},
   "number_sections": false,
   "sideBar": true,
   "skip_h1_title": false,
   "title_cell": "Table of Contents",
   "title_sidebar": "Contents",
   "toc_cell": false,
   "toc_position": {},
   "toc_section_display": true,
   "toc_window_display": false
  }
 },
 "nbformat": 4,
 "nbformat_minor": 5
}
