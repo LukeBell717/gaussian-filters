{
 "cells": [
  {
   "cell_type": "code",
   "execution_count": 1,
   "id": "3efa5d89",
   "metadata": {},
   "outputs": [],
   "source": [
    "from qutip import sigmax, sigmay, sigmaz, identity, qeye, tensor, Qobj, simdiag, basis\n",
    "from functools import reduce\n",
    "import numpy as np\n",
    "import time "
   ]
  },
  {
   "cell_type": "code",
   "execution_count": 2,
   "id": "2cc33a9f",
   "metadata": {
    "code_folding": [
     7,
     86
    ]
   },
   "outputs": [],
   "source": [
    "# define Pauli matrices \n",
    "σ_x = sigmax()\n",
    "σ_y = sigmay()\n",
    "σ_z = sigmaz()\n",
    "I2 = qeye(2)\n",
    "I16 = qeye([2]*4)\n",
    "\n",
    "def quantities(N, Jx, Jy, Jz, tolerance):\n",
    "\n",
    "    \n",
    "    if N % 2 != 0: \n",
    "        raise ValueError(\"Please enter an even number of sites\")\n",
    "    \n",
    "    # define Pauli matrices and constants\n",
    "    σ_x = sigmax()\n",
    "    σ_y = sigmay()\n",
    "    σ_z = sigmaz()\n",
    "    π = np.pi\n",
    "\n",
    "    # Interaction coefficients, which we assume are uniform throughout the lattice\n",
    "    Jx_list = Jx*np.ones(N)\n",
    "    Jy_list = Jy*np.ones(N)\n",
    "    Jz_list = Jz*np.ones(N)\n",
    "\n",
    "    # Setup operators for individual qubits; \n",
    "    # here sx_list[j] = X_j, sy_list[j] = Y_j, and sz_list[j] = Z_j\n",
    "    # since the Pauli matrix occupies the jth location in the tensor product of N terms\n",
    "    # of which N-1 terms are the identity\n",
    "    sx_list, sy_list, sz_list = [], [], []\n",
    "\n",
    "    for i in range(N):\n",
    "        op_list = [qeye(2)]*N\n",
    "        op_list[i] = σ_x\n",
    "        sx_list.append(tensor(op_list))\n",
    "        op_list[i] = σ_y\n",
    "        sy_list.append(tensor(op_list))\n",
    "        op_list[i] = σ_z\n",
    "        sz_list.append(tensor(op_list))\n",
    "\n",
    "    # define variable for total Hamiltonian H_N and the list of all local \n",
    "    # Hamiltonians H_list\n",
    "    H_N = 0 \n",
    "    H_list = []\n",
    "    \n",
    "    # collect \n",
    "    for j in range(N - 1):\n",
    "\n",
    "        # find H_ij, the Hamiltonian between the ith and jth sites \n",
    "        H_ij = Jx_list[j] * sx_list[j] * sx_list[j + 1] + \\\n",
    "               Jy_list[j] * sy_list[j] * sy_list[j + 1] + \\\n",
    "               Jz_list[j] * sz_list[j] * sz_list[j + 1]\n",
    "        \n",
    "        # add H_ij to H_N and append H_ij to H_list\n",
    "        H_N += H_ij\n",
    "        H_list.append(H_ij)\n",
    "\n",
    "    # execute if periodic boundary conditions are specified\n",
    "    if periodic_bc: \n",
    "        \n",
    "        # find H_N1, the Hamiltonian between the Nth and first site\n",
    "        H_N1 = Jx_list[N-1] * sx_list[N - 1] * sx_list[0] + \\\n",
    "               Jy_list[N-1] * sy_list[N - 1] * sy_list[0] + \\\n",
    "               Jz_list[N-1] * sz_list[N - 1] * sz_list[0]\n",
    "\n",
    "        # add H_N1 to H_N and append H_N1 to H_list\n",
    "        H_N += H_N1\n",
    "        H_list.append(H_N1)\n",
    "\n",
    "    # find eigenavlues and eigenstates of Hamiltonian \n",
    "    eigenvalues, eigenstates = H_N.eigenstates()\n",
    "\n",
    "    # find indices of smallest eigenvalues, which correspond to the energy(ies) \n",
    "    # of the ground state (space in the case of degeneracy); \n",
    "    min_eigenvalue = min(eigenvalues)\n",
    "    indices = [index for index, value in enumerate(eigenvalues) if np.allclose(value, min_eigenvalue, tolerance)]\n",
    "\n",
    "    # find eigenstates corresponding to ground state\n",
    "    eigenstates_list = eigenstates[indices]\n",
    "\n",
    "    # create sum of density matrices of ground states in case ground state is degenerate\n",
    "    ρ_ground_state = 0 \n",
    "    for j in range(len(eigenstates_list)):\n",
    "        ρ_ground_state += (eigenstates_list[j])*(eigenstates_list[j]).dag()\n",
    "\n",
    "    # return normalized ground state\n",
    "    return H_N, H_list, eigenstates, eigenvalues, min_eigenvalue, ρ_ground_state\n",
    "def homogenize_eigenstates(eigenstate_list):\n",
    "    \n",
    "    # convert eigenstate quantum objects to arrays\n",
    "    eigenstate_arrays = np.around([eigenstate.full() for eigenstate in eigenstate_list], decimals=12)\n",
    "    \n",
    "    # if the first nonzero entry is negative in an array, multiply all nonzero\n",
    "    # entries by -1\n",
    "    for eigenstate in eigenstate_arrays: \n",
    "        if eigenstate[np.nonzero(eigenstate)[0][0]] < 0:\n",
    "            nonzero_mask = eigenstate != 0 \n",
    "            eigenstate[nonzero_mask] = -eigenstate[nonzero_mask]\n",
    "            \n",
    "    # sorted list of arrays and convert into quantum objects      \n",
    "    sorted_tuples = sorted(eigenstate_arrays, key=lambda x: tuple(x))\n",
    "    sorted_eigenstates = [Qobj(state) for state in sorted_tuples]\n",
    "    \n",
    "    return sorted_eigenstates"
   ]
  },
  {
   "cell_type": "markdown",
   "id": "ed4dbd67",
   "metadata": {
    "heading_collapsed": true
   },
   "source": [
    "# $\\text{N = 2}$"
   ]
  },
  {
   "cell_type": "markdown",
   "id": "2f2eb678",
   "metadata": {
    "hidden": true
   },
   "source": [
    "## $\\hat{H}_2 = X_1 X_2 + Y_1 Y_2 + \\lambda Z_1 Z_2 $"
   ]
  },
  {
   "cell_type": "code",
   "execution_count": 3,
   "id": "6f439293",
   "metadata": {
    "hidden": true
   },
   "outputs": [
    {
     "name": "stdout",
     "output_type": "stream",
     "text": [
      "0.010531187057495117 seconds\n"
     ]
    }
   ],
   "source": [
    "# specify parameters of 2-site spin chain\n",
    "N = 2\n",
    "Jx = 1\n",
    "Jy = 1\n",
    "Jz = 1\n",
    "periodic_bc = False\n",
    "tolerance = 1e-12\n",
    "\n",
    "# calculate spin chain quantities\n",
    "start_time = time.time()\n",
    "H2, H2_list, eigenstates2, eigenvalues2, min_eigenvalue2, ρ_ground_state2 = quantities(N, Jx, Jy, Jz, tolerance)\n",
    "print(\"%s seconds\" % (time.time() - start_time))"
   ]
  },
  {
   "cell_type": "markdown",
   "id": "76f37ba0",
   "metadata": {
    "hidden": true
   },
   "source": [
    "## $\\text{Matrix Product States for } \\hat{H}_2 $"
   ]
  },
  {
   "cell_type": "code",
   "execution_count": 4,
   "id": "2b4d0a86",
   "metadata": {
    "hidden": true
   },
   "outputs": [
    {
     "data": {
      "text/latex": [
       "Quantum object: dims = [[4], [4]], shape = (4, 4), type = oper, isherm = False $ \\\\ \\left(\\begin{matrix}0.0 & 0.0 & 0.0 & 1.0\\\\-0.707 & 0.0 & 0.707 & 0.0\\\\0.707 & 0.0 & 0.707 & 0.0\\\\0.0 & 1.0 & 0.0 & 0.0\\\\\\end{matrix}\\right)$"
      ],
      "text/plain": [
       "Quantum object: dims = [[4], [4]], shape = (4, 4), type = oper, isherm = False\n",
       "Qobj data =\n",
       "[[ 0.          0.          0.          1.        ]\n",
       " [-0.70710678  0.          0.70710678  0.        ]\n",
       " [ 0.70710678  0.          0.70710678  0.        ]\n",
       " [ 0.          1.          0.          0.        ]]"
      ]
     },
     "metadata": {},
     "output_type": "display_data"
    },
    {
     "data": {
      "text/plain": [
       "array([-3.,  1.,  1.,  1.])"
      ]
     },
     "metadata": {},
     "output_type": "display_data"
    }
   ],
   "source": [
    "# define singlet and triplet states\n",
    "S = eigenstates2[0]\n",
    "T0 = eigenstates2[3]\n",
    "Tn1 = eigenstates2[2]\n",
    "T1 = eigenstates2[1]\n",
    "\n",
    "# create basis of singlets and triplets\n",
    "ST_basis = [S, Tn1, T0, T1]\n",
    "\n",
    "# create matrix with S, Tn1, T0 and T1 as column vectors \n",
    "ST_matrix = Qobj(np.hstack([eigenstate.full() for eigenstate in ST_basis]))\n",
    "display(ST_matrix)\n",
    "\n",
    "# eigenvalues for 2-site spin chain\n",
    "display(eigenvalues2)"
   ]
  },
  {
   "cell_type": "markdown",
   "id": "22bbda25",
   "metadata": {
    "heading_collapsed": true
   },
   "source": [
    "# $\\text{N=4}$"
   ]
  },
  {
   "cell_type": "markdown",
   "id": "eca048b7",
   "metadata": {
    "hidden": true
   },
   "source": [
    "## $\\hat{H}_4 = \\sum_{j = 1}^{4} X_j X_{j+1} + Y_j Y_{j+1} + \\lambda Z_j Z_{j+1} $"
   ]
  },
  {
   "cell_type": "code",
   "execution_count": 5,
   "id": "8698e312",
   "metadata": {
    "code_folding": [],
    "hidden": true
   },
   "outputs": [],
   "source": [
    "# specify parameters of spin chain \n",
    "N = 4\n",
    "Jx = 1\n",
    "Jy = 1\n",
    "Jz = 1\n",
    "periodic_bc = True\n",
    "tolerance = 1e-12\n",
    "\n",
    "# calculate spin chain quantities\n",
    "start_time = time.time()\n",
    "H4, H4_list, eigenstates4, eigenvalues4, min_eigenvalue4, ρ_ground_state4 = quantities(N, Jx, Jy, Jz, tolerance)\n",
    "# print(\"%s seconds\" % (time.time() - start_time))"
   ]
  },
  {
   "cell_type": "code",
   "execution_count": 6,
   "id": "22f6b1ac",
   "metadata": {
    "code_folding": [],
    "hidden": true,
    "scrolled": false
   },
   "outputs": [
    {
     "data": {
      "text/plain": [
       "True"
      ]
     },
     "execution_count": 6,
     "metadata": {},
     "output_type": "execute_result"
    }
   ],
   "source": [
    "# collect the lists of Hamiltonians for blue and red bonds  \n",
    "H_blue_list4 = H4_list[::2]\n",
    "H_red_list4 = H4_list[1::2]\n",
    "\n",
    "# diagonlize blue and red bonds so as to find the eigenvectors and associated eigenstates \n",
    "# for each blue and red bonds\n",
    "blue_eigvals_array4, blue_eigvecs_list4 = simdiag(H_blue_list4)\n",
    "red_eigvals_array4, red_eigvecs_list4 = simdiag(H_red_list4)\n",
    "\n",
    "# calculate lists of blue and red Hamiltonians using spectral decomposition\n",
    "H_blue_reconstructed4 = [sum([λ*vec*vec.dag() for λ, vec in zip(blue_eigvals_array4[i], blue_eigvecs_list4)]) \\\n",
    "                        for i in range(int(N/2))]\n",
    "H_red_reconstructed4 = [sum([λ*vec*vec.dag() for λ, vec in zip(red_eigvals_array4[i], red_eigvecs_list4)]) \\\n",
    "                       for i in range(int(N/2))]\n",
    "\n",
    "# ensure we can reconstructed H_blue and H_red through spectral decomposition\n",
    "H_tot_bool4 = []\n",
    "for Hb1, Hb2, Hr1, Hr2 in zip(H_blue_list4, H_blue_reconstructed4, H_red_list4, H_red_reconstructed4):\n",
    "    H_tot_bool4.append(Hb1 == Hb2)\n",
    "    H_tot_bool4.append(Hr1 == Hr2)\n",
    "all(H_tot_bool4)"
   ]
  },
  {
   "cell_type": "code",
   "execution_count": 7,
   "id": "afd06ae8",
   "metadata": {
    "code_folding": [],
    "hidden": true
   },
   "outputs": [
    {
     "data": {
      "text/plain": [
       "True"
      ]
     },
     "execution_count": 7,
     "metadata": {},
     "output_type": "execute_result"
    }
   ],
   "source": [
    "# collect all eigenvalue lists so that eigvals_array[j] contains the lists of eigenvalues\n",
    "# for the jth spin operator\n",
    "eigvals_array4 = np.concatenate((blue_eigvals_array4, red_eigvals_array4))\n",
    "eigvals_array4[::2] = blue_eigvals_array4\n",
    "eigvals_array4[1::2] = red_eigvals_array4\n",
    "\n",
    "# verify that we have successfully interleaved the eigenvalues \n",
    "# of blue and red bonds to construct eigvals_array\n",
    "eigvals_tot_bool4 = []\n",
    "for eigval_b1, eigval_b2, eigval_r1, eigval_r2 in zip(eigvals_array4[::2], blue_eigvals_array4, \\\n",
    "                                                      eigvals_array4[1::2], red_eigvals_array4):\n",
    "    eigvals_tot_bool4.append(eigval_b1 == eigval_b2)\n",
    "    eigvals_tot_bool4.append(eigval_r1 == eigval_r2)\n",
    "\n",
    "all(np.concatenate(eigvals_tot_bool4))"
   ]
  },
  {
   "cell_type": "markdown",
   "id": "aacc8946",
   "metadata": {
    "hidden": true
   },
   "source": [
    "## $ \\text{Matrix Product States for } \\hat{H}_4$"
   ]
  },
  {
   "cell_type": "code",
   "execution_count": 8,
   "id": "41495966",
   "metadata": {
    "hidden": true
   },
   "outputs": [
    {
     "data": {
      "text/plain": [
       "True"
      ]
     },
     "metadata": {},
     "output_type": "display_data"
    },
    {
     "data": {
      "text/plain": [
       "True"
      ]
     },
     "execution_count": 8,
     "metadata": {},
     "output_type": "execute_result"
    }
   ],
   "source": [
    "# define local Hamiltonians generated from custom function \n",
    "H12 = H4_list[0]\n",
    "H23 = H4_list[1]\n",
    "H34 = H4_list[2]\n",
    "H41 = H4_list[3]\n",
    "\n",
    "# define local Hamiltonians that are constructed manually\n",
    "H12_constructed = tensor(σ_x, σ_x, I2, I2) + tensor(σ_y, σ_y, I2, I2) + tensor(σ_z, σ_z, I2, I2)\n",
    "H23_constructed = tensor(I2, σ_x, σ_x, I2) + tensor(I2, σ_y, σ_y, I2) + tensor(I2, σ_z, σ_z, I2)\n",
    "H34_constructed = tensor(I2, I2, σ_x, σ_x) + tensor(I2, I2, σ_y, σ_y) + tensor(I2, I2, σ_z, σ_z)\n",
    "H41_constructed = tensor(σ_x, I2, I2, σ_x) + tensor(σ_y, I2, I2, σ_y) + tensor(σ_z, I2, I2, σ_z)\n",
    "\n",
    "# define operator that swaps the qubits with indices 2 and 4 for a four qubit state, i.e.\n",
    "# SWAP_24|abcd> = |adcb>\n",
    "H24 = tensor(I2, σ_x, I2, σ_x) + tensor(I2, σ_y, I2, σ_y) + tensor(I2, σ_z, I2, σ_z)\n",
    "display(H24 == tensor([I2, σ_x]*2) + tensor([I2, σ_y]*2) + tensor([I2, σ_z]*2))\n",
    "SWAP_24_composite = Qobj((H24 + I16)/2)\n",
    "SWAP_24 = Qobj((H24 + I16)/2, dims = [[16], [16]])\n",
    "\n",
    "# verify that generated and constructed Hamiltonians are equivalenet\n",
    "H_constructed = [H12_constructed, H23_constructed, H34_constructed, H41_constructed]\n",
    "H4_list == H_constructed"
   ]
  },
  {
   "cell_type": "code",
   "execution_count": 10,
   "id": "c483da1e",
   "metadata": {
    "hidden": true
   },
   "outputs": [
    {
     "data": {
      "text/plain": [
       "True"
      ]
     },
     "metadata": {},
     "output_type": "display_data"
    },
    {
     "data": {
      "text/plain": [
       "True"
      ]
     },
     "metadata": {},
     "output_type": "display_data"
    }
   ],
   "source": [
    "# compute matrix product state for blue bonds \n",
    "blue_mps_basis4 = [Qobj(eigvec) for eigvec in np.kron(ST_basis, ST_basis)]\n",
    "red_mps_basis4 = [SWAP_24(Qobj(eigvec)) for eigvec in np.kron(ST_basis, ST_basis)]\n",
    "\n",
    "# show equality between eigenstates generated by simdiag and matrix product state\n",
    "blue_eigvecs_sorted4 = homogenize_eigenstates(blue_eigvecs_list4)\n",
    "blue_mps_sorted4 = homogenize_eigenstates(blue_mps_basis4)\n",
    "display(blue_eigvecs_sorted4 == blue_mps_sorted4)\n",
    "\n",
    "# show equality between eigenstates generated by simdiag and matrix product state\n",
    "red_eigvecs_sorted4 = homogenize_eigenstates(red_eigvecs_list4)\n",
    "red_mps_sorted4 = homogenize_eigenstates(red_mps_basis4)\n",
    "display(red_eigvecs_sorted4 == red_mps_sorted4)"
   ]
  },
  {
   "cell_type": "code",
   "execution_count": 11,
   "id": "6e5b73b9",
   "metadata": {
    "hidden": true
   },
   "outputs": [
    {
     "data": {
      "text/plain": [
       "True"
      ]
     },
     "execution_count": 11,
     "metadata": {},
     "output_type": "execute_result"
    }
   ],
   "source": [
    "# alternative way to compute the Kronecker product for two lists of the singlet-triplet basis vectors\n",
    "N = 4\n",
    "np.array_equal(np.kron(ST_basis, ST_basis), reduce(np.kron, [ST_basis]*(int(N/2))))"
   ]
  },
  {
   "cell_type": "code",
   "execution_count": 12,
   "id": "85423a03",
   "metadata": {
    "hidden": true
   },
   "outputs": [
    {
     "data": {
      "text/plain": [
       "True"
      ]
     },
     "metadata": {},
     "output_type": "display_data"
    },
    {
     "data": {
      "text/plain": [
       "True"
      ]
     },
     "metadata": {},
     "output_type": "display_data"
    }
   ],
   "source": [
    "# transformation from one local Hamiltonian to another \n",
    "display(SWAP_24_composite.dag()*H41*SWAP_24_composite == H12)\n",
    "display(SWAP_24_composite.dag()*H23*SWAP_24_composite == H34)"
   ]
  },
  {
   "cell_type": "markdown",
   "id": "5ea240e9",
   "metadata": {
    "heading_collapsed": true
   },
   "source": [
    "# $\\text{Ordered list of spectrum for local Hamiltonians of } \\hat{H}_4$"
   ]
  },
  {
   "cell_type": "code",
   "execution_count": 13,
   "id": "d18bfd77",
   "metadata": {
    "hidden": true
   },
   "outputs": [
    {
     "name": "stdout",
     "output_type": "stream",
     "text": [
      "Eigenvalues:[-3. -3. -3. -3.  1.  1.  1.  1.  1.  1.  1.  1.  1.  1.  1.  1.]\n"
     ]
    },
    {
     "data": {
      "text/plain": [
       "True"
      ]
     },
     "execution_count": 13,
     "metadata": {},
     "output_type": "execute_result"
    }
   ],
   "source": [
    "# specify number of sites and index of the Hamiltonian \n",
    "N = 4\n",
    "index = 1 \n",
    "\n",
    "# compute spectrum from tensor products of index 1 to i \n",
    "H12_spectrum_1i = np.tile(eigenvalues2, 2**(index -1))\n",
    "#display(H12_spectrum_1i)\n",
    "\n",
    "# compute spectrum of tensor products of inex 1 to N, i.e., the full spectrum\n",
    "H12_spectrum_1N = np.repeat(H12_spectrum_1i, np.ceil(2**(N - index - 1)))\n",
    "print('Eigenvalues:' + str(H12_spectrum_1N))\n",
    "\n",
    "# compute H12 from matrix product state basis\n",
    "tolerance = 1e-12\n",
    "H12_mps = sum([λ*vec*vec.dag() for λ, vec in zip(H12_spectrum_1N, blue_mps_basis4)])\n",
    "np.allclose(H12, H12_mps, atol= tolerance)"
   ]
  },
  {
   "cell_type": "code",
   "execution_count": 14,
   "id": "4ad5cad6",
   "metadata": {
    "hidden": true
   },
   "outputs": [
    {
     "data": {
      "text/plain": [
       "array([-3.,  1.,  1.,  1., -3.,  1.,  1.,  1., -3.,  1.,  1.,  1., -3.,\n",
       "        1.,  1.,  1.])"
      ]
     },
     "metadata": {},
     "output_type": "display_data"
    },
    {
     "data": {
      "text/plain": [
       "True"
      ]
     },
     "execution_count": 14,
     "metadata": {},
     "output_type": "execute_result"
    }
   ],
   "source": [
    "# specify index of the Hamiltonian \n",
    "index = 3 \n",
    "\n",
    "# compute spectrum from tensor products of index 1 to i \n",
    "H34_spectrum_1i = np.tile(eigenvalues2, 2**(index-1))\n",
    "# display(H34_spectrum_1i)\n",
    "\n",
    "# compute spectrum of tensor products of inex 1 to N, i.e., the full spectrum\n",
    "H34_spectrum_1N = np.repeat(H34_spectrum_1i, np.ceil(2**(N - index - 1)))\n",
    "display(H34_spectrum_1N)\n",
    "\n",
    "tolerance = 1e-12\n",
    "H34_mps = sum([λ*vec*vec.dag() for λ, vec in zip(H34_spectrum_1N, blue_mps_basis4)])\n",
    "np.allclose(H34, H34_mps, atol=tolerance)"
   ]
  },
  {
   "cell_type": "code",
   "execution_count": 15,
   "id": "8463d98d",
   "metadata": {
    "hidden": true
   },
   "outputs": [
    {
     "data": {
      "text/plain": [
       "True"
      ]
     },
     "execution_count": 15,
     "metadata": {},
     "output_type": "execute_result"
    }
   ],
   "source": [
    "# specify index of the Hamiltonian \n",
    "index = 2 \n",
    "\n",
    "# compute H23 from matrix product state basis\n",
    "tolerance = 1e-12\n",
    "H23_mps = sum([λ*vec*vec.dag() for λ, vec in zip(H34_spectrum_1N, red_mps_basis4)])\n",
    "np.allclose(H23, H23_mps, atol= tolerance)"
   ]
  },
  {
   "cell_type": "code",
   "execution_count": 16,
   "id": "89e68fbd",
   "metadata": {
    "hidden": true
   },
   "outputs": [
    {
     "data": {
      "text/plain": [
       "True"
      ]
     },
     "execution_count": 16,
     "metadata": {},
     "output_type": "execute_result"
    }
   ],
   "source": [
    "# specify index of the Hamiltonian \n",
    "index = 4\n",
    "\n",
    "# compute H41 from matrix product state basis\n",
    "tolerance = 1e-12\n",
    "H41_mps = sum([λ*vec*vec.dag() for λ, vec in zip(H12_spectrum_1N, red_mps_basis4)])\n",
    "np.allclose(H41, H41_mps, atol= tolerance)"
   ]
  },
  {
   "cell_type": "code",
   "execution_count": null,
   "id": "5500ec82",
   "metadata": {
    "hidden": true
   },
   "outputs": [],
   "source": []
  },
  {
   "cell_type": "code",
   "execution_count": null,
   "id": "92fa5101",
   "metadata": {
    "hidden": true
   },
   "outputs": [],
   "source": []
  },
  {
   "cell_type": "markdown",
   "id": "b693ed7e",
   "metadata": {},
   "source": [
    "# $\\text{N=6}$"
   ]
  },
  {
   "cell_type": "markdown",
   "id": "6d2a0a63",
   "metadata": {},
   "source": [
    "## $\\hat{H}_6 = \\sum_{j = 1}^{6} X_j X_{j+1} + Y_j Y_{j+1} + \\lambda Z_j Z_{j+1} $"
   ]
  },
  {
   "cell_type": "code",
   "execution_count": 29,
   "id": "04c397f7",
   "metadata": {
    "code_folding": []
   },
   "outputs": [],
   "source": [
    "# specify parameters of spin chain \n",
    "N = 6\n",
    "Jx = 1\n",
    "Jy = 1\n",
    "Jz = 1\n",
    "periodic_bc = True\n",
    "tolerance = 1e-12\n",
    "\n",
    "# calculate spin chain quantities\n",
    "start_time = time.time()\n",
    "H6, H6_list, eigenstates6, eigenvalues6, min_eigenvalue6, ρ_ground_state6 = quantities(N, Jx, Jy, Jz, tolerance)\n",
    "# print(\"%s seconds\" % (time.time() - start_time))"
   ]
  },
  {
   "cell_type": "code",
   "execution_count": 30,
   "id": "c2a4f8c2",
   "metadata": {
    "code_folding": [],
    "scrolled": false
   },
   "outputs": [
    {
     "data": {
      "text/plain": [
       "True"
      ]
     },
     "execution_count": 30,
     "metadata": {},
     "output_type": "execute_result"
    }
   ],
   "source": [
    "# collect the lists of Hamiltonians for blue and red bonds  \n",
    "H_blue_list6 = H6_list[::2]\n",
    "H_red_list6 = H6_list[1::2]\n",
    "\n",
    "# diagonlize blue and red bonds so as to find the eigenvectors and associated eigenstates \n",
    "# for each blue and red bonds\n",
    "blue_eigvals_array6, blue_eigvecs_list6 = simdiag(H_blue_list6)\n",
    "red_eigvals_array6, red_eigvecs_list6 = simdiag(H_red_list6)\n",
    "\n",
    "# calculate lists of blue and red Hamiltonians using spectral decomposition\n",
    "H_blue_reconstructed6 = [sum([λ*vec*vec.dag() for λ, vec in zip(blue_eigvals_array6[i], blue_eigvecs_list6)]) \\\n",
    "                        for i in range(int(N/2))]\n",
    "H_red_reconstructed6 = [sum([λ*vec*vec.dag() for λ, vec in zip(red_eigvals_array6[i], red_eigvecs_list6)]) \\\n",
    "                       for i in range(int(N/2))]\n",
    "\n",
    "# ensure we can reconstructed H_blue and H_red through spectral decomposition\n",
    "H_tot_bool6 = []\n",
    "for Hb1, Hb2, Hr1, Hr2 in zip(H_blue_list6, H_blue_reconstructed6, H_red_list6, H_red_reconstructed6):\n",
    "    H_tot_bool6.append(Hb1 == Hb2)\n",
    "    H_tot_bool6.append(Hr1 == Hr2)\n",
    "all(H_tot_bool6)"
   ]
  },
  {
   "cell_type": "code",
   "execution_count": 31,
   "id": "a266b433",
   "metadata": {
    "code_folding": []
   },
   "outputs": [
    {
     "data": {
      "text/plain": [
       "True"
      ]
     },
     "execution_count": 31,
     "metadata": {},
     "output_type": "execute_result"
    }
   ],
   "source": [
    "# collect all eigenvalue lists so that eigvals_array[j] contains the lists of eigenvalues\n",
    "# for the jth spin operator\n",
    "eigvals_array6 = np.concatenate((blue_eigvals_array6, red_eigvals_array6))\n",
    "eigvals_array6[::2] = blue_eigvals_array6\n",
    "eigvals_array6[1::2] = red_eigvals_array6\n",
    "\n",
    "# verify that we have successfully interleaved the eigenvalues \n",
    "# of blue and red bonds to construct eigvals_array\n",
    "eigvals_tot_bool6 = []\n",
    "for eigval_b1, eigval_b2, eigval_r1, eigval_r2 in zip(eigvals_array6[::2], blue_eigvals_array6, \\\n",
    "                                                      eigvals_array6[1::2], red_eigvals_array6):\n",
    "    eigvals_tot_bool6.append(eigval_b1 == eigval_b2)\n",
    "    eigvals_tot_bool6.append(eigval_r1 == eigval_r2)\n",
    "\n",
    "all(np.concatenate(eigvals_tot_bool6))"
   ]
  },
  {
   "cell_type": "markdown",
   "id": "c4737001",
   "metadata": {
    "heading_collapsed": true
   },
   "source": [
    "## $ \\text{Matrix Product States for } \\hat{H}_6$"
   ]
  },
  {
   "cell_type": "code",
   "execution_count": 20,
   "id": "b49216a8",
   "metadata": {
    "hidden": true
   },
   "outputs": [],
   "source": [
    "N = 6\n",
    "blue_mps_basis6 = [Qobj(eigvec) for eigvec in reduce(np.kron, [ST_basis]*(int(N/2)))]"
   ]
  },
  {
   "cell_type": "code",
   "execution_count": 21,
   "id": "5097b0f9",
   "metadata": {
    "hidden": true
   },
   "outputs": [
    {
     "data": {
      "text/plain": [
       "True"
      ]
     },
     "metadata": {},
     "output_type": "display_data"
    }
   ],
   "source": [
    "blue_mps_sorted6 = homogenize_eigenstates(blue_mps_basis6)\n",
    "blue_eigvecs_sorted6 = homogenize_eigenstates(blue_eigvecs_list6)\n",
    "display(blue_eigvecs_sorted6 == blue_mps_sorted6)"
   ]
  },
  {
   "cell_type": "code",
   "execution_count": 22,
   "id": "fd8a4c96",
   "metadata": {
    "hidden": true
   },
   "outputs": [
    {
     "data": {
      "text/plain": [
       "True"
      ]
     },
     "execution_count": 22,
     "metadata": {},
     "output_type": "execute_result"
    }
   ],
   "source": [
    "# define H26\n",
    "H26 = tensor(I2, σ_x, I2, I2, I2, σ_x) + \\\n",
    "      tensor(I2, σ_y, I2, I2, I2, σ_y) + \\\n",
    "      tensor(I2, σ_z, I2, I2, I2, σ_z)\n",
    "\n",
    "# define number of sites and indices where we desire σ_x\n",
    "N = 6\n",
    "site1 = 2\n",
    "site2 = 6\n",
    "\n",
    "# define list of identity operators and where we desire Pauli operators\n",
    "op_list = [qeye(2)]*N\n",
    "op_list[site1 - 1] = σ_x\n",
    "op_list[site2 - 1] = σ_x\n",
    "HX26 = tensor(op_list)\n",
    "op_list[site1 - 1] = σ_y\n",
    "op_list[site2 - 1] = σ_y\n",
    "HY26 = tensor(op_list)\n",
    "op_list[site1 - 1] = σ_z\n",
    "op_list[site2 - 1] = σ_z\n",
    "HZ26 = tensor(op_list) \n",
    "H26_constructed = HX26 + HY26 + HZ26\n",
    "H26 == H26_constructed"
   ]
  },
  {
   "cell_type": "code",
   "execution_count": 23,
   "id": "e38ccaec",
   "metadata": {
    "hidden": true
   },
   "outputs": [
    {
     "data": {
      "text/plain": [
       "True"
      ]
     },
     "execution_count": 23,
     "metadata": {},
     "output_type": "execute_result"
    }
   ],
   "source": [
    "# define H35\n",
    "H35 = tensor(I2, I2, σ_x, I2, σ_x, I2) + \\\n",
    "      tensor(I2, I2, σ_y, I2, σ_y, I2) + \\\n",
    "      tensor(I2, I2, σ_z, I2, σ_z, I2)\n",
    "\n",
    "# define number of sites and indices where we desire Pauli operators\n",
    "N = 6\n",
    "site1 = 3\n",
    "site2 = 5\n",
    "\n",
    "# define list of identity operators and where you want our σ_x to be\n",
    "op_list = [qeye(2)]*N\n",
    "op_list[site1 - 1] = σ_x\n",
    "op_list[site2 - 1] = σ_x\n",
    "HX35 = tensor(op_list)\n",
    "op_list[site1 - 1] = σ_y\n",
    "op_list[site2 - 1] = σ_y\n",
    "HY35 = tensor(op_list)\n",
    "op_list[site1 - 1] = σ_z\n",
    "op_list[site2 - 1] = σ_z\n",
    "HZ35 = tensor(op_list)\n",
    "H35_constructed = HX35 + HY35 + HZ35\n",
    "H35 == H35_constructed"
   ]
  },
  {
   "cell_type": "code",
   "execution_count": 24,
   "id": "4e3308d7",
   "metadata": {
    "hidden": true
   },
   "outputs": [],
   "source": [
    "# define operator that swaps sites 2 and 6 as well as 3 and 5\n",
    "I64 = tensor([qeye(2)]*6)\n",
    "SWAP_26_35 = Qobj(((H26 + I64)/2)*(H35 + I64)/2, dims = [[64], [64]])"
   ]
  },
  {
   "cell_type": "code",
   "execution_count": 25,
   "id": "544089e6",
   "metadata": {
    "hidden": true
   },
   "outputs": [],
   "source": [
    "# compute matrix product state for blue bonds \n",
    "N = 6\n",
    "blue_mps_basis6 = [Qobj(eigvec) for eigvec in reduce(np.kron, [ST_basis]*(int(N/2)))]\n",
    "red_mps_basis6 = [SWAP_26_35(Qobj(eigvec)) for eigvec in reduce(np.kron, [ST_basis]*(int(N/2)))]"
   ]
  },
  {
   "cell_type": "code",
   "execution_count": 26,
   "id": "bc29ee00",
   "metadata": {
    "hidden": true
   },
   "outputs": [
    {
     "data": {
      "text/plain": [
       "True"
      ]
     },
     "metadata": {},
     "output_type": "display_data"
    }
   ],
   "source": [
    "blue_mps_sorted6 = homogenize_eigenstates(blue_mps_basis6)\n",
    "blue_eigvecs_sorted6 = homogenize_eigenstates(blue_eigvecs_list6)\n",
    "display(blue_eigvecs_sorted6 == blue_mps_sorted6)"
   ]
  },
  {
   "cell_type": "code",
   "execution_count": 27,
   "id": "89e6fbe5",
   "metadata": {
    "hidden": true
   },
   "outputs": [
    {
     "data": {
      "text/plain": [
       "True"
      ]
     },
     "metadata": {},
     "output_type": "display_data"
    }
   ],
   "source": [
    "red_mps_sorted6 = homogenize_eigenstates(red_mps_basis6)\n",
    "red_eigvecs_sorted6 = homogenize_eigenstates(red_eigvecs_list6)\n",
    "display(red_eigvecs_sorted6 == red_mps_sorted6)"
   ]
  },
  {
   "cell_type": "code",
   "execution_count": null,
   "id": "4fc474d3",
   "metadata": {
    "hidden": true
   },
   "outputs": [],
   "source": [
    "N = 8\n",
    "[(2 + i, N - i) for i in range(0, int(N/2) - 1)]"
   ]
  },
  {
   "cell_type": "code",
   "execution_count": null,
   "id": "e59d733b",
   "metadata": {
    "hidden": true
   },
   "outputs": [],
   "source": []
  },
  {
   "cell_type": "code",
   "execution_count": null,
   "id": "cec66db3",
   "metadata": {
    "hidden": true
   },
   "outputs": [],
   "source": []
  },
  {
   "cell_type": "code",
   "execution_count": null,
   "id": "95d31dac",
   "metadata": {
    "hidden": true
   },
   "outputs": [],
   "source": []
  },
  {
   "cell_type": "code",
   "execution_count": null,
   "id": "81f74b45",
   "metadata": {
    "hidden": true
   },
   "outputs": [],
   "source": []
  },
  {
   "cell_type": "code",
   "execution_count": null,
   "id": "cf30fd31",
   "metadata": {
    "hidden": true
   },
   "outputs": [],
   "source": []
  },
  {
   "cell_type": "markdown",
   "id": "f600cc8a",
   "metadata": {
    "heading_collapsed": true
   },
   "source": [
    "# $ N = 8 $"
   ]
  },
  {
   "cell_type": "markdown",
   "id": "489a952f",
   "metadata": {
    "hidden": true
   },
   "source": [
    "## $\\hat{H}_8 = \\sum_{j = 1}^{8} X_j X_{j+1} + Y_j Y_{j+1} + \\lambda Z_j Z_{j+1} $"
   ]
  },
  {
   "cell_type": "code",
   "execution_count": 39,
   "id": "ae21cd34",
   "metadata": {
    "code_folding": [],
    "hidden": true
   },
   "outputs": [],
   "source": [
    "# specify parameters of spin chain \n",
    "N = 8\n",
    "Jx = 1\n",
    "Jy = 1\n",
    "Jz = 1\n",
    "periodic_bc = True\n",
    "tolerance = 1e-12\n",
    "\n",
    "# calculate spin chain quantities\n",
    "start_time = time.time()\n",
    "H8, H8_list, eigenstates8, eigenvalues8, min_eigenvalue8, ρ_ground_state8 = quantities(N, Jx, Jy, Jz, tolerance)\n",
    "# print(\"%s seconds\" % (time.time() - start_time))"
   ]
  },
  {
   "cell_type": "code",
   "execution_count": 40,
   "id": "b74bc90e",
   "metadata": {
    "code_folding": [],
    "hidden": true,
    "scrolled": false
   },
   "outputs": [
    {
     "data": {
      "text/plain": [
       "True"
      ]
     },
     "execution_count": 40,
     "metadata": {},
     "output_type": "execute_result"
    }
   ],
   "source": [
    "# collect the lists of Hamiltonians for blue and red bonds  \n",
    "H_blue_list8 = H8_list[::2]\n",
    "H_red_list8 = H8_list[1::2]\n",
    "\n",
    "# diagonlize blue and red bonds so as to find the eigenvectors and associated eigenstates \n",
    "# for each blue and red bonds\n",
    "blue_eigvals_array8, blue_eigvecs_list8 = simdiag(H_blue_list8)\n",
    "red_eigvals_array8, red_eigvecs_list8 = simdiag(H_red_list8)\n",
    "\n",
    "# calculate lists of blue and red Hamiltonians using spectral decomposition\n",
    "H_blue_reconstructed8 = [sum([λ*vec*vec.dag() for λ, vec in zip(blue_eigvals_array8[i], blue_eigvecs_list8)]) \\\n",
    "                        for i in range(int(N/2))]\n",
    "H_red_reconstructed8 = [sum([λ*vec*vec.dag() for λ, vec in zip(red_eigvals_array8[i], red_eigvecs_list8)]) \\\n",
    "                       for i in range(int(N/2))]\n",
    "\n",
    "# ensure we can reconstructed H_blue and H_red through spectral decomposition\n",
    "H_tot_bool8 = []\n",
    "for Hb1, Hb2, Hr1, Hr2 in zip(H_blue_list8, H_blue_reconstructed8, H_red_list8, H_red_reconstructed8):\n",
    "    H_tot_bool8.append(Hb1 == Hb2)\n",
    "    H_tot_bool8.append(Hr1 == Hr2)\n",
    "all(H_tot_bool8)"
   ]
  },
  {
   "cell_type": "code",
   "execution_count": 41,
   "id": "246a98ee",
   "metadata": {
    "code_folding": [],
    "hidden": true
   },
   "outputs": [
    {
     "data": {
      "text/plain": [
       "True"
      ]
     },
     "execution_count": 41,
     "metadata": {},
     "output_type": "execute_result"
    }
   ],
   "source": [
    "# collect all eigenvalue lists so that eigvals_array[j] contains the lists of eigenvalues\n",
    "# for the jth spin operator\n",
    "eigvals_array8 = np.concatenate((blue_eigvals_array8, red_eigvals_array8))\n",
    "eigvals_array8[::2] = blue_eigvals_array8\n",
    "eigvals_array8[1::2] = red_eigvals_array8\n",
    "\n",
    "# verify that we have successfully interleaved the eigenvalues \n",
    "# of blue and red bonds to construct eigvals_array\n",
    "eigvals_tot_bool8 = []\n",
    "for eigval_b1, eigval_b2, eigval_r1, eigval_r2 in zip(eigvals_array8[::2], blue_eigvals_array8, \\\n",
    "                                                      eigvals_array8[1::2], red_eigvals_array8):\n",
    "    eigvals_tot_bool8.append(eigval_b1 == eigval_b2)\n",
    "    eigvals_tot_bool8.append(eigval_r1 == eigval_r2)\n",
    "\n",
    "all(np.concatenate(eigvals_tot_bool8))"
   ]
  },
  {
   "cell_type": "markdown",
   "id": "7c8dc547",
   "metadata": {
    "hidden": true
   },
   "source": [
    "## $ \\text{Matrix Product States for } \\hat{H}_8 $"
   ]
  },
  {
   "cell_type": "code",
   "execution_count": 47,
   "id": "f7a6dd42",
   "metadata": {
    "hidden": true
   },
   "outputs": [],
   "source": [
    "N = 8\n",
    "blue_mps_basis8 = [Qobj(eigvec) for eigvec in reduce(np.kron, [ST_basis]*(int(N/2)))]"
   ]
  },
  {
   "cell_type": "code",
   "execution_count": 48,
   "id": "df63a4fe",
   "metadata": {
    "hidden": true
   },
   "outputs": [
    {
     "data": {
      "text/plain": [
       "True"
      ]
     },
     "metadata": {},
     "output_type": "display_data"
    }
   ],
   "source": [
    "blue_mps_sorted8 = homogenize_eigenstates(blue_mps_basis8)\n",
    "blue_eigvecs_sorted8 = homogenize_eigenstates(blue_eigvecs_list8)\n",
    "display(blue_eigvecs_sorted8 == blue_mps_sorted8)"
   ]
  },
  {
   "cell_type": "code",
   "execution_count": 51,
   "id": "b168c8bb",
   "metadata": {
    "hidden": true
   },
   "outputs": [],
   "source": [
    "# define H28\n",
    "H28 = tensor(I2, σ_x, I2, I2, I2, I2, I2, σ_x) + \\\n",
    "      tensor(I2, σ_y, I2, I2, I2, I2, I2, σ_y) + \\\n",
    "      tensor(I2, σ_z, I2, I2, I2, I2, I2, σ_z) \n",
    "\n",
    "# define number of sites and indices where we desire σ_x\n",
    "N = 8\n",
    "site1 = 2\n",
    "site2 = 8\n",
    "\n",
    "# define list of identity operators and where we desire Pauli operators\n",
    "op_list = [qeye(2)]*N\n",
    "op_list[site1 - 1] = σ_x\n",
    "op_list[site2 - 1] = σ_x\n",
    "HX28 = tensor(op_list)\n",
    "op_list[site1 - 1] = σ_y\n",
    "op_list[site2 - 1] = σ_y\n",
    "HY28 = tensor(op_list)\n",
    "op_list[site1 - 1] = σ_z\n",
    "op_list[site2 - 1] = σ_z\n",
    "HZ28 = tensor(op_list) \n",
    "H28_constructed = HX28 + HY28 + HZ28\n",
    "H28 == H28_constructed"
   ]
  },
  {
   "cell_type": "code",
   "execution_count": 55,
   "id": "f1cf6b9c",
   "metadata": {
    "hidden": true
   },
   "outputs": [
    {
     "data": {
      "text/plain": [
       "True"
      ]
     },
     "execution_count": 55,
     "metadata": {},
     "output_type": "execute_result"
    }
   ],
   "source": [
    "# define H37\n",
    "H37 = tensor(I2, I2, σ_x, I2, I2, I2, σ_x, I2) + \\\n",
    "      tensor(I2, I2, σ_y, I2, I2, I2, σ_y, I2) + \\\n",
    "      tensor(I2, I2, σ_z, I2, I2, I2, σ_z, I2)\n",
    "\n",
    "# define number of sites and indices where we desire Pauli operators\n",
    "N = 8\n",
    "site1 = 3\n",
    "site2 = 7\n",
    "\n",
    "# define list of identity operators and where you want our σ_x to be\n",
    "op_list = [qeye(2)]*N\n",
    "op_list[site1 - 1] = σ_x\n",
    "op_list[site2 - 1] = σ_x\n",
    "HX37 = tensor(op_list)\n",
    "op_list[site1 - 1] = σ_y\n",
    "op_list[site2 - 1] = σ_y\n",
    "HY37 = tensor(op_list)\n",
    "op_list[site1 - 1] = σ_z\n",
    "op_list[site2 - 1] = σ_z\n",
    "HZ37 = tensor(op_list)\n",
    "H37_constructed = HX37 + HY37 + HZ37\n",
    "H37 == H37_constructed"
   ]
  },
  {
   "cell_type": "code",
   "execution_count": 56,
   "id": "75186623",
   "metadata": {
    "hidden": true
   },
   "outputs": [
    {
     "data": {
      "text/plain": [
       "True"
      ]
     },
     "execution_count": 56,
     "metadata": {},
     "output_type": "execute_result"
    }
   ],
   "source": [
    "# define H46\n",
    "H46 = tensor(I2, I2, I2, σ_x, I2, σ_x, I2, I2) + \\\n",
    "      tensor(I2, I2, I2, σ_y, I2, σ_y, I2, I2) + \\\n",
    "      tensor(I2, I2, I2, σ_z, I2, σ_z, I2, I2)\n",
    "\n",
    "# define number of sites and indices where we desire Pauli operators\n",
    "N = 8\n",
    "site1 = 4\n",
    "site2 = 6\n",
    "\n",
    "# define list of identity operators and where you want our σ_x to be\n",
    "op_list = [qeye(2)]*N\n",
    "op_list[site1 - 1] = σ_x\n",
    "op_list[site2 - 1] = σ_x00\n",
    "HX46 = tensor(op_list)\n",
    "op_list[site1 - 1] = σ_y\n",
    "op_list[site2 - 1] = σ_y\n",
    "HY46 = tensor(op_list)\n",
    "op_list[site1 - 1] = σ_z\n",
    "op_list[site2 - 1] = σ_z\n",
    "HZ46 = tensor(op_list)\n",
    "H46_constructed = HX46 + HY46 + HZ46\n",
    "H46 == H46_constructed"
   ]
  },
  {
   "cell_type": "code",
   "execution_count": 58,
   "id": "b8eb0153",
   "metadata": {
    "hidden": true
   },
   "outputs": [],
   "source": [
    "# define operator that swaps sites 2 and 6 as well as 3 and 7\n",
    "I256 = tensor([qeye(2)]*N)\n",
    "SWAP_28_37_46 = Qobj(((H28 + I128)/2)*((H37 + I128)/2)*((H46 + I128)/2), dims = [[256], [256]])"
   ]
  },
  {
   "cell_type": "code",
   "execution_count": 60,
   "id": "9803ac36",
   "metadata": {
    "hidden": true
   },
   "outputs": [],
   "source": [
    "# compute matrix product state for blue bonds \n",
    "N = 8\n",
    "blue_mps_basis8 = [Qobj(eigvec) for eigvec in reduce(np.kron, [ST_basis]*(int(N/2)))]\n",
    "red_mps_basis8 = [SWAP_28_37_46(Qobj(eigvec)) for eigvec in reduce(np.kron, [ST_basis]*(int(N/2)))]"
   ]
  },
  {
   "cell_type": "code",
   "execution_count": 61,
   "id": "532c9947",
   "metadata": {
    "hidden": true
   },
   "outputs": [
    {
     "data": {
      "text/plain": [
       "True"
      ]
     },
     "metadata": {},
     "output_type": "display_data"
    }
   ],
   "source": [
    "blue_mps_sorted8 = homogenize_eigenstates(blue_mps_basis8)\n",
    "blue_eigvecs_sorted8 = homogenize_eigenstates(blue_eigvecs_list8)\n",
    "display(blue_eigvecs_sorted8 == blue_mps_sorted8)"
   ]
  },
  {
   "cell_type": "code",
   "execution_count": 62,
   "id": "8e78712b",
   "metadata": {
    "hidden": true
   },
   "outputs": [
    {
     "data": {
      "text/plain": [
       "True"
      ]
     },
     "metadata": {},
     "output_type": "display_data"
    }
   ],
   "source": [
    "red_mps_sorted6 = homogenize_eigenstates(red_mps_basis6)\n",
    "red_eigvecs_sorted6 = homogenize_eigenstates(red_eigvecs_list6)\n",
    "display(red_eigvecs_sorted6 == red_mps_sorted6)"
   ]
  },
  {
   "cell_type": "code",
   "execution_count": null,
   "id": "576e21ac",
   "metadata": {
    "hidden": true
   },
   "outputs": [],
   "source": []
  },
  {
   "cell_type": "markdown",
   "id": "ac727313",
   "metadata": {},
   "source": [
    "# $ N = 10$"
   ]
  },
  {
   "cell_type": "markdown",
   "id": "7cd1eb7c",
   "metadata": {},
   "source": [
    "## $\\hat{H}_{10} = \\sum_{j = 1}^{10} X_j X_{j+1} + Y_j Y_{j+1} + \\lambda Z_j Z_{j+1} $"
   ]
  },
  {
   "cell_type": "code",
   "execution_count": 68,
   "id": "8a8a05a5",
   "metadata": {
    "code_folding": []
   },
   "outputs": [],
   "source": [
    "# specify parameters of spin chain \n",
    "N = 10\n",
    "Jx = 1\n",
    "Jy = 1\n",
    "Jz = 1\n",
    "periodic_bc = True\n",
    "tolerance = 1e-12\n",
    "\n",
    "# calculate spin chain quantities\n",
    "start_time = time.time()\n",
    "H10, H10_list, eigenstates10, eigenvalues10, min_eigenvalue10, ρ_ground_state10 = quantities(N, Jx, Jy, Jz, tolerance)\n",
    "# print(\"%s seconds\" % (time.time() - start_time))"
   ]
  },
  {
   "cell_type": "code",
   "execution_count": 69,
   "id": "382fc374",
   "metadata": {
    "code_folding": [],
    "scrolled": false
   },
   "outputs": [
    {
     "data": {
      "text/plain": [
       "True"
      ]
     },
     "execution_count": 69,
     "metadata": {},
     "output_type": "execute_result"
    }
   ],
   "source": [
    "# collect the lists of Hamiltonians for blue and red bonds  \n",
    "H_blue_list10 = H10_list[::2]\n",
    "H_red_list10 = H10_list[1::2]\n",
    "\n",
    "# diagonlize blue and red bonds so as to find the eigenvectors and associated eigenstates \n",
    "# for each blue and red bonds\n",
    "blue_eigvals_array10, blue_eigvecs_list10 = simdiag(H_blue_list10)\n",
    "red_eigvals_array10, red_eigvecs_list10 = simdiag(H_red_list10)\n",
    "\n",
    "# calculate lists of blue and red Hamiltonians using spectral decomposition\n",
    "H_blue_reconstructed10 = [sum([λ*vec*vec.dag() for λ, vec in zip(blue_eigvals_array10[i], blue_eigvecs_list10)]) \\\n",
    "                        for i in range(int(N/2))]\n",
    "H_red_reconstructed10 = [sum([λ*vec*vec.dag() for λ, vec in zip(red_eigvals_array10[i], red_eigvecs_list10)]) \\\n",
    "                       for i in range(int(N/2))]\n",
    "\n",
    "# ensure we can reconstructed H_blue and H_red through spectral decomposition\n",
    "H_tot_bool10 = []\n",
    "for Hb1, Hb2, Hr1, Hr2 in zip(H_blue_list10, H_blue_reconstructed10, H_red_list10, H_red_reconstructed10):\n",
    "    H_tot_bool10.append(Hb1 == Hb2)\n",
    "    H_tot_bool10.append(Hr1 == Hr2)\n",
    "all(H_tot_bool10)"
   ]
  },
  {
   "cell_type": "code",
   "execution_count": 71,
   "id": "737263a2",
   "metadata": {
    "code_folding": []
   },
   "outputs": [
    {
     "data": {
      "text/plain": [
       "True"
      ]
     },
     "execution_count": 71,
     "metadata": {},
     "output_type": "execute_result"
    }
   ],
   "source": [
    "# collect all eigenvalue lists so that eigvals_array[j] contains the lists of eigenvalues\n",
    "# for the jth spin operator\n",
    "eigvals_array10 = np.concatenate((blue_eigvals_array10, red_eigvals_array10))\n",
    "eigvals_array10[::2] = blue_eigvals_array10\n",
    "eigvals_array10[1::2] = red_eigvals_array10\n",
    "\n",
    "# verify that we have successfully interleaved the eigenvalues \n",
    "# of blue and red bonds to construct eigvals_array\n",
    "eigvals_tot_bool10 = []\n",
    "for eigval_b1, eigval_b2, eigval_r1, eigval_r2 in zip(eigvals_array10[::2], blue_eigvals_array10, \\\n",
    "                                                      eigvals_array10[1::2], red_eigvals_array10):\n",
    "    eigvals_tot_bool10.append(eigval_b1 == eigval_b2)\n",
    "    eigvals_tot_bool10.append(eigval_r1 == eigval_r2)\n",
    "\n",
    "all(np.concatenate(eigvals_tot_bool10))"
   ]
  },
  {
   "cell_type": "markdown",
   "id": "fa00c88f",
   "metadata": {},
   "source": [
    "## $ \\text{Matrix Product States for } \\hat{H}_8 $"
   ]
  },
  {
   "cell_type": "code",
   "execution_count": 72,
   "id": "b0c5afd8",
   "metadata": {},
   "outputs": [],
   "source": [
    "N = 10\n",
    "blue_mps_basis10 = [Qobj(eigvec) for eigvec in reduce(np.kron, [ST_basis]*(int(N/2)))]"
   ]
  },
  {
   "cell_type": "code",
   "execution_count": 73,
   "id": "c92ea31d",
   "metadata": {},
   "outputs": [
    {
     "data": {
      "text/plain": [
       "True"
      ]
     },
     "metadata": {},
     "output_type": "display_data"
    }
   ],
   "source": [
    "blue_mps_sorted10 = homogenize_eigenstates(blue_mps_basis10)\n",
    "blue_eigvecs_sorted10 = homogenize_eigenstates(blue_eigvecs_list10)\n",
    "display(blue_eigvecs_sorted10 == blue_mps_sorted10)"
   ]
  },
  {
   "cell_type": "code",
   "execution_count": 76,
   "id": "8d3d6a90",
   "metadata": {},
   "outputs": [],
   "source": [
    "N = 10\n",
    "H_SWAP_indices = [(2 + i, N - i) for i in range(0, int(N/2) - 1)]"
   ]
  },
  {
   "cell_type": "code",
   "execution_count": 77,
   "id": "b0dc24ca",
   "metadata": {},
   "outputs": [
    {
     "data": {
      "text/plain": [
       "[(2, 10), (3, 9), (4, 8), (5, 7)]"
      ]
     },
     "execution_count": 77,
     "metadata": {},
     "output_type": "execute_result"
    }
   ],
   "source": [
    "H_SWAP_indices"
   ]
  },
  {
   "cell_type": "code",
   "execution_count": 78,
   "id": "dbd7e6e5",
   "metadata": {},
   "outputs": [
    {
     "name": "stdout",
     "output_type": "stream",
     "text": [
      "(2, 10)\n",
      "(3, 9)\n",
      "(4, 8)\n",
      "(5, 7)\n"
     ]
    }
   ],
   "source": [
    "for x in H_SWAP_tuples: \n",
    "    print(x)"
   ]
  },
  {
   "cell_type": "code",
   "execution_count": null,
   "id": "5fc4ec22",
   "metadata": {},
   "outputs": [],
   "source": [
    "# define number of sites and indices where we desire σ_x\n",
    "for indices_tuple in H_SWAP_indices\n",
    "    site1 = indices_tuple[0]\n",
    "    site2 = indices_tuple[1]"
   ]
  },
  {
   "cell_type": "code",
   "execution_count": 82,
   "id": "11872953",
   "metadata": {},
   "outputs": [
    {
     "data": {
      "text/plain": [
       "10"
      ]
     },
     "execution_count": 82,
     "metadata": {},
     "output_type": "execute_result"
    }
   ],
   "source": [
    "H_SWAP_indices[0][1]"
   ]
  },
  {
   "cell_type": "code",
   "execution_count": null,
   "id": "fc8ecd76",
   "metadata": {},
   "outputs": [],
   "source": []
  },
  {
   "cell_type": "code",
   "execution_count": null,
   "id": "4904314c",
   "metadata": {},
   "outputs": [],
   "source": []
  },
  {
   "cell_type": "code",
   "execution_count": 51,
   "id": "8877f60b",
   "metadata": {},
   "outputs": [],
   "source": [
    "# define H28\n",
    "H28 = tensor(I2, σ_x, I2, I2, I2, I2, I2, σ_x) + \\\n",
    "      tensor(I2, σ_y, I2, I2, I2, I2, I2, σ_y) + \\\n",
    "      tensor(I2, σ_z, I2, I2, I2, I2, I2, σ_z) \n",
    "\n",
    "# define number of sites and indices where we desire σ_x\n",
    "N = 8\n",
    "site1 = 2\n",
    "site2 = 8\n",
    "\n",
    "# define list of identity operators and where we desire Pauli operators\n",
    "op_list = [qeye(2)]*N\n",
    "op_list[site1 - 1] = σ_x\n",
    "op_list[site2 - 1] = σ_x\n",
    "HX28 = tensor(op_list)\n",
    "op_list[site1 - 1] = σ_y\n",
    "op_list[site2 - 1] = σ_y\n",
    "HY28 = tensor(op_list)\n",
    "op_list[site1 - 1] = σ_z\n",
    "op_list[site2 - 1] = σ_z\n",
    "HZ28 = tensor(op_list) \n",
    "H28_constructed = HX28 + HY28 + HZ28\n",
    "H28 == H28_constructed"
   ]
  },
  {
   "cell_type": "code",
   "execution_count": 55,
   "id": "726bb7a4",
   "metadata": {},
   "outputs": [
    {
     "data": {
      "text/plain": [
       "True"
      ]
     },
     "execution_count": 55,
     "metadata": {},
     "output_type": "execute_result"
    }
   ],
   "source": [
    "# define H37\n",
    "H37 = tensor(I2, I2, σ_x, I2, I2, I2, σ_x, I2) + \\\n",
    "      tensor(I2, I2, σ_y, I2, I2, I2, σ_y, I2) + \\\n",
    "      tensor(I2, I2, σ_z, I2, I2, I2, σ_z, I2)\n",
    "\n",
    "# define number of sites and indices where we desire Pauli operators\n",
    "N = 8\n",
    "site1 = 3\n",
    "site2 = 7\n",
    "\n",
    "# define list of identity operators and where you want our σ_x to be\n",
    "op_list = [qeye(2)]*N\n",
    "op_list[site1 - 1] = σ_x\n",
    "op_list[site2 - 1] = σ_x\n",
    "HX37 = tensor(op_list)\n",
    "op_list[site1 - 1] = σ_y\n",
    "op_list[site2 - 1] = σ_y\n",
    "HY37 = tensor(op_list)\n",
    "op_list[site1 - 1] = σ_z\n",
    "op_list[site2 - 1] = σ_z\n",
    "HZ37 = tensor(op_list)\n",
    "H37_constructed = HX37 + HY37 + HZ37\n",
    "H37 == H37_constructed"
   ]
  },
  {
   "cell_type": "code",
   "execution_count": 56,
   "id": "cdfdd5bd",
   "metadata": {},
   "outputs": [
    {
     "data": {
      "text/plain": [
       "True"
      ]
     },
     "execution_count": 56,
     "metadata": {},
     "output_type": "execute_result"
    }
   ],
   "source": [
    "# define H46\n",
    "H46 = tensor(I2, I2, I2, σ_x, I2, σ_x, I2, I2) + \\\n",
    "      tensor(I2, I2, I2, σ_y, I2, σ_y, I2, I2) + \\\n",
    "      tensor(I2, I2, I2, σ_z, I2, σ_z, I2, I2)\n",
    "\n",
    "# define number of sites and indices where we desire Pauli operators\n",
    "N = 8\n",
    "site1 = 4\n",
    "site2 = 6\n",
    "\n",
    "# define list of identity operators and where you want our σ_x to be\n",
    "op_list = [qeye(2)]*N\n",
    "op_list[site1 - 1] = σ_x\n",
    "op_list[site2 - 1] = σ_x00\n",
    "HX46 = tensor(op_list)\n",
    "op_list[site1 - 1] = σ_y\n",
    "op_list[site2 - 1] = σ_y\n",
    "HY46 = tensor(op_list)\n",
    "op_list[site1 - 1] = σ_z\n",
    "op_list[site2 - 1] = σ_z\n",
    "HZ46 = tensor(op_list)\n",
    "H46_constructed = HX46 + HY46 + HZ46\n",
    "H46 == H46_constructed"
   ]
  },
  {
   "cell_type": "code",
   "execution_count": 58,
   "id": "649fa898",
   "metadata": {},
   "outputs": [],
   "source": [
    "# define operator that swaps sites 2 and 6 as well as 3 and 7\n",
    "I256 = tensor([qeye(2)]*N)\n",
    "SWAP_28_37_46 = Qobj(((H28 + I128)/2)*((H37 + I128)/2)*((H46 + I128)/2), dims = [[256], [256]])"
   ]
  },
  {
   "cell_type": "code",
   "execution_count": 60,
   "id": "5f67ebb4",
   "metadata": {},
   "outputs": [],
   "source": [
    "# compute matrix product state for blue bonds \n",
    "N = 8\n",
    "blue_mps_basis8 = [Qobj(eigvec) for eigvec in reduce(np.kron, [ST_basis]*(int(N/2)))]\n",
    "red_mps_basis8 = [SWAP_28_37_46(Qobj(eigvec)) for eigvec in reduce(np.kron, [ST_basis]*(int(N/2)))]"
   ]
  },
  {
   "cell_type": "code",
   "execution_count": 61,
   "id": "5e3db340",
   "metadata": {},
   "outputs": [
    {
     "data": {
      "text/plain": [
       "True"
      ]
     },
     "metadata": {},
     "output_type": "display_data"
    }
   ],
   "source": [
    "blue_mps_sorted8 = homogenize_eigenstates(blue_mps_basis8)\n",
    "blue_eigvecs_sorted8 = homogenize_eigenstates(blue_eigvecs_list8)\n",
    "display(blue_eigvecs_sorted8 == blue_mps_sorted8)"
   ]
  },
  {
   "cell_type": "code",
   "execution_count": 62,
   "id": "a093c92a",
   "metadata": {},
   "outputs": [
    {
     "data": {
      "text/plain": [
       "True"
      ]
     },
     "metadata": {},
     "output_type": "display_data"
    }
   ],
   "source": [
    "red_mps_sorted6 = homogenize_eigenstates(red_mps_basis6)\n",
    "red_eigvecs_sorted6 = homogenize_eigenstates(red_eigvecs_list6)\n",
    "display(red_eigvecs_sorted6 == red_mps_sorted6)"
   ]
  },
  {
   "cell_type": "code",
   "execution_count": null,
   "id": "5a312d81",
   "metadata": {},
   "outputs": [],
   "source": []
  },
  {
   "cell_type": "code",
   "execution_count": null,
   "id": "f15810e0",
   "metadata": {},
   "outputs": [],
   "source": []
  },
  {
   "cell_type": "code",
   "execution_count": null,
   "id": "4409aa90",
   "metadata": {},
   "outputs": [],
   "source": []
  },
  {
   "cell_type": "code",
   "execution_count": null,
   "id": "115bf007",
   "metadata": {},
   "outputs": [],
   "source": []
  },
  {
   "cell_type": "code",
   "execution_count": null,
   "id": "e7042067",
   "metadata": {},
   "outputs": [],
   "source": []
  },
  {
   "cell_type": "markdown",
   "id": "e21f8c1d",
   "metadata": {},
   "source": [
    "# Additional Code"
   ]
  },
  {
   "cell_type": "code",
   "execution_count": null,
   "id": "421aa6d0",
   "metadata": {
    "code_folding": []
   },
   "outputs": [],
   "source": [
    "def weight_tensor(α, N, eigvals_array, indices):\n",
    "    \n",
    "    # convert list of indices into an array\n",
    "    # and calculate length of each eigenvalues array\n",
    "    index_array = np.array(indices)\n",
    "    d = 2**N - 1\n",
    "    \n",
    "    # check whether all indices are >= 0 and <= d\n",
    "    all(np.logical_and(index_array >= 0, index_array <= d))\n",
    "    \n",
    "    # collect the sum of the eigenvalues specified by indices\n",
    "    eigval_sum = 0 \n",
    "    for eigval_list, index in zip(eigvals_array, index_array): \n",
    "        eigval_sum += eigval_list[index]\n",
    "        \n",
    "    return np.exp(-((α**2)/2)*(eigval_sum**2))    "
   ]
  },
  {
   "cell_type": "code",
   "execution_count": null,
   "id": "7573c750",
   "metadata": {},
   "outputs": [],
   "source": [
    "# find eigenergies and eigenstates of local Hamiltonians\n",
    "H12_eigenvalues, H12_eigenstates = H4_list[0].eigenstates()\n",
    "H23_eigenvalues, H23_eigenstates = H4_list[1].eigenstates()\n",
    "H34_eigenvalues, H34_eigenstates = H4_list[2].eigenstates()\n",
    "H41_eigenvalues, H41_eigenstates = H4_list[3].eigenstates()\n",
    "\n",
    "# construct local Hamiltonians through spectral decomposition\n",
    "H12 = sum([λ*vec*vec.dag() for λ, vec in zip(H12_eigenvalues, H12_eigenstates)])\n",
    "H23 = sum([λ*vec*vec.dag() for λ, vec in zip(H23_eigenvalues, H23_eigenstates)])\n",
    "H34 = sum([λ*vec*vec.dag() for λ, vec in zip(H34_eigenvalues, H34_eigenstates)])\n",
    "H41 = sum([λ*vec*vec.dag() for λ, vec in zip(H41_eigenvalues, H41_eigenstates)])\n",
    "\n",
    "# display equalities\n",
    "display(H12 == H4_list[0])\n",
    "display(H23 == H4_list[1])\n",
    "display(H34 == H4_list[2])\n",
    "display(H41 == H4_list[3])"
   ]
  },
  {
   "cell_type": "code",
   "execution_count": null,
   "id": "a468aaaa",
   "metadata": {},
   "outputs": [],
   "source": [
    "# convert lists of eigenvectors into arrays \n",
    "H12_eigenstates_array = [np.array(eigenstate) for eigenstate in H12_eigenstates]\n",
    "blue_eigvecs_array = [np.array(eigenstate) for eigenstate in blue_eigvecs_list]"
   ]
  },
  {
   "cell_type": "code",
   "execution_count": null,
   "id": "b8865fae",
   "metadata": {},
   "outputs": [],
   "source": []
  },
  {
   "cell_type": "code",
   "execution_count": null,
   "id": "e9de85f8",
   "metadata": {},
   "outputs": [],
   "source": []
  },
  {
   "cell_type": "code",
   "execution_count": null,
   "id": "5ac2103d",
   "metadata": {},
   "outputs": [],
   "source": []
  },
  {
   "cell_type": "code",
   "execution_count": null,
   "id": "9f2d63c8",
   "metadata": {},
   "outputs": [],
   "source": []
  },
  {
   "cell_type": "code",
   "execution_count": null,
   "id": "2cbeaf15",
   "metadata": {},
   "outputs": [],
   "source": []
  },
  {
   "cell_type": "code",
   "execution_count": null,
   "id": "c64547dc",
   "metadata": {},
   "outputs": [],
   "source": []
  },
  {
   "cell_type": "code",
   "execution_count": null,
   "id": "51efc5a1",
   "metadata": {},
   "outputs": [],
   "source": []
  },
  {
   "cell_type": "code",
   "execution_count": null,
   "id": "262fc4c6",
   "metadata": {},
   "outputs": [],
   "source": []
  },
  {
   "cell_type": "code",
   "execution_count": null,
   "id": "8c3e9500",
   "metadata": {},
   "outputs": [],
   "source": []
  }
 ],
 "metadata": {
  "kernelspec": {
   "display_name": "Python 3 (ipykernel)",
   "language": "python",
   "name": "python3"
  },
  "language_info": {
   "codemirror_mode": {
    "name": "ipython",
    "version": 3
   },
   "file_extension": ".py",
   "mimetype": "text/x-python",
   "name": "python",
   "nbconvert_exporter": "python",
   "pygments_lexer": "ipython3",
   "version": "3.11.7"
  }
 },
 "nbformat": 4,
 "nbformat_minor": 5
}
