{
 "cells": [
  {
   "cell_type": "code",
   "execution_count": 1,
   "id": "3305b9a5",
   "metadata": {},
   "outputs": [
    {
     "data": {
      "text/plain": [
       "'1.11.1'"
      ]
     },
     "execution_count": 1,
     "metadata": {},
     "output_type": "execute_result"
    }
   ],
   "source": [
    "import sympy as sp\n",
    "sp.__version__"
   ]
  },
  {
   "cell_type": "markdown",
   "id": "ca7ef3c4",
   "metadata": {},
   "source": [
    "$$\\text{GSP}(\\alpha, \\lambda, E_\\text{s})\n",
    "= e^{-2i\\alpha (\\hat{p}_2 + \\hat{p}_3)D}\n",
    "  e^{-2i\\alpha (\\hat{p}_4 + \\hat{p}_1)B}\n",
    "  e^{-2i\\alpha (\\hat{p}_1 + \\hat{p}_2)C}\n",
    "  e^{-2i\\alpha (\\hat{p}_3 + \\hat{p}_4)A}\n",
    "  e^{-2i\\alpha (\\hat{p}_4 + \\hat{p}_1)D}\n",
    "  e^{-2i\\alpha (\\hat{p}_2 + \\hat{p}_3)B}\n",
    "  e^{-2i\\alpha (\\hat{p}_3 + \\hat{p}_4)C}\n",
    "  e^{-2i\\alpha (\\hat{p}_1 + \\hat{p}_2)A}$$"
   ]
  },
  {
   "cell_type": "code",
   "execution_count": 2,
   "id": "11f26eb5",
   "metadata": {},
   "outputs": [],
   "source": [
    "H = sp.symbols('A C B D', commutative=False)\n",
    "p = sp.symbols('p_1 p_2 p_3 p_4', real=True)\n",
    "b = sp.symbols('beta') #β=-2iα\n",
    "q = sp.symbols('q_1 q_2 q_3', real=True)"
   ]
  },
  {
   "cell_type": "code",
   "execution_count": 4,
   "id": "d2c8d28f",
   "metadata": {},
   "outputs": [
    {
     "data": {
      "text/latex": [
       "$\\displaystyle e^{\\beta \\left(p_{2} + p_{3}\\right) D} e^{\\beta \\left(p_{1} + p_{4}\\right) B} e^{\\beta \\left(p_{1} + p_{2}\\right) C} e^{\\beta \\left(p_{3} + p_{4}\\right) A} e^{\\beta \\left(p_{1} + p_{4}\\right) D} e^{\\beta \\left(p_{2} + p_{3}\\right) B} e^{\\beta \\left(p_{3} + p_{4}\\right) C} e^{\\beta \\left(p_{1} + p_{2}\\right) A}$"
      ],
      "text/plain": [
       "exp(beta*(p_2 + p_3)*D)*exp(beta*(p_1 + p_4)*B)*exp(beta*(p_1 + p_2)*C)*exp(beta*(p_3 + p_4)*A)*exp(beta*(p_1 + p_4)*D)*exp(beta*(p_2 + p_3)*B)*exp(beta*(p_3 + p_4)*C)*exp(beta*(p_1 + p_2)*A)"
      ]
     },
     "metadata": {},
     "output_type": "display_data"
    },
    {
     "data": {
      "text/latex": [
       "$\\displaystyle e^{\\beta q_{3} D} e^{\\beta \\left(q_{1} + q_{2} - q_{3}\\right) B} e^{\\beta q_{1} C} e^{\\beta q_{2} A} e^{\\beta \\left(q_{1} + q_{2} - q_{3}\\right) D} e^{\\beta q_{3} B} e^{\\beta q_{2} C} e^{\\beta q_{1} A}$"
      ],
      "text/plain": [
       "exp(beta*q_3*D)*exp(beta*(q_1 + q_2 - q_3)*B)*exp(beta*q_1*C)*exp(beta*q_2*A)*exp(beta*(q_1 + q_2 - q_3)*D)*exp(beta*q_3*B)*exp(beta*q_2*C)*exp(beta*q_1*A)"
      ]
     },
     "metadata": {},
     "output_type": "display_data"
    }
   ],
   "source": [
    "idx = [[(1,2), (3,4), (2,3), (4,1)],\n",
    "       [(3,4), (1,2), (4,1), (2,3)]]\n",
    "GSP = 1\n",
    "for n in range(2):\n",
    "    for m,h in enumerate(H):\n",
    "        #print(n,m)\n",
    "        GSP = sp.exp(b*(p[idx[n][m][0]-1]+p[idx[n][m][1]-1])*h)*GSP\n",
    "display(GSP)\n",
    "GSP = GSP.subs([(p[0]+p[1],q[0]),(p[2]+p[3],q[1]),(p[1]+p[2],q[2]),(p[0]+p[3],q[0]+q[1]-q[2])])\n",
    "display(GSP)"
   ]
  },
  {
   "cell_type": "code",
   "execution_count": 5,
   "id": "2def7566",
   "metadata": {},
   "outputs": [
    {
     "data": {
      "text/latex": [
       "$\\displaystyle 1 + \\beta \\left(q_{1} A + q_{1} B + q_{1} C + q_{1} D + q_{2} A + q_{2} B + q_{2} C + q_{2} D\\right) + O\\left(\\beta^{2}\\right)$"
      ],
      "text/plain": [
       "1 + beta*(q_1*A + q_1*B + q_1*C + q_1*D + q_2*A + q_2*B + q_2*C + q_2*D) + O(beta**2)"
      ]
     },
     "execution_count": 5,
     "metadata": {},
     "output_type": "execute_result"
    }
   ],
   "source": [
    "GSPsr = sp.series(GSP, x=b, n=2)\n",
    "GSPsr"
   ]
  },
  {
   "cell_type": "code",
   "execution_count": null,
   "id": "771b9961",
   "metadata": {},
   "outputs": [],
   "source": [
    "gen = sp.series(sp.log(GSP), x=b, n=2)\n",
    "gen"
   ]
  },
  {
   "cell_type": "code",
   "execution_count": null,
   "id": "2056db20",
   "metadata": {},
   "outputs": [],
   "source": []
  }
 ],
 "metadata": {
  "kernelspec": {
   "display_name": "Python 3 (ipykernel)",
   "language": "python",
   "name": "python3"
  },
  "language_info": {
   "codemirror_mode": {
    "name": "ipython",
    "version": 3
   },
   "file_extension": ".py",
   "mimetype": "text/x-python",
   "name": "python",
   "nbconvert_exporter": "python",
   "pygments_lexer": "ipython3",
   "version": "3.11.7"
  },
  "toc": {
   "base_numbering": 1,
   "nav_menu": {},
   "number_sections": true,
   "sideBar": true,
   "skip_h1_title": false,
   "title_cell": "Table of Contents",
   "title_sidebar": "Contents",
   "toc_cell": false,
   "toc_position": {},
   "toc_section_display": true,
   "toc_window_display": false
  }
 },
 "nbformat": 4,
 "nbformat_minor": 5
}
