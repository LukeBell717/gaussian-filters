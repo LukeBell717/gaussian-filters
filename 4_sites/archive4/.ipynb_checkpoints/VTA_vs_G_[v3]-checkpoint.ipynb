{
 "cells": [
  {
   "cell_type": "code",
   "execution_count": 1,
   "id": "94157ace",
   "metadata": {},
   "outputs": [],
   "source": [
    "import numpy as np\n",
    "from itertools import product\n",
    "from qutip import sigmax, sigmay, sigmaz, qeye, tensor, qzero, Qobj, simdiag, about\n",
    "from scipy.linalg import logm\n",
    "\n",
    "from IPython.display import display"
   ]
  },
  {
   "cell_type": "code",
   "execution_count": 2,
   "id": "be76d016",
   "metadata": {},
   "outputs": [
    {
     "name": "stdout",
     "output_type": "stream",
     "text": [
      "\n",
      "QuTiP: Quantum Toolbox in Python\n",
      "================================\n",
      "Copyright (c) QuTiP team 2011 and later.\n",
      "Current admin team: Alexander Pitchford, Nathan Shammah, Shahnawaz Ahmed, Neill Lambert, Eric Giguère, Boxi Li, Jake Lishman, Simon Cross and Asier Galicia.\n",
      "Board members: Daniel Burgarth, Robert Johansson, Anton F. Kockum, Franco Nori and Will Zeng.\n",
      "Original developers: R. J. Johansson & P. D. Nation.\n",
      "Previous lead developers: Chris Granade & A. Grimsmo.\n",
      "Currently developed through wide collaboration. See https://github.com/qutip for details.\n",
      "\n",
      "QuTiP Version:      5.0.1\n",
      "Numpy Version:      1.24.3\n",
      "Scipy Version:      1.11.1\n",
      "Cython Version:     None\n",
      "Matplotlib Version: 3.7.2\n",
      "Python Version:     3.11.7\n",
      "Number of CPUs:     16\n",
      "BLAS Info:          OPENBLAS\n",
      "INTEL MKL Ext:      False\n",
      "Platform Info:      Darwin (arm64)\n",
      "Installation path:  /Users/lukebell/anaconda3/lib/python3.11/site-packages/qutip\n",
      "================================================================================\n",
      "Please cite QuTiP in your publication.\n",
      "================================================================================\n",
      "For your convenience a bibtex reference can be easily generated using `qutip.cite()`\n"
     ]
    }
   ],
   "source": [
    "from qutip import about\n",
    "about()"
   ]
  },
  {
   "cell_type": "markdown",
   "id": "e0076077",
   "metadata": {},
   "source": [
    "# $\\text{Functions to generate } \\text{VTA} $"
   ]
  },
  {
   "cell_type": "code",
   "execution_count": 3,
   "id": "b6c24ec0",
   "metadata": {
    "code_folding": []
   },
   "outputs": [],
   "source": [
    "# functions necessary to generate VTA through SU(2) expansion \n",
    "def generate_SWAP_operators(N, Jx, Jy, Jz):\n",
    "    \n",
    "    '''\n",
    "    generate list of SWAP operators that needed to compute VTA \n",
    "    using the SU(2) expansion method\n",
    "    '''\n",
    "    \n",
    "    if N % 2 != 0: \n",
    "        raise ValueError(\"Please enter an even number of sites.\")\n",
    "        \n",
    "    # define zero and identity matrices corresponding to dimensions of VTA\n",
    "    zeros_N = qzero([2]*N)\n",
    "    I_N = qeye([2]*N)\n",
    "    \n",
    "    # define Pauli matrices and constants\n",
    "    σ_x = sigmax()\n",
    "    σ_y = sigmay()\n",
    "    σ_z = sigmaz()\n",
    "    \n",
    "    # Interaction coefficients, which we assume are uniform throughout the lattice\n",
    "    Jx_list = Jx*np.ones(N)\n",
    "    Jy_list = Jy*np.ones(N)\n",
    "    Jz_list = Jz*np.ones(N)\n",
    "\n",
    "    # Setup operators for individual qubits; \n",
    "    # here σ_x_list[j] = X_j, σ_y_list[j] = Y_j, and σ_z_list[j] = Z_j\n",
    "    # since the Pauli matrix occupies the jth location in the tensor product of N terms\n",
    "    # for which (N-1) terms are the identity\n",
    "    σ_x_list, σ_y_list, σ_z_list = [], [], []\n",
    "\n",
    "    for i in range(N):\n",
    "        op_list = [qeye(2)]*N\n",
    "        op_list[i] = σ_x\n",
    "        σ_x_list.append(tensor(op_list))\n",
    "        op_list[i] = σ_y\n",
    "        σ_y_list.append(tensor(op_list))\n",
    "        op_list[i] = σ_z\n",
    "        σ_z_list.append(tensor(op_list))\n",
    "\n",
    "    # define empty lists for + and - projection operators\n",
    "    π_list = []\n",
    "    \n",
    "    # collect list of all tuples corresponding to π_p and π_m \n",
    "    # SWAP operators\n",
    "    for k in range(N):\n",
    "\n",
    "        # find H_ij, the Hamiltonian between the ith and jth sites \n",
    "        H_kl = Jx_list[k] * σ_x_list[k] * σ_x_list[(k + 1) % N] + \\\n",
    "               Jy_list[k] * σ_y_list[k] * σ_y_list[(k + 1) % N] + \\\n",
    "               Jz_list[k] * σ_z_list[k] * σ_z_list[(k + 1) % N]\n",
    "        \n",
    "        # add π_p to π_m to π_p_list and π_m_list, respectively\n",
    "        π_p = (3 + H_kl)/4\n",
    "        π_m = (1 - H_kl)/4\n",
    "        π_list.append((π_p, π_m))\n",
    "    \n",
    "    # check to ensure projectors obey established summation and orthogonality relations\n",
    "    π_kl_bool_list = []\n",
    "    for π_kl in π_list: \n",
    "        π_kl_bool_list.append(π_kl[0] * π_kl[1] == zeros_N and \\\n",
    "                              π_kl[0] + π_kl[1] == I_N)\n",
    "\n",
    "    if all(π_kl_bool_list):\n",
    "#         display(Latex(r'$ \\pi^{+}_{kl} \\pi^{-}_{kl} = 0 \\text{ and } $'\n",
    "#                       r'$\\pi^{+}_{kl} + \\pi^{-}_{kl} = \\mathbb{1}$' \n",
    "#                      rf'$ \\ \\forall \\ k,l \\in \\{{1, \\dots, {N} \\}}$'))\n",
    "        return π_list\n",
    "    else: \n",
    "        display(Latex(r'$ \\pi^{+}_{kl} \\pi^{-}_{kl} \\neq 0 \\text{ of } $'\n",
    "                      r'$\\pi^{+}_{kl} + \\pi^{-}_{kl} \\neq \\mathbb{1}$' \n",
    "                     rf'$ \\ \\forall \\ k,l \\in \\{{1, \\dots, {N} \\}}$'))\n",
    "        raise ValueError(f'SWAP operators do not obey the desired summation and' + \\\n",
    "                          ' orthogonality conditions')\n",
    "def MPO(π_list, α, E_0, b7, b6, b5, b4, b3, b2, b1, b0):\n",
    "    \n",
    "    '''\n",
    "    generate matrix product operator corresponding to a unique α \n",
    "    and set of eight indices\n",
    "    '''\n",
    "    \n",
    "    # define projection operators where π_kl is a tuple \n",
    "    # such that π_kl[0] = π^{+}_{kl} and π_kl[1] = π^{-}_{kl}\n",
    "    π12 = π_list[0]\n",
    "    π23 = π_list[1]\n",
    "    π34 = π_list[2]\n",
    "    π41 = π_list[3]\n",
    "\n",
    "    # define constant q\n",
    "    q = 2 + E_0/2\n",
    "    \n",
    "    # return matrix product operator for a given α and set of indices\n",
    "    return np.exp((-2*α**2) * (\n",
    "           (q - 4 + 2*(b0 + b3 + b5 + b6))**2 + \\\n",
    "           (q - 4 + 2*(b0 + b2 + b5 + b7))**2 + \\\n",
    "           (q - 4 + 2*(b1 + b2 + b4 + b7))**2 + \\\n",
    "           (q - 4 + 2*(b1 + b3 + b4 + b6))**2)) * \\\n",
    "            π41[b7]*π23[b6]*π34[b5]*π12[b4] * \\\n",
    "            π41[b3]*π23[b2]*π34[b1]*π12[b0]\n",
    "def SU2_expansion(N, α_start, α_end, α_steps, Jx, Jy, Jz, E_0): \n",
    "    \n",
    "    '''\n",
    "    compute list of VTAs using an efficient, automated approach\n",
    "    '''\n",
    "    \n",
    "    # define array over which we will sweep α\n",
    "    α_array = np.linspace(α_start, α_end, α_steps)\n",
    "    \n",
    "    # collect list of SWAP operators\n",
    "    π_list = generate_SWAP_operators(N, Jx, Jy, Jz)\n",
    "\n",
    "    # generate all possible combinations of tuples \n",
    "    combination_tuples = list(product([0, 1], repeat=int(N*(N/2))))\n",
    "    \n",
    "    # return the sum of all VTA\n",
    "    return [sum(MPO(π_list, α, E_0, *combination) \\\n",
    "                for combination in combination_tuples) \\\n",
    "                for α in α_array]"
   ]
  },
  {
   "cell_type": "code",
   "execution_count": 4,
   "id": "7fb3dbb5",
   "metadata": {},
   "outputs": [],
   "source": [
    "N = 4\n",
    "α_start = 1\n",
    "α_end = 1\n",
    "α_steps = 1\n",
    "Jx = 1\n",
    "Jy = 1\n",
    "Jz = 1\n",
    "E_0 = -8\n",
    "\n",
    "# find VTA for α = 1\n",
    "VTA_list = SU2_expansion(N, α_start, α_end, α_steps, Jx, Jy, Jz, E_0)"
   ]
  },
  {
   "cell_type": "code",
   "execution_count": 5,
   "id": "026ca38c",
   "metadata": {},
   "outputs": [
    {
     "data": {
      "text/latex": [
       "Quantum object: dims=[[2, 2, 2, 2], [2, 2, 2, 2]], shape=(16, 16), type='oper', dtype=CSR, isherm=False$$\\left(\\begin{array}{cc}0 & 0 & 0 & 0 & 0 & \\cdots & 0 & 0 & 0 & 0 & 0\\\\0 & 0 & 0 & 0 & 0 & \\cdots & 0 & 0 & 0 & 0 & 0\\\\0 & 0 & 0 & 0 & 0 & \\cdots & 0 & 0 & 0 & 0 & 0\\\\0 & 0 & 0 & 0.062 & 0 & \\cdots & 0 & 0.062 & 0 & 0 & 0\\\\0 & 0 & 0 & 0 & 0 & \\cdots & 0 & 0 & 0 & 0 & 0\\\\\\vdots & \\vdots & \\vdots & \\vdots & \\vdots & \\ddots & \\vdots & \\vdots & \\vdots & \\vdots & \\vdots\\\\0 & 0 & 0 & 0 & 0 & \\cdots & 0 & 0 & 0 & 0 & 0\\\\0 & 0 & 0 & 0.062 & 0 & \\cdots & 0 & 0.062 & 0 & 0 & 0\\\\0 & 0 & 0 & 0 & 0 & \\cdots & 0 & 0 & 0 & 0 & 0\\\\0 & 0 & 0 & 0 & 0 & \\cdots & 0 & 0 & 0 & 0 & 0\\\\0 & 0 & 0 & 0 & 0 & \\cdots & 0 & 0 & 0 & 0 & 0\\end{array}\\right)$$"
      ],
      "text/plain": [
       "Quantum object: dims=[[2, 2, 2, 2], [2, 2, 2, 2]], shape=(16, 16), type='oper', dtype=CSR, isherm=False\n",
       "Qobj data =\n",
       "[[ 0.      0.      0.      0.      0.      0.      0.      0.      0.\n",
       "   0.      0.      0.      0.      0.      0.      0.    ]\n",
       " [ 0.      0.      0.      0.      0.      0.      0.      0.      0.\n",
       "   0.      0.      0.      0.      0.      0.      0.    ]\n",
       " [ 0.      0.      0.      0.      0.      0.      0.      0.      0.\n",
       "   0.      0.      0.      0.      0.      0.      0.    ]\n",
       " [ 0.      0.      0.      0.0625  0.     -0.1875  0.125   0.      0.\n",
       "   0.125  -0.1875  0.      0.0625  0.      0.      0.    ]\n",
       " [ 0.      0.      0.      0.      0.      0.      0.      0.      0.\n",
       "   0.      0.      0.      0.      0.      0.      0.    ]\n",
       " [ 0.      0.      0.     -0.0625  0.      0.25   -0.1875  0.      0.\n",
       "  -0.1875  0.25    0.     -0.0625  0.      0.      0.    ]\n",
       " [ 0.      0.      0.      0.      0.     -0.0625  0.0625  0.      0.\n",
       "   0.0625 -0.0625  0.      0.      0.      0.      0.    ]\n",
       " [ 0.      0.      0.      0.      0.      0.      0.      0.      0.\n",
       "   0.      0.      0.      0.      0.      0.      0.    ]\n",
       " [ 0.      0.      0.      0.      0.      0.      0.      0.      0.\n",
       "   0.      0.      0.      0.      0.      0.      0.    ]\n",
       " [ 0.      0.      0.      0.      0.     -0.0625  0.0625  0.      0.\n",
       "   0.0625 -0.0625  0.      0.      0.      0.      0.    ]\n",
       " [ 0.      0.      0.     -0.0625  0.      0.25   -0.1875  0.      0.\n",
       "  -0.1875  0.25    0.     -0.0625  0.      0.      0.    ]\n",
       " [ 0.      0.      0.      0.      0.      0.      0.      0.      0.\n",
       "   0.      0.      0.      0.      0.      0.      0.    ]\n",
       " [ 0.      0.      0.      0.0625  0.     -0.1875  0.125   0.      0.\n",
       "   0.125  -0.1875  0.      0.0625  0.      0.      0.    ]\n",
       " [ 0.      0.      0.      0.      0.      0.      0.      0.      0.\n",
       "   0.      0.      0.      0.      0.      0.      0.    ]\n",
       " [ 0.      0.      0.      0.      0.      0.      0.      0.      0.\n",
       "   0.      0.      0.      0.      0.      0.      0.    ]\n",
       " [ 0.      0.      0.      0.      0.      0.      0.      0.      0.\n",
       "   0.      0.      0.      0.      0.      0.      0.    ]]"
      ]
     },
     "execution_count": 5,
     "metadata": {},
     "output_type": "execute_result"
    }
   ],
   "source": [
    "VTA = VTA_list[0]\n",
    "VTA"
   ]
  },
  {
   "cell_type": "markdown",
   "id": "05180025",
   "metadata": {},
   "source": [
    "# $\\text{Functions to generate } \\mathcal{G} $"
   ]
  },
  {
   "cell_type": "code",
   "execution_count": 8,
   "id": "ea333538",
   "metadata": {
    "code_folding": []
   },
   "outputs": [],
   "source": [
    "def spin_chain(N, Jx, Jy, Jz, periodic_bc):\n",
    "\n",
    "    \n",
    "    if N % 2 != 0: \n",
    "        raise ValueError(\"Please enter an even number of sites\")\n",
    "    \n",
    "    # define Pauli matrices and constants\n",
    "    σ_x = sigmax()\n",
    "    σ_y = sigmay()\n",
    "    σ_z = sigmaz()\n",
    "    π = np.pi\n",
    "\n",
    "    # Interaction coefficients, which we assume are uniform throughout the lattice\n",
    "    Jx_list = Jx*np.ones(N)\n",
    "    Jy_list = Jy*np.ones(N)\n",
    "    Jz_list = Jz*np.ones(N)\n",
    "\n",
    "    # Setup operators for individual qubits; \n",
    "    # here sx_list[j] = X_j, sy_list[j] = Y_j, and sz_list[j] = Z_j\n",
    "    # since the Pauli matrix occupies the jth location in the tensor product of N terms\n",
    "    # of which N-1 terms are the identity\n",
    "    sx_list, sy_list, sz_list = [], [], []\n",
    "\n",
    "    for i in range(N):\n",
    "        op_list = [qeye(2)]*N\n",
    "        op_list[i] = σ_x\n",
    "        sx_list.append(tensor(op_list))\n",
    "        op_list[i] = σ_y\n",
    "        sy_list.append(tensor(op_list))\n",
    "        op_list[i] = σ_z\n",
    "        sz_list.append(tensor(op_list))\n",
    "\n",
    "    # define variable for total Hamiltonian H_N and the list of all local \n",
    "    # Hamiltonians H_list\n",
    "    HN = 0 \n",
    "    H_list = []\n",
    "    \n",
    "    # collect \n",
    "    for j in range(N - 1):\n",
    "\n",
    "        # find H_ij, the Hamiltonian between the ith and jth sites \n",
    "        H_ij = Jx_list[j] * sx_list[j] * sx_list[j + 1] + \\\n",
    "               Jy_list[j] * sy_list[j] * sy_list[j + 1] + \\\n",
    "               Jz_list[j] * sz_list[j] * sz_list[j + 1]\n",
    "        \n",
    "        # add H_ij to H_N and append H_ij to H_list\n",
    "        HN += H_ij\n",
    "\n",
    "    # execute if periodic boundary conditions are specified\n",
    "    if periodic_bc: \n",
    "        \n",
    "        # find H_N1, the Hamiltonian between the Nth and first site\n",
    "        H_N1 = Jx_list[N-1] * sx_list[N - 1] * sx_list[0] + \\\n",
    "               Jy_list[N-1] * sy_list[N - 1] * sy_list[0] + \\\n",
    "               Jz_list[N-1] * sz_list[N - 1] * sz_list[0]\n",
    "\n",
    "        # add H_N1 to H_N and append H_N1 to H_list\n",
    "        HN += H_N1\n",
    "        \n",
    "    # compute ground state energy of HN\n",
    "    # E0 = HN.groundstate()[0]\n",
    "    \n",
    "    # compute HN eigenstates\n",
    "    eigenstates = HN.eigenstates()[1]\n",
    "    \n",
    "    # compute density matrix of groundstate\n",
    "    ρ_list = [eigvec*eigvec.dag() for eigvec in eigenstates]\n",
    "        \n",
    "    return eigenstates, ρ_list, HN, (sx_list, sy_list, sz_list)"
   ]
  },
  {
   "cell_type": "code",
   "execution_count": 9,
   "id": "362f9e5c",
   "metadata": {},
   "outputs": [],
   "source": [
    "# define a spin chain with four sites, equal coupling constants\n",
    "# and periodic boundary conditions\n",
    "N = 4\n",
    "Jx = 1\n",
    "Jy = 1\n",
    "Jz = 1\n",
    "periodic_bc = True\n",
    "\n",
    "eigvecs, ρ_list, HN, vS = spin_chain(N, Jx, Jy, Jz, periodic_bc)\n",
    "\n",
    "swap24 = 0.5*sum(vS[n][2-1]*vS[n][4-1] for n in [0,1,2]) + 0.5*qeye([2]*N)\n",
    "S2 = sum(sum(vS[n])**2 for n in [0,1,2])/4  #1/4 factor: pauli to spin\n",
    "Sz = sum(vS[2])/2\n",
    "eigEsym, eigVsym = simdiag([HN, S2, Sz, swap24])\n",
    "eigEsym = eigEsym.T\n",
    "\n",
    "eigvecs = eigVsym  #replace with symmetry eigenvecs"
   ]
  },
  {
   "cell_type": "code",
   "execution_count": 10,
   "id": "a88248b8",
   "metadata": {},
   "outputs": [
    {
     "data": {
      "text/plain": [
       "[Quantum object: dims=[[2, 2, 2, 2], [1]], shape=(16, 1), type='ket', dtype=Dense\n",
       " Qobj data =\n",
       " [[ 3.12956810e-17-1.45896566e-16j]\n",
       "  [-2.43447446e-16-1.14708422e-17j]\n",
       "  [ 1.81284864e-16+7.61223462e-17j]\n",
       "  [ 9.57766741e-02+2.72323635e-01j]\n",
       "  [-2.97223739e-16+4.24827186e-17j]\n",
       "  [-1.91553348e-01-5.44647269e-01j]\n",
       "  [ 9.57766741e-02+2.72323635e-01j]\n",
       "  [-1.44249370e-16-1.61227129e-17j]\n",
       "  [ 1.99142168e-16+3.55548586e-18j]\n",
       "  [ 9.57766741e-02+2.72323635e-01j]\n",
       "  [-1.91553348e-01-5.44647269e-01j]\n",
       "  [ 6.17815346e-17-5.91844896e-18j]\n",
       "  [ 9.57766741e-02+2.72323635e-01j]\n",
       "  [ 1.09930480e-16+2.15374832e-18j]\n",
       "  [-9.52490425e-17+4.04160780e-17j]\n",
       "  [-1.11507877e-16+1.12418627e-16j]],\n",
       " Quantum object: dims=[[2, 2, 2, 2], [1]], shape=(16, 1), type='ket', dtype=Dense\n",
       " Qobj data =\n",
       " [[-1.83942884e-17-9.45871555e-18j]\n",
       "  [ 1.07018546e-17-3.02199968e-17j]\n",
       "  [ 5.05779184e-17-3.89311791e-17j]\n",
       "  [ 3.41358877e-17-4.83871690e-17j]\n",
       "  [-3.04219145e-18-7.00102165e-17j]\n",
       "  [ 2.51055253e-16-2.08312604e-16j]\n",
       "  [-3.00109257e-17-1.14654901e-17j]\n",
       "  [ 1.32693248e-01+4.82071055e-01j]\n",
       "  [ 7.75303279e-17-1.80583840e-17j]\n",
       "  [-6.04255212e-17-1.40249394e-17j]\n",
       "  [-1.95544102e-16+1.11168089e-16j]\n",
       "  [-1.32693248e-01-4.82071055e-01j]\n",
       "  [-2.87480921e-17-4.81975051e-18j]\n",
       "  [ 1.32693248e-01+4.82071055e-01j]\n",
       "  [-1.32693248e-01-4.82071055e-01j]\n",
       "  [-2.19469841e-17-2.51366779e-17j]],\n",
       " Quantum object: dims=[[2, 2, 2, 2], [1]], shape=(16, 1), type='ket', dtype=Dense\n",
       " Qobj data =\n",
       " [[-3.14592242e-17+2.00644875e-17j]\n",
       "  [-1.29805890e-16-2.18950619e-17j]\n",
       "  [ 1.84806240e-16+4.26759730e-17j]\n",
       "  [-1.93200271e-17+1.27791507e-16j]\n",
       "  [-8.91684298e-17-6.17937019e-17j]\n",
       "  [ 5.75703851e-01-4.10566775e-01j]\n",
       "  [-6.00210754e-17-3.22773673e-17j]\n",
       "  [-1.25818876e-16-1.59835913e-16j]\n",
       "  [ 1.04535037e-16+2.71528884e-17j]\n",
       "  [-7.76612962e-17+1.58265199e-17j]\n",
       "  [-5.75703851e-01+4.10566775e-01j]\n",
       "  [ 4.31669177e-18+8.57837969e-17j]\n",
       "  [-7.24332096e-18+9.65095538e-18j]\n",
       "  [-4.08174261e-17-1.09193621e-16j]\n",
       "  [-7.71906053e-18+1.94266613e-16j]\n",
       "  [-3.15955018e-17-7.67618250e-17j]],\n",
       " Quantum object: dims=[[2, 2, 2, 2], [1]], shape=(16, 1), type='ket', dtype=Dense\n",
       " Qobj data =\n",
       " [[-2.36270691e-17+6.39374632e-17j]\n",
       "  [-4.80967204e-01-1.36640215e-01j]\n",
       "  [ 4.80967204e-01+1.36640215e-01j]\n",
       "  [-1.67915673e-16+6.89076199e-17j]\n",
       "  [-4.80967204e-01-1.36640215e-01j]\n",
       "  [-1.45671106e-17+2.18242871e-16j]\n",
       "  [-2.26571541e-17+4.54270678e-17j]\n",
       "  [ 2.17699451e-17-1.34479740e-16j]\n",
       "  [ 4.80967204e-01+1.36640215e-01j]\n",
       "  [ 5.94617606e-17-1.35846254e-16j]\n",
       "  [ 4.23226862e-17+1.91151870e-16j]\n",
       "  [-6.10987281e-17+8.04990478e-17j]\n",
       "  [ 6.41567174e-18-7.03023182e-17j]\n",
       "  [-8.57829104e-17-1.37274054e-16j]\n",
       "  [ 5.73087255e-17+8.44456519e-17j]\n",
       "  [ 1.38041572e-16+5.50373972e-18j]],\n",
       " Quantum object: dims=[[2, 2, 2, 2], [1]], shape=(16, 1), type='ket', dtype=Dense\n",
       " Qobj data =\n",
       " [[ 1.34326687e-16-4.24973333e-17j]\n",
       "  [ 1.77008802e-16-6.37610488e-19j]\n",
       "  [-2.17720535e-17-1.22360283e-16j]\n",
       "  [-3.52325977e-01+3.54776558e-01j]\n",
       "  [-1.00781685e-16-1.35423267e-17j]\n",
       "  [-5.90075734e-18+1.43613557e-16j]\n",
       "  [ 3.52325977e-01-3.54776558e-01j]\n",
       "  [ 8.18343971e-17-1.70923585e-16j]\n",
       "  [ 1.92570536e-16+8.44355680e-17j]\n",
       "  [ 3.52325977e-01-3.54776558e-01j]\n",
       "  [-4.74622729e-17-2.87937333e-17j]\n",
       "  [ 1.20176223e-16-1.97631973e-16j]\n",
       "  [-3.52325977e-01+3.54776558e-01j]\n",
       "  [-1.30708804e-16-3.52492026e-17j]\n",
       "  [-1.11092225e-16+8.85533416e-17j]\n",
       "  [ 8.50582122e-17-1.47485654e-16j]],\n",
       " Quantum object: dims=[[2, 2, 2, 2], [1]], shape=(16, 1), type='ket', dtype=Dense\n",
       " Qobj data =\n",
       " [[ 3.05567292e-16+1.19500322e-16j]\n",
       "  [ 1.38111828e-16-1.26575698e-16j]\n",
       "  [-1.05729944e-16-1.60857894e-16j]\n",
       "  [ 2.31665599e-16+3.19092153e-16j]\n",
       "  [ 1.05378048e-16-5.27716766e-17j]\n",
       "  [-1.07502334e-16+2.25037874e-16j]\n",
       "  [ 2.45680414e-17-4.74694007e-16j]\n",
       "  [ 8.51385383e-17-2.02926441e-16j]\n",
       "  [-1.84228050e-16-2.06843958e-16j]\n",
       "  [ 4.28775362e-16-1.57519851e-16j]\n",
       "  [-3.96654123e-16-1.18748071e-16j]\n",
       "  [ 3.92302986e-02-7.06017694e-01j]\n",
       "  [ 2.61946762e-16+7.43960584e-16j]\n",
       "  [ 4.87813902e-17-1.86601727e-16j]\n",
       "  [-3.92302986e-02+7.06017694e-01j]\n",
       "  [ 3.00997821e-16-2.30367553e-16j]],\n",
       " Quantum object: dims=[[2, 2, 2, 2], [1]], shape=(16, 1), type='ket', dtype=Dense\n",
       " Qobj data =\n",
       " [[-1.62815020e-16+8.68748922e-17j]\n",
       "  [-1.60449437e-16-1.50997457e-17j]\n",
       "  [ 2.58412834e-16-3.77123031e-17j]\n",
       "  [-7.95366010e-16-1.25099914e-16j]\n",
       "  [ 1.23087154e-16+3.51980727e-16j]\n",
       "  [-1.35007835e-16-2.01061650e-16j]\n",
       "  [ 4.19155579e-16+6.14296958e-16j]\n",
       "  [-2.79963728e-01-6.49322963e-01j]\n",
       "  [ 1.55110786e-16-8.32323263e-17j]\n",
       "  [-5.48653632e-17+6.70655123e-16j]\n",
       "  [ 4.35407428e-16-3.16443010e-17j]\n",
       "  [ 1.63341449e-17+2.59306052e-16j]\n",
       "  [-3.99602461e-16-7.93765077e-16j]\n",
       "  [ 2.79963728e-01+6.49322963e-01j]\n",
       "  [ 1.81948533e-16+3.16532808e-17j]\n",
       "  [ 4.89687552e-17+4.37776556e-16j]],\n",
       " Quantum object: dims=[[2, 2, 2, 2], [1]], shape=(16, 1), type='ket', dtype=Dense\n",
       " Qobj data =\n",
       " [[ 2.49549636e-17+1.65892352e-16j]\n",
       "  [-8.09014179e-17+4.91173164e-17j]\n",
       "  [ 6.66275427e-17-2.43240127e-16j]\n",
       "  [ 4.48286040e-01-2.21448924e-01j]\n",
       "  [ 1.88958447e-16-1.79682792e-16j]\n",
       "  [-1.06312127e-16-9.11760605e-17j]\n",
       "  [-4.48286040e-01+2.21448924e-01j]\n",
       "  [-1.51707368e-16-4.05372318e-16j]\n",
       "  [-1.43674495e-16-3.02138331e-16j]\n",
       "  [ 4.48286040e-01-2.21448924e-01j]\n",
       "  [-1.02198214e-16+1.49008507e-16j]\n",
       "  [-6.00306969e-17+1.38247334e-16j]\n",
       "  [-4.48286040e-01+2.21448924e-01j]\n",
       "  [ 3.11796106e-18+7.17473667e-16j]\n",
       "  [ 2.40407501e-16-6.40536498e-17j]\n",
       "  [ 1.00615631e-16+3.24906999e-17j]],\n",
       " Quantum object: dims=[[2, 2, 2, 2], [1]], shape=(16, 1), type='ket', dtype=Dense\n",
       " Qobj data =\n",
       " [[-1.06274604e-16-2.19161986e-17j]\n",
       "  [ 1.50699799e-16+6.01604521e-17j]\n",
       "  [ 1.37598585e-16-8.96568161e-17j]\n",
       "  [-2.30715937e-02+4.99467418e-01j]\n",
       "  [-1.45836220e-16+1.71760469e-16j]\n",
       "  [ 1.47993679e-17-4.51474750e-17j]\n",
       "  [-2.30715937e-02+4.99467418e-01j]\n",
       "  [ 2.43504663e-18+4.62962743e-16j]\n",
       "  [ 1.53508586e-16-2.06229439e-16j]\n",
       "  [ 2.30715937e-02-4.99467418e-01j]\n",
       "  [ 4.87326374e-17-4.49073382e-17j]\n",
       "  [ 2.31408430e-16-4.29705320e-16j]\n",
       "  [ 2.30715937e-02-4.99467418e-01j]\n",
       "  [-2.13741587e-16-3.26644810e-16j]\n",
       "  [-4.21038938e-16+4.34120140e-16j]\n",
       "  [-1.35845692e-16+1.21180854e-16j]],\n",
       " Quantum object: dims=[[2, 2, 2, 2], [1]], shape=(16, 1), type='ket', dtype=Dense\n",
       " Qobj data =\n",
       " [[ 1.63428032e-16-2.67759479e-16j]\n",
       "  [-3.90899473e-01+5.89234760e-01j]\n",
       "  [-7.90436941e-17+1.70648218e-16j]\n",
       "  [ 6.63250306e-16+4.61888994e-16j]\n",
       "  [ 3.90899473e-01-5.89234760e-01j]\n",
       "  [ 2.43511122e-16+1.14347146e-16j]\n",
       "  [-1.91227531e-16-6.25973417e-16j]\n",
       "  [-3.21652421e-16-2.30134548e-16j]\n",
       "  [-9.94245771e-17+1.52594311e-16j]\n",
       "  [-2.81741171e-16-5.17394882e-16j]\n",
       "  [-1.53292256e-16+3.29302192e-16j]\n",
       "  [-1.83285592e-16-3.55798767e-16j]\n",
       "  [ 3.85052545e-16-9.93372214e-17j]\n",
       "  [-4.78312380e-17+1.03869984e-17j]\n",
       "  [-3.76243513e-17+2.57673941e-17j]\n",
       "  [-1.26725823e-16-3.81940778e-16j]],\n",
       " Quantum object: dims=[[2, 2, 2, 2], [1]], shape=(16, 1), type='ket', dtype=Dense\n",
       " Qobj data =\n",
       " [[-4.52378888e-17-7.68183351e-17j]\n",
       "  [-9.68652885e-17-1.47586575e-16j]\n",
       "  [-4.11792264e-01+5.74827914e-01j]\n",
       "  [-1.63323133e-16+3.15731663e-17j]\n",
       "  [-1.25567243e-16+4.48068380e-18j]\n",
       "  [ 1.29595402e-17-2.74709889e-17j]\n",
       "  [-4.22677565e-17+7.77320142e-17j]\n",
       "  [-1.34434832e-16-1.55756560e-17j]\n",
       "  [ 4.11792264e-01-5.74827914e-01j]\n",
       "  [ 1.42952645e-16+1.50030986e-16j]\n",
       "  [-8.26957176e-17-5.12528888e-17j]\n",
       "  [-1.20591432e-16-2.51022962e-17j]\n",
       "  [-1.47169173e-16-6.74305158e-17j]\n",
       "  [ 1.98875449e-16-1.48604809e-16j]\n",
       "  [ 1.54462740e-16-1.11724141e-16j]\n",
       "  [-2.05456306e-17-5.83629392e-17j]],\n",
       " Quantum object: dims=[[2, 2, 2, 2], [1]], shape=(16, 1), type='ket', dtype=Dense\n",
       " Qobj data =\n",
       " [[-1.42146979e-16+2.76782895e-17j]\n",
       "  [-6.25815613e-17+4.94968677e-17j]\n",
       "  [-1.24413958e-16-6.88760939e-17j]\n",
       "  [ 2.02498648e-19-2.82098064e-17j]\n",
       "  [-2.45548999e-17+1.12358678e-16j]\n",
       "  [-8.95542131e-19-9.78732556e-17j]\n",
       "  [ 2.85070947e-17-1.12300064e-16j]\n",
       "  [ 1.56383568e-16-9.11797800e-17j]\n",
       "  [-3.47573581e-17+1.05282529e-16j]\n",
       "  [-5.55831628e-17-1.25628831e-16j]\n",
       "  [ 1.81437271e-16-2.76607860e-17j]\n",
       "  [ 1.90940782e-16-1.19209866e-16j]\n",
       "  [-5.55831628e-17-4.12640636e-17j]\n",
       "  [ 2.54077103e-16+2.78794571e-17j]\n",
       "  [ 1.49307419e-16-9.83931841e-17j]\n",
       "  [-1.67631228e-01-9.85849771e-01j]],\n",
       " Quantum object: dims=[[2, 2, 2, 2], [1]], shape=(16, 1), type='ket', dtype=Dense\n",
       " Qobj data =\n",
       " [[ 1.02187432e-17+5.14254233e-17j]\n",
       "  [-3.12173718e-16+1.37488962e-16j]\n",
       "  [-3.11569869e-16+1.27256296e-16j]\n",
       "  [ 5.77386797e-17-1.19558730e-16j]\n",
       "  [-2.85516066e-16+1.96293885e-16j]\n",
       "  [ 3.50774999e-17-4.19572980e-17j]\n",
       "  [ 1.24580421e-16-8.79823574e-17j]\n",
       "  [ 1.25975975e-01-4.83869873e-01j]\n",
       "  [-2.83001819e-16+1.46623704e-16j]\n",
       "  [ 1.21462324e-16-1.39101813e-16j]\n",
       "  [ 8.16734585e-17-2.49614131e-17j]\n",
       "  [ 1.25975975e-01-4.83869873e-01j]\n",
       "  [ 5.20733847e-17-1.30318421e-16j]\n",
       "  [ 1.25975975e-01-4.83869873e-01j]\n",
       "  [ 1.25975975e-01-4.83869873e-01j]\n",
       "  [ 2.42141267e-16-7.17203966e-16j]],\n",
       " Quantum object: dims=[[2, 2, 2, 2], [1]], shape=(16, 1), type='ket', dtype=Dense\n",
       " Qobj data =\n",
       " [[ 1.03017996e-16+1.60088572e-17j]\n",
       "  [-3.02752681e-17-4.62968523e-17j]\n",
       "  [ 2.24256084e-16-5.17639315e-17j]\n",
       "  [ 1.40952815e-01-3.83143538e-01j]\n",
       "  [ 2.68829704e-17-6.16464549e-17j]\n",
       "  [ 1.40952815e-01-3.83143538e-01j]\n",
       "  [ 1.40952815e-01-3.83143538e-01j]\n",
       "  [ 7.79747240e-17+5.56338470e-17j]\n",
       "  [ 6.43109795e-17-2.18354512e-17j]\n",
       "  [ 1.40952815e-01-3.83143538e-01j]\n",
       "  [ 1.40952815e-01-3.83143538e-01j]\n",
       "  [ 2.06412131e-17+6.58669154e-17j]\n",
       "  [ 1.40952815e-01-3.83143538e-01j]\n",
       "  [ 9.91419507e-17+8.23785614e-19j]\n",
       "  [ 2.06412131e-17-1.73998114e-17j]\n",
       "  [-2.90094313e-17-1.35015327e-16j]],\n",
       " Quantum object: dims=[[2, 2, 2, 2], [1]], shape=(16, 1), type='ket', dtype=Dense\n",
       " Qobj data =\n",
       " [[ 7.74416919e-17+3.39488063e-16j]\n",
       "  [ 4.63487497e-01-1.87561564e-01j]\n",
       "  [ 4.63487497e-01-1.87561564e-01j]\n",
       "  [-8.27937402e-17+1.53748211e-17j]\n",
       "  [ 4.63487497e-01-1.87561564e-01j]\n",
       "  [-6.88641544e-17+1.88572175e-17j]\n",
       "  [ 2.82026633e-17+1.02149843e-16j]\n",
       "  [ 5.46931515e-18-1.96822238e-16j]\n",
       "  [ 4.63487497e-01-1.87561564e-01j]\n",
       "  [-3.76779803e-17-2.62455929e-17j]\n",
       "  [-1.14057611e-16+1.12493437e-16j]\n",
       "  [-3.09534031e-17-2.52320440e-16j]\n",
       "  [ 1.08942770e-17-2.97668378e-17j]\n",
       "  [ 6.96281848e-17-2.61058805e-16j]\n",
       "  [-1.70756153e-17-2.50585716e-16j]\n",
       "  [-1.34374779e-16-2.11950673e-16j]],\n",
       " Quantum object: dims=[[2, 2, 2, 2], [1]], shape=(16, 1), type='ket', dtype=Dense\n",
       " Qobj data =\n",
       " [[ 8.25720677e-01+5.64079217e-01j]\n",
       "  [ 6.30467350e-17+2.43496416e-16j]\n",
       "  [-5.06695102e-18+2.06795295e-16j]\n",
       "  [ 2.28635978e-17+2.19300949e-18j]\n",
       "  [ 8.02318238e-18+2.38564173e-16j]\n",
       "  [-2.87467643e-17-1.07854096e-16j]\n",
       "  [ 3.47909910e-17-1.33659277e-16j]\n",
       "  [-4.04990062e-17-1.67343929e-16j]\n",
       "  [-1.69943443e-17+1.80071173e-16j]\n",
       "  [-5.94279317e-17-5.23429444e-17j]\n",
       "  [ 2.83615974e-16+1.41204027e-17j]\n",
       "  [-5.31693803e-18-2.21879883e-16j]\n",
       "  [-1.77945683e-17-7.01215214e-17j]\n",
       "  [-2.85716130e-17-1.15733567e-16j]\n",
       "  [ 2.24386376e-17-1.66368732e-16j]\n",
       "  [-7.32096673e-17-3.06935701e-16j]]]"
      ]
     },
     "execution_count": 10,
     "metadata": {},
     "output_type": "execute_result"
    }
   ],
   "source": [
    "eigvecs"
   ]
  },
  {
   "cell_type": "markdown",
   "id": "9bdbe519",
   "metadata": {},
   "source": [
    "## Fix U(1) global phase for each eigenvector"
   ]
  },
  {
   "cell_type": "code",
   "execution_count": 8,
   "id": "06f3a509",
   "metadata": {},
   "outputs": [],
   "source": [
    "from qiskit.quantum_info import Statevector"
   ]
  },
  {
   "cell_type": "code",
   "execution_count": 9,
   "id": "88cb165a",
   "metadata": {},
   "outputs": [
    {
     "name": "stdout",
     "output_type": "stream",
     "text": [
      "0\n"
     ]
    },
    {
     "data": {
      "text/latex": [
       "$$- \\frac{\\sqrt{3}}{6} |0011\\rangle+\\frac{\\sqrt{3}}{3} |0101\\rangle- \\frac{\\sqrt{3}}{6} |0110\\rangle- \\frac{\\sqrt{3}}{6} |1001\\rangle+\\frac{\\sqrt{3}}{3} |1010\\rangle- \\frac{\\sqrt{3}}{6} |1100\\rangle$$"
      ],
      "text/plain": [
       "<IPython.core.display.Latex object>"
      ]
     },
     "metadata": {},
     "output_type": "display_data"
    },
    {
     "name": "stdout",
     "output_type": "stream",
     "text": [
      "1\n"
     ]
    },
    {
     "data": {
      "text/latex": [
       "$$\\frac{1}{2} |0111\\rangle- \\frac{1}{2} |1011\\rangle+\\frac{1}{2} |1101\\rangle- \\frac{1}{2} |1110\\rangle$$"
      ],
      "text/plain": [
       "<IPython.core.display.Latex object>"
      ]
     },
     "metadata": {},
     "output_type": "display_data"
    },
    {
     "name": "stdout",
     "output_type": "stream",
     "text": [
      "2\n"
     ]
    },
    {
     "data": {
      "text/latex": [
       "$$\\frac{\\sqrt{2}}{2} |0101\\rangle- \\frac{\\sqrt{2}}{2} |1010\\rangle$$"
      ],
      "text/plain": [
       "<IPython.core.display.Latex object>"
      ]
     },
     "metadata": {},
     "output_type": "display_data"
    },
    {
     "name": "stdout",
     "output_type": "stream",
     "text": [
      "3\n"
     ]
    },
    {
     "data": {
      "text/latex": [
       "$$\\frac{1}{2} |0001\\rangle- \\frac{1}{2} |0010\\rangle+\\frac{1}{2} |0100\\rangle- \\frac{1}{2} |1000\\rangle$$"
      ],
      "text/plain": [
       "<IPython.core.display.Latex object>"
      ]
     },
     "metadata": {},
     "output_type": "display_data"
    },
    {
     "name": "stdout",
     "output_type": "stream",
     "text": [
      "4\n"
     ]
    },
    {
     "data": {
      "text/latex": [
       "$$\\frac{1}{2} |0011\\rangle- \\frac{1}{2} |0110\\rangle- \\frac{1}{2} |1001\\rangle+\\frac{1}{2} |1100\\rangle$$"
      ],
      "text/plain": [
       "<IPython.core.display.Latex object>"
      ]
     },
     "metadata": {},
     "output_type": "display_data"
    },
    {
     "name": "stdout",
     "output_type": "stream",
     "text": [
      "5\n"
     ]
    },
    {
     "data": {
      "text/latex": [
       "$$\\frac{\\sqrt{2}}{2} |1011\\rangle- \\frac{\\sqrt{2}}{2} |1110\\rangle$$"
      ],
      "text/plain": [
       "<IPython.core.display.Latex object>"
      ]
     },
     "metadata": {},
     "output_type": "display_data"
    },
    {
     "name": "stdout",
     "output_type": "stream",
     "text": [
      "6\n"
     ]
    },
    {
     "data": {
      "text/latex": [
       "$$\\frac{\\sqrt{2}}{2} |0111\\rangle- \\frac{\\sqrt{2}}{2} |1101\\rangle$$"
      ],
      "text/plain": [
       "<IPython.core.display.Latex object>"
      ]
     },
     "metadata": {},
     "output_type": "display_data"
    },
    {
     "name": "stdout",
     "output_type": "stream",
     "text": [
      "7\n"
     ]
    },
    {
     "data": {
      "text/latex": [
       "$$\\frac{1}{2} |0011\\rangle- \\frac{1}{2} |0110\\rangle+\\frac{1}{2} |1001\\rangle- \\frac{1}{2} |1100\\rangle$$"
      ],
      "text/plain": [
       "<IPython.core.display.Latex object>"
      ]
     },
     "metadata": {},
     "output_type": "display_data"
    },
    {
     "name": "stdout",
     "output_type": "stream",
     "text": [
      "8\n"
     ]
    },
    {
     "data": {
      "text/latex": [
       "$$\\frac{1}{2} |0011\\rangle+\\frac{1}{2} |0110\\rangle- \\frac{1}{2} |1001\\rangle- \\frac{1}{2} |1100\\rangle$$"
      ],
      "text/plain": [
       "<IPython.core.display.Latex object>"
      ]
     },
     "metadata": {},
     "output_type": "display_data"
    },
    {
     "name": "stdout",
     "output_type": "stream",
     "text": [
      "9\n"
     ]
    },
    {
     "data": {
      "text/latex": [
       "$$\\frac{\\sqrt{2}}{2} |0001\\rangle- \\frac{\\sqrt{2}}{2} |0100\\rangle$$"
      ],
      "text/plain": [
       "<IPython.core.display.Latex object>"
      ]
     },
     "metadata": {},
     "output_type": "display_data"
    },
    {
     "name": "stdout",
     "output_type": "stream",
     "text": [
      "10\n"
     ]
    },
    {
     "data": {
      "text/latex": [
       "$$\\frac{\\sqrt{2}}{2} |0010\\rangle- \\frac{\\sqrt{2}}{2} |1000\\rangle$$"
      ],
      "text/plain": [
       "<IPython.core.display.Latex object>"
      ]
     },
     "metadata": {},
     "output_type": "display_data"
    },
    {
     "name": "stdout",
     "output_type": "stream",
     "text": [
      "11\n"
     ]
    },
    {
     "data": {
      "text/latex": [
       "$$ |1111\\rangle$$"
      ],
      "text/plain": [
       "<IPython.core.display.Latex object>"
      ]
     },
     "metadata": {},
     "output_type": "display_data"
    },
    {
     "name": "stdout",
     "output_type": "stream",
     "text": [
      "12\n"
     ]
    },
    {
     "data": {
      "text/latex": [
       "$$\\frac{1}{2} |0111\\rangle+\\frac{1}{2} |1011\\rangle+\\frac{1}{2} |1101\\rangle+\\frac{1}{2} |1110\\rangle$$"
      ],
      "text/plain": [
       "<IPython.core.display.Latex object>"
      ]
     },
     "metadata": {},
     "output_type": "display_data"
    },
    {
     "name": "stdout",
     "output_type": "stream",
     "text": [
      "13\n"
     ]
    },
    {
     "data": {
      "text/latex": [
       "$$\\frac{\\sqrt{6}}{6} |0011\\rangle+\\frac{\\sqrt{6}}{6} |0101\\rangle+\\frac{\\sqrt{6}}{6} |0110\\rangle+\\frac{\\sqrt{6}}{6} |1001\\rangle+\\frac{\\sqrt{6}}{6} |1010\\rangle+\\frac{\\sqrt{6}}{6} |1100\\rangle$$"
      ],
      "text/plain": [
       "<IPython.core.display.Latex object>"
      ]
     },
     "metadata": {},
     "output_type": "display_data"
    },
    {
     "name": "stdout",
     "output_type": "stream",
     "text": [
      "14\n"
     ]
    },
    {
     "data": {
      "text/latex": [
       "$$\\frac{1}{2} |0001\\rangle+\\frac{1}{2} |0010\\rangle+\\frac{1}{2} |0100\\rangle+\\frac{1}{2} |1000\\rangle$$"
      ],
      "text/plain": [
       "<IPython.core.display.Latex object>"
      ]
     },
     "metadata": {},
     "output_type": "display_data"
    },
    {
     "name": "stdout",
     "output_type": "stream",
     "text": [
      "15\n"
     ]
    },
    {
     "data": {
      "text/latex": [
       "$$ |0000\\rangle$$"
      ],
      "text/plain": [
       "<IPython.core.display.Latex object>"
      ]
     },
     "metadata": {},
     "output_type": "display_data"
    }
   ],
   "source": [
    "eigVsym_fp = eigVsym.copy()  #new obj. to hold the fixed phase eigenvectors\n",
    "for ii in range(2**4):\n",
    "    print(ii)\n",
    "    if np.sqrt((eigEsym[ii,0]-(-8))**2 + (eigEsym[ii,1]-0)**2) < 1e-10:  #|λ0>: E=-8, s(s+1)=0\n",
    "        vec = eigVsym_fp[ii].data_as()\n",
    "        c0011 = vec[3] #int('0011',base=2)==3\n",
    "        eigVsym_fp[ii] *= -np.exp(-1j*np.angle(c0011))  #make c0011<0, see Eq. (513) in the notes\n",
    "        vec = eigVsym_fp[ii].data_as()\n",
    "        display(Statevector(vec).draw('latex'))\n",
    "    elif np.sqrt((eigEsym[ii,0]-0)**2 + (eigEsym[ii,1]-0)**2) < 1e-10:  #|λ1>: E=0, s(s+1)=0\n",
    "        vec = eigVsym_fp[ii].data_as()\n",
    "        c0011 = vec[3] #int('0011',base=2)==3\n",
    "        eigVsym_fp[ii] *= np.exp(-1j*np.angle(c0011)) #make c0011>0, see Eq. (514) in the notes\n",
    "        vec = eigVsym_fp[ii].data_as()\n",
    "        display(Statevector(vec).draw('latex'))        \n",
    "    else:\n",
    "        #continue  #uncomment this line to skip the code below that fixes other phases (optional, because phases cancel in |E_k><E_k|)\n",
    "        vec = eigVsym_fp[ii].data_as()\n",
    "        c_idx = np.where(abs(vec)>1e-10)[0][0]  #first nonzero element\n",
    "        c = vec[c_idx]\n",
    "        eigVsym_fp[ii] *= np.exp(-1j*np.angle(c))\n",
    "        vec = eigVsym_fp[ii].data_as()\n",
    "        display(Statevector(vec).draw('latex'))\n",
    "        \n",
    "\n",
    "eigvecs = eigVsym_fp"
   ]
  },
  {
   "cell_type": "code",
   "execution_count": 10,
   "id": "faf36266",
   "metadata": {},
   "outputs": [],
   "source": [
    "# G(α, Es) basis functions\n",
    "e0 = lambda α, Es: np.exp(-2*(α**2)*((Es + 12)**2)) \n",
    "e1 = lambda α, Es: np.exp(-2*(α**2)*((Es + 8)**2)) \n",
    "e2 = lambda α, Es: np.exp(-2*(α**2)*((Es + 4)**2)) \n",
    "e3 = lambda α, Es: np.exp(-2*(α**2)*(Es**2)) \n",
    "e4 = lambda α, Es: np.exp(-2*(α**2)*((Es - 4)**2))\n",
    "e5 = lambda α, Es: np.exp(-2*(α**2)*((Es + 2)**2 + 4))\n",
    "e6 = lambda α, Es: np.exp(-2*(α**2)*((Es - 2)**2 + 4))\n",
    "e7 = lambda α, Es: np.exp(-2*(α**2)*(Es**2 + 8))\n",
    "e8 = lambda α, Es: np.exp(-2*(α**2)*((Es + 4)**2 + 16))\n",
    "e9 = lambda α, Es: np.exp(-2*(α**2)*(Es**2 + 16))"
   ]
  },
  {
   "cell_type": "code",
   "execution_count": 11,
   "id": "afaa48b0",
   "metadata": {},
   "outputs": [],
   "source": [
    "# G(α, Es) coefficients\n",
    "g00 = lambda α, Es: (3*e0(α, Es) + 24*e1(α, Es) \\\n",
    "                     + 6*e2(α, Es) - e4(α, Es))/32\n",
    "g44 = lambda α, Es: -(e0(α, Es) - 6*e2(α, Es) \\\n",
    "                      - 24*e3(α, Es) - 3*e4(α, Es))/32\n",
    "g04 = lambda α, Es: (np.sqrt(3)*(e0(α, Es) + 4*e1(α, Es) - \\\n",
    "                     10*e2(α, Es) + 4*e3(α, Es) + e4(α, Es)))/32\n",
    "g40 = lambda α, Es: - g04(α, Es)\n",
    "gt = lambda α, Es: (e2(α, Es) + 4*e5(α, Es) - 4*e7(α, Es) + \\\n",
    "                    2*e8(α, Es) + e9(α, Es))/4\n",
    "gs = lambda α, Es: (e3(α, Es) + e5(α, Es) - e7(α, Es) + e9(α, Es))/2\n",
    "gq = lambda α, Es: e4(α, Es)"
   ]
  },
  {
   "cell_type": "code",
   "execution_count": 12,
   "id": "e0d6272e",
   "metadata": {},
   "outputs": [],
   "source": [
    "# define G as a function of α and Es\n",
    "G = lambda α, Es: \\\n",
    "    g00(α, Es)*ρ_list[0] + \\\n",
    "    g04(α, Es)*eigvecs[0]*eigvecs[4].dag() + \\\n",
    "    g40(α, Es)*eigvecs[4]*eigvecs[0].dag() + \\\n",
    "    g44(α, Es)*ρ_list[4] + \\\n",
    "    gt(α, Es)*sum(ρ_list[1:4]) + \\\n",
    "    gs(α, Es)*sum(ρ_list[5:11]) + \\\n",
    "    gq(α, Es)*sum(ρ_list[11:16])"
   ]
  },
  {
   "cell_type": "code",
   "execution_count": 13,
   "id": "71a7768f",
   "metadata": {},
   "outputs": [
    {
     "data": {
      "text/latex": [
       "Quantum object: dims=[[2, 2, 2, 2], [2, 2, 2, 2]], shape=(16, 16), type='oper', dtype=Dense, isherm=False$$\\left(\\begin{array}{cc}-4.276\\times10^{ -50 } & -2.623\\times10^{ -33 } & 2.322\\times10^{ -33 } & 1.119\\times10^{ -18 } & -2.728\\times10^{ -33 } & \\cdots & -4.803\\times10^{ -34 } & 1.119\\times10^{ -18 } & 2.921\\times10^{ -34 } & -2.525\\times10^{ -34 } & -3.889\\times10^{ -34 }\\\\2.623\\times10^{ -33 } & 7.915\\times10^{ -16 } & -7.915\\times10^{ -16 } & -6.426\\times10^{ -18 } & 7.915\\times10^{ -16 } & \\cdots & -5.638\\times10^{ -34 } & -6.426\\times10^{ -18 } & -1.817\\times10^{ -33 } & -1.288\\times10^{ -33 } & 1.375\\times10^{ -33 }\\\\-2.322\\times10^{ -33 } & -7.915\\times10^{ -16 } & 7.915\\times10^{ -16 } & -7.251\\times10^{ -19 } & -7.915\\times10^{ -16 } & \\cdots & 1.862\\times10^{ -33 } & -7.251\\times10^{ -19 } & 1.602\\times10^{ -33 } & 3.001\\times10^{ -33 } & -1.730\\times10^{ -33 }\\\\-1.119\\times10^{ -18 } & 6.426\\times10^{ -18 } & 7.251\\times10^{ -19 } & 0.063 & -8.023\\times10^{ -18 } & \\cdots & 7.281\\times10^{ -18 } & 0.063 & -3.950\\times10^{ -18 } & 9.956\\times10^{ -18 } & 2.288\\times10^{ -18 }\\\\2.728\\times10^{ -33 } & 7.915\\times10^{ -16 } & -7.915\\times10^{ -16 } & 8.023\\times10^{ -18 } & 7.915\\times10^{ -16 } & \\cdots & -2.813\\times10^{ -33 } & 8.023\\times10^{ -18 } & -2.300\\times10^{ -33 } & -3.594\\times10^{ -33 } & 2.292\\times10^{ -33 }\\\\\\vdots & \\vdots & \\vdots & \\vdots & \\vdots & \\ddots & \\vdots & \\vdots & \\vdots & \\vdots & \\vdots\\\\4.803\\times10^{ -34 } & 5.638\\times10^{ -34 } & -1.862\\times10^{ -33 } & -7.281\\times10^{ -18 } & 2.813\\times10^{ -33 } & \\cdots & 1.412\\times10^{ -15 } & -5.410\\times10^{ -16 } & -7.915\\times10^{ -16 } & 1.713\\times10^{ -16 } & -2.160\\times10^{ -34 }\\\\-1.119\\times10^{ -18 } & 6.426\\times10^{ -18 } & 7.251\\times10^{ -19 } & 0.063 & -8.023\\times10^{ -18 } & \\cdots & -5.264\\times10^{ -16 } & 0.063 & -3.950\\times10^{ -18 } & 5.436\\times10^{ -16 } & 2.288\\times10^{ -18 }\\\\-2.921\\times10^{ -34 } & 1.817\\times10^{ -33 } & -1.602\\times10^{ -33 } & 3.950\\times10^{ -18 } & 2.300\\times10^{ -33 } & \\cdots & -7.915\\times10^{ -16 } & 3.950\\times10^{ -18 } & 7.915\\times10^{ -16 } & -7.915\\times10^{ -16 } & 2.494\\times10^{ -34 }\\\\2.525\\times10^{ -34 } & 1.288\\times10^{ -33 } & -3.001\\times10^{ -33 } & -9.956\\times10^{ -18 } & 3.594\\times10^{ -33 } & \\cdots & 1.713\\times10^{ -16 } & 5.237\\times10^{ -16 } & -7.915\\times10^{ -16 } & 1.412\\times10^{ -15 } & -3.318\\times10^{ -34 }\\\\3.889\\times10^{ -34 } & -1.375\\times10^{ -33 } & 1.730\\times10^{ -33 } & -2.288\\times10^{ -18 } & -2.292\\times10^{ -33 } & \\cdots & 2.160\\times10^{ -34 } & -2.288\\times10^{ -18 } & -2.494\\times10^{ -34 } & 3.318\\times10^{ -34 } & 8.379\\times10^{ -126 }\\end{array}\\right)$$"
      ],
      "text/plain": [
       "Quantum object: dims=[[2, 2, 2, 2], [2, 2, 2, 2]], shape=(16, 16), type='oper', dtype=Dense, isherm=False\n",
       "Qobj data =\n",
       "[[-4.27642354e-050 -2.62275964e-033  2.32152254e-033  1.11945386e-018\n",
       "  -2.72775821e-033  4.61421698e-018 -5.73367083e-018 -7.87361139e-035\n",
       "   2.23355596e-033 -5.73367083e-018  4.61421698e-018 -4.80277866e-034\n",
       "   1.11945386e-018  2.92080678e-034 -2.52547731e-034 -3.88920452e-034]\n",
       " [ 2.62275964e-033  7.91510347e-016 -7.91510347e-016 -6.42621464e-018\n",
       "   7.91510347e-016  1.19373066e-017 -5.51109198e-018  3.97070050e-034\n",
       "  -7.91510347e-016 -5.51109198e-018  1.19373066e-017 -5.63839214e-034\n",
       "  -6.42621464e-018 -1.81667823e-033 -1.28837621e-033  1.37512573e-033]\n",
       " [-2.32152254e-033 -7.91510347e-016  7.91510347e-016 -7.25117075e-019\n",
       "  -7.91510347e-016 -4.97059607e-018  5.69571315e-018 -1.71365792e-033\n",
       "   7.91510347e-016  5.69571315e-018 -4.97059607e-018  1.86224343e-033\n",
       "  -7.25117075e-019  1.60202422e-033  3.00143793e-033 -1.73007522e-033]\n",
       " [-1.11945386e-018  6.42621464e-018  7.25117075e-019  6.25000000e-002\n",
       "  -8.02251732e-018 -1.87500000e-001  1.25000000e-001 -3.62248115e-018\n",
       "   6.95255353e-018  1.25000000e-001 -1.87500000e-001  7.28062915e-018\n",
       "   6.25000000e-002 -3.95021697e-018  9.95610186e-018  2.28780922e-018]\n",
       " [ 2.72775821e-033  7.91510347e-016 -7.91510347e-016  8.02251732e-018\n",
       "   7.91510347e-016 -1.86238198e-018 -6.16013535e-018  2.26385658e-033\n",
       "  -7.91510347e-016 -6.16013535e-018 -1.86238198e-018 -2.81260338e-033\n",
       "   8.02251732e-018 -2.29963250e-033 -3.59423982e-033  2.29195633e-033]\n",
       " [-4.61421698e-018 -1.19373066e-017  4.97059607e-018 -6.25000000e-002\n",
       "   1.86238198e-018  2.50000000e-001 -1.87500000e-001  7.04261214e-018\n",
       "  -8.58303579e-019 -1.87500000e-001  2.50000000e-001 -1.30973875e-017\n",
       "  -6.25000000e-002  6.81290701e-018 -1.26174768e-017 -3.75553246e-018]\n",
       " [ 5.73367083e-018  5.51109198e-018 -5.69571315e-018  2.20656826e-015\n",
       "   6.16013535e-018 -6.25000000e-002  6.25000000e-002 -3.42013100e-018\n",
       "  -6.09424995e-018  6.25000000e-002 -6.25000000e-002  3.96505717e-016\n",
       "   1.70387061e-015 -2.86269005e-018 -3.88027584e-016  1.46772324e-018]\n",
       " [ 7.87361139e-035 -3.97070050e-034  1.71365792e-033  3.62248115e-018\n",
       "  -2.26385658e-033 -7.04261214e-018  3.42013100e-018  7.91510347e-016\n",
       "   2.14423424e-033  3.42013100e-018 -7.04261214e-018 -7.91510347e-016\n",
       "   3.62248115e-018  7.91510347e-016 -7.91510347e-016  3.54375434e-034]\n",
       " [-2.23355596e-033 -7.91510347e-016  7.91510347e-016 -6.95255353e-018\n",
       "  -7.91510347e-016  8.58303579e-019  6.09424995e-018 -2.14423424e-033\n",
       "   7.91510347e-016  6.09424995e-018  8.58303579e-019  2.59214594e-033\n",
       "  -6.95255353e-018  1.76210628e-033  3.44003311e-033 -1.90764428e-033]\n",
       " [ 5.73367083e-018  5.51109198e-018 -5.69571315e-018  2.21003771e-015\n",
       "   6.16013535e-018 -6.25000000e-002  6.25000000e-002 -3.42013100e-018\n",
       "  -6.09424995e-018  6.25000000e-002 -6.25000000e-002  1.48818842e-016\n",
       "   1.91352072e-015 -2.86269005e-018 -1.40340709e-016  1.46772324e-018]\n",
       " [-4.61421698e-018 -1.19373066e-017  4.97059607e-018 -6.25000000e-002\n",
       "   1.86238198e-018  2.50000000e-001 -1.87500000e-001  7.04261214e-018\n",
       "  -8.58303579e-019 -1.87500000e-001  2.50000000e-001 -1.30973875e-017\n",
       "  -6.25000000e-002  6.81290701e-018 -1.26174768e-017 -3.75553246e-018]\n",
       " [ 4.80277866e-034  5.63839214e-034 -1.86224343e-033 -7.28062915e-018\n",
       "   2.81260338e-033  1.30973875e-017  3.84872201e-016 -7.91510347e-016\n",
       "  -2.59214594e-033  1.37185326e-016  1.30973875e-017  1.41176437e-015\n",
       "  -5.40971672e-016 -7.91510347e-016  1.71256327e-016 -2.15998523e-034]\n",
       " [-1.11945386e-018  6.42621464e-018  7.25117075e-019  6.25000000e-002\n",
       "  -8.02251732e-018 -1.87500000e-001  1.25000000e-001 -3.62248115e-018\n",
       "   6.95255353e-018  1.25000000e-001 -1.87500000e-001 -5.26410414e-016\n",
       "   6.25000000e-002 -3.95021697e-018  5.43647145e-016  2.28780922e-018]\n",
       " [-2.92080678e-034  1.81667823e-033 -1.60202422e-033  3.95021697e-018\n",
       "   2.29963250e-033 -6.81290701e-018  2.86269005e-018  7.91510347e-016\n",
       "  -1.76210628e-033  2.86269005e-018 -6.81290701e-018 -7.91510347e-016\n",
       "   3.95021697e-018  7.91510347e-016 -7.91510347e-016  2.49350939e-034]\n",
       " [ 2.52547731e-034  1.28837621e-033 -3.00143793e-033 -9.95610186e-018\n",
       "   3.59423982e-033  1.26174768e-017 -3.93350334e-016 -7.91510347e-016\n",
       "  -3.44003311e-033 -1.45663459e-016  1.26174768e-017  1.71256327e-016\n",
       "   5.23734941e-016 -7.91510347e-016  1.41176437e-015 -3.31823945e-034]\n",
       " [ 3.88920452e-034 -1.37512573e-033  1.73007522e-033 -2.28780922e-018\n",
       "  -2.29195633e-033  3.75553246e-018 -1.46772324e-018 -3.54375434e-034\n",
       "   1.90764428e-033 -1.46772324e-018  3.75553246e-018  2.15998523e-034\n",
       "  -2.28780922e-018 -2.49350939e-034  3.31823945e-034  8.37894253e-126]]"
      ]
     },
     "execution_count": 13,
     "metadata": {},
     "output_type": "execute_result"
    }
   ],
   "source": [
    "# compute log(G) for α = 1\n",
    "α = 1\n",
    "Es = -8\n",
    "G = G(α, Es)\n",
    "G"
   ]
  },
  {
   "cell_type": "code",
   "execution_count": 14,
   "id": "ed82c02b",
   "metadata": {},
   "outputs": [
    {
     "data": {
      "text/plain": [
       "True"
      ]
     },
     "execution_count": 14,
     "metadata": {},
     "output_type": "execute_result"
    }
   ],
   "source": [
    "VTA == G"
   ]
  },
  {
   "cell_type": "code",
   "execution_count": null,
   "id": "5ee3c7a0",
   "metadata": {},
   "outputs": [],
   "source": []
  }
 ],
 "metadata": {
  "kernelspec": {
   "display_name": "Python 3 (ipykernel)",
   "language": "python",
   "name": "python3"
  },
  "language_info": {
   "codemirror_mode": {
    "name": "ipython",
    "version": 3
   },
   "file_extension": ".py",
   "mimetype": "text/x-python",
   "name": "python",
   "nbconvert_exporter": "python",
   "pygments_lexer": "ipython3",
   "version": "3.11.7"
  },
  "toc": {
   "base_numbering": 1,
   "nav_menu": {},
   "number_sections": false,
   "sideBar": true,
   "skip_h1_title": false,
   "title_cell": "Table of Contents",
   "title_sidebar": "Contents",
   "toc_cell": false,
   "toc_position": {},
   "toc_section_display": true,
   "toc_window_display": false
  }
 },
 "nbformat": 4,
 "nbformat_minor": 5
}
