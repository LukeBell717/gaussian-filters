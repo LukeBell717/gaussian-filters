{
 "cells": [
  {
   "cell_type": "markdown",
   "id": "d452898e",
   "metadata": {},
   "source": [
    "# Heisenberg 4 Sites &mdash; Analytical Forms"
   ]
  },
  {
   "cell_type": "markdown",
   "id": "dc6c10c5",
   "metadata": {},
   "source": [
    "## Import packages"
   ]
  },
  {
   "cell_type": "code",
   "execution_count": 1,
   "id": "67ad8430",
   "metadata": {},
   "outputs": [
    {
     "ename": "ModuleNotFoundError",
     "evalue": "No module named 'qiskit'",
     "output_type": "error",
     "traceback": [
      "\u001b[0;31m---------------------------------------------------------------------------\u001b[0m",
      "\u001b[0;31mModuleNotFoundError\u001b[0m                       Traceback (most recent call last)",
      "Cell \u001b[0;32mIn[1], line 27\u001b[0m\n\u001b[1;32m     22\u001b[0m \u001b[38;5;66;03m#mpl.rcParams['font.family'] = ['serif', 'sans-serif']\u001b[39;00m\n\u001b[1;32m     23\u001b[0m \u001b[38;5;66;03m##mpl.rcParams['text.latex.preamble'] = r'\\usepackage{amsmath} \\usepackage[T1]{fontenc}'\u001b[39;00m\n\u001b[1;32m     24\u001b[0m \u001b[38;5;66;03m#mpl.rcParams['text.latex.unicode'] = True\u001b[39;00m\n\u001b[1;32m     25\u001b[0m \u001b[38;5;28;01mfrom\u001b[39;00m \u001b[38;5;21;01mmpl_toolkits\u001b[39;00m\u001b[38;5;21;01m.\u001b[39;00m\u001b[38;5;21;01maxes_grid1\u001b[39;00m \u001b[38;5;28;01mimport\u001b[39;00m Grid\n\u001b[0;32m---> 27\u001b[0m \u001b[38;5;28;01mfrom\u001b[39;00m \u001b[38;5;21;01mqiskit\u001b[39;00m\u001b[38;5;21;01m.\u001b[39;00m\u001b[38;5;21;01mquantum_info\u001b[39;00m \u001b[38;5;28;01mimport\u001b[39;00m Statevector\n\u001b[1;32m     29\u001b[0m \u001b[38;5;28;01mfrom\u001b[39;00m \u001b[38;5;21;01mqutip\u001b[39;00m \u001b[38;5;28;01mimport\u001b[39;00m Qobj, about, basis, simdiag\n",
      "\u001b[0;31mModuleNotFoundError\u001b[0m: No module named 'qiskit'"
     ]
    }
   ],
   "source": [
    "import time, os\n",
    "\n",
    "import numpy as np\n",
    "import sympy as sp\n",
    "from scipy import linalg, sparse\n",
    "\n",
    "from openfermion.ops import FermionOperator as FO, QubitOperator as QO\n",
    "from openfermion.linalg import get_sparse_operator, get_ground_state\n",
    "from openfermion.utils import anticommutator, commutator, save_operator, count_qubits, is_hermitian, hermitian_conjugated\n",
    "\n",
    "from IPython.display import display, Math, Markdown, Latex, HTML\n",
    "\n",
    "import matplotlib as mpl\n",
    "from matplotlib import pyplot as plt\n",
    "%config InlineBackend.figure_format = 'retina'\n",
    "plt.rcParams.update({\n",
    "    #\"text.usetex\": True,\n",
    "    #\"font.family\": \"serif\",\n",
    "    #\"font.serif\": [\"Computer Modern Roman\", \"Times\", \"Palatino\"],\n",
    "    #\"font.size\": 16,\n",
    "})\n",
    "#mpl.rcParams['font.family'] = ['serif', 'sans-serif']\n",
    "##mpl.rcParams['text.latex.preamble'] = r'\\usepackage{amsmath} \\usepackage[T1]{fontenc}'\n",
    "#mpl.rcParams['text.latex.unicode'] = True\n",
    "from mpl_toolkits.axes_grid1 import Grid\n",
    "\n",
    "from qiskit.quantum_info import Statevector\n",
    "\n",
    "from qutip import Qobj, about, basis, simdiag"
   ]
  },
  {
   "cell_type": "markdown",
   "id": "e3cdb1d3",
   "metadata": {},
   "source": [
    "## Define Hamiltonian and SWAP operators"
   ]
  },
  {
   "cell_type": "code",
   "execution_count": null,
   "id": "ef1b0b69",
   "metadata": {},
   "outputs": [],
   "source": [
    "# Heisenberg 4-site Hamiltonian terms in OpenFermion qubit operator form\n",
    "Lsite = 4\n",
    "Ham = {}\n",
    "edges = [(1,2), (2,3), (3,4), (4,1)]  #site index 1--4, but OpenFermion index 0--3\n",
    "for ii,jj in edges:\n",
    "    Ham[(ii,jj)] = QO(f'X{ii-1} X{jj-1}') + QO(f'Y{ii-1} Y{jj-1}') + QO(f'Z{ii-1} Z{jj-1}')\n",
    "\n",
    "# Full Hamiltonian in qubit operator\n",
    "HQ = QO()  #initialize with zero operator\n",
    "for k,v in Ham.items():\n",
    "    HQ += v\n",
    "# Convert to sparse numerical matrix, then to numpy array (.A), then to real part (XX, YY, ZZ are purely real)\n",
    "HM = get_sparse_operator(HQ, n_qubits=4).A.real\n",
    "eigE_H4, eigV_H4 = np.linalg.eigh(HM)\n",
    "print('4-site Heisenberg Hamiltonian eigenenergy:',eigE_H4.round(6), sep='\\n')"
   ]
  },
  {
   "cell_type": "code",
   "execution_count": null,
   "id": "46cf977a",
   "metadata": {},
   "outputs": [],
   "source": [
    "# SWAP operators s_ij\n",
    "Swaps = {}\n",
    "for k,v in Ham.items():\n",
    "    Swaps[k] = 0.5*(v + QO(()))\n",
    "\n",
    "Swaps[(2,4)] = 0.5*(QO('X1 X3') + QO('Y1 Y3') + QO('Z1 Z3') + QO(()))\n",
    "Swaps[(1,3)] = 0.5*(QO('X0 X2') + QO('Y0 Y2') + QO('Z0 Z2') + QO(()))"
   ]
  },
  {
   "cell_type": "markdown",
   "id": "246489d0",
   "metadata": {},
   "source": [
    "## Diagonalization in $(\\mathbf{S}^2,S_z)$ symmetry basis"
   ]
  },
  {
   "cell_type": "code",
   "execution_count": null,
   "id": "98f96311",
   "metadata": {},
   "outputs": [],
   "source": [
    "# Define symmetry operators in OpenFermion qubit operator form\n",
    "S2, Sz, Sx, Sy = QO(), QO(), QO(), QO()  #(S^2, Sz, Sx, Sy) qubit operators\n",
    "for ii in range(4):\n",
    "    Sz += QO(f'Z{ii}', 0.5)\n",
    "    Sx += QO(f'X{ii}', 0.5)\n",
    "    Sy += QO(f'Y{ii}', 0.5)\n",
    "S2 = Sx*Sx + Sy*Sy + Sz*Sz\n",
    "#symmetry operators must commute with the full Hamiltonian\n",
    "#print(commutator(S2, HQ), commutator(Sz, HQ), commutator(S2, Sz), sep='\\n')\n",
    "\n",
    "# Convert to numpy array\n",
    "SzM = get_sparse_operator(Sz,n_qubits=4).A.real\n",
    "S2M = get_sparse_operator(S2,n_qubits=4).A.real\n",
    "s24 = get_sparse_operator(Swaps[(2,4)],n_qubits=4).A.real\n",
    "\n",
    "# Find simultaneous eigenvectors using QuTiP\n",
    "eigEsym, eigVsym = simdiag([Qobj(HM), Qobj(S2M), Qobj(SzM), Qobj(s24)])\n",
    "#good quantum numbers are all integers here, so round off numerical noise\n",
    "eigEsym = eigEsym.round(12).T\n",
    "#eigenvectors here should be real (imaginary parts are numerical noise); and transpose (.T) to column-vector notation\n",
    "eigVsym = np.array(eigVsym)[:,:,0].T.real\n",
    "print('En s(s+1) sz   s24')\n",
    "for ii in range(2**Lsite):\n",
    "    print('{:2.0f}   {:2.0f}   {:2.0f}   {:2.0f}'.format(*eigEsym[ii,:]))"
   ]
  },
  {
   "cell_type": "markdown",
   "id": "8d3278a8",
   "metadata": {},
   "source": [
    "## Compute <0|GSP(α,Eₛ)|0>"
   ]
  },
  {
   "cell_type": "code",
   "execution_count": null,
   "id": "9788efc8",
   "metadata": {},
   "outputs": [],
   "source": [
    "#step 1: compute products of projectors and the exponents of Gaussian weights (α independent part)\n",
    "\n",
    "b_list = [np.binary_repr(n,width=8) for n in range(2**8)]  #bit strings b₇b₆b₅b₄b₃b₂b₁b₀\n",
    "vb_list = [] #bit vectors [b₀,b₁,b₂,b₃,b₄,b₅,b₆,b₇] <- bit strings b₇b₆b₅b₄b₃b₂b₁b₀\n",
    "hij_list = [(4, 1), (2, 3), (3, 4), (1, 2), (4, 1), (2, 3), (3, 4), (1, 2)]  #hᵢⱼ=πᵢⱼ\n",
    "GSP_list = []  # VTA\n",
    "\n",
    "wt_list = []\n",
    "Eshift = 0.5 #must < -6 to remain in the s=0 subspace\n",
    "sqsum = lambda vb: (0.5*Eshift - 2 + 2*np.sum(vb))**2\n",
    "gsfun = lambda a, s: np.exp(-2.*a*a*s)\n",
    "\n",
    "Nps = 0\n",
    "for nn, b in enumerate(b_list):\n",
    "    vb = np.array(list(reversed(b)),dtype=int)\n",
    "    sign_list = -vb*2 + 1.\n",
    "    #print(sign_list)\n",
    "    op = QO(())\n",
    "    for ii in range(8):\n",
    "        s = sign_list[ii]\n",
    "        op *= 0.5*(1 + Swaps[hij_list[ii]]*s)  #building op from right to left\n",
    "        if op == QO():\n",
    "            #print(sign_list, nn, ii) #print(ii,':',op,'\\n')\n",
    "            break\n",
    "    if op != QO(): #only store nonzero product of projectors πᵢⱼ\n",
    "        Nps += 1\n",
    "        #print(Nps, nn, sign_list)\n",
    "        vb_list.append(vb)\n",
    "        wt = (sqsum(vb[np.ix_([0,3,5,6])]) +\n",
    "              sqsum(vb[np.ix_([0,2,5,7])]) +\n",
    "              sqsum(vb[np.ix_([1,2,4,7])]) +\n",
    "              sqsum(vb[np.ix_([1,3,4,6])]) )\n",
    "        wt_list.append(wt)\n",
    "        GSP_list.append(op)\n",
    "print(Nps)"
   ]
  },
  {
   "cell_type": "code",
   "execution_count": null,
   "id": "956c5242",
   "metadata": {},
   "outputs": [],
   "source": [
    "#step 2: compute VTA=<0|GSP(α,Eₛ)|0>\n",
    "\n",
    "α = 0.5\n",
    "gswt_list = [gsfun(α,s) for s in wt_list] #Gaussian weights\n",
    "plt.plot(gswt_list,'.-')\n",
    "plt.show()\n",
    "\n",
    "#compute GSP\n",
    "#GSP = QO() #initialize with zero operator\n",
    "#for wt, op in zip(gswt_list,GSP_list):\n",
    "#    GSP += wt*op\n",
    "GSP = np.dot(gswt_list,GSP_list)\n",
    "GM = get_sparse_operator(GSP,n_qubits=4).A.real  #numpy array (dense matrix format); elements of πᵢⱼ are all real\n",
    "\n",
    "#check if commute\n",
    "print('[G,H]==0?',np.linalg.norm(GM@HM - HM@GM,ord='fro')<1e-15)\n",
    "print('[S²,H]==0?',np.linalg.norm(S2M@HM - HM@S2M,ord='fro')<1e-15)\n",
    "print('[S²,G]==0?',np.linalg.norm(S2M@GM - GM@S2M,ord='fro')<1e-15)\n",
    "print('[Sz,G]==0?',np.linalg.norm(SzM@GM - GM@SzM,ord='fro')<1e-15)"
   ]
  },
  {
   "cell_type": "code",
   "execution_count": null,
   "id": "1e6b9b6b",
   "metadata": {},
   "outputs": [],
   "source": [
    "#step 3: transform VTA=<0|GSP(α,Eₛ)|0> to the symmetry eigenbasis\n",
    "\n",
    "GMtf = eigVsym.T @ GM @ eigVsym\n",
    "idx = np.where(abs(GMtf)>1e-14)\n",
    "print(idx[0],idx[1],GMtf[idx],sep='\\n')\n",
    "print()\n",
    "\n",
    "S2Mtf = eigVsym.T @ S2M @ eigVsym\n",
    "idx = np.where(abs(S2Mtf)>1e-14)\n",
    "print(idx[0],idx[1],S2Mtf[idx],sep='\\n')"
   ]
  }
 ],
 "metadata": {
  "kernelspec": {
   "display_name": "Python 3 (ipykernel)",
   "language": "python",
   "name": "python3"
  },
  "language_info": {
   "codemirror_mode": {
    "name": "ipython",
    "version": 3
   },
   "file_extension": ".py",
   "mimetype": "text/x-python",
   "name": "python",
   "nbconvert_exporter": "python",
   "pygments_lexer": "ipython3",
   "version": "3.11.7"
  },
  "toc": {
   "base_numbering": 1,
   "nav_menu": {},
   "number_sections": false,
   "sideBar": true,
   "skip_h1_title": false,
   "title_cell": "Table of Contents",
   "title_sidebar": "Contents",
   "toc_cell": false,
   "toc_position": {},
   "toc_section_display": true,
   "toc_window_display": false
  }
 },
 "nbformat": 4,
 "nbformat_minor": 5
}
