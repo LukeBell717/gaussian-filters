{
 "cells": [
  {
   "cell_type": "code",
   "execution_count": 1,
   "id": "3ccff843",
   "metadata": {},
   "outputs": [],
   "source": [
    "# import relevant modules\n",
    "import os\n",
    "import sys\n",
    "import time\n",
    "from importlib import reload\n",
    "import numpy as np\n",
    "from qutip import destroy, identity, tensor, qeye\n",
    "\n",
    "# locate directory containing scripts \n",
    "current_directory = os.getcwd() \n",
    "src_directory = os.path.dirname(current_directory) + '/src'\n",
    "sys.path.append(src_directory)\n",
    "\n",
    "# import custom module\n",
    "import spin_chain\n",
    "reload(spin_chain); \n",
    "\n",
    "# define 2-site identity\n",
    "I2 = qeye(2)"
   ]
  },
  {
   "cell_type": "code",
   "execution_count": 2,
   "id": "9ad588f7",
   "metadata": {},
   "outputs": [
    {
     "ename": "NameError",
     "evalue": "name 'H4_list' is not defined",
     "output_type": "error",
     "traceback": [
      "\u001b[0;31m---------------------------------------------------------------------------\u001b[0m",
      "\u001b[0;31mNameError\u001b[0m                                 Traceback (most recent call last)",
      "Cell \u001b[0;32mIn[2], line 9\u001b[0m\n\u001b[1;32m      6\u001b[0m Ib \u001b[38;5;241m=\u001b[39m identity(cutoff)\n\u001b[1;32m      8\u001b[0m \u001b[38;5;66;03m# define local Hamiltonians\u001b[39;00m\n\u001b[0;32m----> 9\u001b[0m A \u001b[38;5;241m=\u001b[39m H12 \u001b[38;5;241m=\u001b[39m H4_list[\u001b[38;5;241m0\u001b[39m]\n\u001b[1;32m     10\u001b[0m B \u001b[38;5;241m=\u001b[39m H23 \u001b[38;5;241m=\u001b[39m H4_list[\u001b[38;5;241m1\u001b[39m]\n\u001b[1;32m     11\u001b[0m C \u001b[38;5;241m=\u001b[39m H34 \u001b[38;5;241m=\u001b[39m H4_list[\u001b[38;5;241m2\u001b[39m]\n",
      "\u001b[0;31mNameError\u001b[0m: name 'H4_list' is not defined"
     ]
    }
   ],
   "source": [
    "# define cutoff\n",
    "cutoff = 3\n",
    "\n",
    "# define operators for bosonic modes \n",
    "a = destroy(cutoff)\n",
    "Ib = identity(cutoff)\n",
    "\n",
    "# define local Hamiltonians\n",
    "A = H12 = H4_list[0]\n",
    "B = H23 = H4_list[1]\n",
    "C = H34 = H4_list[2]\n",
    "D = H41 = H4_list[3]"
   ]
  },
  {
   "cell_type": "code",
   "execution_count": 35,
   "id": "4aef8efc",
   "metadata": {},
   "outputs": [],
   "source": [
    "# define operators in argument of matrix exponentials \n",
    "α = 0.1\n",
    "α_arg = α*a.dag() - np.conj(α)*a\n",
    "\n",
    "# can also use *tuple([Ib]*N) for repeated Ib's\n",
    "α1 = tensor([α_arg, Ib, Ib, Ib])\n",
    "α2 = tensor([Ib, α_arg, Ib, Ib])\n",
    "α3 = tensor([Ib, Ib, α_arg, Ib])\n",
    "α4 = tensor([Ib, Ib, Ib, α_arg])"
   ]
  },
  {
   "cell_type": "code",
   "execution_count": 36,
   "id": "5e3b7f8c",
   "metadata": {},
   "outputs": [
    {
     "data": {
      "text/plain": [
       "True"
      ]
     },
     "metadata": {},
     "output_type": "display_data"
    },
    {
     "data": {
      "text/plain": [
       "True"
      ]
     },
     "metadata": {},
     "output_type": "display_data"
    },
    {
     "data": {
      "text/plain": [
       "True"
      ]
     },
     "metadata": {},
     "output_type": "display_data"
    },
    {
     "data": {
      "text/plain": [
       "True"
      ]
     },
     "metadata": {},
     "output_type": "display_data"
    }
   ],
   "source": [
    "# display method of exponentiating bosonic matrices \n",
    "# that contain tensor products of identities\n",
    "display(α1.expm() == (tensor(α_arg, Ib, Ib, Ib)).expm() == tensor(α_arg.expm(), Ib, Ib, Ib))\n",
    "display(α2.expm() == (tensor(Ib, α_arg, Ib, Ib)).expm() == tensor(Ib, α_arg.expm(), Ib, Ib))\n",
    "display(α3.expm() == (tensor(Ib, Ib, α_arg, Ib)).expm() == tensor(Ib, Ib, α_arg.expm(), Ib))\n",
    "display(α4.expm() == (tensor(Ib, Ib, Ib, α_arg)).expm() == tensor(Ib, Ib, Ib, α_arg.expm()))"
   ]
  },
  {
   "cell_type": "code",
   "execution_count": 44,
   "id": "3002b980",
   "metadata": {},
   "outputs": [
    {
     "data": {
      "text/plain": [
       "True"
      ]
     },
     "metadata": {},
     "output_type": "display_data"
    },
    {
     "data": {
      "text/plain": [
       "True"
      ]
     },
     "metadata": {},
     "output_type": "display_data"
    },
    {
     "data": {
      "text/plain": [
       "True"
      ]
     },
     "metadata": {},
     "output_type": "display_data"
    },
    {
     "data": {
      "text/plain": [
       "True"
      ]
     },
     "metadata": {},
     "output_type": "display_data"
    }
   ],
   "source": [
    "# display how you can factor bosonic matrix exponentials \n",
    "# into products of matrix exponentials\n",
    "display((α1 + α2).expm() == tensor(α_arg, Ib, Ib, Ib).expm()*tensor(Ib, α_arg, Ib, Ib).expm() == \\\n",
    "                            tensor(α_arg.expm(), α_arg.expm(), Ib, Ib))\n",
    "display((α2 + α3).expm() == tensor(Ib, α_arg, Ib, Ib).expm()*tensor(Ib, Ib, α_arg, Ib).expm() == \\\n",
    "                            tensor(Ib, α_arg.expm(), α_arg.expm(), Ib))\n",
    "display((α3 + α4).expm() == tensor(Ib, Ib, α_arg, Ib).expm()*tensor(Ib, Ib, Ib, α_arg).expm() == \\\n",
    "                            tensor(Ib, Ib, α_arg.expm(), α_arg.expm()))\n",
    "display((α4 + α1).expm() == tensor(Ib, Ib, Ib, α_arg).expm()*tensor(α_arg, Ib, Ib, Ib).expm() == \\\n",
    "                            tensor(α_arg.expm(), Ib, Ib, α_arg.expm()))"
   ]
  },
  {
   "cell_type": "code",
   "execution_count": 45,
   "id": "64c1a97b",
   "metadata": {},
   "outputs": [
    {
     "data": {
      "text/plain": [
       "True"
      ]
     },
     "metadata": {},
     "output_type": "display_data"
    },
    {
     "data": {
      "text/plain": [
       "True"
      ]
     },
     "metadata": {},
     "output_type": "display_data"
    },
    {
     "data": {
      "text/plain": [
       "True"
      ]
     },
     "metadata": {},
     "output_type": "display_data"
    },
    {
     "data": {
      "text/plain": [
       "True"
      ]
     },
     "metadata": {},
     "output_type": "display_data"
    }
   ],
   "source": [
    "# display method of exponentiating Hamiltonians that \n",
    "# involve tensor products of identities\n",
    "display(A.expm() == H12.expm() == tensor(H2, I2, I2).expm() == tensor(H2.expm(), I2, I2))\n",
    "display(B.expm() == H23.expm() == tensor(I2, H2, I2).expm() == tensor(I2, H2.expm(), I2))\n",
    "display(C.expm() == H34.expm() == tensor(I2, I2, H2).expm() == tensor(I2, I2, H2.expm()))\n",
    "display(D.expm() == H41.expm() == tensor(H2, I2, I2).permute([0, 3, 2, 1]).expm() == \\\n",
    "                                  tensor(H2.expm(), I2, I2).permute([0, 3, 2, 1]))"
   ]
  },
  {
   "cell_type": "code",
   "execution_count": null,
   "id": "31db0cb6",
   "metadata": {},
   "outputs": [],
   "source": [
    "# define cutoff\n",
    "cutoff = 3\n",
    "\n",
    "# define operators for bosonic modes \n",
    "a = destroy(cutoff)\n",
    "Ib = identity(cutoff)\n",
    "\n",
    "# define operators in argument of matrix exponentials \n",
    "α = 1.0\n",
    "α_arg = α*a.dag() - np.conj(α)*a\n",
    "\n",
    "# can also use *tuple([Ib]*N) for repeated Ib's\n",
    "α1 = tensor([α_arg, Ib, Ib, Ib])\n",
    "α2 = tensor([Ib, α_arg, Ib, Ib])\n",
    "α3 = tensor([Ib, Ib, α_arg, Ib])\n",
    "α4 = tensor([Ib, Ib, Ib, α_arg])\n",
    "\n",
    "# evaluate functions for displacements operators weighted by A\n",
    "display(D12_A(α, cutoff) == (tensor(α1 + α2, A)).expm())\n",
    "display(D34_A(α, cutoff) == (tensor(α3 + α4, A)).expm())\n",
    "\n",
    "# evaluate functions for displacements operators weighted by B\n",
    "display(D23_B(α, cutoff) == (tensor(α2 + α3, B)).expm())\n",
    "display(D41_B(α, cutoff) == (tensor(α4 + α1, B)).expm())\n",
    "\n",
    "# evaluate functions for displacements operators weighted by C\n",
    "display(D34_C(α, cutoff) == (tensor(α3 + α4, C)).expm())\n",
    "display(D12_C(α, cutoff) == (tensor(α1 + α2, C)).expm())\n",
    "\n",
    "# evaluate functions for displacements operators weighted by D\n",
    "display(D41_D(α, cutoff) == (tensor(α4 + α1, D)).expm())\n",
    "display(D23_D(α, cutoff) == (tensor(α2 + α3, D)).expm())"
   ]
  }
 ],
 "metadata": {
  "kernelspec": {
   "display_name": "Python 3 (ipykernel)",
   "language": "python",
   "name": "python3"
  },
  "language_info": {
   "codemirror_mode": {
    "name": "ipython",
    "version": 3
   },
   "file_extension": ".py",
   "mimetype": "text/x-python",
   "name": "python",
   "nbconvert_exporter": "python",
   "pygments_lexer": "ipython3",
   "version": "3.11.7"
  }
 },
 "nbformat": 4,
 "nbformat_minor": 5
}
