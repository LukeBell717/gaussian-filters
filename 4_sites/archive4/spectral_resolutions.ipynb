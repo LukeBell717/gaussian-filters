{
 "cells": [
  {
   "cell_type": "code",
   "execution_count": 2,
   "id": "3efa5d89",
   "metadata": {},
   "outputs": [
    {
     "ename": "ModuleNotFoundError",
     "evalue": "No module named 'spin_chain'",
     "output_type": "error",
     "traceback": [
      "\u001b[0;31m---------------------------------------------------------------------------\u001b[0m",
      "\u001b[0;31mModuleNotFoundError\u001b[0m                       Traceback (most recent call last)",
      "Cell \u001b[0;32mIn[2], line 10\u001b[0m\n\u001b[1;32m      7\u001b[0m \u001b[38;5;28;01mimport\u001b[39;00m \u001b[38;5;21;01mtime\u001b[39;00m \n\u001b[1;32m      9\u001b[0m \u001b[38;5;66;03m# import custom module\u001b[39;00m\n\u001b[0;32m---> 10\u001b[0m \u001b[38;5;28;01mimport\u001b[39;00m \u001b[38;5;21;01mspin_chain\u001b[39;00m\n\u001b[1;32m     11\u001b[0m importlib\u001b[38;5;241m.\u001b[39mreload(spin_chain)\n",
      "\u001b[0;31mModuleNotFoundError\u001b[0m: No module named 'spin_chain'"
     ]
    }
   ],
   "source": [
    "from qutip import sigmax, sigmay, sigmaz, identity, qeye, tensor, \\\n",
    "                  Qobj, simdiag, basis, commutator, rand_ket, expect\n",
    "from functools import reduce\n",
    "import numpy as np\n",
    "import importlib\n",
    "import os\n",
    "import time \n",
    "\n",
    "# import custom module\n",
    "import spin_chain\n",
    "importlib.reload(spin_chain); "
   ]
  },
  {
   "cell_type": "code",
   "execution_count": null,
   "id": "2cc33a9f",
   "metadata": {
    "code_folding": [
     7,
     86
    ]
   },
   "outputs": [],
   "source": [
    "# define Pauli matrices \n",
    "σ_x = sigmax()\n",
    "σ_y = sigmay()\n",
    "σ_z = sigmaz()\n",
    "I2 = qeye(2)\n",
    "I16 = qeye([2]*4)\n",
    "\n",
    "def quantities(N, Jx, Jy, Jz, tolerance):\n",
    "\n",
    "    \n",
    "    if N % 2 != 0: \n",
    "        raise ValueError(\"Please enter an even number of sites\")\n",
    "    \n",
    "    # define Pauli matrices and constants\n",
    "    σ_x = sigmax()\n",
    "    σ_y = sigmay()\n",
    "    σ_z = sigmaz()\n",
    "    π = np.pi\n",
    "\n",
    "    # Interaction coefficients, which we assume are uniform throughout the lattice\n",
    "    Jx_list = Jx*np.ones(N)\n",
    "    Jy_list = Jy*np.ones(N)\n",
    "    Jz_list = Jz*np.ones(N)\n",
    "\n",
    "    # Setup operators for individual qubits; \n",
    "    # here sx_list[j] = X_j, sy_list[j] = Y_j, and sz_list[j] = Z_j\n",
    "    # since the Pauli matrix occupies the jth location in the tensor product of N terms\n",
    "    # of which N-1 terms are the identity\n",
    "    sx_list, sy_list, sz_list = [], [], []\n",
    "\n",
    "    for i in range(N):\n",
    "        op_list = [qeye(2)]*N\n",
    "        op_list[i] = σ_x\n",
    "        sx_list.append(tensor(op_list))\n",
    "        op_list[i] = σ_y\n",
    "        sy_list.append(tensor(op_list))\n",
    "        op_list[i] = σ_z\n",
    "        sz_list.append(tensor(op_list))\n",
    "\n",
    "    # define variable for total Hamiltonian H_N and the list of all local \n",
    "    # Hamiltonians H_list\n",
    "    H_N = 0 \n",
    "    H_list = []\n",
    "    \n",
    "    # collect \n",
    "    for j in range(N - 1):\n",
    "\n",
    "        # find H_ij, the Hamiltonian between the ith and jth sites \n",
    "        H_ij = Jx_list[j] * sx_list[j] * sx_list[j + 1] + \\\n",
    "               Jy_list[j] * sy_list[j] * sy_list[j + 1] + \\\n",
    "               Jz_list[j] * sz_list[j] * sz_list[j + 1]\n",
    "        \n",
    "        # add H_ij to H_N and append H_ij to H_list\n",
    "        H_N += H_ij\n",
    "        H_list.append(H_ij)\n",
    "\n",
    "    # execute if periodic boundary conditions are specified\n",
    "    if periodic_bc: \n",
    "        \n",
    "        # find H_N1, the Hamiltonian between the Nth and first site\n",
    "        H_N1 = Jx_list[N-1] * sx_list[N - 1] * sx_list[0] + \\\n",
    "               Jy_list[N-1] * sy_list[N - 1] * sy_list[0] + \\\n",
    "               Jz_list[N-1] * sz_list[N - 1] * sz_list[0]\n",
    "\n",
    "        # add H_N1 to H_N and append H_N1 to H_list\n",
    "        H_N += H_N1\n",
    "        H_list.append(H_N1)\n",
    "\n",
    "    # find eigenavlues and eigenstates of Hamiltonian \n",
    "    eigenvalues, eigenstates = H_N.eigenstates()\n",
    "\n",
    "    # find indices of smallest eigenvalues, which correspond to the energy(ies) \n",
    "    # of the ground state (space in the case of degeneracy); \n",
    "    min_eigenvalue = min(eigenvalues)\n",
    "    indices = [index for index, value in enumerate(eigenvalues) if np.allclose(value, min_eigenvalue, tolerance)]\n",
    "\n",
    "    # find eigenstates corresponding to ground state\n",
    "    eigenstates_list = eigenstates[indices]\n",
    "\n",
    "    # create sum of density matrices of ground states in case ground state is degenerate\n",
    "    ρ_ground_state = 0 \n",
    "    for j in range(len(eigenstates_list)):\n",
    "        ρ_ground_state += (eigenstates_list[j])*(eigenstates_list[j]).dag()\n",
    "\n",
    "    # return normalized ground state\n",
    "    return H_N, H_list, eigenstates, eigenvalues, min_eigenvalue, ρ_ground_state\n",
    "def homogenize_eigenstates(eigenstate_list):\n",
    "    \n",
    "    # convert eigenstate quantum objects to arrays\n",
    "    eigenstate_arrays = np.around([eigenstate.full() for eigenstate in eigenstate_list], decimals=12)\n",
    "    \n",
    "    # if the first nonzero entry is negative in an array, multiply all nonzero\n",
    "    # entries by -1\n",
    "    for eigenstate in eigenstate_arrays: \n",
    "        if eigenstate[np.nonzero(eigenstate)[0][0]] < 0:\n",
    "            nonzero_mask = eigenstate != 0 \n",
    "            eigenstate[nonzero_mask] = -eigenstate[nonzero_mask]\n",
    "            \n",
    "    # sorted list of arrays and convert into quantum objects      \n",
    "    sorted_tuples = sorted(eigenstate_arrays, key=lambda x: tuple(x))\n",
    "    sorted_eigenstates = [Qobj(state) for state in sorted_tuples]\n",
    "    \n",
    "    return sorted_eigenstates"
   ]
  },
  {
   "cell_type": "markdown",
   "id": "8ce5244a",
   "metadata": {},
   "source": [
    "# $\\text{N = 2}$"
   ]
  },
  {
   "cell_type": "markdown",
   "id": "f33523bb",
   "metadata": {},
   "source": [
    "## $\\hat{H}_2 = X_1 X_2 + Y_1 Y_2 + \\lambda Z_1 Z_2 $"
   ]
  },
  {
   "cell_type": "code",
   "execution_count": 3,
   "id": "6edb3a5e",
   "metadata": {},
   "outputs": [],
   "source": [
    "# specify parameters of 2-site spin chain\n",
    "N = 2\n",
    "Jx = 1\n",
    "Jy = 1\n",
    "Jz = 1\n",
    "periodic_bc = False\n",
    "tolerance = 1e-12\n",
    "\n",
    "# calculate spin chain quantities\n",
    "# start_time = time.time()\n",
    "H2, H2_list, eigenstates2, eigenvalues2, min_eigenvalue2, ρ_ground_state2 = quantities(N, Jx, Jy, Jz, tolerance)\n",
    "# print(\"%s seconds\" % (time.time() - start_time))"
   ]
  },
  {
   "cell_type": "markdown",
   "id": "f167928a",
   "metadata": {},
   "source": [
    "## $\\text{Matrix Product States for } \\hat{H}_2 $"
   ]
  },
  {
   "cell_type": "code",
   "execution_count": 4,
   "id": "e3ef1e4a",
   "metadata": {},
   "outputs": [
    {
     "data": {
      "text/latex": [
       "Quantum object: dims = [[4], [4]], shape = (4, 4), type = oper, isherm = False $ \\\\ \\left(\\begin{matrix}0.0 & 0.0 & 0.0 & 1.0\\\\-0.707 & 0.0 & 0.707 & 0.0\\\\0.707 & 0.0 & 0.707 & 0.0\\\\0.0 & 1.0 & 0.0 & 0.0\\\\\\end{matrix}\\right)$"
      ],
      "text/plain": [
       "Quantum object: dims = [[4], [4]], shape = (4, 4), type = oper, isherm = False\n",
       "Qobj data =\n",
       "[[ 0.          0.          0.          1.        ]\n",
       " [-0.70710678  0.          0.70710678  0.        ]\n",
       " [ 0.70710678  0.          0.70710678  0.        ]\n",
       " [ 0.          1.          0.          0.        ]]"
      ]
     },
     "metadata": {},
     "output_type": "display_data"
    },
    {
     "data": {
      "text/plain": [
       "array([-3.,  1.,  1.,  1.])"
      ]
     },
     "metadata": {},
     "output_type": "display_data"
    }
   ],
   "source": [
    "# define singlet and triplet states\n",
    "S = eigenstates2[0]\n",
    "T0 = eigenstates2[3]\n",
    "Tn1 = eigenstates2[2]\n",
    "T1 = eigenstates2[1]\n",
    "\n",
    "# create basis of singlets and triplets\n",
    "ST_basis = [S, Tn1, T0, T1]\n",
    "\n",
    "# create matrix with S, Tn1, T0 and T1 as column vectors \n",
    "ST_matrix = Qobj(np.hstack([eigenstate.full() for eigenstate in ST_basis]))\n",
    "display(ST_matrix)\n",
    "\n",
    "# eigenvalues for 2-site spin chain\n",
    "display(eigenvalues2)"
   ]
  },
  {
   "cell_type": "markdown",
   "id": "2c5b73f0",
   "metadata": {},
   "source": [
    "# $\\text{N=4}$"
   ]
  },
  {
   "cell_type": "markdown",
   "id": "90ad5fa8",
   "metadata": {},
   "source": [
    "## $\\hat{H}_4 = \\sum_{j = 1}^{4} X_j X_{j+1} + Y_j Y_{j+1} + \\lambda Z_j Z_{j+1} $"
   ]
  },
  {
   "cell_type": "code",
   "execution_count": 5,
   "id": "8698e312",
   "metadata": {
    "code_folding": []
   },
   "outputs": [],
   "source": [
    "# specify parameters of spin chain \n",
    "N = 4\n",
    "Jx = 1\n",
    "Jy = 1\n",
    "Jz = 1\n",
    "periodic_bc = True\n",
    "tolerance = 1e-12\n",
    "\n",
    "# calculate spin chain quantities\n",
    "start_time = time.time()\n",
    "H4, H4_list, eigenstates4, eigenvalues4, min_eigenvalue4, ρ_ground_state4 = quantities(N, Jx, Jy, Jz, tolerance)\n",
    "# print(\"%s seconds\" % (time.time() - start_time))"
   ]
  },
  {
   "cell_type": "code",
   "execution_count": 6,
   "id": "22f6b1ac",
   "metadata": {
    "code_folding": [],
    "scrolled": false
   },
   "outputs": [
    {
     "data": {
      "text/plain": [
       "True"
      ]
     },
     "metadata": {},
     "output_type": "display_data"
    },
    {
     "data": {
      "text/plain": [
       "True"
      ]
     },
     "metadata": {},
     "output_type": "display_data"
    }
   ],
   "source": [
    "# collect the lists of Hamiltonians for blue and red bonds  \n",
    "H_blue_list4 = H4_list[::2]\n",
    "H_red_list4 = H4_list[1::2]\n",
    "\n",
    "# diagonlize blue and red bonds so as to find the eigenvectors and associated eigenstates \n",
    "# for each blue and red bonds\n",
    "blue_eigvals_array4, blue_eigvecs_list4 = simdiag(H_blue_list4)\n",
    "red_eigvals_array4, red_eigvecs_list4 = simdiag(H_red_list4)\n",
    "\n",
    "# calculate lists of blue and red Hamiltonians using spectral decomposition\n",
    "H_blue_reconstructed4 = [sum([λ*vec*vec.dag() for λ, vec in zip(blue_eigvals_array4[i], blue_eigvecs_list4)]) \\\n",
    "                        for i in range(int(N/2))]\n",
    "H_red_reconstructed4 = [sum([λ*vec*vec.dag() for λ, vec in zip(red_eigvals_array4[i], red_eigvecs_list4)]) \\\n",
    "                       for i in range(int(N/2))]\n",
    "\n",
    "# ensure we can reconstructed H_blue and H_red through spectral decomposition\n",
    "H_tot_bool4 = []\n",
    "for Hb1, Hb2, Hr1, Hr2 in zip(H_blue_list4, H_blue_reconstructed4, H_red_list4, H_red_reconstructed4):\n",
    "    H_tot_bool4.append(Hb1 == Hb2)\n",
    "    H_tot_bool4.append(Hr1 == Hr2)\n",
    "display(all(H_tot_bool4))\n",
    "\n",
    "display(H_blue_list4 == H_blue_reconstructed4)"
   ]
  },
  {
   "cell_type": "code",
   "execution_count": 7,
   "id": "afd06ae8",
   "metadata": {
    "code_folding": []
   },
   "outputs": [
    {
     "data": {
      "text/plain": [
       "True"
      ]
     },
     "execution_count": 7,
     "metadata": {},
     "output_type": "execute_result"
    }
   ],
   "source": [
    "# collect all eigenvalue lists so that eigvals_array[j] contains the lists of eigenvalues\n",
    "# for the jth spin operator\n",
    "eigvals_array4 = np.concatenate((blue_eigvals_array4, red_eigvals_array4))\n",
    "eigvals_array4[::2] = blue_eigvals_array4\n",
    "eigvals_array4[1::2] = red_eigvals_array4\n",
    "\n",
    "# verify that we have successfully interleaved the eigenvalues \n",
    "# of blue and red bonds to construct eigvals_array\n",
    "eigvals_tot_bool4 = []\n",
    "for eigval_b1, eigval_b2, eigval_r1, eigval_r2 in zip(eigvals_array4[::2], blue_eigvals_array4, \\\n",
    "                                                      eigvals_array4[1::2], red_eigvals_array4):\n",
    "    eigvals_tot_bool4.append(eigval_b1 == eigval_b2)\n",
    "    eigvals_tot_bool4.append(eigval_r1 == eigval_r2)\n",
    "\n",
    "all(np.concatenate(eigvals_tot_bool4))"
   ]
  },
  {
   "cell_type": "markdown",
   "id": "416ba823",
   "metadata": {},
   "source": [
    "## $ \\text{Matrix Product States for } \\hat{H}_4$"
   ]
  },
  {
   "cell_type": "code",
   "execution_count": 8,
   "id": "2184d10f",
   "metadata": {},
   "outputs": [
    {
     "data": {
      "text/plain": [
       "True"
      ]
     },
     "metadata": {},
     "output_type": "display_data"
    },
    {
     "data": {
      "text/plain": [
       "True"
      ]
     },
     "execution_count": 8,
     "metadata": {},
     "output_type": "execute_result"
    }
   ],
   "source": [
    "# define local Hamiltonians generated from custom function \n",
    "H12 = H4_list[0]\n",
    "H23 = H4_list[1]\n",
    "H34 = H4_list[2]\n",
    "H41 = H4_list[3]\n",
    "\n",
    "# define local Hamiltonians that are constructed manually\n",
    "H12_constructed = tensor(σ_x, σ_x, I2, I2) + tensor(σ_y, σ_y, I2, I2) + tensor(σ_z, σ_z, I2, I2)\n",
    "H23_constructed = tensor(I2, σ_x, σ_x, I2) + tensor(I2, σ_y, σ_y, I2) + tensor(I2, σ_z, σ_z, I2)\n",
    "H34_constructed = tensor(I2, I2, σ_x, σ_x) + tensor(I2, I2, σ_y, σ_y) + tensor(I2, I2, σ_z, σ_z)\n",
    "H41_constructed = tensor(σ_x, I2, I2, σ_x) + tensor(σ_y, I2, I2, σ_y) + tensor(σ_z, I2, I2, σ_z)\n",
    "\n",
    "# define operator that swaps the qubits with indices 2 and 4 for a four qubit state, i.e.\n",
    "# SWAP_24|abcd> = |adcb>\n",
    "H24 = tensor(I2, σ_x, I2, σ_x) + tensor(I2, σ_y, I2, σ_y) + tensor(I2, σ_z, I2, σ_z)\n",
    "display(H24 == tensor([I2, σ_x]*2) + tensor([I2, σ_y]*2) + tensor([I2, σ_z]*2))\n",
    "SWAP_24_composite = Qobj((H24 + I16)/2)\n",
    "SWAP_24 = Qobj((H24 + I16)/2, dims = [[16], [16]])\n",
    "\n",
    "# verify that generated and constructed Hamiltonians are equivalenet\n",
    "H_constructed = [H12_constructed, H23_constructed, H34_constructed, H41_constructed]\n",
    "H4_list == H_constructed"
   ]
  },
  {
   "cell_type": "code",
   "execution_count": 9,
   "id": "ea5a4341",
   "metadata": {},
   "outputs": [
    {
     "data": {
      "text/plain": [
       "True"
      ]
     },
     "metadata": {},
     "output_type": "display_data"
    },
    {
     "data": {
      "text/plain": [
       "True"
      ]
     },
     "metadata": {},
     "output_type": "display_data"
    }
   ],
   "source": [
    "# compute matrix product state for blue bonds \n",
    "blue_mps_basis4 = [Qobj(eigvec) for eigvec in np.kron(ST_basis, ST_basis)]\n",
    "red_mps_basis4 = [SWAP_24(Qobj(eigvec)) for eigvec in np.kron(ST_basis, ST_basis)]\n",
    "\n",
    "# show equality between eigenstates generated by simdiag and matrix product state\n",
    "blue_eigvecs_sorted4 = homogenize_eigenstates(blue_eigvecs_list4)\n",
    "blue_mps_sorted4 = homogenize_eigenstates(blue_mps_basis4)\n",
    "display(blue_eigvecs_sorted4 == blue_mps_sorted4)\n",
    "\n",
    "# show equality between eigenstates generated by simdiag and matrix product state\n",
    "red_eigvecs_sorted4 = homogenize_eigenstates(red_eigvecs_list4)\n",
    "red_mps_sorted4 = homogenize_eigenstates(red_mps_basis4)\n",
    "display(red_eigvecs_sorted4 == red_mps_sorted4)"
   ]
  },
  {
   "cell_type": "code",
   "execution_count": 10,
   "id": "6059f755",
   "metadata": {},
   "outputs": [
    {
     "data": {
      "text/plain": [
       "True"
      ]
     },
     "execution_count": 10,
     "metadata": {},
     "output_type": "execute_result"
    }
   ],
   "source": [
    "# alternative way to compute the Kronecker product for two lists of the singlet-triplet basis vectors\n",
    "N = 4\n",
    "np.array_equal(np.kron(ST_basis, ST_basis), reduce(np.kron, [ST_basis]*(int(N/2))))"
   ]
  },
  {
   "cell_type": "code",
   "execution_count": 11,
   "id": "c37cb340",
   "metadata": {},
   "outputs": [
    {
     "data": {
      "text/plain": [
       "True"
      ]
     },
     "metadata": {},
     "output_type": "display_data"
    },
    {
     "data": {
      "text/plain": [
       "True"
      ]
     },
     "metadata": {},
     "output_type": "display_data"
    }
   ],
   "source": [
    "# transformation from one local Hamiltonian to another \n",
    "display(SWAP_24_composite.dag()*H41*SWAP_24_composite == H12)\n",
    "display(SWAP_24_composite.dag()*H23*SWAP_24_composite == H34)"
   ]
  },
  {
   "cell_type": "markdown",
   "id": "92c32f35",
   "metadata": {
    "heading_collapsed": true
   },
   "source": [
    "## $\\text{Ordered list of spectrum for local Hamiltonians of } \\hat{H}_4$"
   ]
  },
  {
   "cell_type": "code",
   "execution_count": 12,
   "id": "ec120eb7",
   "metadata": {
    "hidden": true
   },
   "outputs": [
    {
     "name": "stdout",
     "output_type": "stream",
     "text": [
      "Eigenvalues:[-3. -3. -3. -3.  1.  1.  1.  1.  1.  1.  1.  1.  1.  1.  1.  1.]\n"
     ]
    },
    {
     "data": {
      "text/plain": [
       "True"
      ]
     },
     "execution_count": 12,
     "metadata": {},
     "output_type": "execute_result"
    }
   ],
   "source": [
    "# specify number of sites and index of the Hamiltonian \n",
    "N = 4\n",
    "index = 1 \n",
    "\n",
    "# compute spectrum from tensor products of index 1 to i \n",
    "H12_spectrum_1i = np.tile(eigenvalues2, 2**(index -1))\n",
    "#display(H12_spectrum_1i)\n",
    "\n",
    "# compute spectrum of tensor products of inex 1 to N, i.e., the full spectrum\n",
    "H12_spectrum_1N = np.repeat(H12_spectrum_1i, np.ceil(2**(N - index - 1)))\n",
    "print('Eigenvalues:' + str(H12_spectrum_1N))\n",
    "\n",
    "# compute H12 from matrix product state basis\n",
    "tolerance = 1e-12\n",
    "H12_mps = sum([λ*vec*vec.dag() for λ, vec in zip(H12_spectrum_1N, blue_mps_basis4)])\n",
    "np.allclose(H12, H12_mps, atol= tolerance)"
   ]
  },
  {
   "cell_type": "code",
   "execution_count": 13,
   "id": "05b0a52f",
   "metadata": {
    "hidden": true
   },
   "outputs": [
    {
     "data": {
      "text/plain": [
       "array([-3.,  1.,  1.,  1., -3.,  1.,  1.,  1., -3.,  1.,  1.,  1., -3.,\n",
       "        1.,  1.,  1.])"
      ]
     },
     "metadata": {},
     "output_type": "display_data"
    },
    {
     "data": {
      "text/plain": [
       "True"
      ]
     },
     "execution_count": 13,
     "metadata": {},
     "output_type": "execute_result"
    }
   ],
   "source": [
    "# specify index of the Hamiltonian \n",
    "index = 3 \n",
    "\n",
    "# compute spectrum from tensor products of index 1 to i \n",
    "H34_spectrum_1i = np.tile(eigenvalues2, 2**(index-1))\n",
    "# display(H34_spectrum_1i)\n",
    "\n",
    "# compute spectrum of tensor products of inex 1 to N, i.e., the full spectrum\n",
    "H34_spectrum_1N = np.repeat(H34_spectrum_1i, np.ceil(2**(N - index - 1)))\n",
    "display(H34_spectrum_1N)\n",
    "\n",
    "tolerance = 1e-12\n",
    "H34_mps = sum([λ*vec*vec.dag() for λ, vec in zip(H34_spectrum_1N, blue_mps_basis4)])\n",
    "np.allclose(H34, H34_mps, atol=tolerance)"
   ]
  },
  {
   "cell_type": "code",
   "execution_count": 14,
   "id": "8325382d",
   "metadata": {
    "hidden": true
   },
   "outputs": [
    {
     "data": {
      "text/plain": [
       "True"
      ]
     },
     "execution_count": 14,
     "metadata": {},
     "output_type": "execute_result"
    }
   ],
   "source": [
    "# specify index of the Hamiltonian \n",
    "index = 2 \n",
    "\n",
    "# compute H23 from matrix product state basis\n",
    "tolerance = 1e-12\n",
    "H23_mps = sum([λ*vec*vec.dag() for λ, vec in zip(H34_spectrum_1N, red_mps_basis4)])\n",
    "np.allclose(H23, H23_mps, atol= tolerance)"
   ]
  },
  {
   "cell_type": "code",
   "execution_count": 15,
   "id": "c75f0faf",
   "metadata": {
    "hidden": true
   },
   "outputs": [
    {
     "data": {
      "text/plain": [
       "True"
      ]
     },
     "execution_count": 15,
     "metadata": {},
     "output_type": "execute_result"
    }
   ],
   "source": [
    "# specify index of the Hamiltonian \n",
    "index = 4\n",
    "\n",
    "# compute H41 from matrix product state basis\n",
    "tolerance = 1e-12\n",
    "H41_mps = sum([λ*vec*vec.dag() for λ, vec in zip(H12_spectrum_1N, red_mps_basis4)])\n",
    "np.allclose(H41, H41_mps, atol= tolerance)"
   ]
  },
  {
   "cell_type": "code",
   "execution_count": null,
   "id": "37441e17",
   "metadata": {
    "hidden": true
   },
   "outputs": [],
   "source": []
  },
  {
   "cell_type": "markdown",
   "id": "b051c546",
   "metadata": {
    "heading_collapsed": true
   },
   "source": [
    "# $\\text{N=6}$"
   ]
  },
  {
   "cell_type": "markdown",
   "id": "2e20f3ac",
   "metadata": {
    "hidden": true
   },
   "source": [
    "## $\\hat{H}_6 = \\sum_{j = 1}^{6} X_j X_{j+1} + Y_j Y_{j+1} + \\lambda Z_j Z_{j+1} $"
   ]
  },
  {
   "cell_type": "code",
   "execution_count": 16,
   "id": "482eee7b",
   "metadata": {
    "code_folding": [],
    "hidden": true
   },
   "outputs": [],
   "source": [
    "# specify parameters of spin chain \n",
    "N = 6\n",
    "Jx = 1\n",
    "Jy = 1\n",
    "Jz = 1\n",
    "periodic_bc = True\n",
    "tolerance = 1e-12\n",
    "\n",
    "# calculate spin chain quantities\n",
    "start_time = time.time()\n",
    "H6, H6_list, eigenstates6, eigenvalues6, min_eigenvalue6, ρ_ground_state6 = quantities(N, Jx, Jy, Jz, tolerance)\n",
    "# print(\"%s seconds\" % (time.time() - start_time))"
   ]
  },
  {
   "cell_type": "code",
   "execution_count": 17,
   "id": "2226603b",
   "metadata": {
    "code_folding": [],
    "hidden": true,
    "scrolled": false
   },
   "outputs": [
    {
     "data": {
      "text/plain": [
       "True"
      ]
     },
     "execution_count": 17,
     "metadata": {},
     "output_type": "execute_result"
    }
   ],
   "source": [
    "# collect the lists of Hamiltonians for blue and red bonds  \n",
    "H_blue_list6 = H6_list[::2]\n",
    "H_red_list6 = H6_list[1::2]\n",
    "\n",
    "# diagonlize blue and red bonds so as to find the eigenvectors and associated eigenstates \n",
    "# for each blue and red bonds\n",
    "blue_eigvals_array6, blue_eigvecs_list6 = simdiag(H_blue_list6)\n",
    "red_eigvals_array6, red_eigvecs_list6 = simdiag(H_red_list6)\n",
    "\n",
    "# calculate lists of blue and red Hamiltonians using spectral decomposition\n",
    "H_blue_reconstructed6 = [sum([λ*vec*vec.dag() for λ, vec in zip(blue_eigvals_array6[i], blue_eigvecs_list6)]) \\\n",
    "                        for i in range(int(N/2))]\n",
    "H_red_reconstructed6 = [sum([λ*vec*vec.dag() for λ, vec in zip(red_eigvals_array6[i], red_eigvecs_list6)]) \\\n",
    "                       for i in range(int(N/2))]\n",
    "\n",
    "# ensure we can reconstructed H_blue and H_red through spectral decomposition\n",
    "H_tot_bool6 = []\n",
    "for Hb1, Hb2, Hr1, Hr2 in zip(H_blue_list6, H_blue_reconstructed6, H_red_list6, H_red_reconstructed6):\n",
    "    H_tot_bool6.append(Hb1 == Hb2)\n",
    "    H_tot_bool6.append(Hr1 == Hr2)\n",
    "all(H_tot_bool6)"
   ]
  },
  {
   "cell_type": "code",
   "execution_count": 18,
   "id": "c60b14df",
   "metadata": {
    "code_folding": [],
    "hidden": true
   },
   "outputs": [
    {
     "data": {
      "text/plain": [
       "True"
      ]
     },
     "execution_count": 18,
     "metadata": {},
     "output_type": "execute_result"
    }
   ],
   "source": [
    "# collect all eigenvalue lists so that eigvals_array[j] contains the lists of eigenvalues\n",
    "# for the jth spin operator\n",
    "eigvals_array6 = np.concatenate((blue_eigvals_array6, red_eigvals_array6))\n",
    "eigvals_array6[::2] = blue_eigvals_array6\n",
    "eigvals_array6[1::2] = red_eigvals_array6\n",
    "\n",
    "# verify that we have successfully interleaved the eigenvalues \n",
    "# of blue and red bonds to construct eigvals_array\n",
    "eigvals_tot_bool6 = []\n",
    "for eigval_b1, eigval_b2, eigval_r1, eigval_r2 in zip(eigvals_array6[::2], blue_eigvals_array6, \\\n",
    "                                                      eigvals_array6[1::2], red_eigvals_array6):\n",
    "    eigvals_tot_bool6.append(eigval_b1 == eigval_b2)\n",
    "    eigvals_tot_bool6.append(eigval_r1 == eigval_r2)\n",
    "\n",
    "all(np.concatenate(eigvals_tot_bool6))"
   ]
  },
  {
   "cell_type": "markdown",
   "id": "e4300a0b",
   "metadata": {
    "hidden": true
   },
   "source": [
    "## $ \\text{Matrix Product States for } \\hat{H}_6$"
   ]
  },
  {
   "cell_type": "code",
   "execution_count": 19,
   "id": "11f0064f",
   "metadata": {
    "hidden": true
   },
   "outputs": [],
   "source": [
    "N = 6\n",
    "blue_mps_basis6 = [Qobj(eigvec) for eigvec in reduce(np.kron, [ST_basis]*(int(N/2)))]"
   ]
  },
  {
   "cell_type": "code",
   "execution_count": 20,
   "id": "f18b0267",
   "metadata": {
    "hidden": true
   },
   "outputs": [
    {
     "data": {
      "text/plain": [
       "True"
      ]
     },
     "metadata": {},
     "output_type": "display_data"
    }
   ],
   "source": [
    "blue_mps_sorted6 = homogenize_eigenstates(blue_mps_basis6)\n",
    "blue_eigvecs_sorted6 = homogenize_eigenstates(blue_eigvecs_list6)\n",
    "display(blue_eigvecs_sorted6 == blue_mps_sorted6)"
   ]
  },
  {
   "cell_type": "code",
   "execution_count": 21,
   "id": "37a7b265",
   "metadata": {
    "hidden": true
   },
   "outputs": [
    {
     "data": {
      "text/plain": [
       "True"
      ]
     },
     "execution_count": 21,
     "metadata": {},
     "output_type": "execute_result"
    }
   ],
   "source": [
    "# define H26\n",
    "H26 = tensor(I2, σ_x, I2, I2, I2, σ_x) + \\\n",
    "      tensor(I2, σ_y, I2, I2, I2, σ_y) + \\\n",
    "      tensor(I2, σ_z, I2, I2, I2, σ_z)\n",
    "\n",
    "# define number of sites and indices where we desire σ_x\n",
    "N = 6\n",
    "site1 = 2\n",
    "site2 = 6\n",
    "\n",
    "# define list of identity operators and where we desire Pauli operators\n",
    "op_list = [qeye(2)]*N\n",
    "op_list[site1 - 1] = σ_x\n",
    "op_list[site2 - 1] = σ_x\n",
    "HX26 = tensor(op_list)\n",
    "op_list[site1 - 1] = σ_y\n",
    "op_list[site2 - 1] = σ_y\n",
    "HY26 = tensor(op_list)\n",
    "op_list[site1 - 1] = σ_z\n",
    "op_list[site2 - 1] = σ_z\n",
    "HZ26 = tensor(op_list) \n",
    "H26_constructed = HX26 + HY26 + HZ26\n",
    "H26 == H26_constructed"
   ]
  },
  {
   "cell_type": "code",
   "execution_count": 22,
   "id": "90626750",
   "metadata": {
    "hidden": true
   },
   "outputs": [
    {
     "data": {
      "text/plain": [
       "True"
      ]
     },
     "execution_count": 22,
     "metadata": {},
     "output_type": "execute_result"
    }
   ],
   "source": [
    "# define H35\n",
    "H35 = tensor(I2, I2, σ_x, I2, σ_x, I2) + \\\n",
    "      tensor(I2, I2, σ_y, I2, σ_y, I2) + \\\n",
    "      tensor(I2, I2, σ_z, I2, σ_z, I2)\n",
    "\n",
    "# define number of sites and indices where we desire Pauli operators\n",
    "N = 6\n",
    "site1 = 3\n",
    "site2 = 5\n",
    "\n",
    "# define list of identity operators and where you want our σ_x to be\n",
    "op_list = [qeye(2)]*N\n",
    "op_list[site1 - 1] = σ_x\n",
    "op_list[site2 - 1] = σ_x\n",
    "HX35 = tensor(op_list)\n",
    "op_list[site1 - 1] = σ_y\n",
    "op_list[site2 - 1] = σ_y\n",
    "HY35 = tensor(op_list)\n",
    "op_list[site1 - 1] = σ_z\n",
    "op_list[site2 - 1] = σ_z\n",
    "HZ35 = tensor(op_list)\n",
    "H35_constructed = HX35 + HY35 + HZ35\n",
    "H35 == H35_constructed"
   ]
  },
  {
   "cell_type": "code",
   "execution_count": 23,
   "id": "fc75a67d",
   "metadata": {
    "hidden": true
   },
   "outputs": [],
   "source": [
    "# define operator that swaps sites 2 and 6 as well as 3 and 5\n",
    "I64 = tensor([qeye(2)]*6)\n",
    "SWAP_26_35 = Qobj(((H26 + I64)/2)*(H35 + I64)/2, dims = [[64], [64]])"
   ]
  },
  {
   "cell_type": "code",
   "execution_count": 24,
   "id": "73e0c2fe",
   "metadata": {
    "hidden": true
   },
   "outputs": [],
   "source": [
    "# compute matrix product state for blue bonds \n",
    "N = 6\n",
    "blue_mps_basis6 = [Qobj(eigvec) for eigvec in reduce(np.kron, [ST_basis]*(int(N/2)))]\n",
    "red_mps_basis6 = [SWAP_26_35(Qobj(eigvec)) for eigvec in reduce(np.kron, [ST_basis]*(int(N/2)))]"
   ]
  },
  {
   "cell_type": "code",
   "execution_count": 25,
   "id": "a170c1c6",
   "metadata": {
    "hidden": true
   },
   "outputs": [
    {
     "data": {
      "text/plain": [
       "True"
      ]
     },
     "metadata": {},
     "output_type": "display_data"
    }
   ],
   "source": [
    "blue_mps_sorted6 = homogenize_eigenstates(blue_mps_basis6)\n",
    "blue_eigvecs_sorted6 = homogenize_eigenstates(blue_eigvecs_list6)\n",
    "display(blue_eigvecs_sorted6 == blue_mps_sorted6)"
   ]
  },
  {
   "cell_type": "code",
   "execution_count": 26,
   "id": "ce6e76b7",
   "metadata": {
    "hidden": true
   },
   "outputs": [
    {
     "data": {
      "text/plain": [
       "True"
      ]
     },
     "metadata": {},
     "output_type": "display_data"
    }
   ],
   "source": [
    "red_mps_sorted6 = homogenize_eigenstates(red_mps_basis6)\n",
    "red_eigvecs_sorted6 = homogenize_eigenstates(red_eigvecs_list6)\n",
    "display(red_eigvecs_sorted6 == red_mps_sorted6)"
   ]
  },
  {
   "cell_type": "code",
   "execution_count": null,
   "id": "9a29a20f",
   "metadata": {
    "hidden": true
   },
   "outputs": [],
   "source": []
  },
  {
   "cell_type": "markdown",
   "id": "1ca08736",
   "metadata": {
    "hidden": true
   },
   "source": [
    "## $\\text{Ordered list of eigenspectrum for } \\hat{H}_6$"
   ]
  },
  {
   "cell_type": "code",
   "execution_count": 27,
   "id": "648c7578",
   "metadata": {
    "hidden": true
   },
   "outputs": [
    {
     "name": "stdout",
     "output_type": "stream",
     "text": [
      "Eigenvalues:[-3. -3. -3. -3. -3. -3. -3. -3. -3. -3. -3. -3. -3. -3. -3. -3.  1.  1.\n",
      "  1.  1.  1.  1.  1.  1.  1.  1.  1.  1.  1.  1.  1.  1.  1.  1.  1.  1.\n",
      "  1.  1.  1.  1.  1.  1.  1.  1.  1.  1.  1.  1.  1.  1.  1.  1.  1.  1.\n",
      "  1.  1.  1.  1.  1.  1.  1.  1.  1.  1.]\n"
     ]
    },
    {
     "data": {
      "text/plain": [
       "True"
      ]
     },
     "execution_count": 27,
     "metadata": {},
     "output_type": "execute_result"
    }
   ],
   "source": [
    "# specify number of sites and index of the Hamiltonian \n",
    "N = 6\n",
    "index = 1 \n",
    "\n",
    "# compute spectrum from tensor products of index 1 to i \n",
    "H12_spectrum_1i = np.tile(eigenvalues2, 2**(index -1))\n",
    "#display(H12_spectrum_1i)\n",
    "\n",
    "# compute spectrum of tensor products of inex 1 to N, i.e., the full spectrum\n",
    "H12_spectrum_1N = np.repeat(H12_spectrum_1i, np.ceil(2**(N - index - 1)))\n",
    "print('Eigenvalues:' + str(H12_spectrum_1N))\n",
    "\n",
    "# compute H12 from matrix product state basis\n",
    "tolerance = 1e-12\n",
    "H12_mps = sum([λ*vec*vec.dag() for λ, vec in zip(H12_spectrum_1N, blue_mps_basis6)])\n",
    "np.allclose(H6_list[0], H12_mps, atol= tolerance)"
   ]
  },
  {
   "cell_type": "code",
   "execution_count": 28,
   "id": "98738266",
   "metadata": {
    "hidden": true
   },
   "outputs": [
    {
     "data": {
      "text/plain": [
       "array([-3., -3., -3., -3.,  1.,  1.,  1.,  1.,  1.,  1.,  1.,  1.,  1.,\n",
       "        1.,  1.,  1., -3., -3., -3., -3.,  1.,  1.,  1.,  1.,  1.,  1.,\n",
       "        1.,  1.,  1.,  1.,  1.,  1., -3., -3., -3., -3.,  1.,  1.,  1.,\n",
       "        1.,  1.,  1.,  1.,  1.,  1.,  1.,  1.,  1., -3., -3., -3., -3.,\n",
       "        1.,  1.,  1.,  1.,  1.,  1.,  1.,  1.,  1.,  1.,  1.,  1.])"
      ]
     },
     "metadata": {},
     "output_type": "display_data"
    },
    {
     "data": {
      "text/plain": [
       "True"
      ]
     },
     "execution_count": 28,
     "metadata": {},
     "output_type": "execute_result"
    }
   ],
   "source": [
    "# specify index of the Hamiltonian \n",
    "index = 3 \n",
    "\n",
    "# compute spectrum from tensor products of index 1 to i \n",
    "H34_spectrum_1i = np.tile(eigenvalues2, 2**(index-1))\n",
    "# display(H34_spectrum_1i)\n",
    "\n",
    "# compute spectrum of tensor products of inex 1 to N, i.e., the full spectrum\n",
    "H34_spectrum_1N = np.repeat(H34_spectrum_1i, np.ceil(2**(N - index - 1)))\n",
    "display(H34_spectrum_1N)\n",
    "\n",
    "tolerance = 1e-12\n",
    "H34_mps = sum([λ*vec*vec.dag() for λ, vec in zip(H34_spectrum_1N, blue_mps_basis6)])\n",
    "np.allclose(H6_list[2], H34_mps, atol=tolerance)"
   ]
  },
  {
   "cell_type": "code",
   "execution_count": 29,
   "id": "b8d1cf21",
   "metadata": {
    "hidden": true
   },
   "outputs": [
    {
     "data": {
      "text/plain": [
       "array([-3.,  1.,  1.,  1., -3.,  1.,  1.,  1., -3.,  1.,  1.,  1., -3.,\n",
       "        1.,  1.,  1., -3.,  1.,  1.,  1., -3.,  1.,  1.,  1., -3.,  1.,\n",
       "        1.,  1., -3.,  1.,  1.,  1., -3.,  1.,  1.,  1., -3.,  1.,  1.,\n",
       "        1., -3.,  1.,  1.,  1., -3.,  1.,  1.,  1., -3.,  1.,  1.,  1.,\n",
       "       -3.,  1.,  1.,  1., -3.,  1.,  1.,  1., -3.,  1.,  1.,  1.])"
      ]
     },
     "metadata": {},
     "output_type": "display_data"
    },
    {
     "data": {
      "text/plain": [
       "True"
      ]
     },
     "execution_count": 29,
     "metadata": {},
     "output_type": "execute_result"
    }
   ],
   "source": [
    "# specify index of the Hamiltonian \n",
    "index = 5\n",
    "\n",
    "# compute spectrum from tensor products of index 1 to i \n",
    "H56_spectrum_1i = np.tile(eigenvalues2, 2**(index-1))\n",
    "# display(H56_spectrum_1i)\n",
    "\n",
    "# compute spectrum of tensor products of inex 1 to N, i.e., the full spectrum\n",
    "H56_spectrum_1N = np.repeat(H56_spectrum_1i, np.ceil(2**(N - index - 1)))\n",
    "display(H56_spectrum_1N)\n",
    "\n",
    "tolerance = 1e-12\n",
    "H56_mps = sum([λ*vec*vec.dag() for λ, vec in zip(H56_spectrum_1N, blue_mps_basis6)])\n",
    "np.allclose(H6_list[4], H56_mps, atol=tolerance)"
   ]
  },
  {
   "cell_type": "code",
   "execution_count": 30,
   "id": "475c7527",
   "metadata": {
    "hidden": true
   },
   "outputs": [
    {
     "data": {
      "text/plain": [
       "True"
      ]
     },
     "execution_count": 30,
     "metadata": {},
     "output_type": "execute_result"
    }
   ],
   "source": [
    "# specify index of the Hamiltonian \n",
    "index = 2 \n",
    "\n",
    "# compute H23 from matrix product state basis\n",
    "tolerance = 1e-12\n",
    "H23_mps = sum([λ*vec*vec.dag() for λ, vec in zip(H56_spectrum_1N, red_mps_basis6)])\n",
    "np.allclose(H6_list[1], H23_mps, atol= tolerance)"
   ]
  },
  {
   "cell_type": "code",
   "execution_count": 31,
   "id": "40acea27",
   "metadata": {
    "hidden": true
   },
   "outputs": [
    {
     "data": {
      "text/plain": [
       "True"
      ]
     },
     "execution_count": 31,
     "metadata": {},
     "output_type": "execute_result"
    }
   ],
   "source": [
    "# specify index of the Hamiltonian \n",
    "index = 4\n",
    "\n",
    "# compute H41 from matrix product state basis\n",
    "tolerance = 1e-12\n",
    "H45_mps = sum([λ*vec*vec.dag() for λ, vec in zip(H34_spectrum_1N, red_mps_basis6)])\n",
    "np.allclose(H6_list[3], H45_mps, atol= tolerance)"
   ]
  },
  {
   "cell_type": "code",
   "execution_count": 32,
   "id": "47ce6d33",
   "metadata": {
    "hidden": true
   },
   "outputs": [
    {
     "data": {
      "text/plain": [
       "True"
      ]
     },
     "execution_count": 32,
     "metadata": {},
     "output_type": "execute_result"
    }
   ],
   "source": [
    "# specify index of the Hamiltonian \n",
    "index = 6\n",
    "\n",
    "# compute H41 from matrix product state basis\n",
    "tolerance = 1e-12\n",
    "H61_mps = sum([λ*vec*vec.dag() for λ, vec in zip(H12_spectrum_1N, red_mps_basis6)])\n",
    "np.allclose(H6_list[5], H61_mps, atol= tolerance)"
   ]
  },
  {
   "cell_type": "code",
   "execution_count": null,
   "id": "381020b4",
   "metadata": {
    "hidden": true
   },
   "outputs": [],
   "source": []
  },
  {
   "cell_type": "markdown",
   "id": "0bef638a",
   "metadata": {
    "heading_collapsed": true
   },
   "source": [
    "# $ N = 8 $"
   ]
  },
  {
   "cell_type": "markdown",
   "id": "30d47383",
   "metadata": {
    "hidden": true
   },
   "source": [
    "## $\\hat{H}_8 = \\sum_{j = 1}^{8} X_j X_{j+1} + Y_j Y_{j+1} + \\lambda Z_j Z_{j+1} $"
   ]
  },
  {
   "cell_type": "code",
   "execution_count": 33,
   "id": "9d0ba420",
   "metadata": {
    "code_folding": [],
    "hidden": true
   },
   "outputs": [],
   "source": [
    "# specify parameters of spin chain \n",
    "N = 8\n",
    "Jx = 1\n",
    "Jy = 1\n",
    "Jz = 1\n",
    "periodic_bc = True\n",
    "tolerance = 1e-12\n",
    "\n",
    "# calculate spin chain quantities\n",
    "start_time = time.time()\n",
    "H8, H8_list, eigenstates8, eigenvalues8, min_eigenvalue8, ρ_ground_state8 = quantities(N, Jx, Jy, Jz, tolerance)\n",
    "# print(\"%s seconds\" % (time.time() - start_time))"
   ]
  },
  {
   "cell_type": "code",
   "execution_count": 34,
   "id": "de1adf69",
   "metadata": {
    "code_folding": [],
    "hidden": true,
    "scrolled": false
   },
   "outputs": [
    {
     "data": {
      "text/plain": [
       "True"
      ]
     },
     "execution_count": 34,
     "metadata": {},
     "output_type": "execute_result"
    }
   ],
   "source": [
    "# collect the lists of Hamiltonians for blue and red bonds  \n",
    "H_blue_list8 = H8_list[::2]\n",
    "H_red_list8 = H8_list[1::2]\n",
    "\n",
    "# diagonlize blue and red bonds so as to find the eigenvectors and associated eigenstates \n",
    "# for each blue and red bonds\n",
    "blue_eigvals_array8, blue_eigvecs_list8 = simdiag(H_blue_list8)\n",
    "red_eigvals_array8, red_eigvecs_list8 = simdiag(H_red_list8)\n",
    "\n",
    "# calculate lists of blue and red Hamiltonians using spectral decomposition\n",
    "H_blue_reconstructed8 = [sum([λ*vec*vec.dag() for λ, vec in zip(blue_eigvals_array8[i], blue_eigvecs_list8)]) \\\n",
    "                        for i in range(int(N/2))]\n",
    "H_red_reconstructed8 = [sum([λ*vec*vec.dag() for λ, vec in zip(red_eigvals_array8[i], red_eigvecs_list8)]) \\\n",
    "                       for i in range(int(N/2))]\n",
    "\n",
    "# ensure we can reconstructed H_blue and H_red through spectral decomposition\n",
    "H_tot_bool8 = []\n",
    "for Hb1, Hb2, Hr1, Hr2 in zip(H_blue_list8, H_blue_reconstructed8, H_red_list8, H_red_reconstructed8):\n",
    "    H_tot_bool8.append(Hb1 == Hb2)\n",
    "    H_tot_bool8.append(Hr1 == Hr2)\n",
    "all(H_tot_bool8)"
   ]
  },
  {
   "cell_type": "code",
   "execution_count": 35,
   "id": "2cff1d4e",
   "metadata": {
    "code_folding": [],
    "hidden": true
   },
   "outputs": [
    {
     "data": {
      "text/plain": [
       "True"
      ]
     },
     "execution_count": 35,
     "metadata": {},
     "output_type": "execute_result"
    }
   ],
   "source": [
    "# collect all eigenvalue lists so that eigvals_array[j] contains the lists of eigenvalues\n",
    "# for the jth spin operator\n",
    "eigvals_array8 = np.concatenate((blue_eigvals_array8, red_eigvals_array8))\n",
    "eigvals_array8[::2] = blue_eigvals_array8\n",
    "eigvals_array8[1::2] = red_eigvals_array8\n",
    "\n",
    "# verify that we have successfully interleaved the eigenvalues \n",
    "# of blue and red bonds to construct eigvals_array\n",
    "eigvals_tot_bool8 = []\n",
    "for eigval_b1, eigval_b2, eigval_r1, eigval_r2 in zip(eigvals_array8[::2], blue_eigvals_array8, \\\n",
    "                                                      eigvals_array8[1::2], red_eigvals_array8):\n",
    "    eigvals_tot_bool8.append(eigval_b1 == eigval_b2)\n",
    "    eigvals_tot_bool8.append(eigval_r1 == eigval_r2)\n",
    "\n",
    "all(np.concatenate(eigvals_tot_bool8))"
   ]
  },
  {
   "cell_type": "markdown",
   "id": "19103be5",
   "metadata": {
    "hidden": true
   },
   "source": [
    "## $ \\text{Matrix Product States for } \\hat{H}_8 $"
   ]
  },
  {
   "cell_type": "code",
   "execution_count": 36,
   "id": "764e2e8d",
   "metadata": {
    "hidden": true
   },
   "outputs": [],
   "source": [
    "N = 8\n",
    "blue_mps_basis8 = [Qobj(eigvec) for eigvec in reduce(np.kron, [ST_basis]*(int(N/2)))]"
   ]
  },
  {
   "cell_type": "code",
   "execution_count": 37,
   "id": "d5d81dcb",
   "metadata": {
    "hidden": true
   },
   "outputs": [
    {
     "data": {
      "text/plain": [
       "True"
      ]
     },
     "metadata": {},
     "output_type": "display_data"
    }
   ],
   "source": [
    "blue_mps_sorted8 = homogenize_eigenstates(blue_mps_basis8)\n",
    "blue_eigvecs_sorted8 = homogenize_eigenstates(blue_eigvecs_list8)\n",
    "display(blue_eigvecs_sorted8 == blue_mps_sorted8)"
   ]
  },
  {
   "cell_type": "code",
   "execution_count": 38,
   "id": "5a028a2a",
   "metadata": {
    "hidden": true
   },
   "outputs": [
    {
     "data": {
      "text/plain": [
       "True"
      ]
     },
     "execution_count": 38,
     "metadata": {},
     "output_type": "execute_result"
    }
   ],
   "source": [
    "# define H28\n",
    "H28 = tensor(I2, σ_x, I2, I2, I2, I2, I2, σ_x) + \\\n",
    "      tensor(I2, σ_y, I2, I2, I2, I2, I2, σ_y) + \\\n",
    "      tensor(I2, σ_z, I2, I2, I2, I2, I2, σ_z) \n",
    "\n",
    "# define number of sites and indices where we desire σ_x\n",
    "N = 8\n",
    "site1 = 2\n",
    "site2 = 8\n",
    "\n",
    "# define list of identity operators and where we desire Pauli operators\n",
    "op_list = [qeye(2)]*N\n",
    "op_list[site1 - 1] = σ_x\n",
    "op_list[site2 - 1] = σ_x\n",
    "HX28 = tensor(op_list)\n",
    "op_list[site1 - 1] = σ_y\n",
    "op_list[site2 - 1] = σ_y\n",
    "HY28 = tensor(op_list)\n",
    "op_list[site1 - 1] = σ_z\n",
    "op_list[site2 - 1] = σ_z\n",
    "HZ28 = tensor(op_list) \n",
    "H28_constructed = HX28 + HY28 + HZ28\n",
    "H28 == H28_constructed"
   ]
  },
  {
   "cell_type": "code",
   "execution_count": 39,
   "id": "dcb1c3ca",
   "metadata": {
    "hidden": true
   },
   "outputs": [
    {
     "data": {
      "text/plain": [
       "True"
      ]
     },
     "execution_count": 39,
     "metadata": {},
     "output_type": "execute_result"
    }
   ],
   "source": [
    "# define H37\n",
    "H37 = tensor(I2, I2, σ_x, I2, I2, I2, σ_x, I2) + \\\n",
    "      tensor(I2, I2, σ_y, I2, I2, I2, σ_y, I2) + \\\n",
    "      tensor(I2, I2, σ_z, I2, I2, I2, σ_z, I2)\n",
    "\n",
    "# define number of sites and indices where we desire Pauli operators\n",
    "N = 8\n",
    "site1 = 3\n",
    "site2 = 7\n",
    "\n",
    "# define list of identity operators and where you want our σ_x to be\n",
    "op_list = [qeye(2)]*N\n",
    "op_list[site1 - 1] = σ_x\n",
    "op_list[site2 - 1] = σ_x\n",
    "HX37 = tensor(op_list)\n",
    "op_list[site1 - 1] = σ_y\n",
    "op_list[site2 - 1] = σ_y\n",
    "HY37 = tensor(op_list)\n",
    "op_list[site1 - 1] = σ_z\n",
    "op_list[site2 - 1] = σ_z\n",
    "HZ37 = tensor(op_list)\n",
    "H37_constructed = HX37 + HY37 + HZ37\n",
    "H37 == H37_constructed"
   ]
  },
  {
   "cell_type": "code",
   "execution_count": 40,
   "id": "705597c9",
   "metadata": {
    "hidden": true
   },
   "outputs": [
    {
     "data": {
      "text/plain": [
       "True"
      ]
     },
     "execution_count": 40,
     "metadata": {},
     "output_type": "execute_result"
    }
   ],
   "source": [
    "# define H46\n",
    "H46 = tensor(I2, I2, I2, σ_x, I2, σ_x, I2, I2) + \\\n",
    "      tensor(I2, I2, I2, σ_y, I2, σ_y, I2, I2) + \\\n",
    "      tensor(I2, I2, I2, σ_z, I2, σ_z, I2, I2)\n",
    "\n",
    "# define number of sites and indices where we desire Pauli operators\n",
    "N = 8\n",
    "site1 = 4\n",
    "site2 = 6\n",
    "\n",
    "# define list of identity operators and where you want our σ_x to be\n",
    "op_list = [qeye(2)]*N\n",
    "op_list[site1 - 1] = σ_x\n",
    "op_list[site2 - 1] = σ_x\n",
    "HX46 = tensor(op_list)\n",
    "op_list[site1 - 1] = σ_y\n",
    "op_list[site2 - 1] = σ_y\n",
    "HY46 = tensor(op_list)\n",
    "op_list[site1 - 1] = σ_z\n",
    "op_list[site2 - 1] = σ_z\n",
    "HZ46 = tensor(op_list)\n",
    "H46_constructed = HX46 + HY46 + HZ46\n",
    "H46 == H46_constructed"
   ]
  },
  {
   "cell_type": "code",
   "execution_count": 41,
   "id": "cfd63d9a",
   "metadata": {
    "hidden": true
   },
   "outputs": [],
   "source": [
    "# define operator that swaps sites 2 and 6 as well as 3 and 7\n",
    "I256 = tensor([qeye(2)]*N)\n",
    "SWAP_28_37_46 = Qobj(((H28 + I256)/2)*((H37 + I256)/2)*((H46 + I256)/2), dims = [[256], [256]])"
   ]
  },
  {
   "cell_type": "code",
   "execution_count": 42,
   "id": "a4512c62",
   "metadata": {
    "hidden": true
   },
   "outputs": [],
   "source": [
    "# compute matrix product state for blue bonds \n",
    "N = 8\n",
    "blue_mps_basis8 = [Qobj(eigvec) for eigvec in reduce(np.kron, [ST_basis]*(int(N/2)))]\n",
    "red_mps_basis8 = [SWAP_28_37_46(Qobj(eigvec)) for eigvec in reduce(np.kron, [ST_basis]*(int(N/2)))]"
   ]
  },
  {
   "cell_type": "code",
   "execution_count": 43,
   "id": "ba7f91d6",
   "metadata": {
    "hidden": true
   },
   "outputs": [
    {
     "data": {
      "text/plain": [
       "True"
      ]
     },
     "metadata": {},
     "output_type": "display_data"
    }
   ],
   "source": [
    "blue_mps_sorted8 = homogenize_eigenstates(blue_mps_basis8)\n",
    "blue_eigvecs_sorted8 = homogenize_eigenstates(blue_eigvecs_list8)\n",
    "display(blue_eigvecs_sorted8 == blue_mps_sorted8)"
   ]
  },
  {
   "cell_type": "code",
   "execution_count": 44,
   "id": "1a43839e",
   "metadata": {
    "hidden": true
   },
   "outputs": [
    {
     "data": {
      "text/plain": [
       "True"
      ]
     },
     "metadata": {},
     "output_type": "display_data"
    }
   ],
   "source": [
    "red_mps_sorted6 = homogenize_eigenstates(red_mps_basis6)\n",
    "red_eigvecs_sorted6 = homogenize_eigenstates(red_eigvecs_list6)\n",
    "display(red_eigvecs_sorted6 == red_mps_sorted6)"
   ]
  },
  {
   "cell_type": "code",
   "execution_count": null,
   "id": "7b80c2a5",
   "metadata": {
    "hidden": true
   },
   "outputs": [],
   "source": []
  },
  {
   "cell_type": "markdown",
   "id": "39d783f0",
   "metadata": {
    "hidden": true
   },
   "source": [
    "## $\\text{Ordered list of eigenspectrum for } \\hat{H}_8 $"
   ]
  },
  {
   "cell_type": "code",
   "execution_count": 45,
   "id": "05c05caf",
   "metadata": {
    "hidden": true
   },
   "outputs": [
    {
     "data": {
      "text/plain": [
       "True"
      ]
     },
     "execution_count": 45,
     "metadata": {},
     "output_type": "execute_result"
    }
   ],
   "source": [
    "# specify number of sites and index of the Hamiltonian \n",
    "N = 8\n",
    "index = 1 \n",
    "\n",
    "# compute spectrum from tensor products of index 1 to i \n",
    "H12_spectrum_1i = np.tile(eigenvalues2, 2**(index -1))\n",
    "#display(H12_spectrum_1i)\n",
    "\n",
    "# compute spectrum of tensor products of inex 1 to N, i.e., the full spectrum\n",
    "H12_spectrum_1N = np.repeat(H12_spectrum_1i, np.ceil(2**(N - index - 1)))\n",
    "# print('Eigenvalues:' + str(H12_spectrum_1N))\n",
    "\n",
    "# compute H12 from matrix product state basis\n",
    "tolerance = 1e-12\n",
    "H12_mps = sum([λ*vec*vec.dag() for λ, vec in zip(H12_spectrum_1N, blue_mps_basis8)])\n",
    "np.allclose(H8_list[0], H12_mps, atol= tolerance)"
   ]
  },
  {
   "cell_type": "code",
   "execution_count": 46,
   "id": "15f4ac7d",
   "metadata": {
    "hidden": true
   },
   "outputs": [
    {
     "data": {
      "text/plain": [
       "True"
      ]
     },
     "execution_count": 46,
     "metadata": {},
     "output_type": "execute_result"
    }
   ],
   "source": [
    "# specify index of the Hamiltonian \n",
    "index = 3 \n",
    "\n",
    "# compute spectrum from tensor products of index 1 to i \n",
    "H34_spectrum_1i = np.tile(eigenvalues2, 2**(index-1))\n",
    "# display(H34_spectrum_1i)\n",
    "\n",
    "# compute spectrum of tensor products of inex 1 to N, i.e., the full spectrum\n",
    "H34_spectrum_1N = np.repeat(H34_spectrum_1i, np.ceil(2**(N - index - 1)))\n",
    "# display(H34_spectrum_1N)\n",
    "\n",
    "tolerance = 1e-12\n",
    "H34_mps = sum([λ*vec*vec.dag() for λ, vec in zip(H34_spectrum_1N, blue_mps_basis8)])\n",
    "np.allclose(H8_list[2], H34_mps, atol=tolerance)"
   ]
  },
  {
   "cell_type": "code",
   "execution_count": 47,
   "id": "42ecaa9b",
   "metadata": {
    "hidden": true
   },
   "outputs": [
    {
     "data": {
      "text/plain": [
       "True"
      ]
     },
     "execution_count": 47,
     "metadata": {},
     "output_type": "execute_result"
    }
   ],
   "source": [
    "# specify index of the Hamiltonian \n",
    "index = 5\n",
    "\n",
    "# compute spectrum from tensor products of index 1 to i \n",
    "H56_spectrum_1i = np.tile(eigenvalues2, 2**(index-1))\n",
    "# display(H56_spectrum_1i)\n",
    "\n",
    "# compute spectrum of tensor products of inex 1 to N, i.e., the full spectrum\n",
    "H56_spectrum_1N = np.repeat(H56_spectrum_1i, np.ceil(2**(N - index - 1)))\n",
    "# display(H56_spectrum_1N)\n",
    "\n",
    "tolerance = 1e-12\n",
    "H56_mps = sum([λ*vec*vec.dag() for λ, vec in zip(H56_spectrum_1N, blue_mps_basis8)])\n",
    "np.allclose(H8_list[4], H56_mps, atol=tolerance)"
   ]
  },
  {
   "cell_type": "code",
   "execution_count": 48,
   "id": "bddc04fe",
   "metadata": {
    "hidden": true
   },
   "outputs": [
    {
     "data": {
      "text/plain": [
       "True"
      ]
     },
     "execution_count": 48,
     "metadata": {},
     "output_type": "execute_result"
    }
   ],
   "source": [
    "# specify index of the Hamiltonian \n",
    "index = 7\n",
    "\n",
    "# compute spectrum from tensor products of index 1 to i \n",
    "H78_spectrum_1i = np.tile(eigenvalues2, 2**(index-1))\n",
    "# display(H56_spectrum_1i)\n",
    "\n",
    "# compute spectrum of tensor products of inex 1 to N, i.e., the full spectrum\n",
    "H78_spectrum_1N = np.repeat(H78_spectrum_1i, np.ceil(2**(N - index - 1)))\n",
    "# display(H56_spectrum_1N)\n",
    "\n",
    "tolerance = 1e-12\n",
    "H78_mps = sum([λ*vec*vec.dag() for λ, vec in zip(H78_spectrum_1N, blue_mps_basis8)])\n",
    "np.allclose(H8_list[6], H78_mps, atol=tolerance)"
   ]
  },
  {
   "cell_type": "code",
   "execution_count": 49,
   "id": "331c88ab",
   "metadata": {
    "hidden": true
   },
   "outputs": [
    {
     "data": {
      "text/plain": [
       "True"
      ]
     },
     "execution_count": 49,
     "metadata": {},
     "output_type": "execute_result"
    }
   ],
   "source": [
    "# specify index of the Hamiltonian \n",
    "index = 2 \n",
    "\n",
    "# compute H23 from matrix product state basis\n",
    "tolerance = 1e-12\n",
    "H23_mps = sum([λ*vec*vec.dag() for λ, vec in zip(H78_spectrum_1N, red_mps_basis8)])\n",
    "np.allclose(H8_list[1], H23_mps, atol= tolerance)"
   ]
  },
  {
   "cell_type": "code",
   "execution_count": 50,
   "id": "2c1ae218",
   "metadata": {
    "hidden": true
   },
   "outputs": [
    {
     "data": {
      "text/plain": [
       "True"
      ]
     },
     "execution_count": 50,
     "metadata": {},
     "output_type": "execute_result"
    }
   ],
   "source": [
    "# specify index of the Hamiltonian \n",
    "index = 4\n",
    "\n",
    "# compute H41 from matrix product state basis\n",
    "tolerance = 1e-12\n",
    "H45_mps = sum([λ*vec*vec.dag() for λ, vec in zip(H56_spectrum_1N, red_mps_basis8)])\n",
    "np.allclose(H8_list[3], H45_mps, atol= tolerance)"
   ]
  },
  {
   "cell_type": "code",
   "execution_count": 51,
   "id": "2ef90130",
   "metadata": {
    "hidden": true
   },
   "outputs": [
    {
     "data": {
      "text/plain": [
       "True"
      ]
     },
     "execution_count": 51,
     "metadata": {},
     "output_type": "execute_result"
    }
   ],
   "source": [
    "# specify index of the Hamiltonian \n",
    "index = 6\n",
    "\n",
    "# compute H41 from matrix product state basis\n",
    "tolerance = 1e-12\n",
    "H67_mps = sum([λ*vec*vec.dag() for λ, vec in zip(H34_spectrum_1N, red_mps_basis6)])\n",
    "np.allclose(H6_list[5], H67_mps, atol= tolerance)"
   ]
  },
  {
   "cell_type": "code",
   "execution_count": 52,
   "id": "238a387e",
   "metadata": {
    "hidden": true
   },
   "outputs": [
    {
     "data": {
      "text/plain": [
       "True"
      ]
     },
     "execution_count": 52,
     "metadata": {},
     "output_type": "execute_result"
    }
   ],
   "source": [
    "# specify index of the Hamiltonian \n",
    "index = 8\n",
    "\n",
    "# compute H41 from matrix product state basis\n",
    "tolerance = 1e-12\n",
    "H81_mps = sum([λ*vec*vec.dag() for λ, vec in zip(H12_spectrum_1N, red_mps_basis8)])\n",
    "np.allclose(H8_list[7], H81_mps, atol= tolerance)"
   ]
  },
  {
   "cell_type": "code",
   "execution_count": null,
   "id": "0efd78d7",
   "metadata": {
    "hidden": true
   },
   "outputs": [],
   "source": []
  },
  {
   "cell_type": "markdown",
   "id": "efa7c8a2",
   "metadata": {
    "heading_collapsed": true
   },
   "source": [
    "# $ N = 10$"
   ]
  },
  {
   "cell_type": "markdown",
   "id": "d03e6422",
   "metadata": {
    "hidden": true
   },
   "source": [
    "## $\\hat{H}_{10} = \\sum_{j = 1}^{10} X_j X_{j+1} + Y_j Y_{j+1} + \\lambda Z_j Z_{j+1} $"
   ]
  },
  {
   "cell_type": "code",
   "execution_count": 56,
   "id": "7a10a74d",
   "metadata": {
    "code_folding": [],
    "hidden": true
   },
   "outputs": [],
   "source": [
    "# specify parameters of spin chain \n",
    "N = 10\n",
    "Jx = 1\n",
    "Jy = 1\n",
    "Jz = 1\n",
    "periodic_bc = True\n",
    "tolerance = 1e-12\n",
    "\n",
    "# calculate spin chain quantities\n",
    "start_time = time.time()\n",
    "H10, H10_list, eigenstates10, eigenvalues10, min_eigenvalue10, ρ_ground_state10 = quantities(N, Jx, Jy, Jz, tolerance)\n",
    "# print(\"%s seconds\" % (time.time() - start_time))"
   ]
  },
  {
   "cell_type": "code",
   "execution_count": 57,
   "id": "1bd05e94",
   "metadata": {
    "code_folding": [],
    "hidden": true,
    "scrolled": false
   },
   "outputs": [
    {
     "data": {
      "text/plain": [
       "True"
      ]
     },
     "execution_count": 57,
     "metadata": {},
     "output_type": "execute_result"
    }
   ],
   "source": [
    "# collect the lists of Hamiltonians for blue and red bonds  \n",
    "H_blue_list10 = H10_list[::2]\n",
    "H_red_list10 = H10_list[1::2]\n",
    "\n",
    "# diagonlize blue and red bonds so as to find the eigenvectors and associated eigenstates \n",
    "# for each blue and red bonds\n",
    "blue_eigvals_array10, blue_eigvecs_list10 = simdiag(H_blue_list10)\n",
    "red_eigvals_array10, red_eigvecs_list10 = simdiag(H_red_list10)\n",
    "\n",
    "# calculate lists of blue and red Hamiltonians using spectral decomposition\n",
    "H_blue_reconstructed10 = [sum([λ*vec*vec.dag() for λ, vec in zip(blue_eigvals_array10[i], blue_eigvecs_list10)]) \\\n",
    "                        for i in range(int(N/2))]\n",
    "H_red_reconstructed10 = [sum([λ*vec*vec.dag() for λ, vec in zip(red_eigvals_array10[i], red_eigvecs_list10)]) \\\n",
    "                       for i in range(int(N/2))]\n",
    "\n",
    "# ensure we can reconstructed H_blue and H_red through spectral decomposition\n",
    "H_tot_bool10 = []\n",
    "for Hb1, Hb2, Hr1, Hr2 in zip(H_blue_list10, H_blue_reconstructed10, H_red_list10, H_red_reconstructed10):\n",
    "    H_tot_bool10.append(Hb1 == Hb2)\n",
    "    H_tot_bool10.append(Hr1 == Hr2)\n",
    "all(H_tot_bool10)"
   ]
  },
  {
   "cell_type": "code",
   "execution_count": 58,
   "id": "2f436d73",
   "metadata": {
    "code_folding": [],
    "hidden": true
   },
   "outputs": [
    {
     "data": {
      "text/plain": [
       "True"
      ]
     },
     "execution_count": 58,
     "metadata": {},
     "output_type": "execute_result"
    }
   ],
   "source": [
    "# collect all eigenvalue lists so that eigvals_array[j] contains the lists of eigenvalues\n",
    "# for the jth spin operator\n",
    "eigvals_array10 = np.concatenate((blue_eigvals_array10, red_eigvals_array10))\n",
    "eigvals_array10[::2] = blue_eigvals_array10\n",
    "eigvals_array10[1::2] = red_eigvals_array10\n",
    "\n",
    "# verify that we have successfully interleaved the eigenvalues \n",
    "# of blue and red bonds to construct eigvals_array\n",
    "eigvals_tot_bool10 = []\n",
    "for eigval_b1, eigval_b2, eigval_r1, eigval_r2 in zip(eigvals_array10[::2], blue_eigvals_array10, \\\n",
    "                                                      eigvals_array10[1::2], red_eigvals_array10):\n",
    "    eigvals_tot_bool10.append(eigval_b1 == eigval_b2)\n",
    "    eigvals_tot_bool10.append(eigval_r1 == eigval_r2)\n",
    "\n",
    "all(np.concatenate(eigvals_tot_bool10))"
   ]
  },
  {
   "cell_type": "markdown",
   "id": "2de0a20a",
   "metadata": {
    "hidden": true
   },
   "source": [
    "## $ \\text{Matrix Product States for } \\hat{H}_{10} $"
   ]
  },
  {
   "cell_type": "code",
   "execution_count": 59,
   "id": "ca4ebfa0",
   "metadata": {
    "hidden": true
   },
   "outputs": [],
   "source": [
    "N = 10\n",
    "blue_mps_basis10 = [Qobj(eigvec) for eigvec in reduce(np.kron, [ST_basis]*(int(N/2)))]"
   ]
  },
  {
   "cell_type": "code",
   "execution_count": 60,
   "id": "ebc40553",
   "metadata": {
    "hidden": true
   },
   "outputs": [
    {
     "data": {
      "text/plain": [
       "True"
      ]
     },
     "metadata": {},
     "output_type": "display_data"
    }
   ],
   "source": [
    "blue_mps_sorted10 = homogenize_eigenstates(blue_mps_basis10)\n",
    "blue_eigvecs_sorted10 = homogenize_eigenstates(blue_eigvecs_list10)\n",
    "display(blue_eigvecs_sorted10 == blue_mps_sorted10)"
   ]
  },
  {
   "cell_type": "code",
   "execution_count": 61,
   "id": "71528d15",
   "metadata": {
    "hidden": true
   },
   "outputs": [
    {
     "data": {
      "text/plain": [
       "[(2, 10), (3, 9), (4, 8), (5, 7)]"
      ]
     },
     "execution_count": 61,
     "metadata": {},
     "output_type": "execute_result"
    }
   ],
   "source": [
    "N = 10\n",
    "H_SWAP_indices = [(2 + i, N - i) for i in range(0, int(N/2) - 1)]\n",
    "H_SWAP_indices"
   ]
  },
  {
   "cell_type": "code",
   "execution_count": 62,
   "id": "bda97384",
   "metadata": {
    "hidden": true
   },
   "outputs": [],
   "source": [
    "# initialize empty list to fill with H_SWAP matrices, which are Hamiltonians containing \n",
    "# XX + YY + ZZ at indices specified by each tuple in H_SWAP_indices\n",
    "H_SWAP_list = []\n",
    "\n",
    "for indices_tuple in H_SWAP_indices:\n",
    "    \n",
    "    # collect at which sites we will insert Pauli matrices\n",
    "    site1 = indices_tuple[0]\n",
    "    site2 = indices_tuple[1]\n",
    "    \n",
    "    # define list of identity operators and where we desire Pauli operators\n",
    "    op_list = [qeye(2)]*N\n",
    "    op_list[site1 - 1] = σ_x\n",
    "    op_list[site2 - 1] = σ_x\n",
    "    HX_couplings = tensor(op_list)\n",
    "    op_list[site1 - 1] = σ_y\n",
    "    op_list[site2 - 1] = σ_y\n",
    "    HY_couplings = tensor(op_list)\n",
    "    op_list[site1 - 1] = σ_z\n",
    "    op_list[site2 - 1] = σ_z\n",
    "    HZ_couplings = tensor(op_list) \n",
    "    \n",
    "    # append H_SWAP = HX_couplings + HY_couplings + HZ_couplings to H_SWAP_mat_list\n",
    "    H_SWAP_list.append(HX_couplings + HY_couplings + HZ_couplings)\n",
    "    "
   ]
  },
  {
   "cell_type": "code",
   "execution_count": 63,
   "id": "9337392c",
   "metadata": {
    "hidden": true
   },
   "outputs": [],
   "source": [
    "# define operator that swaps sites 2 and 6 as well as 3 and 7\n",
    "I = tensor([qeye(2)]*N)"
   ]
  },
  {
   "cell_type": "code",
   "execution_count": 64,
   "id": "81b03b79",
   "metadata": {
    "hidden": true
   },
   "outputs": [],
   "source": [
    "# specify the dimension of the new matrix \n",
    "dim = 2**N\n",
    "H_SWAP_tot = Qobj(reduce(lambda x,y: x*y , [(H_SWAP + I)/2 for H_SWAP in H_SWAP_list]), dims = [[dim], [dim]])"
   ]
  },
  {
   "cell_type": "code",
   "execution_count": 65,
   "id": "2efc29c6",
   "metadata": {
    "hidden": true
   },
   "outputs": [],
   "source": [
    "# compute matrix product state for blue bonds \n",
    "N = 10\n",
    "blue_mps_basis10 = [Qobj(eigvec) for eigvec in reduce(np.kron, [ST_basis]*(int(N/2)))]\n",
    "red_mps_basis10 = [H_SWAP_tot(Qobj(eigvec)) for eigvec in reduce(np.kron, [ST_basis]*(int(N/2)))]"
   ]
  },
  {
   "cell_type": "code",
   "execution_count": 66,
   "id": "2d685e96",
   "metadata": {
    "hidden": true
   },
   "outputs": [
    {
     "data": {
      "text/plain": [
       "True"
      ]
     },
     "metadata": {},
     "output_type": "display_data"
    }
   ],
   "source": [
    "blue_mps_sorted10 = homogenize_eigenstates(blue_mps_basis10)\n",
    "blue_eigvecs_sorted10 = homogenize_eigenstates(blue_eigvecs_list10)\n",
    "display(blue_eigvecs_sorted10 == blue_mps_sorted10)"
   ]
  },
  {
   "cell_type": "code",
   "execution_count": 67,
   "id": "d485ceca",
   "metadata": {
    "hidden": true
   },
   "outputs": [
    {
     "data": {
      "text/plain": [
       "True"
      ]
     },
     "metadata": {},
     "output_type": "display_data"
    }
   ],
   "source": [
    "red_mps_sorted10 = homogenize_eigenstates(red_mps_basis10)\n",
    "red_eigvecs_sorted10 = homogenize_eigenstates(red_eigvecs_list10)\n",
    "display(red_eigvecs_sorted10 == red_mps_sorted10)"
   ]
  },
  {
   "cell_type": "code",
   "execution_count": null,
   "id": "2364f199",
   "metadata": {
    "hidden": true
   },
   "outputs": [],
   "source": []
  },
  {
   "cell_type": "markdown",
   "id": "fa036eb7",
   "metadata": {
    "hidden": true
   },
   "source": [
    "## $ \\text{Ordered list of eigenspectrum for } \\hat{H}_{10} $"
   ]
  },
  {
   "cell_type": "code",
   "execution_count": 68,
   "id": "4dec9300",
   "metadata": {
    "hidden": true
   },
   "outputs": [
    {
     "data": {
      "text/plain": [
       "True"
      ]
     },
     "execution_count": 68,
     "metadata": {},
     "output_type": "execute_result"
    }
   ],
   "source": [
    "# specify number of sites and index of the Hamiltonian \n",
    "N = 10\n",
    "index = 1 \n",
    "\n",
    "# compute spectrum from tensor products of index 1 to i \n",
    "H12_spectrum_1i = np.tile(eigenvalues2, 2**(index -1))\n",
    "#display(H12_spectrum_1i)\n",
    "\n",
    "# compute spectrum of tensor products of inex 1 to N, i.e., the full spectrum\n",
    "H12_spectrum_1N = np.repeat(H12_spectrum_1i, np.ceil(2**(N - index - 1)))\n",
    "# print('Eigenvalues:' + str(H12_spectrum_1N))\n",
    "\n",
    "# compute H12 from matrix product state basis\n",
    "tolerance = 1e-12\n",
    "H12_mps = sum([λ*vec*vec.dag() for λ, vec in zip(H12_spectrum_1N, blue_mps_basis10)])\n",
    "np.allclose(H10_list[0], H12_mps, atol= tolerance)"
   ]
  },
  {
   "cell_type": "code",
   "execution_count": 69,
   "id": "c960d3f7",
   "metadata": {
    "hidden": true
   },
   "outputs": [
    {
     "data": {
      "text/plain": [
       "True"
      ]
     },
     "execution_count": 69,
     "metadata": {},
     "output_type": "execute_result"
    }
   ],
   "source": [
    "# specify index of the Hamiltonian \n",
    "index = 3 \n",
    "\n",
    "# compute spectrum from tensor products of index 1 to i \n",
    "H34_spectrum_1i = np.tile(eigenvalues2, 2**(index-1))\n",
    "# display(H34_spectrum_1i)\n",
    "\n",
    "# compute spectrum of tensor products of inex 1 to N, i.e., the full spectrum\n",
    "H34_spectrum_1N = np.repeat(H34_spectrum_1i, np.ceil(2**(N - index - 1)))\n",
    "# display(H34_spectrum_1N)\n",
    "\n",
    "tolerance = 1e-12\n",
    "H34_mps = sum([λ*vec*vec.dag() for λ, vec in zip(H34_spectrum_1N, blue_mps_basis10)])\n",
    "np.allclose(H10_list[2], H34_mps, atol=tolerance)"
   ]
  },
  {
   "cell_type": "code",
   "execution_count": 70,
   "id": "47e27503",
   "metadata": {
    "hidden": true
   },
   "outputs": [
    {
     "data": {
      "text/plain": [
       "True"
      ]
     },
     "execution_count": 70,
     "metadata": {},
     "output_type": "execute_result"
    }
   ],
   "source": [
    "# specify index of the Hamiltonian \n",
    "index = 5\n",
    "\n",
    "# compute spectrum from tensor products of index 1 to i \n",
    "H56_spectrum_1i = np.tile(eigenvalues2, 2**(index-1))\n",
    "# display(H56_spectrum_1i)\n",
    "\n",
    "# compute spectrum of tensor products of inex 1 to N, i.e., the full spectrum\n",
    "H56_spectrum_1N = np.repeat(H56_spectrum_1i, np.ceil(2**(N - index - 1)))\n",
    "# display(H56_spectrum_1N)\n",
    "\n",
    "tolerance = 1e-12\n",
    "H56_mps = sum([λ*vec*vec.dag() for λ, vec in zip(H56_spectrum_1N, blue_mps_basis10)])\n",
    "np.allclose(H10_list[4], H56_mps, atol=tolerance)"
   ]
  },
  {
   "cell_type": "code",
   "execution_count": 71,
   "id": "e59f891c",
   "metadata": {
    "hidden": true
   },
   "outputs": [
    {
     "data": {
      "text/plain": [
       "True"
      ]
     },
     "execution_count": 71,
     "metadata": {},
     "output_type": "execute_result"
    }
   ],
   "source": [
    "# specify index of the Hamiltonian \n",
    "index = 7\n",
    "\n",
    "# compute spectrum from tensor products of index 1 to i \n",
    "H78_spectrum_1i = np.tile(eigenvalues2, 2**(index-1))\n",
    "# display(H56_spectrum_1i)\n",
    "\n",
    "# compute spectrum of tensor products of inex 1 to N, i.e., the full spectrum\n",
    "H78_spectrum_1N = np.repeat(H78_spectrum_1i, np.ceil(2**(N - index - 1)))\n",
    "# display(H56_spectrum_1N)\n",
    "\n",
    "tolerance = 1e-12\n",
    "H78_mps = sum([λ*vec*vec.dag() for λ, vec in zip(H78_spectrum_1N, blue_mps_basis10)])\n",
    "np.allclose(H10_list[6], H78_mps, atol=tolerance)"
   ]
  },
  {
   "cell_type": "code",
   "execution_count": 72,
   "id": "9effb1c6",
   "metadata": {
    "hidden": true
   },
   "outputs": [
    {
     "data": {
      "text/plain": [
       "True"
      ]
     },
     "execution_count": 72,
     "metadata": {},
     "output_type": "execute_result"
    }
   ],
   "source": [
    "# specify index of the Hamiltonian \n",
    "index = 9\n",
    "\n",
    "# compute spectrum from tensor products of index 1 to i \n",
    "H78_spectrum_1i = np.tile(eigenvalues2, 2**(index-1))\n",
    "# display(H56_spectrum_1i)\n",
    "\n",
    "# compute spectrum of tensor products of inex 1 to N, i.e., the full spectrum\n",
    "H9_10_spectrum_1N = np.repeat(H78_spectrum_1i, np.ceil(2**(N - index - 1)))\n",
    "# display(H56_spectrum_1N)\n",
    "\n",
    "tolerance = 1e-12\n",
    "H9_10_mps = sum([λ*vec*vec.dag() for λ, vec in zip(H9_10_spectrum_1N, blue_mps_basis10)])\n",
    "np.allclose(H10_list[8], H9_10_mps, atol=tolerance)"
   ]
  },
  {
   "cell_type": "code",
   "execution_count": 73,
   "id": "9cfde3cc",
   "metadata": {
    "hidden": true
   },
   "outputs": [
    {
     "data": {
      "text/plain": [
       "True"
      ]
     },
     "execution_count": 73,
     "metadata": {},
     "output_type": "execute_result"
    }
   ],
   "source": [
    "# specify index of the Hamiltonian \n",
    "index = 2 \n",
    "\n",
    "# compute H23 from matrix product state basis\n",
    "tolerance = 1e-12\n",
    "H23_mps = sum([λ*vec*vec.dag() for λ, vec in zip(H9_10_spectrum_1N, red_mps_basis10)])\n",
    "np.allclose(H10_list[1], H23_mps, atol= tolerance)"
   ]
  },
  {
   "cell_type": "code",
   "execution_count": 74,
   "id": "f6299d4a",
   "metadata": {
    "hidden": true
   },
   "outputs": [
    {
     "data": {
      "text/plain": [
       "True"
      ]
     },
     "execution_count": 74,
     "metadata": {},
     "output_type": "execute_result"
    }
   ],
   "source": [
    "# specify index of the Hamiltonian \n",
    "index = 4\n",
    "\n",
    "# compute H41 from matrix product state basis\n",
    "tolerance = 1e-12\n",
    "H45_mps = sum([λ*vec*vec.dag() for λ, vec in zip(H78_spectrum_1N, red_mps_basis10)])\n",
    "np.allclose(H10_list[3], H45_mps, atol= tolerance)"
   ]
  },
  {
   "cell_type": "code",
   "execution_count": 75,
   "id": "e537acc2",
   "metadata": {
    "hidden": true
   },
   "outputs": [
    {
     "data": {
      "text/plain": [
       "True"
      ]
     },
     "execution_count": 75,
     "metadata": {},
     "output_type": "execute_result"
    }
   ],
   "source": [
    "# specify index of the Hamiltonian \n",
    "index = 6\n",
    "\n",
    "# compute H41 from matrix product state basis\n",
    "tolerance = 1e-12\n",
    "H67_mps = sum([λ*vec*vec.dag() for λ, vec in zip(H56_spectrum_1N, red_mps_basis10)])\n",
    "np.allclose(H10_list[5], H67_mps, atol= tolerance)"
   ]
  },
  {
   "cell_type": "code",
   "execution_count": 76,
   "id": "178486b6",
   "metadata": {
    "hidden": true
   },
   "outputs": [
    {
     "data": {
      "text/plain": [
       "True"
      ]
     },
     "execution_count": 76,
     "metadata": {},
     "output_type": "execute_result"
    }
   ],
   "source": [
    "# specify index of the Hamiltonian \n",
    "index = 8\n",
    "\n",
    "# compute H41 from matrix product state basis\n",
    "tolerance = 1e-12\n",
    "H81_mps = sum([λ*vec*vec.dag() for λ, vec in zip(H34_spectrum_1N, red_mps_basis10)])\n",
    "np.allclose(H10_list[7], H81_mps, atol= tolerance)"
   ]
  },
  {
   "cell_type": "code",
   "execution_count": 77,
   "id": "70a67fcf",
   "metadata": {
    "hidden": true
   },
   "outputs": [
    {
     "data": {
      "text/plain": [
       "True"
      ]
     },
     "execution_count": 77,
     "metadata": {},
     "output_type": "execute_result"
    }
   ],
   "source": [
    "# specify index of the Hamiltonian \n",
    "index = 10\n",
    "\n",
    "# compute H41 from matrix product state basis\n",
    "tolerance = 1e-12\n",
    "H10_1_mps = sum([λ*vec*vec.dag() for λ, vec in zip(H12_spectrum_1N, red_mps_basis10)])\n",
    "np.allclose(H10_list[9], H10_1_mps, atol= tolerance)"
   ]
  },
  {
   "cell_type": "code",
   "execution_count": null,
   "id": "fbbca9e0",
   "metadata": {
    "hidden": true
   },
   "outputs": [],
   "source": []
  },
  {
   "cell_type": "code",
   "execution_count": null,
   "id": "65f5ea51",
   "metadata": {
    "hidden": true
   },
   "outputs": [],
   "source": []
  },
  {
   "cell_type": "markdown",
   "id": "2a4b710e",
   "metadata": {
    "heading_collapsed": true
   },
   "source": [
    "# $ N = 12 $"
   ]
  },
  {
   "cell_type": "code",
   "execution_count": 92,
   "id": "530d6c51",
   "metadata": {
    "hidden": true
   },
   "outputs": [
    {
     "name": "stdout",
     "output_type": "stream",
     "text": [
      "49.99112391471863 seconds\n"
     ]
    }
   ],
   "source": [
    "# specify parameters of spin chain \n",
    "N = 12\n",
    "Jx = 1\n",
    "Jy = 1\n",
    "Jz = 1\n",
    "periodic_bc = True\n",
    "tolerance = 1e-12\n",
    "\n",
    "# calculate spin chain quantities\n",
    "start_time = time.time()\n",
    "H12, H12_list, eigenstates12, eigenvalues12, min_eigenvalue12, ρ_ground_state12 = \\\n",
    "quantities(N, Jx, Jy, Jz, tolerance)\n",
    "print(\"%s seconds\" % (time.time() - start_time))"
   ]
  },
  {
   "cell_type": "code",
   "execution_count": null,
   "id": "9766b737",
   "metadata": {
    "hidden": true
   },
   "outputs": [],
   "source": []
  },
  {
   "cell_type": "code",
   "execution_count": null,
   "id": "5bf33085",
   "metadata": {
    "hidden": true
   },
   "outputs": [],
   "source": []
  },
  {
   "cell_type": "code",
   "execution_count": null,
   "id": "72627443",
   "metadata": {
    "hidden": true
   },
   "outputs": [],
   "source": []
  },
  {
   "cell_type": "code",
   "execution_count": null,
   "id": "953aa818",
   "metadata": {
    "hidden": true
   },
   "outputs": [],
   "source": []
  },
  {
   "cell_type": "code",
   "execution_count": null,
   "id": "a9205433",
   "metadata": {
    "hidden": true
   },
   "outputs": [],
   "source": []
  },
  {
   "cell_type": "markdown",
   "id": "6ce0fa67",
   "metadata": {},
   "source": [
    "# Global Eigendecomposition "
   ]
  },
  {
   "cell_type": "code",
   "execution_count": 53,
   "id": "a98b1eb4",
   "metadata": {
    "code_folding": [
     0
    ]
   },
   "outputs": [],
   "source": [
    "def eigendecomp_spin_operators(N, ST_basis):\n",
    "    \n",
    "    '''\n",
    "    function to find the global eigenkets for blue and red bonds as well\n",
    "    as the spectrum of each local 2-site Hamiltonian in the basis of these\n",
    "    global eigenkets\n",
    "    '''\n",
    "    \n",
    "    # collect indices for H_ik Hamiltonians which will be used to convert \n",
    "    # blue global eigenkets to red global eigenkets\n",
    "    H_ik_indices = [(2 + i, N - i) for i in range(0, int(N/2) - 1)]\n",
    "\n",
    "    # collect all H_ik matrices, which are Hamiltonians containing \n",
    "    # XX + YY + ZZ at indices i and k specified by each tuple in H_SWAP_indices\n",
    "    H_ik_list = []\n",
    "    for indices_tuple in H_ik_indices:\n",
    "\n",
    "        # collect at which sites we will insert Pauli matrices\n",
    "        site1 = indices_tuple[0]\n",
    "        site2 = indices_tuple[1]\n",
    "\n",
    "        # define list of identity operators and insert Pauli matrices\n",
    "        # at sites specified by indices_tuple\n",
    "        op_list = [qeye(2)]*N\n",
    "        op_list[site1 - 1] = σ_x\n",
    "        op_list[site2 - 1] = σ_x\n",
    "        HX_couplings = tensor(op_list)\n",
    "        op_list[site1 - 1] = σ_y\n",
    "        op_list[site2 - 1] = σ_y\n",
    "        HY_couplings = tensor(op_list)\n",
    "        op_list[site1 - 1] = σ_z\n",
    "        op_list[site2 - 1] = σ_z\n",
    "        HZ_couplings = tensor(op_list) \n",
    "\n",
    "        # append H_SWAP = HX_couplings + HY_couplings + HZ_couplings to H_ik_list\n",
    "        H_ik_list.append(HX_couplings + HY_couplings + HZ_couplings)\n",
    "\n",
    "    # collect product of SWAP matrices that will convert red eigenkets to blue eigenkets\n",
    "    I = tensor([qeye(2)]*N)\n",
    "    dim = 2**N\n",
    "    SWAP_operator = Qobj(reduce(lambda x,y: x*y, \\\n",
    "                                [(H_ik + I)/2 for H_ik in H_ik_list]), dims = [[dim], [dim]])\n",
    "\n",
    "    # construct global eigenkets for red and blue bonds for N sites\n",
    "    blue_mpsN = [Qobj(eigvec) for eigvec in reduce(np.kron, [ST_basis]*(int(N/2)))]\n",
    "    red_mpsN = [SWAP_operator(Qobj(eigvec)) for eigvec in reduce(np.kron, [ST_basis]*(int(N/2)))]\n",
    "    \n",
    "    # initialize empty list which will contain the spectrum of each local Hamiltonian \n",
    "    # in the basis of the blue and red global eigenkets\n",
    "    H_local_spectrum_list = []\n",
    "\n",
    "    # find spectra of all 2-site Hamiltonians\n",
    "    for i in range(1, N+1, 2):\n",
    "\n",
    "        # compute spectrum from tensor products of index 1 to i \n",
    "        Hij_spectrum_1i = np.tile(eigenvalues2, 2**(i-1))\n",
    "\n",
    "        # compute spectrum of tensor products of inex 1 to N, i.e., the full spectrum\n",
    "        Hij_spectrum_1N = np.repeat(Hij_spectrum_1i, np.ceil(2**(N - i - 1)))\n",
    "\n",
    "        # append to Hij_spectrum_list\n",
    "        H_local_spectrum_list.append(Hij_spectrum_1N)\n",
    "\n",
    "    # extra spectra for blue and red bonds according to previous ordering of eigenkets\n",
    "    blue_spectraN = H_local_spectrum_list\n",
    "    red_spectraN = H_local_spectrum_list[::-1]\n",
    "\n",
    "    return blue_spectraN, blue_mpsN, red_spectraN, red_mpsN"
   ]
  },
  {
   "cell_type": "code",
   "execution_count": 54,
   "id": "185dc36f",
   "metadata": {
    "code_folding": [
     0
    ]
   },
   "outputs": [],
   "source": [
    "def reconstruct_HN_list(HN_list, blue_spectraN, blue_mpsN, red_spectraN, red_mpsN):\n",
    "\n",
    "    '''\n",
    "    reconstruct list of local Hamiltonians from parameters yielded by the eigendecomposition \n",
    "    of all red and blue bonds\n",
    "    '''\n",
    "\n",
    "    # calculate the number of sites in spin chain\n",
    "    N = 2*len(blue_spectraN)\n",
    "\n",
    "    # reconstruct lists of Hamiltonians corresponding to blue and red bonds\n",
    "    HN_blue_list_reconstructed = [sum([λ*vec*vec.dag() for λ, vec in \\\n",
    "                                  zip(blue_spectraN[i], blue_mpsN)]) for i in range(int(N/2))]\n",
    "    HN_red_list_reconstructed = [sum([λ*vec*vec.dag() for λ, vec in \\\n",
    "                                 zip(red_spectraN[i], red_mpsN)]) for i in range(int(N/2))]\n",
    "\n",
    "    # interleave HN_blue_list and HN_red_list to create an ordered list of local Hamiltonians \n",
    "    HN_list_reconstructed = np.concatenate((HN_blue_list_reconstructed, HN_red_list_reconstructed))\n",
    "    HN_list_reconstructed[::2] = HN_blue_list_reconstructed\n",
    "    HN_list_reconstructed[1::2] = HN_red_list_reconstructed \n",
    "\n",
    "    # extract lists of blue and red Hamiltonians from HN_list\n",
    "    HN_blue_list = HN_list[::2]\n",
    "    HN_red_list = HN_list[1::2]\n",
    "\n",
    "    # verify that HN_list == HN_list_reconstructed using two methods\n",
    "    verification1 = np.allclose(HN_list, HN_list_reconstructed, atol = 1e-12)\n",
    "\n",
    "    # use for loop to check whether HN_list[i] == HN_list_reconstructed[i]\n",
    "    H_tot_boolN = []\n",
    "    for Hb1, Hb2, Hr1, Hr2 in zip(HN_blue_list_reconstructed, HN_blue_list, \\\n",
    "                                  HN_red_list_reconstructed, HN_red_list):\n",
    "\n",
    "        H_tot_boolN.append(np.allclose(Hb1, Hb2, atol = 1e-12))\n",
    "        H_tot_boolN.append(np.allclose(Hr1, Hr2, atol = 1e-12))\n",
    "\n",
    "    verification2 = all(H_tot_boolN)\n",
    "\n",
    "    # print whether both methods of verifying equality between Hamiltonians \n",
    "    # yield True or False\n",
    "    if verification1 and verification2: \n",
    "        print('Hamiltonians are the same!')\n",
    "    else: \n",
    "        print('Hamiltonians are different')"
   ]
  },
  {
   "cell_type": "code",
   "execution_count": 55,
   "id": "b8c61aab",
   "metadata": {
    "code_folding": [
     0
    ]
   },
   "outputs": [],
   "source": [
    "def construct_eig_tuples(blue_spectraN, blue_mpsN, red_spectraN, red_mpsN):\n",
    "    \n",
    "    '''\n",
    "    construct list of tuples such that the ith entry is a tuple containing the list\n",
    "    of eigenvalues and eigenvectors for the ith spin operator\n",
    "    '''\n",
    "    \n",
    "    # combine lists of tuples into list so that the ith entry is a tuple containing the \n",
    "    # list of eigenvalues and eigenvectors for the ith local Hamiltonian\n",
    "    blue_eig_tuplesN = [tuple(zip(spectra, blue_mpsN)) for spectra in blue_spectraN]\n",
    "    red_eig_tuplesN = [tuple(zip(spectra, red_mpsN)) for spectra in red_spectraN]\n",
    "\n",
    "    # interleave list for blue and red lists of tuples to create one tuple \n",
    "    eig_tuplesN = blue_eig_tuplesN + red_eig_tuplesN\n",
    "    eig_tuplesN[::2] = blue_eig_tuplesN\n",
    "    eig_tuplesN[1::2] = red_eig_tuplesN\n",
    "    \n",
    "    return eig_tuplesN"
   ]
  },
  {
   "cell_type": "code",
   "execution_count": 56,
   "id": "b0d20fe9",
   "metadata": {},
   "outputs": [
    {
     "name": "stdout",
     "output_type": "stream",
     "text": [
      "Hamiltonians are the same!\n"
     ]
    }
   ],
   "source": [
    "# verify eigendecomposition can reconstruct list of local Hamiltonians for N = 4\n",
    "N = 4\n",
    "blue_spectra4, blue_mps4, red_spectra4, red_mps4 = eigendecomp_spin_operators(N, ST_basis)\n",
    "reconstruct_HN_list(H4_list, blue_spectra4, blue_mps4, red_spectra4, red_mps4)"
   ]
  },
  {
   "cell_type": "code",
   "execution_count": 57,
   "id": "fb3c10df",
   "metadata": {},
   "outputs": [
    {
     "name": "stdout",
     "output_type": "stream",
     "text": [
      "Hamiltonians are the same!\n"
     ]
    }
   ],
   "source": [
    "# verify eigendecomposition can reconstruct list of local Hamiltonians for N = 6\n",
    "N = 6\n",
    "blue_spectra6, blue_mps6, red_spectra6, red_mps6 = eigendecomp_spin_operators(N, ST_basis)\n",
    "reconstruct_HN_list(H6_list, blue_spectra6, blue_mps6, red_spectra6, red_mps6)"
   ]
  },
  {
   "cell_type": "code",
   "execution_count": 58,
   "id": "e16c7e1c",
   "metadata": {},
   "outputs": [
    {
     "name": "stdout",
     "output_type": "stream",
     "text": [
      "Hamiltonians are the same!\n"
     ]
    }
   ],
   "source": [
    "# verify eigendecomposition can reconstruct list of local Hamiltonians for N = 8\n",
    "N = 8\n",
    "blue_spectra8, blue_mps8, red_spectra8, red_mps8 = eigendecomp_spin_operators(N, ST_basis)\n",
    "reconstruct_HN_list(H8_list, blue_spectra8, blue_mps8, red_spectra8, red_mps8)"
   ]
  },
  {
   "cell_type": "code",
   "execution_count": 60,
   "id": "80d59476",
   "metadata": {},
   "outputs": [],
   "source": [
    "# # verify eigendecomposition can reconstruct list of local Hamiltonians for N = 10\n",
    "N = 10\n",
    "blue_spectra10, blue_mps10, red_spectra10, red_mps10 = eigendecomp_spin_operators(N, ST_basis)\n",
    "reconstruct_HN_list(H10_list, blue_spectra10, blue_mps10, red_spectra10, red_mps10)"
   ]
  },
  {
   "cell_type": "code",
   "execution_count": 93,
   "id": "95376580",
   "metadata": {},
   "outputs": [
    {
     "name": "stdout",
     "output_type": "stream",
     "text": [
      "Hamiltonians are the same!\n"
     ]
    }
   ],
   "source": [
    "# verify eigendecomposition can reconstruct list of local Hamiltonians for N = 12\n",
    "N = 12\n",
    "blue_spectra12, blue_mps12, red_spectra12, red_mps12 = eigendecomp_spin_operators(N, ST_basis)\n",
    "reconstruct_HN_list(H12_list, blue_spectra12, blue_mps12, red_spectra12, red_mps12)"
   ]
  },
  {
   "cell_type": "code",
   "execution_count": null,
   "id": "9a16b956",
   "metadata": {},
   "outputs": [],
   "source": []
  },
  {
   "cell_type": "code",
   "execution_count": null,
   "id": "8abb4a30",
   "metadata": {},
   "outputs": [],
   "source": []
  },
  {
   "cell_type": "markdown",
   "id": "c2cf72d4",
   "metadata": {},
   "source": [
    "# $\\text{Simulations for } N = 4$ "
   ]
  },
  {
   "cell_type": "code",
   "execution_count": 592,
   "id": "98cfef04",
   "metadata": {},
   "outputs": [],
   "source": [
    "# define local Hamiltonians \n",
    "A = H4_list[0]\n",
    "B = H4_list[1]\n",
    "C = H4_list[2]\n",
    "D = H4_list[3]"
   ]
  },
  {
   "cell_type": "code",
   "execution_count": 593,
   "id": "fcac3aee",
   "metadata": {},
   "outputs": [],
   "source": [
    "# define displacement parameter\n",
    "α = 1\n",
    "\n",
    "# collect an ordered list of all the spectra of the local Hamiltonians\n",
    "spectra4 = blue_spectra4 + red_spectra4\n",
    "spectra4[::2] = blue_spectra4\n",
    "spectra4[1::2] = red_spectra4\n",
    "\n",
    "# define lists of eigenvalues for spin operators A, B, C and D\n",
    "a = spectra4[0]\n",
    "b = spectra4[1]\n",
    "c = spectra4[2]\n",
    "d = spectra4[3]\n",
    "\n",
    "# define a Gaussian weight tensor\n",
    "W4 = lambda α, i, j, k, l: np.exp(-((α**2)/2)*((a[i] + b[j] + c[k] + d[l])**2))\n",
    "\n",
    "# precompute Gaussian weight tensor\n",
    "W4_tensor = np.empty((len(a), len(b), len(c), len(d)))\n",
    "for k3 in range(len(a)):\n",
    "    for k2 in range(len(b)):\n",
    "        for k1 in range(len(c)):\n",
    "            for k0 in range(len(d)):\n",
    "                W4_tensor[k0, k1, k2, k3] = W4(α, k0, k1, k2, k3)\n",
    "\n",
    "# define all the bras and kets of the blue and red global eigenstates\n",
    "μ4_kets = blue_mps4\n",
    "μ4_bras = [eigvec.dag() for eigvec in μ4_kets]\n",
    "ν4_kets = red_mps4\n",
    "ν4_bras = [eigvec.dag() for eigvec in ν4_kets]"
   ]
  },
  {
   "cell_type": "code",
   "execution_count": 594,
   "id": "d2c14f8a",
   "metadata": {},
   "outputs": [
    {
     "name": "stdout",
     "output_type": "stream",
     "text": [
      "14.74341607093811 seconds\n"
     ]
    }
   ],
   "source": [
    "VTA4_1 = Qobj(np.zeros((16, 16)))\n",
    "start_time = time.time()\n",
    "for k3 in range(len(d)):\n",
    "    for k2 in range(len(c)):\n",
    "        for k1 in range(len(b)):\n",
    "            for k0 in range(len(a)):\n",
    "                VTA4_1 += W4(α, k0, k3, k2, k1)*W4(α, k0, k1, k2, k3) * \\\n",
    "                         W4(α, k2, k1, k0, k3)*W4(α, k2, k3, k0, k1) * \\\n",
    "                         (ν4_bras[k3]*μ4_kets[k2])*(μ4_bras[k2]*ν4_kets[k1])*(ν4_bras[k1]*μ4_kets[k0]) * \\\n",
    "                         ν4_kets[k3]*μ4_bras[k0]      \n",
    "print(\"%s seconds\" % (time.time() - start_time))                "
   ]
  },
  {
   "cell_type": "code",
   "execution_count": 595,
   "id": "788ae589",
   "metadata": {},
   "outputs": [
    {
     "name": "stdout",
     "output_type": "stream",
     "text": [
      "14.304529905319214 seconds\n"
     ]
    }
   ],
   "source": [
    "VTA4_2 = Qobj(np.zeros((16, 16)))\n",
    "start_time = time.time()\n",
    "for k3 in range(len(d)):\n",
    "    for k2 in range(len(c)):\n",
    "        for k1 in range(len(b)):\n",
    "            for k0 in range(len(a)):\n",
    "                VTA4_2 += W4_tensor[k0, k3, k2, k1]*W4_tensor[k0, k1, k2, k3] * \\\n",
    "                         W4_tensor[k2, k1, k0, k3]*W4_tensor[k2, k3, k0, k1] * \\\n",
    "                         (ν4_bras[k3]*μ4_kets[k2])*(μ4_bras[k2]*ν4_kets[k1])*(ν4_bras[k1]*μ4_kets[k0]) * \\\n",
    "                         ν4_kets[k3]*μ4_bras[k0]      \n",
    "print(\"%s seconds\" % (time.time() - start_time))"
   ]
  },
  {
   "cell_type": "code",
   "execution_count": 596,
   "id": "8bb005fd",
   "metadata": {},
   "outputs": [
    {
     "name": "stdout",
     "output_type": "stream",
     "text": [
      "13.722368001937866 seconds\n"
     ]
    }
   ],
   "source": [
    "start_time = time.time()\n",
    "VTA4_3 = Qobj(np.zeros((16, 16)))\n",
    "VTA4_3 = sum(\n",
    "            W4_tensor[k0, k3, k2, k1]*W4_tensor[k0, k1, k2, k3] * \\\n",
    "            W4_tensor[k2, k1, k0, k3]*W4_tensor[k2, k3, k0, k1] * \\\n",
    "            (ν4_bras[k3]*μ4_kets[k2])*(μ4_bras[k2]*ν4_kets[k1]) * \\\n",
    "            (ν4_bras[k1]*μ4_kets[k0])*(ν4_kets[k3]*μ4_bras[k0])  \n",
    "            for k3 in range(len(d)) \\\n",
    "            for k2 in range(len(c)) \\\n",
    "            for k1 in range(len(b)) \\\n",
    "            for k0 in range(len(a)) \\\n",
    "            )\n",
    "print(\"%s seconds\" % (time.time() - start_time))"
   ]
  },
  {
   "cell_type": "code",
   "execution_count": 650,
   "id": "65c9852b",
   "metadata": {},
   "outputs": [
    {
     "data": {
      "text/plain": [
       "True"
      ]
     },
     "execution_count": 650,
     "metadata": {},
     "output_type": "execute_result"
    }
   ],
   "source": [
    "VTA4 = Qobj(VTA4_3, dims = [[2]*4, [2]*4])\n",
    "VTA4_1 == VTA4_2 == VTA4_3"
   ]
  },
  {
   "cell_type": "code",
   "execution_count": null,
   "id": "9c5b093d",
   "metadata": {},
   "outputs": [],
   "source": []
  },
  {
   "cell_type": "code",
   "execution_count": null,
   "id": "f8236315",
   "metadata": {},
   "outputs": [],
   "source": [
    "# define operators for bosonic modes \n",
    "a = destroy(cutoff)\n",
    "Ib = identity(cutoff)\n",
    "\n",
    "# define vacuum state for a cavity, and spin up and spin down states for qubits\n",
    "vacuum = basis(cutoff, 0)\n",
    "up = basis(2,0)\n",
    "down = basis(2,1)\n",
    "\n",
    "# define projection operators that project onto vacuum either cavity 1 \n",
    "# or cavities 1 and 2 \n",
    "vacuum_projector = vacuum*vacuum.dag()\n",
    "P_vac1 = tensor(vacuum_projector, Ib, I2, I2, I2)\n",
    "P_vac12 = tensor(vacuum_projector, vacuum_projector, I2, I2, I2) \n",
    "\n",
    "# create array over which to sweep α\n",
    "α_array = np.linspace(α_start, α_end, α_steps)"
   ]
  },
  {
   "cell_type": "code",
   "execution_count": null,
   "id": "6319901a",
   "metadata": {},
   "outputs": [],
   "source": [
    "[expect(ρ_ground_state3, ((P_vac12*GSP(α)*initial_state).unit()).ptrace([2,3,4])) for α in α_array]"
   ]
  },
  {
   "cell_type": "code",
   "execution_count": 599,
   "id": "8ee7ef41",
   "metadata": {},
   "outputs": [
    {
     "data": {
      "text/latex": [
       "Quantum object: dims = [[2, 2, 2, 2], [2, 2, 2, 2]], shape = (16, 16), type = oper, isherm = True $ \\\\ \\left(\\begin{matrix}0.0 & 0.0 & 0.0 & 0.0 & 0.0 & \\cdots & 0.0 & 0.0 & 0.0 & 0.0 & 0.0\\\\0.0 & 0.0 & 0.0 & 0.0 & 0.0 & \\cdots & 0.0 & 0.0 & 0.0 & 0.0 & 0.0\\\\0.0 & 0.0 & 0.0 & 0.0 & 0.0 & \\cdots & 0.0 & 0.0 & 0.0 & 0.0 & 0.0\\\\0.0 & 0.0 & 0.0 & 0.083 & 0.0 & \\cdots & 0.0 & 0.083 & 0.0 & 0.0 & 0.0\\\\0.0 & 0.0 & 0.0 & 0.0 & 0.0 & \\cdots & 0.0 & 0.0 & 0.0 & 0.0 & 0.0\\\\\\vdots & \\vdots & \\vdots & \\vdots & \\vdots & \\ddots & \\vdots & \\vdots & \\vdots & \\vdots & \\vdots\\\\0.0 & 0.0 & 0.0 & 0.0 & 0.0 & \\cdots & 0.0 & 0.0 & 0.0 & 0.0 & 0.0\\\\0.0 & 0.0 & 0.0 & 0.083 & 0.0 & \\cdots & 0.0 & 0.083 & 0.0 & 0.0 & 0.0\\\\0.0 & 0.0 & 0.0 & 0.0 & 0.0 & \\cdots & 0.0 & 0.0 & 0.0 & 0.0 & 0.0\\\\0.0 & 0.0 & 0.0 & 0.0 & 0.0 & \\cdots & 0.0 & 0.0 & 0.0 & 0.0 & 0.0\\\\0.0 & 0.0 & 0.0 & 0.0 & 0.0 & \\cdots & 0.0 & 0.0 & 0.0 & 0.0 & 0.0\\\\\\end{matrix}\\right)$"
      ],
      "text/plain": [
       "Quantum object: dims = [[2, 2, 2, 2], [2, 2, 2, 2]], shape = (16, 16), type = oper, isherm = True\n",
       "Qobj data =\n",
       "[[ 0.          0.          0.          0.          0.          0.\n",
       "   0.          0.          0.          0.          0.          0.\n",
       "   0.          0.          0.          0.        ]\n",
       " [ 0.          0.          0.          0.          0.          0.\n",
       "   0.          0.          0.          0.          0.          0.\n",
       "   0.          0.          0.          0.        ]\n",
       " [ 0.          0.          0.          0.          0.          0.\n",
       "   0.          0.          0.          0.          0.          0.\n",
       "   0.          0.          0.          0.        ]\n",
       " [ 0.          0.          0.          0.08333333  0.         -0.16666667\n",
       "   0.08333333  0.          0.          0.08333333 -0.16666667  0.\n",
       "   0.08333333  0.          0.          0.        ]\n",
       " [ 0.          0.          0.          0.          0.          0.\n",
       "   0.          0.          0.          0.          0.          0.\n",
       "   0.          0.          0.          0.        ]\n",
       " [ 0.          0.          0.         -0.16666667  0.          0.33333333\n",
       "  -0.16666667  0.          0.         -0.16666667  0.33333333  0.\n",
       "  -0.16666667  0.          0.          0.        ]\n",
       " [ 0.          0.          0.          0.08333333  0.         -0.16666667\n",
       "   0.08333333  0.          0.          0.08333333 -0.16666667  0.\n",
       "   0.08333333  0.          0.          0.        ]\n",
       " [ 0.          0.          0.          0.          0.          0.\n",
       "   0.          0.          0.          0.          0.          0.\n",
       "   0.          0.          0.          0.        ]\n",
       " [ 0.          0.          0.          0.          0.          0.\n",
       "   0.          0.          0.          0.          0.          0.\n",
       "   0.          0.          0.          0.        ]\n",
       " [ 0.          0.          0.          0.08333333  0.         -0.16666667\n",
       "   0.08333333  0.          0.          0.08333333 -0.16666667  0.\n",
       "   0.08333333  0.          0.          0.        ]\n",
       " [ 0.          0.          0.         -0.16666667  0.          0.33333333\n",
       "  -0.16666667  0.          0.         -0.16666667  0.33333333  0.\n",
       "  -0.16666667  0.          0.          0.        ]\n",
       " [ 0.          0.          0.          0.          0.          0.\n",
       "   0.          0.          0.          0.          0.          0.\n",
       "   0.          0.          0.          0.        ]\n",
       " [ 0.          0.          0.          0.08333333  0.         -0.16666667\n",
       "   0.08333333  0.          0.          0.08333333 -0.16666667  0.\n",
       "   0.08333333  0.          0.          0.        ]\n",
       " [ 0.          0.          0.          0.          0.          0.\n",
       "   0.          0.          0.          0.          0.          0.\n",
       "   0.          0.          0.          0.        ]\n",
       " [ 0.          0.          0.          0.          0.          0.\n",
       "   0.          0.          0.          0.          0.          0.\n",
       "   0.          0.          0.          0.        ]\n",
       " [ 0.          0.          0.          0.          0.          0.\n",
       "   0.          0.          0.          0.          0.          0.\n",
       "   0.          0.          0.          0.        ]]"
      ]
     },
     "execution_count": 599,
     "metadata": {},
     "output_type": "execute_result"
    }
   ],
   "source": [
    "ρ_ground_state4"
   ]
  },
  {
   "cell_type": "code",
   "execution_count": null,
   "id": "6e785165",
   "metadata": {},
   "outputs": [],
   "source": []
  },
  {
   "cell_type": "code",
   "execution_count": null,
   "id": "35bdba31",
   "metadata": {},
   "outputs": [],
   "source": []
  },
  {
   "cell_type": "code",
   "execution_count": null,
   "id": "16a1bfe8",
   "metadata": {},
   "outputs": [],
   "source": []
  },
  {
   "cell_type": "code",
   "execution_count": 635,
   "id": "9ba98c46",
   "metadata": {},
   "outputs": [],
   "source": [
    "def generate_initial_states(N_cavities, N_qubits, num_states, cutoff):\n",
    "    \n",
    "    '''\n",
    "    generate list of initial states which is a product of state of \n",
    "    the number of cavities and qubits specified by the arguments\n",
    "    '''\n",
    "    \n",
    "    if N_cavities == 0 and cutoff == 0: \n",
    "        return [tensor([rand_ket(2) for i in range(N_qubits)]) \\\n",
    "                for initial_state in range(num_states)]\n",
    "    else:\n",
    "\n",
    "        # returns a product state of (N_cavities) cavities and (N_qubits) \n",
    "        # random qubits for specified number of initial states\n",
    "        return [tensor([basis(cutoff, 0)]*N_cavities + [rand_ket(2) \\\n",
    "                for i in range(N_qubits)]) \\\n",
    "                for initial_state in range(num_states)]"
   ]
  },
  {
   "cell_type": "code",
   "execution_count": 639,
   "id": "b709573f",
   "metadata": {},
   "outputs": [],
   "source": [
    "N_cavities = 0 \n",
    "N_qubits = 4\n",
    "num_states = 1\n",
    "cutoff = 0\n",
    "\n",
    "Ψ0_list = generate_initial_states(N_cavities, N_qubits, num_states, cutoff)"
   ]
  },
  {
   "cell_type": "code",
   "execution_count": 663,
   "id": "fb6cd9a8",
   "metadata": {},
   "outputs": [
    {
     "data": {
      "text/latex": [
       "Quantum object: dims = [[2, 2, 2, 2], [1, 1, 1, 1]], shape = (16, 1), type = ket $ \\\\ \\left(\\begin{matrix}0.0\\\\(-0.134-0.194j)\\\\(-0.068-0.098j)\\\\(0.106+0.257j)\\\\(0.134+0.194j)\\\\\\vdots\\\\(-0.264-0.329j)\\\\(-0.294-0.315j)\\\\(-0.077-0.002j)\\\\(0.264+0.329j)\\\\0.0\\\\\\end{matrix}\\right)$"
      ],
      "text/plain": [
       "Quantum object: dims = [[2, 2, 2, 2], [1, 1, 1, 1]], shape = (16, 1), type = ket\n",
       "Qobj data =\n",
       "[[ 0.        +0.j        ]\n",
       " [-0.13433085-0.19447174j]\n",
       " [-0.06778627-0.098341j  ]\n",
       " [ 0.10597027+0.25650272j]\n",
       " [ 0.13433082+0.19447166j]\n",
       " [-0.0398828 -0.02387889j]\n",
       " [-0.07007484-0.17143329j]\n",
       " [ 0.07718492+0.00221921j]\n",
       " [ 0.0677863 +0.09834108j]\n",
       " [ 0.33776413+0.27783849j]\n",
       " [-0.03988287-0.02387903j]\n",
       " [-0.26388735-0.32857664j]\n",
       " [-0.29389389-0.31515j   ]\n",
       " [-0.07718497-0.00221926j]\n",
       " [ 0.26388739+0.32857669j]\n",
       " [ 0.        +0.j        ]]"
      ]
     },
     "execution_count": 663,
     "metadata": {},
     "output_type": "execute_result"
    }
   ],
   "source": [
    "(VTA4*Ψ0_list[0]).unit()"
   ]
  },
  {
   "cell_type": "code",
   "execution_count": null,
   "id": "9ce807ab",
   "metadata": {},
   "outputs": [],
   "source": []
  },
  {
   "cell_type": "code",
   "execution_count": null,
   "id": "ce69a422",
   "metadata": {},
   "outputs": [],
   "source": []
  },
  {
   "cell_type": "code",
   "execution_count": null,
   "id": "2d2c868b",
   "metadata": {},
   "outputs": [],
   "source": []
  },
  {
   "cell_type": "markdown",
   "id": "f376aba8",
   "metadata": {},
   "source": [
    "# $\\text{Conversion to Julia code }$"
   ]
  },
  {
   "cell_type": "code",
   "execution_count": 567,
   "id": "aced4561",
   "metadata": {},
   "outputs": [],
   "source": [
    "# Convert the NumPy array of arrays to a list of lists\n",
    "μ4_kets_complex_list = [eigvec.full().tolist() for eigvec in μ4_kets]\n",
    "μ4_bras_complex_list = [eigvec.full().tolist() for eigvec in μ4_bras]\n",
    "ν4_kets_complex_list = [eigvec.full().tolist() for eigvec in ν4_kets]\n",
    "ν4_bras_complex_list = [eigvec.full().tolist() for eigvec in ν4_bras]"
   ]
  },
  {
   "cell_type": "code",
   "execution_count": 568,
   "id": "cf8c4af7",
   "metadata": {},
   "outputs": [],
   "source": [
    "# collect only the real part of each entry if imaginary part is 0\n",
    "μ4_kets_list = [[x[0].real if x[0].imag == 0 else x[0] for x in vec] \\\n",
    "                    for vec in μ4_kets_complex_list]\n",
    "μ4_bras_list = [[x[0].real if x[0].imag == 0 else x[0] for x in vec] \\\n",
    "                    for vec in μ4_bras_complex_list]\n",
    "ν4_kets_list = [[x[0].real if x[0].imag == 0 else x[0] for x in vec] \\\n",
    "                    for vec in ν4_kets_complex_list]\n",
    "ν4_bras_list = [[x[0].real if x[0].imag == 0 else x[0] for x in vec] \\\n",
    "                    for vec in ν4_bras_complex_list]"
   ]
  },
  {
   "cell_type": "code",
   "execution_count": 591,
   "id": "12e7582a",
   "metadata": {},
   "outputs": [],
   "source": [
    "# specificy directory into which we will store data\n",
    "path = os.getcwd() + '/four_site_data/'\n",
    "\n",
    "# save list of eigenvalues \n",
    "spectra4_list = [x.tolist() for x in spectra4]\n",
    "with open(path+\"spectra4.json\", \"w\") as json_file:\n",
    "    json.dump(spectra4_list, json_file)\n",
    "\n",
    "# Save each list to a JSON file\n",
    "with open(path+\"μ4_kets.json\", \"w\") as json_file:\n",
    "    json.dump(μ4_kets_list, json_file)\n",
    "    \n",
    "with open(path+\"μ4_bras.json\", \"w\") as json_file:\n",
    "    json.dump(μ4_kets_list, json_file)\n",
    "    \n",
    "with open(path+\"ν4_kets.json\", \"w\") as json_file:\n",
    "    json.dump(μ4_kets_list, json_file)\n",
    "    \n",
    "with open(path+\"ν4_bras.json\", \"w\") as json_file:\n",
    "    json.dump(μ4_kets_list, json_file)"
   ]
  },
  {
   "cell_type": "code",
   "execution_count": null,
   "id": "72edf621",
   "metadata": {},
   "outputs": [],
   "source": []
  },
  {
   "cell_type": "code",
   "execution_count": null,
   "id": "fbbc0099",
   "metadata": {},
   "outputs": [],
   "source": []
  },
  {
   "cell_type": "code",
   "execution_count": null,
   "id": "08d0c4a7",
   "metadata": {},
   "outputs": [],
   "source": []
  },
  {
   "cell_type": "code",
   "execution_count": null,
   "id": "cf30ba0c",
   "metadata": {},
   "outputs": [],
   "source": []
  },
  {
   "cell_type": "code",
   "execution_count": null,
   "id": "0e0b383b",
   "metadata": {},
   "outputs": [],
   "source": []
  },
  {
   "cell_type": "code",
   "execution_count": null,
   "id": "23de29d5",
   "metadata": {},
   "outputs": [],
   "source": []
  },
  {
   "cell_type": "code",
   "execution_count": null,
   "id": "68d6b884",
   "metadata": {},
   "outputs": [],
   "source": []
  },
  {
   "cell_type": "code",
   "execution_count": null,
   "id": "f1d6ce2e",
   "metadata": {},
   "outputs": [],
   "source": []
  },
  {
   "cell_type": "markdown",
   "id": "d93ff348",
   "metadata": {},
   "source": [
    "# Additional Code"
   ]
  },
  {
   "cell_type": "code",
   "execution_count": null,
   "id": "421aa6d0",
   "metadata": {
    "code_folding": []
   },
   "outputs": [],
   "source": [
    "def weight_tensor(α, N, eigvals_array, indices):\n",
    "    \n",
    "    # convert list of indices into an array\n",
    "    # and calculate length of each eigenvalues array\n",
    "    index_array = np.array(indices)\n",
    "    d = 2**N - 1\n",
    "    \n",
    "    # check whether all indices are >= 0 and <= d\n",
    "    all(np.logical_and(index_array >= 0, index_array <= d))\n",
    "    \n",
    "    # collect the sum of the eigenvalues specified by indices\n",
    "    eigval_sum = 0 \n",
    "    for eigval_list, index in zip(eigvals_array, index_array): \n",
    "        eigval_sum += eigval_list[index]\n",
    "        \n",
    "    return np.exp(-((α**2)/2)*(eigval_sum**2))    "
   ]
  },
  {
   "cell_type": "code",
   "execution_count": null,
   "id": "99f0ff18",
   "metadata": {},
   "outputs": [],
   "source": [
    "# find eigenergies and eigenstates of local Hamiltonians\n",
    "H12_eigenvalues, H12_eigenstates = H4_list[0].eigenstates()\n",
    "H23_eigenvalues, H23_eigenstates = H4_list[1].eigenstates()\n",
    "H34_eigenvalues, H34_eigenstates = H4_list[2].eigenstates()\n",
    "H41_eigenvalues, H41_eigenstates = H4_list[3].eigenstates()\n",
    "\n",
    "# construct local Hamiltonians through spectral decomposition\n",
    "H12 = sum([λ*vec*vec.dag() for λ, vec in zip(H12_eigenvalues, H12_eigenstates)])\n",
    "H23 = sum([λ*vec*vec.dag() for λ, vec in zip(H23_eigenvalues, H23_eigenstates)])\n",
    "H34 = sum([λ*vec*vec.dag() for λ, vec in zip(H34_eigenvalues, H34_eigenstates)])\n",
    "H41 = sum([λ*vec*vec.dag() for λ, vec in zip(H41_eigenvalues, H41_eigenstates)])\n",
    "\n",
    "# display equalities\n",
    "display(H12 == H4_list[0])\n",
    "display(H23 == H4_list[1])\n",
    "display(H34 == H4_list[2])\n",
    "display(H41 == H4_list[3])"
   ]
  },
  {
   "cell_type": "code",
   "execution_count": null,
   "id": "29ed0fdc",
   "metadata": {},
   "outputs": [],
   "source": [
    "# convert lists of eigenvectors into arrays \n",
    "H12_eigenstates_array = [np.array(eigenstate) for eigenstate in H12_eigenstates]\n",
    "blue_eigvecs_array = [np.array(eigenstate) for eigenstate in blue_eigvecs_list]"
   ]
  },
  {
   "cell_type": "code",
   "execution_count": null,
   "id": "7130334c",
   "metadata": {},
   "outputs": [],
   "source": []
  },
  {
   "cell_type": "code",
   "execution_count": null,
   "id": "fbe71816",
   "metadata": {},
   "outputs": [],
   "source": []
  },
  {
   "cell_type": "code",
   "execution_count": null,
   "id": "785493c2",
   "metadata": {},
   "outputs": [],
   "source": []
  },
  {
   "cell_type": "code",
   "execution_count": null,
   "id": "56fe2b77",
   "metadata": {},
   "outputs": [],
   "source": []
  },
  {
   "cell_type": "code",
   "execution_count": null,
   "id": "7729619a",
   "metadata": {},
   "outputs": [],
   "source": []
  },
  {
   "cell_type": "code",
   "execution_count": null,
   "id": "0eea5444",
   "metadata": {},
   "outputs": [],
   "source": []
  },
  {
   "cell_type": "code",
   "execution_count": null,
   "id": "cfc3df54",
   "metadata": {},
   "outputs": [],
   "source": []
  },
  {
   "cell_type": "code",
   "execution_count": null,
   "id": "65965b08",
   "metadata": {},
   "outputs": [],
   "source": []
  },
  {
   "cell_type": "code",
   "execution_count": null,
   "id": "0da999b7",
   "metadata": {},
   "outputs": [],
   "source": []
  }
 ],
 "metadata": {
  "kernelspec": {
   "display_name": "Python 3 (ipykernel)",
   "language": "python",
   "name": "python3"
  },
  "language_info": {
   "codemirror_mode": {
    "name": "ipython",
    "version": 3
   },
   "file_extension": ".py",
   "mimetype": "text/x-python",
   "name": "python",
   "nbconvert_exporter": "python",
   "pygments_lexer": "ipython3",
   "version": "3.11.7"
  }
 },
 "nbformat": 4,
 "nbformat_minor": 5
}
