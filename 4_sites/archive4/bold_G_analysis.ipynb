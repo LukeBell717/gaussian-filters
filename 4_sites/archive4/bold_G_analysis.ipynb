{
 "cells": [
  {
   "cell_type": "code",
   "execution_count": 21,
   "id": "520278c5",
   "metadata": {},
   "outputs": [],
   "source": [
    "from sympy import symbols, Eq, solve, exp, sqrt"
   ]
  },
  {
   "cell_type": "code",
   "execution_count": 22,
   "id": "be849422",
   "metadata": {},
   "outputs": [],
   "source": [
    "# define α and Es\n",
    "α, Es = symbols('α, E_s')\n",
    "\n",
    "# define symbolic functions\n",
    "e0_s, e1_s, e2_s, e3_s, e4_s, e5_s, e6_s, e7_s, e8_s, e9_s, e10_s, e11_s = \\\n",
    "symbols('e0, e1, e2, e3, e4, e5, e6, e7, e8, e9, e10, e11')"
   ]
  },
  {
   "cell_type": "code",
   "execution_count": 29,
   "id": "3bbdb06e",
   "metadata": {},
   "outputs": [],
   "source": [
    "# G basis functions\n",
    "e0 = exp(-2*(α**2)*((Es + 12)**2)) \n",
    "e1 = exp(-2*(α**2)*((Es + 8)**2)) \n",
    "e2 = exp(-2*(α**2)*((Es + 4)**2)) \n",
    "e3 = exp(-2*(α**2)*(Es**2)) \n",
    "e4 = exp(-2*(α**2)*((Es - 4)**2))\n",
    "e5 = exp(-2*(α**2)*((Es + 2)**2 + 4))\n",
    "e6 = exp(-2*(α**2)*((Es + 2)**2 + 20))\n",
    "e7 = exp(-2*(α**2)*(Es**2 + 8))\n",
    "e8 = exp(-2*(α**2)*((Es + 4)**2 + 16))\n",
    "e9 = exp(-2*(α**2)*(Es**2 + 16))\n",
    "e10= exp(-2*(α**2)*((Es + 4)**2 + 32))\n",
    "\n",
    "# G coefficients\n",
    "g00 = (3*e0 + 24*e1 \\\n",
    "                     + 6*e2 - e4)/32\n",
    "g44 = -(e0 - 6*e2 \\\n",
    "                      - 24*e3 - 3*e4)/32\n",
    "g04 = (sqrt(3)*(e0 + 4*e1 - \\\n",
    "                     10*e2 + 4*e3 + e4))/32\n",
    "g40 = - g04"
   ]
  },
  {
   "cell_type": "code",
   "execution_count": 34,
   "id": "f3dc183b",
   "metadata": {},
   "outputs": [
    {
     "data": {
      "text/latex": [
       "$\\displaystyle \\frac{\\sqrt{3} \\left(e^{- 2 α^{2} \\left(E_{s} + 12\\right)^{2}} + 4 e^{- 2 α^{2} \\left(E_{s} + 8\\right)^{2}} - 10 e^{- 2 α^{2} \\left(E_{s} + 4\\right)^{2}} + e^{- 2 α^{2} \\left(E_{s} - 4\\right)^{2}} + 4 e^{- 2 E_{s}^{2} α^{2}}\\right)}{32}$"
      ],
      "text/plain": [
       "sqrt(3)*(exp(-2*α**2*(E_s + 12)**2) + 4*exp(-2*α**2*(E_s + 8)**2) - 10*exp(-2*α**2*(E_s + 4)**2) + exp(-2*α**2*(E_s - 4)**2) + 4*exp(-2*E_s**2*α**2))/32"
      ]
     },
     "execution_count": 34,
     "metadata": {},
     "output_type": "execute_result"
    }
   ],
   "source": [
    "g04"
   ]
  },
  {
   "cell_type": "code",
   "execution_count": 31,
   "id": "0d5cc8c0",
   "metadata": {},
   "outputs": [
    {
     "data": {
      "text/latex": [
       "$\\displaystyle \\frac{\\sqrt{3} \\left(e^{- 2 α^{2} \\left(E_{s} + 12\\right)^{2}} + 4 e^{- 2 α^{2} \\left(E_{s} + 8\\right)^{2}} - 10 e^{- 2 α^{2} \\left(E_{s} + 4\\right)^{2}} + e^{- 2 α^{2} \\left(E_{s} - 4\\right)^{2}} + 4 e^{- 2 E_{s}^{2} α^{2}}\\right)}{32}$"
      ],
      "text/plain": [
       "sqrt(3)*(exp(-2*α**2*(E_s + 12)**2) + 4*exp(-2*α**2*(E_s + 8)**2) - 10*exp(-2*α**2*(E_s + 4)**2) + exp(-2*α**2*(E_s - 4)**2) + 4*exp(-2*E_s**2*α**2))/32"
      ]
     },
     "execution_count": 31,
     "metadata": {},
     "output_type": "execute_result"
    }
   ],
   "source": [
    "g04_subs"
   ]
  },
  {
   "cell_type": "code",
   "execution_count": 38,
   "id": "c52acbe3",
   "metadata": {},
   "outputs": [],
   "source": [
    "g04_subs = g04.subs([(Es, -8)])"
   ]
  },
  {
   "cell_type": "code",
   "execution_count": 41,
   "id": "e96ba6ed",
   "metadata": {},
   "outputs": [
    {
     "ename": "KeyboardInterrupt",
     "evalue": "",
     "output_type": "error",
     "traceback": [
      "\u001b[0;31m---------------------------------------------------------------------------\u001b[0m",
      "\u001b[0;31mKeyError\u001b[0m                                  Traceback (most recent call last)",
      "File \u001b[0;32m~/anaconda3/lib/python3.11/site-packages/sympy/polys/rootoftools.py:470\u001b[0m, in \u001b[0;36mComplexRootOf._get_complexes\u001b[0;34m(cls, factors, use_cache)\u001b[0m\n\u001b[1;32m    469\u001b[0m     \u001b[38;5;28;01mraise\u001b[39;00m \u001b[38;5;167;01mKeyError\u001b[39;00m\n\u001b[0;32m--> 470\u001b[0m c \u001b[38;5;241m=\u001b[39m _complexes_cache[currentfactor]\n\u001b[1;32m    471\u001b[0m complexes\u001b[38;5;241m.\u001b[39mextend([(i, currentfactor, k) \u001b[38;5;28;01mfor\u001b[39;00m i \u001b[38;5;129;01min\u001b[39;00m c])\n",
      "File \u001b[0;32m~/anaconda3/lib/python3.11/site-packages/sympy/polys/rootoftools.py:90\u001b[0m, in \u001b[0;36m_pure_key_dict.__getitem__\u001b[0;34m(self, k)\u001b[0m\n\u001b[1;32m     89\u001b[0m     k \u001b[38;5;241m=\u001b[39m PurePoly(k, expand\u001b[38;5;241m=\u001b[39m\u001b[38;5;28;01mFalse\u001b[39;00m)\n\u001b[0;32m---> 90\u001b[0m \u001b[38;5;28;01mreturn\u001b[39;00m \u001b[38;5;28mself\u001b[39m\u001b[38;5;241m.\u001b[39m_dict[k]\n",
      "\u001b[0;31mKeyError\u001b[0m: PurePoly(4*x**256 - 5*x**224 - 5*x**192 - 5*x**160 - x**128 - x**96 - x**64 - x**32 - 1, x, domain='ZZ')",
      "\nDuring handling of the above exception, another exception occurred:\n",
      "\u001b[0;31mKeyboardInterrupt\u001b[0m                         Traceback (most recent call last)",
      "Cell \u001b[0;32mIn[41], line 1\u001b[0m\n\u001b[0;32m----> 1\u001b[0m solve(g04_subs, α)\n",
      "File \u001b[0;32m~/anaconda3/lib/python3.11/site-packages/sympy/solvers/solvers.py:1112\u001b[0m, in \u001b[0;36msolve\u001b[0;34m(f, *symbols, **flags)\u001b[0m\n\u001b[1;32m   1108\u001b[0m \u001b[38;5;66;03m#\u001b[39;00m\n\u001b[1;32m   1109\u001b[0m \u001b[38;5;66;03m# try to get a solution\u001b[39;00m\n\u001b[1;32m   1110\u001b[0m \u001b[38;5;66;03m###########################################################################\u001b[39;00m\n\u001b[1;32m   1111\u001b[0m \u001b[38;5;28;01mif\u001b[39;00m bare_f:\n\u001b[0;32m-> 1112\u001b[0m     solution \u001b[38;5;241m=\u001b[39m _solve(f[\u001b[38;5;241m0\u001b[39m], \u001b[38;5;241m*\u001b[39msymbols, \u001b[38;5;241m*\u001b[39m\u001b[38;5;241m*\u001b[39mflags)\n\u001b[1;32m   1113\u001b[0m \u001b[38;5;28;01melse\u001b[39;00m:\n\u001b[1;32m   1114\u001b[0m     solution \u001b[38;5;241m=\u001b[39m _solve_system(f, symbols, \u001b[38;5;241m*\u001b[39m\u001b[38;5;241m*\u001b[39mflags)\n",
      "File \u001b[0;32m~/anaconda3/lib/python3.11/site-packages/sympy/solvers/solvers.py:1418\u001b[0m, in \u001b[0;36m_solve\u001b[0;34m(f, *symbols, **flags)\u001b[0m\n\u001b[1;32m   1416\u001b[0m         result \u001b[38;5;241m=\u001b[39m \u001b[38;5;28mset\u001b[39m()\n\u001b[1;32m   1417\u001b[0m         \u001b[38;5;28;01mbreak\u001b[39;00m\n\u001b[0;32m-> 1418\u001b[0m     soln \u001b[38;5;241m=\u001b[39m _solve(m, symbol, \u001b[38;5;241m*\u001b[39m\u001b[38;5;241m*\u001b[39mflags)\n\u001b[1;32m   1419\u001b[0m     result\u001b[38;5;241m.\u001b[39mupdate(\u001b[38;5;28mset\u001b[39m(soln))\n\u001b[1;32m   1420\u001b[0m result \u001b[38;5;241m=\u001b[39m \u001b[38;5;28mlist\u001b[39m(result)\n",
      "File \u001b[0;32m~/anaconda3/lib/python3.11/site-packages/sympy/solvers/solvers.py:1664\u001b[0m, in \u001b[0;36m_solve\u001b[0;34m(f, *symbols, **flags)\u001b[0m\n\u001b[1;32m   1657\u001b[0m \u001b[38;5;28;01mif\u001b[39;00m \u001b[38;5;28msum\u001b[39m(soln\u001b[38;5;241m.\u001b[39mvalues()) \u001b[38;5;241m<\u001b[39m deg:\n\u001b[1;32m   1658\u001b[0m     \u001b[38;5;66;03m# e.g. roots(32*x**5 + 400*x**4 + 2032*x**3 +\u001b[39;00m\n\u001b[1;32m   1659\u001b[0m     \u001b[38;5;66;03m#            5000*x**2 + 6250*x + 3189) -> {}\u001b[39;00m\n\u001b[1;32m   1660\u001b[0m     \u001b[38;5;66;03m# so all_roots is used and RootOf instances are\u001b[39;00m\n\u001b[1;32m   1661\u001b[0m     \u001b[38;5;66;03m# returned *unless* the system is multivariate\u001b[39;00m\n\u001b[1;32m   1662\u001b[0m     \u001b[38;5;66;03m# or high-order EX domain.\u001b[39;00m\n\u001b[1;32m   1663\u001b[0m     \u001b[38;5;28;01mtry\u001b[39;00m:\n\u001b[0;32m-> 1664\u001b[0m         soln \u001b[38;5;241m=\u001b[39m poly\u001b[38;5;241m.\u001b[39mall_roots()\n\u001b[1;32m   1665\u001b[0m     \u001b[38;5;28;01mexcept\u001b[39;00m \u001b[38;5;167;01mNotImplementedError\u001b[39;00m:\n\u001b[1;32m   1666\u001b[0m         \u001b[38;5;28;01mif\u001b[39;00m \u001b[38;5;129;01mnot\u001b[39;00m flags\u001b[38;5;241m.\u001b[39mget(\u001b[38;5;124m'\u001b[39m\u001b[38;5;124mincomplete\u001b[39m\u001b[38;5;124m'\u001b[39m, \u001b[38;5;28;01mTrue\u001b[39;00m):\n",
      "File \u001b[0;32m~/anaconda3/lib/python3.11/site-packages/sympy/polys/polytools.py:3631\u001b[0m, in \u001b[0;36mPoly.all_roots\u001b[0;34m(f, multiple, radicals)\u001b[0m\n\u001b[1;32m   3613\u001b[0m \u001b[38;5;28;01mdef\u001b[39;00m \u001b[38;5;21mall_roots\u001b[39m(f, multiple\u001b[38;5;241m=\u001b[39m\u001b[38;5;28;01mTrue\u001b[39;00m, radicals\u001b[38;5;241m=\u001b[39m\u001b[38;5;28;01mTrue\u001b[39;00m):\n\u001b[1;32m   3614\u001b[0m \u001b[38;5;250m    \u001b[39m\u001b[38;5;124;03m\"\"\"\u001b[39;00m\n\u001b[1;32m   3615\u001b[0m \u001b[38;5;124;03m    Return a list of real and complex roots with multiplicities.\u001b[39;00m\n\u001b[1;32m   3616\u001b[0m \n\u001b[0;32m   (...)\u001b[0m\n\u001b[1;32m   3629\u001b[0m \n\u001b[1;32m   3630\u001b[0m \u001b[38;5;124;03m    \"\"\"\u001b[39;00m\n\u001b[0;32m-> 3631\u001b[0m     roots \u001b[38;5;241m=\u001b[39m sympy\u001b[38;5;241m.\u001b[39mpolys\u001b[38;5;241m.\u001b[39mrootoftools\u001b[38;5;241m.\u001b[39mCRootOf\u001b[38;5;241m.\u001b[39mall_roots(f, radicals\u001b[38;5;241m=\u001b[39mradicals)\n\u001b[1;32m   3633\u001b[0m     \u001b[38;5;28;01mif\u001b[39;00m multiple:\n\u001b[1;32m   3634\u001b[0m         \u001b[38;5;28;01mreturn\u001b[39;00m roots\n",
      "File \u001b[0;32m~/anaconda3/lib/python3.11/site-packages/sympy/polys/rootoftools.py:417\u001b[0m, in \u001b[0;36mComplexRootOf.all_roots\u001b[0;34m(cls, poly, radicals)\u001b[0m\n\u001b[1;32m    414\u001b[0m \u001b[38;5;129m@classmethod\u001b[39m\n\u001b[1;32m    415\u001b[0m \u001b[38;5;28;01mdef\u001b[39;00m \u001b[38;5;21mall_roots\u001b[39m(\u001b[38;5;28mcls\u001b[39m, poly, radicals\u001b[38;5;241m=\u001b[39m\u001b[38;5;28;01mTrue\u001b[39;00m):\n\u001b[1;32m    416\u001b[0m \u001b[38;5;250m    \u001b[39m\u001b[38;5;124;03m\"\"\"Get real and complex roots of a polynomial. \"\"\"\u001b[39;00m\n\u001b[0;32m--> 417\u001b[0m     \u001b[38;5;28;01mreturn\u001b[39;00m \u001b[38;5;28mcls\u001b[39m\u001b[38;5;241m.\u001b[39m_get_roots(\u001b[38;5;124m\"\u001b[39m\u001b[38;5;124m_all_roots\u001b[39m\u001b[38;5;124m\"\u001b[39m, poly, radicals)\n",
      "File \u001b[0;32m~/anaconda3/lib/python3.11/site-packages/sympy/polys/rootoftools.py:776\u001b[0m, in \u001b[0;36mComplexRootOf._get_roots\u001b[0;34m(cls, method, poly, radicals)\u001b[0m\n\u001b[1;32m    773\u001b[0m coeff, poly \u001b[38;5;241m=\u001b[39m \u001b[38;5;28mcls\u001b[39m\u001b[38;5;241m.\u001b[39m_preprocess_roots(poly)\n\u001b[1;32m    774\u001b[0m roots \u001b[38;5;241m=\u001b[39m []\n\u001b[0;32m--> 776\u001b[0m \u001b[38;5;28;01mfor\u001b[39;00m root \u001b[38;5;129;01min\u001b[39;00m \u001b[38;5;28mgetattr\u001b[39m(\u001b[38;5;28mcls\u001b[39m, method)(poly):\n\u001b[1;32m    777\u001b[0m     roots\u001b[38;5;241m.\u001b[39mappend(coeff\u001b[38;5;241m*\u001b[39m\u001b[38;5;28mcls\u001b[39m\u001b[38;5;241m.\u001b[39m_postprocess_root(root, radicals))\n\u001b[1;32m    778\u001b[0m \u001b[38;5;28;01mreturn\u001b[39;00m roots\n",
      "File \u001b[0;32m~/anaconda3/lib/python3.11/site-packages/sympy/polys/rootoftools.py:704\u001b[0m, in \u001b[0;36mComplexRootOf._all_roots\u001b[0;34m(cls, poly, use_cache)\u001b[0m\n\u001b[1;32m    701\u001b[0m \u001b[38;5;28;01mfor\u001b[39;00m index \u001b[38;5;129;01min\u001b[39;00m \u001b[38;5;28mrange\u001b[39m(\u001b[38;5;241m0\u001b[39m, reals_count):\n\u001b[1;32m    702\u001b[0m     roots\u001b[38;5;241m.\u001b[39mappend(\u001b[38;5;28mcls\u001b[39m\u001b[38;5;241m.\u001b[39m_reals_index(reals, index))\n\u001b[0;32m--> 704\u001b[0m complexes \u001b[38;5;241m=\u001b[39m \u001b[38;5;28mcls\u001b[39m\u001b[38;5;241m.\u001b[39m_get_complexes(factors, use_cache\u001b[38;5;241m=\u001b[39muse_cache)\n\u001b[1;32m    705\u001b[0m complexes_count \u001b[38;5;241m=\u001b[39m \u001b[38;5;28mcls\u001b[39m\u001b[38;5;241m.\u001b[39m_count_roots(complexes)\n\u001b[1;32m    707\u001b[0m \u001b[38;5;28;01mfor\u001b[39;00m index \u001b[38;5;129;01min\u001b[39;00m \u001b[38;5;28mrange\u001b[39m(\u001b[38;5;241m0\u001b[39m, complexes_count):\n",
      "File \u001b[0;32m~/anaconda3/lib/python3.11/site-packages/sympy/polys/rootoftools.py:473\u001b[0m, in \u001b[0;36mComplexRootOf._get_complexes\u001b[0;34m(cls, factors, use_cache)\u001b[0m\n\u001b[1;32m    471\u001b[0m     complexes\u001b[38;5;241m.\u001b[39mextend([(i, currentfactor, k) \u001b[38;5;28;01mfor\u001b[39;00m i \u001b[38;5;129;01min\u001b[39;00m c])\n\u001b[1;32m    472\u001b[0m \u001b[38;5;28;01mexcept\u001b[39;00m \u001b[38;5;167;01mKeyError\u001b[39;00m:\n\u001b[0;32m--> 473\u001b[0m     complex_part \u001b[38;5;241m=\u001b[39m \u001b[38;5;28mcls\u001b[39m\u001b[38;5;241m.\u001b[39m_get_complexes_sqf(currentfactor, use_cache)\n\u001b[1;32m    474\u001b[0m     new \u001b[38;5;241m=\u001b[39m [(root, currentfactor, k) \u001b[38;5;28;01mfor\u001b[39;00m root \u001b[38;5;129;01min\u001b[39;00m complex_part]\n\u001b[1;32m    475\u001b[0m     complexes\u001b[38;5;241m.\u001b[39mextend(new)\n",
      "File \u001b[0;32m~/anaconda3/lib/python3.11/site-packages/sympy/polys/rootoftools.py:438\u001b[0m, in \u001b[0;36mComplexRootOf._get_complexes_sqf\u001b[0;34m(cls, currentfactor, use_cache)\u001b[0m\n\u001b[1;32m    435\u001b[0m     complex_part \u001b[38;5;241m=\u001b[39m _complexes_cache[currentfactor]\n\u001b[1;32m    436\u001b[0m \u001b[38;5;28;01melse\u001b[39;00m:\n\u001b[1;32m    437\u001b[0m     _complexes_cache[currentfactor] \u001b[38;5;241m=\u001b[39m complex_part \u001b[38;5;241m=\u001b[39m \\\n\u001b[0;32m--> 438\u001b[0m         dup_isolate_complex_roots_sqf(\n\u001b[1;32m    439\u001b[0m         currentfactor\u001b[38;5;241m.\u001b[39mrep\u001b[38;5;241m.\u001b[39mrep, currentfactor\u001b[38;5;241m.\u001b[39mrep\u001b[38;5;241m.\u001b[39mdom, blackbox\u001b[38;5;241m=\u001b[39m\u001b[38;5;28;01mTrue\u001b[39;00m)\n\u001b[1;32m    440\u001b[0m \u001b[38;5;28;01mreturn\u001b[39;00m complex_part\n",
      "File \u001b[0;32m~/anaconda3/lib/python3.11/site-packages/sympy/polys/rootisolation.py:1633\u001b[0m, in \u001b[0;36mdup_isolate_complex_roots_sqf\u001b[0;34m(f, K, eps, inf, sup, blackbox)\u001b[0m\n\u001b[1;32m   1630\u001b[0m S_L4 \u001b[38;5;241m=\u001b[39m [f1L4, f2L4]\n\u001b[1;32m   1632\u001b[0m I_L1 \u001b[38;5;241m=\u001b[39m dup_isolate_real_roots_list(S_L1, F, inf\u001b[38;5;241m=\u001b[39mu, sup\u001b[38;5;241m=\u001b[39ms, fast\u001b[38;5;241m=\u001b[39m\u001b[38;5;28;01mTrue\u001b[39;00m, strict\u001b[38;5;241m=\u001b[39m\u001b[38;5;28;01mTrue\u001b[39;00m, basis\u001b[38;5;241m=\u001b[39m\u001b[38;5;28;01mTrue\u001b[39;00m)\n\u001b[0;32m-> 1633\u001b[0m I_L2 \u001b[38;5;241m=\u001b[39m dup_isolate_real_roots_list(S_L2, F, inf\u001b[38;5;241m=\u001b[39mv, sup\u001b[38;5;241m=\u001b[39mt, fast\u001b[38;5;241m=\u001b[39m\u001b[38;5;28;01mTrue\u001b[39;00m, strict\u001b[38;5;241m=\u001b[39m\u001b[38;5;28;01mTrue\u001b[39;00m, basis\u001b[38;5;241m=\u001b[39m\u001b[38;5;28;01mTrue\u001b[39;00m)\n\u001b[1;32m   1634\u001b[0m I_L3 \u001b[38;5;241m=\u001b[39m dup_isolate_real_roots_list(S_L3, F, inf\u001b[38;5;241m=\u001b[39mu, sup\u001b[38;5;241m=\u001b[39ms, fast\u001b[38;5;241m=\u001b[39m\u001b[38;5;28;01mTrue\u001b[39;00m, strict\u001b[38;5;241m=\u001b[39m\u001b[38;5;28;01mTrue\u001b[39;00m, basis\u001b[38;5;241m=\u001b[39m\u001b[38;5;28;01mTrue\u001b[39;00m)\n\u001b[1;32m   1635\u001b[0m I_L4 \u001b[38;5;241m=\u001b[39m dup_isolate_real_roots_list(S_L4, F, inf\u001b[38;5;241m=\u001b[39mv, sup\u001b[38;5;241m=\u001b[39mt, fast\u001b[38;5;241m=\u001b[39m\u001b[38;5;28;01mTrue\u001b[39;00m, strict\u001b[38;5;241m=\u001b[39m\u001b[38;5;28;01mTrue\u001b[39;00m, basis\u001b[38;5;241m=\u001b[39m\u001b[38;5;28;01mTrue\u001b[39;00m)\n",
      "File \u001b[0;32m~/anaconda3/lib/python3.11/site-packages/sympy/polys/rootisolation.py:680\u001b[0m, in \u001b[0;36mdup_isolate_real_roots_list\u001b[0;34m(polys, K, eps, inf, sup, strict, basis, fast)\u001b[0m\n\u001b[1;32m    677\u001b[0m \u001b[38;5;28;01mfor\u001b[39;00m f, indices \u001b[38;5;129;01min\u001b[39;00m factors_dict\u001b[38;5;241m.\u001b[39mitems():\n\u001b[1;32m    678\u001b[0m     factors_list\u001b[38;5;241m.\u001b[39mappend((\u001b[38;5;28mlist\u001b[39m(f), indices))\n\u001b[0;32m--> 680\u001b[0m I_neg, I_pos \u001b[38;5;241m=\u001b[39m _real_isolate_and_disjoin(factors_list, K, eps\u001b[38;5;241m=\u001b[39meps,\n\u001b[1;32m    681\u001b[0m     inf\u001b[38;5;241m=\u001b[39minf, sup\u001b[38;5;241m=\u001b[39msup, strict\u001b[38;5;241m=\u001b[39mstrict, basis\u001b[38;5;241m=\u001b[39mbasis, fast\u001b[38;5;241m=\u001b[39mfast)\n\u001b[1;32m    683\u001b[0m F \u001b[38;5;241m=\u001b[39m K\u001b[38;5;241m.\u001b[39mget_field()\n\u001b[1;32m    685\u001b[0m \u001b[38;5;28;01mif\u001b[39;00m \u001b[38;5;129;01mnot\u001b[39;00m zeros \u001b[38;5;129;01mor\u001b[39;00m \u001b[38;5;129;01mnot\u001b[39;00m zero_indices:\n",
      "File \u001b[0;32m~/anaconda3/lib/python3.11/site-packages/sympy/polys/rootisolation.py:722\u001b[0m, in \u001b[0;36m_real_isolate_and_disjoin\u001b[0;34m(factors, K, eps, inf, sup, strict, basis, fast)\u001b[0m\n\u001b[1;32m    719\u001b[0m I_pos, I_neg \u001b[38;5;241m=\u001b[39m [], []\n\u001b[1;32m    721\u001b[0m \u001b[38;5;28;01mfor\u001b[39;00m i, (f, k) \u001b[38;5;129;01min\u001b[39;00m \u001b[38;5;28menumerate\u001b[39m(factors):\n\u001b[0;32m--> 722\u001b[0m     \u001b[38;5;28;01mfor\u001b[39;00m F, M \u001b[38;5;129;01min\u001b[39;00m dup_inner_isolate_positive_roots(f, K, eps\u001b[38;5;241m=\u001b[39meps, inf\u001b[38;5;241m=\u001b[39minf, sup\u001b[38;5;241m=\u001b[39msup, fast\u001b[38;5;241m=\u001b[39mfast, mobius\u001b[38;5;241m=\u001b[39m\u001b[38;5;28;01mTrue\u001b[39;00m):\n\u001b[1;32m    723\u001b[0m         I_pos\u001b[38;5;241m.\u001b[39mappend((F, M, k, f))\n\u001b[1;32m    725\u001b[0m     \u001b[38;5;28;01mfor\u001b[39;00m G, N \u001b[38;5;129;01min\u001b[39;00m dup_inner_isolate_negative_roots(f, K, eps\u001b[38;5;241m=\u001b[39meps, inf\u001b[38;5;241m=\u001b[39minf, sup\u001b[38;5;241m=\u001b[39msup, fast\u001b[38;5;241m=\u001b[39mfast, mobius\u001b[38;5;241m=\u001b[39m\u001b[38;5;28;01mTrue\u001b[39;00m):\n",
      "File \u001b[0;32m~/anaconda3/lib/python3.11/site-packages/sympy/polys/rootisolation.py:497\u001b[0m, in \u001b[0;36mdup_inner_isolate_positive_roots\u001b[0;34m(f, K, eps, inf, sup, fast, mobius)\u001b[0m\n\u001b[1;32m    494\u001b[0m \u001b[38;5;28;01mif\u001b[39;00m sup \u001b[38;5;129;01mis\u001b[39;00m \u001b[38;5;129;01mnot\u001b[39;00m \u001b[38;5;28;01mNone\u001b[39;00m \u001b[38;5;129;01mand\u001b[39;00m sup \u001b[38;5;241m<\u001b[39m \u001b[38;5;241m0\u001b[39m:\n\u001b[1;32m    495\u001b[0m     \u001b[38;5;28;01mreturn\u001b[39;00m []\n\u001b[0;32m--> 497\u001b[0m roots \u001b[38;5;241m=\u001b[39m dup_inner_isolate_real_roots(f, K, eps\u001b[38;5;241m=\u001b[39meps, fast\u001b[38;5;241m=\u001b[39mfast)\n\u001b[1;32m    499\u001b[0m F, results \u001b[38;5;241m=\u001b[39m K\u001b[38;5;241m.\u001b[39mget_field(), []\n\u001b[1;32m    501\u001b[0m \u001b[38;5;28;01mif\u001b[39;00m inf \u001b[38;5;129;01mis\u001b[39;00m \u001b[38;5;129;01mnot\u001b[39;00m \u001b[38;5;28;01mNone\u001b[39;00m \u001b[38;5;129;01mor\u001b[39;00m sup \u001b[38;5;129;01mis\u001b[39;00m \u001b[38;5;129;01mnot\u001b[39;00m \u001b[38;5;28;01mNone\u001b[39;00m:\n",
      "File \u001b[0;32m~/anaconda3/lib/python3.11/site-packages/sympy/polys/rootisolation.py:384\u001b[0m, in \u001b[0;36mdup_inner_isolate_real_roots\u001b[0;34m(f, K, eps, fast)\u001b[0m\n\u001b[1;32m    381\u001b[0m \u001b[38;5;28;01mwhile\u001b[39;00m stack:\n\u001b[1;32m    382\u001b[0m     a, b, c, d, f, k \u001b[38;5;241m=\u001b[39m stack\u001b[38;5;241m.\u001b[39mpop()\n\u001b[0;32m--> 384\u001b[0m     A \u001b[38;5;241m=\u001b[39m dup_root_lower_bound(f, K)\n\u001b[1;32m    386\u001b[0m     \u001b[38;5;28;01mif\u001b[39;00m A \u001b[38;5;129;01mis\u001b[39;00m \u001b[38;5;129;01mnot\u001b[39;00m \u001b[38;5;28;01mNone\u001b[39;00m:\n\u001b[1;32m    387\u001b[0m         A \u001b[38;5;241m=\u001b[39m K(\u001b[38;5;28mint\u001b[39m(A))\n",
      "File \u001b[0;32m~/anaconda3/lib/python3.11/site-packages/sympy/polys/rootisolation.py:124\u001b[0m, in \u001b[0;36mdup_root_lower_bound\u001b[0;34m(f, K)\u001b[0m\n\u001b[1;32m    114\u001b[0m \u001b[38;5;28;01mdef\u001b[39;00m \u001b[38;5;21mdup_root_lower_bound\u001b[39m(f, K):\n\u001b[1;32m    115\u001b[0m \u001b[38;5;250m    \u001b[39m\u001b[38;5;124;03m\"\"\"Compute the LMQ lower bound for the positive roots of `f`;\u001b[39;00m\n\u001b[1;32m    116\u001b[0m \u001b[38;5;124;03m       LMQ (Local Max Quadratic) was developed by Akritas-Strzebonski-Vigklas.\u001b[39;00m\n\u001b[1;32m    117\u001b[0m \n\u001b[0;32m   (...)\u001b[0m\n\u001b[1;32m    122\u001b[0m \u001b[38;5;124;03m              Journal of Universal Computer Science, Vol. 15, No. 3, 523-537, 2009.\u001b[39;00m\n\u001b[1;32m    123\u001b[0m \u001b[38;5;124;03m    \"\"\"\u001b[39;00m\n\u001b[0;32m--> 124\u001b[0m     bound \u001b[38;5;241m=\u001b[39m dup_root_upper_bound(dup_reverse(f), K)\n\u001b[1;32m    126\u001b[0m     \u001b[38;5;28;01mif\u001b[39;00m bound \u001b[38;5;129;01mis\u001b[39;00m \u001b[38;5;129;01mnot\u001b[39;00m \u001b[38;5;28;01mNone\u001b[39;00m:\n\u001b[1;32m    127\u001b[0m         \u001b[38;5;28;01mreturn\u001b[39;00m \u001b[38;5;241m1\u001b[39m\u001b[38;5;241m/\u001b[39mbound\n",
      "File \u001b[0;32m~/anaconda3/lib/python3.11/site-packages/sympy/polys/rootisolation.py:97\u001b[0m, in \u001b[0;36mdup_root_upper_bound\u001b[0;34m(f, K)\u001b[0m\n\u001b[1;32m     94\u001b[0m     \u001b[38;5;28;01mif\u001b[39;00m f[j] \u001b[38;5;241m<\u001b[39m\u001b[38;5;241m=\u001b[39m \u001b[38;5;241m0\u001b[39m:\n\u001b[1;32m     95\u001b[0m         \u001b[38;5;28;01mcontinue\u001b[39;00m\n\u001b[0;32m---> 97\u001b[0m     q \u001b[38;5;241m=\u001b[39m t[j] \u001b[38;5;241m+\u001b[39m a \u001b[38;5;241m-\u001b[39m K\u001b[38;5;241m.\u001b[39mlog(f[j], \u001b[38;5;241m2\u001b[39m)\n\u001b[1;32m     98\u001b[0m     QL\u001b[38;5;241m.\u001b[39mappend([q \u001b[38;5;241m/\u001b[39m\u001b[38;5;241m/\u001b[39m (j \u001b[38;5;241m-\u001b[39m i), j])\n\u001b[1;32m    100\u001b[0m \u001b[38;5;28;01mif\u001b[39;00m \u001b[38;5;129;01mnot\u001b[39;00m QL:\n",
      "File \u001b[0;32m~/anaconda3/lib/python3.11/site-packages/sympy/polys/domains/integerring.py:154\u001b[0m, in \u001b[0;36mIntegerRing.log\u001b[0;34m(self, a, b)\u001b[0m\n\u001b[1;32m    124\u001b[0m \u001b[38;5;28;01mdef\u001b[39;00m \u001b[38;5;21mlog\u001b[39m(\u001b[38;5;28mself\u001b[39m, a, b):\n\u001b[1;32m    125\u001b[0m \u001b[38;5;250m    \u001b[39m\u001b[38;5;124mr\u001b[39m\u001b[38;5;124;03m\"\"\"logarithm of *a* to the base *b*\u001b[39;00m\n\u001b[1;32m    126\u001b[0m \n\u001b[1;32m    127\u001b[0m \u001b[38;5;124;03m    Parameters\u001b[39;00m\n\u001b[0;32m   (...)\u001b[0m\n\u001b[1;32m    152\u001b[0m \u001b[38;5;124;03m    fail for large integer arguments.\u001b[39;00m\n\u001b[1;32m    153\u001b[0m \u001b[38;5;124;03m    \"\"\"\u001b[39;00m\n\u001b[0;32m--> 154\u001b[0m     \u001b[38;5;28;01mreturn\u001b[39;00m \u001b[38;5;28mself\u001b[39m\u001b[38;5;241m.\u001b[39mdtype(math\u001b[38;5;241m.\u001b[39mlog(\u001b[38;5;28mint\u001b[39m(a), b))\n",
      "\u001b[0;31mKeyboardInterrupt\u001b[0m: "
     ]
    }
   ],
   "source": [
    "solve(g04_subs, α)"
   ]
  },
  {
   "cell_type": "code",
   "execution_count": 42,
   "id": "c47c4dc5",
   "metadata": {},
   "outputs": [
    {
     "data": {
      "text/latex": [
       "$\\displaystyle \\frac{\\sqrt{3} \\cdot \\left(4 - 9 e^{- 32 α^{2}} + 4 e^{- 128 α^{2}} + e^{- 288 α^{2}}\\right)}{32}$"
      ],
      "text/plain": [
       "sqrt(3)*(4 - 9*exp(-32*α**2) + 4*exp(-128*α**2) + exp(-288*α**2))/32"
      ]
     },
     "execution_count": 42,
     "metadata": {},
     "output_type": "execute_result"
    }
   ],
   "source": [
    "g04_subs"
   ]
  },
  {
   "cell_type": "code",
   "execution_count": 44,
   "id": "fa19d2f6",
   "metadata": {},
   "outputs": [],
   "source": [
    "β = symbols('β')"
   ]
  },
  {
   "cell_type": "code",
   "execution_count": 51,
   "id": "568b807f",
   "metadata": {},
   "outputs": [],
   "source": [
    "equation = 9*exp(-β) - exp(-9*β) - 4*exp(-4*β) - 4"
   ]
  },
  {
   "cell_type": "code",
   "execution_count": 52,
   "id": "66a7e3f0",
   "metadata": {},
   "outputs": [
    {
     "data": {
      "text/plain": [
       "[0,\n",
       " log(-CRootOf(4*x**8 - 5*x**7 - 5*x**6 - 5*x**5 - x**4 - x**3 - x**2 - x - 1, 0)) + I*pi,\n",
       " log(CRootOf(4*x**8 - 5*x**7 - 5*x**6 - 5*x**5 - x**4 - x**3 - x**2 - x - 1, 1)),\n",
       " log(CRootOf(4*x**8 - 5*x**7 - 5*x**6 - 5*x**5 - x**4 - x**3 - x**2 - x - 1, 2)),\n",
       " log(CRootOf(4*x**8 - 5*x**7 - 5*x**6 - 5*x**5 - x**4 - x**3 - x**2 - x - 1, 3)),\n",
       " log(CRootOf(4*x**8 - 5*x**7 - 5*x**6 - 5*x**5 - x**4 - x**3 - x**2 - x - 1, 4)),\n",
       " log(CRootOf(4*x**8 - 5*x**7 - 5*x**6 - 5*x**5 - x**4 - x**3 - x**2 - x - 1, 5)),\n",
       " log(CRootOf(4*x**8 - 5*x**7 - 5*x**6 - 5*x**5 - x**4 - x**3 - x**2 - x - 1, 6)),\n",
       " log(CRootOf(4*x**8 - 5*x**7 - 5*x**6 - 5*x**5 - x**4 - x**3 - x**2 - x - 1, 7))]"
      ]
     },
     "execution_count": 52,
     "metadata": {},
     "output_type": "execute_result"
    }
   ],
   "source": [
    "solve(equation, β)"
   ]
  },
  {
   "cell_type": "code",
   "execution_count": 55,
   "id": "9f1620d9",
   "metadata": {},
   "outputs": [
    {
     "data": {
      "text/latex": [
       "$\\displaystyle -2 + 9 e^{- β} - e^{- 9 β}$"
      ],
      "text/plain": [
       "-2 + 9*exp(-β) - exp(-9*β)"
      ]
     },
     "execution_count": 55,
     "metadata": {},
     "output_type": "execute_result"
    }
   ],
   "source": [
    "f1 = 9*exp(-β) - exp(-9*β) -2\n",
    "f1"
   ]
  },
  {
   "cell_type": "code",
   "execution_count": 56,
   "id": "25121827",
   "metadata": {},
   "outputs": [
    {
     "data": {
      "text/plain": [
       "[log(-CRootOf(2*x**9 - 9*x**8 + 1, 0)) + I*pi,\n",
       " log(CRootOf(2*x**9 - 9*x**8 + 1, 1)),\n",
       " log(CRootOf(2*x**9 - 9*x**8 + 1, 2)),\n",
       " log(CRootOf(2*x**9 - 9*x**8 + 1, 3)),\n",
       " log(CRootOf(2*x**9 - 9*x**8 + 1, 4)),\n",
       " log(CRootOf(2*x**9 - 9*x**8 + 1, 5)),\n",
       " log(CRootOf(2*x**9 - 9*x**8 + 1, 6)),\n",
       " log(CRootOf(2*x**9 - 9*x**8 + 1, 7)),\n",
       " log(CRootOf(2*x**9 - 9*x**8 + 1, 8))]"
      ]
     },
     "execution_count": 56,
     "metadata": {},
     "output_type": "execute_result"
    }
   ],
   "source": [
    "solve(f1, β)"
   ]
  },
  {
   "cell_type": "code",
   "execution_count": null,
   "id": "b89a5f92",
   "metadata": {},
   "outputs": [],
   "source": []
  },
  {
   "cell_type": "code",
   "execution_count": null,
   "id": "735e3366",
   "metadata": {},
   "outputs": [],
   "source": []
  },
  {
   "cell_type": "code",
   "execution_count": null,
   "id": "82891ac8",
   "metadata": {},
   "outputs": [],
   "source": []
  }
 ],
 "metadata": {
  "kernelspec": {
   "display_name": "Python 3 (ipykernel)",
   "language": "python",
   "name": "python3"
  },
  "language_info": {
   "codemirror_mode": {
    "name": "ipython",
    "version": 3
   },
   "file_extension": ".py",
   "mimetype": "text/x-python",
   "name": "python",
   "nbconvert_exporter": "python",
   "pygments_lexer": "ipython3",
   "version": "3.11.7"
  }
 },
 "nbformat": 4,
 "nbformat_minor": 5
}
