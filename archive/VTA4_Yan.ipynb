{
 "cells": [
  {
   "cell_type": "code",
   "execution_count": 1,
   "id": "b02f1595",
   "metadata": {},
   "outputs": [],
   "source": [
    "# import modules\n",
    "from qutip import *\n",
    "import numpy as np\n",
    "from scipy.linalg import logm, expm, inv\n",
    "import matplotlib as mpl\n",
    "import matplotlib.pyplot as plt\n",
    "from functools import reduce\n",
    "from itertools import product\n",
    "from IPython.display import display, Latex\n",
    "import importlib\n",
    "import pickle\n",
    "import time\n",
    "import random\n",
    "import os\n",
    "\n",
    "# define identity for qubits \n",
    "I2 = qeye(2)\n",
    "\n",
    "# define Pauli matrices and constants\n",
    "σ_x = sigmax()\n",
    "σ_y = sigmay()\n",
    "σ_z = sigmaz()\n",
    "π = np.pi\n",
    "\n",
    "# font specs for plots\n",
    "%matplotlib inline\n",
    "mpl.rcParams[\"font.family\"] = \"STIXGeneral\"\n",
    "mpl.rcParams[\"mathtext.fontset\"] = \"stix\"\n",
    "mpl.rcParams[\"font.size\"] = \"14\""
   ]
  },
  {
   "cell_type": "code",
   "execution_count": 2,
   "id": "bc50c45c",
   "metadata": {
    "code_folding": [
     0
    ]
   },
   "outputs": [],
   "source": [
    "def spin_chain_quantities(N, Jx, Jy, Jz, periodic_bc, tolerance):\n",
    "\n",
    "    \n",
    "    if N % 2 != 0: \n",
    "        raise ValueError(\"Please enter an even number of sites\")\n",
    "    \n",
    "    # define Pauli matrices and constants\n",
    "    σ_x = sigmax()\n",
    "    σ_y = sigmay()\n",
    "    σ_z = sigmaz()\n",
    "    π = np.pi\n",
    "\n",
    "    # Interaction coefficients, which we assume are uniform throughout the lattice\n",
    "    Jx_list = Jx*np.ones(N)\n",
    "    Jy_list = Jy*np.ones(N)\n",
    "    Jz_list = Jz*np.ones(N)\n",
    "\n",
    "    # Setup operators for individual qubits; \n",
    "    # here sx_list[j] = X_j, sy_list[j] = Y_j, and sz_list[j] = Z_j\n",
    "    # since the Pauli matrix occupies the jth location in the tensor product of N terms\n",
    "    # of which N-1 terms are the identity\n",
    "    sx_list, sy_list, sz_list = [], [], []\n",
    "\n",
    "    for i in range(N):\n",
    "        op_list = [qeye(2)]*N\n",
    "        op_list[i] = σ_x\n",
    "        sx_list.append(tensor(op_list))\n",
    "        op_list[i] = σ_y\n",
    "        sy_list.append(tensor(op_list))\n",
    "        op_list[i] = σ_z\n",
    "        sz_list.append(tensor(op_list))\n",
    "\n",
    "    # define variable for total Hamiltonian H_N and the list of all local \n",
    "    # Hamiltonians H_list\n",
    "    H_N = 0 \n",
    "    H_list = []\n",
    "    \n",
    "    # collect \n",
    "    for j in range(N - 1):\n",
    "\n",
    "        # find H_ij, the Hamiltonian between the ith and jth sites \n",
    "        H_ij = Jx_list[j] * sx_list[j] * sx_list[j + 1] + \\\n",
    "               Jy_list[j] * sy_list[j] * sy_list[j + 1] + \\\n",
    "               Jz_list[j] * sz_list[j] * sz_list[j + 1]\n",
    "        \n",
    "        # add H_ij to H_N and append H_ij to H_list\n",
    "        H_N += H_ij\n",
    "        H_list.append(H_ij)\n",
    "\n",
    "    # execute if periodic boundary conditions are specified\n",
    "    if periodic_bc: \n",
    "        \n",
    "        # find H_N1, the Hamiltonian between the Nth and first site\n",
    "        H_N1 = Jx_list[N-1] * sx_list[N - 1] * sx_list[0] + \\\n",
    "               Jy_list[N-1] * sy_list[N - 1] * sy_list[0] + \\\n",
    "               Jz_list[N-1] * sz_list[N - 1] * sz_list[0]\n",
    "\n",
    "        # add H_N1 to H_N and append H_N1 to H_list\n",
    "        H_N += H_N1\n",
    "        H_list.append(H_N1)\n",
    "\n",
    "    # find eigenavlues and eigenstates of Hamiltonian \n",
    "    eigenvalues, eigenstates = H_N.eigenstates()\n",
    "\n",
    "    # find indices of smallest eigenvalues, which correspond to the energy(ies) \n",
    "    # of the ground state (space in the case of degeneracy); \n",
    "    min_eigenvalue = min(eigenvalues)\n",
    "    indices = [index for index, value in enumerate(eigenvalues) if np.allclose(value, min_eigenvalue, tolerance)]\n",
    "\n",
    "    # find eigenstates corresponding to ground state\n",
    "    eigenstates_list = eigenstates[indices]\n",
    "\n",
    "    # create sum of density matrices of ground states in case ground state is degenerate\n",
    "    ρ_ground_state = 0 \n",
    "    for j in range(len(eigenstates_list)):\n",
    "        ρ_ground_state += (eigenstates_list[j])*(eigenstates_list[j]).dag()\n",
    "\n",
    "    # return normalized ground state\n",
    "    return H_N, H_list, eigenstates, eigenvalues, min_eigenvalue, ρ_ground_state"
   ]
  },
  {
   "cell_type": "code",
   "execution_count": 3,
   "id": "58429d23",
   "metadata": {
    "code_folding": [
     0
    ]
   },
   "outputs": [],
   "source": [
    "def generate_initial_states(N_cavities, N_qubits, num_states, cutoff):\n",
    "    \n",
    "    '''\n",
    "    generate list of initial states which is a product of state of \n",
    "    the number of cavities and qubits specified by the arguments\n",
    "    '''\n",
    "    \n",
    "    if N_cavities == 0 and cutoff == 0: \n",
    "        return [tensor([rand_ket(2) for i in range(N_qubits)]) \\\n",
    "                for initial_state in range(num_states)]\n",
    "    else:\n",
    "\n",
    "        # returns a product state of (N_cavities) cavities and (N_qubits) \n",
    "        # random qubits for specified number of initial states\n",
    "        return [tensor([basis(cutoff, 0)]*N_cavities + [rand_ket(2) \\\n",
    "                for i in range(N_qubits)]) \\\n",
    "                for initial_state in range(num_states)]"
   ]
  },
  {
   "cell_type": "code",
   "execution_count": 4,
   "id": "95f146bb",
   "metadata": {
    "code_folding": [
     0
    ]
   },
   "outputs": [],
   "source": [
    "def plot_fidelity(N_cavities, N_qubits, eigenvalues, eigenstates, m_start, m_stop, α_start, α_end, α_steps, \\\n",
    "                  initial_state_list, cutoff, save_file):\n",
    "\n",
    "    # define vacuum state for a cavity, and spin up and spin down states for qubits\n",
    "    vacuum = tensor([basis(cutoff, 0)]*(N_cavities))\n",
    "\n",
    "    # list of numbers of cavities we will project onto the ground state\n",
    "    if m_start >= 1 and m_stop <= N_qubits and m_stop <= N_cavities: \n",
    "        cavity_list = list(range(m_start, m_stop+1))\n",
    "    else: \n",
    "        print(\"Please enter valid list of the number of cavities to project onto vacuum.\")\n",
    "        return\n",
    "\n",
    "    # create array over which to sweep α\n",
    "    α_array = np.linspace(α_start, α_end, α_steps)\n",
    "\n",
    "    # calcuate the amount each state will be displaced \n",
    "    shifted_eigenvalues = eigenvalues - eigenvalues[0]\n",
    "    \n",
    "    # find the probability amplitudes for projecting onto each eigenstate in our eigenbasis for every initial state\n",
    "    prob_amps_list = [[fidelity(state, tensor(vacuum, eigenstate))**2 for eigenstate in eigenstates] \\\n",
    "                      for state in initial_state_list]\n",
    "    \n",
    "    # collect the probability amplitudes associated with projecting onto the eigenstates in the groundstate \n",
    "    # (or groundspace) for every initial state\n",
    "    gs_prob_amps_list = [[prob_amps for λ, prob_amps in zip(shifted_eigenvalues, prob_amps) if round(λ, 9) == 0] \\\n",
    "                         for prob_amps in prob_amps_list]\n",
    "\n",
    "    # calcuate the success probability of being in the ground state after projecting onto vacuum\n",
    "    fidelity_array_list = [[[sum(gs_prob_amps)/(sum([np.exp(-(m*(λ*α)**2))*prob_amp \\\n",
    "                               for λ, prob_amp in zip(shifted_eigenvalues, prob_amps)])) \\\n",
    "                               for α in α_array] \\\n",
    "                               for m in cavity_list]\n",
    "                               for gs_prob_amps, prob_amps in zip(gs_prob_amps_list, prob_amps_list)] \n",
    "\n",
    "    # Generate unique colors using the 'tab10' color map\n",
    "    colors = ['blue', 'orange', 'green','red', 'purple', 'black', 'pink', 'gray', 'cyan', 'magenta']\n",
    "        \n",
    "    # generate custom linestyles to use if we are projecting 4 or more cavities onto vacuum\n",
    "    dashed_list = [(None, None), (5, 2), (1, 2), (5, 2, 1, 2), (10, 5, 2, 5), \\\n",
    "                   (2, 2, 10, 2), (5, 2, 10, 2, 5, 2), (15, 5, 5, 5), (2, 5, 10, 5)]\n",
    "    \n",
    "    # create plot with axes\n",
    "    fig, ax = plt.subplots(figsize=(8, 6))\n",
    "\n",
    "    # graph the theoretical projection of all initial states onto the true ground state \n",
    "    for i in range(len(fidelity_array_list)):\n",
    "        for j, fidelity_array in enumerate(fidelity_array_list[i]):\n",
    "            ax.plot(α_array, fidelity_array, \\\n",
    "                    label=f'Cavities =  {cavity_list[j]}, $F_0$ = {fidelity_array[0] :.3f}', \\\n",
    "                    color=colors[i], linestyle='-', dashes = dashed_list[(len(cavity_list) - 1) - j])\n",
    "\n",
    "    ax.set_xlabel(r'$\\alpha$', fontsize=15)\n",
    "    ax.set_ylabel('Fidelity', fontsize=15)\n",
    "    ax.set_title(f'Theoretical GSP Fidelity for {N_qubits} Sites', fontsize=17.5) \n",
    "    ax.legend(fontsize = 12.5)\n",
    "    ax.grid(True)"
   ]
  },
  {
   "cell_type": "markdown",
   "id": "f33523bb",
   "metadata": {},
   "source": [
    "## $\\hat{H}_2 = X_1 X_2 + Y_1 Y_2 + \\lambda Z_1 Z_2 $"
   ]
  },
  {
   "cell_type": "code",
   "execution_count": 5,
   "id": "6edb3a5e",
   "metadata": {},
   "outputs": [],
   "source": [
    "# specify parameters of 2-site spin chain\n",
    "N = 2\n",
    "Jx = 1\n",
    "Jy = 1\n",
    "Jz = 1\n",
    "periodic_bc = False\n",
    "tolerance = 1e-12\n",
    "\n",
    "# calculate spin chain quantities\n",
    "# calculate spin chain quantities\n",
    "H2, H2_list, eigenstates2, eigenvalues2, min_eigenvalue2, ρ_ground_state2 = \\\n",
    "    spin_chain_quantities(N, Jx, Jy, Jz, periodic_bc, tolerance)"
   ]
  },
  {
   "cell_type": "code",
   "execution_count": 6,
   "id": "e3ef1e4a",
   "metadata": {},
   "outputs": [
    {
     "data": {
      "text/latex": [
       "Quantum object: dims = [[4], [4]], shape = (4, 4), type = oper, isherm = False $ \\\\ \\left(\\begin{matrix}0.0 & 0.0 & 0.0 & 1.0\\\\-0.707 & 0.0 & 0.707 & 0.0\\\\0.707 & 0.0 & 0.707 & 0.0\\\\0.0 & 1.0 & 0.0 & 0.0\\\\\\end{matrix}\\right)$"
      ],
      "text/plain": [
       "Quantum object: dims = [[4], [4]], shape = (4, 4), type = oper, isherm = False\n",
       "Qobj data =\n",
       "[[ 0.          0.          0.          1.        ]\n",
       " [-0.70710678  0.          0.70710678  0.        ]\n",
       " [ 0.70710678  0.          0.70710678  0.        ]\n",
       " [ 0.          1.          0.          0.        ]]"
      ]
     },
     "metadata": {},
     "output_type": "display_data"
    },
    {
     "data": {
      "text/plain": [
       "array([-3.,  1.,  1.,  1.])"
      ]
     },
     "metadata": {},
     "output_type": "display_data"
    }
   ],
   "source": [
    "# define singlet and triplet states\n",
    "S = eigenstates2[0]\n",
    "T0 = eigenstates2[3]\n",
    "Tn1 = eigenstates2[2]\n",
    "T1 = eigenstates2[1]\n",
    "\n",
    "# create basis of singlets and triplets\n",
    "ST_basis = [S, Tn1, T0, T1]\n",
    "\n",
    "# create matrix with S, Tn1, T0 and T1 as column vectors \n",
    "ST_matrix = Qobj(np.hstack([eigenstate.full() for eigenstate in ST_basis]))\n",
    "display(ST_matrix)\n",
    "\n",
    "# eigenvalues for 2-site spin chain\n",
    "display(eigenvalues2)"
   ]
  },
  {
   "cell_type": "code",
   "execution_count": null,
   "id": "d3af978e",
   "metadata": {},
   "outputs": [],
   "source": []
  },
  {
   "cell_type": "markdown",
   "id": "2df6cc07",
   "metadata": {},
   "source": [
    "# $\\hat{H}_4 = \\sum_{j = 1}^{4} X_j X_{j+1} + Y_j Y_{j+1} + \\lambda Z_j Z_{j+1} $"
   ]
  },
  {
   "cell_type": "code",
   "execution_count": 7,
   "id": "526e050f",
   "metadata": {
    "code_folding": [
     0,
     68,
     115
    ]
   },
   "outputs": [],
   "source": [
    "def eigendecomp_spin_operators(N, ST_basis):\n",
    "    \n",
    "    '''\n",
    "    function to find the global eigenkets for blue and red bonds as well\n",
    "    as the spectrum of each local 2-site Hamiltonian in the basis of these\n",
    "    global eigenkets\n",
    "    '''\n",
    "    \n",
    "    # collect indices for H_ik Hamiltonians which will be used to convert \n",
    "    # blue global eigenkets to red global eigenkets\n",
    "    H_ik_indices = [(2 + i, N - i) for i in range(0, int(N/2) - 1)]\n",
    "\n",
    "    # collect all H_ik matrices, which are Hamiltonians containing \n",
    "    # XX + YY + ZZ at indices i and k specified by each tuple in H_SWAP_indices\n",
    "    H_ik_list = []\n",
    "    for indices_tuple in H_ik_indices:\n",
    "\n",
    "        # collect at which sites we will insert Pauli matrices\n",
    "        site1 = indices_tuple[0]\n",
    "        site2 = indices_tuple[1]\n",
    "\n",
    "        # define list of identity operators and insert Pauli matrices\n",
    "        # at sites specified by indices_tuple\n",
    "        op_list = [qeye(2)]*N\n",
    "        op_list[site1 - 1] = σ_x\n",
    "        op_list[site2 - 1] = σ_x\n",
    "        HX_couplings = tensor(op_list)\n",
    "        op_list[site1 - 1] = σ_y\n",
    "        op_list[site2 - 1] = σ_y\n",
    "        HY_couplings = tensor(op_list)\n",
    "        op_list[site1 - 1] = σ_z\n",
    "        op_list[site2 - 1] = σ_z\n",
    "        HZ_couplings = tensor(op_list) \n",
    "\n",
    "        # append H_SWAP = HX_couplings + HY_couplings + HZ_couplings to H_ik_list\n",
    "        H_ik_list.append(HX_couplings + HY_couplings + HZ_couplings)\n",
    "\n",
    "    # collect product of SWAP matrices that will convert red eigenkets to blue eigenkets\n",
    "    I = tensor([qeye(2)]*N)\n",
    "    dim = 2**N\n",
    "    SWAP_operator = Qobj(reduce(lambda x,y: x*y, \\\n",
    "                                [(H_ik + I)/2 for H_ik in H_ik_list]), dims = [[dim], [dim]])\n",
    "\n",
    "    # construct global eigenkets for red and blue bonds for N sites\n",
    "    blue_mpsN = [Qobj(eigvec) for eigvec in reduce(np.kron, [ST_basis]*(int(N/2)))]\n",
    "    red_mpsN = [SWAP_operator(Qobj(eigvec)) for eigvec in reduce(np.kron, [ST_basis]*(int(N/2)))]\n",
    "    \n",
    "    # initialize empty list which will contain the spectrum of each local Hamiltonian \n",
    "    # in the basis of the blue and red global eigenkets\n",
    "    H_local_spectrum_list = []\n",
    "\n",
    "    # find spectra of all 2-site Hamiltonians\n",
    "    for i in range(1, N+1, 2):\n",
    "\n",
    "        # compute spectrum from tensor products of index 1 to i \n",
    "        Hij_spectrum_1i = np.tile(eigenvalues2, 2**(i-1))\n",
    "\n",
    "        # compute spectrum of tensor products of inex 1 to N, i.e., the full spectrum\n",
    "        Hij_spectrum_1N = np.repeat(Hij_spectrum_1i, np.ceil(2**(N - i - 1)))\n",
    "\n",
    "        # append to Hij_spectrum_list\n",
    "        H_local_spectrum_list.append(Hij_spectrum_1N)\n",
    "\n",
    "    # extra spectra for blue and red bonds according to previous ordering of eigenkets\n",
    "    blue_spectraN = H_local_spectrum_list\n",
    "    red_spectraN = H_local_spectrum_list[::-1]\n",
    "\n",
    "    return blue_spectraN, blue_mpsN, red_spectraN, red_mpsN"
   ]
  },
  {
   "cell_type": "code",
   "execution_count": 8,
   "id": "79f68dac",
   "metadata": {
    "code_folding": [
     0
    ]
   },
   "outputs": [],
   "source": [
    "def compute_VTA_list(α_start, α_end, α_steps):\n",
    "    \n",
    "    '''\n",
    "    function finds the list of vacuum transition amplitudes for each α in α_array so that\n",
    "    VTA_list = [<0000 | GSP(α, λ, E_0) |0000> for α in α_array]\n",
    "    '''\n",
    "    \n",
    "    # start the timer for the operation \n",
    "    start_time = time.time()\n",
    "    \n",
    "    # define array over which we will sweep α\n",
    "    α_array = np.linspace(α_start, α_end, α_steps)\n",
    "    \n",
    "    # define Gaussian weight tensor which is a function of the eigenvalues of \n",
    "    # each local Hamiltonian\n",
    "    W4 = lambda α, i, j, k, l: np.exp(-((α**2)/2)*(a[i] + b[j] + c[k] + d[l])**2)\n",
    "    \n",
    "    # calculate the vacuum transition amplitude for N = 4\n",
    "    VTA_list = []\n",
    "    for α in α_array: \n",
    "        VTA = sum(\n",
    "                W4(α, k0, k3, k2, k1)*W4(α, k0, k1, k2, k3) * \\\n",
    "                W4(α, k2, k1, k0, k3)*W4(α, k2, k3, k0, k1) * \\\n",
    "                (ν4_bras[k3]*μ4_kets[k2])*(μ4_bras[k2]*ν4_kets[k1]) * \\\n",
    "                (ν4_bras[k1]*μ4_kets[k0])*(ν4_kets[k3]*μ4_bras[k0])  \n",
    "                for k3 in range(len(d)) \\\n",
    "                for k2 in range(len(c)) \\\n",
    "                for k1 in range(len(b)) \\\n",
    "                for k0 in range(len(a)) \\\n",
    "                )\n",
    "        # adjust dimensions of VTA and append to VTA_list\n",
    "        VTA_adjusted = Qobj(VTA, dims = [[2]*4, [2]*4])\n",
    "        VTA_list.append(VTA_adjusted)\n",
    "        \n",
    "#     # Saving the list of quantum objects to a file\n",
    "#     path = os.getcwd() + f'/four_site_data/VTA{N}_GWT_{α_start}_{α_end}_{α_steps}.pkl'\n",
    "\n",
    "#     # save VTA_list to directory specified by path \n",
    "#     with open(path, 'wb') as file:\n",
    "#         pickle.dump(VTA_list, file)\n",
    "        \n",
    "    # to upload saved data use following code\n",
    "#     with open(path, 'rb') as file:\n",
    "#         VTA_list_new = pickle.load(file)\n",
    "        \n",
    "    print(\"%s seconds\" % (time.time() - start_time))\n",
    "    return VTA_list"
   ]
  },
  {
   "cell_type": "code",
   "execution_count": 9,
   "id": "bef0799e",
   "metadata": {
    "code_folding": [
     0
    ]
   },
   "outputs": [],
   "source": [
    "def plot_GSP_data(ψ0_list, VTA_list, α_start, α_end, α_steps, m_start, m_stop, save_file): \n",
    "    \n",
    "    # define array over which we will plot α\n",
    "    α_array = np.linspace(α_start, α_end, α_steps)\n",
    "\n",
    "    # define list of colors to use for plots \n",
    "    colors = ['blue', 'orange', 'green','red', 'purple', 'black', 'pink', 'gray', 'cyan', 'magenta']\n",
    "    \n",
    "    # compute list of projection fidelity for VTA_list for all initial states in ψ0_list\n",
    "    GSP_fidelity_array_list = [[expect(ρ_ground_state4, (VTA*ψ0).unit()) for VTA in VTA_list] \\\n",
    "           for ψ0 in ψ0_list]\n",
    "\n",
    "    # generate custom linestyles to use if we are projecting 4 or more cavities onto vacuum\n",
    "    dashed_list = [(None, None), (5, 2), (1, 2), (5, 2, 1, 2), (10, 5, 2, 5), \\\n",
    "                   (2, 2, 10, 2), (5, 2, 10, 2, 5, 2), (15, 5, 5, 5), (2, 5, 10, 5)]\n",
    "\n",
    "    fig, ax = plt.subplots(figsize=(8, 6))\n",
    "\n",
    "    # graph the theoretical projection of all initial states onto the true ground state \n",
    "    for i, fidelity_array in enumerate(GSP_fidelity_array_list): \n",
    "        ax.plot(α_array, fidelity_array, label=f'Trotterized, M = 4, $F_0$ = {fidelity_array[0] : .3f}', \\\n",
    "                color=colors[i], linestyle='-')\n",
    "\n",
    "    ax.set_xlabel(r'$\\alpha$', fontsize=15)\n",
    "    ax.set_ylabel('Fidelity', fontsize=15)\n",
    "    ax.set_title(f'Trotterized GSP with r = {1} for N = 4', fontsize=17.5)  \n",
    "    ax.legend(fontsize = 12.5)\n",
    "    ax.grid(True)\n",
    "    \n",
    "    if save_file: \n",
    "    \n",
    "        # define which folder subfolder in /data to store the image\n",
    "        if N_qubits == 2: \n",
    "            site_folder = 'two_sites'\n",
    "        elif N_qubits == 3: \n",
    "            site_folder = 'three_sites'\n",
    "        elif N_qubits == 4: \n",
    "            site_folder = 'four_sites'\n",
    "        elif N_qubits == 5: \n",
    "            site_folder = 'five_sites'\n",
    "\n",
    "        # calculate number of states that were simulated\n",
    "        num_states = len(ψ0_list)\n",
    "\n",
    "        if m_start != m_stop: \n",
    "\n",
    "            # create name for png file \n",
    "            filename = f'/Users/lukebell/Documents/boson_gang/data/{site_folder}/simulated_' \\\n",
    "                        f's{num_states}_m{m_start}{m_stop}_r{r}.png'\n",
    "\n",
    "            # Check if the file already exists\n",
    "            if os.path.exists(filename):\n",
    "                # If it exists, remove it\n",
    "                os.remove(filename)\n",
    "\n",
    "            # save figure \n",
    "            plt.savefig(filename)\n",
    "\n",
    "        elif m_start == m_stop: \n",
    "            \n",
    "            # create name for png file \n",
    "            filename = f'/Users/lukebell/Documents/boson_gang/data/{site_folder}/simulated_' \\\n",
    "                        f's{num_states}_m{m_start}_r{r}.png'\n",
    "\n",
    "        # Check if the file already exists\n",
    "        if os.path.exists(filename):\n",
    "            # If it exists, remove it\n",
    "            os.remove(filename) \n",
    "\n",
    "        # save figure \n",
    "        plt.savefig(filename)"
   ]
  },
  {
   "cell_type": "code",
   "execution_count": 10,
   "id": "f6313c3d",
   "metadata": {},
   "outputs": [
    {
     "data": {
      "text/plain": [
       "True"
      ]
     },
     "metadata": {},
     "output_type": "display_data"
    },
    {
     "data": {
      "text/plain": [
       "True"
      ]
     },
     "metadata": {},
     "output_type": "display_data"
    },
    {
     "data": {
      "text/plain": [
       "True"
      ]
     },
     "metadata": {},
     "output_type": "display_data"
    },
    {
     "data": {
      "text/plain": [
       "True"
      ]
     },
     "metadata": {},
     "output_type": "display_data"
    }
   ],
   "source": [
    "# specify parameters of spin chain \n",
    "N = 4\n",
    "Jx = 1\n",
    "Jy = 1\n",
    "Jz = 1\n",
    "periodic_bc = True\n",
    "tolerance4 = 1e-12\n",
    "\n",
    "# calculate spin chain quantities\n",
    "H4, H4_list, eigenstates4, eigenvalues4, E_0, ρ_ground_state4 = \\\n",
    "    spin_chain_quantities(N, Jx, Jy, Jz, periodic_bc, tolerance)\n",
    "\n",
    "# define local Hamiltonians \n",
    "A = H4_list[0]\n",
    "B = H4_list[1]\n",
    "C = H4_list[2]\n",
    "D = H4_list[3]\n",
    "\n",
    "# collect global eigenstates of blue and red bonds as well as ordered lists \n",
    "# of eigenvalues (spectra) for blue and red operators\n",
    "blue_spectra4, blue_mps4, red_spectra4, red_mps4 = eigendecomp_spin_operators(N, ST_basis)\n",
    "\n",
    "# verify that we can reconstruct A, B, C and D through decomposition \n",
    "# using our lists of eigenstates and eigenvalues\n",
    "H_blue_list = [sum([λ*vec*vec.dag() for λ, vec in zip(blue_spectra4[i], blue_mps4)]) for i in range(int(N/2))]\n",
    "H_red_list = [sum([λ*vec*vec.dag() for λ, vec in zip(red_spectra4[i], red_mps4)]) for i in range(int(N/2))]\n",
    "\n",
    "display(np.allclose(A, H_blue_list[0]))\n",
    "display(np.allclose(B, H_red_list[0]))\n",
    "display(np.allclose(C, H_blue_list[1]))\n",
    "display(np.allclose(D, H_red_list[1]))"
   ]
  },
  {
   "cell_type": "code",
   "execution_count": 11,
   "id": "ed307901",
   "metadata": {},
   "outputs": [],
   "source": [
    "# collect an ordered list of all the spectra of the local Hamiltonians\n",
    "spectra4 = blue_spectra4 + red_spectra4\n",
    "spectra4[::2] = blue_spectra4\n",
    "spectra4[1::2] = red_spectra4\n",
    "\n",
    "# define lists of eigenvalues for spin operators A, B, C and D that incorporate the \n",
    "# translation -E_0/4 \n",
    "a = spectra4[0] - E_0/4\n",
    "b = spectra4[1] - E_0/4 \n",
    "c = spectra4[2] - E_0/4\n",
    "d = spectra4[3] - E_0/4\n",
    "\n",
    "# define all the bras and kets of the blue and red global eigenstates\n",
    "μ4_kets = blue_mps4\n",
    "μ4_bras = [eigvec.dag() for eigvec in μ4_kets]\n",
    "ν4_kets = red_mps4\n",
    "ν4_bras = [eigvec.dag() for eigvec in ν4_kets]"
   ]
  },
  {
   "cell_type": "code",
   "execution_count": 12,
   "id": "caad9ead",
   "metadata": {},
   "outputs": [
    {
     "name": "stdout",
     "output_type": "stream",
     "text": [
      "143.6472361087799 seconds\n"
     ]
    }
   ],
   "source": [
    "α_start = 0 \n",
    "α_end = 1\n",
    "α_steps = 10\n",
    "\n",
    "# bear in mind it takes approxiamtely 14 seconds for each matrix to be generated; \n",
    "# if you want to generate operators for 100 different values of alpha you will have to \n",
    "# wait approximatley (100*40)/60 ~ 23 minutes\n",
    "VTA_list = compute_VTA_list(α_start, α_end, α_steps)"
   ]
  },
  {
   "cell_type": "code",
   "execution_count": 13,
   "id": "e9a4430e",
   "metadata": {},
   "outputs": [],
   "source": [
    "N_cavities = 0 \n",
    "N_qubits = 4\n",
    "cutoff = 0 \n",
    "m_start = 4\n",
    "m_stop = 4\n",
    "r = 1\n",
    "save_file = False\n",
    "num_states = 4\n",
    "\n",
    "# define initial states\n",
    "ψ0_list = generate_initial_states(N_cavities, N_qubits, num_states, cutoff)"
   ]
  },
  {
   "cell_type": "code",
   "execution_count": 14,
   "id": "e0c123e1",
   "metadata": {
    "scrolled": false
   },
   "outputs": [
    {
     "data": {
      "image/png": "[encoded data removed]",
      "text/plain": [
       "<Figure size 800x600 with 1 Axes>"
      ]
     },
     "metadata": {},
     "output_type": "display_data"
    }
   ],
   "source": [
    "plot_GSP_data(ψ0_list, VTA_list, α_start, α_end, α_steps, m_start, m_stop, save_file)"
   ]
  },
  {
   "cell_type": "code",
   "execution_count": 15,
   "id": "5a37180e",
   "metadata": {},
   "outputs": [],
   "source": [
    "# take the GSP operator for the first nonzero value of α\n",
    "GSP = VTA_list[1]"
   ]
  },
  {
   "cell_type": "code",
   "execution_count": 16,
   "id": "59f86117",
   "metadata": {},
   "outputs": [
    {
     "data": {
      "text/plain": [
       "False"
      ]
     },
     "execution_count": 16,
     "metadata": {},
     "output_type": "execute_result"
    }
   ],
   "source": [
    "# GSP is not unitary since this Boolean evaluation returns false\n",
    "GSP.inv() == GSP.dag()"
   ]
  },
  {
   "cell_type": "code",
   "execution_count": null,
   "id": "0c74b694",
   "metadata": {},
   "outputs": [],
   "source": []
  },
  {
   "cell_type": "code",
   "execution_count": null,
   "id": "f3cc7f4f",
   "metadata": {},
   "outputs": [],
   "source": []
  },
  {
   "cell_type": "code",
   "execution_count": null,
   "id": "94562834",
   "metadata": {},
   "outputs": [],
   "source": []
  },
  {
   "cell_type": "code",
   "execution_count": null,
   "id": "7e187b35",
   "metadata": {},
   "outputs": [],
   "source": []
  },
  {
   "cell_type": "code",
   "execution_count": null,
   "id": "b47959f4",
   "metadata": {},
   "outputs": [],
   "source": []
  }
 ],
 "metadata": {
  "kernelspec": {
   "display_name": "Python 3 (ipykernel)",
   "language": "python",
   "name": "python3"
  },
  "language_info": {
   "codemirror_mode": {
    "name": "ipython",
    "version": 3
   },
   "file_extension": ".py",
   "mimetype": "text/x-python",
   "name": "python",
   "nbconvert_exporter": "python",
   "pygments_lexer": "ipython3",
   "version": "3.11.7"
  }
 },
 "nbformat": 4,
 "nbformat_minor": 5
}
