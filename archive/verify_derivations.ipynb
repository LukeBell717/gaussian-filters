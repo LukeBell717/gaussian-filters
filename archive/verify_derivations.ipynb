{
 "cells": [
  {
   "cell_type": "code",
   "execution_count": 75,
   "id": "f8b786b0-35ea-48ed-8b05-52ebde2023c8",
   "metadata": {},
   "outputs": [],
   "source": [
    "from qutip import *\n",
    "from qutip.qip.operations import rx, ry, rz\n",
    "from qutip.metrics import fidelity\n",
    "import numpy as np\n",
    "import matplotlib as mpl\n",
    "from matplotlib import cm\n",
    "import matplotlib.pyplot as plt\n",
    "from functools import reduce"
   ]
  },
  {
   "cell_type": "code",
   "execution_count": 112,
   "id": "0cff2ce5",
   "metadata": {},
   "outputs": [],
   "source": [
    "# dimension of our Fock Space\n",
    "cutoff = 3\n",
    "\n",
    "# identity operator for one qubit \n",
    "I2 = identity(2)\n",
    "\n",
    "# annihilation and identity operator in Fock Space\n",
    "a = destroy(cutoff)\n",
    "Ib = identity(cutoff)\n",
    "\n",
    "# define Pauli matrices and constants\n",
    "σ_x = sigmax()\n",
    "σ_y = sigmay()\n",
    "σ_z = sigmaz()\n",
    "π = np.pi"
   ]
  },
  {
   "cell_type": "code",
   "execution_count": 122,
   "id": "e6e14586",
   "metadata": {},
   "outputs": [],
   "source": [
    "α = 1 #= np.random.rand()\n",
    "λ = 1 #= np.random.rand()"
   ]
  },
  {
   "cell_type": "code",
   "execution_count": 123,
   "id": "9cc77187",
   "metadata": {},
   "outputs": [],
   "source": [
    "α1 = tensor([α*a.dag() - np.conj(α)*a, Ib, Ib, Ib])\n",
    "α2 = tensor([Ib, α*a.dag() - np.conj(α)*a, Ib, Ib])\n",
    "α3 = tensor([Ib, Ib, α*a.dag() - np.conj(α)*a, Ib])\n",
    "α4 = tensor([Ib, Ib, Ib, α*a.dag() - np.conj(α)*a])"
   ]
  },
  {
   "cell_type": "code",
   "execution_count": 124,
   "id": "a4102c7a",
   "metadata": {},
   "outputs": [
    {
     "data": {
      "text/plain": [
       "True"
      ]
     },
     "execution_count": 124,
     "metadata": {},
     "output_type": "execute_result"
    }
   ],
   "source": [
    "(α1 + α2 + α3 + α4).expm() == α1.expm()*α2.expm()*α3.expm()*α4.expm()"
   ]
  },
  {
   "cell_type": "code",
   "execution_count": 125,
   "id": "815ed379",
   "metadata": {},
   "outputs": [],
   "source": [
    "H12 = tensor(σ_x, σ_x, I2, I2) +  tensor(σ_y, σ_y, I2, I2) +  λ*tensor(σ_z, σ_z, I2, I2)\n",
    "H23 = tensor(I2, σ_x, σ_x, I2) +  tensor(I2, σ_y, σ_y, I2) +  λ*tensor(I2, σ_z, σ_z, I2)\n",
    "H34 = tensor(I2, I2, σ_x, σ_x) +  tensor(I2, I2, σ_y, σ_y) +  λ*tensor(I2, I2, σ_z, σ_z)"
   ]
  },
  {
   "cell_type": "code",
   "execution_count": 126,
   "id": "34804829",
   "metadata": {},
   "outputs": [],
   "source": [
    "M1 = tensor(α1 + α2, H12) + tensor(α2 + α3, H23) + tensor(α3 + α4, H34)"
   ]
  },
  {
   "cell_type": "code",
   "execution_count": 127,
   "id": "0f0e84e1",
   "metadata": {},
   "outputs": [],
   "source": [
    "M2 = tensor(α2 + α3, H12) + tensor(α1 + α3, H23) + tensor(α2 + α4, H34)"
   ]
  },
  {
   "cell_type": "code",
   "execution_count": 128,
   "id": "c8b43fcf",
   "metadata": {},
   "outputs": [
    {
     "data": {
      "text/plain": [
       "21711.657051924503"
      ]
     },
     "execution_count": 128,
     "metadata": {},
     "output_type": "execute_result"
    }
   ],
   "source": [
    "commutator(M1, M2).norm()"
   ]
  },
  {
   "cell_type": "code",
   "execution_count": 131,
   "id": "c4b92d8c",
   "metadata": {},
   "outputs": [
    {
     "data": {
      "text/plain": [
       "75.7128135174018"
      ]
     },
     "execution_count": 131,
     "metadata": {},
     "output_type": "execute_result"
    }
   ],
   "source": [
    "commutator(H12 + H34, H23).norm()"
   ]
  },
  {
   "cell_type": "code",
   "execution_count": null,
   "id": "dc3fc0de",
   "metadata": {},
   "outputs": [],
   "source": []
  },
  {
   "cell_type": "code",
   "execution_count": null,
   "id": "0cf6b5f4",
   "metadata": {},
   "outputs": [],
   "source": []
  },
  {
   "cell_type": "code",
   "execution_count": null,
   "id": "39a53540",
   "metadata": {},
   "outputs": [],
   "source": []
  }
 ],
 "metadata": {
  "kernelspec": {
   "display_name": "Python 3 (ipykernel)",
   "language": "python",
   "name": "python3"
  },
  "language_info": {
   "codemirror_mode": {
    "name": "ipython",
    "version": 3
   },
   "file_extension": ".py",
   "mimetype": "text/x-python",
   "name": "python",
   "nbconvert_exporter": "python",
   "pygments_lexer": "ipython3",
   "version": "3.11.7"
  },
  "varInspector": {
   "cols": {
    "lenName": 16,
    "lenType": 16,
    "lenVar": 40
   },
   "kernels_config": {
    "python": {
     "delete_cmd_postfix": "",
     "delete_cmd_prefix": "del ",
     "library": "var_list.py",
     "varRefreshCmd": "print(var_dic_list())"
    },
    "r": {
     "delete_cmd_postfix": ") ",
     "delete_cmd_prefix": "rm(",
     "library": "var_list.r",
     "varRefreshCmd": "cat(var_dic_list()) "
    }
   },
   "types_to_exclude": [
    "module",
    "function",
    "builtin_function_or_method",
    "instance",
    "_Feature"
   ],
   "window_display": false
  }
 },
 "nbformat": 4,
 "nbformat_minor": 5
}
