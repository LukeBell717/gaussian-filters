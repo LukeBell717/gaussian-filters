{
 "cells": [
  {
   "cell_type": "code",
   "execution_count": 1,
   "id": "dedf54f3",
   "metadata": {},
   "outputs": [],
   "source": [
    "# import sympy and numpy \n",
    "from sympy import *\n",
    "from sympy.physics.quantum import *\n",
    "import numpy as np\n",
    "from IPython.display import Math\n",
    "from functools import reduce\n",
    "\n",
    "# reference in current ISA paper, gate section"
   ]
  },
  {
   "cell_type": "markdown",
   "id": "a44b9535",
   "metadata": {},
   "source": [
    "Let $A, B, C \\in \\text{GL}_{\\text{n}}(\\mathbb{C})$ . Recall that \n",
    "\n",
    "$$\\Large e^{A + B} = \\lim_{m \\to \\infty}\\left( e^{\\frac{A}{m}}e^{\\frac{B}{m}}\\right)^m $$\n",
    "\n",
    "which means \n",
    "\n",
    "$$ \\Large e^{A + B} \\approx \\left( e^{\\frac{A}{m}}e^{\\frac{B}{m}}\\right)^m $$\n",
    "\n",
    "for sufficiently large $ m $. "
   ]
  },
  {
   "cell_type": "markdown",
   "id": "9568718f",
   "metadata": {},
   "source": [
    "If $\\left[ A, B\\right] = 0 $ then \n",
    "\n",
    "$$ \\Large e^{A + B + C} = \\lim_{m \\to \\infty}\\left( e^{\\frac{A}{m}}e^{\\frac{B}{m}}e^{\\frac{C}{m}}\\right)^m $$\n",
    "\n",
    "then \n",
    "\n",
    "$$ \\Large e^{A + B + C} \\approx \\left( e^{\\frac{A}{m}}e^{\\frac{B}{m}}e^{\\frac{C}{m}}\\right)^m $$\n",
    "\n",
    "for sufficiently large $m$.  "
   ]
  },
  {
   "cell_type": "markdown",
   "id": "6f0860e4",
   "metadata": {},
   "source": [
    "# Functions for Trotterization and series expansion"
   ]
  },
  {
   "cell_type": "code",
   "execution_count": 2,
   "id": "e02b88c5",
   "metadata": {
    "code_folding": [
     0
    ]
   },
   "outputs": [],
   "source": [
    "# define symbolic matrices, scalars, and constants \n",
    "A = MatrixSymbol('A', 2, 2)\n",
    "B = MatrixSymbol('B', 2, 2)\n",
    "C = MatrixSymbol('C', 2, 2)\n",
    "x, θ, λ, n, t, approx, equal = symbols('x, θ, λ, n, t, ≈, =')\n",
    "i = sqrt(-1)\n",
    "π = pi\n",
    "\n",
    "# define Pauli matrices\n",
    "σ_x = Matrix([[0, 1], [1, 0]])\n",
    "σ_y = Matrix([[0, -I], [I, 0]])\n",
    "σ_z = Matrix([[1, 0], [0, -1]])"
   ]
  },
  {
   "cell_type": "code",
   "execution_count": 3,
   "id": "4311143f",
   "metadata": {
    "code_folding": [
     1
    ]
   },
   "outputs": [
    {
     "data": {
      "text/latex": [
       "$\\displaystyle e^{- i θ \\left(A + B\\right)}≈\\left(e^{- \\frac{1}{5} i θ A} e^{- \\frac{1}{5} i θ B}\\right)^{5}=$"
      ],
      "text/plain": [
       "<IPython.core.display.Math object>"
      ]
     },
     "metadata": {},
     "output_type": "display_data"
    },
    {
     "data": {
      "text/latex": [
       "$\\displaystyle e^{- \\frac{1}{5} i θ A} e^{- \\frac{1}{5} i θ B} e^{- \\frac{1}{5} i θ A} e^{- \\frac{1}{5} i θ B} e^{- \\frac{1}{5} i θ A} e^{- \\frac{1}{5} i θ B} e^{- \\frac{1}{5} i θ A} e^{- \\frac{1}{5} i θ B} e^{- \\frac{1}{5} i θ A} e^{- \\frac{1}{5} i θ B}$"
      ],
      "text/plain": [
       "exp((-I*θ/5)*A)*exp((-I*θ/5)*B)*exp((-I*θ/5)*A)*exp((-I*θ/5)*B)*exp((-I*θ/5)*A)*exp((-I*θ/5)*B)*exp((-I*θ/5)*A)*exp((-I*θ/5)*B)*exp((-I*θ/5)*A)*exp((-I*θ/5)*B)"
      ]
     },
     "metadata": {},
     "output_type": "display_data"
    }
   ],
   "source": [
    "# trotterization with matrices A, B \n",
    "def trotterize(A, B, variable, n, expand = True):\n",
    "    \"\"\"\n",
    "    function to Trotterize matrix exponential up to order n, \n",
    "    where the variable we tune in the exponent is given by variable\n",
    "    \"\"\"\n",
    "    \n",
    "    # display the matrix expnonential we approximate\n",
    "    matrix_exponential = exp(-i*variable*(A + B))\n",
    "    latex_expression1 = latex(matrix_exponential) + latex(approx)\n",
    "    \n",
    "    # compute trotter formula\n",
    "    trotter_formula = (exp((-i*variable*A)/n)*exp((-i*variable*B)/n))**n\n",
    "    \n",
    "    if expand:\n",
    "        # return Trotterization approximation \n",
    "        latex_expression2 = latex(trotter_formula) + latex(equal)\n",
    "        display(Math(latex_expression1 + latex_expression2))\n",
    "        return trotter_formula.expand()\n",
    "    else: \n",
    "        display(Math(latex_expression1))\n",
    "        return trotter_formula\n",
    "display(trotterize(A, B, θ, 5, expand = True))"
   ]
  },
  {
   "cell_type": "code",
   "execution_count": 4,
   "id": "e99eff32",
   "metadata": {
    "code_folding": [
     1
    ]
   },
   "outputs": [
    {
     "data": {
      "text/latex": [
       "$\\displaystyle e^{- i θ \\left(A + B + C\\right)}≈\\left(e^{- \\frac{1}{4} i θ A} e^{- \\frac{1}{4} i θ B} e^{- \\frac{1}{4} i θ C}\\right)^{4}=$"
      ],
      "text/plain": [
       "<IPython.core.display.Math object>"
      ]
     },
     "metadata": {},
     "output_type": "display_data"
    },
    {
     "data": {
      "text/latex": [
       "$\\displaystyle e^{- \\frac{1}{4} i θ A} e^{- \\frac{1}{4} i θ B} e^{- \\frac{1}{4} i θ C} e^{- \\frac{1}{4} i θ A} e^{- \\frac{1}{4} i θ B} e^{- \\frac{1}{4} i θ C} e^{- \\frac{1}{4} i θ A} e^{- \\frac{1}{4} i θ B} e^{- \\frac{1}{4} i θ C} e^{- \\frac{1}{4} i θ A} e^{- \\frac{1}{4} i θ B} e^{- \\frac{1}{4} i θ C}$"
      ],
      "text/plain": [
       "exp((-I*θ/4)*A)*exp((-I*θ/4)*B)*exp((-I*θ/4)*C)*exp((-I*θ/4)*A)*exp((-I*θ/4)*B)*exp((-I*θ/4)*C)*exp((-I*θ/4)*A)*exp((-I*θ/4)*B)*exp((-I*θ/4)*C)*exp((-I*θ/4)*A)*exp((-I*θ/4)*B)*exp((-I*θ/4)*C)"
      ]
     },
     "metadata": {},
     "output_type": "display_data"
    }
   ],
   "source": [
    "# trotterization with matrices A, B, C where [A, C] = 0 \n",
    "def trotterize_neighbor(A, B, C, n, expand = True):\n",
    "    \"\"\"\n",
    "    function to Trotterize matrix exponential up to order n \n",
    "    whose Hamiltonian involves neighboring sites; \n",
    "    \n",
    "    this function assumes [A, B] = 0\n",
    "    \"\"\"\n",
    "    # display the matrix expnonential we approximate\n",
    "    matrix_exponential = exp(-i*θ*(A + B + C))\n",
    "    latex_expression1 = latex(matrix_exponential) + latex(approx)\n",
    "    \n",
    "    # compute trotter formula\n",
    "    trotter_formula = (exp((-i*θ*A)/n)*exp((-i*θ*B)/n)*exp((-i*θ*C)/n))**n\n",
    "    \n",
    "    if expand:\n",
    "        # return Trotterization approximation \n",
    "        latex_expression2 = latex(trotter_formula) + latex(equal)\n",
    "        display(Math(latex_expression1 + latex_expression2))\n",
    "        return trotter_formula.expand()\n",
    "    else: \n",
    "        display(Math(latex_expression1))\n",
    "        return trotter_formula\n",
    "display(trotterize_neighbor(A, B, C, 4, expand = True))    "
   ]
  },
  {
   "cell_type": "code",
   "execution_count": 5,
   "id": "e7f9c135",
   "metadata": {
    "code_folding": [
     3
    ]
   },
   "outputs": [
    {
     "data": {
      "text/latex": [
       "$\\displaystyle \\left[\\begin{matrix}\\cos{\\left(x \\right)} & - \\sin{\\left(x \\right)}\\\\\\sin{\\left(x \\right)} & \\cos{\\left(x \\right)}\\end{matrix}\\right]=$"
      ],
      "text/plain": [
       "<IPython.core.display.Math object>"
      ]
     },
     "metadata": {},
     "output_type": "display_data"
    },
    {
     "data": {
      "text/latex": [
       "$\\displaystyle \\left[\\begin{matrix}1 - \\frac{x^{2}}{2} + \\frac{x^{4}}{24} - \\frac{x^{6}}{720} + \\frac{x^{8}}{40320} - \\frac{x^{10}}{3628800} + O\\left(x^{11}\\right) & - x + \\frac{x^{3}}{6} - \\frac{x^{5}}{120} + \\frac{x^{7}}{5040} - \\frac{x^{9}}{362880} + O\\left(x^{11}\\right)\\\\x - \\frac{x^{3}}{6} + \\frac{x^{5}}{120} - \\frac{x^{7}}{5040} + \\frac{x^{9}}{362880} + O\\left(x^{11}\\right) & 1 - \\frac{x^{2}}{2} + \\frac{x^{4}}{24} - \\frac{x^{6}}{720} + \\frac{x^{8}}{40320} - \\frac{x^{10}}{3628800} + O\\left(x^{11}\\right)\\end{matrix}\\right]$"
      ],
      "text/plain": [
       "Matrix([\n",
       "[1 - x**2/2 + x**4/24 - x**6/720 + x**8/40320 - x**10/3628800 + O(x**11),             -x + x**3/6 - x**5/120 + x**7/5040 - x**9/362880 + O(x**11)],\n",
       "[             x - x**3/6 + x**5/120 - x**7/5040 + x**9/362880 + O(x**11), 1 - x**2/2 + x**4/24 - x**6/720 + x**8/40320 - x**10/3628800 + O(x**11)]])"
      ]
     },
     "execution_count": 5,
     "metadata": {},
     "output_type": "execute_result"
    }
   ],
   "source": [
    "# function to taylor expand any matrix\n",
    "M = Matrix([[cos(x), -sin(x)], [sin(x), cos(x)]])\n",
    "\n",
    "def expand_exponential(A, x, x_0, order):\n",
    "    \"\"\"\n",
    "    Expands matrix exponential in variable x, about x_0, and to order 'order'\n",
    "\n",
    "    Args:\n",
    "        A: matrix we will expand\n",
    "        x: variable in which we will expand A\n",
    "        x_0: variable about which we will expand A\n",
    "        order: the order to which we will truncate the expansion\n",
    "\n",
    "    Returns:\n",
    "        returns expanded matrix exponential\n",
    "    \"\"\"\n",
    "    \n",
    "    # collect rows and columns of matrix A\n",
    "    rows, columns = A.shape\n",
    "    \n",
    "    # create series_matrix with only NaN entries, which we will later fill \n",
    "    series_matrix = Matrix(rows, columns, lambda i, j: nan)\n",
    "    \n",
    "    # expand matrix exponential in x, about x_0, and up to order 'order'\n",
    "    for (row_index, column_index), element in np.ndenumerate(A):\n",
    "        expanded_element = element.series(x, x_0, order + 1)\n",
    "        series_matrix[row_index, column_index] = expanded_element\n",
    "\n",
    "    # return series_matrix only if all NaNs have been replaced\n",
    "    if not series_matrix.has(nan):\n",
    "        # display matrix\n",
    "        display(Math(latex(A) + latex(equal)))\n",
    "        return series_matrix\n",
    "    else:\n",
    "        print('There are NaNs that must be replaced')\n",
    "expand_exponential(M, x, 0, 10)"
   ]
  },
  {
   "cell_type": "markdown",
   "id": "ea2abd2a",
   "metadata": {},
   "source": [
    "# Simulation of $ U_N $"
   ]
  },
  {
   "cell_type": "markdown",
   "id": "c18d7ec0",
   "metadata": {},
   "source": [
    "For a chain of N spins, let us define $R_{XX}(\\theta), R_{YY}(\\theta), \\text{ and } R_{ZZ}(\\theta)$ acting on the jth and (j+1)th sites as \n",
    "\n",
    "$$ \\Large R_{XX}^{ \\left(j \\right)}\\left(\\theta \\right) = \\mathbb{1}^{\\otimes j -1} \\otimes e^{\\frac{-i \\theta}{2} X_j \\otimes X_{j+1}} \\otimes \\mathbb{1}^{\\otimes N - j -1} $$\n",
    "$$ \\Large R_{YY}^{ \\left(j \\right)}\\left(\\theta \\right) = \\mathbb{1}^{\\otimes j -1} \\otimes e^{\\frac{-i \\theta}{2} Y_j \\otimes Y_{j+1}} \\otimes \\mathbb{1}^{\\otimes N - j -1} $$\n",
    "$$ \\Large R_{ZZ}^{ \\left(j \\right)}\\left(\\lambda \\theta \\right) = \\mathbb{1}^{\\otimes j -1} \\otimes e^{\\frac{-i \\lambda \\theta}{2} Z_j \\otimes Z_{j+1}} \\otimes \\mathbb{1}^{\\otimes N - j -1} $$\n",
    "\n",
    "so that \n",
    "\n",
    "$$ \\Large R_{XYZ}^{ \\left(j \\right)}\\left(\\theta, \\lambda \\right) = R_{XX}^{ \\left(j \\right)}\\left(\\theta \\right) R_{YY}^{ \\left(j \\right)}\\left(\\theta \\right) R_{ZZ}^{ \\left(j \\right)}\\left(\\lambda \\theta \\right) $$\n",
    "\n",
    "We now define \n",
    "\n",
    "$$ \\Large R_B(\\theta, \\lambda) =  \\prod_{j=1}^{\\lceil \\frac{N - 1}{2} \\rceil} R_{XYZ}^{ \\left(2j - 1 \\right)}\\left(\\theta, \\lambda \\right) $$\n",
    "$$ \\Large R_R(\\theta, \\lambda) =  \\prod_{j=1}^{\\lfloor \\frac{N - 1}{2} \\rfloor} R_{XYZ}^{ \\left(2j \\right)}\\left(\\theta, \\lambda \\right) $$\n",
    "\n",
    "where $ R_B(\\theta)$ acts on all sites connected by red bonds and $ R_R(\\theta) $ acts on all sites connected by red bonds. Since $ R_B(\\theta) $ and $ R_R(\\theta) $ act simultaneously on all bonds in the lattice, we approximate the unitary evolution of the system by \n",
    "\n",
    "$$ \\Large U \\approx \\left( R_B(\\theta, \\lambda)  R_R(\\theta, \\lambda) \\right)^m $$"
   ]
  },
  {
   "cell_type": "code",
   "execution_count": 6,
   "id": "7ab925d1",
   "metadata": {
    "code_folding": []
   },
   "outputs": [
    {
     "data": {
      "text/latex": [
       "$\\displaystyle R_{XX}(θ) = \\left[\\begin{matrix}\\cos{\\left(\\frac{θ}{2} \\right)} & 0 & 0 & - i \\sin{\\left(\\frac{θ}{2} \\right)}\\\\0 & \\cos{\\left(\\frac{θ}{2} \\right)} & - i \\sin{\\left(\\frac{θ}{2} \\right)} & 0\\\\0 & - i \\sin{\\left(\\frac{θ}{2} \\right)} & \\cos{\\left(\\frac{θ}{2} \\right)} & 0\\\\- i \\sin{\\left(\\frac{θ}{2} \\right)} & 0 & 0 & \\cos{\\left(\\frac{θ}{2} \\right)}\\end{matrix}\\right]R_{YY}(θ) = \\left[\\begin{matrix}\\cos{\\left(\\frac{θ}{2} \\right)} & 0 & 0 & i \\sin{\\left(\\frac{θ}{2} \\right)}\\\\0 & \\cos{\\left(\\frac{θ}{2} \\right)} & - i \\sin{\\left(\\frac{θ}{2} \\right)} & 0\\\\0 & - i \\sin{\\left(\\frac{θ}{2} \\right)} & \\cos{\\left(\\frac{θ}{2} \\right)} & 0\\\\i \\sin{\\left(\\frac{θ}{2} \\right)} & 0 & 0 & \\cos{\\left(\\frac{θ}{2} \\right)}\\end{matrix}\\right]$"
      ],
      "text/plain": [
       "<IPython.core.display.Math object>"
      ]
     },
     "metadata": {},
     "output_type": "display_data"
    },
    {
     "data": {
      "text/latex": [
       "$\\displaystyle R_{ZZ}(θ) = \\left[\\begin{matrix}e^{- \\frac{i θ}{2}} & 0 & 0 & 0\\\\0 & e^{\\frac{i θ}{2}} & 0 & 0\\\\0 & 0 & e^{\\frac{i θ}{2}} & 0\\\\0 & 0 & 0 & e^{- \\frac{i θ}{2}}\\end{matrix}\\right]$"
      ],
      "text/plain": [
       "<IPython.core.display.Math object>"
      ]
     },
     "metadata": {},
     "output_type": "display_data"
    },
    {
     "data": {
      "text/latex": [
       "$\\displaystyle R_{XYZ}(θ) = \\left[\\begin{matrix}e^{- \\frac{i θ}{2}} & 0 & 0 & 0\\\\0 & e^{\\frac{i θ}{2}} \\cos{\\left(θ \\right)} & - i e^{\\frac{i θ}{2}} \\sin{\\left(θ \\right)} & 0\\\\0 & - i e^{\\frac{i θ}{2}} \\sin{\\left(θ \\right)} & e^{\\frac{i θ}{2}} \\cos{\\left(θ \\right)} & 0\\\\0 & 0 & 0 & e^{- \\frac{i θ}{2}}\\end{matrix}\\right]$"
      ],
      "text/plain": [
       "<IPython.core.display.Math object>"
      ]
     },
     "metadata": {},
     "output_type": "display_data"
    }
   ],
   "source": [
    "dv_Rxx, dv_Ryy, dv_Rzz, dv_Rxyz = symbols('R_{XX}(θ), R_{YY}(θ), R_{ZZ}(θ), R_{XYZ}(θ)')\n",
    "\n",
    "# define RXX, RYY and RZZ gates with a matrix exponential; this agrees with Qiskit\n",
    "Rxx_exp = exp(-I*θ/2*TensorProduct(σ_x, σ_x)).simplify()\n",
    "Ryy_exp = exp(-I*θ/2*TensorProduct(σ_y, σ_y)).simplify()\n",
    "Rzz_exp = exp(-I*θ/2*TensorProduct(σ_z, σ_z))\n",
    "\n",
    "# define RXX, RYY, and RZZ gates manually\n",
    "Rxx = Matrix([[cos(θ/2), 0, 0, -I*sin(θ/2)], \n",
    "               [0, cos(θ/2), -I*sin(θ/2), 0], \n",
    "               [0, -I*sin(θ/2), cos(θ/2), 0], \n",
    "               [-I*sin(θ/2), 0, 0, cos(θ/2)]])\n",
    "\n",
    "Ryy = Matrix([[cos(θ/2), 0, 0, I*sin(θ/2)], \n",
    "               [0, cos(θ/2), -I*sin(θ/2), 0], \n",
    "               [0, -I*sin(θ/2), cos(θ/2), 0], \n",
    "               [I*sin(θ/2), 0, 0, cos(θ/2)]])\n",
    "\n",
    "Rzz = Matrix([[exp(- I*θ/2), 0, 0, 0], \n",
    "               [0, exp(I*θ/2), 0, 0], \n",
    "               [0, 0, exp(I*θ/2), 0], \n",
    "               [0, 0, 0, exp(-I*θ/2)]])\n",
    "\n",
    "# define Rxyz gate\n",
    "Rxyz = simplify(Rxx*Ryy*Rzz)\n",
    "\n",
    "# display RXX, RYY and RZZ gates\n",
    "if Rxx == Rxx_exp and Ryy == Ryy_exp and Rzz == Rzz_exp:\n",
    "    Rxx_equation = Eq(dv_Rxx, Rxx, evaluate = False)\n",
    "    Ryy_equation = Eq(dv_Ryy, Ryy, evaluate = False)\n",
    "    Rzz_equation = Eq(dv_Rzz, Rzz, evaluate = False)\n",
    "    Rxyz_equation = Eq(dv_Rxyz, Rxyz, evaluate = False)\n",
    "    display(Math(latex(Rxx_equation) + latex(Ryy_equation)))\n",
    "    display(Math(latex(Rzz_equation)))\n",
    "    display(Math(latex(Rxyz_equation)))"
   ]
  },
  {
   "cell_type": "code",
   "execution_count": null,
   "id": "774f7cab",
   "metadata": {},
   "outputs": [],
   "source": [
    "exp(-I*θ/2*(TensorProduct(σ_x, σ_x) + TensorProduct(σ_z, σ_z)))"
   ]
  },
  {
   "cell_type": "code",
   "execution_count": 7,
   "id": "dc770a74",
   "metadata": {
    "code_folding": []
   },
   "outputs": [],
   "source": [
    "# function to generate H_blue and H_red for a lattice of N_sites\n",
    "def generate_bue_red_operators(N, explicit_tensor_product):\n",
    "    \n",
    "    if explicit_tensor_product == True: \n",
    "        \n",
    "        # define RXX, RYY, and RZZ gates manually so that H_red \n",
    "        # and H_blue will have dimension 4^N\n",
    "        RXX = Matrix([[cos(θ/2), 0, 0, -I*sin(θ/2)], \n",
    "                       [0, cos(θ/2), -I*sin(θ/2), 0], \n",
    "                       [0, -I*sin(θ/2), cos(θ/2), 0], \n",
    "                       [-I*sin(θ/2), 0, 0, cos(θ/2)]])\n",
    "\n",
    "        RYY = Matrix([[cos(θ/2), 0, 0, I*sin(θ/2)], \n",
    "                       [0, cos(θ/2), -I*sin(θ/2), 0], \n",
    "                       [0, -I*sin(θ/2), cos(θ/2), 0], \n",
    "                       [I*sin(θ/2), 0, 0, cos(θ/2)]])\n",
    "\n",
    "        RZZ = Matrix([[exp(-I*λ*θ/2), 0, 0, 0], \n",
    "                       [0, exp(I*λ*θ/2), 0, 0], \n",
    "                       [0, 0, exp(I*λ*θ/2), 0], \n",
    "                       [0, 0, 0, exp(-I*λ*θ/2)]])\n",
    "        \n",
    "    elif explicit_tensor_product == False:\n",
    "        \n",
    "        # define RXX, RYY and RZZ gates with a matrix exponential\n",
    "        # so that H_blue and H_red will have \\otimes between Hilbert spaces\n",
    "        RXX = exp(-I*θ/2*TensorProduct(σ_x, σ_x)).simplify()\n",
    "        RYY = exp(-I*θ/2*TensorProduct(σ_y, σ_y)).simplify()\n",
    "        RZZ = exp(-I*λ*θ/2*TensorProduct(σ_z, σ_z))\n",
    "\n",
    "\n",
    "    # create empty lists for RXX, RYY, and RZZ operators \n",
    "    RXX_list, RYY_list, RZZ_list = [], [], []\n",
    "    \n",
    "    # display(TensorProduct(RXX, RZZ))\n",
    "\n",
    "    for i in range(N):\n",
    "\n",
    "        # define iterator that begins at 1 and ends at N\n",
    "        j = i + 1\n",
    "\n",
    "        if N == 1: \n",
    "            print(\"Please enter valid N greater than 2\")\n",
    "        elif j < N: \n",
    "\n",
    "            # creates identity matrices that will precede and follow \n",
    "            # the location of the RXX, RYY, or RZZ gate\n",
    "            pre_identities = [eye(2) for site in range(j - 1)]\n",
    "            post_identities = [eye(2) for site in range(N-j-1)]\n",
    "\n",
    "            # create RXX_j depending on value of j \n",
    "            if j == 1: \n",
    "                RXX_j = [RXX] + post_identities\n",
    "                RYY_j = [RYY] + post_identities\n",
    "                RZZ_j = [RZZ] + post_identities\n",
    "            elif j == (N - 1): \n",
    "                RXX_j = pre_identities + [RXX] \n",
    "                RYY_j = pre_identities + [RYY]\n",
    "                RZZ_j = pre_identities + [RZZ]\n",
    "            else: \n",
    "                RXX_j = pre_identities + [RXX] + post_identities\n",
    "                RYY_j = pre_identities + [RYY] + post_identities\n",
    "                RZZ_j = pre_identities + [RZZ] + post_identities\n",
    "\n",
    "            # append list of matrices to RXX_list, RYY_list, and RZZ_list\n",
    "            RXX_list.append(RXX_j)\n",
    "            RYY_list.append(RYY_j)\n",
    "            RZZ_list.append(RZZ_j)\n",
    "    \n",
    "    # compute the tensor product of each element in RXX_tensored_list, RYY_tensored_list, and RZZ_tensored_list; \n",
    "    # note for example that RZZ_tensored_list[j] imparts an RZZ gate on the jth and jth + 1\n",
    "    # spin in a spin chain of N sites\n",
    "    RXX_tensored_list = [TensorProduct(*element) for element in RXX_list]\n",
    "    RYY_tensored_list = [TensorProduct(*element) for element in RYY_list]\n",
    "    RZZ_tensored_list = [TensorProduct(*element) for element in RZZ_list]\n",
    "\n",
    "    # the \"zip\" iterator that produces tuples containing elements from the input iterables; \n",
    "    # here, we multiply elementwise the RXX, RYY and RZZ gates on the jth and jth + 1 spin so that \n",
    "    # RXYZ_tensored_list[j] imparts an RZZ, RYY, and then RXX gate upon the jth and jth + 1 spins\n",
    "    RXYZ_list = [simplify(xx*yy*zz) for xx, yy, zz in zip(RXX_tensored_list, RYY_tensored_list, RZZ_tensored_list)]\n",
    "\n",
    "    # multiply all RXYZ operators acting on odd lattice sites; this is an operator that applies\n",
    "    # an RZZ, RYY, then RXX rotation to all \"blue bonds\" in a 1D spin chain  \n",
    "    if N == 2: \n",
    "        RXYZ_odd_sites = Mul(*RXYZ_list)\n",
    "        \n",
    "        # return only Hamiltonian that for one bond \n",
    "        return RXYZ_odd_sites, None\n",
    "    else: \n",
    "    \n",
    "        RXYZ_odd_sites = reduce(lambda x, y: x*y, [matrix for index, matrix in enumerate(RXYZ_list) if index % 2 == 0])\n",
    "\n",
    "        # multiply all RXYZ operators acting on even lattice sites; this is an operator that applies\n",
    "        # an RZZ, RYY, then RXX rotation to all \"red bonds\" in a 1D spin chain \n",
    "        RXYZ_even_sites = reduce(lambda x, y: x*y, [matrix for index, matrix in enumerate(RXYZ_list) if index % 2 != 0])\n",
    "\n",
    "        return RXYZ_odd_sites, RXYZ_even_sites\n",
    "    \n",
    "# create function that trotterizes two matrices and returns \n",
    "trotter = lambda A, B, m: simplify((A*B)**m)\n",
    "\n",
    "N = 3\n",
    "R_B, R_R = generate_bue_red_operators(N, explicit_tensor_product = True)"
   ]
  },
  {
   "cell_type": "code",
   "execution_count": null,
   "id": "2cde4b20",
   "metadata": {},
   "outputs": [],
   "source": [
    "trotter(R_B, R_R, 3)"
   ]
  },
  {
   "cell_type": "code",
   "execution_count": 860,
   "id": "81ad2311",
   "metadata": {},
   "outputs": [
    {
     "data": {
      "text/latex": [
       "$\\displaystyle \\left[\\begin{matrix}e^{- 3 i θ λ} & 0 & 0 & 0 & 0 & 0 & 0 & 0\\\\0 & \\frac{\\left(\\cos{\\left(4 θ \\right)} - 1\\right) e^{i θ λ}}{4} - e^{2 i θ λ} \\sin^{2}{\\left(θ \\right)} \\cos^{3}{\\left(θ \\right)} + e^{i θ λ} \\sin^{4}{\\left(θ \\right)} + \\cos^{3}{\\left(θ \\right)} & i \\left(- e^{2 i θ λ} \\cos^{3}{\\left(θ \\right)} - 3 e^{i θ λ} \\cos^{2}{\\left(θ \\right)} + 2 e^{i θ λ} - \\cos{\\left(θ \\right)}\\right) \\sin{\\left(θ \\right)} \\cos{\\left(θ \\right)} & 0 & - \\left(e^{i θ λ} \\cos{\\left(θ \\right)} + 2\\right) \\sin^{2}{\\left(θ \\right)} \\cos{\\left(θ \\right)} & 0 & 0 & 0\\\\0 & i \\left(- \\left(1 - \\cos^{2}{\\left(θ \\right)}\\right)^{2} e^{2 i θ λ} - 2 e^{2 i θ λ} \\cos^{2}{\\left(θ \\right)} + e^{2 i θ λ} - 4 e^{i θ λ} \\cos^{3}{\\left(θ \\right)} + 3 e^{i θ λ} \\cos{\\left(θ \\right)} - 3 \\cos^{2}{\\left(θ \\right)} + 2\\right) e^{i θ λ} \\sin{\\left(θ \\right)} \\cos{\\left(θ \\right)} & \\left(e^{2 i θ λ} \\cos^{6}{\\left(θ \\right)} - 4 e^{i θ λ} \\sin^{2}{\\left(θ \\right)} \\cos^{3}{\\left(θ \\right)} + \\sin^{4}{\\left(θ \\right)} + \\frac{\\cos{\\left(4 θ \\right)}}{4} - \\frac{1}{4}\\right) e^{i θ λ} & 0 & i \\left(- e^{2 i θ λ} \\cos^{3}{\\left(θ \\right)} - 3 e^{i θ λ} \\cos^{2}{\\left(θ \\right)} + 2 e^{i θ λ} - \\cos{\\left(θ \\right)}\\right) \\sin{\\left(θ \\right)} \\cos{\\left(θ \\right)} & 0 & 0 & 0\\\\0 & 0 & 0 & \\frac{\\left(\\cos{\\left(4 θ \\right)} - 1\\right) e^{i θ λ}}{4} - e^{2 i θ λ} \\sin^{2}{\\left(θ \\right)} \\cos^{3}{\\left(θ \\right)} + e^{i θ λ} \\sin^{4}{\\left(θ \\right)} + \\cos^{3}{\\left(θ \\right)} & 0 & i \\left(- \\left(1 - \\cos^{2}{\\left(θ \\right)}\\right)^{2} e^{2 i θ λ} - 2 e^{2 i θ λ} \\cos^{2}{\\left(θ \\right)} + e^{2 i θ λ} - 4 e^{i θ λ} \\cos^{3}{\\left(θ \\right)} + 3 e^{i θ λ} \\cos{\\left(θ \\right)} - 3 \\cos^{2}{\\left(θ \\right)} + 2\\right) e^{i θ λ} \\sin{\\left(θ \\right)} \\cos{\\left(θ \\right)} & \\left(- e^{2 i θ λ} \\cos^{3}{\\left(θ \\right)} - 4 e^{i θ λ} \\cos^{2}{\\left(θ \\right)} + 2 e^{i θ λ} - 3 \\cos{\\left(θ \\right)}\\right) e^{i θ λ} \\sin^{2}{\\left(θ \\right)} \\cos{\\left(θ \\right)} & 0\\\\0 & \\left(- e^{2 i θ λ} \\cos^{3}{\\left(θ \\right)} - 4 e^{i θ λ} \\cos^{2}{\\left(θ \\right)} + 2 e^{i θ λ} - 3 \\cos{\\left(θ \\right)}\\right) e^{i θ λ} \\sin^{2}{\\left(θ \\right)} \\cos{\\left(θ \\right)} & i \\left(- \\left(1 - \\cos^{2}{\\left(θ \\right)}\\right)^{2} e^{2 i θ λ} - 2 e^{2 i θ λ} \\cos^{2}{\\left(θ \\right)} + e^{2 i θ λ} - 4 e^{i θ λ} \\cos^{3}{\\left(θ \\right)} + 3 e^{i θ λ} \\cos{\\left(θ \\right)} - 3 \\cos^{2}{\\left(θ \\right)} + 2\\right) e^{i θ λ} \\sin{\\left(θ \\right)} \\cos{\\left(θ \\right)} & 0 & \\frac{\\left(\\cos{\\left(4 θ \\right)} - 1\\right) e^{i θ λ}}{4} - e^{2 i θ λ} \\sin^{2}{\\left(θ \\right)} \\cos^{3}{\\left(θ \\right)} + e^{i θ λ} \\sin^{4}{\\left(θ \\right)} + \\cos^{3}{\\left(θ \\right)} & 0 & 0 & 0\\\\0 & 0 & 0 & i \\left(- e^{2 i θ λ} \\cos^{3}{\\left(θ \\right)} - 3 e^{i θ λ} \\cos^{2}{\\left(θ \\right)} + 2 e^{i θ λ} - \\cos{\\left(θ \\right)}\\right) \\sin{\\left(θ \\right)} \\cos{\\left(θ \\right)} & 0 & \\left(e^{2 i θ λ} \\cos^{6}{\\left(θ \\right)} - 4 e^{i θ λ} \\sin^{2}{\\left(θ \\right)} \\cos^{3}{\\left(θ \\right)} + \\sin^{4}{\\left(θ \\right)} + \\frac{\\cos{\\left(4 θ \\right)}}{4} - \\frac{1}{4}\\right) e^{i θ λ} & i \\left(- \\left(1 - \\cos^{2}{\\left(θ \\right)}\\right)^{2} e^{2 i θ λ} - 2 e^{2 i θ λ} \\cos^{2}{\\left(θ \\right)} + e^{2 i θ λ} - 4 e^{i θ λ} \\cos^{3}{\\left(θ \\right)} + 3 e^{i θ λ} \\cos{\\left(θ \\right)} - 3 \\cos^{2}{\\left(θ \\right)} + 2\\right) e^{i θ λ} \\sin{\\left(θ \\right)} \\cos{\\left(θ \\right)} & 0\\\\0 & 0 & 0 & - \\left(e^{i θ λ} \\cos{\\left(θ \\right)} + 2\\right) \\sin^{2}{\\left(θ \\right)} \\cos{\\left(θ \\right)} & 0 & i \\left(- e^{2 i θ λ} \\cos^{3}{\\left(θ \\right)} - 3 e^{i θ λ} \\cos^{2}{\\left(θ \\right)} + 2 e^{i θ λ} - \\cos{\\left(θ \\right)}\\right) \\sin{\\left(θ \\right)} \\cos{\\left(θ \\right)} & \\frac{\\left(\\cos{\\left(4 θ \\right)} - 1\\right) e^{i θ λ}}{4} - e^{2 i θ λ} \\sin^{2}{\\left(θ \\right)} \\cos^{3}{\\left(θ \\right)} + e^{i θ λ} \\sin^{4}{\\left(θ \\right)} + \\cos^{3}{\\left(θ \\right)} & 0\\\\0 & 0 & 0 & 0 & 0 & 0 & 0 & e^{- 3 i θ λ}\\end{matrix}\\right]=$"
      ],
      "text/plain": [
       "<IPython.core.display.Math object>"
      ]
     },
     "metadata": {},
     "output_type": "display_data"
    },
    {
     "data": {
      "text/latex": [
       "$\\displaystyle \\left[\\begin{matrix}1 - 3 i θ λ - \\frac{9 θ^{2} λ^{2}}{2} + \\frac{9 i θ^{3} λ^{3}}{2} + O\\left(θ^{4}\\right) & 0 & 0 & 0 & 0 & 0 & 0 & 0\\\\0 & 1 - \\frac{9 θ^{2}}{2} - 4 i θ^{3} λ + O\\left(θ^{4}\\right) & - 3 i θ + 3 θ^{2} λ + θ^{3} \\cdot \\left(\\frac{5 i λ^{2}}{2} + 7 i\\right) + O\\left(θ^{4}\\right) & 0 & - 3 θ^{2} - i θ^{3} λ + O\\left(θ^{4}\\right) & 0 & 0 & 0\\\\0 & - 3 i θ + 6 θ^{2} λ + θ^{3} \\cdot \\left(7 i λ^{2} + \\frac{23 i}{2}\\right) + O\\left(θ^{4}\\right) & 1 + 3 i θ λ + θ^{2} \\left(- \\frac{9 λ^{2}}{2} - 9\\right) + θ^{3} \\left(- \\frac{9 i λ^{3}}{2} - 19 i λ\\right) + O\\left(θ^{4}\\right) & 0 & - 3 i θ + 3 θ^{2} λ + θ^{3} \\cdot \\left(\\frac{5 i λ^{2}}{2} + 7 i\\right) + O\\left(θ^{4}\\right) & 0 & 0 & 0\\\\0 & 0 & 0 & 1 - \\frac{9 θ^{2}}{2} - 4 i θ^{3} λ + O\\left(θ^{4}\\right) & 0 & - 3 i θ + 6 θ^{2} λ + θ^{3} \\cdot \\left(7 i λ^{2} + \\frac{23 i}{2}\\right) + O\\left(θ^{4}\\right) & - 6 θ^{2} - 10 i θ^{3} λ + O\\left(θ^{4}\\right) & 0\\\\0 & - 6 θ^{2} - 10 i θ^{3} λ + O\\left(θ^{4}\\right) & - 3 i θ + 6 θ^{2} λ + θ^{3} \\cdot \\left(7 i λ^{2} + \\frac{23 i}{2}\\right) + O\\left(θ^{4}\\right) & 0 & 1 - \\frac{9 θ^{2}}{2} - 4 i θ^{3} λ + O\\left(θ^{4}\\right) & 0 & 0 & 0\\\\0 & 0 & 0 & - 3 i θ + 3 θ^{2} λ + θ^{3} \\cdot \\left(\\frac{5 i λ^{2}}{2} + 7 i\\right) + O\\left(θ^{4}\\right) & 0 & 1 + 3 i θ λ + θ^{2} \\left(- \\frac{9 λ^{2}}{2} - 9\\right) + θ^{3} \\left(- \\frac{9 i λ^{3}}{2} - 19 i λ\\right) + O\\left(θ^{4}\\right) & - 3 i θ + 6 θ^{2} λ + θ^{3} \\cdot \\left(7 i λ^{2} + \\frac{23 i}{2}\\right) + O\\left(θ^{4}\\right) & 0\\\\0 & 0 & 0 & - 3 θ^{2} - i θ^{3} λ + O\\left(θ^{4}\\right) & 0 & - 3 i θ + 3 θ^{2} λ + θ^{3} \\cdot \\left(\\frac{5 i λ^{2}}{2} + 7 i\\right) + O\\left(θ^{4}\\right) & 1 - \\frac{9 θ^{2}}{2} - 4 i θ^{3} λ + O\\left(θ^{4}\\right) & 0\\\\0 & 0 & 0 & 0 & 0 & 0 & 0 & 1 - 3 i θ λ - \\frac{9 θ^{2} λ^{2}}{2} + \\frac{9 i θ^{3} λ^{3}}{2} + O\\left(θ^{4}\\right)\\end{matrix}\\right]$"
      ],
      "text/plain": [
       "Matrix([\n",
       "[1 - 3*I*θ*λ - 9*θ**2*λ**2/2 + 9*I*θ**3*λ**3/2 + O(θ**4),                                                      0,                                                                          0,                                                     0,                                                     0,                                                                          0,                                                      0,                                                       0],\n",
       "[                                                      0,                    1 - 9*θ**2/2 - 4*I*θ**3*λ + O(θ**4),                      -3*I*θ + 3*θ**2*λ + θ**3*(5*I*λ**2/2 + 7*I) + O(θ**4),                                                     0,                          -3*θ**2 - I*θ**3*λ + O(θ**4),                                                                          0,                                                      0,                                                       0],\n",
       "[                                                      0, -3*I*θ + 6*θ**2*λ + θ**3*(7*I*λ**2 + 23*I/2) + O(θ**4), 1 + 3*I*θ*λ + θ**2*(-9*λ**2/2 - 9) + θ**3*(-9*I*λ**3/2 - 19*I*λ) + O(θ**4),                                                     0, -3*I*θ + 3*θ**2*λ + θ**3*(5*I*λ**2/2 + 7*I) + O(θ**4),                                                                          0,                                                      0,                                                       0],\n",
       "[                                                      0,                                                      0,                                                                          0,                   1 - 9*θ**2/2 - 4*I*θ**3*λ + O(θ**4),                                                     0,                     -3*I*θ + 6*θ**2*λ + θ**3*(7*I*λ**2 + 23*I/2) + O(θ**4),                        -6*θ**2 - 10*I*θ**3*λ + O(θ**4),                                                       0],\n",
       "[                                                      0,                        -6*θ**2 - 10*I*θ**3*λ + O(θ**4),                     -3*I*θ + 6*θ**2*λ + θ**3*(7*I*λ**2 + 23*I/2) + O(θ**4),                                                     0,                   1 - 9*θ**2/2 - 4*I*θ**3*λ + O(θ**4),                                                                          0,                                                      0,                                                       0],\n",
       "[                                                      0,                                                      0,                                                                          0, -3*I*θ + 3*θ**2*λ + θ**3*(5*I*λ**2/2 + 7*I) + O(θ**4),                                                     0, 1 + 3*I*θ*λ + θ**2*(-9*λ**2/2 - 9) + θ**3*(-9*I*λ**3/2 - 19*I*λ) + O(θ**4), -3*I*θ + 6*θ**2*λ + θ**3*(7*I*λ**2 + 23*I/2) + O(θ**4),                                                       0],\n",
       "[                                                      0,                                                      0,                                                                          0,                          -3*θ**2 - I*θ**3*λ + O(θ**4),                                                     0,                      -3*I*θ + 3*θ**2*λ + θ**3*(5*I*λ**2/2 + 7*I) + O(θ**4),                    1 - 9*θ**2/2 - 4*I*θ**3*λ + O(θ**4),                                                       0],\n",
       "[                                                      0,                                                      0,                                                                          0,                                                     0,                                                     0,                                                                          0,                                                      0, 1 - 3*I*θ*λ - 9*θ**2*λ**2/2 + 9*I*θ**3*λ**3/2 + O(θ**4)]])"
      ]
     },
     "execution_count": 860,
     "metadata": {},
     "output_type": "execute_result"
    }
   ],
   "source": [
    "expand_exponential(trot, θ, 0, 3)"
   ]
  },
  {
   "cell_type": "code",
   "execution_count": null,
   "id": "20113e18",
   "metadata": {},
   "outputs": [],
   "source": []
  },
  {
   "cell_type": "code",
   "execution_count": null,
   "id": "77436ed0",
   "metadata": {},
   "outputs": [],
   "source": []
  },
  {
   "cell_type": "markdown",
   "id": "1667d1fa",
   "metadata": {},
   "source": [
    "# $e^{-i\\hat{H}t} = e^{-i\\left( \\hat{H}_0 + \\hat{H}_1 \\right)t} \\approx \\left( e^{-\\frac{i\\hat{H}_0 t}{m}} e^{-\\frac{i\\hat{H}_1 t}{m}} \\right)^m $"
   ]
  },
  {
   "cell_type": "code",
   "execution_count": 9,
   "id": "fe5ac6d6",
   "metadata": {
    "code_folding": []
   },
   "outputs": [
    {
     "data": {
      "text/latex": [
       "$\\displaystyle \\hat{I}_1\\hat{I}_2 = \\left[\\begin{matrix}1 & 0 & 0 & 0\\\\0 & 1 & 0 & 0\\\\0 & 0 & 1 & 0\\\\0 & 0 & 0 & 1\\end{matrix}\\right]\\hat{X}_{1}\\hat{X}_{2} = \\left[\\begin{matrix}0 & 0 & 0 & 1\\\\0 & 0 & 1 & 0\\\\0 & 1 & 0 & 0\\\\1 & 0 & 0 & 0\\end{matrix}\\right]\\hat{Y}_{1}\\hat{Y}_{2} = \\left[\\begin{matrix}0 & 0 & 0 & -1\\\\0 & 0 & 1 & 0\\\\0 & 1 & 0 & 0\\\\-1 & 0 & 0 & 0\\end{matrix}\\right]\\hat{Z}_{1}\\hat{Z}_{2} = \\left[\\begin{matrix}1 & 0 & 0 & 0\\\\0 & -1 & 0 & 0\\\\0 & 0 & -1 & 0\\\\0 & 0 & 0 & 1\\end{matrix}\\right]$"
      ],
      "text/plain": [
       "<IPython.core.display.Math object>"
      ]
     },
     "metadata": {},
     "output_type": "display_data"
    }
   ],
   "source": [
    "# define symbolic scalars and \"dummy variables\" for matrices \n",
    "dv_U, dv_U_0, dv_U_1, dv_H, dv_H_0, dv_H_1, dv_II, dv_XX, dv_YY, dv_ZZ, t, λ = symbols(\n",
    "    \"\"\" \\hat{U}, \\hat{U}_0, \\hat{U}_1, \\hat{H}, \\hat{H}_0, \\hat{H}_1, \\hat{I}_1\\hat{I}_2, \n",
    "    \\hat{X}_{1}\\hat{X}_{2}, \\hat{Y}_{1}\\hat{Y}_{2}, \\hat{Z}_{1}\\hat{Z}_{2}, t, λ \"\"\")\n",
    "\n",
    "# define symbolic matrices \n",
    "X1 = MatrixSymbol('\\hat{X}_1', 4, 4)\n",
    "X2 = MatrixSymbol('\\hat{X}_2', 4, 4)\n",
    "Y1 = MatrixSymbol('\\hat{Y}_1', 4, 4)\n",
    "Y2 = MatrixSymbol('\\hat{Y}_2', 4, 4)\n",
    "Z1 = MatrixSymbol('\\hat{Z}_1', 4, 4)\n",
    "Z2 = MatrixSymbol('\\hat{Z}_2', 4, 4)\n",
    "\n",
    "# calculate tensor product of II, XX, YY, and ZZ\n",
    "tensor_II = TensorProduct(eye(2), eye(2))\n",
    "tensor_XX = TensorProduct(σ_x, σ_x)\n",
    "tensor_YY = TensorProduct(σ_y, σ_y)\n",
    "tensor_ZZ = TensorProduct(σ_z, σ_z)\n",
    "\n",
    "# display tensor products in matrix form \n",
    "II_equation = Eq(dv_II, tensor_II, evaluate = False)\n",
    "XX_equation = Eq(dv_XX, tensor_XX, evaluate = False)\n",
    "YY_equation = Eq(dv_YY, tensor_YY, evaluate = False) \n",
    "ZZ_equation = Eq(dv_ZZ, tensor_ZZ, evaluate = False)\n",
    "display(Math(latex(II_equation) + latex(XX_equation) + latex(YY_equation) + latex(ZZ_equation)))"
   ]
  },
  {
   "cell_type": "code",
   "execution_count": 14,
   "id": "db01f4d1",
   "metadata": {},
   "outputs": [
    {
     "data": {
      "text/latex": [
       "$\\displaystyle \\left[\\begin{matrix}1 & 0 & 0 & 0\\\\0 & \\frac{e^{i θ}}{2} + \\frac{e^{- i θ}}{2} & - \\frac{e^{i θ}}{2} + \\frac{e^{- i θ}}{2} & 0\\\\0 & - \\frac{e^{i θ}}{2} + \\frac{e^{- i θ}}{2} & \\frac{e^{i θ}}{2} + \\frac{e^{- i θ}}{2} & 0\\\\0 & 0 & 0 & 1\\end{matrix}\\right]$"
      ],
      "text/plain": [
       "Matrix([\n",
       "[1,                         0,                         0, 0],\n",
       "[0,  exp(I*θ)/2 + exp(-I*θ)/2, -exp(I*θ)/2 + exp(-I*θ)/2, 0],\n",
       "[0, -exp(I*θ)/2 + exp(-I*θ)/2,  exp(I*θ)/2 + exp(-I*θ)/2, 0],\n",
       "[0,                         0,                         0, 1]])"
      ]
     },
     "execution_count": 14,
     "metadata": {},
     "output_type": "execute_result"
    }
   ],
   "source": [
    "H = tensor_XX + tensor_YY \n",
    "exp(-I*θ/2 *H)"
   ]
  },
  {
   "cell_type": "code",
   "execution_count": null,
   "id": "29ba2d25",
   "metadata": {},
   "outputs": [],
   "source": [
    "# display Hamiltonians \n",
    "H_0 = X1*X2 + Y1*Y2\n",
    "H_1 = λ*Z1*Z2\n",
    "H = H_0 + H_1\n",
    "display(Eq(dv_H, dv_H_0 + dv_H_1))\n",
    "display(Eq(dv_H_0, H_0, evaluate = False))\n",
    "display(Eq(dv_H_1, H_1, evaluate = False))\n",
    "\n",
    "# display matrix exponential to Trotterize\n",
    "U = exp(-i * t * (H_0 + H_1))\n",
    "display(Math(latex(dv_U) + latex(equal) + latex(U)))"
   ]
  },
  {
   "cell_type": "markdown",
   "id": "e3db49aa",
   "metadata": {},
   "source": [
    "Since $ \\left[\\hat{X}_1 \\hat{X}_2, \\hat{Y}_1 \\hat{Y}_2 \\right] = 0 $ then"
   ]
  },
  {
   "cell_type": "code",
   "execution_count": null,
   "id": "ccdbd77f",
   "metadata": {},
   "outputs": [],
   "source": [
    "U_trotter = trotterize_neighbor(X1*X2, Y1*Y2, λ*Z1*Z2, 3, expand = True)\n",
    "display(U_trotter)"
   ]
  },
  {
   "cell_type": "code",
   "execution_count": null,
   "id": "fd5136c7",
   "metadata": {},
   "outputs": [],
   "source": [
    "U_trotter = trotterize_neighbor(tensor_XX, tensor_YY, λ*tensor_ZZ,  3, expand = True)\n",
    "display(U_trotter)"
   ]
  },
  {
   "cell_type": "code",
   "execution_count": null,
   "id": "86d40039",
   "metadata": {},
   "outputs": [],
   "source": [
    "n = 1\n",
    "r1 = exp(-i*θ*(tensor_XX + tensor_YY + λ*tensor_ZZ))\n",
    "r2 = ((exp(-i*θ/n*tensor_XX)*exp(-i*θ/n*tensor_YY)*exp(-λ*i*θ/n*tensor_ZZ))**n).expand()\n",
    "display(Eq(U, r1, evaluate = False))\n",
    "display()"
   ]
  },
  {
   "cell_type": "code",
   "execution_count": null,
   "id": "9f7a89d9",
   "metadata": {},
   "outputs": [],
   "source": []
  },
  {
   "cell_type": "code",
   "execution_count": null,
   "id": "140c0306",
   "metadata": {},
   "outputs": [],
   "source": [
    "mat2 = trotterize(tensor_XX + tensor_YY, λ*tensor_ZZ, 4, expand = True)"
   ]
  },
  {
   "cell_type": "code",
   "execution_count": null,
   "id": "c418bed6",
   "metadata": {},
   "outputs": [],
   "source": [
    "expand_exponential(U_trotter, θ, 0, 10)"
   ]
  },
  {
   "cell_type": "code",
   "execution_count": null,
   "id": "463d4ddd",
   "metadata": {},
   "outputs": [],
   "source": [
    "expand_exponential(mat2, θ, 0, 10)"
   ]
  },
  {
   "cell_type": "markdown",
   "id": "0307b5ad",
   "metadata": {
    "heading_collapsed": true
   },
   "source": [
    "# Error Analysis"
   ]
  },
  {
   "cell_type": "code",
   "execution_count": null,
   "id": "6154ebe7",
   "metadata": {
    "hidden": true
   },
   "outputs": [],
   "source": [
    "# define symbolic matrices\n",
    "H = MatrixSymbol('H', 2, 2)\n",
    "H_0 = MatrixSymbol('H_0', 2, 2)\n",
    "H_1 = MatrixSymbol('H_1', 2, 2)\n",
    "U = MatrixSymbol('U', 2, 2)\n",
    "U_0 = MatrixSymbol('U_0', 2, 2)\n",
    "U_1 = MatrixSymbol('U_1', 2, 2)\n",
    "x = symbols('x')"
   ]
  },
  {
   "cell_type": "code",
   "execution_count": 25,
   "id": "efadfbaa",
   "metadata": {
    "hidden": true
   },
   "outputs": [
    {
     "data": {
      "text/latex": [
       "$\\displaystyle \\left[\\begin{matrix}\\cos{\\left(x \\right)} & - \\sin{\\left(x \\right)}\\\\\\sin{\\left(x \\right)} & \\cos{\\left(x \\right)}\\end{matrix}\\right]$"
      ],
      "text/plain": [
       "Matrix([\n",
       "[cos(x), -sin(x)],\n",
       "[sin(x),  cos(x)]])"
      ]
     },
     "execution_count": 25,
     "metadata": {},
     "output_type": "execute_result"
    }
   ],
   "source": [
    "A = Matrix([[cos(x), -sin(x)], [sin(x), cos(x)]])\n",
    "A"
   ]
  },
  {
   "cell_type": "code",
   "execution_count": 26,
   "id": "e4a73b97",
   "metadata": {
    "code_folding": [
     0
    ],
    "hidden": true
   },
   "outputs": [],
   "source": [
    "def expand_exponential(A, x, x_0, order):\n",
    "    \"\"\"\n",
    "    Expands matrix exponential in variable x, about x_0, and to order 'order'\n",
    "\n",
    "    Args:\n",
    "        A: matrix we will expand\n",
    "        x: variable in which we will expand A\n",
    "        x_0: variable about which we will expand A\n",
    "        order: the order to which we will truncate the expansion\n",
    "\n",
    "    Returns:\n",
    "        returns expanded matrix exponential\n",
    "    \"\"\"\n",
    "    # collect rows and columns of matrix A\n",
    "    rows, columns = A.shape\n",
    "    \n",
    "    # create series_matrix with only NaN entries, which we will later fill \n",
    "    series_matrix = Matrix(rows, columns, lambda i, j: nan)\n",
    "    \n",
    "    # expand matrix exponential in x, about x_0, and up to order 'order'\n",
    "    for (row_index, column_index), element in np.ndenumerate(A):\n",
    "        expanded_element = element.series(x, x_0, order)\n",
    "        series_matrix[row_index, column_index] = expanded_element\n",
    "\n",
    "    # return series_matrix only if all NaNs have been replaced\n",
    "    if not series_matrix.has(nan):\n",
    "        return series_matrix\n",
    "    else:\n",
    "        print('There are NaNs that must be replaced')"
   ]
  },
  {
   "cell_type": "code",
   "execution_count": 27,
   "id": "b55991a7",
   "metadata": {
    "hidden": true
   },
   "outputs": [
    {
     "data": {
      "text/latex": [
       "$\\displaystyle \\left[\\begin{matrix}1 - \\frac{x^{2}}{2} + \\frac{x^{4}}{24} - \\frac{x^{6}}{720} + O\\left(x^{7}\\right) & - x + \\frac{x^{3}}{6} - \\frac{x^{5}}{120} + O\\left(x^{7}\\right)\\\\x - \\frac{x^{3}}{6} + \\frac{x^{5}}{120} + O\\left(x^{7}\\right) & 1 - \\frac{x^{2}}{2} + \\frac{x^{4}}{24} - \\frac{x^{6}}{720} + O\\left(x^{7}\\right)\\end{matrix}\\right]$"
      ],
      "text/plain": [
       "Matrix([\n",
       "[1 - x**2/2 + x**4/24 - x**6/720 + O(x**7),          -x + x**3/6 - x**5/120 + O(x**7)],\n",
       "[          x - x**3/6 + x**5/120 + O(x**7), 1 - x**2/2 + x**4/24 - x**6/720 + O(x**7)]])"
      ]
     },
     "execution_count": 27,
     "metadata": {},
     "output_type": "execute_result"
    }
   ],
   "source": [
    "expand_exponential(A, x, 0, 7)"
   ]
  },
  {
   "cell_type": "code",
   "execution_count": null,
   "id": "4da006d3",
   "metadata": {
    "hidden": true
   },
   "outputs": [],
   "source": []
  }
 ],
 "metadata": {
  "kernelspec": {
   "display_name": "Python 3 (ipykernel)",
   "language": "python",
   "name": "python3"
  },
  "language_info": {
   "codemirror_mode": {
    "name": "ipython",
    "version": 3
   },
   "file_extension": ".py",
   "mimetype": "text/x-python",
   "name": "python",
   "nbconvert_exporter": "python",
   "pygments_lexer": "ipython3",
   "version": "3.9.12"
  },
  "varInspector": {
   "cols": {
    "lenName": 16,
    "lenType": 16,
    "lenVar": 40
   },
   "kernels_config": {
    "python": {
     "delete_cmd_postfix": "",
     "delete_cmd_prefix": "del ",
     "library": "var_list.py",
     "varRefreshCmd": "print(var_dic_list())"
    },
    "r": {
     "delete_cmd_postfix": ") ",
     "delete_cmd_prefix": "rm(",
     "library": "var_list.r",
     "varRefreshCmd": "cat(var_dic_list()) "
    }
   },
   "types_to_exclude": [
    "module",
    "function",
    "builtin_function_or_method",
    "instance",
    "_Feature"
   ],
   "window_display": false
  }
 },
 "nbformat": 4,
 "nbformat_minor": 5
}
