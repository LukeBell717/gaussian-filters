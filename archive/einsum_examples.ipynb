{
 "cells": [
  {
   "cell_type": "code",
   "execution_count": 20,
   "id": "f796ef07",
   "metadata": {},
   "outputs": [],
   "source": [
    "import numpy as np"
   ]
  },
  {
   "cell_type": "markdown",
   "id": "17f0793d",
   "metadata": {
    "heading_collapsed": true
   },
   "source": [
    "# Vectors Warmup"
   ]
  },
  {
   "cell_type": "code",
   "execution_count": 21,
   "id": "e8e97c41",
   "metadata": {
    "hidden": true
   },
   "outputs": [
    {
     "name": "stdout",
     "output_type": "stream",
     "text": [
      "x = [0 1 2 3]\n",
      "y = [4 5 6 7]\n"
     ]
    }
   ],
   "source": [
    "x = np.array([0,1,2,3])\n",
    "print('x = ' + str(x))\n",
    "y = np.array([4,5,6,7])\n",
    "print('y = ' + str(y))"
   ]
  },
  {
   "cell_type": "code",
   "execution_count": 22,
   "id": "83c9804d",
   "metadata": {
    "hidden": true
   },
   "outputs": [
    {
     "data": {
      "text/plain": [
       "38"
      ]
     },
     "execution_count": 22,
     "metadata": {},
     "output_type": "execute_result"
    }
   ],
   "source": [
    "# dot product\n",
    "np.einsum('i,i->', x, y)"
   ]
  },
  {
   "cell_type": "code",
   "execution_count": 23,
   "id": "864f5f63",
   "metadata": {
    "hidden": true
   },
   "outputs": [
    {
     "data": {
      "text/plain": [
       "array([[ 0,  0,  0,  0],\n",
       "       [ 4,  5,  6,  7],\n",
       "       [ 8, 10, 12, 14],\n",
       "       [12, 15, 18, 21]])"
      ]
     },
     "execution_count": 23,
     "metadata": {},
     "output_type": "execute_result"
    }
   ],
   "source": [
    "# outer product\n",
    "np.einsum(\"i,j->ij\", x, y)"
   ]
  },
  {
   "cell_type": "code",
   "execution_count": 24,
   "id": "07a78029",
   "metadata": {
    "hidden": true
   },
   "outputs": [
    {
     "data": {
      "text/plain": [
       "array([ 0,  5, 12, 21])"
      ]
     },
     "execution_count": 24,
     "metadata": {},
     "output_type": "execute_result"
    }
   ],
   "source": [
    "# compute Hadamard product\n",
    "np.einsum('i,i -> i', x, y)"
   ]
  },
  {
   "cell_type": "code",
   "execution_count": 25,
   "id": "d797d73c",
   "metadata": {
    "hidden": true
   },
   "outputs": [
    {
     "data": {
      "text/plain": [
       "132"
      ]
     },
     "execution_count": 25,
     "metadata": {},
     "output_type": "execute_result"
    }
   ],
   "source": [
    "# compute double sum over indices of A and B\n",
    "np.einsum('i,j ->', x, y)"
   ]
  },
  {
   "cell_type": "code",
   "execution_count": 26,
   "id": "82ac593f",
   "metadata": {
    "hidden": true
   },
   "outputs": [
    {
     "data": {
      "text/plain": [
       "array([ 0, 22, 44, 66])"
      ]
     },
     "execution_count": 26,
     "metadata": {},
     "output_type": "execute_result"
    }
   ],
   "source": [
    "# compute x_i * (y1 + y2 + y3 + y4) for all i \n",
    "np.einsum('i,j -> i', x, y)"
   ]
  },
  {
   "cell_type": "code",
   "execution_count": 31,
   "id": "cf450b61",
   "metadata": {
    "hidden": true
   },
   "outputs": [
    {
     "data": {
      "text/plain": [
       "6"
      ]
     },
     "metadata": {},
     "output_type": "display_data"
    },
    {
     "data": {
      "text/plain": [
       "22"
      ]
     },
     "metadata": {},
     "output_type": "display_data"
    }
   ],
   "source": [
    "# sum all entries in the vector\n",
    "display(np.einsum('i ->', x))\n",
    "display(np.einsum('i ->', y))"
   ]
  },
  {
   "cell_type": "code",
   "execution_count": 37,
   "id": "da17875a",
   "metadata": {
    "hidden": true
   },
   "outputs": [
    {
     "data": {
      "text/plain": [
       "(3, 4, 5)"
      ]
     },
     "execution_count": 37,
     "metadata": {},
     "output_type": "execute_result"
    }
   ],
   "source": [
    "# reshape the dimensions of the matrix \n",
    "z = np.ones((5,4,3))\n",
    "np.einsum('ijk -> kji', z).shape"
   ]
  },
  {
   "cell_type": "markdown",
   "id": "dce9d27b",
   "metadata": {
    "heading_collapsed": true
   },
   "source": [
    "# Matrices Warmup"
   ]
  },
  {
   "cell_type": "code",
   "execution_count": 17,
   "id": "aea9e4a2",
   "metadata": {
    "hidden": true
   },
   "outputs": [
    {
     "name": "stdout",
     "output_type": "stream",
     "text": [
      "C = \n",
      "[[0 1]\n",
      " [2 3]]\n",
      "D = \n",
      "[[4 5]\n",
      " [6 7]]\n"
     ]
    }
   ],
   "source": [
    "C = np.array([[0, 1], [2, 3]])\n",
    "D = np.array([[4, 5], [6, 7]])\n",
    "print('C = \\n' + str(C))\n",
    "print('D = \\n' + str(D))"
   ]
  },
  {
   "cell_type": "code",
   "execution_count": 18,
   "id": "96da20a6",
   "metadata": {
    "hidden": true
   },
   "outputs": [
    {
     "data": {
      "text/plain": [
       "array([[ 6,  7],\n",
       "       [26, 31]])"
      ]
     },
     "execution_count": 18,
     "metadata": {},
     "output_type": "execute_result"
    }
   ],
   "source": [
    "# compute matrix multiplication \n",
    "np.einsum('ij,jk -> ik', C, D)"
   ]
  },
  {
   "cell_type": "code",
   "execution_count": 19,
   "id": "42bcfe03",
   "metadata": {
    "hidden": true
   },
   "outputs": [
    {
     "data": {
      "text/plain": [
       "37"
      ]
     },
     "execution_count": 19,
     "metadata": {},
     "output_type": "execute_result"
    }
   ],
   "source": [
    "# compute sum of Cij * Dji\n",
    "np.einsum('ij, ji ->', C, D)"
   ]
  },
  {
   "cell_type": "markdown",
   "id": "a16b1a44",
   "metadata": {},
   "source": [
    "# Exercises"
   ]
  },
  {
   "cell_type": "code",
   "execution_count": 57,
   "id": "5155d298",
   "metadata": {},
   "outputs": [
    {
     "name": "stdout",
     "output_type": "stream",
     "text": [
      "A = \n",
      "[[0 1 2]\n",
      " [3 4 5]]\n",
      "x = \n",
      "[[1 2 3]]\n"
     ]
    }
   ],
   "source": [
    "A = np.array([[0, 1, 2], [3, 4, 5]])\n",
    "x = np.array([[1, 2, 3]])\n",
    "print('A = \\n' + str(A))\n",
    "print('x = \\n' + str(x))"
   ]
  },
  {
   "cell_type": "code",
   "execution_count": 58,
   "id": "a7bae102",
   "metadata": {},
   "outputs": [
    {
     "data": {
      "text/plain": [
       "array([[0, 3],\n",
       "       [1, 4],\n",
       "       [2, 5]])"
      ]
     },
     "execution_count": 58,
     "metadata": {},
     "output_type": "execute_result"
    }
   ],
   "source": [
    "# transpose the matrix\n",
    "np.einsum('ij -> ji', A)"
   ]
  },
  {
   "cell_type": "code",
   "execution_count": 59,
   "id": "97f8f410",
   "metadata": {},
   "outputs": [
    {
     "data": {
      "text/plain": [
       "15"
      ]
     },
     "execution_count": 59,
     "metadata": {},
     "output_type": "execute_result"
    }
   ],
   "source": [
    "# sum all the elements \n",
    "np.einsum('ij ->', A)"
   ]
  },
  {
   "cell_type": "code",
   "execution_count": 60,
   "id": "fedaa9e1",
   "metadata": {},
   "outputs": [
    {
     "data": {
      "text/plain": [
       "array([3, 5, 7])"
      ]
     },
     "execution_count": 60,
     "metadata": {},
     "output_type": "execute_result"
    }
   ],
   "source": [
    "# column sum of A\n",
    "np.einsum('ij -> j', A)"
   ]
  },
  {
   "cell_type": "code",
   "execution_count": 61,
   "id": "4e62f423",
   "metadata": {},
   "outputs": [
    {
     "data": {
      "text/plain": [
       "array([ 3, 12])"
      ]
     },
     "execution_count": 61,
     "metadata": {},
     "output_type": "execute_result"
    }
   ],
   "source": [
    "# row sum of A\n",
    "np.einsum('ij -> i', A)"
   ]
  },
  {
   "cell_type": "code",
   "execution_count": 66,
   "id": "d373ded6",
   "metadata": {},
   "outputs": [
    {
     "data": {
      "text/plain": [
       "array([[ 8],\n",
       "       [26]])"
      ]
     },
     "execution_count": 66,
     "metadata": {},
     "output_type": "execute_result"
    }
   ],
   "source": [
    "# multiply A with x^T\n",
    "np.einsum('ij, kj -> ik', A, x)"
   ]
  },
  {
   "cell_type": "code",
   "execution_count": 71,
   "id": "e5c5b443",
   "metadata": {},
   "outputs": [
    {
     "data": {
      "text/plain": [
       "array([[ 5, 14],\n",
       "       [14, 50]])"
      ]
     },
     "execution_count": 71,
     "metadata": {},
     "output_type": "execute_result"
    }
   ],
   "source": [
    "# multiply A with A^T\n",
    "np.einsum('ij, kj -> ik', A, A)\n",
    "\n",
    "# A @ A.transpose()"
   ]
  },
  {
   "cell_type": "code",
   "execution_count": 72,
   "id": "4d583f54",
   "metadata": {},
   "outputs": [
    {
     "data": {
      "text/plain": [
       "5"
      ]
     },
     "execution_count": 72,
     "metadata": {},
     "output_type": "execute_result"
    }
   ],
   "source": [
    "# dot product first row with first row of matrix \n",
    "np.einsum('i,i', A[0], A[0])"
   ]
  },
  {
   "cell_type": "code",
   "execution_count": 79,
   "id": "95e52459",
   "metadata": {},
   "outputs": [
    {
     "data": {
      "text/plain": [
       "55"
      ]
     },
     "metadata": {},
     "output_type": "display_data"
    },
    {
     "data": {
      "text/plain": [
       "True"
      ]
     },
     "execution_count": 79,
     "metadata": {},
     "output_type": "execute_result"
    }
   ],
   "source": [
    "# dot product with matrix \n",
    "display(np.einsum('ij, ij->', A, A))\n",
    "\n",
    "np.einsum('ij, ij->', A, A) == (np.linalg.norm(A, ord = 'fro'))**2"
   ]
  },
  {
   "cell_type": "code",
   "execution_count": 83,
   "id": "fac01908",
   "metadata": {},
   "outputs": [
    {
     "data": {
      "text/plain": [
       "array([[ 4,  5,  6,  7],\n",
       "       [ 8, 10, 12, 14],\n",
       "       [12, 15, 18, 21]])"
      ]
     },
     "execution_count": 83,
     "metadata": {},
     "output_type": "execute_result"
    }
   ],
   "source": [
    "# outer product\n",
    "a = np.array([1,2,3])\n",
    "b = np.array([4,5,6,7])\n",
    "np.einsum('i,j -> ij', a, b)"
   ]
  },
  {
   "cell_type": "code",
   "execution_count": 87,
   "id": "91a0e941",
   "metadata": {},
   "outputs": [
    {
     "data": {
      "text/plain": [
       "array([[[2.50021717, 1.99245007, 1.59014343],\n",
       "        [1.49386101, 1.17066172, 0.8330688 ]],\n",
       "\n",
       "       [[1.37229032, 1.74985941, 1.23733016],\n",
       "        [1.36897924, 1.84563394, 1.19644313]],\n",
       "\n",
       "       [[1.03043444, 2.3159234 , 1.71590156],\n",
       "        [0.38810691, 0.98205419, 0.7159932 ]]])"
      ]
     },
     "execution_count": 87,
     "metadata": {},
     "output_type": "execute_result"
    }
   ],
   "source": [
    "# Batch Matrix Multiplication\n",
    "a = np.random.rand(3,2,5)\n",
    "b = np.random.rand(3,5,3)\n",
    "np.einsum('ijk, ikl-> ijl', a, b)"
   ]
  },
  {
   "cell_type": "code",
   "execution_count": 90,
   "id": "ad3293ee",
   "metadata": {},
   "outputs": [
    {
     "data": {
      "text/plain": [
       "array([0.56823804, 0.30348305, 0.68553907])"
      ]
     },
     "execution_count": 90,
     "metadata": {},
     "output_type": "execute_result"
    }
   ],
   "source": [
    "# Matrix Diagonal \n",
    "c = np.random.rand(3,3)\n",
    "np.einsum('ii -> i', c)"
   ]
  },
  {
   "cell_type": "code",
   "execution_count": 91,
   "id": "1db309ac",
   "metadata": {},
   "outputs": [
    {
     "data": {
      "text/plain": [
       "1.5572601602162233"
      ]
     },
     "execution_count": 91,
     "metadata": {},
     "output_type": "execute_result"
    }
   ],
   "source": [
    "# Matrix Trace\n",
    "np.einsum('ii ->', c)"
   ]
  },
  {
   "cell_type": "markdown",
   "id": "4862a228",
   "metadata": {},
   "source": [
    "# Exercises from ROCKTÄSCHEL"
   ]
  },
  {
   "cell_type": "code",
   "execution_count": 102,
   "id": "fa984566",
   "metadata": {},
   "outputs": [
    {
     "data": {
      "text/plain": [
       "array([[0, 1, 2],\n",
       "       [3, 4, 5]])"
      ]
     },
     "metadata": {},
     "output_type": "display_data"
    },
    {
     "data": {
      "text/plain": [
       "array([[0, 3],\n",
       "       [1, 4],\n",
       "       [2, 5]])"
      ]
     },
     "execution_count": 102,
     "metadata": {},
     "output_type": "execute_result"
    }
   ],
   "source": [
    "# matrix transpose\n",
    "a = np.arange(6).reshape(2, 3)\n",
    "display(a)\n",
    "np.einsum('ij->ji', a)"
   ]
  },
  {
   "cell_type": "code",
   "execution_count": 103,
   "id": "b57faa32",
   "metadata": {},
   "outputs": [
    {
     "data": {
      "text/plain": [
       "15"
      ]
     },
     "execution_count": 103,
     "metadata": {},
     "output_type": "execute_result"
    }
   ],
   "source": [
    "np.einsum('ij->', a)"
   ]
  },
  {
   "cell_type": "code",
   "execution_count": 3,
   "id": "a7f7ff1c",
   "metadata": {},
   "outputs": [],
   "source": [
    "import numpy as np"
   ]
  },
  {
   "cell_type": "code",
   "execution_count": 12,
   "id": "c5bf8bb4",
   "metadata": {},
   "outputs": [
    {
     "data": {
      "text/plain": [
       "array([1., 1., 1., ..., 1., 1., 1.])"
      ]
     },
     "execution_count": 12,
     "metadata": {},
     "output_type": "execute_result"
    }
   ],
   "source": [
    "np.ones(2**34)"
   ]
  },
  {
   "cell_type": "code",
   "execution_count": 13,
   "id": "920ecc8a",
   "metadata": {},
   "outputs": [
    {
     "data": {
      "text/plain": [
       "17179869184"
      ]
     },
     "execution_count": 13,
     "metadata": {},
     "output_type": "execute_result"
    }
   ],
   "source": [
    "2**34"
   ]
  },
  {
   "cell_type": "code",
   "execution_count": 14,
   "id": "c6e47d91",
   "metadata": {},
   "outputs": [
    {
     "data": {
      "text/plain": [
       "1267650600228229401496703205376"
      ]
     },
     "execution_count": 14,
     "metadata": {},
     "output_type": "execute_result"
    }
   ],
   "source": [
    "2**100"
   ]
  },
  {
   "cell_type": "code",
   "execution_count": null,
   "id": "438c3d44",
   "metadata": {},
   "outputs": [],
   "source": []
  }
 ],
 "metadata": {
  "kernelspec": {
   "display_name": "Python 3 (ipykernel)",
   "language": "python",
   "name": "python3"
  },
  "language_info": {
   "codemirror_mode": {
    "name": "ipython",
    "version": 3
   },
   "file_extension": ".py",
   "mimetype": "text/x-python",
   "name": "python",
   "nbconvert_exporter": "python",
   "pygments_lexer": "ipython3",
   "version": "3.11.7"
  }
 },
 "nbformat": 4,
 "nbformat_minor": 5
}
