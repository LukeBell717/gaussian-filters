{
 "cells": [
  {
   "cell_type": "code",
   "execution_count": 1,
   "id": "9714fa88",
   "metadata": {},
   "outputs": [],
   "source": [
    "using ITensors\n",
    "ITensors.compile\n",
    "using Plots \n",
    "using GR"
   ]
  },
  {
   "cell_type": "code",
   "execution_count": 2,
   "id": "9fb7f743",
   "metadata": {},
   "outputs": [],
   "source": [
    "# we define global lattice data structure such that MPOs share indicies\n",
    "N=4    \n",
    "\n",
    "# assign N ℂ^2 vector spaces \n",
    "lat = siteinds(\"S=1/2\", N);"
   ]
  },
  {
   "cell_type": "code",
   "execution_count": 3,
   "id": "9e69ebbe",
   "metadata": {},
   "outputs": [
    {
     "data": {
      "text/plain": [
       "Πuu (generic function with 1 method)"
      ]
     },
     "execution_count": 3,
     "metadata": {},
     "output_type": "execute_result"
    }
   ],
   "source": [
    "function Πuu(i::Int64)#, N::Int64) \n",
    "    # s=1; ms=1 quantum numbers\n",
    "    # states span (i, i+1) sites \n",
    "    opsum = OpSum()\n",
    "    add!(opsum,\"ProjUp\",i,\"ProjUp\",mod(i,N)+1)\n",
    "    return MPO(opsum,lat)\n",
    "end"
   ]
  },
  {
   "cell_type": "code",
   "execution_count": 4,
   "id": "f046c38f",
   "metadata": {},
   "outputs": [
    {
     "data": {
      "text/plain": [
       "Π10 (generic function with 1 method)"
      ]
     },
     "execution_count": 4,
     "metadata": {},
     "output_type": "execute_result"
    }
   ],
   "source": [
    "function Π10(i::Int64)#, N::Int64) \n",
    "    # s=1; ms=0 quantum numbers\n",
    "    # states span (i, i+1) sites \n",
    "    opsum = OpSum()\n",
    "    add!(opsum,\"ProjUp\",i,\"ProjDn\",mod(i,N)+1)\n",
    "    opsum += (\"ProjDn\",i,\"ProjUp\",mod(i,N)+1)\n",
    "    opsum += (\"S+\",i,\"S-\",mod(i,N)+1) # cross terms\n",
    "    opsum += (\"S-\",i,\"S+\",mod(i,N)+1) # cross terms\n",
    "    return MPO(opsum,lat)\n",
    "end"
   ]
  },
  {
   "cell_type": "code",
   "execution_count": 5,
   "id": "5e8e75d2",
   "metadata": {},
   "outputs": [
    {
     "data": {
      "text/plain": [
       "Πdd (generic function with 1 method)"
      ]
     },
     "execution_count": 5,
     "metadata": {},
     "output_type": "execute_result"
    }
   ],
   "source": [
    "function Πdd(i::Int64)#, N::Int64) \n",
    "    # s=1; ms=-1 quantum numbers\n",
    "    # states span (i, i+1) sites \n",
    "    opsum = OpSum()\n",
    "    add!(opsum,\"ProjDn\",i,\"ProjDn\",mod(i,N)+1)\n",
    "    return MPO(opsum,lat)\n",
    "end"
   ]
  },
  {
   "cell_type": "code",
   "execution_count": 6,
   "id": "fd880403",
   "metadata": {},
   "outputs": [
    {
     "data": {
      "text/plain": [
       "Π00 (generic function with 1 method)"
      ]
     },
     "execution_count": 6,
     "metadata": {},
     "output_type": "execute_result"
    }
   ],
   "source": [
    "function Π00(i::Int64)# , N::Int64) \n",
    "    # s=0; ms=0 quantum numbers: singlet\n",
    "    # states span (i, i+1) sites \n",
    "    opsum = OpSum()\n",
    "    add!(opsum,\"ProjUp\",i,\"ProjDn\",mod(i,N)+1)\n",
    "    opsum += (\"ProjDn\",i,\"ProjUp\",mod(i,N)+1)\n",
    "    opsum -= (\"S+\",i,\"S-\",mod(i,N)+1) # cross terms\n",
    "    opsum -= (\"S-\",i,\"S+\",mod(i,N)+1) # cross terms\n",
    "    return MPO(opsum,lat) \n",
    "end"
   ]
  },
  {
   "cell_type": "code",
   "execution_count": 7,
   "id": "51aa98d5",
   "metadata": {},
   "outputs": [
    {
     "data": {
      "text/plain": [
       "Π (generic function with 1 method)"
      ]
     },
     "execution_count": 7,
     "metadata": {},
     "output_type": "execute_result"
    }
   ],
   "source": [
    "function Π(i,s,m)\n",
    "    if s==1 && m==1\n",
    "        return Πuu(i)\n",
    "    elseif s==1 && m==0\n",
    "        return Π10(i)\n",
    "    elseif s==1 && m==-1\n",
    "        return Πdd(i)\n",
    "    elseif s==0 && m==0\n",
    "        return Π00(i)\n",
    "    end\n",
    "end"
   ]
  },
  {
   "cell_type": "code",
   "execution_count": 8,
   "id": "f12ffbba",
   "metadata": {},
   "outputs": [
    {
     "data": {
      "text/plain": [
       "Π (generic function with 1 method)"
      ]
     },
     "execution_count": 8,
     "metadata": {},
     "output_type": "execute_result"
    }
   ],
   "source": [
    "function Π(i,s,m)\n",
    "    if s==1 && m==1\n",
    "        return Πuu(i)\n",
    "    elseif s==1 && m==0\n",
    "        return Π10(i)\n",
    "    elseif s==1 && m==-1\n",
    "        return Πdd(i)\n",
    "    elseif s==0 && m==0\n",
    "        return Π00(i)\n",
    "    end\n",
    "end"
   ]
  },
  {
   "cell_type": "code",
   "execution_count": 9,
   "id": "4b60a7c8",
   "metadata": {},
   "outputs": [
    {
     "name": "stdout",
     "output_type": "stream",
     "text": [
      "1\t1\t(0, 0)\n",
      "1\t2\t(1, 0)\n",
      "1\t3\t(1, 1)\n",
      "1\t4\t(1, -1)\n",
      "2\t1\t(0, 0)\n",
      "2\t2\t(1, 0)\n",
      "2\t3\t(1, 1)\n",
      "2\t4\t(1, -1)\n",
      "3\t1\t(0, 0)\n",
      "3\t2\t(1, 0)\n",
      "3\t3\t(1, 1)\n",
      "3\t4\t(1, -1)\n",
      "4\t1\t(0, 0)\n",
      "4\t2\t(1, 0)\n",
      "4\t3\t(1, 1)\n",
      "4\t4\t(1, -1)\n"
     ]
    }
   ],
   "source": [
    "operators = Array{Any}(nothing, 2^N)\n",
    "sm = [(0,0),(1,0),(1,1),(1,-1)]\n",
    "for n = 1:2^N\n",
    "    i = div(n-1,N) + 1\n",
    "    r = rem(n-1,N) + 1\n",
    "    operators[n] = Π(i,sm[r][1],sm[r][2])\n",
    "    print(i,'\\t',r,'\\t',sm[r],'\\n')\n",
    "end"
   ]
  },
  {
   "cell_type": "code",
   "execution_count": 11,
   "id": "e65e7d52",
   "metadata": {},
   "outputs": [
    {
     "name": "stdout",
     "output_type": "stream",
     "text": [
      "2.195711598545798e-16\n",
      "16.0\n",
      "4.7874356540981414e-15\n",
      "3.546046371670331e-16\n",
      "1.3078184159238113e-15\n",
      "16.0\n",
      "3.546046371670331e-16\n",
      "1.3078184159238113e-15\n",
      "4.0000000000000036\n",
      "0.0\n",
      "4.000000000000002\n"
     ]
    }
   ],
   "source": [
    "println(tr(apply(operators[3], operators[8];)))\n",
    "for i=1:4\n",
    "    for j=i:4\n",
    "        println(tr(apply(operators[i], operators[j];)))\n",
    "    end\n",
    "end"
   ]
  },
  {
   "cell_type": "code",
   "execution_count": null,
   "id": "75be7a89",
   "metadata": {},
   "outputs": [],
   "source": []
  }
 ],
 "metadata": {
  "kernelspec": {
   "display_name": "Julia 1.10.1",
   "language": "julia",
   "name": "julia-1.10"
  },
  "language_info": {
   "file_extension": ".jl",
   "mimetype": "application/julia",
   "name": "julia",
   "version": "1.10.1"
  }
 },
 "nbformat": 4,
 "nbformat_minor": 5
}
