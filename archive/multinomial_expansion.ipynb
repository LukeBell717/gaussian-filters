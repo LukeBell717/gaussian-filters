{
 "cells": [
  {
   "cell_type": "code",
   "execution_count": 23,
   "id": "5b41a076",
   "metadata": {},
   "outputs": [],
   "source": [
    "from sympy import *"
   ]
  },
  {
   "cell_type": "code",
   "execution_count": 34,
   "id": "3d57aaa6",
   "metadata": {},
   "outputs": [],
   "source": [
    "A,B,C,D,E,F,G = symbols('A, B, C, D, E, E, G', commutative = False)"
   ]
  },
  {
   "cell_type": "code",
   "execution_count": 35,
   "id": "fb9bc872",
   "metadata": {},
   "outputs": [
    {
     "data": {
      "text/latex": [
       "$\\displaystyle A B + A C + A^{2} + B A + B C + B^{2} + C A + C B + C^{2}$"
      ],
      "text/plain": [
       "A*B + A*C + A**2 + B*A + B*C + B**2 + C*A + C*B + C**2"
      ]
     },
     "execution_count": 35,
     "metadata": {},
     "output_type": "execute_result"
    }
   ],
   "source": [
    "((A + B + C)**2).expand()"
   ]
  },
  {
   "cell_type": "code",
   "execution_count": null,
   "id": "962128d3",
   "metadata": {},
   "outputs": [],
   "source": []
  }
 ],
 "metadata": {
  "kernelspec": {
   "display_name": "Python 3 (ipykernel)",
   "language": "python",
   "name": "python3"
  },
  "language_info": {
   "codemirror_mode": {
    "name": "ipython",
    "version": 3
   },
   "file_extension": ".py",
   "mimetype": "text/x-python",
   "name": "python",
   "nbconvert_exporter": "python",
   "pygments_lexer": "ipython3",
   "version": "3.11.7"
  }
 },
 "nbformat": 4,
 "nbformat_minor": 5
}
