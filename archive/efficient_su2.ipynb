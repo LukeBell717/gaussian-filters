{
 "cells": [
  {
   "cell_type": "code",
   "execution_count": 1,
   "id": "85ca6dcf",
   "metadata": {},
   "outputs": [
    {
     "name": "stderr",
     "output_type": "stream",
     "text": [
      "C:\\Users\\luked\\AppData\\Local\\Temp\\ipykernel_24408\\2659120522.py:2: DeprecationWarning: ``qiskit.algorithms`` has been migrated to an independent package: https://github.com/qiskit-community/qiskit-algorithms. The ``qiskit.algorithms`` import path is deprecated as of qiskit-terra 0.25.0 and will be removed no earlier than 3 months after the release date. Please run ``pip install qiskit_algorithms`` and use ``import qiskit_algorithms`` instead.\n",
      "  from qiskit.algorithms import VQE\n",
      "C:\\Users\\luked\\AppData\\Local\\Temp\\ipykernel_24408\\2659120522.py:7: DeprecationWarning: The class ``qiskit.opflow.list_ops.summed_op.SummedOp`` is deprecated as of qiskit-terra 0.24.0. It will be removed no earlier than 3 months after the release date. For code migration guidelines, visit https://qisk.it/opflow_migration.\n",
      "  hamiltonian = SummedOp([X ^ X, Y ^ Y, Z ^ Z])\n",
      "C:\\Users\\luked\\AppData\\Local\\Temp\\ipykernel_24408\\2659120522.py:16: DeprecationWarning: The class ``qiskit.algorithms.minimum_eigen_solvers.vqe.VQE`` is deprecated as of qiskit-terra 0.24.0. It will be removed no earlier than 3 months after the release date. Instead, use the class ``qiskit.algorithms.minimum_eigensolvers.VQE``. See https://qisk.it/algo_migration for a migration guide.\n",
      "  vqe = VQE(hamiltonian, var_form, optimizer=None, quantum_instance=backend)\n"
     ]
    },
    {
     "ename": "TypeError",
     "evalue": "__init__() got multiple values for argument 'optimizer'",
     "output_type": "error",
     "traceback": [
      "\u001b[1;31m---------------------------------------------------------------------------\u001b[0m",
      "\u001b[1;31mTypeError\u001b[0m                                 Traceback (most recent call last)",
      "Input \u001b[1;32mIn [1]\u001b[0m, in \u001b[0;36m<cell line: 16>\u001b[1;34m()\u001b[0m\n\u001b[0;32m     13\u001b[0m backend \u001b[38;5;241m=\u001b[39m Aer\u001b[38;5;241m.\u001b[39mget_backend(\u001b[38;5;124m'\u001b[39m\u001b[38;5;124mstatevector_simulator\u001b[39m\u001b[38;5;124m'\u001b[39m)\n\u001b[0;32m     15\u001b[0m \u001b[38;5;66;03m# Run VQE\u001b[39;00m\n\u001b[1;32m---> 16\u001b[0m vqe \u001b[38;5;241m=\u001b[39m \u001b[43mVQE\u001b[49m\u001b[43m(\u001b[49m\u001b[43mhamiltonian\u001b[49m\u001b[43m,\u001b[49m\u001b[43m \u001b[49m\u001b[43mvar_form\u001b[49m\u001b[43m,\u001b[49m\u001b[43m \u001b[49m\u001b[43moptimizer\u001b[49m\u001b[38;5;241;43m=\u001b[39;49m\u001b[38;5;28;43;01mNone\u001b[39;49;00m\u001b[43m,\u001b[49m\u001b[43m \u001b[49m\u001b[43mquantum_instance\u001b[49m\u001b[38;5;241;43m=\u001b[39;49m\u001b[43mbackend\u001b[49m\u001b[43m)\u001b[49m\n\u001b[0;32m     17\u001b[0m result \u001b[38;5;241m=\u001b[39m vqe\u001b[38;5;241m.\u001b[39mrun()\n\u001b[0;32m     19\u001b[0m \u001b[38;5;28mprint\u001b[39m(\u001b[38;5;124m\"\u001b[39m\u001b[38;5;124mVQE Ground State Energy:\u001b[39m\u001b[38;5;124m\"\u001b[39m, result\u001b[38;5;241m.\u001b[39moptimal_value)\n",
      "File \u001b[1;32m~\\anaconda3\\lib\\site-packages\\qiskit\\utils\\deprecation.py:95\u001b[0m, in \u001b[0;36mdeprecate_func.<locals>.decorator.<locals>.wrapper\u001b[1;34m(*args, **kwargs)\u001b[0m\n\u001b[0;32m     92\u001b[0m \u001b[38;5;129m@functools\u001b[39m\u001b[38;5;241m.\u001b[39mwraps(func)\n\u001b[0;32m     93\u001b[0m \u001b[38;5;28;01mdef\u001b[39;00m \u001b[38;5;21mwrapper\u001b[39m(\u001b[38;5;241m*\u001b[39margs, \u001b[38;5;241m*\u001b[39m\u001b[38;5;241m*\u001b[39mkwargs):\n\u001b[0;32m     94\u001b[0m     warnings\u001b[38;5;241m.\u001b[39mwarn(msg, category\u001b[38;5;241m=\u001b[39mcategory, stacklevel\u001b[38;5;241m=\u001b[39m\u001b[38;5;241m2\u001b[39m)\n\u001b[1;32m---> 95\u001b[0m     \u001b[38;5;28;01mreturn\u001b[39;00m func(\u001b[38;5;241m*\u001b[39margs, \u001b[38;5;241m*\u001b[39m\u001b[38;5;241m*\u001b[39mkwargs)\n",
      "\u001b[1;31mTypeError\u001b[0m: __init__() got multiple values for argument 'optimizer'"
     ]
    }
   ],
   "source": [
    "from qiskit import Aer\n",
    "from qiskit.algorithms import VQE\n",
    "from qiskit.circuit.library import TwoLocal\n",
    "from qiskit.opflow import X, Y, Z, I, SummedOp\n",
    "\n",
    "# Define the Hamiltonian\n",
    "hamiltonian = SummedOp([X ^ X, Y ^ Y, Z ^ Z])\n",
    "\n",
    "# Choose a variational form\n",
    "var_form = TwoLocal(hamiltonian.num_qubits, ['ry', 'rz'], 'cz', entanglement='linear')\n",
    "\n",
    "# Use the Aer simulator backend\n",
    "backend = Aer.get_backend('statevector_simulator')\n",
    "\n",
    "# Run VQE\n",
    "vqe = VQE(hamiltonian, var_form, optimizer=None, quantum_instance=backend)\n",
    "result = vqe.run()\n",
    "\n",
    "print(\"VQE Ground State Energy:\", result.optimal_value)\n",
    "print(\"VQE Ground State:\", result.optimal_point)\n"
   ]
  },
  {
   "cell_type": "code",
   "execution_count": 4,
   "id": "53d899d9",
   "metadata": {},
   "outputs": [
    {
     "name": "stdout",
     "output_type": "stream",
     "text": [
      "NUMPY eig [-0.39328755+5.92434709e-18j -0.89      +6.67145251e-17j\n",
      " -1.11      -5.23468782e-18j -1.60671245-7.43430782e-17j]\n",
      "VQE eig -1.6067122688029105\n",
      "        ┌───┐                                       ┌──────────┐┌─┐   \n",
      "q_0: ───┤ H ├───────────■───────────────────────────┤1         ├┤M├───\n",
      "        ├───┤           │                           │  IQFT_dg │└╥┘┌─┐\n",
      "q_1: ───┤ H ├───────────┼─────────────────■─────────┤0         ├─╫─┤M├\n",
      "     ┌──┴───┴──┐┌───────┴────────┐┌───────┴────────┐└──────────┘ ║ └╥┘\n",
      "q_2: ┤ U2(0,π) ├┤0               ├┤0               ├─────────────╫──╫─\n",
      "     ├─────────┤│  hamiltonian^1 ││  hamiltonian^2 │             ║  ║ \n",
      "q_3: ┤ U2(0,π) ├┤1               ├┤1               ├─────────────╫──╫─\n",
      "     └─────────┘└────────────────┘└────────────────┘             ║  ║ \n",
      "c: 2/════════════════════════════════════════════════════════════╩══╩═\n",
      "                                                                 0  1 \n",
      "{'10': 8188, '00': 1172, '01': 347, '11': 293}\n",
      "MAX count: ('10', 8188)\n",
      "Theta value: 0.25\n",
      "QPE-approximated U-eigenvalue: (6.123233995736766e-17+1j)\n",
      "QPE-approximated H-eigenvalue: -1.5707963267948966\n"
     ]
    }
   ],
   "source": [
    "import numpy as np\n",
    "from qiskit import QuantumCircuit, execute\n",
    "from qiskit.algorithms.minimum_eigensolvers import VQE\n",
    "from qiskit.algorithms.optimizers import SLSQP\n",
    "from qiskit.circuit.library import PhaseEstimation, TwoLocal\n",
    "from qiskit.extensions import HamiltonianGate\n",
    "from qiskit.primitives import Estimator\n",
    "from qiskit.quantum_info import SparsePauliOp\n",
    "from qiskit_aer import AerSimulator\n",
    "\n",
    "H = SparsePauliOp.from_list([('II', -1), ('IZ', 0.3), ('XI', -0.3), ('ZY', -0.01), ('YX', 0.1)])\n",
    "Hmat = H.to_matrix()\n",
    "\n",
    "eig = np.linalg.eigvals(Hmat)\n",
    "print('NUMPY eig',eig)\n",
    "\n",
    "estimator = Estimator()\n",
    "optimizer = SLSQP()\n",
    "ansatz = TwoLocal(rotation_blocks=['ry', 'rz'], entanglement_blocks='cz')\n",
    "\n",
    "vqe = VQE(estimator, ansatz, optimizer)\n",
    "result = vqe.compute_minimum_eigenvalue(operator=H)\n",
    "print('VQE eig', result.eigenvalue)\n",
    "\n",
    "n_qpe_qbits = 2\n",
    "\n",
    "U = HamiltonianGate(Hmat, 1, label='H')\n",
    "\n",
    "# Obtain a solution via QPE\n",
    "total_qbits = U.num_qubits + n_qpe_qbits\n",
    "measure_circ = QuantumCircuit(total_qbits, n_qpe_qbits)\n",
    "measure_circ.h([-1, -2])\n",
    "\n",
    "qpe = PhaseEstimation(n_qpe_qbits, U)\n",
    "\n",
    "measure_circ = measure_circ.compose(qpe)\n",
    "measure_circ.measure(range(n_qpe_qbits), range(n_qpe_qbits))\n",
    "print(measure_circ.decompose())\n",
    "\n",
    "backend = AerSimulator(method='statevector')\n",
    "job = execute(measure_circ, backend, shots=10000)\n",
    "counts = job.result().get_counts()\n",
    "print(counts)\n",
    "\n",
    "max_count = max(counts.items(), key=lambda x: x[1])\n",
    "print(f'MAX count: {max_count}')\n",
    "\n",
    "theta = int(max_count[0][::-1], 2) / 2**n_qpe_qbits\n",
    "print(f'Theta value: {theta}')\n",
    "print(f'QPE-approximated U-eigenvalue: {np.exp(2*1j*np.pi * theta)}')\n",
    "print(f'QPE-approximated H-eigenvalue: {-2 * np.pi * theta}')"
   ]
  },
  {
   "cell_type": "code",
   "execution_count": null,
   "id": "f299896c",
   "metadata": {},
   "outputs": [],
   "source": []
  }
 ],
 "metadata": {
  "kernelspec": {
   "display_name": "Python 3 (ipykernel)",
   "language": "python",
   "name": "python3"
  },
  "language_info": {
   "codemirror_mode": {
    "name": "ipython",
    "version": 3
   },
   "file_extension": ".py",
   "mimetype": "text/x-python",
   "name": "python",
   "nbconvert_exporter": "python",
   "pygments_lexer": "ipython3",
   "version": "3.9.12"
  },
  "varInspector": {
   "cols": {
    "lenName": 16,
    "lenType": 16,
    "lenVar": 40
   },
   "kernels_config": {
    "python": {
     "delete_cmd_postfix": "",
     "delete_cmd_prefix": "del ",
     "library": "var_list.py",
     "varRefreshCmd": "print(var_dic_list())"
    },
    "r": {
     "delete_cmd_postfix": ") ",
     "delete_cmd_prefix": "rm(",
     "library": "var_list.r",
     "varRefreshCmd": "cat(var_dic_list()) "
    }
   },
   "types_to_exclude": [
    "module",
    "function",
    "builtin_function_or_method",
    "instance",
    "_Feature"
   ],
   "window_display": false
  }
 },
 "nbformat": 4,
 "nbformat_minor": 5
}
