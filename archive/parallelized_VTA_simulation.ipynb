{
 "cells": [
  {
   "cell_type": "code",
   "execution_count": 27,
   "id": "fd79be4e",
   "metadata": {},
   "outputs": [],
   "source": [
    "using LinearAlgebra\n",
    "using Distributed\n",
    "using NPZ\n",
    "using JSON"
   ]
  },
  {
   "cell_type": "code",
   "execution_count": 2,
   "id": "08fdc8b2",
   "metadata": {},
   "outputs": [
    {
     "name": "stdout",
     "output_type": "stream",
     "text": [
      "Current worker IDs: [2, 3, 4, 5]\n",
      "Number of workers running: 4\n"
     ]
    }
   ],
   "source": [
    "# Add some workers for demonstration purposes\n",
    "addprocs(4)\n",
    "\n",
    "# Get the list of worker IDs\n",
    "worker_ids = workers()\n",
    "\n",
    "# Display the worker IDs\n",
    "println(\"Current worker IDs: \", worker_ids)\n",
    "\n",
    "# Count the number of workers\n",
    "num_workers = length(worker_ids)\n",
    "println(\"Number of workers running: \", num_workers)"
   ]
  },
  {
   "cell_type": "markdown",
   "id": "4d085e81",
   "metadata": {},
   "source": [
    "# Simple @everywhere examples"
   ]
  },
  {
   "cell_type": "code",
   "execution_count": 3,
   "id": "0d7c927d",
   "metadata": {},
   "outputs": [],
   "source": [
    "@everywhere begin\n",
    "    # A simple function that squares its input\n",
    "    square(x) = x^2\n",
    "    \n",
    "    # A variable for demonstration\n",
    "    worker_id = myid()\n",
    "end\n"
   ]
  },
  {
   "cell_type": "code",
   "execution_count": 4,
   "id": "1a10b3f9",
   "metadata": {},
   "outputs": [
    {
     "name": "stdout",
     "output_type": "stream",
     "text": [
      "[1, 4, 9, 16, 25, 36, 49, 64, 81, 100]\n"
     ]
    }
   ],
   "source": [
    "# Apply the square function to numbers 1 through 10 in parallel\n",
    "squared_numbers = pmap(square, 1:10)\n",
    "\n",
    "println(squared_numbers)"
   ]
  },
  {
   "cell_type": "code",
   "execution_count": 9,
   "id": "d60c61d0",
   "metadata": {},
   "outputs": [
    {
     "name": "stdout",
     "output_type": "stream",
     "text": [
      "2562548187973812224\n"
     ]
    }
   ],
   "source": [
    "# Parallel sum of squares from 1 to 10\n",
    "sum_of_squares = @distributed (*) for i = 1:30\n",
    "    square(i)\n",
    "end\n",
    "\n",
    "println(sum_of_squares)"
   ]
  },
  {
   "cell_type": "code",
   "execution_count": null,
   "id": "0922ba52",
   "metadata": {},
   "outputs": [],
   "source": []
  },
  {
   "cell_type": "markdown",
   "id": "8b6dcdaf",
   "metadata": {},
   "source": [
    "# Example of Quadruple For Loop"
   ]
  },
  {
   "cell_type": "code",
   "execution_count": 10,
   "id": "be5d6618",
   "metadata": {},
   "outputs": [],
   "source": [
    "using Distributed\n",
    "\n",
    "# Add workers if none are present\n",
    "if nprocs() == 1  # Only the main process is running\n",
    "    addprocs(4)  # Adjust this number based on your system's capabilities\n",
    "end\n",
    "\n",
    "@everywhere begin\n",
    "    # Define the computation performed at each iteration\n",
    "    function compute(i, j, k, l)\n",
    "        # Placeholder for a more complex operation\n",
    "        return i +j + k + l\n",
    "    end\n",
    "end\n"
   ]
  },
  {
   "cell_type": "code",
   "execution_count": 12,
   "id": "97088e55",
   "metadata": {},
   "outputs": [
    {
     "name": "stdout",
     "output_type": "stream",
     "text": [
      "Accumulated result: 20200000000\n"
     ]
    }
   ],
   "source": [
    "N = 100  # Define the size of the grid\n",
    "\n",
    "# Accumulate results in a parallelized manner\n",
    "results = @distributed (+) for i = 1:N\n",
    "    local_sum = 0  # Initialize a local accumulator\n",
    "    for j = 1:N\n",
    "        for k = 1:N\n",
    "            for l = 1:N\n",
    "                local_sum += compute(i, j, k, l)\n",
    "            end\n",
    "        end\n",
    "    end\n",
    "    local_sum  # This value is returned and reduced across workers\n",
    "end\n",
    "\n",
    "# The variable `results` now holds the accumulated result of the computation\n",
    "println(\"Accumulated result: \", results)"
   ]
  },
  {
   "cell_type": "markdown",
   "id": "425a2cf9",
   "metadata": {},
   "source": [
    "# Import from Python"
   ]
  },
  {
   "cell_type": "code",
   "execution_count": 54,
   "id": "2681245a",
   "metadata": {},
   "outputs": [],
   "source": [
    "path = pwd()*\"/four_site_data/\"\n",
    "\n",
    "spectra4 = JSON.parsefile(path*\"spectra4.json\")\n",
    "a = spectra4[1]\n",
    "b = spectra4[2]\n",
    "c = spectra4[3]\n",
    "d = spectra4[4]\n",
    "\n",
    "# Load the JSON file\n",
    "μ4_kets = JSON.parsefile(path*\"μ4_kets.json\")\n",
    "μ4_bras = JSON.parsefile(path*\"μ4_bras.json\")\n",
    "ν4_kets = JSON.parsefile(path*\"ν4_kets.json\")\n",
    "ν4_bras = JSON.parsefile(path*\"ν4_bras.json\")\n",
    ";"
   ]
  },
  {
   "cell_type": "code",
   "execution_count": null,
   "id": "046e1431",
   "metadata": {},
   "outputs": [],
   "source": []
  },
  {
   "cell_type": "code",
   "execution_count": null,
   "id": "6219323e",
   "metadata": {},
   "outputs": [],
   "source": []
  },
  {
   "cell_type": "code",
   "execution_count": null,
   "id": "857f1635",
   "metadata": {},
   "outputs": [],
   "source": []
  },
  {
   "cell_type": "code",
   "execution_count": null,
   "id": "0fa62576",
   "metadata": {},
   "outputs": [],
   "source": []
  },
  {
   "cell_type": "code",
   "execution_count": null,
   "id": "c7a131a4",
   "metadata": {},
   "outputs": [],
   "source": []
  },
  {
   "cell_type": "code",
   "execution_count": null,
   "id": "0516581c",
   "metadata": {},
   "outputs": [],
   "source": [
    "using Distributed\n",
    "addprocs(num_cores)  # Replace num_cores with the number of cores you want to use\n",
    "\n",
    "@everywhere begin\n",
    "  # Ensure all necessary functions, variables, and data are defined or loaded on all workers\n",
    "  include(\"your_definitions_file.jl\")  # If your functions and data are defined in a separate file\n",
    "end\n",
    "\n",
    "# If the result is a matrix, preallocate it. Adjust dimensions as necessary.\n",
    "result_matrix = SharedArray{ComplexF64}(16, 16)  # Assuming a 16x16 result matrix for this example\n",
    "\n",
    "@sync @distributed (+) for k3 = 1:length(d)\n",
    "  local_sum = zeros(ComplexF64, 16, 16)  # Local accumulator for each worker\n",
    "  for k2 = 1:length(c)\n",
    "    for k1 = 1:length(b)\n",
    "      for k0 = 1:length(a)\n",
    "        # Your computation here, e.g.,\n",
    "        contribution = W4_tensor[k0, k1, k2, k3] * (ν4_bras[k3]*μ4_kets[k2]) * (μ4_bras[k2]*ν4_kets[k1]) * (ν4_bras[k1]*μ4_kets[k0])\n",
    "        local_sum += contribution  # Accumulate the local sum\n",
    "      end\n",
    "    end\n",
    "  end\n",
    "  @atomic result_matrix += local_sum  # Atomically add the local sum to the shared result matrix\n",
    "end\n"
   ]
  },
  {
   "cell_type": "code",
   "execution_count": null,
   "id": "fec70975",
   "metadata": {},
   "outputs": [],
   "source": []
  },
  {
   "cell_type": "code",
   "execution_count": null,
   "id": "e3698d90",
   "metadata": {},
   "outputs": [],
   "source": []
  },
  {
   "cell_type": "code",
   "execution_count": null,
   "id": "dd7574d6",
   "metadata": {},
   "outputs": [],
   "source": []
  },
  {
   "cell_type": "code",
   "execution_count": null,
   "id": "d1df0715",
   "metadata": {},
   "outputs": [],
   "source": []
  }
 ],
 "metadata": {
  "kernelspec": {
   "display_name": "Julia 1.10.1",
   "language": "julia",
   "name": "julia-1.10"
  },
  "language_info": {
   "file_extension": ".jl",
   "mimetype": "application/julia",
   "name": "julia",
   "version": "1.10.1"
  }
 },
 "nbformat": 4,
 "nbformat_minor": 5
}
